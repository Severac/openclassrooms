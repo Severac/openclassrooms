{
 "cells": [
  {
   "cell_type": "markdown",
   "metadata": {
    "_cell_guid": "79c7e3d0-c299-4dcb-8224-4455121ee9b0",
    "_uuid": "d629ff2d2480ee46fbb7e2d37f6b5fab8052498a",
    "collapsed": true,
    "papermill": {
     "duration": 0.012276,
     "end_time": "2020-09-13T16:32:07.487540",
     "exception": false,
     "start_time": "2020-09-13T16:32:07.475264",
     "status": "completed"
    },
    "tags": []
   },
   "source": [
    "# Openclassrooms training PJ7 part 4 : automatic image indexing\n",
    "# Crop and save all images"
   ]
  },
  {
   "cell_type": "code",
   "execution_count": 1,
   "metadata": {
    "execution": {
     "iopub.execute_input": "2020-09-13T16:32:07.542325Z",
     "iopub.status.busy": "2020-09-13T16:32:07.541495Z",
     "iopub.status.idle": "2020-09-13T16:32:10.611789Z",
     "shell.execute_reply": "2020-09-13T16:32:10.610977Z"
    },
    "papermill": {
     "duration": 3.113936,
     "end_time": "2020-09-13T16:32:10.611916",
     "exception": false,
     "start_time": "2020-09-13T16:32:07.497980",
     "status": "completed"
    },
    "tags": []
   },
   "outputs": [],
   "source": [
    "%matplotlib inline\n",
    "\n",
    "#%load_ext autoreload  # Autoreload has a bug : when you modify function in source code and run again, python kernel hangs :(\n",
    "#%autoreload 2\n",
    "\n",
    "import datetime as dt\n",
    "\n",
    "import sys, importlib\n",
    "\n",
    "from functions_py import * # MODIFIED for kaggle (replaced by functions_py instead of functions)\n",
    "importlib.reload(sys.modules['functions_py']) # MODIFIED for kaggle\n",
    "\n",
    "#from display_factorial import *\n",
    "#importlib.reload(sys.modules['display_factorial'])\n",
    "\n",
    "import pandas as pd\n",
    "\n",
    "pd.set_option('display.max_rows', 200)\n",
    "pd.set_option('display.max_columns', 200)\n",
    "\n",
    "import datetime as dt\n",
    "\n",
    "import os\n",
    "import zipfile\n",
    "import urllib\n",
    "\n",
    "import matplotlib.pyplot as plt\n",
    "import pandas as pd\n",
    "import numpy as np    \n",
    "\n",
    "import ipywidgets as widgets\n",
    "\n",
    "import qgrid\n",
    "\n",
    "import glob\n",
    "\n",
    "from pandas.plotting import scatter_matrix\n",
    "\n",
    "from sklearn.model_selection import StratifiedShuffleSplit\n",
    "\n",
    "\n",
    "from sklearn.cluster import KMeans\n",
    "from sklearn.metrics import silhouette_score\n",
    "from sklearn.metrics import pairwise_distances\n",
    "\n",
    "from sklearn.metrics import precision_score\n",
    "from sklearn.metrics import recall_score\n",
    "from sklearn.metrics import accuracy_score\n",
    "from sklearn.metrics import f1_score\n",
    "\n",
    "from sklearn.metrics import classification_report\n",
    "\n",
    "from sklearn.metrics import confusion_matrix\n",
    "\n",
    "#from yellowbrick.classifier import ROCAUC\n",
    "from sklearn.metrics import roc_auc_score\n",
    "\n",
    "import codecs\n",
    "\n",
    "\n",
    "DATA_PATH = os.path.join(\"../input\", \"stanford-dogs-dataset\", \"images\") # Modified for kaggle\n",
    "DATA_PATH = os.path.join(DATA_PATH, \"Images\")\n",
    "\n",
    "\n",
    "DATA_PATH_FILE = os.path.join(DATA_PATH, \"*.csv\")\n",
    "ALL_FILES_LIST = glob.glob(DATA_PATH_FILE)\n",
    "\n",
    "ALL_FEATURES = []\n",
    "\n",
    "plt.rcParams[\"figure.figsize\"] = [16,9] # Taille par défaut des figures de matplotlib\n",
    "\n",
    "import seaborn as sns\n",
    "from seaborn import boxplot\n",
    "sns.set()\n",
    "\n",
    "#import common_functions\n",
    "\n",
    "####### Paramètres pour sauver et restaurer les modèles :\n",
    "import pickle\n",
    "####### Paramètres à changer par l'utilisateur selon son besoin :\n",
    "\n",
    "\n",
    "from sklearn.metrics import mean_squared_error\n",
    "from sklearn.metrics import mean_absolute_error\n",
    "\n",
    "\n",
    "### For progress bar :\n",
    "#from tqdm import tqdm_notebook as tqdm  #Please use `tqdm.notebook.tqdm` instead of `tqdm.tqdm_notebook`\n",
    "from tqdm.notebook import tqdm\n",
    "\n",
    "# Statsmodel : \n",
    "import statsmodels.formula.api as smf\n",
    "\n",
    "import statsmodels.api as sm\n",
    "from scipy import stats\n",
    "\n",
    "from sklearn.model_selection import train_test_split\n",
    "from sklearn.metrics import make_scorer"
   ]
  },
  {
   "cell_type": "code",
   "execution_count": 2,
   "metadata": {
    "execution": {
     "iopub.execute_input": "2020-09-13T16:32:10.645259Z",
     "iopub.status.busy": "2020-09-13T16:32:10.644205Z",
     "iopub.status.idle": "2020-09-13T16:32:10.647957Z",
     "shell.execute_reply": "2020-09-13T16:32:10.647201Z"
    },
    "papermill": {
     "duration": 0.025203,
     "end_time": "2020-09-13T16:32:10.648091",
     "exception": false,
     "start_time": "2020-09-13T16:32:10.622888",
     "status": "completed"
    },
    "tags": []
   },
   "outputs": [],
   "source": [
    "from sklearn import preprocessing"
   ]
  },
  {
   "cell_type": "code",
   "execution_count": 3,
   "metadata": {
    "execution": {
     "iopub.execute_input": "2020-09-13T16:32:10.675312Z",
     "iopub.status.busy": "2020-09-13T16:32:10.674336Z",
     "iopub.status.idle": "2020-09-13T16:32:10.677591Z",
     "shell.execute_reply": "2020-09-13T16:32:10.676812Z"
    },
    "papermill": {
     "duration": 0.018864,
     "end_time": "2020-09-13T16:32:10.677725",
     "exception": false,
     "start_time": "2020-09-13T16:32:10.658861",
     "status": "completed"
    },
    "tags": []
   },
   "outputs": [],
   "source": [
    "from PIL import Image\n",
    "from io import BytesIO"
   ]
  },
  {
   "cell_type": "code",
   "execution_count": 4,
   "metadata": {
    "execution": {
     "iopub.execute_input": "2020-09-13T16:32:10.708004Z",
     "iopub.status.busy": "2020-09-13T16:32:10.707055Z",
     "iopub.status.idle": "2020-09-13T16:32:16.776688Z",
     "shell.execute_reply": "2020-09-13T16:32:16.775353Z"
    },
    "papermill": {
     "duration": 6.08813,
     "end_time": "2020-09-13T16:32:16.776863",
     "exception": false,
     "start_time": "2020-09-13T16:32:10.688733",
     "status": "completed"
    },
    "tags": []
   },
   "outputs": [],
   "source": [
    "from keras.applications.vgg16 import VGG16\n",
    "from keras.layers import Dense\n",
    "\n",
    "\n",
    "from keras.models import Sequential\n",
    "from keras.layers import Conv2D, MaxPooling2D\n",
    "from keras.layers import Flatten\n",
    "\n",
    "from keras.preprocessing.image import load_img, img_to_array\n",
    "from keras.applications.vgg16 import preprocess_input\n",
    "\n",
    "from keras.applications.vgg16 import decode_predictions\n",
    "\n",
    "import keras"
   ]
  },
  {
   "cell_type": "code",
   "execution_count": 5,
   "metadata": {
    "execution": {
     "iopub.execute_input": "2020-09-13T16:32:16.835954Z",
     "iopub.status.busy": "2020-09-13T16:32:16.834673Z",
     "iopub.status.idle": "2020-09-13T16:32:16.843883Z",
     "shell.execute_reply": "2020-09-13T16:32:16.843155Z"
    },
    "papermill": {
     "duration": 0.052187,
     "end_time": "2020-09-13T16:32:16.844047",
     "exception": false,
     "start_time": "2020-09-13T16:32:16.791860",
     "status": "completed"
    },
    "tags": []
   },
   "outputs": [
    {
     "name": "stdout",
     "output_type": "stream",
     "text": [
      "py 3.7.6\n",
      "tf 2.3.0\n",
      "keras 2.4.0\n",
      "mem 19068.765625\n",
      "cpu 4\n"
     ]
    }
   ],
   "source": [
    "import os\n",
    "#os.environ[\"CUDA_VISIBLE_DEVICES\"] = \"\"\n",
    "#os.environ[\"AUTOGRAPH_VERBOSITY\"] = \"10\"\n",
    "#os.environ[\"TF_FORCE_GPU_ALLOW_GROWTH\"] = \"true\"\n",
    "\n",
    "from platform import python_version\n",
    "import warnings\n",
    "import time\n",
    "import datetime as dt\n",
    "from sklearn.metrics import classification_report, confusion_matrix\n",
    "import multiprocessing as mp\n",
    "import shutil\n",
    "\n",
    "import matplotlib.pyplot as plt\n",
    "import matplotlib.image as mpimg\n",
    "\n",
    "import tensorflow as tf\n",
    "from tensorflow.keras import backend as K\n",
    "from tensorflow.keras.preprocessing.image import ImageDataGenerator\n",
    "# from tensorflow.keras.applications.mobilenet_v2 import MobileNetV2, preprocess_input, decode_predictions\n",
    "from tensorflow.keras.applications.efficientnet import EfficientNetB0, preprocess_input, decode_predictions\n",
    "from tensorflow.keras.models import *\n",
    "from tensorflow.keras.layers import *\n",
    "from tensorflow.keras.optimizers import *\n",
    "from tensorflow.keras.utils import *\n",
    "from tensorflow.keras.callbacks import *\n",
    "from tensorflow.keras.initializers import *\n",
    "\n",
    "import pandas as pd\n",
    "import numpy as np\n",
    "import seaborn as sn\n",
    "\n",
    "from PIL import Image\n",
    "import xml.etree.ElementTree as ET\n",
    "import psutil\n",
    "import random\n",
    "\n",
    "warnings.filterwarnings(\"ignore\")\n",
    "%matplotlib inline\n",
    "\n",
    "print(\"py\", python_version())\n",
    "print(\"tf\", tf.__version__)\n",
    "print(\"keras\", tf.keras.__version__)\n",
    "mem = psutil.virtual_memory()\n",
    "print(\"mem\", mem.total/1024/1024)\n",
    "cpu = mp.cpu_count()\n",
    "print(\"cpu\", cpu)\n",
    "\n",
    "#%system nvidia-smi\n",
    "#%system rocm-smi"
   ]
  },
  {
   "cell_type": "code",
   "execution_count": 6,
   "metadata": {
    "execution": {
     "iopub.execute_input": "2020-09-13T16:32:16.874262Z",
     "iopub.status.busy": "2020-09-13T16:32:16.873127Z",
     "iopub.status.idle": "2020-09-13T16:32:16.876105Z",
     "shell.execute_reply": "2020-09-13T16:32:16.876725Z"
    },
    "papermill": {
     "duration": 0.020334,
     "end_time": "2020-09-13T16:32:16.876877",
     "exception": false,
     "start_time": "2020-09-13T16:32:16.856543",
     "status": "completed"
    },
    "tags": []
   },
   "outputs": [],
   "source": [
    "# Those variables must be consisten with what first notebook has been ran with\n",
    "NB_CLASSES = 120"
   ]
  },
  {
   "cell_type": "code",
   "execution_count": 7,
   "metadata": {
    "execution": {
     "iopub.execute_input": "2020-09-13T16:32:16.908016Z",
     "iopub.status.busy": "2020-09-13T16:32:16.906959Z",
     "iopub.status.idle": "2020-09-13T16:32:16.910711Z",
     "shell.execute_reply": "2020-09-13T16:32:16.909711Z"
    },
    "papermill": {
     "duration": 0.0218,
     "end_time": "2020-09-13T16:32:16.910875",
     "exception": false,
     "start_time": "2020-09-13T16:32:16.889075",
     "status": "completed"
    },
    "tags": []
   },
   "outputs": [],
   "source": [
    "# For cropping and loading of images: sourced from https://www.kaggle.com/devang/transfer-learning-with-keras-and-efficientnets"
   ]
  },
  {
   "cell_type": "code",
   "execution_count": 8,
   "metadata": {
    "execution": {
     "iopub.execute_input": "2020-09-13T16:32:16.948303Z",
     "iopub.status.busy": "2020-09-13T16:32:16.947270Z",
     "iopub.status.idle": "2020-09-13T16:32:16.950949Z",
     "shell.execute_reply": "2020-09-13T16:32:16.950193Z"
    },
    "papermill": {
     "duration": 0.025464,
     "end_time": "2020-09-13T16:32:16.951087",
     "exception": false,
     "start_time": "2020-09-13T16:32:16.925623",
     "status": "completed"
    },
    "tags": []
   },
   "outputs": [],
   "source": [
    "epochs = 100\n",
    "batch_size = 100\n",
    "testsplit = .2\n",
    "targetx = 224\n",
    "targety = 224\n",
    "learning_rate = 0.0001\n",
    "classes = 120\n",
    "seed = random.randint(1, 1000)\n",
    "\n",
    "data_dir = \"/kaggle/input/stanford-dogs-dataset/images/Images/\"\n",
    "annotations_dir = \"/kaggle/input/stanford-dogs-dataset/annotations/Annotation/\"\n",
    "cropped_dir = \"/kaggle/working/cropped/\""
   ]
  },
  {
   "cell_type": "markdown",
   "metadata": {
    "papermill": {
     "duration": 0.014092,
     "end_time": "2020-09-13T16:32:16.977641",
     "exception": false,
     "start_time": "2020-09-13T16:32:16.963549",
     "status": "completed"
    },
    "tags": []
   },
   "source": [
    "# Crop images using provided annotations"
   ]
  },
  {
   "cell_type": "code",
   "execution_count": 9,
   "metadata": {
    "execution": {
     "iopub.execute_input": "2020-09-13T16:32:17.044874Z",
     "iopub.status.busy": "2020-09-13T16:32:17.027501Z",
     "iopub.status.idle": "2020-09-13T16:36:23.723114Z",
     "shell.execute_reply": "2020-09-13T16:36:23.723950Z"
    },
    "papermill": {
     "duration": 246.733751,
     "end_time": "2020-09-13T16:36:23.724175",
     "exception": false,
     "start_time": "2020-09-13T16:32:16.990424",
     "status": "completed"
    },
    "tags": []
   },
   "outputs": [
    {
     "name": "stdout",
     "output_type": "stream",
     "text": [
      "breeds:  120 annotations:  120\n",
      "total images cropped 20580\n"
     ]
    }
   ],
   "source": [
    "%system rm -rf $cropped_dir\n",
    "%system mkdir $cropped_dir\n",
    "\n",
    "#this function adapted from https://www.kaggle.com/hengzheng/dog-breeds-classifier\n",
    "def save_cropped_img(path, annotation, newpath):\n",
    "    tree = ET.parse(annotation)\n",
    "    xmin = int(tree.getroot().findall('.//xmin')[0].text)\n",
    "    xmax = int(tree.getroot().findall('.//xmax')[0].text)\n",
    "    ymin = int(tree.getroot().findall('.//ymin')[0].text)\n",
    "    ymax = int(tree.getroot().findall('.//ymax')[0].text)\n",
    "    image = Image.open(path)\n",
    "    image = image.crop((xmin, ymin, xmax, ymax))\n",
    "    image = image.convert('RGB')\n",
    "    image.save(newpath)\n",
    "\n",
    "def crop_images():\n",
    "    breeds = os.listdir(data_dir)\n",
    "    annotations = os.listdir(annotations_dir)\n",
    "\n",
    "    print('breeds: ', len(breeds), 'annotations: ', len(annotations))\n",
    "\n",
    "    total_images = 0\n",
    "\n",
    "    for breed in breeds:\n",
    "        dir_list = os.listdir(data_dir + breed)\n",
    "        annotations_dir_list = os.listdir(annotations_dir + breed)\n",
    "        img_list = [data_dir + breed + '/' + i for i in dir_list]\n",
    "        os.makedirs(cropped_dir + breed)\n",
    "\n",
    "        for file in img_list:\n",
    "            annotation_path = annotations_dir + breed + '/' + os.path.basename(file[:-4])\n",
    "            newpath = cropped_dir + breed + '/' + os.path.basename(file)\n",
    "            save_cropped_img(file, annotation_path, newpath)\n",
    "            total_images += 1\n",
    "    \n",
    "    print(\"total images cropped\", total_images)\n",
    "\n",
    "crop_images()"
   ]
  },
  {
   "cell_type": "code",
   "execution_count": null,
   "metadata": {
    "papermill": {
     "duration": 0.012454,
     "end_time": "2020-09-13T16:36:23.750521",
     "exception": false,
     "start_time": "2020-09-13T16:36:23.738067",
     "status": "completed"
    },
    "tags": []
   },
   "outputs": [],
   "source": []
  }
 ],
 "metadata": {
  "kernelspec": {
   "display_name": "Python 3",
   "language": "python",
   "name": "python3"
  },
  "language_info": {
   "codemirror_mode": {
    "name": "ipython",
    "version": 3
   },
   "file_extension": ".py",
   "mimetype": "text/x-python",
   "name": "python",
   "nbconvert_exporter": "python",
   "pygments_lexer": "ipython3",
   "version": "3.7.6"
  },
  "papermill": {
   "duration": 261.414046,
   "end_time": "2020-09-13T16:36:23.872624",
   "environment_variables": {},
   "exception": null,
   "input_path": "__notebook__.ipynb",
   "output_path": "__notebook__.ipynb",
   "parameters": {},
   "start_time": "2020-09-13T16:32:02.458578",
   "version": "2.1.0"
  }
 },
 "nbformat": 4,
 "nbformat_minor": 4
}
