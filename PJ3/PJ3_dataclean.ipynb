{
 "cells": [
  {
   "cell_type": "markdown",
   "metadata": {},
   "source": [
    "# Openclassrooms PJ3 : IMDB dataset :  data cleaning notebook "
   ]
  },
  {
   "cell_type": "code",
   "execution_count": 13,
   "metadata": {},
   "outputs": [],
   "source": [
    "%matplotlib inline\n",
    "\n",
    "import os\n",
    "import zipfile\n",
    "import urllib\n",
    "\n",
    "import matplotlib.pyplot as plt\n",
    "\n",
    "import numpy as np\n",
    "\n",
    "DOWNLOAD_ROOT = \"https://s3-eu-west-1.amazonaws.com/static.oc-static.com/prod/courses/files/Parcours_data_scientist/Projet+-+Moteur+de+recommandation+de+films/\"\n",
    "DATA_PATH = os.path.join(\"/home/francois/coding/OC/PJ3/datasets\", \"imdb\")\n",
    "DATA_PATH_FILE = os.path.join(DATA_PATH, \"movie_metadata.csv\")\n",
    "DATA_URL = DOWNLOAD_ROOT + \"imdb-5000-movie-dataset.zip\"\n",
    "\n",
    "DATA_PATH_FILE_OUTPUT = os.path.join(DATA_PATH, \"movie_metadata_transformed.csv\")\n",
    "\n",
    "DOWNLOAD_DATA = True  # A la première exécution du notebook, ou pour rafraîchir les données, mettre cette variable à True\n",
    "\n",
    "\n",
    "import seaborn as sns\n",
    "sns.set()\n"
   ]
  },
  {
   "cell_type": "markdown",
   "metadata": {},
   "source": [
    "# Téléchargement et décompression des données"
   ]
  },
  {
   "cell_type": "code",
   "execution_count": 14,
   "metadata": {},
   "outputs": [],
   "source": [
    "#PROXY_DEF = 'BNP'\n",
    "PROXY_DEF = None\n",
    "\n",
    "def fetch_dataset(data_url=DATA_URL, data_path=DATA_PATH):\n",
    "    if not os.path.isdir(data_path):\n",
    "        os.makedirs(data_path)\n",
    "\n",
    "    archive_path = os.path.join(data_path, \"imdb-5000-movie-dataset.zip\")\n",
    "    \n",
    "    if (PROXY_DEF == 'BNP'):\n",
    "        #create the object, assign it to a variable\n",
    "        proxy = urllib.request.ProxyHandler({'https': 'https:/login:password@ncproxy:8080'})\n",
    "        # construct a new opener using your proxy settings\n",
    "        opener = urllib.request.build_opener(proxy)\n",
    "        # install the openen on the module-level\n",
    "        urllib.request.install_opener(opener)    \n",
    "    \n",
    "    urllib.request.urlretrieve(data_url, archive_path)\n",
    "    data_archive = zipfile.ZipFile(archive_path)\n",
    "    data_archive.extractall(path=data_path)\n",
    "    data_archive.close()"
   ]
  },
  {
   "cell_type": "code",
   "execution_count": 15,
   "metadata": {},
   "outputs": [],
   "source": [
    "if (DOWNLOAD_DATA == True):\n",
    "    fetch_dataset()"
   ]
  },
  {
   "cell_type": "code",
   "execution_count": null,
   "metadata": {},
   "outputs": [],
   "source": []
  }
 ],
 "metadata": {
  "kernelspec": {
   "display_name": "Python 3",
   "language": "python",
   "name": "python3"
  },
  "language_info": {
   "codemirror_mode": {
    "name": "ipython",
    "version": 3
   },
   "file_extension": ".py",
   "mimetype": "text/x-python",
   "name": "python",
   "nbconvert_exporter": "python",
   "pygments_lexer": "ipython3",
   "version": "3.7.4"
  }
 },
 "nbformat": 4,
 "nbformat_minor": 2
}
