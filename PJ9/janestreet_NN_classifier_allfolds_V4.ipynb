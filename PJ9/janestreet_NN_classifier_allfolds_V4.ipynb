{
 "cells": [
  {
   "cell_type": "markdown",
   "metadata": {},
   "source": [
    "# Pytorch classifier notebook\n",
    "\n",
    "V1 : only 1 split. First implementation  \n",
    "All folds V1 : with all folds  \n",
    "All folds V2 : add activation stats plot  \n",
    "All folds V3 : try 2 outputs regression and classification. Activation stats plot fixed.  \n",
    "All folds V4 : still 2 outputs regression and classification, but 2 variables on last layer, instead of 2 last layers."
   ]
  },
  {
   "cell_type": "code",
   "execution_count": 1,
   "metadata": {},
   "outputs": [],
   "source": [
    "import numpy as np # linear algebra\n",
    "import pandas as pd # data processing, CSV file I/O (e.g. pd.read_csv)\n",
    "\n",
    "import matplotlib.pyplot as plt\n",
    "\n",
    "from sklearn.metrics import accuracy_score\n",
    "\n",
    "import torch\n",
    "import torch.nn as nn\n",
    "import torch.nn.functional as F\n",
    "import torch.optim as optim\n",
    "import torchvision.transforms as transforms\n",
    "import torchvision.utils as utils\n",
    "\n",
    "from torch.utils.tensorboard import SummaryWriter\n",
    "import io\n",
    "import PIL.Image\n",
    "\n",
    "torch.set_printoptions(edgeitems=2)\n",
    "torch.manual_seed(42)\n",
    "\n",
    "DATASET_INPUT_FILE = 'train.csv'\n",
    "\n",
    "FEATURES_LIST_TOTRAIN = ['feature_'+str(i) for i in range(130)]\n",
    "\n",
    "# For custom non-overlaped folds generation\n",
    "TRAIN_PERCENT = 0.70  \n",
    "TEST_PERCENT = 0.30\n",
    "\n",
    "#pd.set_option('display.max_rows', 500)"
   ]
  },
  {
   "cell_type": "code",
   "execution_count": 2,
   "metadata": {},
   "outputs": [],
   "source": [
    "# Deterministic Behavior\n",
    "seed = 42\n",
    "#os.environ['PYTHONHASHSEED'] = str(seed)\n",
    "# Torch RNG\n",
    "torch.manual_seed(seed)\n",
    "torch.cuda.manual_seed(seed)\n",
    "torch.cuda.manual_seed_all(seed)\n",
    "# Python RNG\n",
    "np.random.seed(seed)\n",
    "#random.seed(seed)\n",
    "# CuDA Determinism\n",
    "torch.backends.cudnn.deterministic = True\n",
    "#torch.backends.cudnn.benchmark = False"
   ]
  },
  {
   "cell_type": "code",
   "execution_count": 57,
   "metadata": {},
   "outputs": [],
   "source": [
    "#BATCH_SIZE = 50000\n",
    "#BATCH_SIZE = 4096 # Gave once better results than 50000\n",
    "#BATCH_SIZE = 2048\n",
    "\n",
    "#BATCH_SIZE = 300000\n",
    "\n",
    "#BATCH_SIZE = 500000\n",
    "\n",
    "#BATCH_SIZE = 100000\n",
    "BATCH_SIZE = 512\n",
    "\n",
    "#BATCH_SIZE = 8192\n",
    "#BATCH_SIZE = 40960\n",
    "\n",
    "NUM_EPOCHS = 50000\n",
    "#MODEL_COMMENT = \"All folds, 3 layers 2000, 1000 and 1, batch size 4096, lr=1e-4, patience 5, standard scale, 0.7 dropout, activ stats, CLASSIF+REG without sigmoid on reg\"\n",
    "MODEL_COMMENT = \"All folds, 3 layers width 130-130-60, classif+reg, batch size 50000, lr=1e-3, patience 5, no standard scale, 0.3 dropout, activ stats, REG 2 vars last layer, tanh, only reg used\""
   ]
  },
  {
   "cell_type": "code",
   "execution_count": 4,
   "metadata": {},
   "outputs": [],
   "source": [
    "def pyStandardScale(tensor, mean, std):\n",
    "    return((tensor - mean) / std)"
   ]
  },
  {
   "cell_type": "code",
   "execution_count": 5,
   "metadata": {},
   "outputs": [],
   "source": [
    "from sklearn.model_selection import KFold\n",
    "from sklearn.model_selection._split import _BaseKFold, indexable, _num_samples\n",
    "from sklearn.utils.validation import _deprecate_positional_args\n",
    "\n",
    "# modified code for group gaps; source\n",
    "# https://github.com/getgaurav2/scikit-learn/blob/d4a3af5cc9da3a76f0266932644b884c99724c57/sklearn/model_selection/_split.py#L2243\n",
    "class PurgedGroupTimeSeriesSplit(_BaseKFold):\n",
    "    \"\"\"Time Series cross-validator variant with non-overlapping groups.\n",
    "    Allows for a gap in groups to avoid potentially leaking info from\n",
    "    train into test if the model has windowed or lag features.\n",
    "    Provides train/test indices to split time series data samples\n",
    "    that are observed at fixed time intervals according to a\n",
    "    third-party provided group.\n",
    "    In each split, test indices must be higher than before, and thus shuffling\n",
    "    in cross validator is inappropriate.\n",
    "    This cross-validation object is a variation of :class:`KFold`.\n",
    "    In the kth split, it returns first k folds as train set and the\n",
    "    (k+1)th fold as test set.\n",
    "    The same group will not appear in two different folds (the number of\n",
    "    distinct groups has to be at least equal to the number of folds).\n",
    "    Note that unlike standard cross-validation methods, successive\n",
    "    training sets are supersets of those that come before them.\n",
    "    Read more in the :ref:`User Guide <cross_validation>`.\n",
    "    Parameters\n",
    "    ----------\n",
    "    n_splits : int, default=5\n",
    "        Number of splits. Must be at least 2.\n",
    "    max_train_group_size : int, default=Inf\n",
    "        Maximum group size for a single training set.\n",
    "    group_gap : int, default=None\n",
    "        Gap between train and test\n",
    "    max_test_group_size : int, default=Inf\n",
    "        We discard this number of groups from the end of each train split\n",
    "    \"\"\"\n",
    "\n",
    "    @_deprecate_positional_args\n",
    "    def __init__(self,\n",
    "                 n_splits=5,\n",
    "                 *,\n",
    "                 max_train_group_size=np.inf,\n",
    "                 max_test_group_size=np.inf,\n",
    "                 group_gap=None,\n",
    "                 verbose=False\n",
    "                 ):\n",
    "        super().__init__(n_splits, shuffle=False, random_state=None)\n",
    "        self.max_train_group_size = max_train_group_size\n",
    "        self.group_gap = group_gap\n",
    "        self.max_test_group_size = max_test_group_size\n",
    "        self.verbose = verbose\n",
    "\n",
    "    def split(self, X, y=None, groups=None):\n",
    "        \"\"\"Generate indices to split data into training and test set.\n",
    "        Parameters\n",
    "        ----------\n",
    "        X : array-like of shape (n_samples, n_features)\n",
    "            Training data, where n_samples is the number of samples\n",
    "            and n_features is the number of features.\n",
    "        y : array-like of shape (n_samples,)\n",
    "            Always ignored, exists for compatibility.\n",
    "        groups : array-like of shape (n_samples,)\n",
    "            Group labels for the samples used while splitting the dataset into\n",
    "            train/test set.\n",
    "        Yields\n",
    "        ------\n",
    "        train : ndarray\n",
    "            The training set indices for that split.\n",
    "        test : ndarray\n",
    "            The testing set indices for that split.\n",
    "        \"\"\"\n",
    "        if groups is None:\n",
    "            raise ValueError(\n",
    "                \"The 'groups' parameter should not be None\")\n",
    "        X, y, groups = indexable(X, y, groups)\n",
    "        n_samples = _num_samples(X)\n",
    "        n_splits = self.n_splits\n",
    "        group_gap = self.group_gap\n",
    "        max_test_group_size = self.max_test_group_size\n",
    "        max_train_group_size = self.max_train_group_size\n",
    "        n_folds = n_splits + 1\n",
    "        group_dict = {}\n",
    "        u, ind = np.unique(groups, return_index=True)\n",
    "        unique_groups = u[np.argsort(ind)]\n",
    "        n_samples = _num_samples(X)\n",
    "        n_groups = _num_samples(unique_groups)\n",
    "        for idx in np.arange(n_samples):\n",
    "            if (groups[idx] in group_dict):\n",
    "                group_dict[groups[idx]].append(idx)\n",
    "            else:\n",
    "                group_dict[groups[idx]] = [idx]\n",
    "        if n_folds > n_groups:\n",
    "            raise ValueError(\n",
    "                (\"Cannot have number of folds={0} greater than\"\n",
    "                 \" the number of groups={1}\").format(n_folds,\n",
    "                                                     n_groups))\n",
    "\n",
    "        group_test_size = min(n_groups // n_folds, max_test_group_size)\n",
    "        group_test_starts = range(n_groups - n_splits * group_test_size,\n",
    "                                  n_groups, group_test_size)\n",
    "        for group_test_start in group_test_starts:\n",
    "            train_array = []\n",
    "            test_array = []\n",
    "\n",
    "            group_st = max(0, group_test_start - group_gap - max_train_group_size)\n",
    "            for train_group_idx in unique_groups[group_st:(group_test_start - group_gap)]:\n",
    "                train_array_tmp = group_dict[train_group_idx]\n",
    "                \n",
    "                train_array = np.sort(np.unique(\n",
    "                                      np.concatenate((train_array,\n",
    "                                                      train_array_tmp)),\n",
    "                                      axis=None), axis=None)\n",
    "\n",
    "            train_end = train_array.size\n",
    " \n",
    "            for test_group_idx in unique_groups[group_test_start:\n",
    "                                                group_test_start +\n",
    "                                                group_test_size]:\n",
    "                test_array_tmp = group_dict[test_group_idx]\n",
    "                test_array = np.sort(np.unique(\n",
    "                                              np.concatenate((test_array,\n",
    "                                                              test_array_tmp)),\n",
    "                                     axis=None), axis=None)\n",
    "\n",
    "            test_array  = test_array[group_gap:]\n",
    "            \n",
    "            \n",
    "            if self.verbose > 0:\n",
    "                    pass\n",
    "                    \n",
    "            yield [int(i) for i in train_array], [int(i) for i in test_array]\n",
    "\n",
    "from matplotlib.colors import ListedColormap\n",
    "    \n",
    "# this is code slightly modified from the sklearn docs here:\n",
    "# https://scikit-learn.org/stable/auto_examples/model_selection/plot_cv_indices.html#sphx-glr-auto-examples-model-selection-plot-cv-indices-py\n",
    "def plot_cv_indices(cv, X, y, group, ax, n_splits, lw=10):\n",
    "    \"\"\"Create a sample plot for indices of a cross-validation object.\"\"\"\n",
    "    \n",
    "    cmap_cv = plt.cm.coolwarm\n",
    "\n",
    "    jet = plt.cm.get_cmap('jet', 256)\n",
    "    seq = np.linspace(0, 1, 256)\n",
    "    _ = np.random.shuffle(seq)   # inplace\n",
    "    cmap_data = ListedColormap(jet(seq))\n",
    "\n",
    "    # Generate the training/testing visualizations for each CV split\n",
    "    for ii, (tr, tt) in enumerate(cv.split(X=X, y=y, groups=group)):\n",
    "        # Fill in indices with the training/test groups\n",
    "        indices = np.array([np.nan] * len(X))\n",
    "        indices[tt] = 1\n",
    "        indices[tr] = 0\n",
    "\n",
    "        # Visualize the results\n",
    "        ax.scatter(range(len(indices)), [ii + .5] * len(indices),\n",
    "                   c=indices, marker='_', lw=lw, cmap=cmap_cv,\n",
    "                   vmin=-.2, vmax=1.2)\n",
    "\n",
    "    # Plot the data classes and groups at the end\n",
    "    ax.scatter(range(len(X)), [ii + 1.5] * len(X),\n",
    "               c=y, marker='_', lw=lw, cmap=plt.cm.Set3)\n",
    "\n",
    "    ax.scatter(range(len(X)), [ii + 2.5] * len(X),\n",
    "               c=group, marker='_', lw=lw, cmap=cmap_data)\n",
    "\n",
    "    # Formatting\n",
    "    yticklabels = list(range(n_splits)) + ['target', 'day']\n",
    "    ax.set(yticks=np.arange(n_splits+2) + .5, yticklabels=yticklabels,\n",
    "           xlabel='Sample index', ylabel=\"CV iteration\",\n",
    "           ylim=[n_splits+2.2, -.2], xlim=[0, len(y)])\n",
    "    ax.set_title('{}'.format(type(cv).__name__), fontsize=15)\n",
    "    return ax\n",
    "\n",
    "\n",
    "def plot_cv_indices_custom(cv_custom, X, y, group, ax, n_splits, lw=10):\n",
    "    \"\"\"Create a sample plot for indices of a cross-validation object.\"\"\"\n",
    "    \n",
    "    cmap_cv = plt.cm.coolwarm\n",
    "\n",
    "    jet = plt.cm.get_cmap('jet', 256)\n",
    "    seq = np.linspace(0, 1, 256)\n",
    "    _ = np.random.shuffle(seq)   # inplace\n",
    "    cmap_data = ListedColormap(jet(seq))\n",
    "\n",
    "    # Generate the training/testing visualizations for each CV split\n",
    "    for ii, (tr, tt) in enumerate(cv_custom):\n",
    "        # Fill in indices with the training/test groups\n",
    "        indices = np.array([np.nan] * len(X))\n",
    "        indices[tt] = 1\n",
    "        indices[tr] = 0\n",
    "\n",
    "        # Visualize the results\n",
    "        ax.scatter(range(len(indices)), [ii + .5] * len(indices),\n",
    "                   c=indices, marker='_', lw=lw, cmap=cmap_cv,\n",
    "                   vmin=-.2, vmax=1.2)\n",
    "\n",
    "    # Plot the data classes and groups at the end\n",
    "    ax.scatter(range(len(X)), [ii + 1.5] * len(X),\n",
    "               c=y, marker='_', lw=lw, cmap=plt.cm.Set3)\n",
    "\n",
    "    ax.scatter(range(len(X)), [ii + 2.5] * len(X),\n",
    "               c=group, marker='_', lw=lw, cmap=cmap_data)\n",
    "\n",
    "    # Formatting\n",
    "    yticklabels = list(range(n_splits)) + ['target', 'day']\n",
    "    ax.set(yticks=np.arange(n_splits+2) + .5, yticklabels=yticklabels,\n",
    "           xlabel='Sample index', ylabel=\"CV iteration\",\n",
    "           ylim=[n_splits+2.2, -.2], xlim=[0, len(y)])\n",
    "    ax.set_title('{}'.format(type(cv).__name__), fontsize=15)\n",
    "    return ax"
   ]
  },
  {
   "cell_type": "code",
   "execution_count": 6,
   "metadata": {},
   "outputs": [],
   "source": [
    "# This function accounts for variable instance counts in each split by dividing utility_pi by number of instances (but this has been removed)\n",
    "# It also does some copy of dataframe to prevent memory overwrite\n",
    "def utility_function(df_test, df_test_predictions):\n",
    "    df_test_copy = df_test.copy(deep=True)\n",
    "    df_test_copy.loc[:, 'utility_pj'] = df_test_copy['weight'] * df_test_copy['resp'] * df_test_predictions\n",
    "    #df_test_utility_pi = df_test_copy.groupby('date')['utility_pj'].sum() / df_test_copy.groupby('date')['utility_pj'].count()\n",
    "    df_test_utility_pi = df_test_copy.groupby('date')['utility_pj'].sum()\n",
    "\n",
    "    nb_unique_dates = df_test_utility_pi.shape[0]\n",
    "    \n",
    "    if (np.sqrt(df_test_utility_pi.pow(2).sum()) == 0):\n",
    "        t = 0\n",
    "\n",
    "    else:\n",
    "        t = (df_test_utility_pi.sum() / np.sqrt(df_test_utility_pi.pow(2).sum())) * (np.sqrt(250 / np.abs(nb_unique_dates)))\n",
    "        \n",
    "    u = min(max(t, 0), 6) * df_test_utility_pi.sum()\n",
    "    del df_test_copy\n",
    "    \n",
    "    return(u)"
   ]
  },
  {
   "cell_type": "code",
   "execution_count": 7,
   "metadata": {},
   "outputs": [],
   "source": [
    "from bisect import bisect_left\n",
    "\n",
    "def take_closest(myList, myNumber):\n",
    "    \"\"\"\n",
    "    Assumes myList is sorted. Returns closest value to myNumber.\n",
    "\n",
    "    If two numbers are equally close, return the smallest number.\n",
    "    \"\"\"\n",
    "    pos = bisect_left(myList, myNumber)\n",
    "    if pos == 0:\n",
    "        return myList[0]\n",
    "    if pos == len(myList):\n",
    "        return myList[-1]\n",
    "    before = myList[pos - 1]\n",
    "    after = myList[pos]\n",
    "    if after - myNumber < myNumber - before:\n",
    "       return after\n",
    "    else:\n",
    "       return before"
   ]
  },
  {
   "cell_type": "code",
   "execution_count": 8,
   "metadata": {},
   "outputs": [],
   "source": [
    "class SaveOutputActivationStats:\n",
    "    def __init__(self):\n",
    "        self.outputs = []\n",
    "        \n",
    "    def __call__(self, module, module_in, module_out):\n",
    "        #self.outputs.append(module_out)\n",
    "        self.outputs.append({'mean': module_out.mean().item(), 'std': module_out.std().item(),'near_zero': (module_out<=0.05).long().sum().item()/module_out.numel()})\n",
    "        \n",
    "    def clear(self):\n",
    "        self.outputs = []"
   ]
  },
  {
   "cell_type": "code",
   "execution_count": 9,
   "metadata": {},
   "outputs": [],
   "source": [
    "#fig, ax = plt.subplots(1, 1)\n",
    "#\n",
    "#plot_cv_indices(cv, df.loc[:, FEATURES_LIST_TOTRAIN], (df['resp'] > 0), df['date'], \n",
    "#                         ax, 5, lw=20);"
   ]
  },
  {
   "cell_type": "code",
   "execution_count": 10,
   "metadata": {},
   "outputs": [
    {
     "data": {
      "text/plain": [
       "torch.device"
      ]
     },
     "execution_count": 10,
     "metadata": {},
     "output_type": "execute_result"
    }
   ],
   "source": [
    "torch.device"
   ]
  },
  {
   "cell_type": "code",
   "execution_count": 11,
   "metadata": {},
   "outputs": [
    {
     "data": {
      "text/plain": [
       "True"
      ]
     },
     "execution_count": 11,
     "metadata": {},
     "output_type": "execute_result"
    }
   ],
   "source": [
    "torch.cuda.is_available()"
   ]
  },
  {
   "cell_type": "code",
   "execution_count": 12,
   "metadata": {},
   "outputs": [
    {
     "data": {
      "text/plain": [
       "0"
      ]
     },
     "execution_count": 12,
     "metadata": {},
     "output_type": "execute_result"
    }
   ],
   "source": [
    "torch.cuda.current_device()"
   ]
  },
  {
   "cell_type": "code",
   "execution_count": 13,
   "metadata": {},
   "outputs": [
    {
     "data": {
      "text/plain": [
       "'GeForce RTX 3090'"
      ]
     },
     "execution_count": 13,
     "metadata": {},
     "output_type": "execute_result"
    }
   ],
   "source": [
    "torch.cuda.get_device_name(0)"
   ]
  },
  {
   "cell_type": "markdown",
   "metadata": {},
   "source": [
    "# Load data"
   ]
  },
  {
   "cell_type": "code",
   "execution_count": 14,
   "metadata": {},
   "outputs": [
    {
     "name": "stdout",
     "output_type": "stream",
     "text": [
      "Data loaded\n"
     ]
    }
   ],
   "source": [
    "# Load data\n",
    "    \n",
    "df = pd.read_csv(DATASET_INPUT_FILE)\n",
    "df['resp_positive'] = ((df['resp'])>0)*1  # Target to predict\n",
    "\n",
    "print('Data loaded')\n"
   ]
  },
  {
   "cell_type": "markdown",
   "metadata": {},
   "source": [
    "# Non overlap fold generation"
   ]
  },
  {
   "cell_type": "code",
   "execution_count": 15,
   "metadata": {},
   "outputs": [],
   "source": [
    "date_indexes_list = df.groupby('date')['ts_id'].first().to_list()"
   ]
  },
  {
   "cell_type": "code",
   "execution_count": 16,
   "metadata": {},
   "outputs": [],
   "source": [
    "base_train_split_size = int((df.shape[0] // 5) * TRAIN_PERCENT)"
   ]
  },
  {
   "cell_type": "code",
   "execution_count": 17,
   "metadata": {},
   "outputs": [],
   "source": [
    "base_test_split_size = int((df.shape[0] // 5) * TEST_PERCENT)"
   ]
  },
  {
   "cell_type": "code",
   "execution_count": 18,
   "metadata": {},
   "outputs": [],
   "source": [
    "train_split_start_indexes = [take_closest(date_indexes_list, (base_train_split_size + base_test_split_size)*fold_indice) for fold_indice in range(5)]"
   ]
  },
  {
   "cell_type": "code",
   "execution_count": 19,
   "metadata": {},
   "outputs": [],
   "source": [
    "test_split_start_indexes = [take_closest(date_indexes_list, (base_train_split_size + base_test_split_size)*fold_indice) for fold_indice in range(5)]"
   ]
  },
  {
   "cell_type": "code",
   "execution_count": 20,
   "metadata": {},
   "outputs": [
    {
     "data": {
      "text/plain": [
       "[0, 477711, 958233, 1435933, 1913985]"
      ]
     },
     "execution_count": 20,
     "metadata": {},
     "output_type": "execute_result"
    }
   ],
   "source": [
    "train_split_start_indexes"
   ]
  },
  {
   "cell_type": "code",
   "execution_count": 21,
   "metadata": {},
   "outputs": [
    {
     "data": {
      "text/plain": [
       "2390490"
      ]
     },
     "execution_count": 21,
     "metadata": {},
     "output_type": "execute_result"
    }
   ],
   "source": [
    "df.shape[0] - 1"
   ]
  },
  {
   "cell_type": "code",
   "execution_count": 22,
   "metadata": {},
   "outputs": [],
   "source": [
    "NB_FOLDS = 5\n",
    "last_index = df.shape[0] - 1\n",
    "\n",
    "cv_table = []\n",
    "\n",
    "for fold_indice in range(NB_FOLDS):\n",
    "    fold_train_start_index = train_split_start_indexes[fold_indice]\n",
    "    \n",
    "    if (fold_indice == NB_FOLDS - 1):    \n",
    "        nextfold_train_start_index = last_index\n",
    "        \n",
    "    else:\n",
    "        nextfold_train_start_index = train_split_start_indexes[fold_indice + 1]\n",
    "    \n",
    "    fold_test_start_index = take_closest(date_indexes_list, int(TRAIN_PERCENT * (nextfold_train_start_index - fold_train_start_index) + fold_train_start_index  ))\n",
    "    \n",
    "    cv_table.append(fold_train_start_index)\n",
    "    cv_table.append(fold_test_start_index)"
   ]
  },
  {
   "cell_type": "code",
   "execution_count": 23,
   "metadata": {},
   "outputs": [],
   "source": [
    "cv_table.append(last_index)"
   ]
  },
  {
   "cell_type": "code",
   "execution_count": 24,
   "metadata": {},
   "outputs": [],
   "source": [
    "cv_tuples = []\n",
    "\n",
    "for i in range(0, NB_FOLDS*2, 2):\n",
    "    cv_tuples.append([df.loc[cv_table[i]:cv_table[i+1]-1, :].index.to_list(), df.loc[cv_table[i+1]:cv_table[i+2]-1, :].index.to_list()])"
   ]
  },
  {
   "cell_type": "code",
   "execution_count": 25,
   "metadata": {},
   "outputs": [],
   "source": [
    "cv_tuples_generator = iter(cv_tuples)"
   ]
  },
  {
   "cell_type": "code",
   "execution_count": 26,
   "metadata": {},
   "outputs": [],
   "source": [
    "#fig, ax = plt.subplots(1, 1)\n",
    "\n",
    "#plot_cv_indices_custom(cv_tuples_generator, df.loc[:, FEATURES_LIST_TOTRAIN], (df['resp'] > 0), df['date'], \n",
    "#                         ax, 5, lw=20); \n",
    "\n",
    "#cv_tuples_generator = iter(cv_tuples)"
   ]
  },
  {
   "cell_type": "code",
   "execution_count": 27,
   "metadata": {},
   "outputs": [],
   "source": [
    "# Size of training set :\n",
    "#train_sets_table =  [cv_tuples[i][0] for i in range(5)]\n",
    "#sum([len(train_set_table) for train_set_table in train_sets_table])"
   ]
  },
  {
   "cell_type": "code",
   "execution_count": 28,
   "metadata": {},
   "outputs": [],
   "source": [
    "# Our old time series split (with overlap : required 1 neural network trained per split)\n",
    "# But in this script it's not needed because we're training 1 unique network, with a different fold strategy (non overlaped)\n",
    "#cv = PurgedGroupTimeSeriesSplit(\n",
    "#    n_splits=5,\n",
    "#    max_train_group_size=180,\n",
    "#    group_gap=20,\n",
    "#    max_test_group_size=60\n",
    "#)"
   ]
  },
  {
   "cell_type": "code",
   "execution_count": 29,
   "metadata": {},
   "outputs": [],
   "source": [
    "#train_index, test_index = next(cv.split(df, (df['resp'] > 0)*1, df['date']))"
   ]
  },
  {
   "cell_type": "code",
   "execution_count": 30,
   "metadata": {},
   "outputs": [],
   "source": [
    "#(df.loc[train_index, 'resp'] > 0).astype(np.byte)"
   ]
  },
  {
   "cell_type": "code",
   "execution_count": 31,
   "metadata": {},
   "outputs": [],
   "source": [
    "f_mean = df.loc[:, FEATURES_LIST_TOTRAIN].mean(axis=0)"
   ]
  },
  {
   "cell_type": "code",
   "execution_count": 32,
   "metadata": {},
   "outputs": [
    {
     "data": {
      "text/plain": [
       "(130,)"
      ]
     },
     "execution_count": 32,
     "metadata": {},
     "output_type": "execute_result"
    }
   ],
   "source": [
    "f_mean.shape"
   ]
  },
  {
   "cell_type": "code",
   "execution_count": 33,
   "metadata": {},
   "outputs": [],
   "source": [
    "df.fillna(f_mean, inplace=True)"
   ]
  },
  {
   "cell_type": "code",
   "execution_count": 34,
   "metadata": {},
   "outputs": [],
   "source": [
    "#print('Sum of model parameters:')\n",
    "#[print(p.sum()) for p in model.parameters()]"
   ]
  },
  {
   "cell_type": "code",
   "execution_count": 35,
   "metadata": {},
   "outputs": [],
   "source": [
    "#writer = SummaryWriter()\n",
    "\n",
    "#writer.add_text('test', 'test:'  + str(model).replace('\\n', '<BR>'))\n",
    "\n",
    "#writer.flush()\n",
    "#writer.close()"
   ]
  },
  {
   "cell_type": "code",
   "execution_count": 36,
   "metadata": {},
   "outputs": [],
   "source": [
    "#str([p.numel() for p in model.parameters()])"
   ]
  },
  {
   "cell_type": "code",
   "execution_count": 37,
   "metadata": {},
   "outputs": [],
   "source": [
    "folds_list = []\n",
    "\n",
    "for fold, (train_index, test_index) in enumerate(cv_tuples_generator):\n",
    "    folds_list.append((train_index, test_index))"
   ]
  },
  {
   "cell_type": "code",
   "execution_count": 38,
   "metadata": {},
   "outputs": [],
   "source": [
    "folds_list_train = [folds_list[i][0] for i in range(5)]\n",
    "folds_list_train_flat = [folds_list_train_item for sublist in folds_list_train for folds_list_train_item in sublist]\n",
    "folds_list_train_unique = list(set(folds_list_train_flat))"
   ]
  },
  {
   "cell_type": "code",
   "execution_count": 39,
   "metadata": {},
   "outputs": [
    {
     "data": {
      "text/plain": [
       "1677155"
      ]
     },
     "execution_count": 39,
     "metadata": {},
     "output_type": "execute_result"
    }
   ],
   "source": [
    "len(folds_list_train_unique)"
   ]
  },
  {
   "cell_type": "code",
   "execution_count": 40,
   "metadata": {},
   "outputs": [
    {
     "data": {
      "text/plain": [
       "1677155"
      ]
     },
     "execution_count": 40,
     "metadata": {},
     "output_type": "execute_result"
    }
   ],
   "source": [
    "np.sum([len(folds_list_train_item) for folds_list_train_item in folds_list_train])"
   ]
  },
  {
   "cell_type": "code",
   "execution_count": 41,
   "metadata": {},
   "outputs": [
    {
     "data": {
      "text/plain": [
       "1677155"
      ]
     },
     "execution_count": 41,
     "metadata": {},
     "output_type": "execute_result"
    }
   ],
   "source": [
    "len(folds_list_train_flat)"
   ]
  },
  {
   "cell_type": "code",
   "execution_count": 42,
   "metadata": {},
   "outputs": [],
   "source": [
    "folds_list_test = [folds_list[i][1] for i in range(5)]\n",
    "folds_list_test_flat = [folds_list_test_item for sublist in folds_list_test for folds_list_test_item in sublist]\n",
    "folds_list_test_unique = set(folds_list_test_flat)"
   ]
  },
  {
   "cell_type": "code",
   "execution_count": 43,
   "metadata": {},
   "outputs": [
    {
     "data": {
      "text/plain": [
       "713335"
      ]
     },
     "execution_count": 43,
     "metadata": {},
     "output_type": "execute_result"
    }
   ],
   "source": [
    "np.sum([len(folds_list_test_item) for folds_list_test_item in folds_list_test])"
   ]
  },
  {
   "cell_type": "code",
   "execution_count": 44,
   "metadata": {},
   "outputs": [
    {
     "data": {
      "text/plain": [
       "713335"
      ]
     },
     "execution_count": 44,
     "metadata": {},
     "output_type": "execute_result"
    }
   ],
   "source": [
    "len(folds_list_test_flat)"
   ]
  },
  {
   "cell_type": "code",
   "execution_count": 45,
   "metadata": {},
   "outputs": [
    {
     "data": {
      "text/plain": [
       "2390490"
      ]
     },
     "execution_count": 45,
     "metadata": {},
     "output_type": "execute_result"
    }
   ],
   "source": [
    "len(folds_list_train_flat) + len(folds_list_test_flat)"
   ]
  },
  {
   "cell_type": "code",
   "execution_count": 46,
   "metadata": {},
   "outputs": [
    {
     "data": {
      "text/plain": [
       "(141980, 130)"
      ]
     },
     "execution_count": 46,
     "metadata": {},
     "output_type": "execute_result"
    }
   ],
   "source": [
    "df.loc[folds_list_test[4], FEATURES_LIST_TOTRAIN].to_numpy().shape"
   ]
  },
  {
   "cell_type": "code",
   "execution_count": 47,
   "metadata": {},
   "outputs": [
    {
     "data": {
      "text/plain": [
       "(2390491, 139)"
      ]
     },
     "execution_count": 47,
     "metadata": {},
     "output_type": "execute_result"
    }
   ],
   "source": [
    "df.shape"
   ]
  },
  {
   "cell_type": "markdown",
   "metadata": {},
   "source": [
    "# Training"
   ]
  },
  {
   "cell_type": "code",
   "execution_count": 58,
   "metadata": {},
   "outputs": [
    {
     "name": "stdout",
     "output_type": "stream",
     "text": [
      "Training started\n",
      "Model created\n",
      "Epoch(0) - Training Loss: 0.0212\n",
      "Epoch(0) - Fold 0 - Validation Loss : 0.0189\n",
      "Epoch(0) - Fold 0 -> Validation Loss Reg : 0.0189\n",
      "Epoch(0) - Fold 0 - Validation Accuracy : 0.4972\n",
      "Epoch(0) - Fold 0 - Validation Utility score : 7.4606\n",
      "Epoch(0) - Fold 1 - Validation Loss : 0.0168\n",
      "Epoch(0) - Fold 1 -> Validation Loss Reg : 0.0168\n",
      "Epoch(0) - Fold 1 - Validation Accuracy : 0.4920\n",
      "Epoch(0) - Fold 1 - Validation Utility score : -0.0000\n",
      "Epoch(0) - Fold 2 - Validation Loss : 0.0184\n",
      "Epoch(0) - Fold 2 -> Validation Loss Reg : 0.0184\n",
      "Epoch(0) - Fold 2 - Validation Accuracy : 0.4945\n",
      "Epoch(0) - Fold 2 - Validation Utility score : -0.0000\n",
      "Epoch(0) - Fold 3 - Validation Loss : 0.0166\n",
      "Epoch(0) - Fold 3 -> Validation Loss Reg : 0.0166\n",
      "Epoch(0) - Fold 3 - Validation Accuracy : 0.4965\n",
      "Epoch(0) - Fold 3 - Validation Utility score : -0.0000\n",
      "Epoch(0) - Fold 4 - Validation Loss : 0.0190\n",
      "Epoch(0) - Fold 4 -> Validation Loss Reg : 0.0190\n",
      "Epoch(0) - Fold 4 - Validation Accuracy : 0.4952\n",
      "Epoch(0) - Fold 4 - Validation Utility score : -0.0000\n",
      "Epoch(0) - GLOBAL - Validation Loss: 0.0179\n",
      "Epoch(0) - GLOBAL - Validation Accuracy: 0.4951\n",
      "Epoch(0) - GLOBAL - Validation Utility score: 7.4606\n",
      "Saving model corresponding to last_utility_score == 7.460571954504205\n",
      "\n",
      "\n",
      "Epoch(1) - Training Loss: 0.0190\n",
      "Epoch(1) - Fold 0 - Validation Loss : 0.0181\n",
      "Epoch(1) - Fold 0 -> Validation Loss Reg : 0.0181\n",
      "Epoch(1) - Fold 0 - Validation Accuracy : 0.5088\n",
      "Epoch(1) - Fold 0 - Validation Utility score : -0.0000\n",
      "Epoch(1) - Fold 1 - Validation Loss : 0.0159\n",
      "Epoch(1) - Fold 1 -> Validation Loss Reg : 0.0159\n",
      "Epoch(1) - Fold 1 - Validation Accuracy : 0.5073\n",
      "Epoch(1) - Fold 1 - Validation Utility score : -0.0000\n",
      "Epoch(1) - Fold 2 - Validation Loss : 0.0183\n",
      "Epoch(1) - Fold 2 -> Validation Loss Reg : 0.0183\n",
      "Epoch(1) - Fold 2 - Validation Accuracy : 0.5015\n",
      "Epoch(1) - Fold 2 - Validation Utility score : -0.0000\n",
      "Epoch(1) - Fold 3 - Validation Loss : 0.0167\n",
      "Epoch(1) - Fold 3 -> Validation Loss Reg : 0.0167\n",
      "Epoch(1) - Fold 3 - Validation Accuracy : 0.5039\n",
      "Epoch(1) - Fold 3 - Validation Utility score : -0.0000\n",
      "Epoch(1) - Fold 4 - Validation Loss : 0.0171\n",
      "Epoch(1) - Fold 4 -> Validation Loss Reg : 0.0171\n",
      "Epoch(1) - Fold 4 - Validation Accuracy : 0.5071\n",
      "Epoch(1) - Fold 4 - Validation Utility score : 255.7047\n",
      "Epoch(1) - GLOBAL - Validation Loss: 0.0172\n",
      "Epoch(1) - GLOBAL - Validation Accuracy: 0.5057\n",
      "Epoch(1) - GLOBAL - Validation Utility score: 255.7047\n",
      "Saving model corresponding to last_utility_score == 255.7046929640094\n",
      "\n",
      "\n",
      "Epoch(2) - Training Loss: 0.0189\n",
      "Epoch(2) - Fold 0 - Validation Loss : 0.0189\n",
      "Epoch(2) - Fold 0 -> Validation Loss Reg : 0.0189\n",
      "Epoch(2) - Fold 0 - Validation Accuracy : 0.5003\n",
      "Epoch(2) - Fold 0 - Validation Utility score : 50.6890\n",
      "Epoch(2) - Fold 1 - Validation Loss : 0.0163\n",
      "Epoch(2) - Fold 1 -> Validation Loss Reg : 0.0163\n",
      "Epoch(2) - Fold 1 - Validation Accuracy : 0.4928\n",
      "Epoch(2) - Fold 1 - Validation Utility score : -0.0000\n",
      "Epoch(2) - Fold 2 - Validation Loss : 0.0180\n",
      "Epoch(2) - Fold 2 -> Validation Loss Reg : 0.0180\n",
      "Epoch(2) - Fold 2 - Validation Accuracy : 0.5018\n",
      "Epoch(2) - Fold 2 - Validation Utility score : -0.0000\n",
      "Epoch(2) - Fold 3 - Validation Loss : 0.0163\n",
      "Epoch(2) - Fold 3 -> Validation Loss Reg : 0.0163\n",
      "Epoch(2) - Fold 3 - Validation Accuracy : 0.5005\n",
      "Epoch(2) - Fold 3 - Validation Utility score : -0.0000\n",
      "Epoch(2) - Fold 4 - Validation Loss : 0.0183\n",
      "Epoch(2) - Fold 4 -> Validation Loss Reg : 0.0183\n",
      "Epoch(2) - Fold 4 - Validation Accuracy : 0.5035\n",
      "Epoch(2) - Fold 4 - Validation Utility score : 432.2762\n",
      "Epoch(2) - GLOBAL - Validation Loss: 0.0176\n",
      "Epoch(2) - GLOBAL - Validation Accuracy: 0.4998\n",
      "Epoch(2) - GLOBAL - Validation Utility score: 482.9652\n",
      "Intermediate early stopping : vepoch_loss = 0.0176, the_last_loss=0.0172\n",
      "\n",
      "\n",
      "Epoch(3) - Training Loss: 0.0189\n",
      "Epoch(3) - Fold 0 - Validation Loss : 0.0195\n",
      "Epoch(3) - Fold 0 -> Validation Loss Reg : 0.0195\n",
      "Epoch(3) - Fold 0 - Validation Accuracy : 0.4969\n",
      "Epoch(3) - Fold 0 - Validation Utility score : -0.0000\n",
      "Epoch(3) - Fold 1 - Validation Loss : 0.0159\n",
      "Epoch(3) - Fold 1 -> Validation Loss Reg : 0.0159\n",
      "Epoch(3) - Fold 1 - Validation Accuracy : 0.5005\n",
      "Epoch(3) - Fold 1 - Validation Utility score : 69.7226\n",
      "Epoch(3) - Fold 2 - Validation Loss : 0.0181\n",
      "Epoch(3) - Fold 2 -> Validation Loss Reg : 0.0181\n",
      "Epoch(3) - Fold 2 - Validation Accuracy : 0.5017\n",
      "Epoch(3) - Fold 2 - Validation Utility score : -0.0000\n",
      "Epoch(3) - Fold 3 - Validation Loss : 0.0168\n",
      "Epoch(3) - Fold 3 -> Validation Loss Reg : 0.0168\n",
      "Epoch(3) - Fold 3 - Validation Accuracy : 0.4988\n",
      "Epoch(3) - Fold 3 - Validation Utility score : -0.0000\n",
      "Epoch(3) - Fold 4 - Validation Loss : 0.0177\n",
      "Epoch(3) - Fold 4 -> Validation Loss Reg : 0.0177\n",
      "Epoch(3) - Fold 4 - Validation Accuracy : 0.5103\n",
      "Epoch(3) - Fold 4 - Validation Utility score : 205.9200\n",
      "Epoch(3) - GLOBAL - Validation Loss: 0.0176\n",
      "Epoch(3) - GLOBAL - Validation Accuracy: 0.5016\n",
      "Epoch(3) - GLOBAL - Validation Utility score: 275.6426\n",
      "Intermediate early stopping : vepoch_loss = 0.0176, the_last_loss=0.0172\n",
      "\n",
      "\n",
      "Epoch(4) - Training Loss: 0.0189\n",
      "Epoch(4) - Fold 0 - Validation Loss : 0.0188\n",
      "Epoch(4) - Fold 0 -> Validation Loss Reg : 0.0188\n",
      "Epoch(4) - Fold 0 - Validation Accuracy : 0.4964\n",
      "Epoch(4) - Fold 0 - Validation Utility score : -0.0000\n",
      "Epoch(4) - Fold 1 - Validation Loss : 0.0163\n",
      "Epoch(4) - Fold 1 -> Validation Loss Reg : 0.0163\n",
      "Epoch(4) - Fold 1 - Validation Accuracy : 0.5008\n",
      "Epoch(4) - Fold 1 - Validation Utility score : -0.0000\n",
      "Epoch(4) - Fold 2 - Validation Loss : 0.0182\n",
      "Epoch(4) - Fold 2 -> Validation Loss Reg : 0.0182\n",
      "Epoch(4) - Fold 2 - Validation Accuracy : 0.4996\n",
      "Epoch(4) - Fold 2 - Validation Utility score : -0.0000\n",
      "Epoch(4) - Fold 3 - Validation Loss : 0.0166\n",
      "Epoch(4) - Fold 3 -> Validation Loss Reg : 0.0166\n",
      "Epoch(4) - Fold 3 - Validation Accuracy : 0.5054\n",
      "Epoch(4) - Fold 3 - Validation Utility score : -0.0000\n",
      "Epoch(4) - Fold 4 - Validation Loss : 0.0181\n",
      "Epoch(4) - Fold 4 -> Validation Loss Reg : 0.0181\n",
      "Epoch(4) - Fold 4 - Validation Accuracy : 0.5024\n",
      "Epoch(4) - Fold 4 - Validation Utility score : -0.0000\n",
      "Epoch(4) - GLOBAL - Validation Loss: 0.0176\n",
      "Epoch(4) - GLOBAL - Validation Accuracy: 0.5009\n",
      "Epoch(4) - GLOBAL - Validation Utility score: 0.0000\n",
      "Intermediate early stopping : vepoch_loss = 0.0176, the_last_loss=0.0172\n",
      "\n",
      "\n",
      "Epoch(5) - Training Loss: 0.0189\n",
      "Epoch(5) - Fold 0 - Validation Loss : 0.0187\n",
      "Epoch(5) - Fold 0 -> Validation Loss Reg : 0.0187\n",
      "Epoch(5) - Fold 0 - Validation Accuracy : 0.5016\n",
      "Epoch(5) - Fold 0 - Validation Utility score : 96.9430\n",
      "Epoch(5) - Fold 1 - Validation Loss : 0.0163\n",
      "Epoch(5) - Fold 1 -> Validation Loss Reg : 0.0163\n",
      "Epoch(5) - Fold 1 - Validation Accuracy : 0.4961\n",
      "Epoch(5) - Fold 1 - Validation Utility score : 3.9541\n",
      "Epoch(5) - Fold 2 - Validation Loss : 0.0179\n",
      "Epoch(5) - Fold 2 -> Validation Loss Reg : 0.0179\n",
      "Epoch(5) - Fold 2 - Validation Accuracy : 0.5018\n",
      "Epoch(5) - Fold 2 - Validation Utility score : 3.9386\n",
      "Epoch(5) - Fold 3 - Validation Loss : 0.0162\n",
      "Epoch(5) - Fold 3 -> Validation Loss Reg : 0.0162\n",
      "Epoch(5) - Fold 3 - Validation Accuracy : 0.5031\n",
      "Epoch(5) - Fold 3 - Validation Utility score : -0.0000\n",
      "Epoch(5) - Fold 4 - Validation Loss : 0.0188\n",
      "Epoch(5) - Fold 4 -> Validation Loss Reg : 0.0188\n",
      "Epoch(5) - Fold 4 - Validation Accuracy : 0.5033\n",
      "Epoch(5) - Fold 4 - Validation Utility score : 77.2863\n",
      "Epoch(5) - GLOBAL - Validation Loss: 0.0176\n",
      "Epoch(5) - GLOBAL - Validation Accuracy: 0.5012\n",
      "Epoch(5) - GLOBAL - Validation Utility score: 182.1220\n",
      "Intermediate early stopping : vepoch_loss = 0.0176, the_last_loss=0.0172\n",
      "\n",
      "\n",
      "Epoch(6) - Training Loss: 0.0189\n",
      "Epoch(6) - Fold 0 - Validation Loss : 0.0182\n",
      "Epoch(6) - Fold 0 -> Validation Loss Reg : 0.0182\n",
      "Epoch(6) - Fold 0 - Validation Accuracy : 0.5038\n",
      "Epoch(6) - Fold 0 - Validation Utility score : -0.0000\n",
      "Epoch(6) - Fold 1 - Validation Loss : 0.0159\n",
      "Epoch(6) - Fold 1 -> Validation Loss Reg : 0.0159\n",
      "Epoch(6) - Fold 1 - Validation Accuracy : 0.5096\n",
      "Epoch(6) - Fold 1 - Validation Utility score : 12.7283\n",
      "Epoch(6) - Fold 2 - Validation Loss : 0.0183\n",
      "Epoch(6) - Fold 2 -> Validation Loss Reg : 0.0183\n",
      "Epoch(6) - Fold 2 - Validation Accuracy : 0.5016\n",
      "Epoch(6) - Fold 2 - Validation Utility score : -0.0000\n",
      "Epoch(6) - Fold 3 - Validation Loss : 0.0169\n",
      "Epoch(6) - Fold 3 -> Validation Loss Reg : 0.0169\n",
      "Epoch(6) - Fold 3 - Validation Accuracy : 0.5039\n",
      "Epoch(6) - Fold 3 - Validation Utility score : -0.0000\n",
      "Epoch(6) - Fold 4 - Validation Loss : 0.0168\n",
      "Epoch(6) - Fold 4 -> Validation Loss Reg : 0.0168\n",
      "Epoch(6) - Fold 4 - Validation Accuracy : 0.5000\n",
      "Epoch(6) - Fold 4 - Validation Utility score : 188.5658\n",
      "Epoch(6) - GLOBAL - Validation Loss: 0.0172\n",
      "Epoch(6) - GLOBAL - Validation Accuracy: 0.5038\n",
      "Epoch(6) - GLOBAL - Validation Utility score: 201.2941\n",
      "Saving model corresponding to last_utility_score == 201.29409275979575\n",
      "\n",
      "\n"
     ]
    },
    {
     "ename": "KeyboardInterrupt",
     "evalue": "",
     "output_type": "error",
     "traceback": [
      "Traceback \u001b[0;36m(most recent call last)\u001b[0m:\n",
      "  File \u001b[1;32m\"<ipython-input-58-8277e90479dd>\"\u001b[0m, line \u001b[1;32m156\u001b[0m, in \u001b[1;35m<module>\u001b[0m\n    for batch in train_loader:\n",
      "  File \u001b[1;32m\"/opt/anaconda3/envs/janestreet/lib/python3.8/site-packages/torch/utils/data/dataloader.py\"\u001b[0m, line \u001b[1;32m435\u001b[0m, in \u001b[1;35m__next__\u001b[0m\n    data = self._next_data()\n",
      "  File \u001b[1;32m\"/opt/anaconda3/envs/janestreet/lib/python3.8/site-packages/torch/utils/data/dataloader.py\"\u001b[0m, line \u001b[1;32m475\u001b[0m, in \u001b[1;35m_next_data\u001b[0m\n    data = self._dataset_fetcher.fetch(index)  # may raise StopIteration\n",
      "  File \u001b[1;32m\"/opt/anaconda3/envs/janestreet/lib/python3.8/site-packages/torch/utils/data/_utils/fetch.py\"\u001b[0m, line \u001b[1;32m44\u001b[0m, in \u001b[1;35mfetch\u001b[0m\n    data = [self.dataset[idx] for idx in possibly_batched_index]\n",
      "  File \u001b[1;32m\"/opt/anaconda3/envs/janestreet/lib/python3.8/site-packages/torch/utils/data/_utils/fetch.py\"\u001b[0m, line \u001b[1;32m44\u001b[0m, in \u001b[1;35m<listcomp>\u001b[0m\n    data = [self.dataset[idx] for idx in possibly_batched_index]\n",
      "\u001b[0;36m  File \u001b[0;32m\"/opt/anaconda3/envs/janestreet/lib/python3.8/site-packages/torch/utils/data/dataset.py\"\u001b[0;36m, line \u001b[0;32m170\u001b[0;36m, in \u001b[0;35m__getitem__\u001b[0;36m\u001b[0m\n\u001b[0;31m    return tuple(tensor[index] for tensor in self.tensors)\u001b[0m\n",
      "\u001b[0;31mKeyboardInterrupt\u001b[0m\n"
     ]
    }
   ],
   "source": [
    "print('Training started')\n",
    "patience=5\n",
    "\n",
    "utility_scores = [None] * 5\n",
    "accuracy_scores = [None] * 5\n",
    "\n",
    "writer = SummaryWriter()\n",
    "\n",
    "ts_train = torch.tensor(df.loc[folds_list_train_unique, FEATURES_LIST_TOTRAIN].to_numpy(), device='cuda')\n",
    "ts_train_y = torch.tensor((df.loc[folds_list_train_unique, 'resp'] > 0).astype(np.byte).to_numpy(), device='cuda')\n",
    "ts_train_y_reg = torch.tensor(df.loc[folds_list_train_unique, 'resp'].to_numpy(), device='cuda')\n",
    "\n",
    "# Normalize data\n",
    "ts_train_mean = torch.mean(ts_train, axis=0)\n",
    "ts_train_std = torch.std(ts_train, axis=0)\n",
    "#ts_train = pyStandardScale(ts_train, ts_train_mean, ts_train_std)\n",
    "\n",
    "train_dataset = torch.utils.data.TensorDataset(ts_train, ts_train_y, ts_train_y_reg)\n",
    "train_loader = torch.utils.data.DataLoader(train_dataset, batch_size=BATCH_SIZE, shuffle=True) # pin_memory : VOIR RESULTAT\n",
    "\n",
    "ts_test = [None] * 5\n",
    "ts_test_y = [None] * 5    \n",
    "ts_test_y_reg = [None] * 5   \n",
    "test_dataset = [None] * 5\n",
    "test_loader = [None] * 5\n",
    "\n",
    "for fold_indice in range(5):\n",
    "    ts_test[fold_indice] = torch.tensor(df.loc[folds_list_test[fold_indice], FEATURES_LIST_TOTRAIN].to_numpy(), device='cuda')\n",
    "    ts_test_y[fold_indice] = torch.tensor((df.loc[folds_list_test[fold_indice], 'resp'] > 0).astype(np.byte).to_numpy(), device='cuda')\n",
    "    ts_test_y_reg[fold_indice] = torch.tensor(df.loc[folds_list_test[fold_indice], 'resp'].to_numpy(), device='cuda')\n",
    "\n",
    "    # Normalize\n",
    "    #ts_test[fold_indice] = pyStandardScale(ts_test[fold_indice], ts_train_mean, ts_train_std)\n",
    "    \n",
    "    test_dataset[fold_indice] = torch.utils.data.TensorDataset(ts_test[fold_indice], ts_test_y[fold_indice], ts_test_y_reg[fold_indice])\n",
    "    test_loader[fold_indice] = torch.utils.data.DataLoader(test_dataset[fold_indice], batch_size=BATCH_SIZE)\n",
    "\n",
    "torch.manual_seed(seed)\n",
    "\n",
    "'''\n",
    "model = nn.Sequential(\n",
    "        #nn.Dropout(0.2),\n",
    "        nn.Linear(len(FEATURES_LIST_TOTRAIN), 200),\n",
    "        #nn.BatchNorm1d(130),\n",
    "        nn.ReLU(),\n",
    "        nn.Dropout(0.7),\n",
    "\n",
    "        nn.Linear(200, 100),\n",
    "        #nn.BatchNorm1d(130),\n",
    "        nn.ReLU(),\n",
    "        nn.Dropout(0.7),\n",
    "    \n",
    "        nn.Linear(100, 1),\n",
    "        nn.Sigmoid(),\n",
    "    ).double().to('cuda')\n",
    "'''\n",
    "\n",
    "class MLP(torch.nn.Module):\n",
    "    #def __init__(self, n_feature, n_hidden): \n",
    "    def __init__(self): \n",
    "        super(MLP, self).__init__() \n",
    "\n",
    "        #nn.Dropout(0.2),\n",
    "        self.layer1 = nn.Linear(len(FEATURES_LIST_TOTRAIN), 130)\n",
    "        #self.batchnorm1 = nn.BatchNorm1d(130)\n",
    "        self.act1 = nn.Tanh()\n",
    "        self.dropout1 = nn.Dropout(0.3)\n",
    "\n",
    "        self.layer2 = nn.Linear(130, 60)\n",
    "        #self.batchnorm2 = nn.BatchNorm1d(130)\n",
    "        self.act2 = nn.Tanh()\n",
    "        self.dropout2 = nn.Dropout(0.3)\n",
    "\n",
    "        self.layer3 = nn.Linear(60, 1)\n",
    "        \n",
    "        #self.layer11_classif = nn.Linear(30, 1)\n",
    "        #self.act11_classif = nn.Sigmoid()  \n",
    "\n",
    "        #self.layer11_reg = nn.Linear(30, 1)\n",
    "\n",
    "\n",
    "\n",
    "    def forward(self, x):\n",
    "        x = self.dropout1(self.act1(self.layer1(x)))\n",
    "        x = self.dropout2(self.act2(self.layer2(x)))\n",
    "        x = self.layer3(x)\n",
    "\n",
    "        #x_out_classif = nn.Sigmoid()(x[:, 0]).unsqueeze(-1)\n",
    "        #x_out_reg = x[:, 1].unsqueeze(-1)\n",
    "\n",
    "        #x_out_classif = nn.Sigmoid()(x[:, 0])\n",
    "        #x_out_reg = x[:, 1]\n",
    "        x_out_reg = x\n",
    "\n",
    "        #return x_out_classif, x_out_reg\n",
    "        return x_out_reg\n",
    "\n",
    "model = MLP().double().to('cuda')\n",
    "print('Model created')\n",
    "\n",
    "#print('Number of model parameters :')\n",
    "#numel_list = [p.numel() for p in model.parameters()]\n",
    "#sum(numel_list), numel_list\n",
    "\n",
    "loss_fn = nn.BCELoss().to('cuda')\n",
    "loss_fn_reg = nn.MSELoss().to('cuda')\n",
    "\n",
    "#def MSE_SignedLoss(output, target):\n",
    "    #return((nn.LeakyReLU()(-(output*target)) / torch.abs(output*target)) * loss_fn_reg(output, target))\n",
    "\n",
    "def MSE_SignedLoss(output, target):\n",
    "    return(\n",
    "        torch.sqrt(\n",
    "            torch.mean(\n",
    "                (nn.LeakyReLU()(-(output*target)) / torch.abs(output*target)) * torch.pow(output - target, 2)\n",
    "        )\n",
    "    )\n",
    "    )\n",
    "\n",
    "optimizer = torch.optim.Adam(model.parameters(), lr=1e-3) \n",
    "#optimizer = torch.optim.Adam(model.parameters(), lr=1e-2) \n",
    "\n",
    "model.eval()\n",
    "#start_accuracy = accuracy_score(ts_test_y.cpu().numpy(), (model(ts_test).squeeze() > 0.5).cpu().numpy())\n",
    "#start_utility_score = utility_function(df.loc[test_index], (model(ts_test).squeeze() > 0.5).cpu().numpy())\n",
    "#print('Start Validation Accuracy: {:.4f}'.format(start_accuracy))\n",
    "#print('Start Validation Utility: {:.4f}'.format(start_utility_score))\n",
    "\n",
    "### Call back to save activation stats (mean, std dev and near 0 values after activation functions)\n",
    "\n",
    "Val_Loss = 0\n",
    "N_Samples = 0\n",
    "\n",
    "the_last_loss = 100\n",
    "the_last_utility_score = 0\n",
    "the_last_accuracy = 0\n",
    "trigger_times=0\n",
    "early_stopping_met = False\n",
    "\n",
    "for epoch in range(NUM_EPOCHS): \n",
    "    running_loss = 0.0        \n",
    "    \n",
    "    # Setting hook for activation layers stats\n",
    "    hook_handles = []\n",
    "    save_output_activation_stats = []\n",
    "\n",
    "    for layer in model.modules():\n",
    "        if ('activation' in str(type(layer))):\n",
    "            save_output_activation_stats_1layer = SaveOutputActivationStats()\n",
    "            handle = layer.register_forward_hook(save_output_activation_stats_1layer)\n",
    "            save_output_activation_stats.append(save_output_activation_stats_1layer)\n",
    "            hook_handles.append(handle)\n",
    "    \n",
    "    model.train()\n",
    "\n",
    "    for batch in train_loader:\n",
    "        #inputs, labels = batch[0], batch[1]\n",
    "        inputs, labels, labels_reg = batch[0].to('cuda'), batch[1].to('cuda'), batch[2].to('cuda')\n",
    "        optimizer.zero_grad()\n",
    "\n",
    "        with torch.set_grad_enabled(True):\n",
    "            #outputs_classif, outputs_reg = model(inputs)\n",
    "            outputs_reg = model(inputs)\n",
    "            #loss_classif = loss_fn(outputs_classif.unsqueeze(-1), labels.unsqueeze(-1).double())\n",
    "            loss_classif = 0\n",
    "            #loss_reg = MSE_SignedLoss(outputs_reg, labels_reg.unsqueeze(-1).double()) * torch.tensor(864.625) # Coefficient to balance reg loss which is much smaller\n",
    "            loss_reg = MSE_SignedLoss(outputs_reg, labels_reg.unsqueeze(-1).double()) # Coefficient to balance reg loss which is much smaller\n",
    "            #loss_reg = loss_fn_reg(outputs_reg.unsqueeze(-1), labels_reg.unsqueeze(-1).double()) # Coefficient to balance reg loss which is much smaller\n",
    "            \n",
    "            #loss = loss_classif + loss_reg\n",
    "            loss = loss_reg\n",
    "            #loss = loss_classif\n",
    "            \n",
    "            loss.backward()\n",
    "            optimizer.step()\n",
    "\n",
    "    # update local train loss\n",
    "        running_loss += loss.item() * inputs.size(0)\n",
    "\n",
    "    # update global train loss\n",
    "    epoch_loss = running_loss / len(train_loader.dataset)\n",
    "    print('Epoch({}) - Training Loss: {:.4f}'.format(epoch, epoch_loss))\n",
    "\n",
    "    writer.add_scalar(f\"Global train/loss\", epoch_loss, epoch)\n",
    "\n",
    "    # Write activation stats graphs\n",
    "    for layer_number,save_output_activation_stats_layer in enumerate(save_output_activation_stats):\n",
    "        df_stats_layer = pd.DataFrame(save_output_activation_stats_layer.outputs)\n",
    "\n",
    "        fig, ax = plt.subplots(1, 3, figsize=(25, 4))\n",
    "\n",
    "        ax[0].set_title(f'Layer {layer_number} : Mean activation value', fontsize=16)\n",
    "        ax[0].set_xlabel('Batch instances')\n",
    "        ax[0].set_ylabel('Mean')\n",
    "        ax[0].plot(range(df_stats_layer.shape[0]), df_stats_layer['mean'])\n",
    "\n",
    "        ax[1].set_title(f'Layer {layer_number} : Std deviation activation value', fontsize=16)\n",
    "        ax[1].set_xlabel('Batch instances')\n",
    "        ax[1].set_ylabel('Standard deviation')\n",
    "        ax[1].plot(range(df_stats_layer.shape[0]), df_stats_layer['std'])\n",
    "\n",
    "        ax[2].set_title(f'Layer {layer_number} : Percentage of activation values near zero', fontsize=16)\n",
    "        ax[2].set_xlabel('Batch instances')\n",
    "        ax[2].set_ylabel('Percentage')\n",
    "        ax[2].plot(range(df_stats_layer.shape[0]), df_stats_layer['near_zero']);\n",
    "        \n",
    "        plot_buf = io.BytesIO()\n",
    "        plt.savefig(plot_buf, format='jpeg')\n",
    "        plt.close()\n",
    "        \n",
    "        plot_buf.seek(0)\n",
    "        image = PIL.Image.open(plot_buf)\n",
    "        image = transforms.ToTensor()(image)\n",
    "        writer.add_image(\"Train activation stats/Activation stats layer \" + str(layer_number), image, epoch)\n",
    "    \n",
    "    # Validation \n",
    "    model.eval()\n",
    "\n",
    "    vrunning_loss = [None] * 5\n",
    "    vrunning_loss_classif = [None] * 5\n",
    "    vrunning_loss_reg = [None] * 5\n",
    "    num_samples = [None] * 5\n",
    "    vepoch_loss_folds = [None] * 5\n",
    "    vepoch_loss_classif_folds = [None] * 5\n",
    "    vepoch_loss_reg_folds = [None] * 5\n",
    "    vepoch_accuracy_folds = [None] * 5\n",
    "    vepoch_utility_score_folds = [None] * 5\n",
    "    \n",
    "    for fold_indice in range(5):    \n",
    "        vrunning_loss[fold_indice] = 0.0\n",
    "        vrunning_loss_classif[fold_indice] = 0.0\n",
    "        vrunning_loss_reg[fold_indice] = 0.0\n",
    "        num_samples[fold_indice] = 0\n",
    "\n",
    "        for batch in test_loader[fold_indice]:\n",
    "            inputs, labels, labels_reg = batch[0].to('cuda'), batch[1].to('cuda'), batch[2].to('cuda')\n",
    "\n",
    "            optimizer.zero_grad()\n",
    "            with torch.no_grad():\n",
    "                #outputs_classif, outputs_reg = model(inputs)\n",
    "                outputs_reg = model(inputs)\n",
    "                #loss_classif = loss_fn(outputs_classif.unsqueeze(-1), labels.unsqueeze(-1).double())\n",
    "\n",
    "                #loss_reg = loss_fn_reg(outputs_reg, torch.sigmoid(labels_reg.unsqueeze(-1).double()))\n",
    "                #loss_reg = loss_fn_reg(outputs_reg.unsqueeze(-1), labels_reg.unsqueeze(-1).double()) # Coefficient to balance reg loss which is much smaller\n",
    "                #loss_reg = MSE_SignedLoss(outputs_reg, labels_reg.unsqueeze(-1).double()) * torch.tensor(864.625) # Coefficient to balance reg loss which is much smaller\n",
    "                loss_reg = MSE_SignedLoss(outputs_reg, labels_reg.unsqueeze(-1).double()) # Coefficient to balance reg loss which is much smaller\n",
    "                \n",
    "                #loss = loss_classif + loss_reg \n",
    "                #loss = loss_classif \n",
    "                loss = loss_reg \n",
    "                \n",
    "            vrunning_loss[fold_indice] += loss.item() * inputs.size(0)\n",
    "            num_samples[fold_indice] += labels.size(0)\n",
    "            \n",
    "            #vrunning_loss_classif[fold_indice] += loss_classif.item() * inputs.size(0)\n",
    "            vrunning_loss_reg[fold_indice] += loss_reg.item() * inputs.size(0)\n",
    "            \n",
    "            vepoch_loss_folds[fold_indice] = vrunning_loss[fold_indice] / num_samples[fold_indice]\n",
    "            #vepoch_loss_classif_folds[fold_indice] = vrunning_loss_classif[fold_indice] / num_samples[fold_indice]\n",
    "            vepoch_loss_reg_folds[fold_indice] = vrunning_loss_reg[fold_indice] / num_samples[fold_indice]\n",
    "\n",
    "        print('Epoch({}) - Fold {} - Validation Loss : {:.4f}'.format(epoch, fold_indice, vepoch_loss_folds[fold_indice]))\n",
    "        #print('Epoch({}) - Fold {} -> Validation Loss Classif : {:.4f}'.format(epoch, fold_indice, vepoch_loss_classif_folds[fold_indice]))\n",
    "        print('Epoch({}) - Fold {} -> Validation Loss Reg : {:.4f}'.format(epoch, fold_indice, vepoch_loss_reg_folds[fold_indice]))\n",
    "\n",
    "        model.eval()\n",
    "        with torch.no_grad():\n",
    "            vepoch_accuracy_folds[fold_indice] = accuracy_score(ts_test_y[fold_indice].cpu().numpy(), (model(ts_test[fold_indice]) > 0).squeeze().cpu().numpy())  # model...[0] is the classification output of model\n",
    "            vepoch_utility_score_folds[fold_indice] = utility_function(df.loc[folds_list_test[fold_indice]], (model(ts_test[fold_indice]) > 0).squeeze().cpu().numpy())\n",
    "        print('Epoch({}) - Fold {} - Validation Accuracy : {:.4f}'.format(epoch, fold_indice, vepoch_accuracy_folds[fold_indice]))\n",
    "        print('Epoch({}) - Fold {} - Validation Utility score : {:.4f}'.format(epoch, fold_indice, vepoch_utility_score_folds[fold_indice]))\n",
    "        \n",
    "            \n",
    "    # update epoch loss\n",
    "    vepoch_loss = sum(vepoch_loss_folds) / len(vepoch_loss_folds)\n",
    "    vepoch_accuracy = sum(vepoch_accuracy_folds) / len(vepoch_accuracy_folds)\n",
    "    vepoch_utility_score = sum(vepoch_utility_score_folds) #/ len(vepoch_utility_score_folds)\n",
    "    print('Epoch({}) - GLOBAL - Validation Loss: {:.4f}'.format(epoch, vepoch_loss))\n",
    "    print('Epoch({}) - GLOBAL - Validation Accuracy: {:.4f}'.format(epoch, vepoch_accuracy))\n",
    "    print('Epoch({}) - GLOBAL - Validation Utility score: {:.4f}'.format(epoch, vepoch_utility_score))\n",
    "\n",
    "    #print(f'Sum of model parameters ({epoch}):')\n",
    "    #[print(p.sum()) for p in model.parameters()]\n",
    "\n",
    "    writer.add_scalar(\"Global valid/Loss\", vepoch_loss, epoch)\n",
    "    writer.add_scalar(\"Global valid/Accuracy\", vepoch_accuracy, epoch)\n",
    "    writer.add_scalar(\"Global valid/Utility\", vepoch_utility_score, epoch)\n",
    "\n",
    "    for fold_indice in range(5):\n",
    "        writer.add_scalar(\"Fold valid Loss/Loss fold \"+str(fold_indice), vepoch_loss_folds[fold_indice], epoch)\n",
    "        writer.add_scalar(\"Fold valid Accuracy/Accuracy fold \"+str(fold_indice), vepoch_accuracy_folds[fold_indice], epoch)\n",
    "        writer.add_scalar(\"Fold valid Utility/Utility fold \"+str(fold_indice), vepoch_utility_score_folds[fold_indice], epoch)\n",
    "        \n",
    "    \n",
    "    writer.flush()\n",
    "\n",
    "    #if (epoch == 7):\n",
    "        #print('EPOCH 7 ATTAINED')\n",
    "        #break\n",
    "    \n",
    "    # Check if Early Stopping\n",
    "    #if vepoch_loss > the_last_loss:\n",
    "    #if (vepoch_utility_score < the_last_utility_score) and (vepoch_loss > the_last_loss) and (vepoch_accuracy < the_last_accuracy):\n",
    "    if (vepoch_loss > the_last_loss):\n",
    "        trigger_times += 1\n",
    "\n",
    "        print(f'Intermediate early stopping : vepoch_loss = {vepoch_loss:.4f}, the_last_loss={the_last_loss:.4f}')\n",
    "        #print(f'Intermediate early stopping : vepoch_accuracy = {vepoch_accuracy:.4f}, the_last_utility_score={the_last_accuracy:.4f}')\n",
    "        #print(f'Intermediate early stopping : vepoch_utility_score = {vepoch_utility_score:.4f}, the_last_utility_score={the_last_utility_score:.4f}')\n",
    "\n",
    "        if trigger_times >= patience:\n",
    "            print('Meet Early stopping!')\n",
    "            early_stopping_met = True\n",
    "            ##torch.save(model.state_dict(), f'model_{fold}.pt')\n",
    "            break\n",
    "    else:\n",
    "        trigger_times = 0\n",
    "        the_last_loss = vepoch_loss\n",
    "        the_last_utility_score = vepoch_utility_score\n",
    "        the_last_accuracy = vepoch_accuracy\n",
    "        \n",
    "        the_last_utility_score_folds = vepoch_utility_score_folds\n",
    "        the_last_accuracy_folds = vepoch_accuracy_folds\n",
    "        \n",
    "        the_best_epoch = epoch\n",
    "\n",
    "        # Save model for the best version so far\n",
    "        print(f'Saving model corresponding to last_utility_score == {the_last_utility_score}')\n",
    "        torch.save(model.state_dict(), f'model_NN_allfolds_V1.pt')\n",
    "\n",
    "    print('\\n')\n",
    "\n",
    "if (early_stopping_met == False):\n",
    "    print(\"Didn't meet early stopping : saving final model\")\n",
    "    # Save model if don't meet early stopping\n",
    "    torch.save(model.state_dict(), f'model_NN_allfolds_V1.pt')\n",
    "\n",
    "#utility_scores.append(the_last_utility_score)\n",
    "#accuracy_scores.append(the_last_accuracy)\n",
    "writer.add_text(f\"Global valid/Utility\", f\"Best utility: {the_last_utility_score}\", the_best_epoch)\n",
    "        \n",
    "scores_results = {'utility_score': the_last_utility_score, 'utility_scores': the_last_utility_score_folds, 'utility_score_std': np.std(the_last_utility_score_folds), 'accuracy_scores': the_last_accuracy_folds}\n",
    "\n",
    "writer.add_text('Final utility score', str(scores_results))\n",
    "writer.add_text('Batch size', str(BATCH_SIZE))\n",
    "writer.add_text('Patience', str(patience))\n",
    "writer.add_text('Number of epochs', str(NUM_EPOCHS))\n",
    "writer.add_text('Number of parameters per layer', str([p.numel() for p in model.parameters()]))\n",
    "writer.add_text('Model architecture', str(model).replace('\\n', '<BR>'))\n",
    "writer.add_text('Comment', MODEL_COMMENT)\n",
    "\n",
    "writer.close()\n",
    "\n",
    "print('Training summary:')\n",
    "print(scores_results)"
   ]
  },
  {
   "cell_type": "code",
   "execution_count": 52,
   "metadata": {},
   "outputs": [
    {
     "data": {
      "text/plain": [
       "tensor([[ 1.0000, -2.1321,  ...,  0.5874,  4.3042],\n",
       "        [-1.0000,  0.6492,  ...,  1.5986,  0.5584],\n",
       "        ...,\n",
       "        [-1.0000,  0.2672,  ..., -1.7266,  1.3048],\n",
       "        [-1.0000,  0.4237,  ..., -1.2025, -1.4359]], device='cuda:0',\n",
       "       dtype=torch.float64)"
      ]
     },
     "execution_count": 52,
     "metadata": {},
     "output_type": "execute_result"
    }
   ],
   "source": [
    "ts_test[fold_indice]"
   ]
  },
  {
   "cell_type": "code",
   "execution_count": 51,
   "metadata": {},
   "outputs": [
    {
     "ename": "RuntimeError",
     "evalue": "CUDA out of memory. Tried to allocate 6.31 GiB (GPU 0; 23.69 GiB total capacity; 15.52 GiB already allocated; 5.74 GiB free; 15.53 GiB reserved in total by PyTorch)",
     "output_type": "error",
     "traceback": [
      "Traceback \u001b[0;36m(most recent call last)\u001b[0m:\n",
      "  File \u001b[1;32m\"<ipython-input-51-61544e7ab9e7>\"\u001b[0m, line \u001b[1;32m1\u001b[0m, in \u001b[1;35m<module>\u001b[0m\n    (model(ts_test[fold_indice]) > 0)\n",
      "  File \u001b[1;32m\"/opt/anaconda3/envs/janestreet/lib/python3.8/site-packages/torch/nn/modules/module.py\"\u001b[0m, line \u001b[1;32m727\u001b[0m, in \u001b[1;35m_call_impl\u001b[0m\n    result = self.forward(*input, **kwargs)\n",
      "  File \u001b[1;32m\"<ipython-input-48-403d94f23a2f>\"\u001b[0m, line \u001b[1;32m84\u001b[0m, in \u001b[1;35mforward\u001b[0m\n    x = self.dropout1(self.act1(self.layer1(x)))\n",
      "  File \u001b[1;32m\"/opt/anaconda3/envs/janestreet/lib/python3.8/site-packages/torch/nn/modules/module.py\"\u001b[0m, line \u001b[1;32m727\u001b[0m, in \u001b[1;35m_call_impl\u001b[0m\n    result = self.forward(*input, **kwargs)\n",
      "  File \u001b[1;32m\"/opt/anaconda3/envs/janestreet/lib/python3.8/site-packages/torch/nn/modules/linear.py\"\u001b[0m, line \u001b[1;32m93\u001b[0m, in \u001b[1;35mforward\u001b[0m\n    return F.linear(input, self.weight, self.bias)\n",
      "\u001b[0;36m  File \u001b[0;32m\"/opt/anaconda3/envs/janestreet/lib/python3.8/site-packages/torch/nn/functional.py\"\u001b[0;36m, line \u001b[0;32m1690\u001b[0;36m, in \u001b[0;35mlinear\u001b[0;36m\u001b[0m\n\u001b[0;31m    ret = torch.addmm(bias, input, weight.t())\u001b[0m\n",
      "\u001b[0;31mRuntimeError\u001b[0m\u001b[0;31m:\u001b[0m CUDA out of memory. Tried to allocate 6.31 GiB (GPU 0; 23.69 GiB total capacity; 15.52 GiB already allocated; 5.74 GiB free; 15.53 GiB reserved in total by PyTorch)\n"
     ]
    }
   ],
   "source": [
    "(model(ts_test[fold_indice]) > 0)"
   ]
  },
  {
   "cell_type": "markdown",
   "metadata": {},
   "source": [
    "# Load model"
   ]
  },
  {
   "cell_type": "code",
   "execution_count": null,
   "metadata": {},
   "outputs": [],
   "source": [
    "'''\n",
    "model_load = nn.Sequential(\n",
    "        #nn.Dropout(0.2),\n",
    "        nn.Linear(len(FEATURES_LIST_TOTRAIN), 130),\n",
    "        #nn.BatchNorm1d(130),\n",
    "        nn.ReLU(),\n",
    "        nn.Dropout(0.3),\n",
    "\n",
    "        nn.Linear(130, 130),\n",
    "        #nn.BatchNorm1d(130),\n",
    "        nn.ReLU(),\n",
    "        nn.Dropout(0.3),    \n",
    "\n",
    "        nn.Linear(130, 130),\n",
    "        #nn.BatchNorm1d(130),\n",
    "        nn.ReLU(),\n",
    "        nn.Dropout(0.3),    \n",
    "\n",
    "        nn.Linear(130, 130),\n",
    "        #nn.BatchNorm1d(130),\n",
    "        nn.ReLU(),\n",
    "        nn.Dropout(0.3),    \n",
    "\n",
    "        nn.Linear(130, 130),\n",
    "        #nn.BatchNorm1d(130),\n",
    "        nn.ReLU(),\n",
    "        nn.Dropout(0.3),    \n",
    "\n",
    "        nn.Linear(130, 130),\n",
    "        #nn.BatchNorm1d(130),\n",
    "        nn.ReLU(),\n",
    "        nn.Dropout(0.3),    \n",
    "    \n",
    "        nn.Linear(130, 130),\n",
    "        #nn.BatchNorm1d(130),\n",
    "        nn.ReLU(),\n",
    "        nn.Dropout(0.3),    \n",
    "    \n",
    "        nn.Linear(130, 130),\n",
    "        #nn.BatchNorm1d(130),\n",
    "        nn.ReLU(),\n",
    "        nn.Dropout(0.3),    \n",
    "\n",
    "        nn.Linear(130, 60),\n",
    "        #nn.BatchNorm1d(130),\n",
    "        nn.ReLU(),\n",
    "        nn.Dropout(0.3),    \n",
    "    \n",
    "        nn.Linear(60, 30),\n",
    "        #nn.BatchNorm1d(130),\n",
    "        nn.ReLU(),\n",
    "        nn.Dropout(0.3),    \n",
    "       \n",
    "        nn.Linear(30, 1),\n",
    "        nn.Sigmoid(),\n",
    "    ).double().to('cuda')\n",
    "    \n",
    "model_load.load_state_dict(torch.load(f'model_NN_allfolds_V1.pt',map_location=torch.device('cuda')))\n",
    "'''\n",
    "\n",
    "#model_load.eval()\n",
    "#print(accuracy_score(ts_test_y.cpu().numpy(), (model_load(ts_test).squeeze() > 0.5).cpu().numpy()))\n",
    "#\n",
    "#model_load.eval()\n",
    "#print(utility_function(df.loc[test_index], (model_load(ts_test).squeeze() > 0.5).cpu().numpy()))\n"
   ]
  },
  {
   "cell_type": "markdown",
   "metadata": {},
   "source": [
    "# Data for model inference"
   ]
  },
  {
   "cell_type": "markdown",
   "metadata": {},
   "source": [
    "## First, fill NA with :"
   ]
  },
  {
   "cell_type": "code",
   "execution_count": null,
   "metadata": {},
   "outputs": [],
   "source": [
    "f_mean"
   ]
  },
  {
   "cell_type": "markdown",
   "metadata": {},
   "source": [
    "## Then, normalize with :"
   ]
  },
  {
   "cell_type": "code",
   "execution_count": null,
   "metadata": {},
   "outputs": [],
   "source": [
    "ts_train_mean"
   ]
  },
  {
   "cell_type": "code",
   "execution_count": null,
   "metadata": {},
   "outputs": [],
   "source": [
    "ts_train_std"
   ]
  },
  {
   "cell_type": "code",
   "execution_count": null,
   "metadata": {},
   "outputs": [],
   "source": [
    "class SaveOutput:\n",
    "    def __init__(self):\n",
    "        self.outputs = []\n",
    "        \n",
    "    def __call__(self, module, module_in, module_out):\n",
    "        self.outputs.append(module_out)\n",
    "        print(type(module_out))\n",
    "        \n",
    "    def clear(self):\n",
    "        self.outputs = []"
   ]
  },
  {
   "cell_type": "code",
   "execution_count": null,
   "metadata": {},
   "outputs": [],
   "source": [
    "model2 =  nn.Sequential(\n",
    "        nn.Linear(4, 2),\n",
    "        nn.ReLU(),\n",
    "\n",
    "        nn.Linear(2, 2),\n",
    "        nn.ReLU(),\n",
    "\n",
    "\n",
    "    \n",
    "        nn.Linear(2, 1),\n",
    "        nn.Sigmoid(),\n",
    "\n",
    ")\n",
    "\n",
    "model2.eval()"
   ]
  },
  {
   "cell_type": "code",
   "execution_count": null,
   "metadata": {},
   "outputs": [],
   "source": [
    "for i, param_object in enumerate(model2.parameters()):\n",
    "    print(f'Object {i}')\n",
    "    print(param_object.shape)\n",
    "    print(param_object.data)"
   ]
  },
  {
   "cell_type": "code",
   "execution_count": null,
   "metadata": {},
   "outputs": [],
   "source": [
    "'activation' in str(type(model2[1]))"
   ]
  },
  {
   "cell_type": "code",
   "execution_count": null,
   "metadata": {},
   "outputs": [],
   "source": [
    "isinstance(model2[1], torch.nn.ReLU)"
   ]
  },
  {
   "cell_type": "code",
   "execution_count": null,
   "metadata": {},
   "outputs": [],
   "source": [
    "save_output = SaveOutput()\n",
    "\n",
    "hook_handles = []\n",
    "\n",
    "for layer in model2.modules():\n",
    "    if ('activation' in str(type(layer))):\n",
    "        handle = layer.register_forward_hook(save_output)\n",
    "        hook_handles.append(handle)"
   ]
  },
  {
   "cell_type": "code",
   "execution_count": null,
   "metadata": {},
   "outputs": [],
   "source": [
    "hook_handles"
   ]
  },
  {
   "cell_type": "code",
   "execution_count": null,
   "metadata": {},
   "outputs": [],
   "source": [
    "#with torch.no_grad():\n",
    "print(model2(torch.tensor([1, 1, 1, 2], dtype=torch.float)))"
   ]
  },
  {
   "cell_type": "code",
   "execution_count": null,
   "metadata": {},
   "outputs": [],
   "source": [
    "save_output.outputs"
   ]
  },
  {
   "cell_type": "code",
   "execution_count": null,
   "metadata": {},
   "outputs": [],
   "source": [
    "activation.append([0.11, 01.11])"
   ]
  },
  {
   "cell_type": "code",
   "execution_count": null,
   "metadata": {},
   "outputs": [],
   "source": [
    "# Pour récupérer les gradients : https://discuss.pytorch.org/t/how-to-print-the-computed-gradient-values-for-a-network/34179\n",
    "print(model2[0].weight.grad)"
   ]
  },
  {
   "cell_type": "code",
   "execution_count": null,
   "metadata": {},
   "outputs": [],
   "source": [
    "model"
   ]
  },
  {
   "cell_type": "code",
   "execution_count": null,
   "metadata": {},
   "outputs": [],
   "source": []
  }
 ],
 "metadata": {
  "kernelspec": {
   "display_name": "Python 3 (Spyder)",
   "language": "python3",
   "name": "python3"
  },
  "language_info": {
   "codemirror_mode": {
    "name": "ipython",
    "version": 3
   },
   "file_extension": ".py",
   "mimetype": "text/x-python",
   "name": "python",
   "nbconvert_exporter": "python",
   "pygments_lexer": "ipython3",
   "version": "3.8.5"
  }
 },
 "nbformat": 4,
 "nbformat_minor": 4
}
