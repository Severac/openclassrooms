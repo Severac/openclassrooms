{
 "cells": [
  {
   "cell_type": "markdown",
   "metadata": {},
   "source": [
    "# Pytorch classifier notebook\n",
    "\n",
    "V1 : only 1 split. First implementation  \n",
    "All folds V1 : with all folds  \n",
    "All folds V2 : add activation stats plot  \n",
    "All folds V3 : try 2 outputs regression and classification. Activation stats plot fixed.  \n",
    "All folds V4 : still 2 outputs regression and classification, but 2 variables on last layer, instead of 2 last layers."
   ]
  },
  {
   "cell_type": "code",
   "execution_count": 1,
   "metadata": {},
   "outputs": [],
   "source": [
    "import numpy as np # linear algebra\n",
    "import pandas as pd # data processing, CSV file I/O (e.g. pd.read_csv)\n",
    "\n",
    "import matplotlib.pyplot as plt\n",
    "\n",
    "from sklearn.metrics import accuracy_score\n",
    "\n",
    "import torch\n",
    "import torch.nn as nn\n",
    "import torch.nn.functional as F\n",
    "import torch.optim as optim\n",
    "import torchvision.transforms as transforms\n",
    "import torchvision.utils as utils\n",
    "\n",
    "from torch.utils.tensorboard import SummaryWriter\n",
    "import io\n",
    "import PIL.Image\n",
    "\n",
    "torch.set_printoptions(edgeitems=2)\n",
    "torch.manual_seed(42)\n",
    "\n",
    "DATASET_INPUT_FILE = 'train.csv'\n",
    "\n",
    "FEATURES_LIST_TOTRAIN = ['feature_'+str(i) for i in range(130)]\n",
    "\n",
    "# For custom non-overlaped folds generation\n",
    "TRAIN_PERCENT = 0.70  \n",
    "TEST_PERCENT = 0.30\n",
    "\n",
    "#pd.set_option('display.max_rows', 500)"
   ]
  },
  {
   "cell_type": "code",
   "execution_count": 2,
   "metadata": {},
   "outputs": [],
   "source": [
    "# Deterministic Behavior\n",
    "seed = 42\n",
    "#os.environ['PYTHONHASHSEED'] = str(seed)\n",
    "# Torch RNG\n",
    "torch.manual_seed(seed)\n",
    "torch.cuda.manual_seed(seed)\n",
    "torch.cuda.manual_seed_all(seed)\n",
    "# Python RNG\n",
    "np.random.seed(seed)\n",
    "#random.seed(seed)\n",
    "# CuDA Determinism\n",
    "torch.backends.cudnn.deterministic = True\n",
    "#torch.backends.cudnn.benchmark = False"
   ]
  },
  {
   "cell_type": "code",
   "execution_count": 101,
   "metadata": {},
   "outputs": [],
   "source": [
    "#BATCH_SIZE = 50000\n",
    "#BATCH_SIZE = 4096 # Gave once better results than 50000\n",
    "#BATCH_SIZE = 2048\n",
    "\n",
    "#BATCH_SIZE = 300000\n",
    "\n",
    "#BATCH_SIZE = 500000\n",
    "BATCH_SIZE = 100000\n",
    "\n",
    "#BATCH_SIZE = 8192\n",
    "#BATCH_SIZE = 40960\n",
    "\n",
    "NUM_EPOCHS = 100\n",
    "#MODEL_COMMENT = \"All folds, 3 layers 2000, 1000 and 1, batch size 4096, lr=1e-4, patience 5, standard scale, 0.7 dropout, activ stats, CLASSIF+REG without sigmoid on reg\"\n",
    "MODEL_COMMENT = \"All folds, 3 layers width 1300-1600, classif+reg, batch size 50000, lr=1e-3, patience 5, no standard scale, 0.3 dropout, activ stats, CLASSIF+REG 2 vars last layer, tanh, only reg used\""
   ]
  },
  {
   "cell_type": "code",
   "execution_count": 4,
   "metadata": {},
   "outputs": [],
   "source": [
    "def pyStandardScale(tensor, mean, std):\n",
    "    return((tensor - mean) / std)"
   ]
  },
  {
   "cell_type": "code",
   "execution_count": 5,
   "metadata": {},
   "outputs": [],
   "source": [
    "from sklearn.model_selection import KFold\n",
    "from sklearn.model_selection._split import _BaseKFold, indexable, _num_samples\n",
    "from sklearn.utils.validation import _deprecate_positional_args\n",
    "\n",
    "# modified code for group gaps; source\n",
    "# https://github.com/getgaurav2/scikit-learn/blob/d4a3af5cc9da3a76f0266932644b884c99724c57/sklearn/model_selection/_split.py#L2243\n",
    "class PurgedGroupTimeSeriesSplit(_BaseKFold):\n",
    "    \"\"\"Time Series cross-validator variant with non-overlapping groups.\n",
    "    Allows for a gap in groups to avoid potentially leaking info from\n",
    "    train into test if the model has windowed or lag features.\n",
    "    Provides train/test indices to split time series data samples\n",
    "    that are observed at fixed time intervals according to a\n",
    "    third-party provided group.\n",
    "    In each split, test indices must be higher than before, and thus shuffling\n",
    "    in cross validator is inappropriate.\n",
    "    This cross-validation object is a variation of :class:`KFold`.\n",
    "    In the kth split, it returns first k folds as train set and the\n",
    "    (k+1)th fold as test set.\n",
    "    The same group will not appear in two different folds (the number of\n",
    "    distinct groups has to be at least equal to the number of folds).\n",
    "    Note that unlike standard cross-validation methods, successive\n",
    "    training sets are supersets of those that come before them.\n",
    "    Read more in the :ref:`User Guide <cross_validation>`.\n",
    "    Parameters\n",
    "    ----------\n",
    "    n_splits : int, default=5\n",
    "        Number of splits. Must be at least 2.\n",
    "    max_train_group_size : int, default=Inf\n",
    "        Maximum group size for a single training set.\n",
    "    group_gap : int, default=None\n",
    "        Gap between train and test\n",
    "    max_test_group_size : int, default=Inf\n",
    "        We discard this number of groups from the end of each train split\n",
    "    \"\"\"\n",
    "\n",
    "    @_deprecate_positional_args\n",
    "    def __init__(self,\n",
    "                 n_splits=5,\n",
    "                 *,\n",
    "                 max_train_group_size=np.inf,\n",
    "                 max_test_group_size=np.inf,\n",
    "                 group_gap=None,\n",
    "                 verbose=False\n",
    "                 ):\n",
    "        super().__init__(n_splits, shuffle=False, random_state=None)\n",
    "        self.max_train_group_size = max_train_group_size\n",
    "        self.group_gap = group_gap\n",
    "        self.max_test_group_size = max_test_group_size\n",
    "        self.verbose = verbose\n",
    "\n",
    "    def split(self, X, y=None, groups=None):\n",
    "        \"\"\"Generate indices to split data into training and test set.\n",
    "        Parameters\n",
    "        ----------\n",
    "        X : array-like of shape (n_samples, n_features)\n",
    "            Training data, where n_samples is the number of samples\n",
    "            and n_features is the number of features.\n",
    "        y : array-like of shape (n_samples,)\n",
    "            Always ignored, exists for compatibility.\n",
    "        groups : array-like of shape (n_samples,)\n",
    "            Group labels for the samples used while splitting the dataset into\n",
    "            train/test set.\n",
    "        Yields\n",
    "        ------\n",
    "        train : ndarray\n",
    "            The training set indices for that split.\n",
    "        test : ndarray\n",
    "            The testing set indices for that split.\n",
    "        \"\"\"\n",
    "        if groups is None:\n",
    "            raise ValueError(\n",
    "                \"The 'groups' parameter should not be None\")\n",
    "        X, y, groups = indexable(X, y, groups)\n",
    "        n_samples = _num_samples(X)\n",
    "        n_splits = self.n_splits\n",
    "        group_gap = self.group_gap\n",
    "        max_test_group_size = self.max_test_group_size\n",
    "        max_train_group_size = self.max_train_group_size\n",
    "        n_folds = n_splits + 1\n",
    "        group_dict = {}\n",
    "        u, ind = np.unique(groups, return_index=True)\n",
    "        unique_groups = u[np.argsort(ind)]\n",
    "        n_samples = _num_samples(X)\n",
    "        n_groups = _num_samples(unique_groups)\n",
    "        for idx in np.arange(n_samples):\n",
    "            if (groups[idx] in group_dict):\n",
    "                group_dict[groups[idx]].append(idx)\n",
    "            else:\n",
    "                group_dict[groups[idx]] = [idx]\n",
    "        if n_folds > n_groups:\n",
    "            raise ValueError(\n",
    "                (\"Cannot have number of folds={0} greater than\"\n",
    "                 \" the number of groups={1}\").format(n_folds,\n",
    "                                                     n_groups))\n",
    "\n",
    "        group_test_size = min(n_groups // n_folds, max_test_group_size)\n",
    "        group_test_starts = range(n_groups - n_splits * group_test_size,\n",
    "                                  n_groups, group_test_size)\n",
    "        for group_test_start in group_test_starts:\n",
    "            train_array = []\n",
    "            test_array = []\n",
    "\n",
    "            group_st = max(0, group_test_start - group_gap - max_train_group_size)\n",
    "            for train_group_idx in unique_groups[group_st:(group_test_start - group_gap)]:\n",
    "                train_array_tmp = group_dict[train_group_idx]\n",
    "                \n",
    "                train_array = np.sort(np.unique(\n",
    "                                      np.concatenate((train_array,\n",
    "                                                      train_array_tmp)),\n",
    "                                      axis=None), axis=None)\n",
    "\n",
    "            train_end = train_array.size\n",
    " \n",
    "            for test_group_idx in unique_groups[group_test_start:\n",
    "                                                group_test_start +\n",
    "                                                group_test_size]:\n",
    "                test_array_tmp = group_dict[test_group_idx]\n",
    "                test_array = np.sort(np.unique(\n",
    "                                              np.concatenate((test_array,\n",
    "                                                              test_array_tmp)),\n",
    "                                     axis=None), axis=None)\n",
    "\n",
    "            test_array  = test_array[group_gap:]\n",
    "            \n",
    "            \n",
    "            if self.verbose > 0:\n",
    "                    pass\n",
    "                    \n",
    "            yield [int(i) for i in train_array], [int(i) for i in test_array]\n",
    "\n",
    "from matplotlib.colors import ListedColormap\n",
    "    \n",
    "# this is code slightly modified from the sklearn docs here:\n",
    "# https://scikit-learn.org/stable/auto_examples/model_selection/plot_cv_indices.html#sphx-glr-auto-examples-model-selection-plot-cv-indices-py\n",
    "def plot_cv_indices(cv, X, y, group, ax, n_splits, lw=10):\n",
    "    \"\"\"Create a sample plot for indices of a cross-validation object.\"\"\"\n",
    "    \n",
    "    cmap_cv = plt.cm.coolwarm\n",
    "\n",
    "    jet = plt.cm.get_cmap('jet', 256)\n",
    "    seq = np.linspace(0, 1, 256)\n",
    "    _ = np.random.shuffle(seq)   # inplace\n",
    "    cmap_data = ListedColormap(jet(seq))\n",
    "\n",
    "    # Generate the training/testing visualizations for each CV split\n",
    "    for ii, (tr, tt) in enumerate(cv.split(X=X, y=y, groups=group)):\n",
    "        # Fill in indices with the training/test groups\n",
    "        indices = np.array([np.nan] * len(X))\n",
    "        indices[tt] = 1\n",
    "        indices[tr] = 0\n",
    "\n",
    "        # Visualize the results\n",
    "        ax.scatter(range(len(indices)), [ii + .5] * len(indices),\n",
    "                   c=indices, marker='_', lw=lw, cmap=cmap_cv,\n",
    "                   vmin=-.2, vmax=1.2)\n",
    "\n",
    "    # Plot the data classes and groups at the end\n",
    "    ax.scatter(range(len(X)), [ii + 1.5] * len(X),\n",
    "               c=y, marker='_', lw=lw, cmap=plt.cm.Set3)\n",
    "\n",
    "    ax.scatter(range(len(X)), [ii + 2.5] * len(X),\n",
    "               c=group, marker='_', lw=lw, cmap=cmap_data)\n",
    "\n",
    "    # Formatting\n",
    "    yticklabels = list(range(n_splits)) + ['target', 'day']\n",
    "    ax.set(yticks=np.arange(n_splits+2) + .5, yticklabels=yticklabels,\n",
    "           xlabel='Sample index', ylabel=\"CV iteration\",\n",
    "           ylim=[n_splits+2.2, -.2], xlim=[0, len(y)])\n",
    "    ax.set_title('{}'.format(type(cv).__name__), fontsize=15)\n",
    "    return ax\n",
    "\n",
    "\n",
    "def plot_cv_indices_custom(cv_custom, X, y, group, ax, n_splits, lw=10):\n",
    "    \"\"\"Create a sample plot for indices of a cross-validation object.\"\"\"\n",
    "    \n",
    "    cmap_cv = plt.cm.coolwarm\n",
    "\n",
    "    jet = plt.cm.get_cmap('jet', 256)\n",
    "    seq = np.linspace(0, 1, 256)\n",
    "    _ = np.random.shuffle(seq)   # inplace\n",
    "    cmap_data = ListedColormap(jet(seq))\n",
    "\n",
    "    # Generate the training/testing visualizations for each CV split\n",
    "    for ii, (tr, tt) in enumerate(cv_custom):\n",
    "        # Fill in indices with the training/test groups\n",
    "        indices = np.array([np.nan] * len(X))\n",
    "        indices[tt] = 1\n",
    "        indices[tr] = 0\n",
    "\n",
    "        # Visualize the results\n",
    "        ax.scatter(range(len(indices)), [ii + .5] * len(indices),\n",
    "                   c=indices, marker='_', lw=lw, cmap=cmap_cv,\n",
    "                   vmin=-.2, vmax=1.2)\n",
    "\n",
    "    # Plot the data classes and groups at the end\n",
    "    ax.scatter(range(len(X)), [ii + 1.5] * len(X),\n",
    "               c=y, marker='_', lw=lw, cmap=plt.cm.Set3)\n",
    "\n",
    "    ax.scatter(range(len(X)), [ii + 2.5] * len(X),\n",
    "               c=group, marker='_', lw=lw, cmap=cmap_data)\n",
    "\n",
    "    # Formatting\n",
    "    yticklabels = list(range(n_splits)) + ['target', 'day']\n",
    "    ax.set(yticks=np.arange(n_splits+2) + .5, yticklabels=yticklabels,\n",
    "           xlabel='Sample index', ylabel=\"CV iteration\",\n",
    "           ylim=[n_splits+2.2, -.2], xlim=[0, len(y)])\n",
    "    ax.set_title('{}'.format(type(cv).__name__), fontsize=15)\n",
    "    return ax"
   ]
  },
  {
   "cell_type": "code",
   "execution_count": 6,
   "metadata": {},
   "outputs": [],
   "source": [
    "# This function accounts for variable instance counts in each split by dividing utility_pi by number of instances (but this has been removed)\n",
    "# It also does some copy of dataframe to prevent memory overwrite\n",
    "def utility_function(df_test, df_test_predictions):\n",
    "    df_test_copy = df_test.copy(deep=True)\n",
    "    df_test_copy.loc[:, 'utility_pj'] = df_test_copy['weight'] * df_test_copy['resp'] * df_test_predictions\n",
    "    #df_test_utility_pi = df_test_copy.groupby('date')['utility_pj'].sum() / df_test_copy.groupby('date')['utility_pj'].count()\n",
    "    df_test_utility_pi = df_test_copy.groupby('date')['utility_pj'].sum()\n",
    "\n",
    "    nb_unique_dates = df_test_utility_pi.shape[0]\n",
    "    \n",
    "    if (np.sqrt(df_test_utility_pi.pow(2).sum()) == 0):\n",
    "        t = 0\n",
    "\n",
    "    else:\n",
    "        t = (df_test_utility_pi.sum() / np.sqrt(df_test_utility_pi.pow(2).sum())) * (np.sqrt(250 / np.abs(nb_unique_dates)))\n",
    "        \n",
    "    u = min(max(t, 0), 6) * df_test_utility_pi.sum()\n",
    "    del df_test_copy\n",
    "    \n",
    "    return(u)"
   ]
  },
  {
   "cell_type": "code",
   "execution_count": 7,
   "metadata": {},
   "outputs": [],
   "source": [
    "from bisect import bisect_left\n",
    "\n",
    "def take_closest(myList, myNumber):\n",
    "    \"\"\"\n",
    "    Assumes myList is sorted. Returns closest value to myNumber.\n",
    "\n",
    "    If two numbers are equally close, return the smallest number.\n",
    "    \"\"\"\n",
    "    pos = bisect_left(myList, myNumber)\n",
    "    if pos == 0:\n",
    "        return myList[0]\n",
    "    if pos == len(myList):\n",
    "        return myList[-1]\n",
    "    before = myList[pos - 1]\n",
    "    after = myList[pos]\n",
    "    if after - myNumber < myNumber - before:\n",
    "       return after\n",
    "    else:\n",
    "       return before"
   ]
  },
  {
   "cell_type": "code",
   "execution_count": 8,
   "metadata": {},
   "outputs": [],
   "source": [
    "class SaveOutputActivationStats:\n",
    "    def __init__(self):\n",
    "        self.outputs = []\n",
    "        \n",
    "    def __call__(self, module, module_in, module_out):\n",
    "        #self.outputs.append(module_out)\n",
    "        self.outputs.append({'mean': module_out.mean().item(), 'std': module_out.std().item(),'near_zero': (module_out<=0.05).long().sum().item()/module_out.numel()})\n",
    "        \n",
    "    def clear(self):\n",
    "        self.outputs = []"
   ]
  },
  {
   "cell_type": "code",
   "execution_count": 9,
   "metadata": {},
   "outputs": [],
   "source": [
    "#fig, ax = plt.subplots(1, 1)\n",
    "#\n",
    "#plot_cv_indices(cv, df.loc[:, FEATURES_LIST_TOTRAIN], (df['resp'] > 0), df['date'], \n",
    "#                         ax, 5, lw=20);"
   ]
  },
  {
   "cell_type": "code",
   "execution_count": 10,
   "metadata": {},
   "outputs": [
    {
     "data": {
      "text/plain": [
       "torch.device"
      ]
     },
     "execution_count": 10,
     "metadata": {},
     "output_type": "execute_result"
    }
   ],
   "source": [
    "torch.device"
   ]
  },
  {
   "cell_type": "code",
   "execution_count": 11,
   "metadata": {},
   "outputs": [
    {
     "data": {
      "text/plain": [
       "True"
      ]
     },
     "execution_count": 11,
     "metadata": {},
     "output_type": "execute_result"
    }
   ],
   "source": [
    "torch.cuda.is_available()"
   ]
  },
  {
   "cell_type": "code",
   "execution_count": 12,
   "metadata": {},
   "outputs": [
    {
     "data": {
      "text/plain": [
       "0"
      ]
     },
     "execution_count": 12,
     "metadata": {},
     "output_type": "execute_result"
    }
   ],
   "source": [
    "torch.cuda.current_device()"
   ]
  },
  {
   "cell_type": "code",
   "execution_count": 13,
   "metadata": {},
   "outputs": [
    {
     "data": {
      "text/plain": [
       "'GeForce RTX 3090'"
      ]
     },
     "execution_count": 13,
     "metadata": {},
     "output_type": "execute_result"
    }
   ],
   "source": [
    "torch.cuda.get_device_name(0)"
   ]
  },
  {
   "cell_type": "markdown",
   "metadata": {},
   "source": [
    "# Load data"
   ]
  },
  {
   "cell_type": "code",
   "execution_count": 14,
   "metadata": {},
   "outputs": [
    {
     "name": "stdout",
     "output_type": "stream",
     "text": [
      "Data loaded\n"
     ]
    }
   ],
   "source": [
    "# Load data\n",
    "    \n",
    "df = pd.read_csv(DATASET_INPUT_FILE)\n",
    "df['resp_positive'] = ((df['resp'])>0)*1  # Target to predict\n",
    "\n",
    "print('Data loaded')\n"
   ]
  },
  {
   "cell_type": "markdown",
   "metadata": {},
   "source": [
    "# Non overlap fold generation"
   ]
  },
  {
   "cell_type": "code",
   "execution_count": 15,
   "metadata": {},
   "outputs": [],
   "source": [
    "date_indexes_list = df.groupby('date')['ts_id'].first().to_list()"
   ]
  },
  {
   "cell_type": "code",
   "execution_count": 16,
   "metadata": {},
   "outputs": [],
   "source": [
    "base_train_split_size = int((df.shape[0] // 5) * TRAIN_PERCENT)"
   ]
  },
  {
   "cell_type": "code",
   "execution_count": 17,
   "metadata": {},
   "outputs": [],
   "source": [
    "base_test_split_size = int((df.shape[0] // 5) * TEST_PERCENT)"
   ]
  },
  {
   "cell_type": "code",
   "execution_count": 18,
   "metadata": {},
   "outputs": [],
   "source": [
    "train_split_start_indexes = [take_closest(date_indexes_list, (base_train_split_size + base_test_split_size)*fold_indice) for fold_indice in range(5)]"
   ]
  },
  {
   "cell_type": "code",
   "execution_count": 19,
   "metadata": {},
   "outputs": [],
   "source": [
    "test_split_start_indexes = [take_closest(date_indexes_list, (base_train_split_size + base_test_split_size)*fold_indice) for fold_indice in range(5)]"
   ]
  },
  {
   "cell_type": "code",
   "execution_count": 20,
   "metadata": {},
   "outputs": [
    {
     "data": {
      "text/plain": [
       "[0, 477711, 958233, 1435933, 1913985]"
      ]
     },
     "execution_count": 20,
     "metadata": {},
     "output_type": "execute_result"
    }
   ],
   "source": [
    "train_split_start_indexes"
   ]
  },
  {
   "cell_type": "code",
   "execution_count": 21,
   "metadata": {},
   "outputs": [
    {
     "data": {
      "text/plain": [
       "2390490"
      ]
     },
     "execution_count": 21,
     "metadata": {},
     "output_type": "execute_result"
    }
   ],
   "source": [
    "df.shape[0] - 1"
   ]
  },
  {
   "cell_type": "code",
   "execution_count": 22,
   "metadata": {},
   "outputs": [],
   "source": [
    "NB_FOLDS = 5\n",
    "last_index = df.shape[0] - 1\n",
    "\n",
    "cv_table = []\n",
    "\n",
    "for fold_indice in range(NB_FOLDS):\n",
    "    fold_train_start_index = train_split_start_indexes[fold_indice]\n",
    "    \n",
    "    if (fold_indice == NB_FOLDS - 1):    \n",
    "        nextfold_train_start_index = last_index\n",
    "        \n",
    "    else:\n",
    "        nextfold_train_start_index = train_split_start_indexes[fold_indice + 1]\n",
    "    \n",
    "    fold_test_start_index = take_closest(date_indexes_list, int(TRAIN_PERCENT * (nextfold_train_start_index - fold_train_start_index) + fold_train_start_index  ))\n",
    "    \n",
    "    cv_table.append(fold_train_start_index)\n",
    "    cv_table.append(fold_test_start_index)"
   ]
  },
  {
   "cell_type": "code",
   "execution_count": 23,
   "metadata": {},
   "outputs": [],
   "source": [
    "cv_table.append(last_index)"
   ]
  },
  {
   "cell_type": "code",
   "execution_count": 24,
   "metadata": {},
   "outputs": [],
   "source": [
    "cv_tuples = []\n",
    "\n",
    "for i in range(0, NB_FOLDS*2, 2):\n",
    "    cv_tuples.append([df.loc[cv_table[i]:cv_table[i+1]-1, :].index.to_list(), df.loc[cv_table[i+1]:cv_table[i+2]-1, :].index.to_list()])"
   ]
  },
  {
   "cell_type": "code",
   "execution_count": 25,
   "metadata": {},
   "outputs": [],
   "source": [
    "cv_tuples_generator = iter(cv_tuples)"
   ]
  },
  {
   "cell_type": "code",
   "execution_count": 26,
   "metadata": {},
   "outputs": [],
   "source": [
    "#fig, ax = plt.subplots(1, 1)\n",
    "\n",
    "#plot_cv_indices_custom(cv_tuples_generator, df.loc[:, FEATURES_LIST_TOTRAIN], (df['resp'] > 0), df['date'], \n",
    "#                         ax, 5, lw=20); \n",
    "\n",
    "#cv_tuples_generator = iter(cv_tuples)"
   ]
  },
  {
   "cell_type": "code",
   "execution_count": 27,
   "metadata": {},
   "outputs": [],
   "source": [
    "# Size of training set :\n",
    "#train_sets_table =  [cv_tuples[i][0] for i in range(5)]\n",
    "#sum([len(train_set_table) for train_set_table in train_sets_table])"
   ]
  },
  {
   "cell_type": "code",
   "execution_count": 28,
   "metadata": {},
   "outputs": [],
   "source": [
    "# Our old time series split (with overlap : required 1 neural network trained per split)\n",
    "# But in this script it's not needed because we're training 1 unique network, with a different fold strategy (non overlaped)\n",
    "#cv = PurgedGroupTimeSeriesSplit(\n",
    "#    n_splits=5,\n",
    "#    max_train_group_size=180,\n",
    "#    group_gap=20,\n",
    "#    max_test_group_size=60\n",
    "#)"
   ]
  },
  {
   "cell_type": "code",
   "execution_count": 29,
   "metadata": {},
   "outputs": [],
   "source": [
    "#train_index, test_index = next(cv.split(df, (df['resp'] > 0)*1, df['date']))"
   ]
  },
  {
   "cell_type": "code",
   "execution_count": 30,
   "metadata": {},
   "outputs": [],
   "source": [
    "#(df.loc[train_index, 'resp'] > 0).astype(np.byte)"
   ]
  },
  {
   "cell_type": "code",
   "execution_count": 31,
   "metadata": {},
   "outputs": [],
   "source": [
    "f_mean = df.loc[:, FEATURES_LIST_TOTRAIN].mean(axis=0)"
   ]
  },
  {
   "cell_type": "code",
   "execution_count": 32,
   "metadata": {},
   "outputs": [
    {
     "data": {
      "text/plain": [
       "(130,)"
      ]
     },
     "execution_count": 32,
     "metadata": {},
     "output_type": "execute_result"
    }
   ],
   "source": [
    "f_mean.shape"
   ]
  },
  {
   "cell_type": "code",
   "execution_count": 33,
   "metadata": {},
   "outputs": [],
   "source": [
    "df.fillna(f_mean, inplace=True)"
   ]
  },
  {
   "cell_type": "code",
   "execution_count": 34,
   "metadata": {},
   "outputs": [],
   "source": [
    "#print('Sum of model parameters:')\n",
    "#[print(p.sum()) for p in model.parameters()]"
   ]
  },
  {
   "cell_type": "code",
   "execution_count": 35,
   "metadata": {},
   "outputs": [],
   "source": [
    "#writer = SummaryWriter()\n",
    "\n",
    "#writer.add_text('test', 'test:'  + str(model).replace('\\n', '<BR>'))\n",
    "\n",
    "#writer.flush()\n",
    "#writer.close()"
   ]
  },
  {
   "cell_type": "code",
   "execution_count": 36,
   "metadata": {},
   "outputs": [],
   "source": [
    "#str([p.numel() for p in model.parameters()])"
   ]
  },
  {
   "cell_type": "code",
   "execution_count": 37,
   "metadata": {},
   "outputs": [],
   "source": [
    "folds_list = []\n",
    "\n",
    "for fold, (train_index, test_index) in enumerate(cv_tuples_generator):\n",
    "    folds_list.append((train_index, test_index))"
   ]
  },
  {
   "cell_type": "code",
   "execution_count": 38,
   "metadata": {},
   "outputs": [],
   "source": [
    "folds_list_train = [folds_list[i][0] for i in range(5)]\n",
    "folds_list_train_flat = [folds_list_train_item for sublist in folds_list_train for folds_list_train_item in sublist]\n",
    "folds_list_train_unique = list(set(folds_list_train_flat))"
   ]
  },
  {
   "cell_type": "code",
   "execution_count": 39,
   "metadata": {},
   "outputs": [
    {
     "data": {
      "text/plain": [
       "1677155"
      ]
     },
     "execution_count": 39,
     "metadata": {},
     "output_type": "execute_result"
    }
   ],
   "source": [
    "len(folds_list_train_unique)"
   ]
  },
  {
   "cell_type": "code",
   "execution_count": 40,
   "metadata": {},
   "outputs": [
    {
     "data": {
      "text/plain": [
       "1677155"
      ]
     },
     "execution_count": 40,
     "metadata": {},
     "output_type": "execute_result"
    }
   ],
   "source": [
    "np.sum([len(folds_list_train_item) for folds_list_train_item in folds_list_train])"
   ]
  },
  {
   "cell_type": "code",
   "execution_count": 41,
   "metadata": {},
   "outputs": [
    {
     "data": {
      "text/plain": [
       "1677155"
      ]
     },
     "execution_count": 41,
     "metadata": {},
     "output_type": "execute_result"
    }
   ],
   "source": [
    "len(folds_list_train_flat)"
   ]
  },
  {
   "cell_type": "code",
   "execution_count": 42,
   "metadata": {},
   "outputs": [],
   "source": [
    "folds_list_test = [folds_list[i][1] for i in range(5)]\n",
    "folds_list_test_flat = [folds_list_test_item for sublist in folds_list_test for folds_list_test_item in sublist]\n",
    "folds_list_test_unique = set(folds_list_test_flat)"
   ]
  },
  {
   "cell_type": "code",
   "execution_count": 43,
   "metadata": {},
   "outputs": [
    {
     "data": {
      "text/plain": [
       "713335"
      ]
     },
     "execution_count": 43,
     "metadata": {},
     "output_type": "execute_result"
    }
   ],
   "source": [
    "np.sum([len(folds_list_test_item) for folds_list_test_item in folds_list_test])"
   ]
  },
  {
   "cell_type": "code",
   "execution_count": 44,
   "metadata": {},
   "outputs": [
    {
     "data": {
      "text/plain": [
       "713335"
      ]
     },
     "execution_count": 44,
     "metadata": {},
     "output_type": "execute_result"
    }
   ],
   "source": [
    "len(folds_list_test_flat)"
   ]
  },
  {
   "cell_type": "code",
   "execution_count": 45,
   "metadata": {},
   "outputs": [
    {
     "data": {
      "text/plain": [
       "2390490"
      ]
     },
     "execution_count": 45,
     "metadata": {},
     "output_type": "execute_result"
    }
   ],
   "source": [
    "len(folds_list_train_flat) + len(folds_list_test_flat)"
   ]
  },
  {
   "cell_type": "code",
   "execution_count": 46,
   "metadata": {},
   "outputs": [
    {
     "data": {
      "text/plain": [
       "(141980, 130)"
      ]
     },
     "execution_count": 46,
     "metadata": {},
     "output_type": "execute_result"
    }
   ],
   "source": [
    "df.loc[folds_list_test[4], FEATURES_LIST_TOTRAIN].to_numpy().shape"
   ]
  },
  {
   "cell_type": "code",
   "execution_count": 47,
   "metadata": {},
   "outputs": [
    {
     "data": {
      "text/plain": [
       "(2390491, 139)"
      ]
     },
     "execution_count": 47,
     "metadata": {},
     "output_type": "execute_result"
    }
   ],
   "source": [
    "df.shape"
   ]
  },
  {
   "cell_type": "markdown",
   "metadata": {},
   "source": [
    "# Training"
   ]
  },
  {
   "cell_type": "code",
   "execution_count": null,
   "metadata": {},
   "outputs": [
    {
     "name": "stdout",
     "output_type": "stream",
     "text": [
      "Training started\n"
     ]
    }
   ],
   "source": [
    "print('Training started')\n",
    "patience=5\n",
    "\n",
    "utility_scores = [None] * 5\n",
    "accuracy_scores = [None] * 5\n",
    "\n",
    "writer = SummaryWriter()\n",
    "\n",
    "ts_train = torch.tensor(df.loc[folds_list_train_unique, FEATURES_LIST_TOTRAIN].to_numpy(), device='cuda')\n",
    "ts_train_y = torch.tensor((df.loc[folds_list_train_unique, 'resp'] > 0).astype(np.byte).to_numpy(), device='cuda')\n",
    "ts_train_y_reg = torch.tensor(df.loc[folds_list_train_unique, 'resp'].to_numpy(), device='cuda')\n",
    "\n",
    "# Normalize data\n",
    "ts_train_mean = torch.mean(ts_train, axis=0)\n",
    "ts_train_std = torch.std(ts_train, axis=0)\n",
    "#ts_train = pyStandardScale(ts_train, ts_train_mean, ts_train_std)\n",
    "\n",
    "train_dataset = torch.utils.data.TensorDataset(ts_train, ts_train_y, ts_train_y_reg)\n",
    "train_loader = torch.utils.data.DataLoader(train_dataset, batch_size=BATCH_SIZE, shuffle=True) # pin_memory : VOIR RESULTAT\n",
    "\n",
    "ts_test = [None] * 5\n",
    "ts_test_y = [None] * 5    \n",
    "ts_test_y_reg = [None] * 5   \n",
    "test_dataset = [None] * 5\n",
    "test_loader = [None] * 5\n",
    "\n",
    "for fold_indice in range(5):\n",
    "    ts_test[fold_indice] = torch.tensor(df.loc[folds_list_test[fold_indice], FEATURES_LIST_TOTRAIN].to_numpy(), device='cuda')\n",
    "    ts_test_y[fold_indice] = torch.tensor((df.loc[folds_list_test[fold_indice], 'resp'] > 0).astype(np.byte).to_numpy(), device='cuda')\n",
    "    ts_test_y_reg[fold_indice] = torch.tensor(df.loc[folds_list_test[fold_indice], 'resp'].to_numpy(), device='cuda')\n",
    "\n",
    "    # Normalize\n",
    "    #ts_test[fold_indice] = pyStandardScale(ts_test[fold_indice], ts_train_mean, ts_train_std)\n",
    "    \n",
    "    test_dataset[fold_indice] = torch.utils.data.TensorDataset(ts_test[fold_indice], ts_test_y[fold_indice], ts_test_y_reg[fold_indice])\n",
    "    test_loader[fold_indice] = torch.utils.data.DataLoader(test_dataset[fold_indice], batch_size=BATCH_SIZE)\n",
    "\n",
    "torch.manual_seed(seed)\n",
    "\n",
    "'''\n",
    "model = nn.Sequential(\n",
    "        #nn.Dropout(0.2),\n",
    "        nn.Linear(len(FEATURES_LIST_TOTRAIN), 200),\n",
    "        #nn.BatchNorm1d(130),\n",
    "        nn.ReLU(),\n",
    "        nn.Dropout(0.7),\n",
    "\n",
    "        nn.Linear(200, 100),\n",
    "        #nn.BatchNorm1d(130),\n",
    "        nn.ReLU(),\n",
    "        nn.Dropout(0.7),\n",
    "    \n",
    "        nn.Linear(100, 1),\n",
    "        nn.Sigmoid(),\n",
    "    ).double().to('cuda')\n",
    "'''\n",
    "\n",
    "class MLP(torch.nn.Module):\n",
    "    #def __init__(self, n_feature, n_hidden): \n",
    "    def __init__(self): \n",
    "        super(MLP, self).__init__() \n",
    "\n",
    "        #nn.Dropout(0.2),\n",
    "        self.layer1 = nn.Linear(len(FEATURES_LIST_TOTRAIN), 1300)\n",
    "        #self.batchnorm1 = nn.BatchNorm1d(130)\n",
    "        self.act1 = nn.Tanh()\n",
    "        self.dropout1 = nn.Dropout(0.3)\n",
    "\n",
    "        self.layer2 = nn.Linear(1300, 600)\n",
    "        #self.batchnorm2 = nn.BatchNorm1d(130)\n",
    "        self.act2 = nn.Tanh()\n",
    "        self.dropout2 = nn.Dropout(0.3)\n",
    "\n",
    "        self.layer3 = nn.Linear(600, 1)\n",
    "        \n",
    "        #self.layer11_classif = nn.Linear(30, 1)\n",
    "        #self.act11_classif = nn.Sigmoid()  \n",
    "\n",
    "        #self.layer11_reg = nn.Linear(30, 1)\n",
    "\n",
    "\n",
    "\n",
    "    def forward(self, x):\n",
    "        x = self.dropout1(self.act1(self.layer1(x)))\n",
    "        x = self.dropout2(self.act2(self.layer2(x)))\n",
    "        x = self.layer3(x)\n",
    "\n",
    "        #x_out_classif = nn.Sigmoid()(x[:, 0]).unsqueeze(-1)\n",
    "        #x_out_reg = x[:, 1].unsqueeze(-1)\n",
    "\n",
    "        #x_out_classif = nn.Sigmoid()(x[:, 0])\n",
    "        #x_out_reg = x[:, 1]\n",
    "        x_out_reg = x\n",
    "\n",
    "        #return x_out_classif, x_out_reg\n",
    "        return x_out_reg\n",
    "\n",
    "model = MLP().double().to('cuda')\n",
    "print('Model created')\n",
    "\n",
    "#print('Number of model parameters :')\n",
    "#numel_list = [p.numel() for p in model.parameters()]\n",
    "#sum(numel_list), numel_list\n",
    "\n",
    "loss_fn = nn.BCELoss().to('cuda')\n",
    "loss_fn_reg = nn.MSELoss().to('cuda')\n",
    "\n",
    "#def MSE_SignedLoss(output, target):\n",
    "    #return((nn.LeakyReLU()(-(output*target)) / torch.abs(output*target)) * loss_fn_reg(output, target))\n",
    "\n",
    "def MSE_SignedLoss(output, target):\n",
    "    return(\n",
    "        torch.sqrt(\n",
    "            torch.mean(\n",
    "                (nn.LeakyReLU()(-(output*target)) / torch.abs(output*target)) * torch.pow(output - target, 2)\n",
    "        )\n",
    "    )\n",
    "    )\n",
    "\n",
    "optimizer = torch.optim.Adam(model.parameters(), lr=1e-3) \n",
    "#optimizer = torch.optim.Adam(model.parameters(), lr=1e-2) \n",
    "\n",
    "model.eval()\n",
    "#start_accuracy = accuracy_score(ts_test_y.cpu().numpy(), (model(ts_test).squeeze() > 0.5).cpu().numpy())\n",
    "#start_utility_score = utility_function(df.loc[test_index], (model(ts_test).squeeze() > 0.5).cpu().numpy())\n",
    "#print('Start Validation Accuracy: {:.4f}'.format(start_accuracy))\n",
    "#print('Start Validation Utility: {:.4f}'.format(start_utility_score))\n",
    "\n",
    "### Call back to save activation stats (mean, std dev and near 0 values after activation functions)\n",
    "\n",
    "Val_Loss = 0\n",
    "N_Samples = 0\n",
    "\n",
    "the_last_loss = 100\n",
    "the_last_utility_score = 0\n",
    "the_last_accuracy = 0\n",
    "trigger_times=0\n",
    "early_stopping_met = False\n",
    "\n",
    "for epoch in range(NUM_EPOCHS): \n",
    "    running_loss = 0.0        \n",
    "    \n",
    "    # Setting hook for activation layers stats\n",
    "    hook_handles = []\n",
    "    save_output_activation_stats = []\n",
    "\n",
    "    for layer in model.modules():\n",
    "        if ('activation' in str(type(layer))):\n",
    "            save_output_activation_stats_1layer = SaveOutputActivationStats()\n",
    "            handle = layer.register_forward_hook(save_output_activation_stats_1layer)\n",
    "            save_output_activation_stats.append(save_output_activation_stats_1layer)\n",
    "            hook_handles.append(handle)\n",
    "    \n",
    "    model.train()\n",
    "\n",
    "    for batch in train_loader:\n",
    "        #inputs, labels = batch[0], batch[1]\n",
    "        inputs, labels, labels_reg = batch[0].to('cuda'), batch[1].to('cuda'), batch[2].to('cuda')\n",
    "        optimizer.zero_grad()\n",
    "\n",
    "        with torch.set_grad_enabled(True):\n",
    "            #outputs_classif, outputs_reg = model(inputs)\n",
    "            outputs_reg = model(inputs)\n",
    "            #loss_classif = loss_fn(outputs_classif.unsqueeze(-1), labels.unsqueeze(-1).double())\n",
    "            loss_classif = 0\n",
    "            #loss_reg = MSE_SignedLoss(outputs_reg, labels_reg.unsqueeze(-1).double()) * torch.tensor(864.625) # Coefficient to balance reg loss which is much smaller\n",
    "            loss_reg = MSE_SignedLoss(outputs_reg, labels_reg.unsqueeze(-1).double()) # Coefficient to balance reg loss which is much smaller\n",
    "            #loss_reg = loss_fn_reg(outputs_reg.unsqueeze(-1), labels_reg.unsqueeze(-1).double()) # Coefficient to balance reg loss which is much smaller\n",
    "            \n",
    "            #loss = loss_classif + loss_reg\n",
    "            loss = loss_reg\n",
    "            #loss = loss_classif\n",
    "            \n",
    "            loss.backward()\n",
    "            optimizer.step()\n",
    "\n",
    "    # update local train loss\n",
    "        running_loss += loss.item() * inputs.size(0)\n",
    "\n",
    "    # update global train loss\n",
    "    epoch_loss = running_loss / len(train_loader.dataset)\n",
    "    print('Epoch({}) - Training Loss: {:.4f}'.format(epoch, epoch_loss))\n",
    "\n",
    "    writer.add_scalar(f\"Global train/loss\", epoch_loss, epoch)\n",
    "\n",
    "    # Write activation stats graphs\n",
    "    for layer_number,save_output_activation_stats_layer in enumerate(save_output_activation_stats):\n",
    "        df_stats_layer = pd.DataFrame(save_output_activation_stats_layer.outputs)\n",
    "\n",
    "        fig, ax = plt.subplots(1, 3, figsize=(25, 4))\n",
    "\n",
    "        ax[0].set_title(f'Layer {layer_number} : Mean activation value', fontsize=16)\n",
    "        ax[0].set_xlabel('Batch instances')\n",
    "        ax[0].set_ylabel('Mean')\n",
    "        ax[0].plot(range(df_stats_layer.shape[0]), df_stats_layer['mean'])\n",
    "\n",
    "        ax[1].set_title(f'Layer {layer_number} : Std deviation activation value', fontsize=16)\n",
    "        ax[1].set_xlabel('Batch instances')\n",
    "        ax[1].set_ylabel('Standard deviation')\n",
    "        ax[1].plot(range(df_stats_layer.shape[0]), df_stats_layer['std'])\n",
    "\n",
    "        ax[2].set_title(f'Layer {layer_number} : Percentage of activation values near zero', fontsize=16)\n",
    "        ax[2].set_xlabel('Batch instances')\n",
    "        ax[2].set_ylabel('Percentage')\n",
    "        ax[2].plot(range(df_stats_layer.shape[0]), df_stats_layer['near_zero']);\n",
    "        \n",
    "        plot_buf = io.BytesIO()\n",
    "        plt.savefig(plot_buf, format='jpeg')\n",
    "        plt.close()\n",
    "        \n",
    "        plot_buf.seek(0)\n",
    "        image = PIL.Image.open(plot_buf)\n",
    "        image = transforms.ToTensor()(image)\n",
    "        writer.add_image(\"Train activation stats/Activation stats layer \" + str(layer_number), image, epoch)\n",
    "    \n",
    "    # Validation \n",
    "    model.eval()\n",
    "\n",
    "    vrunning_loss = [None] * 5\n",
    "    vrunning_loss_classif = [None] * 5\n",
    "    vrunning_loss_reg = [None] * 5\n",
    "    num_samples = [None] * 5\n",
    "    vepoch_loss_folds = [None] * 5\n",
    "    vepoch_loss_classif_folds = [None] * 5\n",
    "    vepoch_loss_reg_folds = [None] * 5\n",
    "    vepoch_accuracy_folds = [None] * 5\n",
    "    vepoch_utility_score_folds = [None] * 5\n",
    "    \n",
    "    for fold_indice in range(5):    \n",
    "        vrunning_loss[fold_indice] = 0.0\n",
    "        vrunning_loss_classif[fold_indice] = 0.0\n",
    "        vrunning_loss_reg[fold_indice] = 0.0\n",
    "        num_samples[fold_indice] = 0\n",
    "\n",
    "        for batch in test_loader[fold_indice]:\n",
    "            inputs, labels, labels_reg = batch[0].to('cuda'), batch[1].to('cuda'), batch[2].to('cuda')\n",
    "\n",
    "            optimizer.zero_grad()\n",
    "            with torch.no_grad():\n",
    "                #outputs_classif, outputs_reg = model(inputs)\n",
    "                outputs_reg = model(inputs)\n",
    "                #loss_classif = loss_fn(outputs_classif.unsqueeze(-1), labels.unsqueeze(-1).double())\n",
    "\n",
    "                #loss_reg = loss_fn_reg(outputs_reg, torch.sigmoid(labels_reg.unsqueeze(-1).double()))\n",
    "                #loss_reg = loss_fn_reg(outputs_reg.unsqueeze(-1), labels_reg.unsqueeze(-1).double()) # Coefficient to balance reg loss which is much smaller\n",
    "                #loss_reg = MSE_SignedLoss(outputs_reg, labels_reg.unsqueeze(-1).double()) * torch.tensor(864.625) # Coefficient to balance reg loss which is much smaller\n",
    "                loss_reg = MSE_SignedLoss(outputs_reg, labels_reg.unsqueeze(-1).double()) # Coefficient to balance reg loss which is much smaller\n",
    "                \n",
    "                #loss = loss_classif + loss_reg \n",
    "                #loss = loss_classif \n",
    "                loss = loss_reg \n",
    "                \n",
    "            vrunning_loss[fold_indice] += loss.item() * inputs.size(0)\n",
    "            num_samples[fold_indice] += labels.size(0)\n",
    "            \n",
    "            #vrunning_loss_classif[fold_indice] += loss_classif.item() * inputs.size(0)\n",
    "            vrunning_loss_reg[fold_indice] += loss_reg.item() * inputs.size(0)\n",
    "            \n",
    "            vepoch_loss_folds[fold_indice] = vrunning_loss[fold_indice] / num_samples[fold_indice]\n",
    "            #vepoch_loss_classif_folds[fold_indice] = vrunning_loss_classif[fold_indice] / num_samples[fold_indice]\n",
    "            vepoch_loss_reg_folds[fold_indice] = vrunning_loss_reg[fold_indice] / num_samples[fold_indice]\n",
    "\n",
    "        print('Epoch({}) - Fold {} - Validation Loss : {:.4f}'.format(epoch, fold_indice, vepoch_loss_folds[fold_indice]))\n",
    "        #print('Epoch({}) - Fold {} -> Validation Loss Classif : {:.4f}'.format(epoch, fold_indice, vepoch_loss_classif_folds[fold_indice]))\n",
    "        print('Epoch({}) - Fold {} -> Validation Loss Reg : {:.4f}'.format(epoch, fold_indice, vepoch_loss_reg_folds[fold_indice]))\n",
    "\n",
    "        model.eval()\n",
    "        with torch.no_grad():\n",
    "            vepoch_accuracy_folds[fold_indice] = accuracy_score(ts_test_y[fold_indice].cpu().numpy(), (model(ts_test[fold_indice]) > 0).squeeze().cpu().numpy())  # model...[0] is the classification output of model\n",
    "            vepoch_utility_score_folds[fold_indice] = utility_function(df.loc[folds_list_test[fold_indice]], (model(ts_test[fold_indice]) > 0).squeeze().cpu().numpy())\n",
    "        print('Epoch({}) - Fold {} - Validation Accuracy : {:.4f}'.format(epoch, fold_indice, vepoch_accuracy_folds[fold_indice]))\n",
    "        print('Epoch({}) - Fold {} - Validation Utility score : {:.4f}'.format(epoch, fold_indice, vepoch_utility_score_folds[fold_indice]))\n",
    "        \n",
    "            \n",
    "    # update epoch loss\n",
    "    vepoch_loss = sum(vepoch_loss_folds) / len(vepoch_loss_folds)\n",
    "    vepoch_accuracy = sum(vepoch_accuracy_folds) / len(vepoch_accuracy_folds)\n",
    "    vepoch_utility_score = sum(vepoch_utility_score_folds) #/ len(vepoch_utility_score_folds)\n",
    "    print('Epoch({}) - GLOBAL - Validation Loss: {:.4f}'.format(epoch, vepoch_loss))\n",
    "    print('Epoch({}) - GLOBAL - Validation Accuracy: {:.4f}'.format(epoch, vepoch_accuracy))\n",
    "    print('Epoch({}) - GLOBAL - Validation Utility score: {:.4f}'.format(epoch, vepoch_utility_score))\n",
    "\n",
    "    #print(f'Sum of model parameters ({epoch}):')\n",
    "    #[print(p.sum()) for p in model.parameters()]\n",
    "\n",
    "    writer.add_scalar(\"Global valid/Loss\", vepoch_loss, epoch)\n",
    "    writer.add_scalar(\"Global valid/Accuracy\", vepoch_accuracy, epoch)\n",
    "    writer.add_scalar(\"Global valid/Utility\", vepoch_utility_score, epoch)\n",
    "\n",
    "    for fold_indice in range(5):\n",
    "        writer.add_scalar(\"Fold valid Loss/Loss fold \"+str(fold_indice), vepoch_loss_folds[fold_indice], epoch)\n",
    "        writer.add_scalar(\"Fold valid Accuracy/Accuracy fold \"+str(fold_indice), vepoch_accuracy_folds[fold_indice], epoch)\n",
    "        writer.add_scalar(\"Fold valid Utility/Utility fold \"+str(fold_indice), vepoch_utility_score_folds[fold_indice], epoch)\n",
    "        \n",
    "    \n",
    "    writer.flush()\n",
    "\n",
    "    #if (epoch == 7):\n",
    "        #print('EPOCH 7 ATTAINED')\n",
    "        #break\n",
    "    \n",
    "    # Check if Early Stopping\n",
    "    #if vepoch_loss > the_last_loss:\n",
    "    #if (vepoch_utility_score < the_last_utility_score) and (vepoch_loss > the_last_loss) and (vepoch_accuracy < the_last_accuracy):\n",
    "    if (vepoch_loss > the_last_loss):\n",
    "        trigger_times += 1\n",
    "\n",
    "        print(f'Intermediate early stopping : vepoch_loss = {vepoch_loss:.4f}, the_last_loss={the_last_loss:.4f}')\n",
    "        #print(f'Intermediate early stopping : vepoch_accuracy = {vepoch_accuracy:.4f}, the_last_utility_score={the_last_accuracy:.4f}')\n",
    "        #print(f'Intermediate early stopping : vepoch_utility_score = {vepoch_utility_score:.4f}, the_last_utility_score={the_last_utility_score:.4f}')\n",
    "\n",
    "        if trigger_times >= patience:\n",
    "            print('Meet Early stopping!')\n",
    "            early_stopping_met = True\n",
    "            ##torch.save(model.state_dict(), f'model_{fold}.pt')\n",
    "            break\n",
    "    else:\n",
    "        trigger_times = 0\n",
    "        the_last_loss = vepoch_loss\n",
    "        the_last_utility_score = vepoch_utility_score\n",
    "        the_last_accuracy = vepoch_accuracy\n",
    "        \n",
    "        the_last_utility_score_folds = vepoch_utility_score_folds\n",
    "        the_last_accuracy_folds = vepoch_accuracy_folds\n",
    "        \n",
    "        the_best_epoch = epoch\n",
    "\n",
    "        # Save model for the best version so far\n",
    "        print(f'Saving model corresponding to last_utility_score == {the_last_utility_score}')\n",
    "        torch.save(model.state_dict(), f'model_NN_allfolds_V1.pt')\n",
    "\n",
    "    print('\\n')\n",
    "\n",
    "if (early_stopping_met == False):\n",
    "    print(\"Didn't meet early stopping : saving final model\")\n",
    "    # Save model if don't meet early stopping\n",
    "    torch.save(model.state_dict(), f'model_NN_allfolds_V1.pt')\n",
    "\n",
    "#utility_scores.append(the_last_utility_score)\n",
    "#accuracy_scores.append(the_last_accuracy)\n",
    "writer.add_text(f\"Global valid/Utility\", f\"Best utility: {the_last_utility_score}\", the_best_epoch)\n",
    "        \n",
    "scores_results = {'utility_score': the_last_utility_score, 'utility_scores': the_last_utility_score_folds, 'utility_score_std': np.std(the_last_utility_score_folds), 'accuracy_scores': the_last_accuracy_folds}\n",
    "\n",
    "writer.add_text('Final utility score', str(scores_results))\n",
    "writer.add_text('Batch size', str(BATCH_SIZE))\n",
    "writer.add_text('Patience', str(patience))\n",
    "writer.add_text('Number of epochs', str(NUM_EPOCHS))\n",
    "writer.add_text('Number of parameters per layer', str([p.numel() for p in model.parameters()]))\n",
    "writer.add_text('Model architecture', str(model).replace('\\n', '<BR>'))\n",
    "writer.add_text('Comment', MODEL_COMMENT)\n",
    "\n",
    "writer.close()\n",
    "\n",
    "print('Training summary:')\n",
    "print(scores_results)"
   ]
  },
  {
   "cell_type": "code",
   "execution_count": null,
   "metadata": {},
   "outputs": [],
   "source": [
    "def utility_function(df_test, df_test_predictions):\n",
    "    df_test_copy = df_test.copy(deep=True)\n",
    "    df_test_copy.loc[:, 'utility_pj'] = df_test_copy['weight'] * df_test_copy['resp'] * df_test_predictions\n",
    "    #df_test_utility_pi = df_test_copy.groupby('date')['utility_pj'].sum() / df_test_copy.groupby('date')['utility_pj'].count()\n",
    "    df_test_utility_pi = df_test_copy.groupby('date')['utility_pj'].sum()\n",
    "\n",
    "    nb_unique_dates = df_test_utility_pi.shape[0]\n",
    "    \n",
    "    if (np.sqrt(df_test_utility_pi.pow(2).sum()) == 0):\n",
    "        t = 0\n",
    "\n",
    "    else:\n",
    "        t = (df_test_utility_pi.sum() / np.sqrt(df_test_utility_pi.pow(2).sum())) * (np.sqrt(250 / np.abs(nb_unique_dates)))\n",
    "        \n",
    "    u = min(max(t, 0), 6) * df_test_utility_pi.sum()\n",
    "    del df_test_copy\n",
    "    \n",
    "    return(u)"
   ]
  },
  {
   "cell_type": "code",
   "execution_count": 61,
   "metadata": {},
   "outputs": [],
   "source": [
    "df_test = df.loc[folds_list_test[fold_indice]]"
   ]
  },
  {
   "cell_type": "code",
   "execution_count": 64,
   "metadata": {},
   "outputs": [],
   "source": [
    "df_test_predictions = (model(ts_test[fold_indice]) > 0).cpu().numpy()"
   ]
  },
  {
   "cell_type": "code",
   "execution_count": 65,
   "metadata": {},
   "outputs": [],
   "source": [
    "df_test_copy = df_test.copy(deep=True)"
   ]
  },
  {
   "cell_type": "code",
   "execution_count": 72,
   "metadata": {},
   "outputs": [
    {
     "data": {
      "text/plain": [
       "array([ True,  True,  True, ...,  True,  True,  True])"
      ]
     },
     "execution_count": 72,
     "metadata": {},
     "output_type": "execute_result"
    }
   ],
   "source": [
    "df_test_predictions.squeeze()"
   ]
  },
  {
   "cell_type": "code",
   "execution_count": 81,
   "metadata": {},
   "outputs": [
    {
     "data": {
      "text/plain": [
       "numpy.ndarray"
      ]
     },
     "execution_count": 81,
     "metadata": {},
     "output_type": "execute_result"
    }
   ],
   "source": [
    "type(df_test.to_numpy())"
   ]
  },
  {
   "cell_type": "code",
   "execution_count": 73,
   "metadata": {},
   "outputs": [
    {
     "data": {
      "text/plain": [
       "336609   -0.005333\n",
       "336610    0.024160\n",
       "336611    0.011158\n",
       "336612   -0.012638\n",
       "336613    0.008440\n",
       "            ...   \n",
       "477706   -0.003889\n",
       "477707   -0.001269\n",
       "477708    0.008150\n",
       "477709    0.004887\n",
       "477710   -0.003817\n",
       "Name: resp, Length: 141102, dtype: float64"
      ]
     },
     "execution_count": 73,
     "metadata": {},
     "output_type": "execute_result"
    }
   ],
   "source": [
    "df_test_copy['resp'] * df_test_predictions.squeeze()"
   ]
  },
  {
   "cell_type": "code",
   "execution_count": 82,
   "metadata": {},
   "outputs": [
    {
     "ename": "TypeError",
     "evalue": "relu(): argument 'input' (position 1) must be Tensor, not numpy.ndarray",
     "output_type": "error",
     "traceback": [
      "Traceback \u001b[0;36m(most recent call last)\u001b[0m:\n",
      "  File \u001b[1;32m\"<ipython-input-82-eed93e59b991>\"\u001b[0m, line \u001b[1;32m3\u001b[0m, in \u001b[1;35m<module>\u001b[0m\n    (nn.ReLU()(-(df_test_predictions*df_test.to_numpy())) / torch.abs(df_test_predictions*df_test.to_numpy())) * torch.pow(df_test_predictions - df_test.to_numpy(), 2)))\n",
      "  File \u001b[1;32m\"/opt/anaconda3/envs/janestreet/lib/python3.8/site-packages/torch/nn/modules/module.py\"\u001b[0m, line \u001b[1;32m727\u001b[0m, in \u001b[1;35m_call_impl\u001b[0m\n    result = self.forward(*input, **kwargs)\n",
      "  File \u001b[1;32m\"/opt/anaconda3/envs/janestreet/lib/python3.8/site-packages/torch/nn/modules/activation.py\"\u001b[0m, line \u001b[1;32m102\u001b[0m, in \u001b[1;35mforward\u001b[0m\n    return F.relu(input, inplace=self.inplace)\n",
      "\u001b[0;36m  File \u001b[0;32m\"/opt/anaconda3/envs/janestreet/lib/python3.8/site-packages/torch/nn/functional.py\"\u001b[0;36m, line \u001b[0;32m1136\u001b[0;36m, in \u001b[0;35mrelu\u001b[0;36m\u001b[0m\n\u001b[0;31m    result = torch.relu(input)\u001b[0m\n",
      "\u001b[0;31mTypeError\u001b[0m\u001b[0;31m:\u001b[0m relu(): argument 'input' (position 1) must be Tensor, not numpy.ndarray\n"
     ]
    }
   ],
   "source": [
    "        torch.sqrt(\n",
    "            torch.mean(\n",
    "                (nn.ReLU()(-(df_test_predictions*df_test.to_numpy())) / torch.abs(df_test_predictions*df_test.to_numpy())) * torch.pow(df_test_predictions - df_test.to_numpy(), 2)))\n"
   ]
  },
  {
   "cell_type": "code",
   "execution_count": 54,
   "metadata": {},
   "outputs": [
    {
     "data": {
      "text/plain": [
       "(141102, 139)"
      ]
     },
     "execution_count": 54,
     "metadata": {},
     "output_type": "execute_result"
    }
   ],
   "source": [
    "df.loc[folds_list_test[fold_indice]].shape"
   ]
  },
  {
   "cell_type": "code",
   "execution_count": 57,
   "metadata": {},
   "outputs": [
    {
     "data": {
      "text/plain": [
       "torch.Size([141102, 1])"
      ]
     },
     "execution_count": 57,
     "metadata": {},
     "output_type": "execute_result"
    }
   ],
   "source": [
    "model(ts_test[fold_indice]).shape"
   ]
  },
  {
   "cell_type": "code",
   "execution_count": 247,
   "metadata": {},
   "outputs": [
    {
     "name": "stderr",
     "output_type": "stream",
     "text": [
      "/opt/anaconda3/envs/janestreet/lib/python3.8/site-packages/ipykernel/ipkernel.py:287: DeprecationWarning: `should_run_async` will not call `transform_cell` automatically in the future. Please pass the result to `transformed_cell` argument and any exception that happen during thetransform in `preprocessing_exc_tuple` in IPython 7.17 and above.\n",
      "  and should_run_async(code)\n"
     ]
    },
    {
     "data": {
      "text/plain": [
       "tensor([0.5434, 0.5418,  ..., 0.5532, 0.5421], device='cuda:0',\n",
       "       dtype=torch.float64, grad_fn=<SigmoidBackward>)"
      ]
     },
     "execution_count": 247,
     "metadata": {},
     "output_type": "execute_result"
    }
   ],
   "source": [
    "outputs_classif"
   ]
  },
  {
   "cell_type": "code",
   "execution_count": 217,
   "metadata": {},
   "outputs": [
    {
     "name": "stderr",
     "output_type": "stream",
     "text": [
      "/opt/anaconda3/envs/janestreet/lib/python3.8/site-packages/ipykernel/ipkernel.py:287: DeprecationWarning: `should_run_async` will not call `transform_cell` automatically in the future. Please pass the result to `transformed_cell` argument and any exception that happen during thetransform in `preprocessing_exc_tuple` in IPython 7.17 and above.\n",
      "  and should_run_async(code)\n"
     ]
    },
    {
     "data": {
      "text/plain": [
       "tensor([-0.0031, -0.0032,  ..., -0.0032, -0.0031], device='cuda:0',\n",
       "       dtype=torch.float64, grad_fn=<SqueezeBackward0>)"
      ]
     },
     "execution_count": 217,
     "metadata": {},
     "output_type": "execute_result"
    }
   ],
   "source": [
    "model.eval()\n",
    "(model(ts_test[fold_indice])[1].squeeze())"
   ]
  },
  {
   "cell_type": "code",
   "execution_count": 215,
   "metadata": {},
   "outputs": [
    {
     "name": "stderr",
     "output_type": "stream",
     "text": [
      "/opt/anaconda3/envs/janestreet/lib/python3.8/site-packages/ipykernel/ipkernel.py:287: DeprecationWarning: `should_run_async` will not call `transform_cell` automatically in the future. Please pass the result to `transformed_cell` argument and any exception that happen during thetransform in `preprocessing_exc_tuple` in IPython 7.17 and above.\n",
      "  and should_run_async(code)\n"
     ]
    },
    {
     "data": {
      "text/plain": [
       "array([False, False, False, ..., False, False, False])"
      ]
     },
     "execution_count": 215,
     "metadata": {},
     "output_type": "execute_result"
    }
   ],
   "source": [
    "(model(ts_test[fold_indice])[1].squeeze() > 0).cpu().numpy()"
   ]
  },
  {
   "cell_type": "code",
   "execution_count": 213,
   "metadata": {},
   "outputs": [
    {
     "name": "stderr",
     "output_type": "stream",
     "text": [
      "/opt/anaconda3/envs/janestreet/lib/python3.8/site-packages/ipykernel/ipkernel.py:287: DeprecationWarning: `should_run_async` will not call `transform_cell` automatically in the future. Please pass the result to `transformed_cell` argument and any exception that happen during thetransform in `preprocessing_exc_tuple` in IPython 7.17 and above.\n",
      "  and should_run_async(code)\n",
      "<ipython-input-6-b97e47e75da2>:10: RuntimeWarning: invalid value encountered in double_scalars\n",
      "  t = (df_test_utility_pi.sum() / np.sqrt(df_test_utility_pi.pow(2).sum())) * (np.sqrt(250 / np.abs(nb_unique_dates)))\n"
     ]
    },
    {
     "data": {
      "text/plain": [
       "nan"
      ]
     },
     "execution_count": 213,
     "metadata": {},
     "output_type": "execute_result"
    }
   ],
   "source": [
    "import warnings\n",
    "warnings.simplefilter('always')\n",
    "\n",
    "utility_function(df.loc[folds_list_test[fold_indice]], (model(ts_test[fold_indice])[1].squeeze() > 0).cpu().numpy())"
   ]
  },
  {
   "cell_type": "code",
   "execution_count": 168,
   "metadata": {},
   "outputs": [
    {
     "data": {
      "text/plain": [
       "tensor([ True, False,  ..., False, False], device='cuda:0')"
      ]
     },
     "execution_count": 168,
     "metadata": {},
     "output_type": "execute_result"
    }
   ],
   "source": [
    "model(ts_test[fold_indice])[1].squeeze() > 0"
   ]
  },
  {
   "cell_type": "code",
   "execution_count": 150,
   "metadata": {},
   "outputs": [],
   "source": [
    "def MSE_SignedLoss(output, target):\n",
    "    return(\n",
    "        torch.sqrt(\n",
    "            torch.mean(\n",
    "                (nn.ReLU()(-(output*target)) / torch.abs(output*target)) * torch.pow(output - target, 2)\n",
    "        )\n",
    "    )\n",
    "    )\n"
   ]
  },
  {
   "cell_type": "code",
   "execution_count": 154,
   "metadata": {},
   "outputs": [],
   "source": [
    "output = outputs_reg\n",
    "target = labels_reg.unsqueeze(-1).double()"
   ]
  },
  {
   "cell_type": "code",
   "execution_count": 160,
   "metadata": {},
   "outputs": [
    {
     "data": {
      "text/plain": [
       "tensor(0.0254, device='cuda:0', dtype=torch.float64, grad_fn=<SqrtBackward>)"
      ]
     },
     "execution_count": 160,
     "metadata": {},
     "output_type": "execute_result"
    }
   ],
   "source": [
    "torch.sqrt(torch.mean((nn.ReLU()(-(output*target)) / torch.abs(output*target)) * torch.pow(output - target, 2)))"
   ]
  },
  {
   "cell_type": "code",
   "execution_count": 156,
   "metadata": {},
   "outputs": [
    {
     "data": {
      "text/plain": [
       "tensor([[ 0.0094],\n",
       "        [-0.0127],\n",
       "        ...,\n",
       "        [-0.0086],\n",
       "        [-0.0037]], device='cuda:0', dtype=torch.float64,\n",
       "       grad_fn=<UnsqueezeBackward0>)"
      ]
     },
     "execution_count": 156,
     "metadata": {},
     "output_type": "execute_result"
    }
   ],
   "source": [
    "output"
   ]
  },
  {
   "cell_type": "code",
   "execution_count": 157,
   "metadata": {},
   "outputs": [
    {
     "data": {
      "text/plain": [
       "tensor([[-0.0091],\n",
       "        [-0.0070],\n",
       "        ...,\n",
       "        [-0.0111],\n",
       "        [ 0.0046]], device='cuda:0', dtype=torch.float64)"
      ]
     },
     "execution_count": 157,
     "metadata": {},
     "output_type": "execute_result"
    }
   ],
   "source": [
    "target"
   ]
  },
  {
   "cell_type": "code",
   "execution_count": 151,
   "metadata": {},
   "outputs": [
    {
     "data": {
      "text/plain": [
       "tensor(0.0965, device='cuda:0', dtype=torch.float64, grad_fn=<SqrtBackward>)"
      ]
     },
     "execution_count": 151,
     "metadata": {},
     "output_type": "execute_result"
    }
   ],
   "source": [
    "MSE_SignedLoss(outputs_reg, labels_reg.unsqueeze(-1).double())"
   ]
  },
  {
   "cell_type": "code",
   "execution_count": 146,
   "metadata": {},
   "outputs": [
    {
     "data": {
      "text/plain": [
       "tensor(0.0962, device='cuda:0', dtype=torch.float64, grad_fn=<SqrtBackward>)"
      ]
     },
     "execution_count": 146,
     "metadata": {},
     "output_type": "execute_result"
    }
   ],
   "source": [
    "torch.sqrt(torch.mean((nn.LeakyReLU()(-(outputs_reg*labels_reg.unsqueeze(-1).double())) \n",
    " / torch.abs(outputs_reg*labels_reg.unsqueeze(-1).double(),)) * torch.pow(outputs_reg - labels_reg.unsqueeze(-1).double(), 2)))"
   ]
  },
  {
   "cell_type": "code",
   "execution_count": 113,
   "metadata": {},
   "outputs": [
    {
     "data": {
      "text/plain": [
       "torch.Size([4096, 1])"
      ]
     },
     "execution_count": 113,
     "metadata": {},
     "output_type": "execute_result"
    }
   ],
   "source": [
    "outputs_reg.shape"
   ]
  },
  {
   "cell_type": "code",
   "execution_count": 114,
   "metadata": {},
   "outputs": [
    {
     "data": {
      "text/plain": [
       "torch.Size([4096, 1])"
      ]
     },
     "execution_count": 114,
     "metadata": {},
     "output_type": "execute_result"
    }
   ],
   "source": [
    "labels_reg.unsqueeze(-1).double().shape"
   ]
  },
  {
   "cell_type": "code",
   "execution_count": 116,
   "metadata": {},
   "outputs": [
    {
     "data": {
      "text/plain": [
       "tensor([[-0.0928],\n",
       "        [-0.1096],\n",
       "        ...,\n",
       "        [-0.1292],\n",
       "        [-0.1241]], device='cuda:0', dtype=torch.float64,\n",
       "       grad_fn=<UnsqueezeBackward0>)"
      ]
     },
     "execution_count": 116,
     "metadata": {},
     "output_type": "execute_result"
    }
   ],
   "source": [
    "outputs_reg"
   ]
  },
  {
   "cell_type": "code",
   "execution_count": 138,
   "metadata": {},
   "outputs": [
    {
     "data": {
      "text/plain": [
       "tensor([[-0.0065],\n",
       "        [-0.0016],\n",
       "        ...,\n",
       "        [ 0.0042],\n",
       "        [ 0.0003]], device='cuda:0', dtype=torch.float64)"
      ]
     },
     "execution_count": 138,
     "metadata": {},
     "output_type": "execute_result"
    }
   ],
   "source": [
    "labels_reg.unsqueeze(-1).double()"
   ]
  },
  {
   "cell_type": "code",
   "execution_count": 125,
   "metadata": {},
   "outputs": [
    {
     "data": {
      "text/plain": [
       "tensor([[-6.0025e-04],\n",
       "        [-1.7041e-04],\n",
       "        ...,\n",
       "        [ 5.4833e-04],\n",
       "        [ 3.7653e-05]], device='cuda:0', dtype=torch.float64,\n",
       "       grad_fn=<NegBackward>)"
      ]
     },
     "execution_count": 125,
     "metadata": {},
     "output_type": "execute_result"
    }
   ],
   "source": [
    "-(outputs_reg * labels_reg.unsqueeze(-1).double())"
   ]
  },
  {
   "cell_type": "code",
   "execution_count": 127,
   "metadata": {},
   "outputs": [
    {
     "data": {
      "text/plain": [
       "tensor([[-6.0025e-06],\n",
       "        [-1.7041e-06],\n",
       "        ...,\n",
       "        [ 5.4833e-04],\n",
       "        [ 3.7653e-05]], device='cuda:0', dtype=torch.float64,\n",
       "       grad_fn=<LeakyReluBackward0>)"
      ]
     },
     "execution_count": 127,
     "metadata": {},
     "output_type": "execute_result"
    }
   ],
   "source": [
    "nn.LeakyReLU()(-(outputs_reg * labels_reg.unsqueeze(-1).double()))"
   ]
  },
  {
   "cell_type": "code",
   "execution_count": 134,
   "metadata": {},
   "outputs": [
    {
     "data": {
      "text/plain": [
       "tensor(30.6613, device='cuda:0', dtype=torch.float64, grad_fn=<SumBackward0>)"
      ]
     },
     "execution_count": 134,
     "metadata": {},
     "output_type": "execute_result"
    }
   ],
   "source": [
    "torch.sum(MSE_SignedLoss(outputs_reg, labels_reg.unsqueeze(-1).double()))"
   ]
  },
  {
   "cell_type": "code",
   "execution_count": 131,
   "metadata": {},
   "outputs": [
    {
     "data": {
      "text/plain": [
       "tensor(12.8765, device='cuda:0', dtype=torch.float64, grad_fn=<MulBackward0>)"
      ]
     },
     "execution_count": 131,
     "metadata": {},
     "output_type": "execute_result"
    }
   ],
   "source": [
    "loss_fn_reg(outputs_reg, labels_reg.unsqueeze(-1).double()) * torch.tensor(864.625) # Coefficient to balance reg loss which is much smaller"
   ]
  },
  {
   "cell_type": "code",
   "execution_count": 95,
   "metadata": {},
   "outputs": [
    {
     "data": {
      "text/plain": [
       "(tensor([0.5451, 0.5409,  ..., 0.5415, 0.5436], device='cuda:0',\n",
       "        dtype=torch.float64, grad_fn=<SigmoidBackward>),\n",
       " tensor([-0.1072, -0.0855,  ..., -0.1060, -0.0965], device='cuda:0',\n",
       "        dtype=torch.float64, grad_fn=<SelectBackward>))"
      ]
     },
     "execution_count": 95,
     "metadata": {},
     "output_type": "execute_result"
    }
   ],
   "source": [
    "model(inputs)"
   ]
  },
  {
   "cell_type": "code",
   "execution_count": 96,
   "metadata": {},
   "outputs": [],
   "source": [
    "outputs_classif, outputs_reg = model(inputs)"
   ]
  },
  {
   "cell_type": "code",
   "execution_count": 104,
   "metadata": {},
   "outputs": [
    {
     "data": {
      "text/plain": [
       "torch.Size([4096, 1])"
      ]
     },
     "execution_count": 104,
     "metadata": {},
     "output_type": "execute_result"
    }
   ],
   "source": [
    "outputs_classif.unsqueeze(-1).shape"
   ]
  },
  {
   "cell_type": "code",
   "execution_count": 105,
   "metadata": {},
   "outputs": [
    {
     "data": {
      "text/plain": [
       "tensor(0.6955, device='cuda:0', dtype=torch.float64,\n",
       "       grad_fn=<BinaryCrossEntropyBackward>)"
      ]
     },
     "execution_count": 105,
     "metadata": {},
     "output_type": "execute_result"
    }
   ],
   "source": [
    "loss_fn(outputs_classif.unsqueeze(-1), labels.unsqueeze(-1).double())"
   ]
  },
  {
   "cell_type": "code",
   "execution_count": 90,
   "metadata": {},
   "outputs": [],
   "source": [
    "class MLP(torch.nn.Module):\n",
    "    #def __init__(self, n_feature, n_hidden): \n",
    "    def __init__(self): \n",
    "        super(MLP, self).__init__() \n",
    "\n",
    "        #nn.Dropout(0.2),\n",
    "        self.layer1 = nn.Linear(len(FEATURES_LIST_TOTRAIN), 130)\n",
    "        #self.batchnorm1 = nn.BatchNorm1d(130)\n",
    "        self.act1 = nn.ReLU()\n",
    "        self.dropout1 = nn.Dropout(0.3)\n",
    "\n",
    "        self.layer2 = nn.Linear(130, 130)\n",
    "        #self.batchnorm1 = nn.BatchNorm1d(130)\n",
    "        self.act2 = nn.ReLU()\n",
    "        self.dropout2 = nn.Dropout(0.3)\n",
    "\n",
    "        self.layer3 = nn.Linear(130, 130)\n",
    "        #self.batchnorm1 = nn.BatchNorm1d(130)\n",
    "        self.act3 = nn.ReLU()\n",
    "        self.dropout3 = nn.Dropout(0.3)\n",
    "\n",
    "        self.layer4 = nn.Linear(130, 130)\n",
    "        #self.batchnorm1 = nn.BatchNorm1d(130)\n",
    "        self.act4 = nn.ReLU()\n",
    "        self.dropout4 = nn.Dropout(0.3)\n",
    "        \n",
    "        self.layer5 = nn.Linear(130, 130)\n",
    "        #self.batchnorm1 = nn.BatchNorm1d(130)\n",
    "        self.act5 = nn.ReLU()\n",
    "        self.dropout5 = nn.Dropout(0.3)\n",
    "\n",
    "        self.layer6 = nn.Linear(130, 130)\n",
    "        #self.batchnorm1 = nn.BatchNorm1d(130)\n",
    "        self.act6 = nn.ReLU()\n",
    "        self.dropout6 = nn.Dropout(0.3)\n",
    "        \n",
    "        self.layer7 = nn.Linear(130, 130)\n",
    "        #self.batchnorm1 = nn.BatchNorm1d(130)\n",
    "        self.act7 = nn.ReLU()\n",
    "        self.dropout7 = nn.Dropout(0.3)\n",
    "\n",
    "        self.layer8 = nn.Linear(130, 130)\n",
    "        #self.batchnorm1 = nn.BatchNorm1d(130)\n",
    "        self.act8 = nn.ReLU()\n",
    "        self.dropout8 = nn.Dropout(0.3)\n",
    "\n",
    "        self.layer9 = nn.Linear(130, 60)\n",
    "        #self.batchnorm1 = nn.BatchNorm1d(130)\n",
    "        self.act9 = nn.ReLU()\n",
    "        self.dropout9 = nn.Dropout(0.3)\n",
    "\n",
    "        self.layer10 = nn.Linear(60, 30)\n",
    "        #self.batchnorm1 = nn.BatchNorm1d(130)\n",
    "        self.act10 = nn.ReLU()\n",
    "        self.dropout10 = nn.Dropout(0.3)\n",
    "\n",
    "        self.layer11 = nn.Linear(30, 2)\n",
    "        \n",
    "        #self.layer11_classif = nn.Linear(30, 1)\n",
    "        #self.act11_classif = nn.Sigmoid()  \n",
    "\n",
    "        #self.layer11_reg = nn.Linear(30, 1)\n",
    "\n",
    "\n",
    "\n",
    "    def forward(self, x):\n",
    "        x = self.dropout1(self.act1(self.layer1(x)))\n",
    "        x = self.dropout2(self.act2(self.layer2(x)))\n",
    "        x = self.dropout3(self.act3(self.layer3(x)))\n",
    "        x = self.dropout4(self.act4(self.layer4(x)))\n",
    "        x = self.dropout5(self.act5(self.layer5(x)))\n",
    "        x = self.dropout6(self.act6(self.layer6(x)))\n",
    "        x = self.dropout7(self.act7(self.layer7(x)))\n",
    "        x = self.dropout8(self.act8(self.layer8(x)))\n",
    "        x = self.dropout9(self.act9(self.layer9(x)))\n",
    "        x = self.dropout10(self.act10(self.layer10(x)))\n",
    "        \n",
    "        x = self.layer11(x)\n",
    "\n",
    "        x_out_classif = nn.Sigmoid()(x[:, 0])\n",
    "        x_out_reg = x[:, 1]\n",
    "\n",
    "        return x_out_classif, x_out_reg\n",
    "        #return x\n",
    "\n",
    "model = MLP().double().to('cuda')"
   ]
  },
  {
   "cell_type": "code",
   "execution_count": 93,
   "metadata": {},
   "outputs": [
    {
     "data": {
      "text/plain": [
       "(tensor([0.5026, 0.5040,  ..., 0.5032, 0.5014], device='cuda:0',\n",
       "        dtype=torch.float64, grad_fn=<SigmoidBackward>),\n",
       " tensor([0.0799, 0.0667,  ..., 0.0797, 0.0894], device='cuda:0',\n",
       "        dtype=torch.float64, grad_fn=<SelectBackward>))"
      ]
     },
     "execution_count": 93,
     "metadata": {},
     "output_type": "execute_result"
    }
   ],
   "source": [
    "model(inputs)"
   ]
  },
  {
   "cell_type": "code",
   "execution_count": 82,
   "metadata": {},
   "outputs": [
    {
     "data": {
      "text/plain": [
       "tensor(2)"
      ]
     },
     "execution_count": 82,
     "metadata": {},
     "output_type": "execute_result"
    }
   ],
   "source": [
    "torch.tensor(2)"
   ]
  },
  {
   "cell_type": "code",
   "execution_count": 85,
   "metadata": {},
   "outputs": [
    {
     "data": {
      "text/plain": [
       "tensor(0.8808)"
      ]
     },
     "execution_count": 85,
     "metadata": {},
     "output_type": "execute_result"
    }
   ],
   "source": [
    "nn.Sigmoid()(torch.tensor(2.0))"
   ]
  },
  {
   "cell_type": "code",
   "execution_count": 89,
   "metadata": {},
   "outputs": [
    {
     "data": {
      "text/plain": [
       "torch.Size([4096])"
      ]
     },
     "execution_count": 89,
     "metadata": {},
     "output_type": "execute_result"
    }
   ],
   "source": [
    "nn.Sigmoid()(model(inputs)[:, 1]).shape"
   ]
  },
  {
   "cell_type": "code",
   "execution_count": 63,
   "metadata": {},
   "outputs": [
    {
     "name": "stdout",
     "output_type": "stream",
     "text": [
      "Cnt batch train:410\n",
      "Epoch(7) - Training Loss: 0.0008\n"
     ]
    }
   ],
   "source": [
    "#### Test : only 1 epoch loop\n",
    "epoch = 7\n",
    "\n",
    "running_loss = 0.0        \n",
    "model.train()\n",
    "\n",
    "for layer in model.modules():\n",
    "    if ('activation' in str(type(layer))):\n",
    "        save_output_activation_stats_1layer = SaveOutputActivationStats()\n",
    "        handle = layer.register_forward_hook(save_output_activation_stats_1layer)\n",
    "        save_output_activation_stats.append(save_output_activation_stats_1layer)\n",
    "        hook_handles.append(handle)\n",
    "        \n",
    "for batch in train_loader:\n",
    "    #inputs, labels = batch[0], batch[1]\n",
    "    inputs, labels, labels_reg = batch[0].to('cuda'), batch[1].to('cuda'), batch[2].to('cuda')\n",
    "    optimizer.zero_grad()\n",
    "\n",
    "    with torch.set_grad_enabled(True):\n",
    "        outputs_classif, outputs_reg = model(inputs)\n",
    "        loss_classif = loss_fn(outputs_classif, labels.unsqueeze(-1).double())\n",
    "        loss_reg = loss_fn_reg(outputs_reg, labels_reg.unsqueeze(-1).double())\n",
    "        loss = loss_classif + loss_reg\n",
    "\n",
    "        loss.backward()\n",
    "        optimizer.step()\n",
    "\n",
    "# update local train loss\n",
    "running_loss += loss.item() * inputs.size(0)\n",
    "\n",
    "# update global train loss\n",
    "epoch_loss = running_loss / len(train_loader.dataset)\n",
    "print('Epoch({}) - Training Loss: {:.4f}'.format(epoch, epoch_loss))\n",
    "\n",
    "writer.add_scalar(f\"Global train/loss\", epoch_loss, epoch)\n",
    "\n",
    "# Write activation stats graphs\n",
    "for layer_number,save_output_activation_stats_layer in enumerate(save_output_activation_stats):            \n",
    "    df_stats_layer = pd.DataFrame(save_output_activation_stats_layer.outputs)\n",
    "\n",
    "    fig, ax = plt.subplots(1, 3, figsize=(25, 4))\n",
    "\n",
    "    ax[0].set_title(f'Layer {layer_number} : Mean activation value', fontsize=16)\n",
    "    ax[0].set_xlabel('Batch instances')\n",
    "    ax[0].set_ylabel('Mean')\n",
    "    ax[0].plot(range(df_stats_layer.shape[0]), df_stats_layer['mean'])\n",
    "\n",
    "    ax[1].set_title(f'Layer {layer_number} : Std deviation activation value', fontsize=16)\n",
    "    ax[1].set_xlabel('Batch instances')\n",
    "    ax[1].set_ylabel('Standard deviation')\n",
    "    ax[1].plot(range(df_stats_layer.shape[0]), df_stats_layer['std'])\n",
    "\n",
    "    ax[2].set_title(f'Layer {layer_number} : Percentage of activation values near zero', fontsize=16)\n",
    "    ax[2].set_xlabel('Batch instances')\n",
    "    ax[2].set_ylabel('Percentage')\n",
    "    ax[2].plot(range(df_stats_layer.shape[0]), df_stats_layer['near_zero']);\n",
    "\n",
    "    plot_buf = io.BytesIO()\n",
    "    plt.savefig(plot_buf, format='jpeg')\n",
    "    plt.close()\n",
    "\n",
    "    plot_buf.seek(0)\n",
    "    image = PIL.Image.open(plot_buf)\n",
    "    image = transforms.ToTensor()(image)\n",
    "    writer.add_image(\"Train activation stats/Activation stats layer \" + str(layer_number), image, epoch)"
   ]
  },
  {
   "cell_type": "code",
   "execution_count": 66,
   "metadata": {},
   "outputs": [
    {
     "data": {
      "text/html": [
       "<div>\n",
       "<style scoped>\n",
       "    .dataframe tbody tr th:only-of-type {\n",
       "        vertical-align: middle;\n",
       "    }\n",
       "\n",
       "    .dataframe tbody tr th {\n",
       "        vertical-align: top;\n",
       "    }\n",
       "\n",
       "    .dataframe thead th {\n",
       "        text-align: right;\n",
       "    }\n",
       "</style>\n",
       "<table border=\"1\" class=\"dataframe\">\n",
       "  <thead>\n",
       "    <tr style=\"text-align: right;\">\n",
       "      <th></th>\n",
       "      <th>mean</th>\n",
       "      <th>std</th>\n",
       "      <th>near_zero</th>\n",
       "    </tr>\n",
       "  </thead>\n",
       "  <tbody>\n",
       "    <tr>\n",
       "      <th>0</th>\n",
       "      <td>0.508536</td>\n",
       "      <td>0.036475</td>\n",
       "      <td>0.0</td>\n",
       "    </tr>\n",
       "    <tr>\n",
       "      <th>1</th>\n",
       "      <td>0.506510</td>\n",
       "      <td>0.038325</td>\n",
       "      <td>0.0</td>\n",
       "    </tr>\n",
       "    <tr>\n",
       "      <th>2</th>\n",
       "      <td>0.507212</td>\n",
       "      <td>0.037117</td>\n",
       "      <td>0.0</td>\n",
       "    </tr>\n",
       "    <tr>\n",
       "      <th>3</th>\n",
       "      <td>0.507142</td>\n",
       "      <td>0.035025</td>\n",
       "      <td>0.0</td>\n",
       "    </tr>\n",
       "    <tr>\n",
       "      <th>4</th>\n",
       "      <td>0.505896</td>\n",
       "      <td>0.038326</td>\n",
       "      <td>0.0</td>\n",
       "    </tr>\n",
       "    <tr>\n",
       "      <th>...</th>\n",
       "      <td>...</td>\n",
       "      <td>...</td>\n",
       "      <td>...</td>\n",
       "    </tr>\n",
       "    <tr>\n",
       "      <th>405</th>\n",
       "      <td>0.503037</td>\n",
       "      <td>0.036197</td>\n",
       "      <td>0.0</td>\n",
       "    </tr>\n",
       "    <tr>\n",
       "      <th>406</th>\n",
       "      <td>0.504640</td>\n",
       "      <td>0.038607</td>\n",
       "      <td>0.0</td>\n",
       "    </tr>\n",
       "    <tr>\n",
       "      <th>407</th>\n",
       "      <td>0.504351</td>\n",
       "      <td>0.037685</td>\n",
       "      <td>0.0</td>\n",
       "    </tr>\n",
       "    <tr>\n",
       "      <th>408</th>\n",
       "      <td>0.504257</td>\n",
       "      <td>0.037360</td>\n",
       "      <td>0.0</td>\n",
       "    </tr>\n",
       "    <tr>\n",
       "      <th>409</th>\n",
       "      <td>0.506839</td>\n",
       "      <td>0.038380</td>\n",
       "      <td>0.0</td>\n",
       "    </tr>\n",
       "  </tbody>\n",
       "</table>\n",
       "<p>410 rows × 3 columns</p>\n",
       "</div>"
      ],
      "text/plain": [
       "         mean       std  near_zero\n",
       "0    0.508536  0.036475        0.0\n",
       "1    0.506510  0.038325        0.0\n",
       "2    0.507212  0.037117        0.0\n",
       "3    0.507142  0.035025        0.0\n",
       "4    0.505896  0.038326        0.0\n",
       "..        ...       ...        ...\n",
       "405  0.503037  0.036197        0.0\n",
       "406  0.504640  0.038607        0.0\n",
       "407  0.504351  0.037685        0.0\n",
       "408  0.504257  0.037360        0.0\n",
       "409  0.506839  0.038380        0.0\n",
       "\n",
       "[410 rows x 3 columns]"
      ]
     },
     "execution_count": 66,
     "metadata": {},
     "output_type": "execute_result"
    }
   ],
   "source": [
    "df_stats_layer"
   ]
  },
  {
   "cell_type": "code",
   "execution_count": null,
   "metadata": {},
   "outputs": [],
   "source": [
    "model(ts_test[fold_indice])[0]"
   ]
  },
  {
   "cell_type": "code",
   "execution_count": null,
   "metadata": {},
   "outputs": [],
   "source": [
    "accuracy_score(ts_test_y[fold_indice].cpu().numpy(), (model(ts_test[fold_indice])[0].squeeze() > 0.5).cpu().numpy())"
   ]
  },
  {
   "cell_type": "code",
   "execution_count": null,
   "metadata": {},
   "outputs": [],
   "source": [
    "plt.savefig(plot_buf, format='raw')"
   ]
  },
  {
   "cell_type": "code",
   "execution_count": null,
   "metadata": {},
   "outputs": [],
   "source": []
  },
  {
   "cell_type": "code",
   "execution_count": null,
   "metadata": {},
   "outputs": [],
   "source": [
    " transforms.ToTensor()(image).shape"
   ]
  },
  {
   "cell_type": "code",
   "execution_count": null,
   "metadata": {},
   "outputs": [],
   "source": [
    "utils.make_grid( transforms.ToTensor()(image)).unsqueeze(0)"
   ]
  },
  {
   "cell_type": "code",
   "execution_count": null,
   "metadata": {},
   "outputs": [],
   "source": [
    "model"
   ]
  },
  {
   "cell_type": "code",
   "execution_count": null,
   "metadata": {},
   "outputs": [],
   "source": [
    "model[0]"
   ]
  },
  {
   "cell_type": "code",
   "execution_count": null,
   "metadata": {},
   "outputs": [],
   "source": [
    "model"
   ]
  },
  {
   "cell_type": "code",
   "execution_count": null,
   "metadata": {},
   "outputs": [],
   "source": [
    "model[3]"
   ]
  },
  {
   "cell_type": "code",
   "execution_count": null,
   "metadata": {},
   "outputs": [],
   "source": [
    "for i, param_object in enumerate(model[0].parameters()):\n",
    "    print(f'Object {i}')\n",
    "    print(param_object.shape)\n",
    "    print(param_object)"
   ]
  },
  {
   "cell_type": "code",
   "execution_count": null,
   "metadata": {},
   "outputs": [],
   "source": [
    "help(model[4])"
   ]
  },
  {
   "cell_type": "code",
   "execution_count": null,
   "metadata": {},
   "outputs": [],
   "source": [
    "for i, param_object in enumerate(model[0].parameters()):\n",
    "    print(f'Object {i}')\n",
    "    print(param_object.shape)\n",
    "    print(param_object)"
   ]
  },
  {
   "cell_type": "code",
   "execution_count": null,
   "metadata": {},
   "outputs": [],
   "source": [
    "#model.eval()\n",
    "#accuracy_score(ts_test_y.cpu().numpy(), (model(ts_test).squeeze() > 0.5).cpu().numpy())"
   ]
  },
  {
   "cell_type": "code",
   "execution_count": null,
   "metadata": {},
   "outputs": [],
   "source": [
    "#model.eval()\n",
    "#utility_function(df.loc[test_index], (model(ts_test).squeeze() > 0.5).cpu().numpy())"
   ]
  },
  {
   "cell_type": "code",
   "execution_count": null,
   "metadata": {},
   "outputs": [],
   "source": [
    "'''\n",
    "model_load = nn.Sequential(\n",
    "        #nn.Dropout(0.2),\n",
    "        nn.Linear(len(FEATURES_LIST_TOTRAIN), 130),\n",
    "        #nn.BatchNorm1d(130),\n",
    "        nn.ReLU(),\n",
    "        nn.Dropout(0.3),\n",
    "\n",
    "        nn.Linear(130, 130),\n",
    "        #nn.BatchNorm1d(130),\n",
    "        nn.ReLU(),\n",
    "        nn.Dropout(0.3),    \n",
    "\n",
    "        nn.Linear(130, 130),\n",
    "        #nn.BatchNorm1d(130),\n",
    "        nn.ReLU(),\n",
    "        nn.Dropout(0.3),    \n",
    "\n",
    "        nn.Linear(130, 130),\n",
    "        #nn.BatchNorm1d(130),\n",
    "        nn.ReLU(),\n",
    "        nn.Dropout(0.3),    \n",
    "\n",
    "        nn.Linear(130, 130),\n",
    "        #nn.BatchNorm1d(130),\n",
    "        nn.ReLU(),\n",
    "        nn.Dropout(0.3),    \n",
    "\n",
    "        nn.Linear(130, 130),\n",
    "        #nn.BatchNorm1d(130),\n",
    "        nn.ReLU(),\n",
    "        nn.Dropout(0.3),    \n",
    "    \n",
    "        nn.Linear(130, 130),\n",
    "        #nn.BatchNorm1d(130),\n",
    "        nn.ReLU(),\n",
    "        nn.Dropout(0.3),    \n",
    "    \n",
    "        nn.Linear(130, 130),\n",
    "        #nn.BatchNorm1d(130),\n",
    "        nn.ReLU(),\n",
    "        nn.Dropout(0.3),    \n",
    "\n",
    "        nn.Linear(130, 60),\n",
    "        #nn.BatchNorm1d(130),\n",
    "        nn.ReLU(),\n",
    "        nn.Dropout(0.3),    \n",
    "    \n",
    "        nn.Linear(60, 30),\n",
    "        #nn.BatchNorm1d(130),\n",
    "        nn.ReLU(),\n",
    "        nn.Dropout(0.3),    \n",
    "       \n",
    "        nn.Linear(30, 1),\n",
    "        nn.Sigmoid(),\n",
    "    ).double().to('cuda')\n",
    "    \n",
    "model_load.load_state_dict(torch.load(f'model_NN_allfolds_V1.pt',map_location=torch.device('cuda')))\n",
    "'''\n",
    "\n",
    "#model_load.eval()\n",
    "#print(accuracy_score(ts_test_y.cpu().numpy(), (model_load(ts_test).squeeze() > 0.5).cpu().numpy()))\n",
    "#\n",
    "#model_load.eval()\n",
    "#print(utility_function(df.loc[test_index], (model_load(ts_test).squeeze() > 0.5).cpu().numpy()))\n"
   ]
  },
  {
   "cell_type": "markdown",
   "metadata": {},
   "source": [
    "# Data for model inference"
   ]
  },
  {
   "cell_type": "markdown",
   "metadata": {},
   "source": [
    "## First, fill NA with :"
   ]
  },
  {
   "cell_type": "code",
   "execution_count": null,
   "metadata": {},
   "outputs": [],
   "source": [
    "f_mean"
   ]
  },
  {
   "cell_type": "markdown",
   "metadata": {},
   "source": [
    "## Then, normalize with :"
   ]
  },
  {
   "cell_type": "code",
   "execution_count": null,
   "metadata": {},
   "outputs": [],
   "source": [
    "ts_train_mean"
   ]
  },
  {
   "cell_type": "code",
   "execution_count": null,
   "metadata": {},
   "outputs": [],
   "source": [
    "ts_train_std"
   ]
  },
  {
   "cell_type": "code",
   "execution_count": null,
   "metadata": {},
   "outputs": [],
   "source": [
    "class SaveOutput:\n",
    "    def __init__(self):\n",
    "        self.outputs = []\n",
    "        \n",
    "    def __call__(self, module, module_in, module_out):\n",
    "        self.outputs.append(module_out)\n",
    "        print(type(module_out))\n",
    "        \n",
    "    def clear(self):\n",
    "        self.outputs = []"
   ]
  },
  {
   "cell_type": "code",
   "execution_count": null,
   "metadata": {},
   "outputs": [],
   "source": [
    "model2 =  nn.Sequential(\n",
    "        nn.Linear(4, 2),\n",
    "        nn.ReLU(),\n",
    "\n",
    "        nn.Linear(2, 2),\n",
    "        nn.ReLU(),\n",
    "\n",
    "\n",
    "    \n",
    "        nn.Linear(2, 1),\n",
    "        nn.Sigmoid(),\n",
    "\n",
    ")\n",
    "\n",
    "model2.eval()"
   ]
  },
  {
   "cell_type": "code",
   "execution_count": null,
   "metadata": {},
   "outputs": [],
   "source": [
    "for i, param_object in enumerate(model2.parameters()):\n",
    "    print(f'Object {i}')\n",
    "    print(param_object.shape)\n",
    "    print(param_object.data)"
   ]
  },
  {
   "cell_type": "code",
   "execution_count": null,
   "metadata": {},
   "outputs": [],
   "source": [
    "'activation' in str(type(model2[1]))"
   ]
  },
  {
   "cell_type": "code",
   "execution_count": null,
   "metadata": {},
   "outputs": [],
   "source": [
    "isinstance(model2[1], torch.nn.ReLU)"
   ]
  },
  {
   "cell_type": "code",
   "execution_count": null,
   "metadata": {},
   "outputs": [],
   "source": [
    "save_output = SaveOutput()\n",
    "\n",
    "hook_handles = []\n",
    "\n",
    "for layer in model2.modules():\n",
    "    if ('activation' in str(type(layer))):\n",
    "        handle = layer.register_forward_hook(save_output)\n",
    "        hook_handles.append(handle)"
   ]
  },
  {
   "cell_type": "code",
   "execution_count": null,
   "metadata": {},
   "outputs": [],
   "source": [
    "hook_handles"
   ]
  },
  {
   "cell_type": "code",
   "execution_count": null,
   "metadata": {},
   "outputs": [],
   "source": [
    "#with torch.no_grad():\n",
    "print(model2(torch.tensor([1, 1, 1, 2], dtype=torch.float)))"
   ]
  },
  {
   "cell_type": "code",
   "execution_count": null,
   "metadata": {},
   "outputs": [],
   "source": [
    "save_output.outputs"
   ]
  },
  {
   "cell_type": "code",
   "execution_count": null,
   "metadata": {},
   "outputs": [],
   "source": [
    "activation.append([0.11, 01.11])"
   ]
  },
  {
   "cell_type": "code",
   "execution_count": null,
   "metadata": {},
   "outputs": [],
   "source": [
    "# Pour récupérer les gradients : https://discuss.pytorch.org/t/how-to-print-the-computed-gradient-values-for-a-network/34179\n",
    "print(model2[0].weight.grad)"
   ]
  },
  {
   "cell_type": "code",
   "execution_count": null,
   "metadata": {},
   "outputs": [],
   "source": [
    "model"
   ]
  },
  {
   "cell_type": "markdown",
   "metadata": {},
   "source": [
    "# Test"
   ]
  },
  {
   "cell_type": "code",
   "execution_count": 59,
   "metadata": {},
   "outputs": [
    {
     "name": "stdout",
     "output_type": "stream",
     "text": [
      "Model created\n",
      "Cnt batch train:410\n",
      "Epoch(3) - Training Loss: 0.0008\n"
     ]
    }
   ],
   "source": [
    "MODEL_COMMENT = \"Test, to delete\"\n",
    "\n",
    "patience=5\n",
    "\n",
    "utility_scores = [None] * 5\n",
    "accuracy_scores = [None] * 5\n",
    "\n",
    "writer = SummaryWriter()\n",
    "\n",
    "ts_train = torch.tensor(df.loc[folds_list_train_unique, FEATURES_LIST_TOTRAIN].to_numpy(), device='cuda')\n",
    "ts_train_y = torch.tensor((df.loc[folds_list_train_unique, 'resp'] > 0).astype(np.byte).to_numpy(), device='cuda')\n",
    "ts_train_y_reg = torch.tensor(df.loc[folds_list_train_unique, 'resp'].to_numpy(), device='cuda')\n",
    "\n",
    "# Normalize data\n",
    "ts_train_mean = torch.mean(ts_train, axis=0)\n",
    "ts_train_std = torch.std(ts_train, axis=0)\n",
    "ts_train = pyStandardScale(ts_train, ts_train_mean, ts_train_std)\n",
    "\n",
    "train_dataset = torch.utils.data.TensorDataset(ts_train, ts_train_y, ts_train_y_reg)\n",
    "train_loader = torch.utils.data.DataLoader(train_dataset, batch_size=BATCH_SIZE, shuffle=True) # pin_memory : VOIR RESULTAT\n",
    "\n",
    "ts_test = [None] * 5\n",
    "ts_test_y = [None] * 5    \n",
    "ts_test_y_reg = [None] * 5   \n",
    "test_dataset = [None] * 5\n",
    "test_loader = [None] * 5\n",
    "\n",
    "for fold_indice in range(5):\n",
    "    ts_test[fold_indice] = torch.tensor(df.loc[folds_list_test[fold_indice], FEATURES_LIST_TOTRAIN].to_numpy(), device='cuda')\n",
    "    ts_test_y[fold_indice] = torch.tensor((df.loc[folds_list_test[fold_indice], 'resp'] > 0).astype(np.byte).to_numpy(), device='cuda')\n",
    "    ts_test_y_reg[fold_indice] = torch.tensor(df.loc[folds_list_test[fold_indice], 'resp'].to_numpy(), device='cuda')\n",
    "\n",
    "    # Normalize\n",
    "    ts_test[fold_indice] = pyStandardScale(ts_test[fold_indice], ts_train_mean, ts_train_std)\n",
    "    \n",
    "    test_dataset[fold_indice] = torch.utils.data.TensorDataset(ts_test[fold_indice], ts_test_y[fold_indice], ts_test_y_reg[fold_indice])\n",
    "    test_loader[fold_indice] = torch.utils.data.DataLoader(test_dataset[fold_indice], batch_size=BATCH_SIZE)\n",
    "\n",
    "torch.manual_seed(seed)\n",
    "\n",
    "'''\n",
    "model = nn.Sequential(\n",
    "        #nn.Dropout(0.2),\n",
    "        nn.Linear(len(FEATURES_LIST_TOTRAIN), 200),\n",
    "        #nn.BatchNorm1d(130),\n",
    "        nn.ReLU(),\n",
    "        nn.Dropout(0.7),\n",
    "\n",
    "        nn.Linear(200, 100),\n",
    "        #nn.BatchNorm1d(130),\n",
    "        nn.ReLU(),\n",
    "        nn.Dropout(0.7),\n",
    "    \n",
    "        nn.Linear(100, 1),\n",
    "        nn.Sigmoid(),\n",
    "    ).double().to('cuda')\n",
    "'''\n",
    "\n",
    "class MLP(torch.nn.Module):\n",
    "    #def __init__(self, n_feature, n_hidden): \n",
    "    def __init__(self): \n",
    "        super(MLP, self).__init__() \n",
    "        self.layer1 = nn.Linear(len(FEATURES_LIST_TOTRAIN), 2000)\n",
    "        self.act1 = nn.ReLU()\n",
    "        self.drop1 = nn.Dropout(0.7)\n",
    "\n",
    "        self.layer2 = nn.Linear(2000, 1000)\n",
    "        self.act2 = nn.ReLU()\n",
    "        self.drop2 = nn.Dropout(0.7)\n",
    "\n",
    "        self.layer3_classif = nn.Linear(1000, 1)\n",
    "        self.act3_classif = nn.Sigmoid()  \n",
    "\n",
    "        self.layer3_reg = nn.Linear(1000, 1)\n",
    "        #self.act3_reg = nn.Sigmoid()  \n",
    "\n",
    "\n",
    "    def forward(self, x):\n",
    "        x = self.drop1(self.act1(self.layer1(x)))\n",
    "        x = self.drop2(self.act2(self.layer2(x)))\n",
    "\n",
    "        x_out_classif = self.act3_classif(self.layer3_classif(x))\n",
    "        #x_out_reg = self.act3_reg(self.layer3_reg(x))\n",
    "        x_out_reg = self.layer3_reg(x)\n",
    "\n",
    "        return x_out_classif, x_out_reg\n",
    "\n",
    "model = MLP().double().to('cuda')\n",
    "print('Model created')\n",
    "\n",
    "#print('Number of model parameters :')\n",
    "#numel_list = [p.numel() for p in model.parameters()]\n",
    "#sum(numel_list), numel_list\n",
    "\n",
    "loss_fn = nn.BCELoss().to('cuda')\n",
    "loss_fn_reg = nn.MSELoss().to('cuda')\n",
    "\n",
    "#optimizer = torch.optim.Adam(model.parameters(), lr=1e-2) \n",
    "optimizer = torch.optim.Adam(model.parameters(), lr=1e-3) \n",
    "\n",
    "model.eval()\n",
    "#start_accuracy = accuracy_score(ts_test_y.cpu().numpy(), (model(ts_test).squeeze() > 0.5).cpu().numpy())\n",
    "#start_utility_score = utility_function(df.loc[test_index], (model(ts_test).squeeze() > 0.5).cpu().numpy())\n",
    "#print('Start Validation Accuracy: {:.4f}'.format(start_accuracy))\n",
    "#print('Start Validation Utility: {:.4f}'.format(start_utility_score))\n",
    "\n",
    "### Call back to save activation stats (mean, std dev and near 0 values after activation functions)\n",
    "\n",
    "hook_handles = []\n",
    "save_output_activation_stats = []\n",
    "\n",
    "Val_Loss = 0\n",
    "N_Samples = 0\n",
    "\n",
    "the_last_loss = 100\n",
    "the_last_utility_score = 0\n",
    "the_last_accuracy = 0\n",
    "trigger_times=0\n",
    "early_stopping_met = False\n",
    "\n",
    "\n",
    "#### Test : only 1 epoch loop\n",
    "epoch = 3\n",
    "\n",
    "running_loss = 0.0        \n",
    "model.train()\n",
    "\n",
    "for layer in model.modules():\n",
    "    if ('activation' in str(type(layer))):\n",
    "        save_output_activation_stats_1layer = SaveOutputActivationStats()\n",
    "        handle = layer.register_forward_hook(save_output_activation_stats_1layer)\n",
    "        save_output_activation_stats.append(save_output_activation_stats_1layer)\n",
    "        hook_handles.append(handle)\n",
    "\n",
    "for batch in train_loader:\n",
    "    #inputs, labels = batch[0], batch[1]\n",
    "    inputs, labels, labels_reg = batch[0].to('cuda'), batch[1].to('cuda'), batch[2].to('cuda')\n",
    "    optimizer.zero_grad()\n",
    "\n",
    "    with torch.set_grad_enabled(True):\n",
    "        outputs_classif, outputs_reg = model(inputs)\n",
    "        loss_classif = loss_fn(outputs_classif, labels.unsqueeze(-1).double())\n",
    "        loss_reg = loss_fn_reg(outputs_reg, labels_reg.unsqueeze(-1).double())\n",
    "        loss = loss_classif + loss_reg\n",
    "\n",
    "        loss.backward()\n",
    "        optimizer.step()\n",
    "\n",
    "# update local train loss\n",
    "running_loss += loss.item() * inputs.size(0)\n",
    "\n",
    "# update global train loss\n",
    "epoch_loss = running_loss / len(train_loader.dataset)\n",
    "print('Epoch({}) - Training Loss: {:.4f}'.format(epoch, epoch_loss))\n",
    "\n",
    "writer.add_scalar(f\"Global train/loss\", epoch_loss, epoch)\n",
    "\n",
    "# Write activation stats graphs\n",
    "for layer_number,save_output_activation_stats_layer in enumerate(save_output_activation_stats):            \n",
    "    df_stats_layer = pd.DataFrame(save_output_activation_stats_layer.outputs)\n",
    "\n",
    "    fig, ax = plt.subplots(1, 3, figsize=(25, 4))\n",
    "\n",
    "    ax[0].set_title(f'Layer {layer_number} : Mean activation value', fontsize=16)\n",
    "    ax[0].set_xlabel('Batch instances')\n",
    "    ax[0].set_ylabel('Mean')\n",
    "    ax[0].plot(range(df_stats_layer.shape[0]), df_stats_layer['mean'])\n",
    "\n",
    "    ax[1].set_title(f'Layer {layer_number} : Std deviation activation value', fontsize=16)\n",
    "    ax[1].set_xlabel('Batch instances')\n",
    "    ax[1].set_ylabel('Standard deviation')\n",
    "    ax[1].plot(range(df_stats_layer.shape[0]), df_stats_layer['std'])\n",
    "\n",
    "    ax[2].set_title(f'Layer {layer_number} : Percentage of activation values near zero', fontsize=16)\n",
    "    ax[2].set_xlabel('Batch instances')\n",
    "    ax[2].set_ylabel('Percentage')\n",
    "    ax[2].plot(range(df_stats_layer.shape[0]), df_stats_layer['near_zero']);\n",
    "\n",
    "    plot_buf = io.BytesIO()\n",
    "    plt.savefig(plot_buf, format='jpeg')\n",
    "    plt.close()\n",
    "\n",
    "    plot_buf.seek(0)\n",
    "    image = PIL.Image.open(plot_buf)\n",
    "    image = transforms.ToTensor()(image)\n",
    "    writer.add_image(\"Train activation stats/Activation stats layer \" + str(layer_number), image, epoch)"
   ]
  },
  {
   "cell_type": "code",
   "execution_count": 58,
   "metadata": {},
   "outputs": [
    {
     "data": {
      "text/html": [
       "<div>\n",
       "<style scoped>\n",
       "    .dataframe tbody tr th:only-of-type {\n",
       "        vertical-align: middle;\n",
       "    }\n",
       "\n",
       "    .dataframe tbody tr th {\n",
       "        vertical-align: top;\n",
       "    }\n",
       "\n",
       "    .dataframe thead th {\n",
       "        text-align: right;\n",
       "    }\n",
       "</style>\n",
       "<table border=\"1\" class=\"dataframe\">\n",
       "  <thead>\n",
       "    <tr style=\"text-align: right;\">\n",
       "      <th></th>\n",
       "      <th>mean</th>\n",
       "      <th>std</th>\n",
       "      <th>near_zero</th>\n",
       "    </tr>\n",
       "  </thead>\n",
       "  <tbody>\n",
       "    <tr>\n",
       "      <th>0</th>\n",
       "      <td>0.513979</td>\n",
       "      <td>0.067728</td>\n",
       "      <td>0.000244</td>\n",
       "    </tr>\n",
       "    <tr>\n",
       "      <th>1</th>\n",
       "      <td>0.511781</td>\n",
       "      <td>0.067834</td>\n",
       "      <td>0.000000</td>\n",
       "    </tr>\n",
       "    <tr>\n",
       "      <th>2</th>\n",
       "      <td>0.506987</td>\n",
       "      <td>0.065692</td>\n",
       "      <td>0.000244</td>\n",
       "    </tr>\n",
       "    <tr>\n",
       "      <th>3</th>\n",
       "      <td>0.509252</td>\n",
       "      <td>0.066704</td>\n",
       "      <td>0.000244</td>\n",
       "    </tr>\n",
       "    <tr>\n",
       "      <th>4</th>\n",
       "      <td>0.508509</td>\n",
       "      <td>0.065194</td>\n",
       "      <td>0.000000</td>\n",
       "    </tr>\n",
       "    <tr>\n",
       "      <th>...</th>\n",
       "      <td>...</td>\n",
       "      <td>...</td>\n",
       "      <td>...</td>\n",
       "    </tr>\n",
       "    <tr>\n",
       "      <th>405</th>\n",
       "      <td>0.504025</td>\n",
       "      <td>0.026814</td>\n",
       "      <td>0.000000</td>\n",
       "    </tr>\n",
       "    <tr>\n",
       "      <th>406</th>\n",
       "      <td>0.503545</td>\n",
       "      <td>0.026565</td>\n",
       "      <td>0.000000</td>\n",
       "    </tr>\n",
       "    <tr>\n",
       "      <th>407</th>\n",
       "      <td>0.503636</td>\n",
       "      <td>0.025799</td>\n",
       "      <td>0.000000</td>\n",
       "    </tr>\n",
       "    <tr>\n",
       "      <th>408</th>\n",
       "      <td>0.503646</td>\n",
       "      <td>0.026199</td>\n",
       "      <td>0.000000</td>\n",
       "    </tr>\n",
       "    <tr>\n",
       "      <th>409</th>\n",
       "      <td>0.502172</td>\n",
       "      <td>0.024381</td>\n",
       "      <td>0.000000</td>\n",
       "    </tr>\n",
       "  </tbody>\n",
       "</table>\n",
       "<p>410 rows × 3 columns</p>\n",
       "</div>"
      ],
      "text/plain": [
       "         mean       std  near_zero\n",
       "0    0.513979  0.067728   0.000244\n",
       "1    0.511781  0.067834   0.000000\n",
       "2    0.506987  0.065692   0.000244\n",
       "3    0.509252  0.066704   0.000244\n",
       "4    0.508509  0.065194   0.000000\n",
       "..        ...       ...        ...\n",
       "405  0.504025  0.026814   0.000000\n",
       "406  0.503545  0.026565   0.000000\n",
       "407  0.503636  0.025799   0.000000\n",
       "408  0.503646  0.026199   0.000000\n",
       "409  0.502172  0.024381   0.000000\n",
       "\n",
       "[410 rows x 3 columns]"
      ]
     },
     "execution_count": 58,
     "metadata": {},
     "output_type": "execute_result"
    }
   ],
   "source": [
    "df_stats_layer"
   ]
  },
  {
   "cell_type": "code",
   "execution_count": 56,
   "metadata": {},
   "outputs": [
    {
     "data": {
      "text/plain": [
       "torch.Size([1677155, 130])"
      ]
     },
     "execution_count": 56,
     "metadata": {},
     "output_type": "execute_result"
    }
   ],
   "source": [
    "ts_train.shape"
   ]
  },
  {
   "cell_type": "code",
   "execution_count": 53,
   "metadata": {},
   "outputs": [
    {
     "name": "stdout",
     "output_type": "stream",
     "text": [
      "Cnt batch train:410\n",
      "Epoch(1) - Training Loss: 0.0008\n"
     ]
    }
   ],
   "source": [
    "#### Test : only 1 epoch loop\n",
    "epoch = 1\n",
    "\n",
    "running_loss = 0.0        \n",
    "model.train()\n",
    "\n",
    "for batch in train_loader:\n",
    "    #inputs, labels = batch[0], batch[1]\n",
    "    inputs, labels, labels_reg = batch[0].to('cuda'), batch[1].to('cuda'), batch[2].to('cuda')\n",
    "    optimizer.zero_grad()\n",
    "\n",
    "    with torch.set_grad_enabled(True):\n",
    "        outputs_classif, outputs_reg = model(inputs)\n",
    "        loss_classif = loss_fn(outputs_classif, labels.unsqueeze(-1).double())\n",
    "        loss_reg = loss_fn_reg(outputs_reg, labels_reg.unsqueeze(-1).double())\n",
    "        loss = loss_classif + loss_reg\n",
    "\n",
    "        loss.backward()\n",
    "        optimizer.step()\n",
    "\n",
    "# update local train loss\n",
    "running_loss += loss.item() * inputs.size(0)\n",
    "\n",
    "# update global train loss\n",
    "epoch_loss = running_loss / len(train_loader.dataset)\n",
    "print('Epoch({}) - Training Loss: {:.4f}'.format(epoch, epoch_loss))\n",
    "\n",
    "writer.add_scalar(f\"Global train/loss\", epoch_loss, epoch)\n",
    "\n",
    "# Write activation stats graphs\n",
    "for layer_number,save_output_activation_stats_layer in enumerate(save_output_activation_stats):            \n",
    "    df_stats_layer = pd.DataFrame(save_output_activation_stats_layer.outputs)\n",
    "\n",
    "    fig, ax = plt.subplots(1, 3, figsize=(25, 4))\n",
    "\n",
    "    ax[0].set_title(f'Layer {layer_number} : Mean activation value', fontsize=16)\n",
    "    ax[0].set_xlabel('Batch instances')\n",
    "    ax[0].set_ylabel('Mean')\n",
    "    ax[0].plot(range(df_stats_layer.shape[0]), df_stats_layer['mean'])\n",
    "\n",
    "    ax[1].set_title(f'Layer {layer_number} : Std deviation activation value', fontsize=16)\n",
    "    ax[1].set_xlabel('Batch instances')\n",
    "    ax[1].set_ylabel('Standard deviation')\n",
    "    ax[1].plot(range(df_stats_layer.shape[0]), df_stats_layer['std'])\n",
    "\n",
    "    ax[2].set_title(f'Layer {layer_number} : Percentage of activation values near zero', fontsize=16)\n",
    "    ax[2].set_xlabel('Batch instances')\n",
    "    ax[2].set_ylabel('Percentage')\n",
    "    ax[2].plot(range(df_stats_layer.shape[0]), df_stats_layer['near_zero']);\n",
    "\n",
    "    plot_buf = io.BytesIO()\n",
    "    plt.savefig(plot_buf, format='jpeg')\n",
    "    plt.close()\n",
    "\n",
    "    plot_buf.seek(0)\n",
    "    image = PIL.Image.open(plot_buf)\n",
    "    image = transforms.ToTensor()(image)\n",
    "    writer.add_image(\"Train activation stats/Activation stats layer \" + str(layer_number), image, epoch)"
   ]
  },
  {
   "cell_type": "code",
   "execution_count": 54,
   "metadata": {},
   "outputs": [
    {
     "data": {
      "text/html": [
       "<div>\n",
       "<style scoped>\n",
       "    .dataframe tbody tr th:only-of-type {\n",
       "        vertical-align: middle;\n",
       "    }\n",
       "\n",
       "    .dataframe tbody tr th {\n",
       "        vertical-align: top;\n",
       "    }\n",
       "\n",
       "    .dataframe thead th {\n",
       "        text-align: right;\n",
       "    }\n",
       "</style>\n",
       "<table border=\"1\" class=\"dataframe\">\n",
       "  <thead>\n",
       "    <tr style=\"text-align: right;\">\n",
       "      <th></th>\n",
       "      <th>mean</th>\n",
       "      <th>std</th>\n",
       "      <th>near_zero</th>\n",
       "    </tr>\n",
       "  </thead>\n",
       "  <tbody>\n",
       "    <tr>\n",
       "      <th>0</th>\n",
       "      <td>0.513979</td>\n",
       "      <td>0.067728</td>\n",
       "      <td>0.000244</td>\n",
       "    </tr>\n",
       "    <tr>\n",
       "      <th>1</th>\n",
       "      <td>0.511781</td>\n",
       "      <td>0.067834</td>\n",
       "      <td>0.000000</td>\n",
       "    </tr>\n",
       "    <tr>\n",
       "      <th>2</th>\n",
       "      <td>0.506987</td>\n",
       "      <td>0.065692</td>\n",
       "      <td>0.000244</td>\n",
       "    </tr>\n",
       "    <tr>\n",
       "      <th>3</th>\n",
       "      <td>0.509252</td>\n",
       "      <td>0.066704</td>\n",
       "      <td>0.000244</td>\n",
       "    </tr>\n",
       "    <tr>\n",
       "      <th>4</th>\n",
       "      <td>0.508509</td>\n",
       "      <td>0.065194</td>\n",
       "      <td>0.000000</td>\n",
       "    </tr>\n",
       "    <tr>\n",
       "      <th>...</th>\n",
       "      <td>...</td>\n",
       "      <td>...</td>\n",
       "      <td>...</td>\n",
       "    </tr>\n",
       "    <tr>\n",
       "      <th>815</th>\n",
       "      <td>0.504753</td>\n",
       "      <td>0.029052</td>\n",
       "      <td>0.000000</td>\n",
       "    </tr>\n",
       "    <tr>\n",
       "      <th>816</th>\n",
       "      <td>0.505019</td>\n",
       "      <td>0.029217</td>\n",
       "      <td>0.000000</td>\n",
       "    </tr>\n",
       "    <tr>\n",
       "      <th>817</th>\n",
       "      <td>0.504592</td>\n",
       "      <td>0.027172</td>\n",
       "      <td>0.000000</td>\n",
       "    </tr>\n",
       "    <tr>\n",
       "      <th>818</th>\n",
       "      <td>0.504845</td>\n",
       "      <td>0.028485</td>\n",
       "      <td>0.000000</td>\n",
       "    </tr>\n",
       "    <tr>\n",
       "      <th>819</th>\n",
       "      <td>0.505591</td>\n",
       "      <td>0.030055</td>\n",
       "      <td>0.000000</td>\n",
       "    </tr>\n",
       "  </tbody>\n",
       "</table>\n",
       "<p>820 rows × 3 columns</p>\n",
       "</div>"
      ],
      "text/plain": [
       "         mean       std  near_zero\n",
       "0    0.513979  0.067728   0.000244\n",
       "1    0.511781  0.067834   0.000000\n",
       "2    0.506987  0.065692   0.000244\n",
       "3    0.509252  0.066704   0.000244\n",
       "4    0.508509  0.065194   0.000000\n",
       "..        ...       ...        ...\n",
       "815  0.504753  0.029052   0.000000\n",
       "816  0.505019  0.029217   0.000000\n",
       "817  0.504592  0.027172   0.000000\n",
       "818  0.504845  0.028485   0.000000\n",
       "819  0.505591  0.030055   0.000000\n",
       "\n",
       "[820 rows x 3 columns]"
      ]
     },
     "execution_count": 54,
     "metadata": {},
     "output_type": "execute_result"
    }
   ],
   "source": [
    "df_stats_layer"
   ]
  },
  {
   "cell_type": "code",
   "execution_count": 55,
   "metadata": {},
   "outputs": [
    {
     "data": {
      "text/plain": [
       "[{'mean': 0.5139788188306076,\n",
       "  'std': 0.06772770436168842,\n",
       "  'near_zero': 0.000244140625},\n",
       " {'mean': 0.5117813291592994, 'std': 0.06783359779301797, 'near_zero': 0.0},\n",
       " {'mean': 0.5069873233636126,\n",
       "  'std': 0.0656919374456853,\n",
       "  'near_zero': 0.000244140625},\n",
       " {'mean': 0.5092523903751377,\n",
       "  'std': 0.06670353116725221,\n",
       "  'near_zero': 0.000244140625},\n",
       " {'mean': 0.5085091656010448, 'std': 0.06519431091937036, 'near_zero': 0.0},\n",
       " {'mean': 0.5069798166132606, 'std': 0.06432620189112524, 'near_zero': 0.0},\n",
       " {'mean': 0.506369424821951, 'std': 0.06421988944568151, 'near_zero': 0.0},\n",
       " {'mean': 0.5037326678791945, 'std': 0.06348710612234558, 'near_zero': 0.0},\n",
       " {'mean': 0.5017513898907107, 'std': 0.0629272249696168, 'near_zero': 0.0},\n",
       " {'mean': 0.5026921244565044, 'std': 0.06098092688752796, 'near_zero': 0.0},\n",
       " {'mean': 0.5056950233824262, 'std': 0.061516884756710945, 'near_zero': 0.0},\n",
       " {'mean': 0.5064665989162688,\n",
       "  'std': 0.060570861926287134,\n",
       "  'near_zero': 0.000244140625},\n",
       " {'mean': 0.5069464507479611, 'std': 0.06146000655656442, 'near_zero': 0.0},\n",
       " {'mean': 0.5088651354136049, 'std': 0.0575577360799419, 'near_zero': 0.0},\n",
       " {'mean': 0.5096420871140102, 'std': 0.05751602439336471, 'near_zero': 0.0},\n",
       " {'mean': 0.508393320538799, 'std': 0.05560651349030468, 'near_zero': 0.0},\n",
       " {'mean': 0.5082764926495074, 'std': 0.05592778225354338, 'near_zero': 0.0},\n",
       " {'mean': 0.5070524954395539, 'std': 0.05660931582822739, 'near_zero': 0.0},\n",
       " {'mean': 0.5088539102058941, 'std': 0.055157741386316024, 'near_zero': 0.0},\n",
       " {'mean': 0.5102897298452931,\n",
       "  'std': 0.05491291896553469,\n",
       "  'near_zero': 0.000244140625},\n",
       " {'mean': 0.5093952873253944, 'std': 0.05567873894347306, 'near_zero': 0.0},\n",
       " {'mean': 0.5076310531890323, 'std': 0.05550816748435253, 'near_zero': 0.0},\n",
       " {'mean': 0.5061663979714133, 'std': 0.05345083925670973, 'near_zero': 0.0},\n",
       " {'mean': 0.5058940115762713, 'std': 0.05288498579722424, 'near_zero': 0.0},\n",
       " {'mean': 0.5067140371261402, 'std': 0.05176866444928391, 'near_zero': 0.0},\n",
       " {'mean': 0.5067236632534635, 'std': 0.05307269023412323, 'near_zero': 0.0},\n",
       " {'mean': 0.507069909966377, 'std': 0.05108240331967045, 'near_zero': 0.0},\n",
       " {'mean': 0.5058470947528809, 'std': 0.05128477736058557, 'near_zero': 0.0},\n",
       " {'mean': 0.5046357153675549, 'std': 0.051198830747598914, 'near_zero': 0.0},\n",
       " {'mean': 0.5041395001456683, 'std': 0.048953270824164466, 'near_zero': 0.0},\n",
       " {'mean': 0.5044685552782068, 'std': 0.04817936804025778, 'near_zero': 0.0},\n",
       " {'mean': 0.5043643077813305, 'std': 0.04998263703726312, 'near_zero': 0.0},\n",
       " {'mean': 0.5045123959522044,\n",
       "  'std': 0.049576066302514675,\n",
       "  'near_zero': 0.000244140625},\n",
       " {'mean': 0.5036496106136035, 'std': 0.04829595661201975, 'near_zero': 0.0},\n",
       " {'mean': 0.5023045851386861, 'std': 0.046414797013532676, 'near_zero': 0.0},\n",
       " {'mean': 0.503701950442318, 'std': 0.04875825344744324, 'near_zero': 0.0},\n",
       " {'mean': 0.5000290697308519,\n",
       "  'std': 0.04711662388687499,\n",
       "  'near_zero': 0.00048828125},\n",
       " {'mean': 0.5012560570910873, 'std': 0.04708659871708146, 'near_zero': 0.0},\n",
       " {'mean': 0.5001394024051284, 'std': 0.04436590102854573, 'near_zero': 0.0},\n",
       " {'mean': 0.5014376913034634,\n",
       "  'std': 0.046239798978804814,\n",
       "  'near_zero': 0.000244140625},\n",
       " {'mean': 0.5012412224543942, 'std': 0.04538791276648564, 'near_zero': 0.0},\n",
       " {'mean': 0.5016736088968847, 'std': 0.04481119430970366, 'near_zero': 0.0},\n",
       " {'mean': 0.5020925584778021, 'std': 0.043564591907277475, 'near_zero': 0.0},\n",
       " {'mean': 0.503690977383581, 'std': 0.04407777127869352, 'near_zero': 0.0},\n",
       " {'mean': 0.5053919331458314, 'std': 0.04367208277954208, 'near_zero': 0.0},\n",
       " {'mean': 0.5052026595444644, 'std': 0.04464144074807844, 'near_zero': 0.0},\n",
       " {'mean': 0.5070548408371346, 'std': 0.042745371418122055, 'near_zero': 0.0},\n",
       " {'mean': 0.5065055525443043, 'std': 0.04255821883702709, 'near_zero': 0.0},\n",
       " {'mean': 0.5063752725627693,\n",
       "  'std': 0.040833039707964654,\n",
       "  'near_zero': 0.000244140625},\n",
       " {'mean': 0.506751055287594, 'std': 0.04161528388376347, 'near_zero': 0.0},\n",
       " {'mean': 0.5060038164521138, 'std': 0.04132900234059713, 'near_zero': 0.0},\n",
       " {'mean': 0.5069083126945865, 'std': 0.040894501261396404, 'near_zero': 0.0},\n",
       " {'mean': 0.506812349912634, 'std': 0.04139687940683339, 'near_zero': 0.0},\n",
       " {'mean': 0.5050863530903472,\n",
       "  'std': 0.03861562026650734,\n",
       "  'near_zero': 0.000244140625},\n",
       " {'mean': 0.5062585773754003, 'std': 0.04076951947027799, 'near_zero': 0.0},\n",
       " {'mean': 0.5043602064132024, 'std': 0.04009423652790571, 'near_zero': 0.0},\n",
       " {'mean': 0.5022088903179773, 'std': 0.038634246750577105, 'near_zero': 0.0},\n",
       " {'mean': 0.5037005576549196, 'std': 0.04069303545967968, 'near_zero': 0.0},\n",
       " {'mean': 0.5019976765876848, 'std': 0.03992071394017188, 'near_zero': 0.0},\n",
       " {'mean': 0.501720936983642, 'std': 0.039362722981416194, 'near_zero': 0.0},\n",
       " {'mean': 0.5019197396812873, 'std': 0.0379343773374756, 'near_zero': 0.0},\n",
       " {'mean': 0.5014135945475465, 'std': 0.0401836899569729, 'near_zero': 0.0},\n",
       " {'mean': 0.5010652645410982, 'std': 0.03889321152922991, 'near_zero': 0.0},\n",
       " {'mean': 0.5028330805699034, 'std': 0.038488289199055524, 'near_zero': 0.0},\n",
       " {'mean': 0.5023916856753375, 'std': 0.0401463938294962, 'near_zero': 0.0},\n",
       " {'mean': 0.5026452123973568, 'std': 0.03938269773664348, 'near_zero': 0.0},\n",
       " {'mean': 0.5039309957018941, 'std': 0.038436399257319155, 'near_zero': 0.0},\n",
       " {'mean': 0.5046817291935024, 'std': 0.03845475804142869, 'near_zero': 0.0},\n",
       " {'mean': 0.5041317391359368, 'std': 0.03810028830683913, 'near_zero': 0.0},\n",
       " {'mean': 0.5043519725454862, 'std': 0.03792072268048389, 'near_zero': 0.0},\n",
       " {'mean': 0.5062583862798662, 'std': 0.03782927120309333, 'near_zero': 0.0},\n",
       " {'mean': 0.5065016756364362, 'std': 0.03726533842604197, 'near_zero': 0.0},\n",
       " {'mean': 0.5059810169213477, 'std': 0.03732901862147978, 'near_zero': 0.0},\n",
       " {'mean': 0.5071702598524228, 'std': 0.03735509528442038, 'near_zero': 0.0},\n",
       " {'mean': 0.5071360859664915, 'std': 0.03591841418911748, 'near_zero': 0.0},\n",
       " {'mean': 0.5066880779421465, 'std': 0.03688558818798576, 'near_zero': 0.0},\n",
       " {'mean': 0.5075192380840583, 'std': 0.03683913684352518, 'near_zero': 0.0},\n",
       " {'mean': 0.5062466339088822, 'std': 0.036092662855782415, 'near_zero': 0.0},\n",
       " {'mean': 0.5083338956993791, 'std': 0.03558970815802209, 'near_zero': 0.0},\n",
       " {'mean': 0.5075060528525934, 'std': 0.0365471012518858, 'near_zero': 0.0},\n",
       " {'mean': 0.5061224290899418, 'std': 0.0361664353858525, 'near_zero': 0.0},\n",
       " {'mean': 0.5070059759465022, 'std': 0.035750687199845574, 'near_zero': 0.0},\n",
       " {'mean': 0.5062963764201908, 'std': 0.035846606426971406, 'near_zero': 0.0},\n",
       " {'mean': 0.5062570210118342, 'std': 0.034628940134736275, 'near_zero': 0.0},\n",
       " {'mean': 0.5055601451920577, 'std': 0.035634998467538925, 'near_zero': 0.0},\n",
       " {'mean': 0.506127151521018, 'std': 0.03538749263042206, 'near_zero': 0.0},\n",
       " {'mean': 0.50583411245037, 'std': 0.03446791838347243, 'near_zero': 0.0},\n",
       " {'mean': 0.5072394380724753, 'std': 0.036083436552717674, 'near_zero': 0.0},\n",
       " {'mean': 0.507653552020247, 'std': 0.0343595657008015, 'near_zero': 0.0},\n",
       " {'mean': 0.5064109084242487, 'std': 0.034806720200708983, 'near_zero': 0.0},\n",
       " {'mean': 0.5047321505571363, 'std': 0.03297678207932382, 'near_zero': 0.0},\n",
       " {'mean': 0.5053598360476539, 'std': 0.03372882916827382, 'near_zero': 0.0},\n",
       " {'mean': 0.5057182031322309, 'std': 0.035005094713052985, 'near_zero': 0.0},\n",
       " {'mean': 0.5042056961100878, 'std': 0.0329026918476257, 'near_zero': 0.0},\n",
       " {'mean': 0.5039854232442601, 'std': 0.03471155193402993, 'near_zero': 0.0},\n",
       " {'mean': 0.5035148533965725, 'std': 0.03315381230895238, 'near_zero': 0.0},\n",
       " {'mean': 0.5029140500475855, 'std': 0.03274920428869135, 'near_zero': 0.0},\n",
       " {'mean': 0.5025252592811507, 'std': 0.03190417277105684, 'near_zero': 0.0},\n",
       " {'mean': 0.5017430629182289, 'std': 0.032152497023423064, 'near_zero': 0.0},\n",
       " {'mean': 0.5021521205093465, 'std': 0.03442223399239854, 'near_zero': 0.0},\n",
       " {'mean': 0.5028198212467165, 'std': 0.03144450877694055, 'near_zero': 0.0},\n",
       " {'mean': 0.5027151714267372, 'std': 0.03340286431126824, 'near_zero': 0.0},\n",
       " {'mean': 0.5033309852564524, 'std': 0.03285146744576899, 'near_zero': 0.0},\n",
       " {'mean': 0.5031099788654085, 'std': 0.032188775977229106, 'near_zero': 0.0},\n",
       " {'mean': 0.5033083199462304, 'std': 0.0318717681989322, 'near_zero': 0.0},\n",
       " {'mean': 0.5034644252579783, 'std': 0.032909393454298004, 'near_zero': 0.0},\n",
       " {'mean': 0.5037945887092623, 'std': 0.03112958783310703, 'near_zero': 0.0},\n",
       " {'mean': 0.5043585622940354, 'std': 0.03131975082833539, 'near_zero': 0.0},\n",
       " {'mean': 0.5054378032700566, 'std': 0.030453941071263736, 'near_zero': 0.0},\n",
       " {'mean': 0.5053153476042204, 'std': 0.030710909875548954, 'near_zero': 0.0},\n",
       " {'mean': 0.5063643418555493, 'std': 0.032034500841304235, 'near_zero': 0.0},\n",
       " {'mean': 0.5061115359172003, 'std': 0.03220221140368929, 'near_zero': 0.0},\n",
       " {'mean': 0.507069121255127, 'std': 0.03153520316406333, 'near_zero': 0.0},\n",
       " {'mean': 0.5071708512418529, 'std': 0.03261792359909369, 'near_zero': 0.0},\n",
       " {'mean': 0.507218699247588, 'std': 0.03137398117969353, 'near_zero': 0.0},\n",
       " {'mean': 0.507177233962198, 'std': 0.03333996474991255, 'near_zero': 0.0},\n",
       " {'mean': 0.5080507062557691, 'std': 0.031207813582085128, 'near_zero': 0.0},\n",
       " {'mean': 0.5071918138488589, 'std': 0.030287018525655247, 'near_zero': 0.0},\n",
       " {'mean': 0.5070564699477547, 'std': 0.030037082363105854, 'near_zero': 0.0},\n",
       " {'mean': 0.5077036244498581, 'std': 0.03010024685440846, 'near_zero': 0.0},\n",
       " {'mean': 0.5067133992280441, 'std': 0.030518879198783353, 'near_zero': 0.0},\n",
       " {'mean': 0.5074780756237083, 'std': 0.030230332404559142, 'near_zero': 0.0},\n",
       " {'mean': 0.5065467695178695, 'std': 0.030085969578447898, 'near_zero': 0.0},\n",
       " {'mean': 0.5055847942377256, 'std': 0.030753658872155528, 'near_zero': 0.0},\n",
       " {'mean': 0.5055997287921761, 'std': 0.030561137290236295, 'near_zero': 0.0},\n",
       " {'mean': 0.5055717430998461, 'std': 0.029969060214806, 'near_zero': 0.0},\n",
       " {'mean': 0.5051266886910522, 'std': 0.030062494005764318, 'near_zero': 0.0},\n",
       " {'mean': 0.5046181003855168, 'std': 0.030184917319179046, 'near_zero': 0.0},\n",
       " {'mean': 0.505040714945344, 'std': 0.03161542812187376, 'near_zero': 0.0},\n",
       " {'mean': 0.5040486196830151, 'std': 0.029880538222561807, 'near_zero': 0.0},\n",
       " {'mean': 0.5046357278318754, 'std': 0.02852326992191661, 'near_zero': 0.0},\n",
       " {'mean': 0.5036178752019567, 'std': 0.028560988262398605, 'near_zero': 0.0},\n",
       " {'mean': 0.5043836712355068, 'std': 0.030698635504707972, 'near_zero': 0.0},\n",
       " {'mean': 0.503788003450405, 'std': 0.030006374504669923, 'near_zero': 0.0},\n",
       " {'mean': 0.5047372504179275, 'std': 0.029472609412605495, 'near_zero': 0.0},\n",
       " {'mean': 0.5039100405141195, 'std': 0.029880447139262963, 'near_zero': 0.0},\n",
       " {'mean': 0.5034697812511504, 'std': 0.027632447383762256, 'near_zero': 0.0},\n",
       " {'mean': 0.5044291294689314, 'std': 0.028103882404367894, 'near_zero': 0.0},\n",
       " {'mean': 0.5038180546691341, 'std': 0.02854501480919171, 'near_zero': 0.0},\n",
       " {'mean': 0.5035593802642899, 'std': 0.02892646101307673, 'near_zero': 0.0},\n",
       " {'mean': 0.5036139450336011, 'std': 0.027451157923762806, 'near_zero': 0.0},\n",
       " {'mean': 0.5031556691736986, 'std': 0.02857000187891902, 'near_zero': 0.0},\n",
       " {'mean': 0.5021536203396758, 'std': 0.02872105936497856, 'near_zero': 0.0},\n",
       " {'mean': 0.5027401981954673, 'std': 0.028981648109391637, 'near_zero': 0.0},\n",
       " {'mean': 0.5025776254801937, 'std': 0.028842473546840296, 'near_zero': 0.0},\n",
       " {'mean': 0.5014110814903534, 'std': 0.02594956546579431, 'near_zero': 0.0},\n",
       " {'mean': 0.5023162507199994,\n",
       "  'std': 0.02897682460192533,\n",
       "  'near_zero': 0.000244140625},\n",
       " {'mean': 0.501904290121663, 'std': 0.02775292157426381, 'near_zero': 0.0},\n",
       " {'mean': 0.501551288522504, 'std': 0.027788712670167703, 'near_zero': 0.0},\n",
       " {'mean': 0.5016214506603709, 'std': 0.027436887195070963, 'near_zero': 0.0},\n",
       " {'mean': 0.5009164252279155, 'std': 0.027686645993606596, 'near_zero': 0.0},\n",
       " {'mean': 0.5016918727595816, 'std': 0.027483764160634885, 'near_zero': 0.0},\n",
       " {'mean': 0.5007207209037653, 'std': 0.02928739359609145, 'near_zero': 0.0},\n",
       " {'mean': 0.5012543729409689, 'std': 0.02721384444142842, 'near_zero': 0.0},\n",
       " {'mean': 0.5005822192704256, 'std': 0.027076521029507028, 'near_zero': 0.0},\n",
       " {'mean': 0.5016073802445984, 'std': 0.027978172705054205, 'near_zero': 0.0},\n",
       " {'mean': 0.5012263049391631, 'std': 0.026802833402019263, 'near_zero': 0.0},\n",
       " {'mean': 0.5020789188089433, 'std': 0.027500667265650883, 'near_zero': 0.0},\n",
       " {'mean': 0.5018837107540803, 'std': 0.027655212905620362, 'near_zero': 0.0},\n",
       " {'mean': 0.5011725067701528, 'std': 0.026541160861458163, 'near_zero': 0.0},\n",
       " {'mean': 0.5003465074970757, 'std': 0.027102358121210878, 'near_zero': 0.0},\n",
       " {'mean': 0.5011250029474509, 'std': 0.02773581980327541, 'near_zero': 0.0},\n",
       " {'mean': 0.5015663626466811, 'std': 0.028091934837646493, 'near_zero': 0.0},\n",
       " {'mean': 0.5007327473243988, 'std': 0.02620745570056133, 'near_zero': 0.0},\n",
       " {'mean': 0.5011369106981427, 'std': 0.028156246273256184, 'near_zero': 0.0},\n",
       " {'mean': 0.5021703128654564, 'std': 0.027012155683196756, 'near_zero': 0.0},\n",
       " {'mean': 0.5006537877492031, 'std': 0.02637510153516554, 'near_zero': 0.0},\n",
       " {'mean': 0.5022698487728965, 'std': 0.026317837887615558, 'near_zero': 0.0},\n",
       " {'mean': 0.5020428600060609, 'std': 0.02781328460766445, 'near_zero': 0.0},\n",
       " {'mean': 0.501993547015976, 'std': 0.025907038665430905, 'near_zero': 0.0},\n",
       " {'mean': 0.5027028224075787, 'std': 0.025669330448467, 'near_zero': 0.0},\n",
       " {'mean': 0.5026270090807409, 'std': 0.02735952815009555, 'near_zero': 0.0},\n",
       " {'mean': 0.5040470718978793, 'std': 0.025827244306874123, 'near_zero': 0.0},\n",
       " {'mean': 0.5033187423853881, 'std': 0.026280970388552777, 'near_zero': 0.0},\n",
       " {'mean': 0.5039381993415609, 'std': 0.026168470779269152, 'near_zero': 0.0},\n",
       " {'mean': 0.5043142505969216, 'std': 0.026022014578226258, 'near_zero': 0.0},\n",
       " {'mean': 0.5042857973824879, 'std': 0.02577748792336866, 'near_zero': 0.0},\n",
       " {'mean': 0.5048971789983173, 'std': 0.026007349154361932, 'near_zero': 0.0},\n",
       " {'mean': 0.5049658006007255, 'std': 0.026045653370664997, 'near_zero': 0.0},\n",
       " {'mean': 0.5050272495174022, 'std': 0.02741999962852514, 'near_zero': 0.0},\n",
       " {'mean': 0.5055107527315075, 'std': 0.026865716204113245, 'near_zero': 0.0},\n",
       " {'mean': 0.5061710778148425, 'std': 0.028571579066350383, 'near_zero': 0.0},\n",
       " {'mean': 0.506196056560417, 'std': 0.028456637471591367, 'near_zero': 0.0},\n",
       " {'mean': 0.5059745027611586, 'std': 0.026275723655954274, 'near_zero': 0.0},\n",
       " {'mean': 0.5064000125160746, 'std': 0.024988612097605594, 'near_zero': 0.0},\n",
       " {'mean': 0.5051982052776292, 'std': 0.02529835250340486, 'near_zero': 0.0},\n",
       " {'mean': 0.5060144623786835, 'std': 0.0259179777383435, 'near_zero': 0.0},\n",
       " {'mean': 0.5060440017767838, 'std': 0.0263469278657997, 'near_zero': 0.0},\n",
       " {'mean': 0.5058256758077445, 'std': 0.02567848024022857, 'near_zero': 0.0},\n",
       " {'mean': 0.5049525007917528, 'std': 0.02513447574045006, 'near_zero': 0.0},\n",
       " {'mean': 0.5053176282075855, 'std': 0.025652502550002315, 'near_zero': 0.0},\n",
       " {'mean': 0.5056643028643935, 'std': 0.025688221861434917, 'near_zero': 0.0},\n",
       " {'mean': 0.5060250509176913, 'std': 0.02601265993265923, 'near_zero': 0.0},\n",
       " {'mean': 0.5053384087908563, 'std': 0.024565468715042792, 'near_zero': 0.0},\n",
       " {'mean': 0.5051346786712301, 'std': 0.025671042901443595, 'near_zero': 0.0},\n",
       " {'mean': 0.5043491364560142, 'std': 0.02577383051283012, 'near_zero': 0.0},\n",
       " {'mean': 0.5039114917112065, 'std': 0.023912202275537003, 'near_zero': 0.0},\n",
       " {'mean': 0.5048027916914991, 'std': 0.02625339026627947, 'near_zero': 0.0},\n",
       " {'mean': 0.5039184216821162, 'std': 0.025704324819006075, 'near_zero': 0.0},\n",
       " {'mean': 0.5036871875133341, 'std': 0.025067373548278645, 'near_zero': 0.0},\n",
       " {'mean': 0.5037587167741271, 'std': 0.025370305695714652, 'near_zero': 0.0},\n",
       " {'mean': 0.5041874269340709, 'std': 0.024705142347025873, 'near_zero': 0.0},\n",
       " {'mean': 0.5031182194769599, 'std': 0.02429232867576137, 'near_zero': 0.0},\n",
       " {'mean': 0.5039259858961107, 'std': 0.024645987967916387, 'near_zero': 0.0},\n",
       " {'mean': 0.5029775342482312, 'std': 0.025396006153525236, 'near_zero': 0.0},\n",
       " {'mean': 0.5040208942839333, 'std': 0.02477853117713401, 'near_zero': 0.0},\n",
       " {'mean': 0.5035149957486136, 'std': 0.024771392144279276, 'near_zero': 0.0},\n",
       " {'mean': 0.5032319979337125, 'std': 0.0247506436389221, 'near_zero': 0.0},\n",
       " {'mean': 0.5039581048865895, 'std': 0.024117459296134847, 'near_zero': 0.0},\n",
       " {'mean': 0.5039342031823675, 'std': 0.023550886775754284, 'near_zero': 0.0},\n",
       " {'mean': 0.5034875384447706, 'std': 0.023745017793989145, 'near_zero': 0.0},\n",
       " {'mean': 0.5040846402764293, 'std': 0.02497527091969898, 'near_zero': 0.0},\n",
       " {'mean': 0.5037471068545194, 'std': 0.024156927275973978, 'near_zero': 0.0},\n",
       " {'mean': 0.5036728252114264, 'std': 0.024344428398750804, 'near_zero': 0.0},\n",
       " {'mean': 0.5041464215621494, 'std': 0.025846826727317685, 'near_zero': 0.0},\n",
       " {'mean': 0.5038323304339005, 'std': 0.024140535521234678, 'near_zero': 0.0},\n",
       " {'mean': 0.5038311485926616, 'std': 0.024255902624661187, 'near_zero': 0.0},\n",
       " {'mean': 0.5032737881727058, 'std': 0.02479566766301464, 'near_zero': 0.0},\n",
       " {'mean': 0.5040714700439313, 'std': 0.024359159297948577, 'near_zero': 0.0},\n",
       " {'mean': 0.5042589556027604, 'std': 0.0246553718017083, 'near_zero': 0.0},\n",
       " {'mean': 0.503083177747705, 'std': 0.025003884991153663, 'near_zero': 0.0},\n",
       " {'mean': 0.5041357315695116, 'std': 0.02433246036721407, 'near_zero': 0.0},\n",
       " {'mean': 0.5044114441899468, 'std': 0.02595433708112526, 'near_zero': 0.0},\n",
       " {'mean': 0.5034775568733757, 'std': 0.02348714744416165, 'near_zero': 0.0},\n",
       " {'mean': 0.5046008783994981, 'std': 0.024170905716714708, 'near_zero': 0.0},\n",
       " {'mean': 0.5044313998249292, 'std': 0.025747614123270327, 'near_zero': 0.0},\n",
       " {'mean': 0.5045516764313626, 'std': 0.02538374104168654, 'near_zero': 0.0},\n",
       " {'mean': 0.5047899082456175, 'std': 0.0246300127723715, 'near_zero': 0.0},\n",
       " {'mean': 0.5047308740081669, 'std': 0.024524570727307363, 'near_zero': 0.0},\n",
       " {'mean': 0.5043887550566117, 'std': 0.024745142770609664, 'near_zero': 0.0},\n",
       " {'mean': 0.504295019698864, 'std': 0.024211660445874306, 'near_zero': 0.0},\n",
       " {'mean': 0.5049770345344484, 'std': 0.025905106145404373, 'near_zero': 0.0},\n",
       " {'mean': 0.505663750872326, 'std': 0.025224032640290165, 'near_zero': 0.0},\n",
       " {'mean': 0.5051841051717509, 'std': 0.024233352485688576, 'near_zero': 0.0},\n",
       " {'mean': 0.5052375739983612, 'std': 0.02681078237065358, 'near_zero': 0.0},\n",
       " {'mean': 0.5051921076566928, 'std': 0.02376408183232754, 'near_zero': 0.0},\n",
       " {'mean': 0.5053341642446287, 'std': 0.024363076490154133, 'near_zero': 0.0},\n",
       " {'mean': 0.506588837802858, 'std': 0.025501574591982268, 'near_zero': 0.0},\n",
       " {'mean': 0.506288649375807, 'std': 0.02498623229733537, 'near_zero': 0.0},\n",
       " {'mean': 0.5063266846529126,\n",
       "  'std': 0.02722778375095116,\n",
       "  'near_zero': 0.000244140625},\n",
       " {'mean': 0.5068371885973865, 'std': 0.02445783202815603, 'near_zero': 0.0},\n",
       " {'mean': 0.5070481782774754, 'std': 0.024686040943310162, 'near_zero': 0.0},\n",
       " {'mean': 0.5069311187845859, 'std': 0.024697642756383125, 'near_zero': 0.0},\n",
       " {'mean': 0.507278154566507, 'std': 0.024949303595113975, 'near_zero': 0.0},\n",
       " {'mean': 0.5074092143050712, 'std': 0.024593606790514474, 'near_zero': 0.0},\n",
       " {'mean': 0.5069261805694871, 'std': 0.02581814521271875, 'near_zero': 0.0},\n",
       " {'mean': 0.5065052897886635, 'std': 0.024829964293323115, 'near_zero': 0.0},\n",
       " {'mean': 0.506918441498178, 'std': 0.025513496803302952, 'near_zero': 0.0},\n",
       " {'mean': 0.5066656434190498, 'std': 0.024581549393605753, 'near_zero': 0.0},\n",
       " {'mean': 0.5064453040759128, 'std': 0.025554311168752293, 'near_zero': 0.0},\n",
       " {'mean': 0.5061163448752706, 'std': 0.02551071973341264, 'near_zero': 0.0},\n",
       " {'mean': 0.5066260451360967, 'std': 0.024878712660697393, 'near_zero': 0.0},\n",
       " {'mean': 0.5059717219400418, 'std': 0.024837523175563342, 'near_zero': 0.0},\n",
       " {'mean': 0.5065689817578088, 'std': 0.025977004754366845, 'near_zero': 0.0},\n",
       " {'mean': 0.5063419606166328, 'std': 0.02587925404702362, 'near_zero': 0.0},\n",
       " {'mean': 0.5057712423498836, 'std': 0.023928135375910355, 'near_zero': 0.0},\n",
       " {'mean': 0.5069214036820152, 'std': 0.025449613946111196, 'near_zero': 0.0},\n",
       " {'mean': 0.5057645689608825, 'std': 0.025127617161585066, 'near_zero': 0.0},\n",
       " {'mean': 0.5071570646609042, 'std': 0.02577142436895292, 'near_zero': 0.0},\n",
       " {'mean': 0.5066892168209902, 'std': 0.02527015247644283, 'near_zero': 0.0},\n",
       " {'mean': 0.5071581836914676, 'std': 0.025475024045904848, 'near_zero': 0.0},\n",
       " {'mean': 0.50833324295107, 'std': 0.02626618120564081, 'near_zero': 0.0},\n",
       " {'mean': 0.5075465986356196, 'std': 0.02509684422777855, 'near_zero': 0.0},\n",
       " {'mean': 0.5084024888141983, 'std': 0.025597467981405313, 'near_zero': 0.0},\n",
       " {'mean': 0.5079066050809798, 'std': 0.024441811278783986, 'near_zero': 0.0},\n",
       " {'mean': 0.5087051414660193, 'std': 0.026521797709824366, 'near_zero': 0.0},\n",
       " {'mean': 0.5084345749168493, 'std': 0.02645894048737416, 'near_zero': 0.0},\n",
       " {'mean': 0.508579839198473, 'std': 0.024585200803913302, 'near_zero': 0.0},\n",
       " {'mean': 0.5076571223683218, 'std': 0.025231257075816176, 'near_zero': 0.0},\n",
       " {'mean': 0.5076219891310974, 'std': 0.025323032703255116, 'near_zero': 0.0},\n",
       " {'mean': 0.5078466674429598, 'std': 0.025219229472010305, 'near_zero': 0.0},\n",
       " {'mean': 0.5076833823587974, 'std': 0.025155318901855968, 'near_zero': 0.0},\n",
       " {'mean': 0.5076697976930766, 'std': 0.024758115640694876, 'near_zero': 0.0},\n",
       " {'mean': 0.5078939349389533, 'std': 0.025999521779472456, 'near_zero': 0.0},\n",
       " {'mean': 0.5074071441333884, 'std': 0.026343723014604626, 'near_zero': 0.0},\n",
       " {'mean': 0.507021608329431,\n",
       "  'std': 0.02761724940469309,\n",
       "  'near_zero': 0.000244140625},\n",
       " {'mean': 0.5068284741377751, 'std': 0.02546014168915168, 'near_zero': 0.0},\n",
       " {'mean': 0.5064996422696563, 'std': 0.026571032996411042, 'near_zero': 0.0},\n",
       " {'mean': 0.5068446404480436, 'std': 0.025927680620327496, 'near_zero': 0.0},\n",
       " {'mean': 0.5066595158344069, 'std': 0.02598411139630089, 'near_zero': 0.0},\n",
       " {'mean': 0.5064035137597744, 'std': 0.02702472708560428, 'near_zero': 0.0},\n",
       " {'mean': 0.5066347690022923, 'std': 0.025550777612429142, 'near_zero': 0.0},\n",
       " {'mean': 0.5061350110315969, 'std': 0.026682084905053548, 'near_zero': 0.0},\n",
       " {'mean': 0.505837101715862, 'std': 0.02624779581772137, 'near_zero': 0.0},\n",
       " {'mean': 0.5054761761676675, 'std': 0.025347873990423122, 'near_zero': 0.0},\n",
       " {'mean': 0.5058979306612386, 'std': 0.02594994544028689, 'near_zero': 0.0},\n",
       " {'mean': 0.5053263602417412, 'std': 0.024496854280624925, 'near_zero': 0.0},\n",
       " {'mean': 0.5053512655511778, 'std': 0.026381908403713482, 'near_zero': 0.0},\n",
       " {'mean': 0.5061873740130823, 'std': 0.025988331303758317, 'near_zero': 0.0},\n",
       " {'mean': 0.5056789265427742, 'std': 0.026505725682938117, 'near_zero': 0.0},\n",
       " {'mean': 0.5046540999055555, 'std': 0.02629891255834596, 'near_zero': 0.0},\n",
       " {'mean': 0.5052954845877715, 'std': 0.026771832239305782, 'near_zero': 0.0},\n",
       " {'mean': 0.505458527338082, 'std': 0.025675203768863317, 'near_zero': 0.0},\n",
       " {'mean': 0.5055571090389767, 'std': 0.02613350215680931, 'near_zero': 0.0},\n",
       " {'mean': 0.5051023678854832, 'std': 0.026504927427729707, 'near_zero': 0.0},\n",
       " {'mean': 0.5046364496094087, 'std': 0.025921956773466252, 'near_zero': 0.0},\n",
       " {'mean': 0.5056669201119479, 'std': 0.025680659135432576, 'near_zero': 0.0},\n",
       " {'mean': 0.5044427669498206, 'std': 0.02542428793696362, 'near_zero': 0.0},\n",
       " {'mean': 0.504411875926803, 'std': 0.02584378178528317, 'near_zero': 0.0},\n",
       " {'mean': 0.5038616573677408, 'std': 0.026207728522195863, 'near_zero': 0.0},\n",
       " {'mean': 0.5037310941874029, 'std': 0.026204423777224033, 'near_zero': 0.0},\n",
       " {'mean': 0.5043286341716127, 'std': 0.026024426101303923, 'near_zero': 0.0},\n",
       " {'mean': 0.503608522904931, 'std': 0.026435599050107048, 'near_zero': 0.0},\n",
       " {'mean': 0.5043759363411535, 'std': 0.025756196875487622, 'near_zero': 0.0},\n",
       " {'mean': 0.504640367892063, 'std': 0.025821158597061612, 'near_zero': 0.0},\n",
       " {'mean': 0.504163582142816, 'std': 0.0257353246747239, 'near_zero': 0.0},\n",
       " {'mean': 0.5037881199719134, 'std': 0.02616232544138677, 'near_zero': 0.0},\n",
       " {'mean': 0.5038412515289538, 'std': 0.02668352437884855, 'near_zero': 0.0},\n",
       " {'mean': 0.5034817919715922, 'std': 0.025219663121395147, 'near_zero': 0.0},\n",
       " {'mean': 0.5042460014553625, 'std': 0.02643529115164287, 'near_zero': 0.0},\n",
       " {'mean': 0.5046290864051984, 'std': 0.027031279936720953, 'near_zero': 0.0},\n",
       " {'mean': 0.5038333914046939, 'std': 0.026367326270274702, 'near_zero': 0.0},\n",
       " {'mean': 0.5047683571710466, 'std': 0.0266376106071888, 'near_zero': 0.0},\n",
       " {'mean': 0.5045742967118326, 'std': 0.02548240289416106, 'near_zero': 0.0},\n",
       " {'mean': 0.5045244170765234, 'std': 0.02624316947049679, 'near_zero': 0.0},\n",
       " {'mean': 0.5032853149062337, 'std': 0.02549903087344999, 'near_zero': 0.0},\n",
       " {'mean': 0.5033083824434132, 'std': 0.025969803334681178, 'near_zero': 0.0},\n",
       " {'mean': 0.5045826599100572, 'std': 0.025378459578213046, 'near_zero': 0.0},\n",
       " {'mean': 0.5054996363370987, 'std': 0.026170044325405952, 'near_zero': 0.0},\n",
       " {'mean': 0.5041823169674627, 'std': 0.025359978061247648, 'near_zero': 0.0},\n",
       " {'mean': 0.5037219110777293, 'std': 0.026483106386891594, 'near_zero': 0.0},\n",
       " {'mean': 0.5046482088076897, 'std': 0.026423194931448984, 'near_zero': 0.0},\n",
       " {'mean': 0.5034339292597664, 'std': 0.026024083764473033, 'near_zero': 0.0},\n",
       " {'mean': 0.5041553314623326, 'std': 0.025186917811750233, 'near_zero': 0.0},\n",
       " {'mean': 0.5033150736937982, 'std': 0.026291160550674254, 'near_zero': 0.0},\n",
       " {'mean': 0.5034140955012317, 'std': 0.02525171457093183, 'near_zero': 0.0},\n",
       " {'mean': 0.5033491347842916, 'std': 0.02618755857227717, 'near_zero': 0.0},\n",
       " {'mean': 0.5034252782114919, 'std': 0.02666606053454454, 'near_zero': 0.0},\n",
       " {'mean': 0.5034331686482887, 'std': 0.02589146949258584, 'near_zero': 0.0},\n",
       " {'mean': 0.5022389452637813, 'std': 0.026445999240130556, 'near_zero': 0.0},\n",
       " {'mean': 0.5016759884047177, 'std': 0.025428207328242695, 'near_zero': 0.0},\n",
       " {'mean': 0.5020852100366763, 'std': 0.02508321083091986, 'near_zero': 0.0},\n",
       " {'mean': 0.5011926501831334, 'std': 0.025465009457299508, 'near_zero': 0.0},\n",
       " {'mean': 0.5014442617665165, 'std': 0.026141701717370208, 'near_zero': 0.0},\n",
       " {'mean': 0.5012107894362084, 'std': 0.026787950304448777, 'near_zero': 0.0},\n",
       " {'mean': 0.5017070907975199, 'std': 0.026354308707934898, 'near_zero': 0.0},\n",
       " {'mean': 0.5015255001786532, 'std': 0.0244554289798782, 'near_zero': 0.0},\n",
       " {'mean': 0.5015843764687027, 'std': 0.025073350762411403, 'near_zero': 0.0},\n",
       " {'mean': 0.501647619468907, 'std': 0.02560794918371516, 'near_zero': 0.0},\n",
       " {'mean': 0.5014696090451314, 'std': 0.024902032921524497, 'near_zero': 0.0},\n",
       " {'mean': 0.5026388323696636, 'std': 0.027922124091655457, 'near_zero': 0.0},\n",
       " {'mean': 0.501991654399852, 'std': 0.025451995537326848, 'near_zero': 0.0},\n",
       " {'mean': 0.5023708461882077, 'std': 0.02506612152905485, 'near_zero': 0.0},\n",
       " {'mean': 0.5023134091405259, 'std': 0.025864978440985578, 'near_zero': 0.0},\n",
       " {'mean': 0.5020595452135759, 'std': 0.025913334591951845, 'near_zero': 0.0},\n",
       " {'mean': 0.5029104989309459, 'std': 0.02698785261459624, 'near_zero': 0.0},\n",
       " {'mean': 0.5035721767598507, 'std': 0.023962249953788466, 'near_zero': 0.0},\n",
       " {'mean': 0.5033197248868242, 'std': 0.02564936874551623, 'near_zero': 0.0},\n",
       " {'mean': 0.5041788969517491, 'std': 0.02647356126380961, 'near_zero': 0.0},\n",
       " {'mean': 0.505004966161948, 'std': 0.025676406874977686, 'near_zero': 0.0},\n",
       " {'mean': 0.5045952678419456, 'std': 0.025584052276902587, 'near_zero': 0.0},\n",
       " {'mean': 0.5054100746965238, 'std': 0.025730864882704145, 'near_zero': 0.0},\n",
       " {'mean': 0.5060888058194406, 'std': 0.026213580567358577, 'near_zero': 0.0},\n",
       " {'mean': 0.5061146285809472, 'std': 0.026694501783038536, 'near_zero': 0.0},\n",
       " {'mean': 0.5059938653284054, 'std': 0.02533176503087636, 'near_zero': 0.0},\n",
       " {'mean': 0.5060355023438705, 'std': 0.027647030129314118, 'near_zero': 0.0},\n",
       " {'mean': 0.5060881259782617, 'std': 0.025707004353854496, 'near_zero': 0.0},\n",
       " {'mean': 0.5057354538513865, 'std': 0.026412449452536558, 'near_zero': 0.0},\n",
       " {'mean': 0.5054351021411876, 'std': 0.026273015850301114, 'near_zero': 0.0},\n",
       " {'mean': 0.5063452371315007, 'std': 0.0270034748960249, 'near_zero': 0.0},\n",
       " {'mean': 0.5063870564979738, 'std': 0.02659589616714601, 'near_zero': 0.0},\n",
       " {'mean': 0.5060161130424357, 'std': 0.027305631802180017, 'near_zero': 0.0},\n",
       " {'mean': 0.506782652747151, 'std': 0.027670027360350753, 'near_zero': 0.0},\n",
       " {'mean': 0.5072317178510324, 'std': 0.0274123557868874, 'near_zero': 0.0},\n",
       " {'mean': 0.507216134692885, 'std': 0.028273234840781435, 'near_zero': 0.0},\n",
       " {'mean': 0.5067712708623855, 'std': 0.02533039853661665, 'near_zero': 0.0},\n",
       " {'mean': 0.5074802950761068, 'std': 0.02794663845784793, 'near_zero': 0.0},\n",
       " {'mean': 0.5078048631160577, 'std': 0.026564732429925565, 'near_zero': 0.0},\n",
       " {'mean': 0.5073761206220035, 'std': 0.02784273339318995, 'near_zero': 0.0},\n",
       " {'mean': 0.5080536305482252, 'std': 0.026708390303093944, 'near_zero': 0.0},\n",
       " {'mean': 0.5074333818931149, 'std': 0.026272368766013243, 'near_zero': 0.0},\n",
       " {'mean': 0.5075665057604171, 'std': 0.02717235610783877, 'near_zero': 0.0},\n",
       " {'mean': 0.5072815127195243, 'std': 0.026376717532116005, 'near_zero': 0.0},\n",
       " {'mean': 0.5069750828017678, 'std': 0.026174855855797773, 'near_zero': 0.0},\n",
       " {'mean': 0.5066376652984764, 'std': 0.02673079343105567, 'near_zero': 0.0},\n",
       " {'mean': 0.5069255456346502, 'std': 0.02564359431966309, 'near_zero': 0.0},\n",
       " {'mean': 0.5071358451141343, 'std': 0.02792615534973109, 'near_zero': 0.0},\n",
       " {'mean': 0.5074112498361992, 'std': 0.02611914381579434, 'near_zero': 0.0},\n",
       " {'mean': 0.506549895249764, 'std': 0.02648790434764613, 'near_zero': 0.0},\n",
       " {'mean': 0.5064287879327573, 'std': 0.026591237532321874, 'near_zero': 0.0},\n",
       " {'mean': 0.506031967837816, 'std': 0.02510900271347956, 'near_zero': 0.0},\n",
       " {'mean': 0.5060415994389994, 'std': 0.02705831360931948, 'near_zero': 0.0},\n",
       " {'mean': 0.5066773338940911, 'std': 0.02516983224637886, 'near_zero': 0.0},\n",
       " {'mean': 0.5070269734097105, 'std': 0.026788682968716854, 'near_zero': 0.0},\n",
       " {'mean': 0.5063753726376437, 'std': 0.026320087803512984, 'near_zero': 0.0},\n",
       " {'mean': 0.5060264430841789,\n",
       "  'std': 0.026541312864261025,\n",
       "  'near_zero': 0.000244140625},\n",
       " {'mean': 0.5061030777345045, 'std': 0.026781545936656367, 'near_zero': 0.0},\n",
       " {'mean': 0.5069114123920013, 'std': 0.02637530212118078, 'near_zero': 0.0},\n",
       " {'mean': 0.5070764918175682, 'std': 0.02622178470930239, 'near_zero': 0.0},\n",
       " {'mean': 0.5063291657150932, 'std': 0.026749866792013785, 'near_zero': 0.0},\n",
       " {'mean': 0.5065900663838758, 'std': 0.026255670390166692, 'near_zero': 0.0},\n",
       " {'mean': 0.5060330511229989, 'std': 0.024938209477029606, 'near_zero': 0.0},\n",
       " {'mean': 0.505959108756857, 'std': 0.02549450812530991, 'near_zero': 0.0},\n",
       " {'mean': 0.5055210232827199, 'std': 0.02583561823795253, 'near_zero': 0.0},\n",
       " {'mean': 0.5062113928223957, 'std': 0.02641863594289476, 'near_zero': 0.0},\n",
       " {'mean': 0.5057414420371392, 'std': 0.024749491967037303, 'near_zero': 0.0},\n",
       " {'mean': 0.505782073612165, 'std': 0.025784023475899902, 'near_zero': 0.0},\n",
       " {'mean': 0.5049299807310197, 'std': 0.0259831822515844, 'near_zero': 0.0},\n",
       " {'mean': 0.5050882790690625, 'std': 0.02476665421607564, 'near_zero': 0.0},\n",
       " {'mean': 0.5051777319584181, 'std': 0.02518616748274523, 'near_zero': 0.0},\n",
       " {'mean': 0.503858948091688, 'std': 0.025097893918828922, 'near_zero': 0.0},\n",
       " {'mean': 0.5041217290677786, 'std': 0.026324206506008987, 'near_zero': 0.0},\n",
       " {'mean': 0.5039785671198367, 'std': 0.025885663511593427, 'near_zero': 0.0},\n",
       " {'mean': 0.50371138937037, 'std': 0.026109164152346397, 'near_zero': 0.0},\n",
       " {'mean': 0.5029888440401886, 'std': 0.025400213245417833, 'near_zero': 0.0},\n",
       " {'mean': 0.5040245265254555, 'std': 0.02681437815548798, 'near_zero': 0.0},\n",
       " {'mean': 0.5035447819067677, 'std': 0.026565288574128685, 'near_zero': 0.0},\n",
       " {'mean': 0.5036357321491651, 'std': 0.02579930815651309, 'near_zero': 0.0},\n",
       " {'mean': 0.5036463184677771, 'std': 0.026199044391089263, 'near_zero': 0.0},\n",
       " {'mean': 0.5021721000506489, 'std': 0.02438051740951192, 'near_zero': 0.0},\n",
       " {'mean': 0.502718882523294, 'std': 0.025418333960147553, 'near_zero': 0.0},\n",
       " {'mean': 0.5033480251638714, 'std': 0.026558977903327896, 'near_zero': 0.0},\n",
       " {'mean': 0.5024598742109555, 'std': 0.024914207421999734, 'near_zero': 0.0},\n",
       " {'mean': 0.5026057728972116, 'std': 0.02548665158961605, 'near_zero': 0.0},\n",
       " {'mean': 0.5034921185460659, 'std': 0.02504741746656052, 'near_zero': 0.0},\n",
       " {'mean': 0.5027778802452694, 'std': 0.02533394120501825, 'near_zero': 0.0},\n",
       " {'mean': 0.5033237536914823, 'std': 0.026334881413653134, 'near_zero': 0.0},\n",
       " {'mean': 0.5042910973560095, 'std': 0.025243831536823247, 'near_zero': 0.0},\n",
       " {'mean': 0.5037525991580549, 'std': 0.026924405898231273, 'near_zero': 0.0},\n",
       " {'mean': 0.5041426316452304, 'std': 0.025934883029175883, 'near_zero': 0.0},\n",
       " {'mean': 0.5045499386008031, 'std': 0.02573354881812441, 'near_zero': 0.0},\n",
       " {'mean': 0.5039137146487886, 'std': 0.026502210661826325, 'near_zero': 0.0},\n",
       " {'mean': 0.5052299809447737, 'std': 0.027040944174412145, 'near_zero': 0.0},\n",
       " {'mean': 0.5047852190330735, 'std': 0.025283632163344283, 'near_zero': 0.0},\n",
       " {'mean': 0.5064142506467949, 'std': 0.026387487612751833, 'near_zero': 0.0},\n",
       " {'mean': 0.5055851927668954, 'std': 0.02641820972830469, 'near_zero': 0.0},\n",
       " {'mean': 0.5073475450223266, 'std': 0.027096925903201886, 'near_zero': 0.0},\n",
       " {'mean': 0.5061919645726258, 'std': 0.02684600954454341, 'near_zero': 0.0},\n",
       " {'mean': 0.5070329297837701, 'std': 0.027179726026529388, 'near_zero': 0.0},\n",
       " {'mean': 0.5071264844934966, 'std': 0.026525980812896373, 'near_zero': 0.0},\n",
       " {'mean': 0.5080662114905043, 'std': 0.026931963260902234, 'near_zero': 0.0},\n",
       " {'mean': 0.5075399772131297, 'std': 0.02610168660737365, 'near_zero': 0.0},\n",
       " {'mean': 0.5081370281205011, 'std': 0.02645208534504182, 'near_zero': 0.0},\n",
       " {'mean': 0.5078274312783094, 'std': 0.026450132756119422, 'near_zero': 0.0},\n",
       " {'mean': 0.508017739646845, 'std': 0.025160470348626486, 'near_zero': 0.0},\n",
       " {'mean': 0.5085221971360744, 'std': 0.026562113661772326, 'near_zero': 0.0},\n",
       " {'mean': 0.5086462527756116, 'std': 0.027772847039651445, 'near_zero': 0.0},\n",
       " {'mean': 0.5088477919385804, 'std': 0.02623039455221711, 'near_zero': 0.0},\n",
       " {'mean': 0.509265078028879, 'std': 0.026944381261551166, 'near_zero': 0.0},\n",
       " {'mean': 0.5081409873947456, 'std': 0.026589199955578003, 'near_zero': 0.0},\n",
       " {'mean': 0.5095682065210565, 'std': 0.028064841592883635, 'near_zero': 0.0},\n",
       " {'mean': 0.508762566496684, 'std': 0.02666044959169865, 'near_zero': 0.0},\n",
       " {'mean': 0.5090127088714047, 'std': 0.027603600790860525, 'near_zero': 0.0},\n",
       " {'mean': 0.5096991599185192, 'std': 0.02745693894441267, 'near_zero': 0.0},\n",
       " {'mean': 0.5095330181345311, 'std': 0.027316492326750826, 'near_zero': 0.0},\n",
       " {'mean': 0.5087853207452286, 'std': 0.027138732077160544, 'near_zero': 0.0},\n",
       " {'mean': 0.5089261410455637, 'std': 0.02703506364458902, 'near_zero': 0.0},\n",
       " {'mean': 0.5087561729431577, 'std': 0.026210140521360562, 'near_zero': 0.0},\n",
       " {'mean': 0.5093249985385451, 'std': 0.02655718383312618, 'near_zero': 0.0},\n",
       " {'mean': 0.5087080856964801, 'std': 0.027041320136419664, 'near_zero': 0.0},\n",
       " {'mean': 0.5090960179915545, 'std': 0.027407478133184532, 'near_zero': 0.0},\n",
       " {'mean': 0.5089949261841527, 'std': 0.027284730294473255, 'near_zero': 0.0},\n",
       " {'mean': 0.5088878753616781, 'std': 0.026778805310318364, 'near_zero': 0.0},\n",
       " {'mean': 0.5082909901639341, 'std': 0.026643336213010294, 'near_zero': 0.0},\n",
       " {'mean': 0.5085473984589546, 'std': 0.026603233539829522, 'near_zero': 0.0},\n",
       " {'mean': 0.5089178146169056, 'std': 0.027627635381436075, 'near_zero': 0.0},\n",
       " {'mean': 0.5075527773874988, 'std': 0.026753239035786653, 'near_zero': 0.0},\n",
       " {'mean': 0.5078307873350689, 'std': 0.02639086238635236, 'near_zero': 0.0},\n",
       " {'mean': 0.5077415590381061, 'std': 0.02630724507809431, 'near_zero': 0.0},\n",
       " {'mean': 0.5068644049763162, 'std': 0.027227760689049727, 'near_zero': 0.0},\n",
       " {'mean': 0.5073517921248452, 'std': 0.027300080901664938, 'near_zero': 0.0},\n",
       " {'mean': 0.5075102509602565, 'std': 0.02632493092010326, 'near_zero': 0.0},\n",
       " {'mean': 0.5072644730607989, 'std': 0.02683830322033521, 'near_zero': 0.0},\n",
       " {'mean': 0.506862721505611, 'std': 0.025982706218282463, 'near_zero': 0.0},\n",
       " {'mean': 0.5068488187547873, 'std': 0.026217331486774947, 'near_zero': 0.0},\n",
       " {'mean': 0.5067805545502697, 'std': 0.026734088010526083, 'near_zero': 0.0},\n",
       " {'mean': 0.5069494030439277, 'std': 0.028418545859855333, 'near_zero': 0.0},\n",
       " {'mean': 0.5067390207241611, 'std': 0.02689734066996136, 'near_zero': 0.0},\n",
       " {'mean': 0.5066838466891037, 'std': 0.026892371399768376, 'near_zero': 0.0},\n",
       " {'mean': 0.5065200859841337, 'std': 0.02589775932401054, 'near_zero': 0.0},\n",
       " {'mean': 0.506306572365349, 'std': 0.02658969731997294, 'near_zero': 0.0},\n",
       " {'mean': 0.5059485011418979, 'std': 0.026432388703923646, 'near_zero': 0.0},\n",
       " {'mean': 0.506575006511919, 'std': 0.028136347086906332, 'near_zero': 0.0},\n",
       " {'mean': 0.506281207547301, 'std': 0.027351112285972045, 'near_zero': 0.0},\n",
       " {'mean': 0.5055048475382431, 'std': 0.026171451157099557, 'near_zero': 0.0},\n",
       " {'mean': 0.5060581873692584, 'std': 0.028029665804208893, 'near_zero': 0.0},\n",
       " {'mean': 0.5051473713242433, 'std': 0.027269241961440205, 'near_zero': 0.0},\n",
       " {'mean': 0.505014983232707, 'std': 0.026669584798834047, 'near_zero': 0.0},\n",
       " {'mean': 0.504677820894913, 'std': 0.027778282048773188, 'near_zero': 0.0},\n",
       " {'mean': 0.5042693112313448, 'std': 0.02714836127707073, 'near_zero': 0.0},\n",
       " {'mean': 0.5043240359896966, 'std': 0.026762125307196908, 'near_zero': 0.0},\n",
       " {'mean': 0.5037458011818298, 'std': 0.027600728578840945, 'near_zero': 0.0},\n",
       " {'mean': 0.5037254052528995, 'std': 0.02805921785506162, 'near_zero': 0.0},\n",
       " {'mean': 0.5037012650563404, 'std': 0.028021054563177765, 'near_zero': 0.0},\n",
       " {'mean': 0.5035345121563617, 'std': 0.027526602049196654, 'near_zero': 0.0},\n",
       " {'mean': 0.5028366767854386, 'std': 0.027388630010475035, 'near_zero': 0.0},\n",
       " {'mean': 0.502459576163204, 'std': 0.02817595615581099, 'near_zero': 0.0},\n",
       " {'mean': 0.5029260057454374, 'std': 0.028872431952910522, 'near_zero': 0.0},\n",
       " {'mean': 0.5026353812043913, 'std': 0.02789969369142287, 'near_zero': 0.0},\n",
       " {'mean': 0.5024289832693895, 'std': 0.026649065717786836, 'near_zero': 0.0},\n",
       " {'mean': 0.5028931359250087, 'std': 0.02801708527434388, 'near_zero': 0.0},\n",
       " {'mean': 0.5026131137414745, 'std': 0.0289291590905431, 'near_zero': 0.0},\n",
       " {'mean': 0.5031769079975055, 'std': 0.027626481858477936, 'near_zero': 0.0},\n",
       " {'mean': 0.5033835313658763, 'std': 0.028431334604469193, 'near_zero': 0.0},\n",
       " {'mean': 0.503350409292666, 'std': 0.027930016367857458, 'near_zero': 0.0},\n",
       " {'mean': 0.5034905669240102, 'std': 0.028265360778323395, 'near_zero': 0.0},\n",
       " {'mean': 0.5027074570248762, 'std': 0.027914329423695226, 'near_zero': 0.0},\n",
       " {'mean': 0.5031875538209898, 'std': 0.02828979500758557, 'near_zero': 0.0},\n",
       " {'mean': 0.503383218901014, 'std': 0.02902084292542382, 'near_zero': 0.0},\n",
       " {'mean': 0.5036099177810405, 'std': 0.027605670642077522, 'near_zero': 0.0},\n",
       " {'mean': 0.5034149129460779, 'std': 0.02919861160380594, 'near_zero': 0.0},\n",
       " {'mean': 0.5039344410937672, 'std': 0.02742896738464564, 'near_zero': 0.0},\n",
       " {'mean': 0.5035207255340874, 'std': 0.028263264274597275, 'near_zero': 0.0},\n",
       " {'mean': 0.503995155262549, 'std': 0.027709881208727378, 'near_zero': 0.0},\n",
       " {'mean': 0.5059571536283844, 'std': 0.029974656078507113, 'near_zero': 0.0},\n",
       " {'mean': 0.5045654468350913, 'std': 0.028044261531065307, 'near_zero': 0.0},\n",
       " {'mean': 0.5041494835625044, 'std': 0.027780720361001057, 'near_zero': 0.0},\n",
       " {'mean': 0.5050923076096498, 'std': 0.028090090722353064, 'near_zero': 0.0},\n",
       " {'mean': 0.5054867327389835, 'std': 0.02866077192641553, 'near_zero': 0.0},\n",
       " {'mean': 0.505705155827826, 'std': 0.02821023801178693, 'near_zero': 0.0},\n",
       " {'mean': 0.5045177589992027, 'std': 0.027680332630751852, 'near_zero': 0.0},\n",
       " {'mean': 0.5051753256165378, 'std': 0.02702804579006116, 'near_zero': 0.0},\n",
       " {'mean': 0.5049268706058491, 'std': 0.03000474568242299, 'near_zero': 0.0},\n",
       " {'mean': 0.5050601949603688, 'std': 0.02749710167623531, 'near_zero': 0.0},\n",
       " {'mean': 0.5059021366172947, 'std': 0.03004786116522309, 'near_zero': 0.0},\n",
       " {'mean': 0.50635935294445, 'std': 0.029266727334582788, 'near_zero': 0.0},\n",
       " {'mean': 0.5048514444970799, 'std': 0.028468157005673872, 'near_zero': 0.0},\n",
       " {'mean': 0.5052433354549104, 'std': 0.02760733525409085, 'near_zero': 0.0},\n",
       " {'mean': 0.5068920125937544, 'std': 0.028618810743273094, 'near_zero': 0.0},\n",
       " {'mean': 0.5056811629357159, 'std': 0.02832973950134047, 'near_zero': 0.0},\n",
       " {'mean': 0.5060988312989673, 'std': 0.028897214706406667, 'near_zero': 0.0},\n",
       " {'mean': 0.5066742396754027, 'std': 0.028624231609399333, 'near_zero': 0.0},\n",
       " {'mean': 0.5072090616982379, 'std': 0.030221717394220388, 'near_zero': 0.0},\n",
       " {'mean': 0.5058318375881194, 'std': 0.026881142100810287, 'near_zero': 0.0},\n",
       " {'mean': 0.5063646916426727, 'std': 0.028855968042262075, 'near_zero': 0.0},\n",
       " {'mean': 0.5061266470279733, 'std': 0.027195521909063443, 'near_zero': 0.0},\n",
       " {'mean': 0.5066955178747766, 'std': 0.028152287862620962, 'near_zero': 0.0},\n",
       " {'mean': 0.5066760178433483, 'std': 0.027886075541215586, 'near_zero': 0.0},\n",
       " {'mean': 0.5066120285778656, 'std': 0.027668214010404386, 'near_zero': 0.0},\n",
       " {'mean': 0.506914515276986, 'std': 0.02753928889256309, 'near_zero': 0.0},\n",
       " {'mean': 0.5065739486020427, 'std': 0.02642681602785987, 'near_zero': 0.0},\n",
       " {'mean': 0.506826218848857, 'std': 0.02688891178634118, 'near_zero': 0.0},\n",
       " {'mean': 0.5058616825702285, 'std': 0.0267956153043285, 'near_zero': 0.0},\n",
       " {'mean': 0.5067862772854638, 'std': 0.028069725503516652, 'near_zero': 0.0},\n",
       " {'mean': 0.5061208825596923, 'std': 0.026453110443086427, 'near_zero': 0.0},\n",
       " {'mean': 0.5068344134047137, 'std': 0.027598757972396873, 'near_zero': 0.0},\n",
       " {'mean': 0.5055356966265265, 'std': 0.026327005128418846, 'near_zero': 0.0},\n",
       " {'mean': 0.5058741172930449, 'std': 0.026057471512839478, 'near_zero': 0.0},\n",
       " {'mean': 0.5051078042265387, 'std': 0.025800528884038037, 'near_zero': 0.0},\n",
       " {'mean': 0.5051308116474714, 'std': 0.02550135956478014, 'near_zero': 0.0},\n",
       " {'mean': 0.505423142615083, 'std': 0.026450279952539218, 'near_zero': 0.0},\n",
       " {'mean': 0.5052121454677615, 'std': 0.026091050739424852, 'near_zero': 0.0},\n",
       " {'mean': 0.5052826561838244, 'std': 0.02641813491262185, 'near_zero': 0.0},\n",
       " {'mean': 0.5051751288636972, 'std': 0.027159272819535975, 'near_zero': 0.0},\n",
       " {'mean': 0.5058617295192557, 'std': 0.027299299377578475, 'near_zero': 0.0},\n",
       " {'mean': 0.5051770833490714, 'std': 0.02727020997999559, 'near_zero': 0.0},\n",
       " {'mean': 0.5051455332613394, 'std': 0.026478552383394912, 'near_zero': 0.0},\n",
       " {'mean': 0.5054338756375878, 'std': 0.026527294248662216, 'near_zero': 0.0},\n",
       " {'mean': 0.5051319480654459, 'std': 0.02719879829062873, 'near_zero': 0.0},\n",
       " {'mean': 0.5051399892022141, 'std': 0.027165480133139436, 'near_zero': 0.0},\n",
       " {'mean': 0.5050118058278532, 'std': 0.026244287697870745, 'near_zero': 0.0},\n",
       " {'mean': 0.5053172854660113, 'std': 0.027355741524381607, 'near_zero': 0.0},\n",
       " {'mean': 0.505185247261555, 'std': 0.02717741279981527, 'near_zero': 0.0},\n",
       " {'mean': 0.5048975242480869, 'std': 0.027067294582162497, 'near_zero': 0.0},\n",
       " {'mean': 0.505230222867394, 'std': 0.028245203281682396, 'near_zero': 0.0},\n",
       " {'mean': 0.5051886537693295, 'std': 0.027492243566631804, 'near_zero': 0.0},\n",
       " {'mean': 0.5056710184668611, 'std': 0.028158661617443917, 'near_zero': 0.0},\n",
       " {'mean': 0.5055836475901383, 'std': 0.027128431295315003, 'near_zero': 0.0},\n",
       " {'mean': 0.5044327106536404, 'std': 0.02719798522370099, 'near_zero': 0.0},\n",
       " {'mean': 0.5049518122879406, 'std': 0.027627897811093746, 'near_zero': 0.0},\n",
       " {'mean': 0.5054357827613225, 'std': 0.027493520241378848, 'near_zero': 0.0},\n",
       " {'mean': 0.5051125037206567, 'std': 0.027585587461834996, 'near_zero': 0.0},\n",
       " {'mean': 0.5044153928951007, 'std': 0.027814610867353085, 'near_zero': 0.0},\n",
       " {'mean': 0.5043254196390374, 'std': 0.02823167528327836, 'near_zero': 0.0},\n",
       " {'mean': 0.5046530040334707, 'std': 0.027269951329169474, 'near_zero': 0.0},\n",
       " {'mean': 0.504037745024311, 'std': 0.02906062180549502, 'near_zero': 0.0},\n",
       " {'mean': 0.5045828121089236, 'std': 0.027840738194362617, 'near_zero': 0.0},\n",
       " {'mean': 0.5051489430488078, 'std': 0.028740860196963893, 'near_zero': 0.0},\n",
       " {'mean': 0.5046342614514756, 'std': 0.028272789989959916, 'near_zero': 0.0},\n",
       " {'mean': 0.505092646296921, 'std': 0.028132022304743903, 'near_zero': 0.0},\n",
       " {'mean': 0.5055685694118793, 'std': 0.02775976904774006, 'near_zero': 0.0},\n",
       " {'mean': 0.5052865818269658, 'std': 0.02853527328326039, 'near_zero': 0.0},\n",
       " {'mean': 0.5059393708650054, 'std': 0.02906754199377155, 'near_zero': 0.0},\n",
       " {'mean': 0.5053411952606517, 'std': 0.027158412270727725, 'near_zero': 0.0},\n",
       " {'mean': 0.5060271011453212, 'std': 0.02815534630493904, 'near_zero': 0.0},\n",
       " {'mean': 0.5065046052908692, 'std': 0.029608490506641306, 'near_zero': 0.0},\n",
       " {'mean': 0.5059260607475953, 'std': 0.02947442575490422, 'near_zero': 0.0},\n",
       " {'mean': 0.5062812997674359, 'std': 0.028069446349491534, 'near_zero': 0.0},\n",
       " {'mean': 0.5058474911212948, 'std': 0.028513887935207743, 'near_zero': 0.0},\n",
       " {'mean': 0.504810233552889, 'std': 0.028500429771693866, 'near_zero': 0.0},\n",
       " {'mean': 0.5043173457527921, 'std': 0.028190265653006245, 'near_zero': 0.0},\n",
       " {'mean': 0.5046137102629352, 'std': 0.026928009866730895, 'near_zero': 0.0},\n",
       " {'mean': 0.5043092104827392, 'std': 0.027454256433188058, 'near_zero': 0.0},\n",
       " {'mean': 0.5037546841959007, 'std': 0.02757087234536761, 'near_zero': 0.0},\n",
       " {'mean': 0.5041096232508486, 'std': 0.026969339058356013, 'near_zero': 0.0},\n",
       " {'mean': 0.5032553269284661, 'std': 0.027431593801172726, 'near_zero': 0.0},\n",
       " {'mean': 0.5036479593980341, 'std': 0.02809969294732939, 'near_zero': 0.0},\n",
       " {'mean': 0.5032372114921311, 'std': 0.027064546676470173, 'near_zero': 0.0},\n",
       " {'mean': 0.5031177567373402, 'std': 0.026757508357221228, 'near_zero': 0.0},\n",
       " {'mean': 0.5026942616642532, 'std': 0.027950015233096977, 'near_zero': 0.0},\n",
       " {'mean': 0.5030152182012095, 'std': 0.027427203793671567, 'near_zero': 0.0},\n",
       " {'mean': 0.5038924275762362, 'std': 0.028450827275361357, 'near_zero': 0.0},\n",
       " {'mean': 0.5037369609482533, 'std': 0.026584299756102596, 'near_zero': 0.0},\n",
       " {'mean': 0.5043062096442767, 'std': 0.026431303367151864, 'near_zero': 0.0},\n",
       " {'mean': 0.5054319152725246, 'std': 0.027850648346972005, 'near_zero': 0.0},\n",
       " {'mean': 0.5048950104102806, 'std': 0.027258595867929246, 'near_zero': 0.0},\n",
       " {'mean': 0.5042723706558705, 'std': 0.02687066333127881, 'near_zero': 0.0},\n",
       " {'mean': 0.5053455509262421, 'std': 0.028065877360132236, 'near_zero': 0.0},\n",
       " {'mean': 0.5049068420983541, 'std': 0.026342270752263128, 'near_zero': 0.0},\n",
       " {'mean': 0.5050430355119104, 'std': 0.026154135038239608, 'near_zero': 0.0},\n",
       " {'mean': 0.5058436863085465, 'std': 0.026462086995746762, 'near_zero': 0.0},\n",
       " {'mean': 0.505102047573878, 'std': 0.02783265530787285, 'near_zero': 0.0},\n",
       " {'mean': 0.5058641720421868, 'std': 0.027712581688520945, 'near_zero': 0.0},\n",
       " {'mean': 0.5057234987740745, 'std': 0.026940700353687844, 'near_zero': 0.0},\n",
       " {'mean': 0.5064508915774375, 'std': 0.02665256448328577, 'near_zero': 0.0},\n",
       " {'mean': 0.5062859716483683, 'std': 0.027681026142143517, 'near_zero': 0.0},\n",
       " {'mean': 0.5060670336730155, 'std': 0.027390190769603275, 'near_zero': 0.0},\n",
       " {'mean': 0.5059318321054505, 'std': 0.02766028075440372, 'near_zero': 0.0},\n",
       " {'mean': 0.5060449077291409, 'std': 0.027450190152416093, 'near_zero': 0.0},\n",
       " {'mean': 0.5064905391638961, 'std': 0.02853725782040462, 'near_zero': 0.0},\n",
       " {'mean': 0.5059195648182129, 'std': 0.027234294362024618, 'near_zero': 0.0},\n",
       " {'mean': 0.5067270738153418, 'std': 0.027742540730566468, 'near_zero': 0.0},\n",
       " {'mean': 0.5059631818337271, 'std': 0.027829910428290968, 'near_zero': 0.0},\n",
       " {'mean': 0.506072674632381, 'std': 0.027781169853321533, 'near_zero': 0.0},\n",
       " {'mean': 0.5062573822252543, 'std': 0.027999779146485635, 'near_zero': 0.0},\n",
       " {'mean': 0.5064230478832927, 'std': 0.029001479357338492, 'near_zero': 0.0},\n",
       " {'mean': 0.505831328460632, 'std': 0.02789488952989726, 'near_zero': 0.0},\n",
       " {'mean': 0.5061905533649238, 'std': 0.028245710219786772, 'near_zero': 0.0},\n",
       " {'mean': 0.5053156599812954, 'std': 0.027497143967012288, 'near_zero': 0.0},\n",
       " {'mean': 0.5048948487061445, 'std': 0.028895524881822364, 'near_zero': 0.0},\n",
       " {'mean': 0.5041796367573854, 'std': 0.02679781174116563, 'near_zero': 0.0},\n",
       " {'mean': 0.5044745668860326, 'std': 0.02767955762252108, 'near_zero': 0.0},\n",
       " {'mean': 0.5041879044445023, 'std': 0.028263702797387772, 'near_zero': 0.0},\n",
       " {'mean': 0.5046909744957531, 'std': 0.026667132334381404, 'near_zero': 0.0},\n",
       " {'mean': 0.5041195870969797, 'std': 0.02815175820223027, 'near_zero': 0.0},\n",
       " {'mean': 0.5042178765533247, 'std': 0.027423290291375312, 'near_zero': 0.0},\n",
       " {'mean': 0.5043840109392441, 'std': 0.028178507319016697, 'near_zero': 0.0},\n",
       " {'mean': 0.5036532730281674, 'std': 0.028520319991743485, 'near_zero': 0.0},\n",
       " {'mean': 0.5042650676362506, 'std': 0.028561779879682496, 'near_zero': 0.0},\n",
       " {'mean': 0.5039797139800334, 'std': 0.02800539864772153, 'near_zero': 0.0},\n",
       " {'mean': 0.5044259814799001, 'std': 0.027797274735331487, 'near_zero': 0.0},\n",
       " {'mean': 0.503879455496146, 'std': 0.02814781246256149, 'near_zero': 0.0},\n",
       " {'mean': 0.503953149866218, 'std': 0.02730866574227602, 'near_zero': 0.0},\n",
       " {'mean': 0.5031664381109635, 'std': 0.02776296234213471, 'near_zero': 0.0},\n",
       " {'mean': 0.5047777078378854, 'std': 0.02710077828474804, 'near_zero': 0.0},\n",
       " {'mean': 0.5048241273875516, 'std': 0.029489477585046813, 'near_zero': 0.0},\n",
       " {'mean': 0.5045637925820234, 'std': 0.02805448458700532, 'near_zero': 0.0},\n",
       " {'mean': 0.5044762467668363, 'std': 0.028020385968319638, 'near_zero': 0.0},\n",
       " {'mean': 0.504742135887405, 'std': 0.027863863894065338, 'near_zero': 0.0},\n",
       " {'mean': 0.5041489954192819, 'std': 0.027620580188440776, 'near_zero': 0.0},\n",
       " {'mean': 0.5049981673661474, 'std': 0.02886866009035691, 'near_zero': 0.0},\n",
       " {'mean': 0.5053292010510517, 'std': 0.02832798143793299, 'near_zero': 0.0},\n",
       " {'mean': 0.5044053267640747, 'std': 0.027687694322332358, 'near_zero': 0.0},\n",
       " {'mean': 0.505361506039838, 'std': 0.028100734266014487, 'near_zero': 0.0},\n",
       " {'mean': 0.5054860737685412, 'std': 0.028000628415314657, 'near_zero': 0.0},\n",
       " {'mean': 0.5054889929920007, 'std': 0.02837463754334356, 'near_zero': 0.0},\n",
       " {'mean': 0.504503912986634, 'std': 0.02768878460265817, 'near_zero': 0.0},\n",
       " {'mean': 0.5052975490214111, 'std': 0.028714802871826962, 'near_zero': 0.0},\n",
       " {'mean': 0.50562036586419, 'std': 0.028378432521904612, 'near_zero': 0.0},\n",
       " {'mean': 0.5052842342160517, 'std': 0.028769404084938565, 'near_zero': 0.0},\n",
       " {'mean': 0.5054087224511192, 'std': 0.0288528709617774, 'near_zero': 0.0},\n",
       " {'mean': 0.5066063768411899, 'std': 0.0282405786114889, 'near_zero': 0.0},\n",
       " {'mean': 0.5066736014104646, 'std': 0.029680594862763574, 'near_zero': 0.0},\n",
       " {'mean': 0.5061117247857241, 'std': 0.02975148787694021, 'near_zero': 0.0},\n",
       " {'mean': 0.5057611166378728, 'std': 0.029200378701617343, 'near_zero': 0.0},\n",
       " {'mean': 0.5069003840470515, 'std': 0.03003919035544886, 'near_zero': 0.0},\n",
       " {'mean': 0.5051730145320301, 'std': 0.029203380844694544, 'near_zero': 0.0},\n",
       " {'mean': 0.5064067291561187, 'std': 0.029072427474648315, 'near_zero': 0.0},\n",
       " {'mean': 0.5062873810647199, 'std': 0.029305555573466948, 'near_zero': 0.0},\n",
       " {'mean': 0.5063990419935984, 'std': 0.029755152354053047, 'near_zero': 0.0},\n",
       " {'mean': 0.5045940296280554, 'std': 0.028270328552225988, 'near_zero': 0.0},\n",
       " {'mean': 0.5053509772266465, 'std': 0.02869269159062323, 'near_zero': 0.0},\n",
       " {'mean': 0.5056236477632063, 'std': 0.02920965754763916, 'near_zero': 0.0},\n",
       " {'mean': 0.504416334235227, 'std': 0.029250568511715744, 'near_zero': 0.0},\n",
       " {'mean': 0.5044801191938995, 'std': 0.028859086031741272, 'near_zero': 0.0},\n",
       " {'mean': 0.5040714933608438, 'std': 0.028666957231443697, 'near_zero': 0.0},\n",
       " {'mean': 0.5042091667042399, 'std': 0.028070303944402967, 'near_zero': 0.0},\n",
       " {'mean': 0.5043694543743984, 'std': 0.028959153644466665, 'near_zero': 0.0},\n",
       " {'mean': 0.5038577649908162, 'std': 0.028664522810613966, 'near_zero': 0.0},\n",
       " {'mean': 0.5033770201776796, 'std': 0.029242507233514417, 'near_zero': 0.0},\n",
       " {'mean': 0.5031942150368962, 'std': 0.029110757506580383, 'near_zero': 0.0},\n",
       " {'mean': 0.5033570023398183, 'std': 0.02951100853879476, 'near_zero': 0.0},\n",
       " {'mean': 0.5029527663584124, 'std': 0.02874678125491839, 'near_zero': 0.0},\n",
       " {'mean': 0.5031148989768763, 'std': 0.02970892196368551, 'near_zero': 0.0},\n",
       " {'mean': 0.5024372184512366, 'std': 0.02854353760505078, 'near_zero': 0.0},\n",
       " {'mean': 0.5036306127693709, 'std': 0.030394812932487702, 'near_zero': 0.0},\n",
       " {'mean': 0.502792578802076, 'std': 0.02814193636736122, 'near_zero': 0.0},\n",
       " {'mean': 0.5033924149537357, 'std': 0.030234012684471432, 'near_zero': 0.0},\n",
       " {'mean': 0.5032713344420405, 'std': 0.029353100684224726, 'near_zero': 0.0},\n",
       " {'mean': 0.5040049439103615, 'std': 0.03057586132381903, 'near_zero': 0.0},\n",
       " {'mean': 0.5036294579017311, 'std': 0.030499433381303804, 'near_zero': 0.0},\n",
       " {'mean': 0.5035366329503673, 'std': 0.030031632779676035, 'near_zero': 0.0},\n",
       " {'mean': 0.5041784444198543, 'std': 0.028423407620209503, 'near_zero': 0.0},\n",
       " {'mean': 0.5040731328670867, 'std': 0.02974820345359129, 'near_zero': 0.0},\n",
       " {'mean': 0.5048314855550289, 'std': 0.031000061102785702, 'near_zero': 0.0},\n",
       " {'mean': 0.503988442423579,\n",
       "  'std': 0.02997837447207776,\n",
       "  'near_zero': 0.000244140625},\n",
       " {'mean': 0.5036713607031791, 'std': 0.030639318176234876, 'near_zero': 0.0},\n",
       " {'mean': 0.5043942449796701, 'std': 0.030212142449203894, 'near_zero': 0.0},\n",
       " {'mean': 0.5044097167111072, 'std': 0.03083054716179552, 'near_zero': 0.0},\n",
       " {'mean': 0.5049811211345834, 'std': 0.031149899996598784, 'near_zero': 0.0},\n",
       " {'mean': 0.5057526885113721, 'std': 0.03164668739818089, 'near_zero': 0.0},\n",
       " {'mean': 0.5061139221357361, 'std': 0.030091055357190803, 'near_zero': 0.0},\n",
       " {'mean': 0.506588067154923, 'std': 0.03143862631707555, 'near_zero': 0.0},\n",
       " {'mean': 0.5059560525985888, 'std': 0.029595622337823077, 'near_zero': 0.0},\n",
       " {'mean': 0.50622122413134, 'std': 0.031036498087720153, 'near_zero': 0.0},\n",
       " {'mean': 0.5071602744708553, 'std': 0.030842992790144193, 'near_zero': 0.0},\n",
       " {'mean': 0.5062780215160023, 'std': 0.029106586294985956, 'near_zero': 0.0},\n",
       " {'mean': 0.5071790148703681, 'std': 0.0288111653632318, 'near_zero': 0.0},\n",
       " {'mean': 0.5071568807244919, 'std': 0.030158244471802438, 'near_zero': 0.0},\n",
       " {'mean': 0.506479149414508, 'std': 0.029116215955868937, 'near_zero': 0.0},\n",
       " {'mean': 0.5069621345556026, 'std': 0.03131149451509487, 'near_zero': 0.0},\n",
       " {'mean': 0.5067542313594109, 'std': 0.030858060482292, 'near_zero': 0.0},\n",
       " {'mean': 0.5074034717367423, 'std': 0.0302468328364106, 'near_zero': 0.0},\n",
       " {'mean': 0.5063643446563046, 'std': 0.028928790293843373, 'near_zero': 0.0},\n",
       " {'mean': 0.5060699243480664, 'std': 0.030196732934931348, 'near_zero': 0.0},\n",
       " {'mean': 0.5059463017927524, 'std': 0.03026314454331245, 'near_zero': 0.0},\n",
       " {'mean': 0.5055694003662063, 'std': 0.029711209549322114, 'near_zero': 0.0},\n",
       " {'mean': 0.5056052912984277, 'std': 0.031636800919355806, 'near_zero': 0.0},\n",
       " {'mean': 0.5054876550453613, 'std': 0.030002652668331027, 'near_zero': 0.0},\n",
       " {'mean': 0.5049852661019023, 'std': 0.030552184137225803, 'near_zero': 0.0},\n",
       " {'mean': 0.5048009996700689, 'std': 0.028371960854015887, 'near_zero': 0.0},\n",
       " {'mean': 0.5054820660595122, 'std': 0.029514701766743066, 'near_zero': 0.0},\n",
       " {'mean': 0.5060833118882293, 'std': 0.030334220063850267, 'near_zero': 0.0},\n",
       " {'mean': 0.5051966225859444, 'std': 0.030334430057836773, 'near_zero': 0.0},\n",
       " {'mean': 0.504099959593624, 'std': 0.030602573254684365, 'near_zero': 0.0},\n",
       " {'mean': 0.5045592858599418, 'std': 0.02946838071936202, 'near_zero': 0.0},\n",
       " {'mean': 0.5038969166719669, 'std': 0.03030314530669562, 'near_zero': 0.0},\n",
       " {'mean': 0.5046738034505855, 'std': 0.03012979963197259, 'near_zero': 0.0},\n",
       " {'mean': 0.5044841837859109, 'std': 0.029430505069365512, 'near_zero': 0.0},\n",
       " {'mean': 0.5054407257429183,\n",
       "  'std': 0.03079130881982062,\n",
       "  'near_zero': 0.000244140625},\n",
       " {'mean': 0.5049782621416476, 'std': 0.030169725930489267, 'near_zero': 0.0},\n",
       " {'mean': 0.5059999843925638, 'std': 0.03097640148216087, 'near_zero': 0.0},\n",
       " {'mean': 0.505437517058502, 'std': 0.029660102190522217, 'near_zero': 0.0},\n",
       " {'mean': 0.5050485394193045, 'std': 0.02824411241777938, 'near_zero': 0.0},\n",
       " {'mean': 0.5045830762381941, 'std': 0.028403555329029665, 'near_zero': 0.0},\n",
       " {'mean': 0.5047768171270419, 'std': 0.028627190731336214, 'near_zero': 0.0},\n",
       " {'mean': 0.50524822596133, 'std': 0.02732032670207335, 'near_zero': 0.0},\n",
       " {'mean': 0.505426396472914, 'std': 0.029278697135054318, 'near_zero': 0.0},\n",
       " {'mean': 0.5059491437685812, 'std': 0.03046149163418519, 'near_zero': 0.0},\n",
       " {'mean': 0.5054734487210328, 'std': 0.028584020352470624, 'near_zero': 0.0},\n",
       " {'mean': 0.5058084392238009, 'std': 0.028849402526273063, 'near_zero': 0.0},\n",
       " {'mean': 0.5061503390551436, 'std': 0.0292417808285814, 'near_zero': 0.0},\n",
       " {'mean': 0.5060524613223056, 'std': 0.028981049650258703, 'near_zero': 0.0},\n",
       " {'mean': 0.5060681100217825, 'std': 0.028826155436441042, 'near_zero': 0.0},\n",
       " {'mean': 0.5055820861316094, 'std': 0.027728321087045385, 'near_zero': 0.0},\n",
       " {'mean': 0.506278748544781, 'std': 0.028337647490584268, 'near_zero': 0.0},\n",
       " {'mean': 0.5056915766041937, 'std': 0.029716416241818613, 'near_zero': 0.0},\n",
       " {'mean': 0.5061455695511694, 'std': 0.028620108682069257, 'near_zero': 0.0},\n",
       " {'mean': 0.5056618004776468, 'std': 0.029253491219161692, 'near_zero': 0.0},\n",
       " {'mean': 0.5066810381668034, 'std': 0.028046180349003004, 'near_zero': 0.0},\n",
       " {'mean': 0.5057734062917224, 'std': 0.028600683498283878, 'near_zero': 0.0},\n",
       " {'mean': 0.5069919202579686, 'std': 0.029150169956124027, 'near_zero': 0.0},\n",
       " {'mean': 0.50686406855632, 'std': 0.029142862319280493, 'near_zero': 0.0},\n",
       " {'mean': 0.5058940068997063, 'std': 0.029354628093956434, 'near_zero': 0.0},\n",
       " {'mean': 0.5060051924736719, 'std': 0.028106416553155204, 'near_zero': 0.0},\n",
       " {'mean': 0.5065471779568176, 'std': 0.028888330121005987, 'near_zero': 0.0},\n",
       " {'mean': 0.5057940295040237, 'std': 0.028823128494805887, 'near_zero': 0.0},\n",
       " {'mean': 0.5056443738827305, 'std': 0.029016792270220342, 'near_zero': 0.0},\n",
       " {'mean': 0.5049752119281973, 'std': 0.027314458291828075, 'near_zero': 0.0},\n",
       " {'mean': 0.5047540302236978, 'std': 0.02792558336348598, 'near_zero': 0.0},\n",
       " {'mean': 0.5052598620038786, 'std': 0.028600089208051092, 'near_zero': 0.0},\n",
       " {'mean': 0.5045844192698038, 'std': 0.028565888421620073, 'near_zero': 0.0},\n",
       " {'mean': 0.5044509767543277, 'std': 0.02770425258892767, 'near_zero': 0.0},\n",
       " {'mean': 0.504262172445426, 'std': 0.028757557373937398, 'near_zero': 0.0},\n",
       " {'mean': 0.5039810163903338, 'std': 0.02856247839460141, 'near_zero': 0.0},\n",
       " {'mean': 0.5040119841388058, 'std': 0.02818929585449355, 'near_zero': 0.0},\n",
       " {'mean': 0.504492464508458, 'std': 0.029865770612060624, 'near_zero': 0.0},\n",
       " {'mean': 0.503823286299093, 'std': 0.029678038988075892, 'near_zero': 0.0},\n",
       " {'mean': 0.5029259786376763, 'std': 0.02773746792282794, 'near_zero': 0.0},\n",
       " {'mean': 0.5035746765194096, 'std': 0.028587418681915625, 'near_zero': 0.0},\n",
       " {'mean': 0.5039402720174857, 'std': 0.0293954669727467, 'near_zero': 0.0},\n",
       " {'mean': 0.5040731562589285, 'std': 0.028797348499502176, 'near_zero': 0.0},\n",
       " {'mean': 0.503425278332224, 'std': 0.028175335211010795, 'near_zero': 0.0},\n",
       " {'mean': 0.5042014018514527, 'std': 0.029742587050872512, 'near_zero': 0.0},\n",
       " {'mean': 0.5026491150370178, 'std': 0.029235320275537206, 'near_zero': 0.0},\n",
       " {'mean': 0.502812964648509, 'std': 0.028518990719801393, 'near_zero': 0.0},\n",
       " {'mean': 0.5039186450037618, 'std': 0.02835536353201827, 'near_zero': 0.0},\n",
       " {'mean': 0.5036348223062642, 'std': 0.028822391885307976, 'near_zero': 0.0},\n",
       " {'mean': 0.5036582084632024, 'std': 0.029748672063461917, 'near_zero': 0.0},\n",
       " {'mean': 0.5036397589665967, 'std': 0.029346349670354713, 'near_zero': 0.0},\n",
       " {'mean': 0.5036043611869849, 'std': 0.02892831751075333, 'near_zero': 0.0},\n",
       " {'mean': 0.503817270474817, 'std': 0.030512235194217315, 'near_zero': 0.0},\n",
       " {'mean': 0.5039594731340944, 'std': 0.02852615638281086, 'near_zero': 0.0},\n",
       " {'mean': 0.5053585219465391, 'std': 0.029829406653510256, 'near_zero': 0.0},\n",
       " {'mean': 0.5048989079739816, 'std': 0.03042906852997403, 'near_zero': 0.0},\n",
       " {'mean': 0.5048989312956362, 'std': 0.030140206977837716, 'near_zero': 0.0},\n",
       " {'mean': 0.5040568639554722, 'std': 0.028239863648038682, 'near_zero': 0.0},\n",
       " {'mean': 0.5051071766937206, 'std': 0.028899544065341464, 'near_zero': 0.0},\n",
       " {'mean': 0.5046558976791067, 'std': 0.03017474843494499, 'near_zero': 0.0},\n",
       " {'mean': 0.5044977505454438, 'std': 0.029588046595350765, 'near_zero': 0.0},\n",
       " {'mean': 0.5038203173419751, 'std': 0.03044185447428104, 'near_zero': 0.0},\n",
       " {'mean': 0.5044766459345129, 'std': 0.030774792411806796, 'near_zero': 0.0},\n",
       " {'mean': 0.5043820206653451, 'std': 0.029333143673701993, 'near_zero': 0.0},\n",
       " {'mean': 0.5031842531529112,\n",
       "  'std': 0.03170283534848454,\n",
       "  'near_zero': 0.000244140625},\n",
       " {'mean': 0.5036731614352522, 'std': 0.029436088485672807, 'near_zero': 0.0},\n",
       " {'mean': 0.505100134080412, 'std': 0.02945773465452133, 'near_zero': 0.0},\n",
       " {'mean': 0.5034981067928708, 'std': 0.029149061884202906, 'near_zero': 0.0},\n",
       " {'mean': 0.503175246242368, 'std': 0.029320447734101005, 'near_zero': 0.0},\n",
       " {'mean': 0.5022274467836453, 'std': 0.030678958879505315, 'near_zero': 0.0},\n",
       " {'mean': 0.503298119967562, 'std': 0.029044159159828185, 'near_zero': 0.0},\n",
       " {'mean': 0.5029450752928559, 'std': 0.028218343066228613, 'near_zero': 0.0},\n",
       " {'mean': 0.5024685584532591, 'std': 0.029588540527064715, 'near_zero': 0.0},\n",
       " {'mean': 0.5032607967821665, 'std': 0.02955320749936491, 'near_zero': 0.0},\n",
       " {'mean': 0.5023752177842091, 'std': 0.02748657671217706, 'near_zero': 0.0},\n",
       " {'mean': 0.502673468649363, 'std': 0.028409247392096056, 'near_zero': 0.0},\n",
       " {'mean': 0.5026383439712252, 'std': 0.02839494897156063, 'near_zero': 0.0},\n",
       " {'mean': 0.5025288140015985, 'std': 0.028071625887978933, 'near_zero': 0.0},\n",
       " {'mean': 0.5027282603839853, 'std': 0.029326029890697162, 'near_zero': 0.0},\n",
       " {'mean': 0.502047720875324, 'std': 0.030513346728353253, 'near_zero': 0.0},\n",
       " {'mean': 0.5027462385012857, 'std': 0.028833835107167714, 'near_zero': 0.0},\n",
       " {'mean': 0.503030224769164, 'std': 0.02858727492593482, 'near_zero': 0.0},\n",
       " {'mean': 0.5029406305186057, 'std': 0.02828666976816, 'near_zero': 0.0},\n",
       " {'mean': 0.5034792308214531, 'std': 0.02894579809908957, 'near_zero': 0.0},\n",
       " {'mean': 0.5033922709833754, 'std': 0.028306674856607657, 'near_zero': 0.0},\n",
       " {'mean': 0.5036089425188963, 'std': 0.02938183965519141, 'near_zero': 0.0},\n",
       " {'mean': 0.5036116156920842, 'std': 0.029258062165133537, 'near_zero': 0.0},\n",
       " {'mean': 0.5035213267775689, 'std': 0.028536123252994657, 'near_zero': 0.0},\n",
       " {'mean': 0.504399462907285, 'std': 0.028321858243576435, 'near_zero': 0.0},\n",
       " {'mean': 0.5042067233804921, 'std': 0.028442881197059396, 'near_zero': 0.0},\n",
       " {'mean': 0.5041484126639874, 'std': 0.028736664239780357, 'near_zero': 0.0},\n",
       " {'mean': 0.5038586946055166, 'std': 0.029093891954359217, 'near_zero': 0.0},\n",
       " {'mean': 0.5047562431572145, 'std': 0.029667657455637802, 'near_zero': 0.0},\n",
       " {'mean': 0.5053921097542097, 'std': 0.027967766173166226, 'near_zero': 0.0},\n",
       " {'mean': 0.5057534089028475, 'std': 0.02950108992991543, 'near_zero': 0.0},\n",
       " {'mean': 0.5047062837710377, 'std': 0.02794456110190622, 'near_zero': 0.0},\n",
       " {'mean': 0.5047528121358489, 'std': 0.029052165871353886, 'near_zero': 0.0},\n",
       " {'mean': 0.505019071863557, 'std': 0.02921663806382645, 'near_zero': 0.0},\n",
       " {'mean': 0.5045919533523814, 'std': 0.027172272412456445, 'near_zero': 0.0},\n",
       " {'mean': 0.5048447897865291, 'std': 0.02848455492531267, 'near_zero': 0.0},\n",
       " {'mean': 0.5055908362055475, 'std': 0.030054685074853052, 'near_zero': 0.0}]"
      ]
     },
     "execution_count": 55,
     "metadata": {},
     "output_type": "execute_result"
    }
   ],
   "source": [
    "save_output_activation_stats_layer.outputs"
   ]
  },
  {
   "cell_type": "code",
   "execution_count": 52,
   "metadata": {},
   "outputs": [
    {
     "data": {
      "text/plain": [
       "[<matplotlib.lines.Line2D at 0x7f92c43f36a0>]"
      ]
     },
     "execution_count": 52,
     "metadata": {},
     "output_type": "execute_result"
    },
    {
     "data": {
      "image/png": "[encoded data removed]",
      "text/plain": [
       "<Figure size 1800x288 with 3 Axes>"
      ]
     },
     "metadata": {},
     "output_type": "display_data"
    }
   ],
   "source": [
    "fig, ax = plt.subplots(1, 3, figsize=(25, 4))\n",
    "\n",
    "ax[0].set_title(f'Layer {layer_number} : Mean activation value', fontsize=16)\n",
    "ax[0].set_xlabel('Batch instances')\n",
    "ax[0].set_ylabel('Mean')\n",
    "ax[0].plot(range(df_stats_layer.shape[0]), df_stats_layer['mean'])\n"
   ]
  },
  {
   "cell_type": "code",
   "execution_count": 51,
   "metadata": {},
   "outputs": [
    {
     "data": {
      "text/plain": [
       "410"
      ]
     },
     "execution_count": 51,
     "metadata": {},
     "output_type": "execute_result"
    }
   ],
   "source": [
    "df_stats_layer.shape[0]"
   ]
  },
  {
   "cell_type": "code",
   "execution_count": null,
   "metadata": {},
   "outputs": [],
   "source": [
    "epoch = 3\n",
    "\n",
    "running_loss = 0.0        \n",
    "model.train()\n",
    "\n",
    "for batch in train_loader:\n",
    "    #inputs, labels = batch[0], batch[1]\n",
    "    inputs, labels = batch[0].to('cuda'), batch[1].to('cuda')\n",
    "    optimizer.zero_grad()\n",
    "\n",
    "    with torch.set_grad_enabled(True):\n",
    "        outputs = model(inputs)\n",
    "        loss = loss_fn(outputs, labels.unsqueeze(-1).double())\n",
    "        loss.backward()\n",
    "        optimizer.step()\n",
    "\n",
    "# update local train loss\n",
    "    running_loss += loss.item() * inputs.size(0)\n",
    "\n",
    "# update global train loss\n",
    "epoch_loss = running_loss / len(train_loader.dataset)\n",
    "print('Epoch({}) - Training Loss: {:.4f}'.format(epoch, epoch_loss))"
   ]
  },
  {
   "cell_type": "code",
   "execution_count": null,
   "metadata": {},
   "outputs": [],
   "source": [
    "#len(save_output_activation_stats.outputs)"
   ]
  },
  {
   "cell_type": "code",
   "execution_count": null,
   "metadata": {},
   "outputs": [],
   "source": [
    "save_output_activation_stats"
   ]
  },
  {
   "cell_type": "code",
   "execution_count": null,
   "metadata": {},
   "outputs": [],
   "source": [
    "pd.DataFrame(save_output_activation_stats[0].outputs)"
   ]
  },
  {
   "cell_type": "code",
   "execution_count": null,
   "metadata": {},
   "outputs": [],
   "source": [
    "%%time\n",
    "for layer_number,save_output_activation_stats_layer in enumerate(save_output_activation_stats):\n",
    "    df_stats_layer = pd.DataFrame(save_output_activation_stats_layer.outputs)\n",
    "\n",
    "    fig, ax = plt.subplots(1, 3, figsize=(25, 4))\n",
    "\n",
    "    ax[0].set_title(f'Layer {layer_number} : Mean activation value', fontsize=16)\n",
    "    ax[0].set_xlabel('Batch instances')\n",
    "    ax[0].set_ylabel('Mean')\n",
    "    ax[0].plot(range(df_stats_layer.shape[0]), df_stats_layer['mean'])\n",
    "\n",
    "    ax[1].set_title(f'Layer {layer_number} : Std deviation activation value', fontsize=16)\n",
    "    ax[1].set_xlabel('Batch instances')\n",
    "    ax[1].set_ylabel('Standard deviation')\n",
    "    ax[1].plot(range(df_stats_layer.shape[0]), df_stats_layer['std'])\n",
    "\n",
    "    ax[2].set_title(f'Layer {layer_number} : Percentage of activation values near zero', fontsize=16)\n",
    "    ax[2].set_xlabel('Batch instances')\n",
    "    ax[2].set_ylabel('Percentage')\n",
    "    ax[2].plot(range(df_stats_layer.shape[0]), df_stats_layer['near_zero']);"
   ]
  },
  {
   "cell_type": "code",
   "execution_count": null,
   "metadata": {},
   "outputs": [],
   "source": []
  }
 ],
 "metadata": {
  "kernelspec": {
   "display_name": "Python 3 (Spyder)",
   "language": "python3",
   "name": "python3"
  },
  "language_info": {
   "codemirror_mode": {
    "name": "ipython",
    "version": 3
   },
   "file_extension": ".py",
   "mimetype": "text/x-python",
   "name": "python",
   "nbconvert_exporter": "python",
   "pygments_lexer": "ipython3",
   "version": "3.8.5"
  }
 },
 "nbformat": 4,
 "nbformat_minor": 4
}
