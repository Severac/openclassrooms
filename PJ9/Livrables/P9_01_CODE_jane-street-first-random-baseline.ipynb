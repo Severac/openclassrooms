{
 "cells": [
  {
   "cell_type": "code",
   "execution_count": 1,
   "metadata": {
    "_cell_guid": "b1076dfc-b9ad-4769-8c92-a6c4dae69d19",
    "_uuid": "8f2839f25d086af736a60e9eeb907d3b93b6e0e5",
    "execution": {
     "iopub.execute_input": "2020-11-28T16:52:35.558803Z",
     "iopub.status.busy": "2020-11-28T16:52:35.556432Z",
     "iopub.status.idle": "2020-11-28T16:53:05.503076Z",
     "shell.execute_reply": "2020-11-28T16:53:05.502300Z"
    },
    "papermill": {
     "duration": 29.971991,
     "end_time": "2020-11-28T16:53:05.503213",
     "exception": false,
     "start_time": "2020-11-28T16:52:35.531222",
     "status": "completed"
    },
    "tags": []
   },
   "outputs": [
    {
     "name": "stdout",
     "output_type": "stream",
     "text": [
      "Processing /kaggle/input/python-datatable/datatable-0.11.0-cp37-cp37m-manylinux2010_x86_64.whl\r\n",
      "Installing collected packages: datatable\r\n",
      "Successfully installed datatable-0.11.0\r\n"
     ]
    },
    {
     "data": {
      "text/html": [
       "<style type='text/css'>\n",
       ".datatable table.frame { margin-bottom: 0; }\n",
       ".datatable table.frame thead { border-bottom: none; }\n",
       ".datatable table.frame tr.coltypes td {  color: #FFFFFF;  line-height: 6px;  padding: 0 0.5em;}\n",
       ".datatable .bool    { background: #DDDD99; }\n",
       ".datatable .object  { background: #565656; }\n",
       ".datatable .int     { background: #5D9E5D; }\n",
       ".datatable .float   { background: #4040CC; }\n",
       ".datatable .str     { background: #CC4040; }\n",
       ".datatable .row_index {  background: var(--jp-border-color3);  border-right: 1px solid var(--jp-border-color0);  color: var(--jp-ui-font-color3);  font-size: 9px;}\n",
       ".datatable .frame tr.coltypes .row_index {  background: var(--jp-border-color0);}\n",
       ".datatable th:nth-child(2) { padding-left: 12px; }\n",
       ".datatable .hellipsis {  color: var(--jp-cell-editor-border-color);}\n",
       ".datatable .vellipsis {  background: var(--jp-layout-color0);  color: var(--jp-cell-editor-border-color);}\n",
       ".datatable .na {  color: var(--jp-cell-editor-border-color);  font-size: 80%;}\n",
       ".datatable .footer { font-size: 9px; }\n",
       ".datatable .frame_dimensions {  background: var(--jp-border-color3);  border-top: 1px solid var(--jp-border-color0);  color: var(--jp-ui-font-color3);  display: inline-block;  opacity: 0.6;  padding: 1px 10px 1px 5px;}\n",
       "</style>\n"
      ],
      "text/plain": [
       "<IPython.core.display.HTML object>"
      ]
     },
     "metadata": {},
     "output_type": "display_data"
    },
    {
     "name": "stdout",
     "output_type": "stream",
     "text": [
      "/kaggle/input/python-datatable/datatable-0.11.0-cp37-cp37m-manylinux2010_x86_64.whl\n",
      "/kaggle/input/jane-street-market-prediction/example_sample_submission.csv\n",
      "/kaggle/input/jane-street-market-prediction/features.csv\n",
      "/kaggle/input/jane-street-market-prediction/example_test.csv\n",
      "/kaggle/input/jane-street-market-prediction/train.csv\n",
      "/kaggle/input/jane-street-market-prediction/janestreet/__init__.py\n",
      "/kaggle/input/jane-street-market-prediction/janestreet/competition.cpython-37m-x86_64-linux-gnu.so\n"
     ]
    }
   ],
   "source": [
    "# This Python 3 environment comes with many helpful analytics libraries installed\n",
    "# It is defined by the kaggle/python Docker image: https://github.com/kaggle/docker-python\n",
    "# For example, here's several helpful packages to load\n",
    "\n",
    "import numpy as np # linear algebra\n",
    "import pandas as pd # data processing, CSV file I/O (e.g. pd.read_csv)\n",
    "\n",
    "import matplotlib.pyplot as plt\n",
    "import seaborn as sns\n",
    "\n",
    "import janestreet\n",
    "env = janestreet.make_env() # initialize the environment\n",
    "\n",
    "#!pip install datatable # Internet is not activated in this competition\n",
    "!pip install ../input/python-datatable/datatable-0.11.0-cp37-cp37m-manylinux2010_x86_64.whl\n",
    "import datatable as dt\n",
    "\n",
    "# Input data files are available in the read-only \"../input/\" directory\n",
    "# For example, running this (by clicking run or pressing Shift+Enter) will list all files under the input directory\n",
    "\n",
    "import os\n",
    "for dirname, _, filenames in os.walk('/kaggle/input'):\n",
    "    for filename in filenames:\n",
    "        print(os.path.join(dirname, filename))\n",
    "\n",
    "# You can write up to 20GB to the current directory (/kaggle/working/) that gets preserved as output when you create a version using \"Save & Run All\" \n",
    "# You can also write temporary files to /kaggle/temp/, but they won't be saved outside of the current session\n",
    "\n",
    "INPUT_DIR = '/kaggle/input/jane-street-market-prediction/'"
   ]
  },
  {
   "cell_type": "markdown",
   "metadata": {
    "papermill": {
     "duration": 0.016699,
     "end_time": "2020-11-28T16:53:05.538086",
     "exception": false,
     "start_time": "2020-11-28T16:53:05.521387",
     "status": "completed"
    },
    "tags": []
   },
   "source": [
    "Thanks to following notebooks :  \n",
    "https://www.kaggle.com/drcapa/jane-street-market-prediction-starter-xgb/output?select=example_sample_submission.csv"
   ]
  },
  {
   "cell_type": "markdown",
   "metadata": {
    "papermill": {
     "duration": 0.01677,
     "end_time": "2020-11-28T16:53:05.571957",
     "exception": false,
     "start_time": "2020-11-28T16:53:05.555187",
     "status": "completed"
    },
    "tags": []
   },
   "source": [
    "# Load data"
   ]
  },
  {
   "cell_type": "code",
   "execution_count": 2,
   "metadata": {
    "_cell_guid": "79c7e3d0-c299-4dcb-8224-4455121ee9b0",
    "_uuid": "d629ff2d2480ee46fbb7e2d37f6b5fab8052498a",
    "execution": {
     "iopub.execute_input": "2020-11-28T16:53:05.614636Z",
     "iopub.status.busy": "2020-11-28T16:53:05.613780Z",
     "iopub.status.idle": "2020-11-28T16:53:29.776476Z",
     "shell.execute_reply": "2020-11-28T16:53:29.777205Z"
    },
    "papermill": {
     "duration": 24.188653,
     "end_time": "2020-11-28T16:53:29.777369",
     "exception": false,
     "start_time": "2020-11-28T16:53:05.588716",
     "status": "completed"
    },
    "tags": []
   },
   "outputs": [
    {
     "name": "stdout",
     "output_type": "stream",
     "text": [
      "CPU times: user 46.7 s, sys: 14.5 s, total: 1min 1s\n",
      "Wall time: 24.2 s\n"
     ]
    }
   ],
   "source": [
    "%%time\n",
    "# Thanks to his notebook for this fast loading : https://www.kaggle.com/carlmcbrideellis/jane-street-eda-of-day-0-and-feature-importance\n",
    "train_data_datatable = dt.fread('../input/jane-street-market-prediction/train.csv')\n",
    "df = train_data_datatable.to_pandas()\n",
    "\n",
    "# Thanks to this notebook to gain memory usage : https://www.kaggle.com/jorijnsmit/one-liner-to-halve-your-memory-usage\n",
    "float64_cols = df.select_dtypes(include='float64').columns\n",
    "mapper = {col_name: np.float32 for col_name in float64_cols}\n",
    "df = df.astype(mapper)"
   ]
  },
  {
   "cell_type": "markdown",
   "metadata": {
    "papermill": {
     "duration": 0.018213,
     "end_time": "2020-11-28T16:53:29.814136",
     "exception": false,
     "start_time": "2020-11-28T16:53:29.795923",
     "status": "completed"
    },
    "tags": []
   },
   "source": [
    "# Make random predictions"
   ]
  },
  {
   "cell_type": "markdown",
   "metadata": {
    "papermill": {
     "duration": 0.017822,
     "end_time": "2020-11-28T16:53:29.850683",
     "exception": false,
     "start_time": "2020-11-28T16:53:29.832861",
     "status": "completed"
    },
    "tags": []
   },
   "source": [
    "Chek mean of positive returns :"
   ]
  },
  {
   "cell_type": "code",
   "execution_count": 3,
   "metadata": {
    "execution": {
     "iopub.execute_input": "2020-11-28T16:53:29.893823Z",
     "iopub.status.busy": "2020-11-28T16:53:29.892943Z",
     "iopub.status.idle": "2020-11-28T16:53:29.926236Z",
     "shell.execute_reply": "2020-11-28T16:53:29.925387Z"
    },
    "papermill": {
     "duration": 0.057517,
     "end_time": "2020-11-28T16:53:29.926381",
     "exception": false,
     "start_time": "2020-11-28T16:53:29.868864",
     "status": "completed"
    },
    "tags": []
   },
   "outputs": [],
   "source": [
    "df['resp_positive'] = ((df['resp'])>0)*1"
   ]
  },
  {
   "cell_type": "code",
   "execution_count": 4,
   "metadata": {
    "execution": {
     "iopub.execute_input": "2020-11-28T16:53:29.971476Z",
     "iopub.status.busy": "2020-11-28T16:53:29.970603Z",
     "iopub.status.idle": "2020-11-28T16:53:30.264780Z",
     "shell.execute_reply": "2020-11-28T16:53:30.265439Z"
    },
    "papermill": {
     "duration": 0.3209,
     "end_time": "2020-11-28T16:53:30.265610",
     "exception": false,
     "start_time": "2020-11-28T16:53:29.944710",
     "status": "completed"
    },
    "tags": []
   },
   "outputs": [
    {
     "name": "stdout",
     "output_type": "stream",
     "text": [
      "0.504069666022587\n"
     ]
    }
   ],
   "source": [
    "action_1_proba = df[df['resp_positive'] == 1].shape[0] / df.shape[0]\n",
    "print(action_1_proba)"
   ]
  },
  {
   "cell_type": "code",
   "execution_count": 5,
   "metadata": {
    "execution": {
     "iopub.execute_input": "2020-11-28T16:53:30.308614Z",
     "iopub.status.busy": "2020-11-28T16:53:30.308036Z",
     "iopub.status.idle": "2020-11-28T16:53:30.311456Z",
     "shell.execute_reply": "2020-11-28T16:53:30.310971Z"
    },
    "papermill": {
     "duration": 0.027053,
     "end_time": "2020-11-28T16:53:30.311555",
     "exception": false,
     "start_time": "2020-11-28T16:53:30.284502",
     "status": "completed"
    },
    "tags": []
   },
   "outputs": [],
   "source": [
    "np.random.seed(42)"
   ]
  },
  {
   "cell_type": "code",
   "execution_count": 6,
   "metadata": {
    "execution": {
     "iopub.execute_input": "2020-11-28T16:53:30.344445Z",
     "iopub.status.busy": "2020-11-28T16:53:30.343863Z",
     "iopub.status.idle": "2020-11-28T16:53:30.411557Z",
     "shell.execute_reply": "2020-11-28T16:53:30.410923Z"
    },
    "papermill": {
     "duration": 0.086464,
     "end_time": "2020-11-28T16:53:30.411661",
     "exception": false,
     "start_time": "2020-11-28T16:53:30.325197",
     "status": "completed"
    },
    "tags": []
   },
   "outputs": [],
   "source": [
    "series_random_preds = pd.Series(np.asarray(np.random.rand(df.shape[0]) > (1 - action_1_proba), dtype=int))"
   ]
  },
  {
   "cell_type": "code",
   "execution_count": 7,
   "metadata": {
    "execution": {
     "iopub.execute_input": "2020-11-28T16:53:30.444536Z",
     "iopub.status.busy": "2020-11-28T16:53:30.443775Z",
     "iopub.status.idle": "2020-11-28T16:53:30.454895Z",
     "shell.execute_reply": "2020-11-28T16:53:30.454139Z"
    },
    "papermill": {
     "duration": 0.030337,
     "end_time": "2020-11-28T16:53:30.455042",
     "exception": false,
     "start_time": "2020-11-28T16:53:30.424705",
     "status": "completed"
    },
    "tags": []
   },
   "outputs": [
    {
     "data": {
      "text/plain": [
       "0.5038575757030669"
      ]
     },
     "execution_count": 7,
     "metadata": {},
     "output_type": "execute_result"
    }
   ],
   "source": [
    "series_random_preds.mean()"
   ]
  },
  {
   "cell_type": "markdown",
   "metadata": {
    "papermill": {
     "duration": 0.019541,
     "end_time": "2020-11-28T16:53:30.495120",
     "exception": false,
     "start_time": "2020-11-28T16:53:30.475579",
     "status": "completed"
    },
    "tags": []
   },
   "source": [
    "# Submit predictions"
   ]
  },
  {
   "cell_type": "code",
   "execution_count": 8,
   "metadata": {
    "execution": {
     "iopub.execute_input": "2020-11-28T16:53:30.540449Z",
     "iopub.status.busy": "2020-11-28T16:53:30.539660Z",
     "iopub.status.idle": "2020-11-28T16:53:30.544461Z",
     "shell.execute_reply": "2020-11-28T16:53:30.543621Z"
    },
    "papermill": {
     "duration": 0.029448,
     "end_time": "2020-11-28T16:53:30.544601",
     "exception": false,
     "start_time": "2020-11-28T16:53:30.515153",
     "status": "completed"
    },
    "tags": []
   },
   "outputs": [],
   "source": [
    "iter_test = env.iter_test() # an iterator which loops over the test set"
   ]
  },
  {
   "cell_type": "code",
   "execution_count": 9,
   "metadata": {
    "execution": {
     "iopub.execute_input": "2020-11-28T16:53:30.597182Z",
     "iopub.status.busy": "2020-11-28T16:53:30.596308Z",
     "iopub.status.idle": "2020-11-28T16:56:47.562682Z",
     "shell.execute_reply": "2020-11-28T16:56:47.563437Z"
    },
    "papermill": {
     "duration": 196.998357,
     "end_time": "2020-11-28T16:56:47.563600",
     "exception": false,
     "start_time": "2020-11-28T16:53:30.565243",
     "status": "completed"
    },
    "tags": []
   },
   "outputs": [
    {
     "name": "stdout",
     "output_type": "stream",
     "text": [
      "CPU times: user 3min 16s, sys: 407 ms, total: 3min 16s\n",
      "Wall time: 3min 16s\n"
     ]
    }
   ],
   "source": [
    "%%time\n",
    "cnt_samples = 0\n",
    "\n",
    "for (test_df, sample_prediction_df) in iter_test:\n",
    "    cnt_samples += 1\n",
    "    \n",
    "    sample_prediction_df.action = series_random_preds[cnt_samples]\n",
    "    \n",
    "    env.predict(sample_prediction_df)"
   ]
  },
  {
   "cell_type": "code",
   "execution_count": 10,
   "metadata": {
    "execution": {
     "iopub.execute_input": "2020-11-28T16:56:47.597572Z",
     "iopub.status.busy": "2020-11-28T16:56:47.596910Z",
     "iopub.status.idle": "2020-11-28T16:56:47.603324Z",
     "shell.execute_reply": "2020-11-28T16:56:47.602552Z"
    },
    "papermill": {
     "duration": 0.025011,
     "end_time": "2020-11-28T16:56:47.603481",
     "exception": false,
     "start_time": "2020-11-28T16:56:47.578470",
     "status": "completed"
    },
    "tags": []
   },
   "outputs": [
    {
     "name": "stdout",
     "output_type": "stream",
     "text": [
      "There are 15219 samples predicted\n"
     ]
    }
   ],
   "source": [
    "print(f'There are {cnt_samples} samples predicted')"
   ]
  }
 ],
 "metadata": {
  "kernelspec": {
   "display_name": "Python 3",
   "language": "python",
   "name": "python3"
  },
  "language_info": {
   "codemirror_mode": {
    "name": "ipython",
    "version": 3
   },
   "file_extension": ".py",
   "mimetype": "text/x-python",
   "name": "python",
   "nbconvert_exporter": "python",
   "pygments_lexer": "ipython3",
   "version": "3.7.6"
  },
  "papermill": {
   "duration": 257.869513,
   "end_time": "2020-11-28T16:56:48.852728",
   "environment_variables": {},
   "exception": null,
   "input_path": "__notebook__.ipynb",
   "output_path": "__notebook__.ipynb",
   "parameters": {},
   "start_time": "2020-11-28T16:52:30.983215",
   "version": "2.1.0"
  }
 },
 "nbformat": 4,
 "nbformat_minor": 4
}
