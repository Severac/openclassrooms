{
 "cells": [
  {
   "cell_type": "code",
   "execution_count": 1,
   "metadata": {
    "_cell_guid": "b1076dfc-b9ad-4769-8c92-a6c4dae69d19",
    "_uuid": "8f2839f25d086af736a60e9eeb907d3b93b6e0e5",
    "execution": {
     "iopub.execute_input": "2020-11-30T18:28:16.241378Z",
     "iopub.status.busy": "2020-11-30T18:28:16.240605Z",
     "iopub.status.idle": "2020-11-30T18:28:52.653744Z",
     "shell.execute_reply": "2020-11-30T18:28:52.651218Z"
    },
    "papermill": {
     "duration": 36.465503,
     "end_time": "2020-11-30T18:28:52.653927",
     "exception": false,
     "start_time": "2020-11-30T18:28:16.188424",
     "status": "completed"
    },
    "tags": []
   },
   "outputs": [
    {
     "name": "stdout",
     "output_type": "stream",
     "text": [
      "Processing /kaggle/input/python-datatable/datatable-0.11.0-cp37-cp37m-manylinux2010_x86_64.whl\r\n",
      "Installing collected packages: datatable\r\n",
      "Successfully installed datatable-0.11.0\r\n"
     ]
    },
    {
     "data": {
      "text/html": [
       "<style type='text/css'>\n",
       ".datatable table.frame { margin-bottom: 0; }\n",
       ".datatable table.frame thead { border-bottom: none; }\n",
       ".datatable table.frame tr.coltypes td {  color: #FFFFFF;  line-height: 6px;  padding: 0 0.5em;}\n",
       ".datatable .bool    { background: #DDDD99; }\n",
       ".datatable .object  { background: #565656; }\n",
       ".datatable .int     { background: #5D9E5D; }\n",
       ".datatable .float   { background: #4040CC; }\n",
       ".datatable .str     { background: #CC4040; }\n",
       ".datatable .row_index {  background: var(--jp-border-color3);  border-right: 1px solid var(--jp-border-color0);  color: var(--jp-ui-font-color3);  font-size: 9px;}\n",
       ".datatable .frame tr.coltypes .row_index {  background: var(--jp-border-color0);}\n",
       ".datatable th:nth-child(2) { padding-left: 12px; }\n",
       ".datatable .hellipsis {  color: var(--jp-cell-editor-border-color);}\n",
       ".datatable .vellipsis {  background: var(--jp-layout-color0);  color: var(--jp-cell-editor-border-color);}\n",
       ".datatable .na {  color: var(--jp-cell-editor-border-color);  font-size: 80%;}\n",
       ".datatable .footer { font-size: 9px; }\n",
       ".datatable .frame_dimensions {  background: var(--jp-border-color3);  border-top: 1px solid var(--jp-border-color0);  color: var(--jp-ui-font-color3);  display: inline-block;  opacity: 0.6;  padding: 1px 10px 1px 5px;}\n",
       "</style>\n"
      ],
      "text/plain": [
       "<IPython.core.display.HTML object>"
      ]
     },
     "metadata": {},
     "output_type": "display_data"
    },
    {
     "name": "stdout",
     "output_type": "stream",
     "text": [
      "/kaggle/input/jane-street-market-prediction/example_test.csv\n",
      "/kaggle/input/jane-street-market-prediction/example_sample_submission.csv\n",
      "/kaggle/input/jane-street-market-prediction/features.csv\n",
      "/kaggle/input/jane-street-market-prediction/train.csv\n",
      "/kaggle/input/jane-street-market-prediction/janestreet/__init__.py\n",
      "/kaggle/input/jane-street-market-prediction/janestreet/competition.cpython-37m-x86_64-linux-gnu.so\n",
      "/kaggle/input/python-datatable/datatable-0.11.0-cp37-cp37m-manylinux2010_x86_64.whl\n"
     ]
    }
   ],
   "source": [
    "# This Python 3 environment comes with many helpful analytics libraries installed\n",
    "# It is defined by the kaggle/python Docker image: https://github.com/kaggle/docker-python\n",
    "# For example, here's several helpful packages to load\n",
    "\n",
    "import numpy as np # linear algebra\n",
    "import pandas as pd # data processing, CSV file I/O (e.g. pd.read_csv)\n",
    "\n",
    "import matplotlib.pyplot as plt\n",
    "import seaborn as sns\n",
    "\n",
    "from sklearn.model_selection import train_test_split\n",
    "from sklearn.metrics import accuracy_score\n",
    "from xgboost import XGBClassifier\n",
    "\n",
    "from sklearn.model_selection import TimeSeriesSplit, GridSearchCV\n",
    "\n",
    "#import janestreet\n",
    "#env = janestreet.make_env() # initialize the environment\n",
    "\n",
    "#!pip install datatable # Internet is not activated in this competition\n",
    "!pip install ../input/python-datatable/datatable-0.11.0-cp37-cp37m-manylinux2010_x86_64.whl\n",
    "import datatable as dt\n",
    "\n",
    "import pickle\n",
    "MODEL_FILE = '/kaggle/working/model.pickle'\n",
    "\n",
    "#import xgboost as xgb\n",
    "\n",
    "# Input data files are available in the read-only \"../input/\" directory\n",
    "# For example, running this (by clicking run or pressing Shift+Enter) will list all files under the input directory\n",
    "\n",
    "import os\n",
    "for dirname, _, filenames in os.walk('/kaggle/input'):\n",
    "    for filename in filenames:\n",
    "        print(os.path.join(dirname, filename))\n",
    "\n",
    "# You can write up to 20GB to the current directory (/kaggle/working/) that gets preserved as output when you create a version using \"Save & Run All\" \n",
    "# You can also write temporary files to /kaggle/temp/, but they won't be saved outside of the current session\n",
    "\n",
    "INPUT_DIR = '/kaggle/input/jane-street-market-prediction/'"
   ]
  },
  {
   "cell_type": "markdown",
   "metadata": {
    "papermill": {
     "duration": 0.038721,
     "end_time": "2020-11-30T18:28:52.731982",
     "exception": false,
     "start_time": "2020-11-30T18:28:52.693261",
     "status": "completed"
    },
    "tags": []
   },
   "source": [
    "Thanks to following notebooks :  \n",
    "https://www.kaggle.com/drcapa/jane-street-market-prediction-starter-xgb/output?select=example_sample_submission.csv"
   ]
  },
  {
   "cell_type": "markdown",
   "metadata": {
    "papermill": {
     "duration": 0.040921,
     "end_time": "2020-11-30T18:28:52.813516",
     "exception": false,
     "start_time": "2020-11-30T18:28:52.772595",
     "status": "completed"
    },
    "tags": []
   },
   "source": [
    "# Load data"
   ]
  },
  {
   "cell_type": "code",
   "execution_count": 2,
   "metadata": {
    "_cell_guid": "79c7e3d0-c299-4dcb-8224-4455121ee9b0",
    "_uuid": "d629ff2d2480ee46fbb7e2d37f6b5fab8052498a",
    "execution": {
     "iopub.execute_input": "2020-11-30T18:28:52.904395Z",
     "iopub.status.busy": "2020-11-30T18:28:52.903426Z",
     "iopub.status.idle": "2020-11-30T18:29:28.611426Z",
     "shell.execute_reply": "2020-11-30T18:29:28.610540Z"
    },
    "papermill": {
     "duration": 35.757964,
     "end_time": "2020-11-30T18:29:28.611577",
     "exception": false,
     "start_time": "2020-11-30T18:28:52.853613",
     "status": "completed"
    },
    "tags": []
   },
   "outputs": [
    {
     "name": "stdout",
     "output_type": "stream",
     "text": [
      "CPU times: user 33.9 s, sys: 12.7 s, total: 46.5 s\n",
      "Wall time: 35.6 s\n"
     ]
    }
   ],
   "source": [
    "%%time\n",
    "# Thanks to his notebook for this fast loading : https://www.kaggle.com/carlmcbrideellis/jane-street-eda-of-day-0-and-feature-importance\n",
    "train_data_datatable = dt.fread('../input/jane-street-market-prediction/train.csv')\n",
    "df = train_data_datatable.to_pandas()\n",
    "\n",
    "# Thanks to this notebook to gain memory usage : https://www.kaggle.com/jorijnsmit/one-liner-to-halve-your-memory-usage\n",
    "float64_cols = df.select_dtypes(include='float64').columns\n",
    "mapper = {col_name: np.float32 for col_name in float64_cols}\n",
    "df = df.astype(mapper)"
   ]
  },
  {
   "cell_type": "code",
   "execution_count": 3,
   "metadata": {
    "execution": {
     "iopub.execute_input": "2020-11-30T18:29:28.733561Z",
     "iopub.status.busy": "2020-11-30T18:29:28.732719Z",
     "iopub.status.idle": "2020-11-30T18:29:28.739577Z",
     "shell.execute_reply": "2020-11-30T18:29:28.740607Z"
    },
    "papermill": {
     "duration": 0.075162,
     "end_time": "2020-11-30T18:29:28.740787",
     "exception": false,
     "start_time": "2020-11-30T18:29:28.665625",
     "status": "completed"
    },
    "tags": []
   },
   "outputs": [
    {
     "data": {
      "text/plain": [
       "976.0646"
      ]
     },
     "execution_count": 3,
     "metadata": {},
     "output_type": "execute_result"
    }
   ],
   "source": [
    "df['resp'].sum()"
   ]
  },
  {
   "cell_type": "markdown",
   "metadata": {
    "papermill": {
     "duration": 0.056248,
     "end_time": "2020-11-30T18:29:28.856165",
     "exception": false,
     "start_time": "2020-11-30T18:29:28.799917",
     "status": "completed"
    },
    "tags": []
   },
   "source": [
    "# Calculate target to predict"
   ]
  },
  {
   "cell_type": "code",
   "execution_count": 4,
   "metadata": {
    "execution": {
     "iopub.execute_input": "2020-11-30T18:29:28.955916Z",
     "iopub.status.busy": "2020-11-30T18:29:28.954946Z",
     "iopub.status.idle": "2020-11-30T18:29:29.364796Z",
     "shell.execute_reply": "2020-11-30T18:29:29.364268Z"
    },
    "papermill": {
     "duration": 0.457379,
     "end_time": "2020-11-30T18:29:29.364919",
     "exception": false,
     "start_time": "2020-11-30T18:29:28.907540",
     "status": "completed"
    },
    "tags": []
   },
   "outputs": [
    {
     "data": {
      "text/plain": [
       "0.0022803622763603927"
      ]
     },
     "execution_count": 4,
     "metadata": {},
     "output_type": "execute_result"
    }
   ],
   "source": [
    "df[df['resp'] > 0]['resp'].quantile(0.20)"
   ]
  },
  {
   "cell_type": "code",
   "execution_count": 5,
   "metadata": {
    "execution": {
     "iopub.execute_input": "2020-11-30T18:29:29.454797Z",
     "iopub.status.busy": "2020-11-30T18:29:29.453792Z",
     "iopub.status.idle": "2020-11-30T18:29:30.276669Z",
     "shell.execute_reply": "2020-11-30T18:29:30.277852Z"
    },
    "papermill": {
     "duration": 0.872711,
     "end_time": "2020-11-30T18:29:30.278055",
     "exception": false,
     "start_time": "2020-11-30T18:29:29.405344",
     "status": "completed"
    },
    "tags": []
   },
   "outputs": [
    {
     "data": {
      "text/plain": [
       "0.799999834021315"
      ]
     },
     "execution_count": 5,
     "metadata": {},
     "output_type": "execute_result"
    }
   ],
   "source": [
    "df[df['resp'] > 0.0022803622763603927].shape[0] / df[df['resp'] > 0].shape[0]"
   ]
  },
  {
   "cell_type": "code",
   "execution_count": 6,
   "metadata": {
    "execution": {
     "iopub.execute_input": "2020-11-30T18:29:30.409752Z",
     "iopub.status.busy": "2020-11-30T18:29:30.408852Z",
     "iopub.status.idle": "2020-11-30T18:29:30.413296Z",
     "shell.execute_reply": "2020-11-30T18:29:30.414307Z"
    },
    "papermill": {
     "duration": 0.075826,
     "end_time": "2020-11-30T18:29:30.414467",
     "exception": false,
     "start_time": "2020-11-30T18:29:30.338641",
     "status": "completed"
    },
    "tags": []
   },
   "outputs": [
    {
     "data": {
      "text/plain": [
       "0.4484615921974182"
      ]
     },
     "execution_count": 6,
     "metadata": {},
     "output_type": "execute_result"
    }
   ],
   "source": [
    "df['resp'].max()"
   ]
  },
  {
   "cell_type": "code",
   "execution_count": 7,
   "metadata": {
    "execution": {
     "iopub.execute_input": "2020-11-30T18:29:30.507917Z",
     "iopub.status.busy": "2020-11-30T18:29:30.506504Z",
     "iopub.status.idle": "2020-11-30T18:29:30.524202Z",
     "shell.execute_reply": "2020-11-30T18:29:30.524754Z"
    },
    "papermill": {
     "duration": 0.06629,
     "end_time": "2020-11-30T18:29:30.524931",
     "exception": false,
     "start_time": "2020-11-30T18:29:30.458641",
     "status": "completed"
    },
    "tags": []
   },
   "outputs": [],
   "source": [
    "df['resp_positive'] = ((df['resp'])>0)*1"
   ]
  },
  {
   "cell_type": "markdown",
   "metadata": {
    "papermill": {
     "duration": 0.041123,
     "end_time": "2020-11-30T18:29:30.607377",
     "exception": false,
     "start_time": "2020-11-30T18:29:30.566254",
     "status": "completed"
    },
    "tags": []
   },
   "source": [
    "# Split train test"
   ]
  },
  {
   "cell_type": "code",
   "execution_count": 8,
   "metadata": {
    "execution": {
     "iopub.execute_input": "2020-11-30T18:29:30.704316Z",
     "iopub.status.busy": "2020-11-30T18:29:30.703334Z",
     "iopub.status.idle": "2020-11-30T18:29:32.606868Z",
     "shell.execute_reply": "2020-11-30T18:29:32.606281Z"
    },
    "papermill": {
     "duration": 1.952445,
     "end_time": "2020-11-30T18:29:32.607002",
     "exception": false,
     "start_time": "2020-11-30T18:29:30.654557",
     "status": "completed"
    },
    "tags": []
   },
   "outputs": [],
   "source": [
    "tscv = TimeSeriesSplit(n_splits=10)\n",
    "\n",
    "for (train_index, test_index) in tscv.split(df):\n",
    "    pass\n",
    "\n",
    "df_train, df_test = df.loc[train_index], df.loc[test_index]\n",
    "y_train, y_test = df.loc[train_index]['resp_positive'], df.loc[test_index]['resp_positive']"
   ]
  },
  {
   "cell_type": "code",
   "execution_count": 9,
   "metadata": {
    "execution": {
     "iopub.execute_input": "2020-11-30T18:29:32.695306Z",
     "iopub.status.busy": "2020-11-30T18:29:32.694466Z",
     "iopub.status.idle": "2020-11-30T18:29:32.697778Z",
     "shell.execute_reply": "2020-11-30T18:29:32.698398Z"
    },
    "papermill": {
     "duration": 0.050322,
     "end_time": "2020-11-30T18:29:32.698524",
     "exception": false,
     "start_time": "2020-11-30T18:29:32.648202",
     "status": "completed"
    },
    "tags": []
   },
   "outputs": [
    {
     "data": {
      "text/plain": [
       "(2173174, 139)"
      ]
     },
     "execution_count": 9,
     "metadata": {},
     "output_type": "execute_result"
    }
   ],
   "source": [
    "df_train.shape"
   ]
  },
  {
   "cell_type": "code",
   "execution_count": 10,
   "metadata": {
    "execution": {
     "iopub.execute_input": "2020-11-30T18:29:32.792447Z",
     "iopub.status.busy": "2020-11-30T18:29:32.791546Z",
     "iopub.status.idle": "2020-11-30T18:29:32.796941Z",
     "shell.execute_reply": "2020-11-30T18:29:32.796382Z"
    },
    "papermill": {
     "duration": 0.056629,
     "end_time": "2020-11-30T18:29:32.797059",
     "exception": false,
     "start_time": "2020-11-30T18:29:32.740430",
     "status": "completed"
    },
    "tags": []
   },
   "outputs": [
    {
     "data": {
      "text/plain": [
       "(217317, 139)"
      ]
     },
     "execution_count": 10,
     "metadata": {},
     "output_type": "execute_result"
    }
   ],
   "source": [
    "df_test.shape"
   ]
  },
  {
   "cell_type": "code",
   "execution_count": 11,
   "metadata": {
    "execution": {
     "iopub.execute_input": "2020-11-30T18:29:32.889102Z",
     "iopub.status.busy": "2020-11-30T18:29:32.888286Z",
     "iopub.status.idle": "2020-11-30T18:29:32.891943Z",
     "shell.execute_reply": "2020-11-30T18:29:32.892450Z"
    },
    "papermill": {
     "duration": 0.052629,
     "end_time": "2020-11-30T18:29:32.892591",
     "exception": false,
     "start_time": "2020-11-30T18:29:32.839962",
     "status": "completed"
    },
    "tags": []
   },
   "outputs": [
    {
     "data": {
      "text/plain": [
       "0.09090893879123578"
      ]
     },
     "execution_count": 11,
     "metadata": {},
     "output_type": "execute_result"
    }
   ],
   "source": [
    "df_test.shape[0] / df.shape[0]"
   ]
  },
  {
   "cell_type": "code",
   "execution_count": 12,
   "metadata": {
    "execution": {
     "iopub.execute_input": "2020-11-30T18:29:33.001998Z",
     "iopub.status.busy": "2020-11-30T18:29:33.000705Z",
     "iopub.status.idle": "2020-11-30T18:29:33.004579Z",
     "shell.execute_reply": "2020-11-30T18:29:33.005235Z"
    },
    "papermill": {
     "duration": 0.069512,
     "end_time": "2020-11-30T18:29:33.005393",
     "exception": false,
     "start_time": "2020-11-30T18:29:32.935881",
     "status": "completed"
    },
    "tags": []
   },
   "outputs": [
    {
     "data": {
      "text/plain": [
       "True"
      ]
     },
     "execution_count": 12,
     "metadata": {},
     "output_type": "execute_result"
    }
   ],
   "source": [
    "(df_train.shape[0] + df_test.shape[0]) == df.shape[0]"
   ]
  },
  {
   "cell_type": "code",
   "execution_count": 13,
   "metadata": {
    "execution": {
     "iopub.execute_input": "2020-11-30T18:29:33.102041Z",
     "iopub.status.busy": "2020-11-30T18:29:33.101178Z",
     "iopub.status.idle": "2020-11-30T18:29:33.104406Z",
     "shell.execute_reply": "2020-11-30T18:29:33.103783Z"
    },
    "papermill": {
     "duration": 0.050393,
     "end_time": "2020-11-30T18:29:33.104514",
     "exception": false,
     "start_time": "2020-11-30T18:29:33.054121",
     "status": "completed"
    },
    "tags": []
   },
   "outputs": [],
   "source": [
    "#df_train, df_test, y_train, y_test = train_test_split(df, df['resp_positive'], test_size = 0.1, stratify=df['resp_positive'], random_state=42)"
   ]
  },
  {
   "cell_type": "code",
   "execution_count": 14,
   "metadata": {
    "execution": {
     "iopub.execute_input": "2020-11-30T18:29:33.202480Z",
     "iopub.status.busy": "2020-11-30T18:29:33.201612Z",
     "iopub.status.idle": "2020-11-30T18:29:33.204351Z",
     "shell.execute_reply": "2020-11-30T18:29:33.203786Z"
    },
    "papermill": {
     "duration": 0.050374,
     "end_time": "2020-11-30T18:29:33.204448",
     "exception": false,
     "start_time": "2020-11-30T18:29:33.154074",
     "status": "completed"
    },
    "tags": []
   },
   "outputs": [],
   "source": [
    "df_test.reset_index(drop=True, inplace=True)"
   ]
  },
  {
   "cell_type": "code",
   "execution_count": 15,
   "metadata": {
    "execution": {
     "iopub.execute_input": "2020-11-30T18:29:33.299642Z",
     "iopub.status.busy": "2020-11-30T18:29:33.298764Z",
     "iopub.status.idle": "2020-11-30T18:29:33.301125Z",
     "shell.execute_reply": "2020-11-30T18:29:33.301558Z"
    },
    "papermill": {
     "duration": 0.051461,
     "end_time": "2020-11-30T18:29:33.301686",
     "exception": false,
     "start_time": "2020-11-30T18:29:33.250225",
     "status": "completed"
    },
    "tags": []
   },
   "outputs": [],
   "source": [
    "df_train.reset_index(drop=True, inplace=True)"
   ]
  },
  {
   "cell_type": "markdown",
   "metadata": {
    "papermill": {
     "duration": 0.043652,
     "end_time": "2020-11-30T18:29:33.388069",
     "exception": false,
     "start_time": "2020-11-30T18:29:33.344417",
     "status": "completed"
    },
    "tags": []
   },
   "source": [
    "# Data clean"
   ]
  },
  {
   "cell_type": "code",
   "execution_count": 16,
   "metadata": {
    "execution": {
     "iopub.execute_input": "2020-11-30T18:29:33.480038Z",
     "iopub.status.busy": "2020-11-30T18:29:33.479173Z",
     "iopub.status.idle": "2020-11-30T18:29:33.642478Z",
     "shell.execute_reply": "2020-11-30T18:29:33.641905Z"
    },
    "papermill": {
     "duration": 0.211413,
     "end_time": "2020-11-30T18:29:33.642589",
     "exception": false,
     "start_time": "2020-11-30T18:29:33.431176",
     "status": "completed"
    },
    "tags": []
   },
   "outputs": [],
   "source": [
    "cols_with_missing_train = [col for col in df_train.columns if df_train[col].isnull().any()]"
   ]
  },
  {
   "cell_type": "code",
   "execution_count": 17,
   "metadata": {
    "execution": {
     "iopub.execute_input": "2020-11-30T18:29:33.964557Z",
     "iopub.status.busy": "2020-11-30T18:29:33.963325Z",
     "iopub.status.idle": "2020-11-30T18:29:34.255759Z",
     "shell.execute_reply": "2020-11-30T18:29:34.255164Z"
    },
    "papermill": {
     "duration": 0.568368,
     "end_time": "2020-11-30T18:29:34.255902",
     "exception": false,
     "start_time": "2020-11-30T18:29:33.687534",
     "status": "completed"
    },
    "tags": []
   },
   "outputs": [],
   "source": [
    "#df_medians = df_train[cols_with_missing_train].median()\n",
    "#df_train.loc[:, cols_with_missing_train].fillna(df_medians, inplace=True)\n",
    "df_train.loc[:, cols_with_missing_train].fillna(-999, inplace=True)"
   ]
  },
  {
   "cell_type": "code",
   "execution_count": 18,
   "metadata": {
    "execution": {
     "iopub.execute_input": "2020-11-30T18:29:34.398737Z",
     "iopub.status.busy": "2020-11-30T18:29:34.397197Z",
     "iopub.status.idle": "2020-11-30T18:29:34.425552Z",
     "shell.execute_reply": "2020-11-30T18:29:34.425018Z"
    },
    "papermill": {
     "duration": 0.123389,
     "end_time": "2020-11-30T18:29:34.425667",
     "exception": false,
     "start_time": "2020-11-30T18:29:34.302278",
     "status": "completed"
    },
    "tags": []
   },
   "outputs": [],
   "source": [
    "#df_test.loc[:, cols_with_missing_train].fillna(df_medians, inplace=True)\n",
    "df_test.loc[:, cols_with_missing_train].fillna(-999, inplace=True)"
   ]
  },
  {
   "cell_type": "markdown",
   "metadata": {
    "papermill": {
     "duration": 0.04675,
     "end_time": "2020-11-30T18:29:34.516662",
     "exception": false,
     "start_time": "2020-11-30T18:29:34.469912",
     "status": "completed"
    },
    "tags": []
   },
   "source": [
    "# Feature definition"
   ]
  },
  {
   "cell_type": "code",
   "execution_count": 19,
   "metadata": {
    "execution": {
     "iopub.execute_input": "2020-11-30T18:29:34.689916Z",
     "iopub.status.busy": "2020-11-30T18:29:34.688596Z",
     "iopub.status.idle": "2020-11-30T18:29:34.954734Z",
     "shell.execute_reply": "2020-11-30T18:29:34.955231Z"
    },
    "papermill": {
     "duration": 0.394729,
     "end_time": "2020-11-30T18:29:34.955372",
     "exception": false,
     "start_time": "2020-11-30T18:29:34.560643",
     "status": "completed"
    },
    "tags": []
   },
   "outputs": [
    {
     "data": {
      "text/html": [
       "<div>\n",
       "<style scoped>\n",
       "    .dataframe tbody tr th:only-of-type {\n",
       "        vertical-align: middle;\n",
       "    }\n",
       "\n",
       "    .dataframe tbody tr th {\n",
       "        vertical-align: top;\n",
       "    }\n",
       "\n",
       "    .dataframe thead th {\n",
       "        text-align: right;\n",
       "    }\n",
       "</style>\n",
       "<table border=\"1\" class=\"dataframe\">\n",
       "  <thead>\n",
       "    <tr style=\"text-align: right;\">\n",
       "      <th></th>\n",
       "      <th>date</th>\n",
       "      <th>weight</th>\n",
       "      <th>resp_1</th>\n",
       "      <th>resp_2</th>\n",
       "      <th>resp_3</th>\n",
       "      <th>resp_4</th>\n",
       "      <th>resp</th>\n",
       "      <th>feature_0</th>\n",
       "      <th>feature_1</th>\n",
       "      <th>feature_2</th>\n",
       "      <th>...</th>\n",
       "      <th>feature_122</th>\n",
       "      <th>feature_123</th>\n",
       "      <th>feature_124</th>\n",
       "      <th>feature_125</th>\n",
       "      <th>feature_126</th>\n",
       "      <th>feature_127</th>\n",
       "      <th>feature_128</th>\n",
       "      <th>feature_129</th>\n",
       "      <th>ts_id</th>\n",
       "      <th>resp_positive</th>\n",
       "    </tr>\n",
       "  </thead>\n",
       "  <tbody>\n",
       "    <tr>\n",
       "      <th>0</th>\n",
       "      <td>0</td>\n",
       "      <td>0.000000</td>\n",
       "      <td>0.009916</td>\n",
       "      <td>0.014079</td>\n",
       "      <td>0.008773</td>\n",
       "      <td>0.001390</td>\n",
       "      <td>0.006270</td>\n",
       "      <td>1</td>\n",
       "      <td>-1.872746</td>\n",
       "      <td>-2.191242</td>\n",
       "      <td>...</td>\n",
       "      <td>1.168391</td>\n",
       "      <td>8.313582</td>\n",
       "      <td>1.782433</td>\n",
       "      <td>14.018213</td>\n",
       "      <td>2.653056</td>\n",
       "      <td>12.600291</td>\n",
       "      <td>2.301488</td>\n",
       "      <td>11.445807</td>\n",
       "      <td>0</td>\n",
       "      <td>1</td>\n",
       "    </tr>\n",
       "    <tr>\n",
       "      <th>1</th>\n",
       "      <td>0</td>\n",
       "      <td>16.673515</td>\n",
       "      <td>-0.002828</td>\n",
       "      <td>-0.003226</td>\n",
       "      <td>-0.007319</td>\n",
       "      <td>-0.011114</td>\n",
       "      <td>-0.009792</td>\n",
       "      <td>-1</td>\n",
       "      <td>-1.349537</td>\n",
       "      <td>-1.704709</td>\n",
       "      <td>...</td>\n",
       "      <td>-1.178850</td>\n",
       "      <td>1.777472</td>\n",
       "      <td>-0.915459</td>\n",
       "      <td>2.831612</td>\n",
       "      <td>-1.417010</td>\n",
       "      <td>2.297459</td>\n",
       "      <td>-1.304614</td>\n",
       "      <td>1.898684</td>\n",
       "      <td>1</td>\n",
       "      <td>0</td>\n",
       "    </tr>\n",
       "    <tr>\n",
       "      <th>2</th>\n",
       "      <td>0</td>\n",
       "      <td>0.000000</td>\n",
       "      <td>0.025134</td>\n",
       "      <td>0.027607</td>\n",
       "      <td>0.033406</td>\n",
       "      <td>0.034380</td>\n",
       "      <td>0.023970</td>\n",
       "      <td>-1</td>\n",
       "      <td>0.812780</td>\n",
       "      <td>-0.256156</td>\n",
       "      <td>...</td>\n",
       "      <td>6.115747</td>\n",
       "      <td>9.667908</td>\n",
       "      <td>5.542871</td>\n",
       "      <td>11.671595</td>\n",
       "      <td>7.281757</td>\n",
       "      <td>10.060014</td>\n",
       "      <td>6.638248</td>\n",
       "      <td>9.427299</td>\n",
       "      <td>2</td>\n",
       "      <td>1</td>\n",
       "    </tr>\n",
       "    <tr>\n",
       "      <th>3</th>\n",
       "      <td>0</td>\n",
       "      <td>0.000000</td>\n",
       "      <td>-0.004730</td>\n",
       "      <td>-0.003273</td>\n",
       "      <td>-0.000461</td>\n",
       "      <td>-0.000476</td>\n",
       "      <td>-0.003200</td>\n",
       "      <td>-1</td>\n",
       "      <td>1.174379</td>\n",
       "      <td>0.344640</td>\n",
       "      <td>...</td>\n",
       "      <td>2.838853</td>\n",
       "      <td>0.499251</td>\n",
       "      <td>3.033731</td>\n",
       "      <td>1.513488</td>\n",
       "      <td>4.397532</td>\n",
       "      <td>1.266037</td>\n",
       "      <td>3.856384</td>\n",
       "      <td>1.013469</td>\n",
       "      <td>3</td>\n",
       "      <td>0</td>\n",
       "    </tr>\n",
       "    <tr>\n",
       "      <th>4</th>\n",
       "      <td>0</td>\n",
       "      <td>0.138531</td>\n",
       "      <td>0.001252</td>\n",
       "      <td>0.002165</td>\n",
       "      <td>-0.001215</td>\n",
       "      <td>-0.006219</td>\n",
       "      <td>-0.002604</td>\n",
       "      <td>1</td>\n",
       "      <td>-3.172026</td>\n",
       "      <td>-3.093182</td>\n",
       "      <td>...</td>\n",
       "      <td>0.344850</td>\n",
       "      <td>4.101145</td>\n",
       "      <td>0.614252</td>\n",
       "      <td>6.623456</td>\n",
       "      <td>0.800129</td>\n",
       "      <td>5.233243</td>\n",
       "      <td>0.362636</td>\n",
       "      <td>3.926633</td>\n",
       "      <td>4</td>\n",
       "      <td>0</td>\n",
       "    </tr>\n",
       "    <tr>\n",
       "      <th>...</th>\n",
       "      <td>...</td>\n",
       "      <td>...</td>\n",
       "      <td>...</td>\n",
       "      <td>...</td>\n",
       "      <td>...</td>\n",
       "      <td>...</td>\n",
       "      <td>...</td>\n",
       "      <td>...</td>\n",
       "      <td>...</td>\n",
       "      <td>...</td>\n",
       "      <td>...</td>\n",
       "      <td>...</td>\n",
       "      <td>...</td>\n",
       "      <td>...</td>\n",
       "      <td>...</td>\n",
       "      <td>...</td>\n",
       "      <td>...</td>\n",
       "      <td>...</td>\n",
       "      <td>...</td>\n",
       "      <td>...</td>\n",
       "      <td>...</td>\n",
       "    </tr>\n",
       "    <tr>\n",
       "      <th>2390486</th>\n",
       "      <td>499</td>\n",
       "      <td>0.000000</td>\n",
       "      <td>0.000142</td>\n",
       "      <td>0.000142</td>\n",
       "      <td>0.005829</td>\n",
       "      <td>0.020342</td>\n",
       "      <td>0.015396</td>\n",
       "      <td>1</td>\n",
       "      <td>-1.649365</td>\n",
       "      <td>-1.169997</td>\n",
       "      <td>...</td>\n",
       "      <td>-1.260055</td>\n",
       "      <td>1.947725</td>\n",
       "      <td>-1.994399</td>\n",
       "      <td>-1.685163</td>\n",
       "      <td>-2.866165</td>\n",
       "      <td>-0.216130</td>\n",
       "      <td>-1.892048</td>\n",
       "      <td>0.901585</td>\n",
       "      <td>2390486</td>\n",
       "      <td>1</td>\n",
       "    </tr>\n",
       "    <tr>\n",
       "      <th>2390487</th>\n",
       "      <td>499</td>\n",
       "      <td>0.000000</td>\n",
       "      <td>0.000012</td>\n",
       "      <td>0.000012</td>\n",
       "      <td>-0.000935</td>\n",
       "      <td>-0.006326</td>\n",
       "      <td>-0.004718</td>\n",
       "      <td>1</td>\n",
       "      <td>2.432943</td>\n",
       "      <td>5.284504</td>\n",
       "      <td>...</td>\n",
       "      <td>1.064936</td>\n",
       "      <td>3.119762</td>\n",
       "      <td>-0.419796</td>\n",
       "      <td>-0.208975</td>\n",
       "      <td>-0.146749</td>\n",
       "      <td>0.730166</td>\n",
       "      <td>0.648452</td>\n",
       "      <td>2.068737</td>\n",
       "      <td>2390487</td>\n",
       "      <td>0</td>\n",
       "    </tr>\n",
       "    <tr>\n",
       "      <th>2390488</th>\n",
       "      <td>499</td>\n",
       "      <td>0.000000</td>\n",
       "      <td>0.000499</td>\n",
       "      <td>0.000499</td>\n",
       "      <td>0.007605</td>\n",
       "      <td>0.024907</td>\n",
       "      <td>0.016591</td>\n",
       "      <td>1</td>\n",
       "      <td>-0.622475</td>\n",
       "      <td>-0.963682</td>\n",
       "      <td>...</td>\n",
       "      <td>-0.640334</td>\n",
       "      <td>-2.279663</td>\n",
       "      <td>-0.950259</td>\n",
       "      <td>-4.388417</td>\n",
       "      <td>-1.669922</td>\n",
       "      <td>-3.288939</td>\n",
       "      <td>-1.336142</td>\n",
       "      <td>-2.814239</td>\n",
       "      <td>2390488</td>\n",
       "      <td>1</td>\n",
       "    </tr>\n",
       "    <tr>\n",
       "      <th>2390489</th>\n",
       "      <td>499</td>\n",
       "      <td>0.283405</td>\n",
       "      <td>-0.000156</td>\n",
       "      <td>-0.000156</td>\n",
       "      <td>-0.001375</td>\n",
       "      <td>-0.003702</td>\n",
       "      <td>-0.002004</td>\n",
       "      <td>-1</td>\n",
       "      <td>-1.463757</td>\n",
       "      <td>-1.107228</td>\n",
       "      <td>...</td>\n",
       "      <td>-1.780962</td>\n",
       "      <td>0.881246</td>\n",
       "      <td>-2.202140</td>\n",
       "      <td>-1.912601</td>\n",
       "      <td>-3.341684</td>\n",
       "      <td>-0.571187</td>\n",
       "      <td>-2.185795</td>\n",
       "      <td>0.627452</td>\n",
       "      <td>2390489</td>\n",
       "      <td>0</td>\n",
       "    </tr>\n",
       "    <tr>\n",
       "      <th>2390490</th>\n",
       "      <td>499</td>\n",
       "      <td>0.000000</td>\n",
       "      <td>-0.001855</td>\n",
       "      <td>-0.001855</td>\n",
       "      <td>-0.001194</td>\n",
       "      <td>-0.000864</td>\n",
       "      <td>-0.001905</td>\n",
       "      <td>-1</td>\n",
       "      <td>-1.817184</td>\n",
       "      <td>-1.131577</td>\n",
       "      <td>...</td>\n",
       "      <td>2.483421</td>\n",
       "      <td>8.284038</td>\n",
       "      <td>-0.698486</td>\n",
       "      <td>0.199953</td>\n",
       "      <td>-0.168395</td>\n",
       "      <td>2.051091</td>\n",
       "      <td>1.726072</td>\n",
       "      <td>5.823676</td>\n",
       "      <td>2390490</td>\n",
       "      <td>0</td>\n",
       "    </tr>\n",
       "  </tbody>\n",
       "</table>\n",
       "<p>2390491 rows × 139 columns</p>\n",
       "</div>"
      ],
      "text/plain": [
       "         date     weight    resp_1    resp_2    resp_3    resp_4      resp  \\\n",
       "0           0   0.000000  0.009916  0.014079  0.008773  0.001390  0.006270   \n",
       "1           0  16.673515 -0.002828 -0.003226 -0.007319 -0.011114 -0.009792   \n",
       "2           0   0.000000  0.025134  0.027607  0.033406  0.034380  0.023970   \n",
       "3           0   0.000000 -0.004730 -0.003273 -0.000461 -0.000476 -0.003200   \n",
       "4           0   0.138531  0.001252  0.002165 -0.001215 -0.006219 -0.002604   \n",
       "...       ...        ...       ...       ...       ...       ...       ...   \n",
       "2390486   499   0.000000  0.000142  0.000142  0.005829  0.020342  0.015396   \n",
       "2390487   499   0.000000  0.000012  0.000012 -0.000935 -0.006326 -0.004718   \n",
       "2390488   499   0.000000  0.000499  0.000499  0.007605  0.024907  0.016591   \n",
       "2390489   499   0.283405 -0.000156 -0.000156 -0.001375 -0.003702 -0.002004   \n",
       "2390490   499   0.000000 -0.001855 -0.001855 -0.001194 -0.000864 -0.001905   \n",
       "\n",
       "         feature_0  feature_1  feature_2  ...  feature_122  feature_123  \\\n",
       "0                1  -1.872746  -2.191242  ...     1.168391     8.313582   \n",
       "1               -1  -1.349537  -1.704709  ...    -1.178850     1.777472   \n",
       "2               -1   0.812780  -0.256156  ...     6.115747     9.667908   \n",
       "3               -1   1.174379   0.344640  ...     2.838853     0.499251   \n",
       "4                1  -3.172026  -3.093182  ...     0.344850     4.101145   \n",
       "...            ...        ...        ...  ...          ...          ...   \n",
       "2390486          1  -1.649365  -1.169997  ...    -1.260055     1.947725   \n",
       "2390487          1   2.432943   5.284504  ...     1.064936     3.119762   \n",
       "2390488          1  -0.622475  -0.963682  ...    -0.640334    -2.279663   \n",
       "2390489         -1  -1.463757  -1.107228  ...    -1.780962     0.881246   \n",
       "2390490         -1  -1.817184  -1.131577  ...     2.483421     8.284038   \n",
       "\n",
       "         feature_124  feature_125  feature_126  feature_127  feature_128  \\\n",
       "0           1.782433    14.018213     2.653056    12.600291     2.301488   \n",
       "1          -0.915459     2.831612    -1.417010     2.297459    -1.304614   \n",
       "2           5.542871    11.671595     7.281757    10.060014     6.638248   \n",
       "3           3.033731     1.513488     4.397532     1.266037     3.856384   \n",
       "4           0.614252     6.623456     0.800129     5.233243     0.362636   \n",
       "...              ...          ...          ...          ...          ...   \n",
       "2390486    -1.994399    -1.685163    -2.866165    -0.216130    -1.892048   \n",
       "2390487    -0.419796    -0.208975    -0.146749     0.730166     0.648452   \n",
       "2390488    -0.950259    -4.388417    -1.669922    -3.288939    -1.336142   \n",
       "2390489    -2.202140    -1.912601    -3.341684    -0.571187    -2.185795   \n",
       "2390490    -0.698486     0.199953    -0.168395     2.051091     1.726072   \n",
       "\n",
       "         feature_129    ts_id  resp_positive  \n",
       "0          11.445807        0              1  \n",
       "1           1.898684        1              0  \n",
       "2           9.427299        2              1  \n",
       "3           1.013469        3              0  \n",
       "4           3.926633        4              0  \n",
       "...              ...      ...            ...  \n",
       "2390486     0.901585  2390486              1  \n",
       "2390487     2.068737  2390487              0  \n",
       "2390488    -2.814239  2390488              1  \n",
       "2390489     0.627452  2390489              0  \n",
       "2390490     5.823676  2390490              0  \n",
       "\n",
       "[2390491 rows x 139 columns]"
      ]
     },
     "execution_count": 19,
     "metadata": {},
     "output_type": "execute_result"
    }
   ],
   "source": [
    "df"
   ]
  },
  {
   "cell_type": "code",
   "execution_count": 20,
   "metadata": {
    "execution": {
     "iopub.execute_input": "2020-11-30T18:29:35.052846Z",
     "iopub.status.busy": "2020-11-30T18:29:35.051029Z",
     "iopub.status.idle": "2020-11-30T18:29:35.053488Z",
     "shell.execute_reply": "2020-11-30T18:29:35.053958Z"
    },
    "papermill": {
     "duration": 0.052827,
     "end_time": "2020-11-30T18:29:35.054079",
     "exception": false,
     "start_time": "2020-11-30T18:29:35.001252",
     "status": "completed"
    },
    "tags": []
   },
   "outputs": [],
   "source": [
    "FEATURES_LIST = ['feature_'+str(i) for i in range(130)] + ['weight']"
   ]
  },
  {
   "cell_type": "markdown",
   "metadata": {
    "papermill": {
     "duration": 0.046929,
     "end_time": "2020-11-30T18:29:35.146442",
     "exception": false,
     "start_time": "2020-11-30T18:29:35.099513",
     "status": "completed"
    },
    "tags": []
   },
   "source": [
    "# Utility calculation function"
   ]
  },
  {
   "cell_type": "code",
   "execution_count": 21,
   "metadata": {
    "execution": {
     "iopub.execute_input": "2020-11-30T18:29:35.247795Z",
     "iopub.status.busy": "2020-11-30T18:29:35.246802Z",
     "iopub.status.idle": "2020-11-30T18:29:35.249847Z",
     "shell.execute_reply": "2020-11-30T18:29:35.249368Z"
    },
    "papermill": {
     "duration": 0.05759,
     "end_time": "2020-11-30T18:29:35.249954",
     "exception": false,
     "start_time": "2020-11-30T18:29:35.192364",
     "status": "completed"
    },
    "tags": []
   },
   "outputs": [],
   "source": [
    "def utility_function(df_test, df_test_predictions):\n",
    "    df_test.loc[:, 'utility_pj'] = df_test['weight'] * df_test['resp'] * df_test_predictions\n",
    "    df_test_utility_pi = df_test.groupby('date').sum('utility_pj')['utility_pj']\n",
    "    nb_unique_dates = df_test_utility_pi.shape[0]\n",
    "    t = (df_test_utility_pi.sum() / np.sqrt(df_test_utility_pi.pow(2).sum())) * (np.sqrt(250 / np.abs(nb_unique_dates)))\n",
    "    u = min(max(t, 0), 6) * df_test_utility_pi.sum()\n",
    "    \n",
    "    return(u)"
   ]
  },
  {
   "cell_type": "markdown",
   "metadata": {
    "papermill": {
     "duration": 0.050934,
     "end_time": "2020-11-30T18:29:35.347553",
     "exception": false,
     "start_time": "2020-11-30T18:29:35.296619",
     "status": "completed"
    },
    "tags": []
   },
   "source": [
    "# Train model"
   ]
  },
  {
   "cell_type": "code",
   "execution_count": 22,
   "metadata": {
    "execution": {
     "iopub.execute_input": "2020-11-30T18:29:35.444295Z",
     "iopub.status.busy": "2020-11-30T18:29:35.443419Z",
     "iopub.status.idle": "2020-11-30T18:29:35.446514Z",
     "shell.execute_reply": "2020-11-30T18:29:35.446040Z"
    },
    "papermill": {
     "duration": 0.053313,
     "end_time": "2020-11-30T18:29:35.446613",
     "exception": false,
     "start_time": "2020-11-30T18:29:35.393300",
     "status": "completed"
    },
    "tags": []
   },
   "outputs": [],
   "source": [
    "model = XGBClassifier()"
   ]
  },
  {
   "cell_type": "code",
   "execution_count": 23,
   "metadata": {
    "execution": {
     "iopub.execute_input": "2020-11-30T18:29:35.551043Z",
     "iopub.status.busy": "2020-11-30T18:29:35.550167Z",
     "iopub.status.idle": "2020-11-30T18:29:35.553141Z",
     "shell.execute_reply": "2020-11-30T18:29:35.552656Z"
    },
    "papermill": {
     "duration": 0.056086,
     "end_time": "2020-11-30T18:29:35.553253",
     "exception": false,
     "start_time": "2020-11-30T18:29:35.497167",
     "status": "completed"
    },
    "tags": []
   },
   "outputs": [],
   "source": [
    "'''\n",
    "param_search = { 'random_state': [42],\n",
    "                 'max_depth': [50, 100, 500],\n",
    "                 'n_estimators': [50, 500, 1000],\n",
    "                 'tree_method': ['gpu_hist'],\n",
    "               }\n",
    "'''\n",
    "param_search = { 'random_state': [42],\n",
    "                 'max_depth': [12],\n",
    "                 'n_estimators': [500],\n",
    "                'learning_rate': [0.05],\n",
    "                'subsample': [0.9],\n",
    "                'colsample_bytree': [0.7],\n",
    "                 'tree_method': ['gpu_hist'],\n",
    "               }\n"
   ]
  },
  {
   "cell_type": "code",
   "execution_count": 24,
   "metadata": {
    "execution": {
     "iopub.execute_input": "2020-11-30T18:29:36.008077Z",
     "iopub.status.busy": "2020-11-30T18:29:36.007396Z",
     "iopub.status.idle": "2020-11-30T18:39:13.197567Z",
     "shell.execute_reply": "2020-11-30T18:39:13.196503Z"
    },
    "papermill": {
     "duration": 577.598709,
     "end_time": "2020-11-30T18:39:13.197765",
     "exception": false,
     "start_time": "2020-11-30T18:29:35.599056",
     "status": "completed"
    },
    "tags": []
   },
   "outputs": [
    {
     "name": "stdout",
     "output_type": "stream",
     "text": [
      "Fitting 3 folds for each of 1 candidates, totalling 3 fits\n",
      "[CV] colsample_bytree=0.7, learning_rate=0.05, max_depth=12, n_estimators=500, random_state=42, subsample=0.9, tree_method=gpu_hist \n"
     ]
    },
    {
     "name": "stderr",
     "output_type": "stream",
     "text": [
      "[Parallel(n_jobs=1)]: Using backend SequentialBackend with 1 concurrent workers.\n"
     ]
    },
    {
     "name": "stdout",
     "output_type": "stream",
     "text": [
      "[CV]  colsample_bytree=0.7, learning_rate=0.05, max_depth=12, n_estimators=500, random_state=42, subsample=0.9, tree_method=gpu_hist, score=0.514, total= 2.1min\n",
      "[CV] colsample_bytree=0.7, learning_rate=0.05, max_depth=12, n_estimators=500, random_state=42, subsample=0.9, tree_method=gpu_hist \n"
     ]
    },
    {
     "name": "stderr",
     "output_type": "stream",
     "text": [
      "[Parallel(n_jobs=1)]: Done   1 out of   1 | elapsed:  2.1min remaining:    0.0s\n"
     ]
    },
    {
     "name": "stdout",
     "output_type": "stream",
     "text": [
      "[CV]  colsample_bytree=0.7, learning_rate=0.05, max_depth=12, n_estimators=500, random_state=42, subsample=0.9, tree_method=gpu_hist, score=0.510, total= 2.4min\n",
      "[CV] colsample_bytree=0.7, learning_rate=0.05, max_depth=12, n_estimators=500, random_state=42, subsample=0.9, tree_method=gpu_hist \n"
     ]
    },
    {
     "name": "stderr",
     "output_type": "stream",
     "text": [
      "[Parallel(n_jobs=1)]: Done   2 out of   2 | elapsed:  4.5min remaining:    0.0s\n"
     ]
    },
    {
     "name": "stdout",
     "output_type": "stream",
     "text": [
      "[CV]  colsample_bytree=0.7, learning_rate=0.05, max_depth=12, n_estimators=500, random_state=42, subsample=0.9, tree_method=gpu_hist, score=0.514, total= 2.9min\n"
     ]
    },
    {
     "name": "stderr",
     "output_type": "stream",
     "text": [
      "[Parallel(n_jobs=1)]: Done   3 out of   3 | elapsed:  7.4min remaining:    0.0s\n",
      "[Parallel(n_jobs=1)]: Done   3 out of   3 | elapsed:  7.4min finished\n"
     ]
    },
    {
     "name": "stdout",
     "output_type": "stream",
     "text": [
      "CPU times: user 11min 16s, sys: 17.5 s, total: 11min 34s\n",
      "Wall time: 9min 37s\n"
     ]
    },
    {
     "data": {
      "text/plain": [
       "GridSearchCV(cv=TimeSeriesSplit(max_train_size=None, n_splits=3),\n",
       "             estimator=XGBClassifier(base_score=None, booster=None,\n",
       "                                     colsample_bylevel=None,\n",
       "                                     colsample_bynode=None,\n",
       "                                     colsample_bytree=None, gamma=None,\n",
       "                                     gpu_id=None, importance_type='gain',\n",
       "                                     interaction_constraints=None,\n",
       "                                     learning_rate=None, max_delta_step=None,\n",
       "                                     max_depth=None, min_child_weight=None,\n",
       "                                     missing=nan, mon...\n",
       "                                     n_estimators=100, n_jobs=None,\n",
       "                                     num_parallel_tree=None, random_state=None,\n",
       "                                     reg_alpha=None, reg_lambda=None,\n",
       "                                     scale_pos_weight=None, subsample=None,\n",
       "                                     tree_method=None, validate_parameters=None,\n",
       "                                     verbosity=None),\n",
       "             param_grid={'colsample_bytree': [0.7], 'learning_rate': [0.05],\n",
       "                         'max_depth': [12], 'n_estimators': [500],\n",
       "                         'random_state': [42], 'subsample': [0.9],\n",
       "                         'tree_method': ['gpu_hist']},\n",
       "             verbose=10)"
      ]
     },
     "execution_count": 24,
     "metadata": {},
     "output_type": "execute_result"
    }
   ],
   "source": [
    "%%time\n",
    "tscv_subsplits = TimeSeriesSplit(n_splits=3)\n",
    "\n",
    "grid_search = GridSearchCV(estimator=model, cv=tscv_subsplits,\n",
    "                        param_grid=param_search, verbose=10)\n",
    "\n",
    "grid_search.fit(df_train[FEATURES_LIST], y_train)"
   ]
  },
  {
   "cell_type": "code",
   "execution_count": 25,
   "metadata": {
    "execution": {
     "iopub.execute_input": "2020-11-30T18:39:13.316177Z",
     "iopub.status.busy": "2020-11-30T18:39:13.315406Z",
     "iopub.status.idle": "2020-11-30T18:39:13.319879Z",
     "shell.execute_reply": "2020-11-30T18:39:13.320547Z"
    },
    "papermill": {
     "duration": 0.062403,
     "end_time": "2020-11-30T18:39:13.320718",
     "exception": false,
     "start_time": "2020-11-30T18:39:13.258315",
     "status": "completed"
    },
    "tags": []
   },
   "outputs": [
    {
     "name": "stdout",
     "output_type": "stream",
     "text": [
      "Model training ended\n"
     ]
    }
   ],
   "source": [
    "print('Model training ended')"
   ]
  },
  {
   "cell_type": "code",
   "execution_count": 26,
   "metadata": {
    "execution": {
     "iopub.execute_input": "2020-11-30T18:39:13.440402Z",
     "iopub.status.busy": "2020-11-30T18:39:13.438614Z",
     "iopub.status.idle": "2020-11-30T18:39:13.441197Z",
     "shell.execute_reply": "2020-11-30T18:39:13.441729Z"
    },
    "papermill": {
     "duration": 0.063021,
     "end_time": "2020-11-30T18:39:13.441876",
     "exception": false,
     "start_time": "2020-11-30T18:39:13.378855",
     "status": "completed"
    },
    "tags": []
   },
   "outputs": [],
   "source": [
    "model = grid_search"
   ]
  },
  {
   "cell_type": "code",
   "execution_count": 27,
   "metadata": {
    "execution": {
     "iopub.execute_input": "2020-11-30T18:39:13.553679Z",
     "iopub.status.busy": "2020-11-30T18:39:13.552646Z",
     "iopub.status.idle": "2020-11-30T18:39:13.561251Z",
     "shell.execute_reply": "2020-11-30T18:39:13.560728Z"
    },
    "papermill": {
     "duration": 0.066937,
     "end_time": "2020-11-30T18:39:13.561353",
     "exception": false,
     "start_time": "2020-11-30T18:39:13.494416",
     "status": "completed"
    },
    "tags": []
   },
   "outputs": [
    {
     "data": {
      "text/plain": [
       "XGBClassifier(base_score=0.5, booster='gbtree', colsample_bylevel=1,\n",
       "              colsample_bynode=1, colsample_bytree=0.7, gamma=0, gpu_id=0,\n",
       "              importance_type='gain', interaction_constraints='',\n",
       "              learning_rate=0.05, max_delta_step=0, max_depth=12,\n",
       "              min_child_weight=1, missing=nan,\n",
       "              monotone_constraints='(0,0,0,0,0,0,0,0,0,0,0,0,0,0,0,0,0,0,0,0,0,0,0,0,0,0,0,0,0,0,0,0,0,0,0,0,0,...0,0,0,0,0,0,0,0,0,0,0,0,0,0,0,0,0,0,0,0,0,0,0,0,0,0,0,0,0,0,0,0,0,0,0,0,0,0,0,0,0,0,0,0,0,0,0,0,0,0,0,0,0,0,0,0,0,0,0,0,0,0,0,0,0,0,0,0,0,0,0,0,0,0,0,0,0,0,0,0,0,0,0,0)',\n",
       "              n_estimators=500, n_jobs=0, num_parallel_tree=1, random_state=42,\n",
       "              reg_alpha=0, reg_lambda=1, scale_pos_weight=1, subsample=0.9,\n",
       "              tree_method='gpu_hist', validate_parameters=1, verbosity=None)"
      ]
     },
     "execution_count": 27,
     "metadata": {},
     "output_type": "execute_result"
    }
   ],
   "source": [
    "model.best_estimator_"
   ]
  },
  {
   "cell_type": "code",
   "execution_count": 28,
   "metadata": {
    "execution": {
     "iopub.execute_input": "2020-11-30T18:39:13.671453Z",
     "iopub.status.busy": "2020-11-30T18:39:13.670696Z",
     "iopub.status.idle": "2020-11-30T18:39:29.350469Z",
     "shell.execute_reply": "2020-11-30T18:39:29.349959Z"
    },
    "papermill": {
     "duration": 15.73629,
     "end_time": "2020-11-30T18:39:29.350574",
     "exception": false,
     "start_time": "2020-11-30T18:39:13.614284",
     "status": "completed"
    },
    "tags": []
   },
   "outputs": [
    {
     "data": {
      "text/plain": [
       "array([0.00823211, 0.00560844, 0.00588764, 0.00989601, 0.0101052 ,\n",
       "       0.01110377, 0.01129792, 0.00674406, 0.00705924, 0.00555958,\n",
       "       0.00643467, 0.00606411, 0.00641348, 0.0056863 , 0.005995  ,\n",
       "       0.00561384, 0.00616039, 0.00709071, 0.00724734, 0.00596976,\n",
       "       0.00703349, 0.00655146, 0.00682776, 0.00679222, 0.00664621,\n",
       "       0.00685698, 0.00684351, 0.0092739 , 0.00737781, 0.00634544,\n",
       "       0.00631369, 0.0070104 , 0.00682822, 0.00655606, 0.00661923,\n",
       "       0.00671735, 0.00673991, 0.00987545, 0.00996683, 0.01009811,\n",
       "       0.01034685, 0.0144034 , 0.01567014, 0.01464951, 0.01400632,\n",
       "       0.01462375, 0.00600775, 0.00638606, 0.00658803, 0.00655731,\n",
       "       0.00664358, 0.00641142, 0.00587919, 0.00684816, 0.00658931,\n",
       "       0.00905232, 0.00630558, 0.00814724, 0.00718965, 0.00669577,\n",
       "       0.01131259, 0.01326098, 0.01196003, 0.01300935, 0.00873492,\n",
       "       0.0074709 , 0.0083607 , 0.00785076, 0.00866328, 0.00776158,\n",
       "       0.00772263, 0.00798759, 0.00686969, 0.00632943, 0.00622216,\n",
       "       0.0059305 , 0.00606165, 0.0097814 , 0.00732177, 0.00630189,\n",
       "       0.00653509, 0.00605583, 0.00612212, 0.01083908, 0.00776313,\n",
       "       0.00617312, 0.00685403, 0.00635567, 0.00603292, 0.00891306,\n",
       "       0.00809587, 0.0057645 , 0.00721265, 0.00606183, 0.0056541 ,\n",
       "       0.00871174, 0.00741096, 0.00538525, 0.00662865, 0.0060032 ,\n",
       "       0.00560764, 0.0081663 , 0.00775033, 0.00534001, 0.00692391,\n",
       "       0.00611961, 0.0059594 , 0.00925771, 0.00752262, 0.00599332,\n",
       "       0.00683465, 0.00642048, 0.00609003, 0.00845743, 0.00801398,\n",
       "       0.00588478, 0.00720303, 0.00633995, 0.00602225, 0.00927713,\n",
       "       0.00952548, 0.00881413, 0.00618748, 0.00623107, 0.00917526,\n",
       "       0.00833524, 0.00759943, 0.0071429 , 0.00696201, 0.00672528,\n",
       "       0.00618557], dtype=float32)"
      ]
     },
     "execution_count": 28,
     "metadata": {},
     "output_type": "execute_result"
    }
   ],
   "source": [
    "model.best_estimator_.feature_importances_"
   ]
  },
  {
   "cell_type": "markdown",
   "metadata": {
    "papermill": {
     "duration": 0.053179,
     "end_time": "2020-11-30T18:39:29.455909",
     "exception": false,
     "start_time": "2020-11-30T18:39:29.402730",
     "status": "completed"
    },
    "tags": []
   },
   "source": [
    "# Save model"
   ]
  },
  {
   "cell_type": "code",
   "execution_count": 29,
   "metadata": {
    "execution": {
     "iopub.execute_input": "2020-11-30T18:39:29.568101Z",
     "iopub.status.busy": "2020-11-30T18:39:29.567286Z",
     "iopub.status.idle": "2020-11-30T18:39:29.572905Z",
     "shell.execute_reply": "2020-11-30T18:39:29.572365Z"
    },
    "papermill": {
     "duration": 0.064514,
     "end_time": "2020-11-30T18:39:29.573007",
     "exception": false,
     "start_time": "2020-11-30T18:39:29.508493",
     "status": "completed"
    },
    "tags": []
   },
   "outputs": [
    {
     "name": "stdout",
     "output_type": "stream",
     "text": [
      "Saving model\n"
     ]
    }
   ],
   "source": [
    "print('Saving model')"
   ]
  },
  {
   "cell_type": "code",
   "execution_count": 30,
   "metadata": {
    "execution": {
     "iopub.execute_input": "2020-11-30T18:39:29.688081Z",
     "iopub.status.busy": "2020-11-30T18:39:29.686592Z",
     "iopub.status.idle": "2020-11-30T18:39:30.017265Z",
     "shell.execute_reply": "2020-11-30T18:39:30.016666Z"
    },
    "papermill": {
     "duration": 0.390883,
     "end_time": "2020-11-30T18:39:30.017391",
     "exception": false,
     "start_time": "2020-11-30T18:39:29.626508",
     "status": "completed"
    },
    "tags": []
   },
   "outputs": [],
   "source": [
    "with open(MODEL_FILE, 'wb') as f:\n",
    "    pickle.dump(model, f, pickle.HIGHEST_PROTOCOL)"
   ]
  },
  {
   "cell_type": "code",
   "execution_count": 31,
   "metadata": {
    "execution": {
     "iopub.execute_input": "2020-11-30T18:39:30.150866Z",
     "iopub.status.busy": "2020-11-30T18:39:30.149888Z",
     "iopub.status.idle": "2020-11-30T18:39:30.174315Z",
     "shell.execute_reply": "2020-11-30T18:39:30.173392Z"
    },
    "papermill": {
     "duration": 0.103363,
     "end_time": "2020-11-30T18:39:30.174428",
     "exception": false,
     "start_time": "2020-11-30T18:39:30.071065",
     "status": "completed"
    },
    "tags": []
   },
   "outputs": [],
   "source": [
    "df_grid_search_results = pd.concat([pd.DataFrame(grid_search.cv_results_[\"params\"]),pd.DataFrame(grid_search.cv_results_[\"mean_test_score\"], columns=[\"mean_test_score\"])],axis=1)\n",
    "df_grid_search_results = pd.concat([df_grid_search_results,pd.DataFrame(grid_search.cv_results_[\"std_test_score\"], columns=[\"std_test_score\"])],axis=1)\n",
    "df_grid_search_results = pd.concat([df_grid_search_results,pd.DataFrame(grid_search.cv_results_[\"mean_fit_time\"], columns=[\"mean_fit_time\"])],axis=1)\n",
    "df_grid_search_results = pd.concat([df_grid_search_results,pd.DataFrame(grid_search.cv_results_[\"mean_score_time\"], columns=[\"mean_score_time\"])],axis=1)"
   ]
  },
  {
   "cell_type": "code",
   "execution_count": 32,
   "metadata": {
    "execution": {
     "iopub.execute_input": "2020-11-30T18:39:30.300435Z",
     "iopub.status.busy": "2020-11-30T18:39:30.299388Z",
     "iopub.status.idle": "2020-11-30T18:39:30.313649Z",
     "shell.execute_reply": "2020-11-30T18:39:30.314357Z"
    },
    "papermill": {
     "duration": 0.08213,
     "end_time": "2020-11-30T18:39:30.314503",
     "exception": false,
     "start_time": "2020-11-30T18:39:30.232373",
     "status": "completed"
    },
    "tags": []
   },
   "outputs": [
    {
     "data": {
      "text/html": [
       "<div>\n",
       "<style scoped>\n",
       "    .dataframe tbody tr th:only-of-type {\n",
       "        vertical-align: middle;\n",
       "    }\n",
       "\n",
       "    .dataframe tbody tr th {\n",
       "        vertical-align: top;\n",
       "    }\n",
       "\n",
       "    .dataframe thead th {\n",
       "        text-align: right;\n",
       "    }\n",
       "</style>\n",
       "<table border=\"1\" class=\"dataframe\">\n",
       "  <thead>\n",
       "    <tr style=\"text-align: right;\">\n",
       "      <th></th>\n",
       "      <th>colsample_bytree</th>\n",
       "      <th>learning_rate</th>\n",
       "      <th>max_depth</th>\n",
       "      <th>n_estimators</th>\n",
       "      <th>random_state</th>\n",
       "      <th>subsample</th>\n",
       "      <th>tree_method</th>\n",
       "      <th>mean_test_score</th>\n",
       "      <th>std_test_score</th>\n",
       "      <th>mean_fit_time</th>\n",
       "      <th>mean_score_time</th>\n",
       "    </tr>\n",
       "  </thead>\n",
       "  <tbody>\n",
       "    <tr>\n",
       "      <th>0</th>\n",
       "      <td>0.7</td>\n",
       "      <td>0.05</td>\n",
       "      <td>12</td>\n",
       "      <td>500</td>\n",
       "      <td>42</td>\n",
       "      <td>0.9</td>\n",
       "      <td>gpu_hist</td>\n",
       "      <td>0.512633</td>\n",
       "      <td>0.002082</td>\n",
       "      <td>96.639476</td>\n",
       "      <td>50.88363</td>\n",
       "    </tr>\n",
       "  </tbody>\n",
       "</table>\n",
       "</div>"
      ],
      "text/plain": [
       "   colsample_bytree  learning_rate  max_depth  n_estimators  random_state  \\\n",
       "0               0.7           0.05         12           500            42   \n",
       "\n",
       "   subsample tree_method  mean_test_score  std_test_score  mean_fit_time  \\\n",
       "0        0.9    gpu_hist         0.512633        0.002082      96.639476   \n",
       "\n",
       "   mean_score_time  \n",
       "0         50.88363  "
      ]
     },
     "execution_count": 32,
     "metadata": {},
     "output_type": "execute_result"
    }
   ],
   "source": [
    "df_grid_search_results"
   ]
  },
  {
   "cell_type": "markdown",
   "metadata": {
    "papermill": {
     "duration": 0.060571,
     "end_time": "2020-11-30T18:39:30.436312",
     "exception": false,
     "start_time": "2020-11-30T18:39:30.375741",
     "status": "completed"
    },
    "tags": []
   },
   "source": [
    "# Test predictions"
   ]
  },
  {
   "cell_type": "code",
   "execution_count": 33,
   "metadata": {
    "execution": {
     "iopub.execute_input": "2020-11-30T18:39:30.563004Z",
     "iopub.status.busy": "2020-11-30T18:39:30.562220Z",
     "iopub.status.idle": "2020-11-30T18:39:30.568624Z",
     "shell.execute_reply": "2020-11-30T18:39:30.568021Z"
    },
    "papermill": {
     "duration": 0.072306,
     "end_time": "2020-11-30T18:39:30.568733",
     "exception": false,
     "start_time": "2020-11-30T18:39:30.496427",
     "status": "completed"
    },
    "tags": []
   },
   "outputs": [
    {
     "name": "stdout",
     "output_type": "stream",
     "text": [
      "Testing predictions\n"
     ]
    }
   ],
   "source": [
    "print('Testing predictions')"
   ]
  },
  {
   "cell_type": "code",
   "execution_count": 34,
   "metadata": {
    "execution": {
     "iopub.execute_input": "2020-11-30T18:39:30.738139Z",
     "iopub.status.busy": "2020-11-30T18:39:30.736691Z",
     "iopub.status.idle": "2020-11-30T18:39:52.771069Z",
     "shell.execute_reply": "2020-11-30T18:39:52.770045Z"
    },
    "papermill": {
     "duration": 22.14167,
     "end_time": "2020-11-30T18:39:52.771228",
     "exception": false,
     "start_time": "2020-11-30T18:39:30.629558",
     "status": "completed"
    },
    "tags": []
   },
   "outputs": [],
   "source": [
    "df_test_predictions = model.predict(df_test[FEATURES_LIST])"
   ]
  },
  {
   "cell_type": "code",
   "execution_count": 35,
   "metadata": {
    "execution": {
     "iopub.execute_input": "2020-11-30T18:39:52.893993Z",
     "iopub.status.busy": "2020-11-30T18:39:52.893250Z",
     "iopub.status.idle": "2020-11-30T18:39:52.898457Z",
     "shell.execute_reply": "2020-11-30T18:39:52.897890Z"
    },
    "papermill": {
     "duration": 0.067213,
     "end_time": "2020-11-30T18:39:52.898603",
     "exception": false,
     "start_time": "2020-11-30T18:39:52.831390",
     "status": "completed"
    },
    "tags": []
   },
   "outputs": [
    {
     "name": "stdout",
     "output_type": "stream",
     "text": [
      "Calculating utility score\n"
     ]
    }
   ],
   "source": [
    "print('Calculating utility score')"
   ]
  },
  {
   "cell_type": "code",
   "execution_count": 36,
   "metadata": {
    "execution": {
     "iopub.execute_input": "2020-11-30T18:39:53.026124Z",
     "iopub.status.busy": "2020-11-30T18:39:53.025045Z",
     "iopub.status.idle": "2020-11-30T18:39:53.670390Z",
     "shell.execute_reply": "2020-11-30T18:39:53.667143Z"
    },
    "papermill": {
     "duration": 0.714302,
     "end_time": "2020-11-30T18:39:53.670560",
     "exception": false,
     "start_time": "2020-11-30T18:39:52.956258",
     "status": "completed"
    },
    "tags": []
   },
   "outputs": [],
   "source": [
    "utility_score = utility_function(df_test, df_test_predictions)"
   ]
  },
  {
   "cell_type": "code",
   "execution_count": 37,
   "metadata": {
    "execution": {
     "iopub.execute_input": "2020-11-30T18:39:53.795764Z",
     "iopub.status.busy": "2020-11-30T18:39:53.794775Z",
     "iopub.status.idle": "2020-11-30T18:39:53.799423Z",
     "shell.execute_reply": "2020-11-30T18:39:53.799950Z"
    },
    "papermill": {
     "duration": 0.07033,
     "end_time": "2020-11-30T18:39:53.800101",
     "exception": false,
     "start_time": "2020-11-30T18:39:53.729771",
     "status": "completed"
    },
    "tags": []
   },
   "outputs": [
    {
     "data": {
      "text/plain": [
       "1883.1550978776543"
      ]
     },
     "execution_count": 37,
     "metadata": {},
     "output_type": "execute_result"
    }
   ],
   "source": [
    "utility_score"
   ]
  },
  {
   "cell_type": "code",
   "execution_count": 38,
   "metadata": {
    "execution": {
     "iopub.execute_input": "2020-11-30T18:39:53.929114Z",
     "iopub.status.busy": "2020-11-30T18:39:53.927555Z",
     "iopub.status.idle": "2020-11-30T18:39:53.932464Z",
     "shell.execute_reply": "2020-11-30T18:39:53.931500Z"
    },
    "papermill": {
     "duration": 0.07336,
     "end_time": "2020-11-30T18:39:53.932601",
     "exception": false,
     "start_time": "2020-11-30T18:39:53.859241",
     "status": "completed"
    },
    "tags": []
   },
   "outputs": [
    {
     "name": "stdout",
     "output_type": "stream",
     "text": [
      "Calculating accuracy score\n"
     ]
    }
   ],
   "source": [
    "print('Calculating accuracy score')"
   ]
  },
  {
   "cell_type": "code",
   "execution_count": 39,
   "metadata": {
    "execution": {
     "iopub.execute_input": "2020-11-30T18:39:54.071472Z",
     "iopub.status.busy": "2020-11-30T18:39:54.070213Z",
     "iopub.status.idle": "2020-11-30T18:39:54.097329Z",
     "shell.execute_reply": "2020-11-30T18:39:54.096763Z"
    },
    "papermill": {
     "duration": 0.091612,
     "end_time": "2020-11-30T18:39:54.097429",
     "exception": false,
     "start_time": "2020-11-30T18:39:54.005817",
     "status": "completed"
    },
    "tags": []
   },
   "outputs": [
    {
     "data": {
      "text/plain": [
       "0.5241697612243865"
      ]
     },
     "execution_count": 39,
     "metadata": {},
     "output_type": "execute_result"
    }
   ],
   "source": [
    "accuracy_score(y_test, df_test_predictions)"
   ]
  },
  {
   "cell_type": "markdown",
   "metadata": {
    "papermill": {
     "duration": 0.059926,
     "end_time": "2020-11-30T18:39:54.220644",
     "exception": false,
     "start_time": "2020-11-30T18:39:54.160718",
     "status": "completed"
    },
    "tags": []
   },
   "source": [
    "# Make random predictions"
   ]
  },
  {
   "cell_type": "code",
   "execution_count": 40,
   "metadata": {
    "execution": {
     "iopub.execute_input": "2020-11-30T18:39:54.344993Z",
     "iopub.status.busy": "2020-11-30T18:39:54.343981Z",
     "iopub.status.idle": "2020-11-30T18:39:54.347543Z",
     "shell.execute_reply": "2020-11-30T18:39:54.348393Z"
    },
    "papermill": {
     "duration": 0.06884,
     "end_time": "2020-11-30T18:39:54.348564",
     "exception": false,
     "start_time": "2020-11-30T18:39:54.279724",
     "status": "completed"
    },
    "tags": []
   },
   "outputs": [
    {
     "name": "stdout",
     "output_type": "stream",
     "text": [
      "Random predictions test\n"
     ]
    }
   ],
   "source": [
    "print('Random predictions test')"
   ]
  },
  {
   "cell_type": "code",
   "execution_count": 41,
   "metadata": {
    "execution": {
     "iopub.execute_input": "2020-11-30T18:39:54.480669Z",
     "iopub.status.busy": "2020-11-30T18:39:54.479428Z",
     "iopub.status.idle": "2020-11-30T18:39:54.521456Z",
     "shell.execute_reply": "2020-11-30T18:39:54.522137Z"
    },
    "papermill": {
     "duration": 0.111206,
     "end_time": "2020-11-30T18:39:54.522315",
     "exception": false,
     "start_time": "2020-11-30T18:39:54.411109",
     "status": "completed"
    },
    "tags": []
   },
   "outputs": [
    {
     "name": "stdout",
     "output_type": "stream",
     "text": [
      "0.4981800779506435\n"
     ]
    }
   ],
   "source": [
    "action_1_proba = df_test[df_test['resp_positive'] == 1].shape[0] / df_test.shape[0]\n",
    "print(action_1_proba)"
   ]
  },
  {
   "cell_type": "code",
   "execution_count": 42,
   "metadata": {
    "execution": {
     "iopub.execute_input": "2020-11-30T18:39:54.652755Z",
     "iopub.status.busy": "2020-11-30T18:39:54.651707Z",
     "iopub.status.idle": "2020-11-30T18:39:54.656630Z",
     "shell.execute_reply": "2020-11-30T18:39:54.655802Z"
    },
    "papermill": {
     "duration": 0.071792,
     "end_time": "2020-11-30T18:39:54.656752",
     "exception": false,
     "start_time": "2020-11-30T18:39:54.584960",
     "status": "completed"
    },
    "tags": []
   },
   "outputs": [],
   "source": [
    "np.random.seed(42)"
   ]
  },
  {
   "cell_type": "code",
   "execution_count": 43,
   "metadata": {
    "execution": {
     "iopub.execute_input": "2020-11-30T18:39:54.785953Z",
     "iopub.status.busy": "2020-11-30T18:39:54.785117Z",
     "iopub.status.idle": "2020-11-30T18:39:54.791484Z",
     "shell.execute_reply": "2020-11-30T18:39:54.790976Z"
    },
    "papermill": {
     "duration": 0.074906,
     "end_time": "2020-11-30T18:39:54.791588",
     "exception": false,
     "start_time": "2020-11-30T18:39:54.716682",
     "status": "completed"
    },
    "tags": []
   },
   "outputs": [],
   "source": [
    "df_predictions_test_random = pd.Series(np.asarray(np.random.rand(df_test.shape[0]) > (1 - action_1_proba), dtype=int))"
   ]
  },
  {
   "cell_type": "code",
   "execution_count": 44,
   "metadata": {
    "execution": {
     "iopub.execute_input": "2020-11-30T18:39:54.919644Z",
     "iopub.status.busy": "2020-11-30T18:39:54.917650Z",
     "iopub.status.idle": "2020-11-30T18:39:54.920343Z",
     "shell.execute_reply": "2020-11-30T18:39:54.920947Z"
    },
    "papermill": {
     "duration": 0.068619,
     "end_time": "2020-11-30T18:39:54.921077",
     "exception": false,
     "start_time": "2020-11-30T18:39:54.852458",
     "status": "completed"
    },
    "tags": []
   },
   "outputs": [],
   "source": [
    "df_predictions_test_random.reset_index(drop=True, inplace=True)"
   ]
  },
  {
   "cell_type": "code",
   "execution_count": 45,
   "metadata": {
    "execution": {
     "iopub.execute_input": "2020-11-30T18:39:55.049450Z",
     "iopub.status.busy": "2020-11-30T18:39:55.047595Z",
     "iopub.status.idle": "2020-11-30T18:39:55.052745Z",
     "shell.execute_reply": "2020-11-30T18:39:55.053323Z"
    },
    "papermill": {
     "duration": 0.071175,
     "end_time": "2020-11-30T18:39:55.053485",
     "exception": false,
     "start_time": "2020-11-30T18:39:54.982310",
     "status": "completed"
    },
    "tags": []
   },
   "outputs": [
    {
     "data": {
      "text/plain": [
       "0.4991648145336076"
      ]
     },
     "execution_count": 45,
     "metadata": {},
     "output_type": "execute_result"
    }
   ],
   "source": [
    "df_predictions_test_random.mean()"
   ]
  },
  {
   "cell_type": "code",
   "execution_count": 46,
   "metadata": {
    "execution": {
     "iopub.execute_input": "2020-11-30T18:39:55.179675Z",
     "iopub.status.busy": "2020-11-30T18:39:55.179069Z",
     "iopub.status.idle": "2020-11-30T18:39:55.205077Z",
     "shell.execute_reply": "2020-11-30T18:39:55.204377Z"
    },
    "papermill": {
     "duration": 0.090844,
     "end_time": "2020-11-30T18:39:55.205214",
     "exception": false,
     "start_time": "2020-11-30T18:39:55.114370",
     "status": "completed"
    },
    "tags": []
   },
   "outputs": [
    {
     "data": {
      "text/plain": [
       "0.500683333563412"
      ]
     },
     "execution_count": 46,
     "metadata": {},
     "output_type": "execute_result"
    }
   ],
   "source": [
    "accuracy_score(y_test, df_predictions_test_random)"
   ]
  },
  {
   "cell_type": "code",
   "execution_count": 47,
   "metadata": {
    "execution": {
     "iopub.execute_input": "2020-11-30T18:39:55.336174Z",
     "iopub.status.busy": "2020-11-30T18:39:55.335119Z",
     "iopub.status.idle": "2020-11-30T18:39:55.340318Z",
     "shell.execute_reply": "2020-11-30T18:39:55.339717Z"
    },
    "papermill": {
     "duration": 0.072556,
     "end_time": "2020-11-30T18:39:55.340490",
     "exception": false,
     "start_time": "2020-11-30T18:39:55.267934",
     "status": "completed"
    },
    "tags": []
   },
   "outputs": [
    {
     "data": {
      "text/plain": [
       "(217317,)"
      ]
     },
     "execution_count": 47,
     "metadata": {},
     "output_type": "execute_result"
    }
   ],
   "source": [
    "df_predictions_test_random.shape"
   ]
  },
  {
   "cell_type": "markdown",
   "metadata": {
    "papermill": {
     "duration": 0.063037,
     "end_time": "2020-11-30T18:39:55.463733",
     "exception": false,
     "start_time": "2020-11-30T18:39:55.400696",
     "status": "completed"
    },
    "tags": []
   },
   "source": [
    "# Calculate utility"
   ]
  },
  {
   "cell_type": "code",
   "execution_count": 48,
   "metadata": {
    "execution": {
     "iopub.execute_input": "2020-11-30T18:39:55.598617Z",
     "iopub.status.busy": "2020-11-30T18:39:55.597727Z",
     "iopub.status.idle": "2020-11-30T18:39:55.600991Z",
     "shell.execute_reply": "2020-11-30T18:39:55.600427Z"
    },
    "papermill": {
     "duration": 0.072554,
     "end_time": "2020-11-30T18:39:55.601104",
     "exception": false,
     "start_time": "2020-11-30T18:39:55.528550",
     "status": "completed"
    },
    "tags": []
   },
   "outputs": [],
   "source": [
    "df_test.reset_index(drop=True, inplace=True)"
   ]
  },
  {
   "cell_type": "code",
   "execution_count": 49,
   "metadata": {
    "execution": {
     "iopub.execute_input": "2020-11-30T18:39:55.733517Z",
     "iopub.status.busy": "2020-11-30T18:39:55.732339Z",
     "iopub.status.idle": "2020-11-30T18:39:56.163279Z",
     "shell.execute_reply": "2020-11-30T18:39:56.162672Z"
    },
    "papermill": {
     "duration": 0.498472,
     "end_time": "2020-11-30T18:39:56.163408",
     "exception": false,
     "start_time": "2020-11-30T18:39:55.664936",
     "status": "completed"
    },
    "tags": []
   },
   "outputs": [
    {
     "data": {
      "text/plain": [
       "79.16867371626394"
      ]
     },
     "execution_count": 49,
     "metadata": {},
     "output_type": "execute_result"
    }
   ],
   "source": [
    "utility_function(df_test, df_predictions_test_random)"
   ]
  }
 ],
 "metadata": {
  "kernelspec": {
   "display_name": "Python 3",
   "language": "python",
   "name": "python3"
  },
  "language_info": {
   "codemirror_mode": {
    "name": "ipython",
    "version": 3
   },
   "file_extension": ".py",
   "mimetype": "text/x-python",
   "name": "python",
   "nbconvert_exporter": "python",
   "pygments_lexer": "ipython3",
   "version": "3.7.6"
  },
  "papermill": {
   "duration": 705.031303,
   "end_time": "2020-11-30T18:39:56.845339",
   "environment_variables": {},
   "exception": null,
   "input_path": "__notebook__.ipynb",
   "output_path": "__notebook__.ipynb",
   "parameters": {},
   "start_time": "2020-11-30T18:28:11.814036",
   "version": "2.1.0"
  }
 },
 "nbformat": 4,
 "nbformat_minor": 4
}
