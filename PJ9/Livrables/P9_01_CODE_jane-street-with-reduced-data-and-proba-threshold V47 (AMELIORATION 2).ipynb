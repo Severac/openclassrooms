{
 "cells": [
  {
   "cell_type": "code",
   "execution_count": 1,
   "metadata": {
    "_cell_guid": "b1076dfc-b9ad-4769-8c92-a6c4dae69d19",
    "_uuid": "8f2839f25d086af736a60e9eeb907d3b93b6e0e5",
    "execution": {
     "iopub.execute_input": "2020-12-13T01:41:20.374394Z",
     "iopub.status.busy": "2020-12-13T01:41:20.373683Z",
     "iopub.status.idle": "2020-12-13T01:41:55.285335Z",
     "shell.execute_reply": "2020-12-13T01:41:55.283323Z"
    },
    "papermill": {
     "duration": 34.977875,
     "end_time": "2020-12-13T01:41:55.285502",
     "exception": false,
     "start_time": "2020-12-13T01:41:20.307627",
     "status": "completed"
    },
    "tags": []
   },
   "outputs": [
    {
     "name": "stdout",
     "output_type": "stream",
     "text": [
      "Processing /kaggle/input/python-datatable/datatable-0.11.0-cp37-cp37m-manylinux2010_x86_64.whl\r\n",
      "Installing collected packages: datatable\r\n",
      "Successfully installed datatable-0.11.0\r\n"
     ]
    },
    {
     "data": {
      "text/html": [
       "<style type='text/css'>\n",
       ".datatable table.frame { margin-bottom: 0; }\n",
       ".datatable table.frame thead { border-bottom: none; }\n",
       ".datatable table.frame tr.coltypes td {  color: #FFFFFF;  line-height: 6px;  padding: 0 0.5em;}\n",
       ".datatable .bool    { background: #DDDD99; }\n",
       ".datatable .object  { background: #565656; }\n",
       ".datatable .int     { background: #5D9E5D; }\n",
       ".datatable .float   { background: #4040CC; }\n",
       ".datatable .str     { background: #CC4040; }\n",
       ".datatable .row_index {  background: var(--jp-border-color3);  border-right: 1px solid var(--jp-border-color0);  color: var(--jp-ui-font-color3);  font-size: 9px;}\n",
       ".datatable .frame tr.coltypes .row_index {  background: var(--jp-border-color0);}\n",
       ".datatable th:nth-child(2) { padding-left: 12px; }\n",
       ".datatable .hellipsis {  color: var(--jp-cell-editor-border-color);}\n",
       ".datatable .vellipsis {  background: var(--jp-layout-color0);  color: var(--jp-cell-editor-border-color);}\n",
       ".datatable .na {  color: var(--jp-cell-editor-border-color);  font-size: 80%;}\n",
       ".datatable .footer { font-size: 9px; }\n",
       ".datatable .frame_dimensions {  background: var(--jp-border-color3);  border-top: 1px solid var(--jp-border-color0);  color: var(--jp-ui-font-color3);  display: inline-block;  opacity: 0.6;  padding: 1px 10px 1px 5px;}\n",
       ".datatable .frame thead tr.colnames {  background-image: url('data:image/png;base64,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');  background-repeat: repeat-x;  background-size: 14px;  height: 28px;}\n",
       "</style>\n"
      ],
      "text/plain": [
       "<IPython.core.display.HTML object>"
      ]
     },
     "metadata": {},
     "output_type": "display_data"
    },
    {
     "name": "stdout",
     "output_type": "stream",
     "text": [
      "/kaggle/input/jane-street-market-prediction/example_sample_submission.csv\n",
      "/kaggle/input/jane-street-market-prediction/features.csv\n",
      "/kaggle/input/jane-street-market-prediction/example_test.csv\n",
      "/kaggle/input/jane-street-market-prediction/train.csv\n",
      "/kaggle/input/jane-street-market-prediction/janestreet/competition.cpython-37m-x86_64-linux-gnu.so\n",
      "/kaggle/input/jane-street-market-prediction/janestreet/__init__.py\n",
      "/kaggle/input/python-datatable/datatable-0.11.0-cp37-cp37m-manylinux2010_x86_64.whl\n",
      "/kaggle/input/jane-street-first-time-series-dataframe-save/__results__.html\n",
      "/kaggle/input/jane-street-first-time-series-dataframe-save/dataframe.pickle\n",
      "/kaggle/input/jane-street-first-time-series-dataframe-save/__notebook__.ipynb\n",
      "/kaggle/input/jane-street-first-time-series-dataframe-save/__output__.json\n",
      "/kaggle/input/jane-street-first-time-series-dataframe-save/custom.css\n"
     ]
    }
   ],
   "source": [
    "# This Python 3 environment comes with many helpful analytics libraries installed\n",
    "# It is defined by the kaggle/python Docker image: https://github.com/kaggle/docker-python\n",
    "# For example, here's several helpful packages to load\n",
    "\n",
    "import numpy as np # linear algebra\n",
    "import pandas as pd # data processing, CSV file I/O (e.g. pd.read_csv)\n",
    "\n",
    "import matplotlib.pyplot as plt\n",
    "import seaborn as sns\n",
    "\n",
    "from sklearn.model_selection import train_test_split\n",
    "from sklearn.metrics import accuracy_score\n",
    "from xgboost import XGBClassifier\n",
    "\n",
    "from sklearn.model_selection import TimeSeriesSplit, GridSearchCV\n",
    "\n",
    "#import janestreet\n",
    "#env = janestreet.make_env() # initialize the environment\n",
    "\n",
    "#!pip install datatable # Internet is not activated in this competition\n",
    "!pip install ../input/python-datatable/datatable-0.11.0-cp37-cp37m-manylinux2010_x86_64.whl\n",
    "import datatable as dt\n",
    "\n",
    "import pickle\n",
    "MODEL_FILE = '/kaggle/working/model.pickle'\n",
    "XGBOOST_MODEL_FILE = '/kaggle/working/model_xgboost.model'\n",
    "\n",
    "XGBOOST_MODEL_INTERFACE = 'sklearn' # or 'xgboost'\n",
    "\n",
    "DF_FILE = '../input/jane-street-first-time-series-dataframe-save/dataframe.pickle'\n",
    "LOAD_DF = False\n",
    "\n",
    "CALCULATE_MACD = False\n",
    "\n",
    "PREDICT_THRESHOLD = 0.5\n",
    "\n",
    "TIMESERIES_SPLIT = True\n",
    "\n",
    "DO_GRIDSEARCH = False\n",
    "\n",
    "import xgboost as xgb\n",
    "import gc\n",
    "\n",
    "# Input data files are available in the read-only \"../input/\" directory\n",
    "# For example, running this (by clicking run or pressing Shift+Enter) will list all files under the input directory\n",
    "\n",
    "import os\n",
    "for dirname, _, filenames in os.walk('/kaggle/input'):\n",
    "    for filename in filenames:\n",
    "        print(os.path.join(dirname, filename))\n",
    "\n",
    "# You can write up to 20GB to the current directory (/kaggle/working/) that gets preserved as output when you create a version using \"Save & Run All\" \n",
    "# You can also write temporary files to /kaggle/temp/, but they won't be saved outside of the current session\n",
    "\n",
    "INPUT_DIR = '/kaggle/input/jane-street-market-prediction/'\n",
    "\n",
    "pd.set_option('display.max_rows', 500)"
   ]
  },
  {
   "cell_type": "markdown",
   "metadata": {
    "papermill": {
     "duration": 0.051337,
     "end_time": "2020-12-13T01:41:55.391126",
     "exception": false,
     "start_time": "2020-12-13T01:41:55.339789",
     "status": "completed"
    },
    "tags": []
   },
   "source": [
    "Thanks to following notebooks :  \n",
    "https://www.kaggle.com/drcapa/jane-street-market-prediction-starter-xgb/output?select=example_sample_submission.csv"
   ]
  },
  {
   "cell_type": "markdown",
   "metadata": {
    "papermill": {
     "duration": 0.05119,
     "end_time": "2020-12-13T01:41:55.493704",
     "exception": false,
     "start_time": "2020-12-13T01:41:55.442514",
     "status": "completed"
    },
    "tags": []
   },
   "source": [
    "# Load data"
   ]
  },
  {
   "cell_type": "code",
   "execution_count": 2,
   "metadata": {
    "_cell_guid": "79c7e3d0-c299-4dcb-8224-4455121ee9b0",
    "_uuid": "d629ff2d2480ee46fbb7e2d37f6b5fab8052498a",
    "execution": {
     "iopub.execute_input": "2020-12-13T01:41:55.609936Z",
     "iopub.status.busy": "2020-12-13T01:41:55.609085Z",
     "iopub.status.idle": "2020-12-13T01:43:05.392796Z",
     "shell.execute_reply": "2020-12-13T01:43:05.393673Z"
    },
    "papermill": {
     "duration": 69.84817,
     "end_time": "2020-12-13T01:43:05.393862",
     "exception": false,
     "start_time": "2020-12-13T01:41:55.545692",
     "status": "completed"
    },
    "tags": []
   },
   "outputs": [
    {
     "name": "stdout",
     "output_type": "stream",
     "text": [
      "CPU times: user 27.4 s, sys: 9.55 s, total: 37 s\n",
      "Wall time: 1min 9s\n"
     ]
    }
   ],
   "source": [
    "%%time\n",
    "if (LOAD_DF != True):\n",
    "    # Thanks to his notebook for this fast loading : https://www.kaggle.com/carlmcbrideellis/jane-street-eda-of-day-0-and-feature-importance\n",
    "    train_data_datatable = dt.fread('../input/jane-street-market-prediction/train.csv')\n",
    "    df = train_data_datatable.to_pandas()\n",
    "\n",
    "    # Thanks to this notebook to gain memory usage : https://www.kaggle.com/jorijnsmit/one-liner-to-halve-your-memory-usage\n",
    "    float64_cols = df.select_dtypes(include='float64').columns\n",
    "    mapper = {col_name: np.float32 for col_name in float64_cols}\n",
    "    df = df.astype(mapper)\n",
    "    \n",
    "    del train_data_datatable\n",
    "    \n",
    "    df['resp_positive'] = ((df['resp'])>0)*1  # Target to predict\n",
    "    \n",
    "    # Temporal features\n",
    "    \n",
    "    if (CALCULATE_MACD == True):\n",
    "        FEATURES_FOR_MACD = ['feature_'+str(i) for i in range(1,130)]\n",
    "\n",
    "        for feature in FEATURES_FOR_MACD:\n",
    "            df.loc[:, feature + '_macd'] = df[feature].ewm(span=12, adjust=False).mean().astype('float32') # Short term exponential moving average\\\n",
    "            - df[feature].ewm(span=26, adjust=False).mean().astype('float32') # Short term exponential moving average\n",
    "\n",
    "            df.loc[:, feature + '_macd_minus_signal'] = df[feature + '_macd'] - df[feature + '_macd'].ewm(span=9, adjust=False).mean().astype('float32')\n",
    "            gc.collect()\n",
    "    \n",
    "else:\n",
    "    with open(DF_FILE, 'rb') as f:\n",
    "        df = pickle.load(f)   "
   ]
  },
  {
   "cell_type": "code",
   "execution_count": 3,
   "metadata": {
    "execution": {
     "iopub.execute_input": "2020-12-13T01:43:05.579352Z",
     "iopub.status.busy": "2020-12-13T01:43:05.578481Z",
     "iopub.status.idle": "2020-12-13T01:43:05.584932Z",
     "shell.execute_reply": "2020-12-13T01:43:05.585929Z"
    },
    "papermill": {
     "duration": 0.104371,
     "end_time": "2020-12-13T01:43:05.586096",
     "exception": false,
     "start_time": "2020-12-13T01:43:05.481725",
     "status": "completed"
    },
    "tags": []
   },
   "outputs": [
    {
     "data": {
      "text/plain": [
       "976.0646"
      ]
     },
     "execution_count": 3,
     "metadata": {},
     "output_type": "execute_result"
    }
   ],
   "source": [
    "df['resp'].sum()"
   ]
  },
  {
   "cell_type": "markdown",
   "metadata": {
    "papermill": {
     "duration": 0.084376,
     "end_time": "2020-12-13T01:43:05.760721",
     "exception": false,
     "start_time": "2020-12-13T01:43:05.676345",
     "status": "completed"
    },
    "tags": []
   },
   "source": [
    "# Remove first half of the data"
   ]
  },
  {
   "cell_type": "code",
   "execution_count": 4,
   "metadata": {
    "execution": {
     "iopub.execute_input": "2020-12-13T01:43:05.925774Z",
     "iopub.status.busy": "2020-12-13T01:43:05.923993Z",
     "iopub.status.idle": "2020-12-13T01:43:05.926362Z",
     "shell.execute_reply": "2020-12-13T01:43:05.926790Z"
    },
    "papermill": {
     "duration": 0.080996,
     "end_time": "2020-12-13T01:43:05.926898",
     "exception": false,
     "start_time": "2020-12-13T01:43:05.845902",
     "status": "completed"
    },
    "tags": []
   },
   "outputs": [],
   "source": [
    "#df.drop(index=df[df['date'] <= 249].index, inplace=True)"
   ]
  },
  {
   "cell_type": "code",
   "execution_count": 5,
   "metadata": {
    "execution": {
     "iopub.execute_input": "2020-12-13T01:43:06.037308Z",
     "iopub.status.busy": "2020-12-13T01:43:06.036700Z",
     "iopub.status.idle": "2020-12-13T01:43:06.039962Z",
     "shell.execute_reply": "2020-12-13T01:43:06.040369Z"
    },
    "papermill": {
     "duration": 0.061343,
     "end_time": "2020-12-13T01:43:06.040470",
     "exception": false,
     "start_time": "2020-12-13T01:43:05.979127",
     "status": "completed"
    },
    "tags": []
   },
   "outputs": [
    {
     "data": {
      "text/plain": [
       "(2390491, 139)"
      ]
     },
     "execution_count": 5,
     "metadata": {},
     "output_type": "execute_result"
    }
   ],
   "source": [
    "df.shape"
   ]
  },
  {
   "cell_type": "code",
   "execution_count": 6,
   "metadata": {
    "execution": {
     "iopub.execute_input": "2020-12-13T01:43:06.152863Z",
     "iopub.status.busy": "2020-12-13T01:43:06.151114Z",
     "iopub.status.idle": "2020-12-13T01:43:06.153475Z",
     "shell.execute_reply": "2020-12-13T01:43:06.153894Z"
    },
    "papermill": {
     "duration": 0.060722,
     "end_time": "2020-12-13T01:43:06.153999",
     "exception": false,
     "start_time": "2020-12-13T01:43:06.093277",
     "status": "completed"
    },
    "tags": []
   },
   "outputs": [],
   "source": [
    "if (CALCULATE_MACD == True):\n",
    "    FEATURES_FOR_MACD = ['feature_'+str(i) for i in range(1,130)]\n",
    "\n",
    "    for feature in FEATURES_FOR_MACD:\n",
    "        df.loc[:, feature + '_macd_minus_signal_sup0']  = ((df.loc[:, feature + '_macd_minus_signal'] > 0) * 1).astype(np.byte)"
   ]
  },
  {
   "cell_type": "code",
   "execution_count": 7,
   "metadata": {
    "execution": {
     "iopub.execute_input": "2020-12-13T01:43:06.266112Z",
     "iopub.status.busy": "2020-12-13T01:43:06.265239Z",
     "iopub.status.idle": "2020-12-13T01:43:06.268126Z",
     "shell.execute_reply": "2020-12-13T01:43:06.267530Z"
    },
    "papermill": {
     "duration": 0.061246,
     "end_time": "2020-12-13T01:43:06.268219",
     "exception": false,
     "start_time": "2020-12-13T01:43:06.206973",
     "status": "completed"
    },
    "tags": []
   },
   "outputs": [],
   "source": [
    "if (CALCULATE_MACD == True):\n",
    "    FEATURES_TODROP = ['feature_'+str(i)+'_macd' for i in range(1, 130)] + ['feature_'+str(i)+'_macd_minus_signal' for i in range(1,130)]"
   ]
  },
  {
   "cell_type": "code",
   "execution_count": 8,
   "metadata": {
    "execution": {
     "iopub.execute_input": "2020-12-13T01:43:06.379583Z",
     "iopub.status.busy": "2020-12-13T01:43:06.378004Z",
     "iopub.status.idle": "2020-12-13T01:43:06.380265Z",
     "shell.execute_reply": "2020-12-13T01:43:06.380722Z"
    },
    "papermill": {
     "duration": 0.059395,
     "end_time": "2020-12-13T01:43:06.380825",
     "exception": false,
     "start_time": "2020-12-13T01:43:06.321430",
     "status": "completed"
    },
    "tags": []
   },
   "outputs": [],
   "source": [
    "if (CALCULATE_MACD == True):\n",
    "    df.drop(FEATURES_TODROP, axis=1,inplace=True)"
   ]
  },
  {
   "cell_type": "code",
   "execution_count": 9,
   "metadata": {
    "execution": {
     "iopub.execute_input": "2020-12-13T01:43:06.490987Z",
     "iopub.status.busy": "2020-12-13T01:43:06.490146Z",
     "iopub.status.idle": "2020-12-13T01:43:06.969505Z",
     "shell.execute_reply": "2020-12-13T01:43:06.970557Z"
    },
    "papermill": {
     "duration": 0.537132,
     "end_time": "2020-12-13T01:43:06.970751",
     "exception": false,
     "start_time": "2020-12-13T01:43:06.433619",
     "status": "completed"
    },
    "tags": []
   },
   "outputs": [
    {
     "data": {
      "text/plain": [
       "(1204974, 139)"
      ]
     },
     "execution_count": 9,
     "metadata": {},
     "output_type": "execute_result"
    }
   ],
   "source": [
    "df[df['resp'] > 0].shape"
   ]
  },
  {
   "cell_type": "markdown",
   "metadata": {
    "papermill": {
     "duration": 0.081903,
     "end_time": "2020-12-13T01:43:07.140468",
     "exception": false,
     "start_time": "2020-12-13T01:43:07.058565",
     "status": "completed"
    },
    "tags": []
   },
   "source": [
    "## Drop of 0 weights"
   ]
  },
  {
   "cell_type": "code",
   "execution_count": 10,
   "metadata": {
    "execution": {
     "iopub.execute_input": "2020-12-13T01:43:07.328329Z",
     "iopub.status.busy": "2020-12-13T01:43:07.327387Z",
     "iopub.status.idle": "2020-12-13T01:43:07.329739Z",
     "shell.execute_reply": "2020-12-13T01:43:07.329072Z"
    },
    "papermill": {
     "duration": 0.101077,
     "end_time": "2020-12-13T01:43:07.329860",
     "exception": false,
     "start_time": "2020-12-13T01:43:07.228783",
     "status": "completed"
    },
    "tags": []
   },
   "outputs": [],
   "source": [
    "#df.drop(df[df['weight'] == 0].index, axis=0, inplace=True)"
   ]
  },
  {
   "cell_type": "code",
   "execution_count": 11,
   "metadata": {
    "execution": {
     "iopub.execute_input": "2020-12-13T01:43:07.515618Z",
     "iopub.status.busy": "2020-12-13T01:43:07.514742Z",
     "iopub.status.idle": "2020-12-13T01:43:07.518262Z",
     "shell.execute_reply": "2020-12-13T01:43:07.516353Z"
    },
    "papermill": {
     "duration": 0.100044,
     "end_time": "2020-12-13T01:43:07.518384",
     "exception": false,
     "start_time": "2020-12-13T01:43:07.418340",
     "status": "completed"
    },
    "tags": []
   },
   "outputs": [
    {
     "data": {
      "text/plain": [
       "(2390491, 139)"
      ]
     },
     "execution_count": 11,
     "metadata": {},
     "output_type": "execute_result"
    }
   ],
   "source": [
    "df.shape"
   ]
  },
  {
   "cell_type": "code",
   "execution_count": 12,
   "metadata": {
    "execution": {
     "iopub.execute_input": "2020-12-13T01:43:07.712230Z",
     "iopub.status.busy": "2020-12-13T01:43:07.711342Z",
     "iopub.status.idle": "2020-12-13T01:43:07.713629Z",
     "shell.execute_reply": "2020-12-13T01:43:07.712962Z"
    },
    "papermill": {
     "duration": 0.098317,
     "end_time": "2020-12-13T01:43:07.713752",
     "exception": false,
     "start_time": "2020-12-13T01:43:07.615435",
     "status": "completed"
    },
    "tags": []
   },
   "outputs": [],
   "source": [
    "#df[(df['resp'] > 0) & (df['resp_1'] > 0) & (df['resp_2'] > 0) & (df['resp_3'] > 0) & (df['resp_4'] > 0)].shape"
   ]
  },
  {
   "cell_type": "code",
   "execution_count": 13,
   "metadata": {
    "execution": {
     "iopub.execute_input": "2020-12-13T01:43:07.857676Z",
     "iopub.status.busy": "2020-12-13T01:43:07.855994Z",
     "iopub.status.idle": "2020-12-13T01:43:07.858322Z",
     "shell.execute_reply": "2020-12-13T01:43:07.858755Z"
    },
    "papermill": {
     "duration": 0.060683,
     "end_time": "2020-12-13T01:43:07.858861",
     "exception": false,
     "start_time": "2020-12-13T01:43:07.798178",
     "status": "completed"
    },
    "tags": []
   },
   "outputs": [],
   "source": [
    "#df.loc[:, 'resp_all_positive'] =  ((df['resp'] > 0) & (df['resp_1'] > 0) & (df['resp_2'] > 0) & (df['resp_3'] > 0) & (df['resp_4'] > 0))*1"
   ]
  },
  {
   "cell_type": "markdown",
   "metadata": {
    "papermill": {
     "duration": 0.05398,
     "end_time": "2020-12-13T01:43:07.967463",
     "exception": false,
     "start_time": "2020-12-13T01:43:07.913483",
     "status": "completed"
    },
    "tags": []
   },
   "source": [
    "# Split train test"
   ]
  },
  {
   "cell_type": "code",
   "execution_count": 14,
   "metadata": {
    "execution": {
     "iopub.execute_input": "2020-12-13T01:43:08.081486Z",
     "iopub.status.busy": "2020-12-13T01:43:08.080883Z",
     "iopub.status.idle": "2020-12-13T01:43:08.084098Z",
     "shell.execute_reply": "2020-12-13T01:43:08.084499Z"
    },
    "papermill": {
     "duration": 0.062624,
     "end_time": "2020-12-13T01:43:08.084614",
     "exception": false,
     "start_time": "2020-12-13T01:43:08.021990",
     "status": "completed"
    },
    "tags": []
   },
   "outputs": [
    {
     "data": {
      "text/plain": [
       "(2390491, 139)"
      ]
     },
     "execution_count": 14,
     "metadata": {},
     "output_type": "execute_result"
    }
   ],
   "source": [
    "df.shape"
   ]
  },
  {
   "cell_type": "code",
   "execution_count": 15,
   "metadata": {
    "execution": {
     "iopub.execute_input": "2020-12-13T01:43:08.199914Z",
     "iopub.status.busy": "2020-12-13T01:43:08.198170Z",
     "iopub.status.idle": "2020-12-13T01:43:08.200519Z",
     "shell.execute_reply": "2020-12-13T01:43:08.200939Z"
    },
    "papermill": {
     "duration": 0.061688,
     "end_time": "2020-12-13T01:43:08.201046",
     "exception": false,
     "start_time": "2020-12-13T01:43:08.139358",
     "status": "completed"
    },
    "tags": []
   },
   "outputs": [],
   "source": [
    "if (TIMESERIES_SPLIT == False):\n",
    "    train_size = int(df.shape[0] * 0.90)\n",
    "    print(train_size)\n",
    "    display(df.iloc[0:train_size-1, :])"
   ]
  },
  {
   "cell_type": "code",
   "execution_count": 16,
   "metadata": {
    "execution": {
     "iopub.execute_input": "2020-12-13T01:43:08.322251Z",
     "iopub.status.busy": "2020-12-13T01:43:08.321429Z",
     "iopub.status.idle": "2020-12-13T01:43:09.845218Z",
     "shell.execute_reply": "2020-12-13T01:43:09.846493Z"
    },
    "papermill": {
     "duration": 1.590788,
     "end_time": "2020-12-13T01:43:09.846871",
     "exception": false,
     "start_time": "2020-12-13T01:43:08.256083",
     "status": "completed"
    },
    "tags": []
   },
   "outputs": [
    {
     "name": "stdout",
     "output_type": "stream",
     "text": [
      "(2173174, 139)\n",
      "(217317, 139)\n"
     ]
    }
   ],
   "source": [
    "if (TIMESERIES_SPLIT == False):\n",
    "    df_train = df.iloc[0:train_size-1, :].copy(deep=True)\n",
    "    y_train = df.iloc[0:train_size-1]['resp_positive'].copy(deep=True)\n",
    "    #y_train = df.iloc[0:train_size-1]['resp_all_positive'].copy(deep=True)\n",
    "\n",
    "    df_test = df.iloc[train_size:df.shape[0]-1].copy(deep=True) # This will be used for training steps\n",
    "    df_test_origin = df_test.copy(deep=True) # We keep this for utility function\n",
    "    y_test = df.iloc[train_size:df.shape[0]-1]['resp_positive'].copy(deep=True)\n",
    "    #y_test = df.iloc[train_size:df.shape[0]-1]['resp_all_positive'].copy(deep=True)\n",
    "    \n",
    "else:\n",
    "    tscv = TimeSeriesSplit(n_splits=10)\n",
    "\n",
    "    for (train_index, test_index) in tscv.split(df):\n",
    "        pass\n",
    "\n",
    "    df_train, df_test = df.loc[train_index], df.loc[test_index]\n",
    "    y_train, y_test = df.loc[train_index]['resp_positive'], df.loc[test_index]['resp_positive']\n",
    "    \n",
    "    df_test_origin = df_test.copy(deep=True) # We keep this for utility function\n",
    "    \n",
    "    print(df_train.shape)\n",
    "    print(df_test.shape)\n",
    "    \n",
    "    df_train.reset_index(drop=True, inplace=True)\n",
    "    df_test.reset_index(drop=True, inplace=True)"
   ]
  },
  {
   "cell_type": "code",
   "execution_count": 17,
   "metadata": {
    "execution": {
     "iopub.execute_input": "2020-12-13T01:43:10.101336Z",
     "iopub.status.busy": "2020-12-13T01:43:10.100062Z",
     "iopub.status.idle": "2020-12-13T01:43:10.103586Z",
     "shell.execute_reply": "2020-12-13T01:43:10.104000Z"
    },
    "papermill": {
     "duration": 0.192083,
     "end_time": "2020-12-13T01:43:10.104118",
     "exception": false,
     "start_time": "2020-12-13T01:43:09.912035",
     "status": "completed"
    },
    "tags": []
   },
   "outputs": [
    {
     "data": {
      "text/plain": [
       "26"
      ]
     },
     "execution_count": 17,
     "metadata": {},
     "output_type": "execute_result"
    }
   ],
   "source": [
    "del df\n",
    "gc.collect()"
   ]
  },
  {
   "cell_type": "code",
   "execution_count": 18,
   "metadata": {
    "execution": {
     "iopub.execute_input": "2020-12-13T01:43:10.220792Z",
     "iopub.status.busy": "2020-12-13T01:43:10.219242Z",
     "iopub.status.idle": "2020-12-13T01:43:10.227789Z",
     "shell.execute_reply": "2020-12-13T01:43:10.227320Z"
    },
    "papermill": {
     "duration": 0.06787,
     "end_time": "2020-12-13T01:43:10.227881",
     "exception": false,
     "start_time": "2020-12-13T01:43:10.160011",
     "status": "completed"
    },
    "tags": []
   },
   "outputs": [
    {
     "data": {
      "text/plain": [
       "817.8456"
      ]
     },
     "execution_count": 18,
     "metadata": {},
     "output_type": "execute_result"
    }
   ],
   "source": [
    "df_train['resp'].sum()"
   ]
  },
  {
   "cell_type": "code",
   "execution_count": 19,
   "metadata": {
    "execution": {
     "iopub.execute_input": "2020-12-13T01:43:10.345624Z",
     "iopub.status.busy": "2020-12-13T01:43:10.344794Z",
     "iopub.status.idle": "2020-12-13T01:43:10.349364Z",
     "shell.execute_reply": "2020-12-13T01:43:10.349829Z"
    },
    "papermill": {
     "duration": 0.065317,
     "end_time": "2020-12-13T01:43:10.349938",
     "exception": false,
     "start_time": "2020-12-13T01:43:10.284621",
     "status": "completed"
    },
    "tags": []
   },
   "outputs": [
    {
     "data": {
      "text/plain": [
       "158.21907"
      ]
     },
     "execution_count": 19,
     "metadata": {},
     "output_type": "execute_result"
    }
   ],
   "source": [
    "df_test['resp'].sum()"
   ]
  },
  {
   "cell_type": "code",
   "execution_count": 20,
   "metadata": {
    "execution": {
     "iopub.execute_input": "2020-12-13T01:43:10.469229Z",
     "iopub.status.busy": "2020-12-13T01:43:10.467729Z",
     "iopub.status.idle": "2020-12-13T01:43:10.475389Z",
     "shell.execute_reply": "2020-12-13T01:43:10.474980Z"
    },
    "papermill": {
     "duration": 0.069383,
     "end_time": "2020-12-13T01:43:10.475478",
     "exception": false,
     "start_time": "2020-12-13T01:43:10.406095",
     "status": "completed"
    },
    "tags": []
   },
   "outputs": [
    {
     "data": {
      "text/plain": [
       "852591.6"
      ]
     },
     "execution_count": 20,
     "metadata": {},
     "output_type": "execute_result"
    }
   ],
   "source": [
    "df_train['feature_1'].sum()"
   ]
  },
  {
   "cell_type": "code",
   "execution_count": 21,
   "metadata": {
    "execution": {
     "iopub.execute_input": "2020-12-13T01:43:10.594457Z",
     "iopub.status.busy": "2020-12-13T01:43:10.593465Z",
     "iopub.status.idle": "2020-12-13T01:43:10.925209Z",
     "shell.execute_reply": "2020-12-13T01:43:10.925635Z"
    },
    "papermill": {
     "duration": 0.394005,
     "end_time": "2020-12-13T01:43:10.925774",
     "exception": false,
     "start_time": "2020-12-13T01:43:10.531769",
     "status": "completed"
    },
    "tags": []
   },
   "outputs": [],
   "source": [
    "df_train.drop(['date', 'resp_1', 'resp_2', 'resp_3', 'resp_4', 'resp', 'resp_positive', 'ts_id'], axis=1,inplace=True)\n",
    "#df_train.drop(['date', 'resp_1', 'resp_2', 'resp_3', 'resp_4', 'resp', 'resp_positive', 'resp_all_positive', 'ts_id'], axis=1,inplace=True)"
   ]
  },
  {
   "cell_type": "code",
   "execution_count": 22,
   "metadata": {
    "execution": {
     "iopub.execute_input": "2020-12-13T01:43:11.082517Z",
     "iopub.status.busy": "2020-12-13T01:43:11.080704Z",
     "iopub.status.idle": "2020-12-13T01:43:11.083107Z",
     "shell.execute_reply": "2020-12-13T01:43:11.083521Z"
    },
    "papermill": {
     "duration": 0.100359,
     "end_time": "2020-12-13T01:43:11.083662",
     "exception": false,
     "start_time": "2020-12-13T01:43:10.983303",
     "status": "completed"
    },
    "tags": []
   },
   "outputs": [],
   "source": [
    "df_test.drop(['date', 'resp_1', 'resp_2', 'resp_3', 'resp_4', 'resp', 'resp_positive', 'ts_id'], axis=1,inplace=True)\n",
    "#df_test.drop(['date', 'resp_1', 'resp_2', 'resp_3', 'resp_4', 'resp', 'resp_positive', 'resp_all_positive', 'ts_id'], axis=1,inplace=True)"
   ]
  },
  {
   "cell_type": "code",
   "execution_count": 23,
   "metadata": {
    "execution": {
     "iopub.execute_input": "2020-12-13T01:43:11.205056Z",
     "iopub.status.busy": "2020-12-13T01:43:11.204231Z",
     "iopub.status.idle": "2020-12-13T01:43:11.207809Z",
     "shell.execute_reply": "2020-12-13T01:43:11.208187Z"
    },
    "papermill": {
     "duration": 0.067292,
     "end_time": "2020-12-13T01:43:11.208297",
     "exception": false,
     "start_time": "2020-12-13T01:43:11.141005",
     "status": "completed"
    },
    "tags": []
   },
   "outputs": [
    {
     "data": {
      "text/plain": [
       "['weight',\n",
       " 'feature_0',\n",
       " 'feature_1',\n",
       " 'feature_2',\n",
       " 'feature_3',\n",
       " 'feature_4',\n",
       " 'feature_5',\n",
       " 'feature_6',\n",
       " 'feature_7',\n",
       " 'feature_8',\n",
       " 'feature_9',\n",
       " 'feature_10',\n",
       " 'feature_11',\n",
       " 'feature_12',\n",
       " 'feature_13',\n",
       " 'feature_14',\n",
       " 'feature_15',\n",
       " 'feature_16',\n",
       " 'feature_17',\n",
       " 'feature_18',\n",
       " 'feature_19',\n",
       " 'feature_20',\n",
       " 'feature_21',\n",
       " 'feature_22',\n",
       " 'feature_23',\n",
       " 'feature_24',\n",
       " 'feature_25',\n",
       " 'feature_26',\n",
       " 'feature_27',\n",
       " 'feature_28',\n",
       " 'feature_29',\n",
       " 'feature_30',\n",
       " 'feature_31',\n",
       " 'feature_32',\n",
       " 'feature_33',\n",
       " 'feature_34',\n",
       " 'feature_35',\n",
       " 'feature_36',\n",
       " 'feature_37',\n",
       " 'feature_38',\n",
       " 'feature_39',\n",
       " 'feature_40',\n",
       " 'feature_41',\n",
       " 'feature_42',\n",
       " 'feature_43',\n",
       " 'feature_44',\n",
       " 'feature_45',\n",
       " 'feature_46',\n",
       " 'feature_47',\n",
       " 'feature_48',\n",
       " 'feature_49',\n",
       " 'feature_50',\n",
       " 'feature_51',\n",
       " 'feature_52',\n",
       " 'feature_53',\n",
       " 'feature_54',\n",
       " 'feature_55',\n",
       " 'feature_56',\n",
       " 'feature_57',\n",
       " 'feature_58',\n",
       " 'feature_59',\n",
       " 'feature_60',\n",
       " 'feature_61',\n",
       " 'feature_62',\n",
       " 'feature_63',\n",
       " 'feature_64',\n",
       " 'feature_65',\n",
       " 'feature_66',\n",
       " 'feature_67',\n",
       " 'feature_68',\n",
       " 'feature_69',\n",
       " 'feature_70',\n",
       " 'feature_71',\n",
       " 'feature_72',\n",
       " 'feature_73',\n",
       " 'feature_74',\n",
       " 'feature_75',\n",
       " 'feature_76',\n",
       " 'feature_77',\n",
       " 'feature_78',\n",
       " 'feature_79',\n",
       " 'feature_80',\n",
       " 'feature_81',\n",
       " 'feature_82',\n",
       " 'feature_83',\n",
       " 'feature_84',\n",
       " 'feature_85',\n",
       " 'feature_86',\n",
       " 'feature_87',\n",
       " 'feature_88',\n",
       " 'feature_89',\n",
       " 'feature_90',\n",
       " 'feature_91',\n",
       " 'feature_92',\n",
       " 'feature_93',\n",
       " 'feature_94',\n",
       " 'feature_95',\n",
       " 'feature_96',\n",
       " 'feature_97',\n",
       " 'feature_98',\n",
       " 'feature_99',\n",
       " 'feature_100',\n",
       " 'feature_101',\n",
       " 'feature_102',\n",
       " 'feature_103',\n",
       " 'feature_104',\n",
       " 'feature_105',\n",
       " 'feature_106',\n",
       " 'feature_107',\n",
       " 'feature_108',\n",
       " 'feature_109',\n",
       " 'feature_110',\n",
       " 'feature_111',\n",
       " 'feature_112',\n",
       " 'feature_113',\n",
       " 'feature_114',\n",
       " 'feature_115',\n",
       " 'feature_116',\n",
       " 'feature_117',\n",
       " 'feature_118',\n",
       " 'feature_119',\n",
       " 'feature_120',\n",
       " 'feature_121',\n",
       " 'feature_122',\n",
       " 'feature_123',\n",
       " 'feature_124',\n",
       " 'feature_125',\n",
       " 'feature_126',\n",
       " 'feature_127',\n",
       " 'feature_128',\n",
       " 'feature_129']"
      ]
     },
     "execution_count": 23,
     "metadata": {},
     "output_type": "execute_result"
    }
   ],
   "source": [
    "list(df_train.columns)"
   ]
  },
  {
   "cell_type": "code",
   "execution_count": 24,
   "metadata": {
    "execution": {
     "iopub.execute_input": "2020-12-13T01:43:11.328409Z",
     "iopub.status.busy": "2020-12-13T01:43:11.327626Z",
     "iopub.status.idle": "2020-12-13T01:43:11.331320Z",
     "shell.execute_reply": "2020-12-13T01:43:11.330878Z"
    },
    "papermill": {
     "duration": 0.065125,
     "end_time": "2020-12-13T01:43:11.331403",
     "exception": false,
     "start_time": "2020-12-13T01:43:11.266278",
     "status": "completed"
    },
    "tags": []
   },
   "outputs": [
    {
     "data": {
      "text/plain": [
       "(217317, 131)"
      ]
     },
     "execution_count": 24,
     "metadata": {},
     "output_type": "execute_result"
    }
   ],
   "source": [
    "df_test.shape"
   ]
  },
  {
   "cell_type": "code",
   "execution_count": 25,
   "metadata": {
    "execution": {
     "iopub.execute_input": "2020-12-13T01:43:11.450935Z",
     "iopub.status.busy": "2020-12-13T01:43:11.450205Z",
     "iopub.status.idle": "2020-12-13T01:43:11.453720Z",
     "shell.execute_reply": "2020-12-13T01:43:11.453270Z"
    },
    "papermill": {
     "duration": 0.064912,
     "end_time": "2020-12-13T01:43:11.453803",
     "exception": false,
     "start_time": "2020-12-13T01:43:11.388891",
     "status": "completed"
    },
    "tags": []
   },
   "outputs": [
    {
     "data": {
      "text/plain": [
       "2390491"
      ]
     },
     "execution_count": 25,
     "metadata": {},
     "output_type": "execute_result"
    }
   ],
   "source": [
    "df_train.shape[0] + df_test.shape[0]"
   ]
  },
  {
   "cell_type": "code",
   "execution_count": 26,
   "metadata": {
    "execution": {
     "iopub.execute_input": "2020-12-13T01:43:11.574221Z",
     "iopub.status.busy": "2020-12-13T01:43:11.573507Z",
     "iopub.status.idle": "2020-12-13T01:43:11.577025Z",
     "shell.execute_reply": "2020-12-13T01:43:11.576609Z"
    },
    "papermill": {
     "duration": 0.065507,
     "end_time": "2020-12-13T01:43:11.577111",
     "exception": false,
     "start_time": "2020-12-13T01:43:11.511604",
     "status": "completed"
    },
    "tags": []
   },
   "outputs": [
    {
     "data": {
      "text/plain": [
       "\"\\ntscv = TimeSeriesSplit(n_splits=10)\\n\\nfor (train_index, test_index) in tscv.split(df):\\n    pass\\n\\ndf_train, df_test = df.loc[train_index], df.loc[test_index]\\ny_train, y_test = df.loc[train_index]['resp_positive'], df.loc[test_index]['resp_positive']\\n\""
      ]
     },
     "execution_count": 26,
     "metadata": {},
     "output_type": "execute_result"
    }
   ],
   "source": [
    "'''\n",
    "tscv = TimeSeriesSplit(n_splits=10)\n",
    "\n",
    "for (train_index, test_index) in tscv.split(df):\n",
    "    pass\n",
    "\n",
    "df_train, df_test = df.loc[train_index], df.loc[test_index]\n",
    "y_train, y_test = df.loc[train_index]['resp_positive'], df.loc[test_index]['resp_positive']\n",
    "'''"
   ]
  },
  {
   "cell_type": "code",
   "execution_count": 27,
   "metadata": {
    "execution": {
     "iopub.execute_input": "2020-12-13T01:43:11.699853Z",
     "iopub.status.busy": "2020-12-13T01:43:11.699040Z",
     "iopub.status.idle": "2020-12-13T01:43:11.702869Z",
     "shell.execute_reply": "2020-12-13T01:43:11.702439Z"
    },
    "papermill": {
     "duration": 0.066809,
     "end_time": "2020-12-13T01:43:11.702973",
     "exception": false,
     "start_time": "2020-12-13T01:43:11.636164",
     "status": "completed"
    },
    "tags": []
   },
   "outputs": [
    {
     "data": {
      "text/plain": [
       "RangeIndex(start=0, stop=2173174, step=1)"
      ]
     },
     "execution_count": 27,
     "metadata": {},
     "output_type": "execute_result"
    }
   ],
   "source": [
    "df_train.index"
   ]
  },
  {
   "cell_type": "code",
   "execution_count": 28,
   "metadata": {
    "execution": {
     "iopub.execute_input": "2020-12-13T01:43:11.827098Z",
     "iopub.status.busy": "2020-12-13T01:43:11.826332Z",
     "iopub.status.idle": "2020-12-13T01:43:11.829501Z",
     "shell.execute_reply": "2020-12-13T01:43:11.829993Z"
    },
    "papermill": {
     "duration": 0.067208,
     "end_time": "2020-12-13T01:43:11.830092",
     "exception": false,
     "start_time": "2020-12-13T01:43:11.762884",
     "status": "completed"
    },
    "tags": []
   },
   "outputs": [
    {
     "data": {
      "text/plain": [
       "RangeIndex(start=0, stop=217317, step=1)"
      ]
     },
     "execution_count": 28,
     "metadata": {},
     "output_type": "execute_result"
    }
   ],
   "source": [
    "df_test.index"
   ]
  },
  {
   "cell_type": "code",
   "execution_count": 29,
   "metadata": {
    "execution": {
     "iopub.execute_input": "2020-12-13T01:43:11.953042Z",
     "iopub.status.busy": "2020-12-13T01:43:11.952276Z",
     "iopub.status.idle": "2020-12-13T01:43:11.954536Z",
     "shell.execute_reply": "2020-12-13T01:43:11.954962Z"
    },
    "papermill": {
     "duration": 0.065244,
     "end_time": "2020-12-13T01:43:11.955057",
     "exception": false,
     "start_time": "2020-12-13T01:43:11.889813",
     "status": "completed"
    },
    "tags": []
   },
   "outputs": [],
   "source": [
    "#df_test.reset_index(drop=True, inplace=True)"
   ]
  },
  {
   "cell_type": "code",
   "execution_count": 30,
   "metadata": {
    "execution": {
     "iopub.execute_input": "2020-12-13T01:43:12.079397Z",
     "iopub.status.busy": "2020-12-13T01:43:12.078834Z",
     "iopub.status.idle": "2020-12-13T01:43:12.081861Z",
     "shell.execute_reply": "2020-12-13T01:43:12.081432Z"
    },
    "papermill": {
     "duration": 0.066529,
     "end_time": "2020-12-13T01:43:12.081945",
     "exception": false,
     "start_time": "2020-12-13T01:43:12.015416",
     "status": "completed"
    },
    "tags": []
   },
   "outputs": [],
   "source": [
    "#df_train.reset_index(drop=True, inplace=True)"
   ]
  },
  {
   "cell_type": "code",
   "execution_count": 31,
   "metadata": {
    "execution": {
     "iopub.execute_input": "2020-12-13T01:43:12.307184Z",
     "iopub.status.busy": "2020-12-13T01:43:12.305998Z",
     "iopub.status.idle": "2020-12-13T01:43:12.309669Z",
     "shell.execute_reply": "2020-12-13T01:43:12.310083Z"
    },
    "papermill": {
     "duration": 0.168354,
     "end_time": "2020-12-13T01:43:12.310200",
     "exception": false,
     "start_time": "2020-12-13T01:43:12.141846",
     "status": "completed"
    },
    "tags": []
   },
   "outputs": [
    {
     "data": {
      "text/plain": [
       "280"
      ]
     },
     "execution_count": 31,
     "metadata": {},
     "output_type": "execute_result"
    }
   ],
   "source": [
    "gc.collect()"
   ]
  },
  {
   "cell_type": "markdown",
   "metadata": {
    "papermill": {
     "duration": 0.059953,
     "end_time": "2020-12-13T01:43:12.431234",
     "exception": false,
     "start_time": "2020-12-13T01:43:12.371281",
     "status": "completed"
    },
    "tags": []
   },
   "source": [
    "# Data clean"
   ]
  },
  {
   "cell_type": "code",
   "execution_count": 32,
   "metadata": {
    "execution": {
     "iopub.execute_input": "2020-12-13T01:43:12.555106Z",
     "iopub.status.busy": "2020-12-13T01:43:12.554416Z",
     "iopub.status.idle": "2020-12-13T01:43:12.556950Z",
     "shell.execute_reply": "2020-12-13T01:43:12.557358Z"
    },
    "papermill": {
     "duration": 0.066242,
     "end_time": "2020-12-13T01:43:12.557471",
     "exception": false,
     "start_time": "2020-12-13T01:43:12.491229",
     "status": "completed"
    },
    "tags": []
   },
   "outputs": [],
   "source": [
    "#cols_with_missing_train = [col for col in df_train.columns if df_train[col].isnull().any()]"
   ]
  },
  {
   "cell_type": "code",
   "execution_count": 33,
   "metadata": {
    "execution": {
     "iopub.execute_input": "2020-12-13T01:43:12.682632Z",
     "iopub.status.busy": "2020-12-13T01:43:12.681986Z",
     "iopub.status.idle": "2020-12-13T01:43:12.684937Z",
     "shell.execute_reply": "2020-12-13T01:43:12.684445Z"
    },
    "papermill": {
     "duration": 0.067015,
     "end_time": "2020-12-13T01:43:12.685031",
     "exception": false,
     "start_time": "2020-12-13T01:43:12.618016",
     "status": "completed"
    },
    "tags": []
   },
   "outputs": [],
   "source": [
    "# Finally we do not remove null values and let xgboost handle them (provides better performance)\n",
    "#for col in cols_with_missing_train:\n",
    "#    df_train[col].fillna(-999, inplace=True) "
   ]
  },
  {
   "cell_type": "code",
   "execution_count": 34,
   "metadata": {
    "execution": {
     "iopub.execute_input": "2020-12-13T01:43:12.808721Z",
     "iopub.status.busy": "2020-12-13T01:43:12.808080Z",
     "iopub.status.idle": "2020-12-13T01:43:12.811054Z",
     "shell.execute_reply": "2020-12-13T01:43:12.810591Z"
    },
    "papermill": {
     "duration": 0.066135,
     "end_time": "2020-12-13T01:43:12.811137",
     "exception": false,
     "start_time": "2020-12-13T01:43:12.745002",
     "status": "completed"
    },
    "tags": []
   },
   "outputs": [],
   "source": [
    "#df_medians = df_train[cols_with_missing_train].median()\n",
    "#df_train.loc[:, cols_with_missing_train].fillna(df_medians, inplace=True)\n",
    "\n",
    "#Commented for now (handled by xgboost)\n",
    "#df_train.fillna({col:-999 for col in cols_with_missing_train}, inplace=True) "
   ]
  },
  {
   "cell_type": "code",
   "execution_count": 35,
   "metadata": {
    "execution": {
     "iopub.execute_input": "2020-12-13T01:43:12.935970Z",
     "iopub.status.busy": "2020-12-13T01:43:12.935280Z",
     "iopub.status.idle": "2020-12-13T01:43:12.937835Z",
     "shell.execute_reply": "2020-12-13T01:43:12.938345Z"
    },
    "papermill": {
     "duration": 0.067011,
     "end_time": "2020-12-13T01:43:12.938459",
     "exception": false,
     "start_time": "2020-12-13T01:43:12.871448",
     "status": "completed"
    },
    "tags": []
   },
   "outputs": [],
   "source": [
    "# Finally we do not remove null values and let xgboost handle them (provides better performance)\n",
    "#for col in cols_with_missing_train:\n",
    "#    df_test[col].fillna(-999, inplace=True) "
   ]
  },
  {
   "cell_type": "code",
   "execution_count": 36,
   "metadata": {
    "execution": {
     "iopub.execute_input": "2020-12-13T01:43:13.065223Z",
     "iopub.status.busy": "2020-12-13T01:43:13.064517Z",
     "iopub.status.idle": "2020-12-13T01:43:13.067324Z",
     "shell.execute_reply": "2020-12-13T01:43:13.066918Z"
    },
    "papermill": {
     "duration": 0.067548,
     "end_time": "2020-12-13T01:43:13.067407",
     "exception": false,
     "start_time": "2020-12-13T01:43:12.999859",
     "status": "completed"
    },
    "tags": []
   },
   "outputs": [],
   "source": [
    "#df_test.loc[:, cols_with_missing_train].fillna(df_medians, inplace=True)\n",
    "\n",
    "#Commented for now (handled by xgboost)\n",
    "#df_test.fillna({col:-999 for col in cols_with_missing_train}, inplace=True) "
   ]
  },
  {
   "cell_type": "code",
   "execution_count": 37,
   "metadata": {
    "execution": {
     "iopub.execute_input": "2020-12-13T01:43:13.292925Z",
     "iopub.status.busy": "2020-12-13T01:43:13.292225Z",
     "iopub.status.idle": "2020-12-13T01:43:13.298324Z",
     "shell.execute_reply": "2020-12-13T01:43:13.297813Z"
    },
    "papermill": {
     "duration": 0.170446,
     "end_time": "2020-12-13T01:43:13.298432",
     "exception": false,
     "start_time": "2020-12-13T01:43:13.127986",
     "status": "completed"
    },
    "tags": []
   },
   "outputs": [
    {
     "data": {
      "text/plain": [
       "120"
      ]
     },
     "execution_count": 37,
     "metadata": {},
     "output_type": "execute_result"
    }
   ],
   "source": [
    "gc.collect()"
   ]
  },
  {
   "cell_type": "code",
   "execution_count": 38,
   "metadata": {
    "execution": {
     "iopub.execute_input": "2020-12-13T01:43:13.438406Z",
     "iopub.status.busy": "2020-12-13T01:43:13.437801Z",
     "iopub.status.idle": "2020-12-13T01:43:13.441740Z",
     "shell.execute_reply": "2020-12-13T01:43:13.442387Z"
    },
    "papermill": {
     "duration": 0.082066,
     "end_time": "2020-12-13T01:43:13.442556",
     "exception": false,
     "start_time": "2020-12-13T01:43:13.360490",
     "status": "completed"
    },
    "tags": []
   },
   "outputs": [
    {
     "name": "stdout",
     "output_type": "stream",
     "text": [
      "<class 'pandas.core.frame.DataFrame'>\n",
      "RangeIndex: 2173174 entries, 0 to 2173173\n",
      "Columns: 131 entries, weight to feature_129\n",
      "dtypes: float32(130), int32(1)\n",
      "memory usage: 1.1 GB\n"
     ]
    }
   ],
   "source": [
    "df_train.info()"
   ]
  },
  {
   "cell_type": "code",
   "execution_count": 39,
   "metadata": {
    "execution": {
     "iopub.execute_input": "2020-12-13T01:43:13.577126Z",
     "iopub.status.busy": "2020-12-13T01:43:13.576548Z",
     "iopub.status.idle": "2020-12-13T01:43:13.580945Z",
     "shell.execute_reply": "2020-12-13T01:43:13.581360Z"
    },
    "papermill": {
     "duration": 0.077484,
     "end_time": "2020-12-13T01:43:13.581472",
     "exception": false,
     "start_time": "2020-12-13T01:43:13.503988",
     "status": "completed"
    },
    "tags": []
   },
   "outputs": [
    {
     "name": "stdout",
     "output_type": "stream",
     "text": [
      "<class 'pandas.core.frame.DataFrame'>\n",
      "RangeIndex: 217317 entries, 0 to 217316\n",
      "Columns: 131 entries, weight to feature_129\n",
      "dtypes: float32(130), int32(1)\n",
      "memory usage: 108.6 MB\n"
     ]
    }
   ],
   "source": [
    "df_test.info()"
   ]
  },
  {
   "cell_type": "markdown",
   "metadata": {
    "papermill": {
     "duration": 0.062769,
     "end_time": "2020-12-13T01:43:13.706176",
     "exception": false,
     "start_time": "2020-12-13T01:43:13.643407",
     "status": "completed"
    },
    "tags": []
   },
   "source": [
    "## Example with feature 1"
   ]
  },
  {
   "cell_type": "code",
   "execution_count": 40,
   "metadata": {
    "execution": {
     "iopub.execute_input": "2020-12-13T01:43:13.845235Z",
     "iopub.status.busy": "2020-12-13T01:43:13.844344Z",
     "iopub.status.idle": "2020-12-13T01:43:13.848404Z",
     "shell.execute_reply": "2020-12-13T01:43:13.847977Z"
    },
    "papermill": {
     "duration": 0.080067,
     "end_time": "2020-12-13T01:43:13.848492",
     "exception": false,
     "start_time": "2020-12-13T01:43:13.768425",
     "status": "completed"
    },
    "tags": []
   },
   "outputs": [
    {
     "data": {
      "text/plain": [
       "\"\\ndf_train_subsample = df_train.loc[2000:2020, :]\\n\\nexp1 = df_train_subsample['feature_1'].ewm(span=12, adjust=False).mean() # Short term exponential moving average\\nexp2 = df_train_subsample['feature_1'].ewm(span=26, adjust=False).mean() # Long term exponential moving average\\n\\nmacd = exp1 - exp2\\n\\nexp3 = macd.ewm(span=9, adjust=False).mean() # Signal line\\nresp = df_train_subsample['resp'] * df_train_subsample['feature_1'].mean() / np.abs(df_train_subsample['resp'].mean()) # Resp augmented to fit mean of feature 1 for better visualisation\\n\\n\\n\\nplt.figure(figsize=(20,10))\\n\\nplt.plot(df_train_subsample.ts_id, df_train_subsample.feature_1, label='Feature 1')\\nplt.plot(df_train_subsample.ts_id, macd, label='Feature 1 MACD', color='orange')\\nplt.plot(df_train_subsample.ts_id, exp3, label='Signal Line', color='Magenta')\\nplt.plot(df_train_subsample.ts_id, resp, label='Resp', color='red')\\nplt.legend(loc='upper left')\\nplt.show()\\n\""
      ]
     },
     "execution_count": 40,
     "metadata": {},
     "output_type": "execute_result"
    }
   ],
   "source": [
    "'''\n",
    "df_train_subsample = df_train.loc[2000:2020, :]\n",
    "\n",
    "exp1 = df_train_subsample['feature_1'].ewm(span=12, adjust=False).mean() # Short term exponential moving average\n",
    "exp2 = df_train_subsample['feature_1'].ewm(span=26, adjust=False).mean() # Long term exponential moving average\n",
    "\n",
    "macd = exp1 - exp2\n",
    "\n",
    "exp3 = macd.ewm(span=9, adjust=False).mean() # Signal line\n",
    "resp = df_train_subsample['resp'] * df_train_subsample['feature_1'].mean() / np.abs(df_train_subsample['resp'].mean()) # Resp augmented to fit mean of feature 1 for better visualisation\n",
    "\n",
    "\n",
    "\n",
    "plt.figure(figsize=(20,10))\n",
    "\n",
    "plt.plot(df_train_subsample.ts_id, df_train_subsample.feature_1, label='Feature 1')\n",
    "plt.plot(df_train_subsample.ts_id, macd, label='Feature 1 MACD', color='orange')\n",
    "plt.plot(df_train_subsample.ts_id, exp3, label='Signal Line', color='Magenta')\n",
    "plt.plot(df_train_subsample.ts_id, resp, label='Resp', color='red')\n",
    "plt.legend(loc='upper left')\n",
    "plt.show()\n",
    "'''"
   ]
  },
  {
   "cell_type": "markdown",
   "metadata": {
    "papermill": {
     "duration": 0.062348,
     "end_time": "2020-12-13T01:43:13.973672",
     "exception": false,
     "start_time": "2020-12-13T01:43:13.911324",
     "status": "completed"
    },
    "tags": []
   },
   "source": [
    "# Feature definition (not used yet)"
   ]
  },
  {
   "cell_type": "code",
   "execution_count": 41,
   "metadata": {
    "execution": {
     "iopub.execute_input": "2020-12-13T01:43:14.104818Z",
     "iopub.status.busy": "2020-12-13T01:43:14.104163Z",
     "iopub.status.idle": "2020-12-13T01:43:14.107114Z",
     "shell.execute_reply": "2020-12-13T01:43:14.106685Z"
    },
    "papermill": {
     "duration": 0.070355,
     "end_time": "2020-12-13T01:43:14.107202",
     "exception": false,
     "start_time": "2020-12-13T01:43:14.036847",
     "status": "completed"
    },
    "tags": []
   },
   "outputs": [],
   "source": [
    "FEATURES_LIST = ['feature_'+str(i) for i in range(130)] + ['feature_'+str(i)+'_macd' for i in range(1, 130)] + ['feature_'+str(i)+'_macd_minus_signal' for i in range(1,130)]+  ['weight']"
   ]
  },
  {
   "cell_type": "code",
   "execution_count": 42,
   "metadata": {
    "execution": {
     "iopub.execute_input": "2020-12-13T01:43:14.262017Z",
     "iopub.status.busy": "2020-12-13T01:43:14.261237Z",
     "iopub.status.idle": "2020-12-13T01:43:14.264114Z",
     "shell.execute_reply": "2020-12-13T01:43:14.263699Z"
    },
    "papermill": {
     "duration": 0.094777,
     "end_time": "2020-12-13T01:43:14.264205",
     "exception": false,
     "start_time": "2020-12-13T01:43:14.169428",
     "status": "completed"
    },
    "tags": []
   },
   "outputs": [],
   "source": [
    "#df[FEATURES_LIST]"
   ]
  },
  {
   "cell_type": "markdown",
   "metadata": {
    "papermill": {
     "duration": 0.063234,
     "end_time": "2020-12-13T01:43:14.390384",
     "exception": false,
     "start_time": "2020-12-13T01:43:14.327150",
     "status": "completed"
    },
    "tags": []
   },
   "source": [
    "# Utility calculation function"
   ]
  },
  {
   "cell_type": "code",
   "execution_count": 43,
   "metadata": {
    "execution": {
     "iopub.execute_input": "2020-12-13T01:43:14.522802Z",
     "iopub.status.busy": "2020-12-13T01:43:14.522070Z",
     "iopub.status.idle": "2020-12-13T01:43:14.525110Z",
     "shell.execute_reply": "2020-12-13T01:43:14.524703Z"
    },
    "papermill": {
     "duration": 0.071874,
     "end_time": "2020-12-13T01:43:14.525196",
     "exception": false,
     "start_time": "2020-12-13T01:43:14.453322",
     "status": "completed"
    },
    "tags": []
   },
   "outputs": [],
   "source": [
    "def utility_function(df_test, df_test_predictions):\n",
    "    df_test.loc[:, 'utility_pj'] = df_test['weight'] * df_test['resp'] * df_test_predictions\n",
    "    df_test_utility_pi = df_test.groupby('date').sum('utility_pj')['utility_pj']\n",
    "    nb_unique_dates = df_test_utility_pi.shape[0]\n",
    "    t = (df_test_utility_pi.sum() / np.sqrt(df_test_utility_pi.pow(2).sum())) * (np.sqrt(250 / np.abs(nb_unique_dates)))\n",
    "    u = min(max(t, 0), 6) * df_test_utility_pi.sum()\n",
    "    \n",
    "    return(u)"
   ]
  },
  {
   "cell_type": "markdown",
   "metadata": {
    "papermill": {
     "duration": 0.067908,
     "end_time": "2020-12-13T01:43:14.655993",
     "exception": false,
     "start_time": "2020-12-13T01:43:14.588085",
     "status": "completed"
    },
    "tags": []
   },
   "source": [
    "# Train model"
   ]
  },
  {
   "cell_type": "code",
   "execution_count": 44,
   "metadata": {
    "execution": {
     "iopub.execute_input": "2020-12-13T01:43:14.786169Z",
     "iopub.status.busy": "2020-12-13T01:43:14.785317Z",
     "iopub.status.idle": "2020-12-13T01:43:14.789207Z",
     "shell.execute_reply": "2020-12-13T01:43:14.788805Z"
    },
    "papermill": {
     "duration": 0.070774,
     "end_time": "2020-12-13T01:43:14.789291",
     "exception": false,
     "start_time": "2020-12-13T01:43:14.718517",
     "status": "completed"
    },
    "tags": []
   },
   "outputs": [
    {
     "data": {
      "text/plain": [
       "'\\nparams = {\\n    \\n    \\'random_state\\' : 42,\\n    \\'max_depth\\': 12,\\n    #\\'max_depth\\': 50,\\n    #\\'learning_rate\\': 0.05,\\n    \\'learning_rate\\': 0.01,\\n    \\'subsample\\': 0.9,\\n    \\'colsample_bytree\\': 0.2,\\n    \\'tree_method\\': \\'gpu_hist\\',\\n    \\'seed\\': 42,\\n    \\'objective\\' : \"binary:logistic\",\\n    \"disable_default_eval_metric\": 1,\\n}\\n'"
      ]
     },
     "execution_count": 44,
     "metadata": {},
     "output_type": "execute_result"
    }
   ],
   "source": [
    "'''\n",
    "params = {\n",
    "    \n",
    "    'random_state' : 42,\n",
    "    'max_depth': 12,\n",
    "    #'max_depth': 50,\n",
    "    #'learning_rate': 0.05,\n",
    "    'learning_rate': 0.01,\n",
    "    'subsample': 0.9,\n",
    "    'colsample_bytree': 0.2,\n",
    "    'tree_method': 'gpu_hist',\n",
    "    'seed': 42,\n",
    "    'objective' : \"binary:logistic\",\n",
    "    \"disable_default_eval_metric\": 1,\n",
    "}\n",
    "'''"
   ]
  },
  {
   "cell_type": "code",
   "execution_count": 45,
   "metadata": {
    "execution": {
     "iopub.execute_input": "2020-12-13T01:43:14.920811Z",
     "iopub.status.busy": "2020-12-13T01:43:14.920154Z",
     "iopub.status.idle": "2020-12-13T01:43:14.923029Z",
     "shell.execute_reply": "2020-12-13T01:43:14.922485Z"
    },
    "papermill": {
     "duration": 0.070459,
     "end_time": "2020-12-13T01:43:14.923113",
     "exception": false,
     "start_time": "2020-12-13T01:43:14.852654",
     "status": "completed"
    },
    "tags": []
   },
   "outputs": [],
   "source": [
    "if (XGBOOST_MODEL_INTERFACE == 'xgboost'):\n",
    "    d_train = xgb.DMatrix(df_train, label=y_train) #missing = ?"
   ]
  },
  {
   "cell_type": "code",
   "execution_count": 46,
   "metadata": {
    "execution": {
     "iopub.execute_input": "2020-12-13T01:43:15.054253Z",
     "iopub.status.busy": "2020-12-13T01:43:15.053533Z",
     "iopub.status.idle": "2020-12-13T01:43:15.056377Z",
     "shell.execute_reply": "2020-12-13T01:43:15.055980Z"
    },
    "papermill": {
     "duration": 0.070028,
     "end_time": "2020-12-13T01:43:15.056472",
     "exception": false,
     "start_time": "2020-12-13T01:43:14.986444",
     "status": "completed"
    },
    "tags": []
   },
   "outputs": [],
   "source": [
    "if (XGBOOST_MODEL_INTERFACE == 'xgboost'):\n",
    "    del df_train\n",
    "    gc.collect()"
   ]
  },
  {
   "cell_type": "code",
   "execution_count": 47,
   "metadata": {
    "execution": {
     "iopub.execute_input": "2020-12-13T01:43:15.189649Z",
     "iopub.status.busy": "2020-12-13T01:43:15.188959Z",
     "iopub.status.idle": "2020-12-13T01:43:15.191897Z",
     "shell.execute_reply": "2020-12-13T01:43:15.191372Z"
    },
    "papermill": {
     "duration": 0.071864,
     "end_time": "2020-12-13T01:43:15.191980",
     "exception": false,
     "start_time": "2020-12-13T01:43:15.120116",
     "status": "completed"
    },
    "tags": []
   },
   "outputs": [],
   "source": [
    "if (XGBOOST_MODEL_INTERFACE == 'xgboost'):\n",
    "    d_test = xgb.DMatrix(df_test, label=y_test)"
   ]
  },
  {
   "cell_type": "code",
   "execution_count": 48,
   "metadata": {
    "execution": {
     "iopub.execute_input": "2020-12-13T01:43:15.324728Z",
     "iopub.status.busy": "2020-12-13T01:43:15.324064Z",
     "iopub.status.idle": "2020-12-13T01:43:15.326885Z",
     "shell.execute_reply": "2020-12-13T01:43:15.326347Z"
    },
    "papermill": {
     "duration": 0.070616,
     "end_time": "2020-12-13T01:43:15.326968",
     "exception": false,
     "start_time": "2020-12-13T01:43:15.256352",
     "status": "completed"
    },
    "tags": []
   },
   "outputs": [],
   "source": [
    "if (XGBOOST_MODEL_INTERFACE == 'xgboost'):\n",
    "    del df_test\n",
    "    gc.collect()"
   ]
  },
  {
   "cell_type": "code",
   "execution_count": 49,
   "metadata": {
    "execution": {
     "iopub.execute_input": "2020-12-13T01:43:15.460502Z",
     "iopub.status.busy": "2020-12-13T01:43:15.459921Z",
     "iopub.status.idle": "2020-12-13T01:43:15.462593Z",
     "shell.execute_reply": "2020-12-13T01:43:15.463090Z"
    },
    "papermill": {
     "duration": 0.071813,
     "end_time": "2020-12-13T01:43:15.463185",
     "exception": false,
     "start_time": "2020-12-13T01:43:15.391372",
     "status": "completed"
    },
    "tags": []
   },
   "outputs": [],
   "source": [
    "from sklearn.metrics import brier_score_loss\n",
    "#brier_score_loss(y_true, y_prob)\n",
    "\n",
    "#def brier_score_custom(predt: np.ndarray, dtrain: xgb.DMatrix):\n",
    "def brier_score_custom(y_pred_scores, y_true):\n",
    "    probas = 1/(1+np.exp(-y_pred_scores)) # y_pred_scores \n",
    "    #print(probas)\n",
    "    #print(y_true.get_label())\n",
    "    #print(probas - y_true.get_label())\n",
    "    #print('*************')\n",
    "    \n",
    "    #print(y_pred_scores)\n",
    "    #print(y_true.get_label())\n",
    "    brier_score = brier_score_loss(y_true.get_label(), probas)\n",
    "    #print(brier_score)\n",
    "    \n",
    "    return('brier_loss', brier_score)"
   ]
  },
  {
   "cell_type": "code",
   "execution_count": 50,
   "metadata": {
    "execution": {
     "iopub.execute_input": "2020-12-13T01:43:15.600362Z",
     "iopub.status.busy": "2020-12-13T01:43:15.599549Z",
     "iopub.status.idle": "2020-12-13T01:43:15.602899Z",
     "shell.execute_reply": "2020-12-13T01:43:15.603328Z"
    },
    "papermill": {
     "duration": 0.074741,
     "end_time": "2020-12-13T01:43:15.603431",
     "exception": false,
     "start_time": "2020-12-13T01:43:15.528690",
     "status": "completed"
    },
    "tags": []
   },
   "outputs": [
    {
     "data": {
      "text/plain": [
       "\"\\nif (XGBOOST_MODEL_INTERFACE == 'sklearn'):\\n    model = XGBClassifier(\\n    random_state= 42,\\n    max_depth= 12,\\n    n_estimators= 500,\\n    learning_rate= 0.05,\\n    subsample= 0.9,\\n    colsample_bytree= 0.7,\\n    tree_method= 'gpu_hist',\\n    #objective= 'binary:logistic',\\n    verbosity=3\\n    )\\n\""
      ]
     },
     "execution_count": 50,
     "metadata": {},
     "output_type": "execute_result"
    }
   ],
   "source": [
    "if (XGBOOST_MODEL_INTERFACE == 'sklearn'):\n",
    "    model = XGBClassifier(\n",
    "    random_state= 42,\n",
    "    max_depth= 12,\n",
    "    n_estimators= 500,\n",
    "    learning_rate= 0.01,\n",
    "    subsample= 0.9,\n",
    "    colsample_bytree= 0.2,\n",
    "    tree_method= 'gpu_hist',\n",
    "    objective= 'binary:logistic',\n",
    "    disable_default_eval_metric=True,\n",
    "    )\n",
    "\n",
    "'''\n",
    "if (XGBOOST_MODEL_INTERFACE == 'sklearn'):\n",
    "    model = XGBClassifier(\n",
    "    random_state= 42,\n",
    "    max_depth= 12,\n",
    "    n_estimators= 500,\n",
    "    learning_rate= 0.05,\n",
    "    subsample= 0.9,\n",
    "    colsample_bytree= 0.7,\n",
    "    tree_method= 'gpu_hist',\n",
    "    #objective= 'binary:logistic',\n",
    "    verbosity=3\n",
    "    )\n",
    "'''"
   ]
  },
  {
   "cell_type": "code",
   "execution_count": 51,
   "metadata": {
    "execution": {
     "iopub.execute_input": "2020-12-13T01:43:15.736863Z",
     "iopub.status.busy": "2020-12-13T01:43:15.736239Z",
     "iopub.status.idle": "2020-12-13T01:43:15.743194Z",
     "shell.execute_reply": "2020-12-13T01:43:15.742662Z"
    },
    "papermill": {
     "duration": 0.075064,
     "end_time": "2020-12-13T01:43:15.743277",
     "exception": false,
     "start_time": "2020-12-13T01:43:15.668213",
     "status": "completed"
    },
    "tags": []
   },
   "outputs": [
    {
     "data": {
      "text/plain": [
       "XGBClassifier(base_score=None, booster=None, colsample_bylevel=None,\n",
       "              colsample_bynode=None, colsample_bytree=0.2,\n",
       "              disable_default_eval_metric=True, gamma=None, gpu_id=None,\n",
       "              importance_type='gain', interaction_constraints=None,\n",
       "              learning_rate=0.01, max_delta_step=None, max_depth=12,\n",
       "              min_child_weight=None, missing=nan, monotone_constraints=None,\n",
       "              n_estimators=500, n_jobs=None, num_parallel_tree=None,\n",
       "              random_state=42, reg_alpha=None, reg_lambda=None,\n",
       "              scale_pos_weight=None, subsample=0.9, tree_method='gpu_hist',\n",
       "              validate_parameters=None, verbosity=None)"
      ]
     },
     "metadata": {},
     "output_type": "display_data"
    }
   ],
   "source": [
    "if (XGBOOST_MODEL_INTERFACE == 'sklearn'):\n",
    "    display(model)"
   ]
  },
  {
   "cell_type": "code",
   "execution_count": 52,
   "metadata": {
    "execution": {
     "iopub.execute_input": "2020-12-13T01:43:16.215794Z",
     "iopub.status.busy": "2020-12-13T01:43:16.214784Z",
     "iopub.status.idle": "2020-12-13T01:45:11.998885Z",
     "shell.execute_reply": "2020-12-13T01:45:11.999829Z"
    },
    "papermill": {
     "duration": 116.191109,
     "end_time": "2020-12-13T01:45:12.000020",
     "exception": false,
     "start_time": "2020-12-13T01:43:15.808911",
     "status": "completed"
    },
    "tags": []
   },
   "outputs": [
    {
     "name": "stdout",
     "output_type": "stream",
     "text": [
      "CPU times: user 1min 50s, sys: 4.69 s, total: 1min 55s\n",
      "Wall time: 1min 56s\n"
     ]
    }
   ],
   "source": [
    "%%time\n",
    "if (XGBOOST_MODEL_INTERFACE == 'sklearn'):\n",
    "    FEATURES_LIST_TOTRAIN = ['feature_'+str(i) for i in range(130)] + ['weight']\n",
    "        \n",
    "    if (DO_GRIDSEARCH == True):\n",
    "        param_search = { 'random_state': [42],\n",
    "                 'max_depth': [12],\n",
    "                 'n_estimators': [500],\n",
    "                'learning_rate': [0.05],\n",
    "                'subsample': [0.9],\n",
    "                'colsample_bytree': [0.7],\n",
    "                 'tree_method': ['gpu_hist'],\n",
    "               }\n",
    "        \n",
    "        model = XGBClassifier()\n",
    "        \n",
    "        tscv_subsplits = TimeSeriesSplit(n_splits=3)\n",
    "\n",
    "        grid_search = GridSearchCV(estimator=model, cv=tscv_subsplits,\n",
    "                        param_grid=param_search, verbose=10)\n",
    "\n",
    "        grid_search.fit(df_train[FEATURES_LIST_TOTRAIN], y_train)\n",
    "        \n",
    "        model = grid_search.best_estimator_\n",
    "        \n",
    "    \n",
    "    else:\n",
    "        model.fit(df_train[FEATURES_LIST_TOTRAIN], y_train, verbose=True)\n",
    "        \n",
    "        #model.fit(df_train, y_train, verbose=True)\n",
    "        \n",
    "        \n",
    "        #model.fit(df_train, y_train, verbose=True, eval_metric=brier_score_custom)\n",
    "        #model.fit(df_train, y_train, early_stopping_rounds=10, verbose=True, eval_metric=brier_score_custom)"
   ]
  },
  {
   "cell_type": "markdown",
   "metadata": {
    "papermill": {
     "duration": 0.06551,
     "end_time": "2020-12-13T01:45:12.134385",
     "exception": false,
     "start_time": "2020-12-13T01:45:12.068875",
     "status": "completed"
    },
    "tags": []
   },
   "source": [
    "learning rate 0.1, max depth 12, subsample 0.9, colsample by tree 0.2, learning rate 0.01 SANS FEATURES MACD, AVEC tout le training set, et pas d'eval set, interface scikit learn :    \n",
    "=> utility score 2137 avec threshold 0.504"
   ]
  },
  {
   "cell_type": "code",
   "execution_count": 53,
   "metadata": {
    "execution": {
     "iopub.execute_input": "2020-12-13T01:45:12.270400Z",
     "iopub.status.busy": "2020-12-13T01:45:12.269543Z",
     "iopub.status.idle": "2020-12-13T01:45:12.276902Z",
     "shell.execute_reply": "2020-12-13T01:45:12.276367Z"
    },
    "papermill": {
     "duration": 0.07748,
     "end_time": "2020-12-13T01:45:12.277003",
     "exception": false,
     "start_time": "2020-12-13T01:45:12.199523",
     "status": "completed"
    },
    "tags": []
   },
   "outputs": [
    {
     "data": {
      "text/plain": [
       "XGBClassifier(base_score=0.5, booster='gbtree', colsample_bylevel=1,\n",
       "              colsample_bynode=1, colsample_bytree=0.2,\n",
       "              disable_default_eval_metric=True, gamma=0, gpu_id=0,\n",
       "              importance_type='gain', interaction_constraints='',\n",
       "              learning_rate=0.01, max_delta_step=0, max_depth=12,\n",
       "              min_child_weight=1, missing=nan,\n",
       "              monotone_constraints='(0,0,0,0,0,0,0,0,0,0,0,0,0,0,0,0,0,0,0,0,0...0,0,0,0,0,0,0,0,0,0,0,0,0,0,0,0,0,0,0,0,0,0,0,0,0,0,0,0,0,0,0,0,0,0,0,0,0,0,0,0,0,0,0,0,0,0,0,0,0,0,0,0,0,0,0,0,0,0,0,0,0,0,0,0,0,0,0,0,0,0,0,0,0,0,0,0,0,0,0,0,0,0,0,0)',\n",
       "              n_estimators=500, n_jobs=0, num_parallel_tree=1, random_state=42,\n",
       "              reg_alpha=0, reg_lambda=1, scale_pos_weight=1, subsample=0.9,\n",
       "              tree_method='gpu_hist', validate_parameters=1, verbosity=None)"
      ]
     },
     "execution_count": 53,
     "metadata": {},
     "output_type": "execute_result"
    }
   ],
   "source": [
    "model"
   ]
  },
  {
   "cell_type": "code",
   "execution_count": 54,
   "metadata": {
    "execution": {
     "iopub.execute_input": "2020-12-13T01:45:12.412941Z",
     "iopub.status.busy": "2020-12-13T01:45:12.412235Z",
     "iopub.status.idle": "2020-12-13T01:45:31.851549Z",
     "shell.execute_reply": "2020-12-13T01:45:31.850546Z"
    },
    "papermill": {
     "duration": 19.509234,
     "end_time": "2020-12-13T01:45:31.851673",
     "exception": false,
     "start_time": "2020-12-13T01:45:12.342439",
     "status": "completed"
    },
    "tags": []
   },
   "outputs": [
    {
     "data": {
      "text/plain": [
       "array([0.01590583, 0.00522758, 0.00533431, 0.01094499, 0.01036826,\n",
       "       0.01174053, 0.01209692, 0.00721649, 0.0073391 , 0.00551817,\n",
       "       0.00564565, 0.00567889, 0.00592693, 0.00529607, 0.00495152,\n",
       "       0.00512136, 0.0050876 , 0.00698608, 0.00710174, 0.00574209,\n",
       "       0.00757244, 0.00626185, 0.00619996, 0.00616974, 0.00618696,\n",
       "       0.00610517, 0.00678683, 0.0094261 , 0.00901566, 0.00615581,\n",
       "       0.0059833 , 0.00842877, 0.00648987, 0.00688043, 0.00626215,\n",
       "       0.00644605, 0.00629206, 0.00932113, 0.00990523, 0.01294239,\n",
       "       0.01028006, 0.01518055, 0.01497014, 0.01713819, 0.01470278,\n",
       "       0.01553604, 0.0061557 , 0.00645658, 0.00592694, 0.00624556,\n",
       "       0.00663339, 0.00577835, 0.00502384, 0.00683707, 0.00641841,\n",
       "       0.00916341, 0.00622399, 0.00831418, 0.00729965, 0.00676961,\n",
       "       0.01215199, 0.01143236, 0.01349106, 0.01325405, 0.00877274,\n",
       "       0.00783961, 0.00817153, 0.00815813, 0.0076533 , 0.00752321,\n",
       "       0.00735996, 0.00786371, 0.0067875 , 0.0052067 , 0.00565129,\n",
       "       0.00511928, 0.0052422 , 0.00973222, 0.00753527, 0.00536097,\n",
       "       0.00591704, 0.00518652, 0.00514557, 0.01058348, 0.00790787,\n",
       "       0.00541945, 0.00727318, 0.00560323, 0.00522622, 0.00908718,\n",
       "       0.00823561, 0.00518177, 0.00699034, 0.00574262, 0.00506978,\n",
       "       0.00956263, 0.00791693, 0.00527553, 0.00621246, 0.00569364,\n",
       "       0.00511841, 0.00829575, 0.00866017, 0.00517776, 0.00702557,\n",
       "       0.00565754, 0.00517889, 0.0101747 , 0.00802965, 0.00564828,\n",
       "       0.00660791, 0.00581929, 0.00525534, 0.00873889, 0.00860157,\n",
       "       0.00501766, 0.0071616 , 0.00574814, 0.00527432, 0.00934273,\n",
       "       0.01021603, 0.00879845, 0.00679851, 0.00625845, 0.00933767,\n",
       "       0.0088001 , 0.00880989, 0.00793067, 0.00729405, 0.00692864,\n",
       "       0.00563885], dtype=float32)"
      ]
     },
     "metadata": {},
     "output_type": "display_data"
    }
   ],
   "source": [
    "if (XGBOOST_MODEL_INTERFACE == 'sklearn'):\n",
    "    display(model.feature_importances_)"
   ]
  },
  {
   "cell_type": "code",
   "execution_count": 55,
   "metadata": {
    "execution": {
     "iopub.execute_input": "2020-12-13T01:45:31.995197Z",
     "iopub.status.busy": "2020-12-13T01:45:31.993550Z",
     "iopub.status.idle": "2020-12-13T01:45:31.997692Z",
     "shell.execute_reply": "2020-12-13T01:45:31.996862Z"
    },
    "papermill": {
     "duration": 0.077992,
     "end_time": "2020-12-13T01:45:31.997878",
     "exception": false,
     "start_time": "2020-12-13T01:45:31.919886",
     "status": "completed"
    },
    "tags": []
   },
   "outputs": [
    {
     "name": "stdout",
     "output_type": "stream",
     "text": [
      "CPU times: user 3 µs, sys: 0 ns, total: 3 µs\n",
      "Wall time: 6.2 µs\n"
     ]
    }
   ],
   "source": [
    "%%time\n",
    "if (XGBOOST_MODEL_INTERFACE == 'xgboost'):\n",
    "    #watchlist = [(d_train, 'train'), (d_test, 'valid')]\n",
    "    # A essayer : pas de watchlist (on va d'abord essayer avec le wrapper scikit learn)\n",
    "    model = xgb.train(dtrain=d_train, early_stopping_rounds=10, verbose_eval=1000, params=params, num_boost_round=500, feval=brier_score_custom, maximize=False)\n",
    "\n",
    "    #model = xgb.train(dtrain=d_train, evals=watchlist, early_stopping_rounds=10, verbose_eval=1000, params=params, num_boost_round=500, feval=brier_score_custom, maximize=False)\n",
    "\n",
    "\n",
    "    #model = xgb.train(dtrain=d_train, evals=watchlist, early_stopping_rounds=10, verbose_eval=1000, params=params, num_boost_round=500)"
   ]
  },
  {
   "cell_type": "markdown",
   "metadata": {
    "papermill": {
     "duration": 0.066756,
     "end_time": "2020-12-13T01:45:32.133758",
     "exception": false,
     "start_time": "2020-12-13T01:45:32.067002",
     "status": "completed"
    },
    "tags": []
   },
   "source": [
    "Stopping. Best iteration:  \n",
    "[37]\ttrain-rmse:0.48218\tvalid-rmse:0.49920  \n",
    "\n",
    "With just basic features and weight :  \n",
    "[13]\ttrain-error:0.40596\tvalid-error:0.47772 \n",
    "\n",
    "With just basic features and weight, but prediction on all resp positive :\n",
    "[5]\ttrain-error:0.25558\tvalid-error:0.26560\n",
    "\n",
    "With max depth 50 :  \n",
    "[0]\ttrain-brier_loss:0.23657\tvalid-brier_loss:0.25021  \n",
    "\n",
    "learning rate 0.1, max depth 20 :  \n",
    "[19]\ttrain-brier_loss:0.23434\tvalid-brier_loss:0.24996\n",
    "\n",
    "learning rate 0.1, max depth 12 :  \n",
    "[19]\ttrain-brier_loss:0.23434\tvalid-brier_loss:0.24930  \n",
    "\n",
    "\n",
    "learning rate 0.1, max depth 12, num_boost_round=1000 (au lieu de 500) :  \n",
    "[19]\ttrain-brier_loss:0.23434\tvalid-brier_loss:0.24930  => sûrement le early stopping\n",
    "\n",
    "\n",
    "learning rate 0.1, max depth 12, subsample 0.7 :  \n",
    "[15]\ttrain-brier_loss:0.23684\tvalid-brier_loss:0.24923\n",
    "\n",
    "learning rate 0.1, max depth 12, subsample 0.7, learning rate 0.05 :  \n",
    "[40]\ttrain-brier_loss:0.23427\tvalid-brier_loss:0.24905\n",
    "\n",
    "learning rate 0.1, max depth 12, subsample 0.5, learning rate 0.05 :    \n",
    "[44]\ttrain-brier_loss:0.23404\tvalid-brier_loss:0.24900\n",
    "\n",
    "learning rate 0.1, max depth 12, subsample 0.5, learning rate 0.02 :   \n",
    "[96]\ttrain-brier_loss:0.23530\tvalid-brier_loss:0.24882 => utility score 2035.28\n",
    "\n",
    "learning rate 0.1, max depth 12, subsample 0.5, colsample by tree 0.2, learning rate 0.02 :   \n",
    "[156]\ttrain-brier_loss:0.23395\tvalid-brier_loss:0.24877  => utility score 2162.89\n",
    "\n",
    "learning rate 0.1, max depth 12, subsample 0.9, colsample by tree 0.2, learning rate 0.02 :   \n",
    "[143]\ttrain-brier_loss:0.23329\tvalid-brier_loss:0.24862 => utility score 2187.13\n",
    "\n",
    "learning rate 0.1, max depth 12, subsample 0.9, colsample by tree 0.2, learning rate 0.01 :   \n",
    "[327]\ttrain-brier_loss:0.23182\tvalid-brier_loss:0.24859 => utility score 2191 => 2214.06 avec threshold 0.503   => BEST\n",
    "     \n",
    "learning rate 0.1, max depth 12, subsample 0.9, colsample by tree 0.2, learning rate 0.01 ET FEATURES MACD, AVEC la moitié du training set :  \n",
    "[265]\ttrain-brier_loss:0.22946\tvalid-brier_loss:0.24851  => utility score 1480.29 avec threshold 0.503\n",
    "\n",
    "learning rate 0.1, max depth 12, subsample 0.9, colsample by tree 0.2, learning rate 0.01 SANS FEATURES MACD, AVEC la moitié du training set :  \n",
    "[286]\ttrain-brier_loss:0.22920\tvalid-brier_loss:0.24832  => utility score 1423 avec threshold 0.503 "
   ]
  },
  {
   "cell_type": "code",
   "execution_count": 56,
   "metadata": {
    "execution": {
     "iopub.execute_input": "2020-12-13T01:45:32.273181Z",
     "iopub.status.busy": "2020-12-13T01:45:32.272651Z",
     "iopub.status.idle": "2020-12-13T01:45:32.277898Z",
     "shell.execute_reply": "2020-12-13T01:45:32.277397Z"
    },
    "papermill": {
     "duration": 0.07696,
     "end_time": "2020-12-13T01:45:32.278003",
     "exception": false,
     "start_time": "2020-12-13T01:45:32.201043",
     "status": "completed"
    },
    "tags": []
   },
   "outputs": [
    {
     "data": {
      "text/plain": [
       "\"\\n# This part uses scikit learn wrapper\\n%%time\\n#tscv_subsplits = TimeSeriesSplit(n_splits=2)\\n\\n#grid_search = GridSearchCV(estimator=model, cv=tscv_subsplits,\\n#                        param_grid=param_search, verbose=10)\\n\\n#grid_search.fit(df_train[FEATURES_LIST], y_train)\\n\\nmodel = xgb.XGBClassifier(random_state=42, max_depth=12, n_estimators=500, learning_rate=0.05, subsample=0.9, colsample_bytree=0.7, missing=-999, verbose=10, tree_method = 'gpu_hist')\\n#model = xgb.XGBClassifier(random_state=42, max_depth=12, n_estimators=500, learning_rate=0.05, subsample=0.9, colsample_bytree=0.7, missing=-999, verbose=10)\\n\\n#model.fit(df_train[FEATURES_LIST], y_train)\\nmodel.fit(df_train, y_train, early_stopping_rounds=10,  eval_set=[(df_test, y_test)])\\n\\n#model = grid_search\\n\""
      ]
     },
     "execution_count": 56,
     "metadata": {},
     "output_type": "execute_result"
    }
   ],
   "source": [
    "'''\n",
    "# This part uses scikit learn wrapper\n",
    "%%time\n",
    "#tscv_subsplits = TimeSeriesSplit(n_splits=2)\n",
    "\n",
    "#grid_search = GridSearchCV(estimator=model, cv=tscv_subsplits,\n",
    "#                        param_grid=param_search, verbose=10)\n",
    "\n",
    "#grid_search.fit(df_train[FEATURES_LIST], y_train)\n",
    "\n",
    "model = xgb.XGBClassifier(random_state=42, max_depth=12, n_estimators=500, learning_rate=0.05, subsample=0.9, colsample_bytree=0.7, missing=-999, verbose=10, tree_method = 'gpu_hist')\n",
    "#model = xgb.XGBClassifier(random_state=42, max_depth=12, n_estimators=500, learning_rate=0.05, subsample=0.9, colsample_bytree=0.7, missing=-999, verbose=10)\n",
    "\n",
    "#model.fit(df_train[FEATURES_LIST], y_train)\n",
    "model.fit(df_train, y_train, early_stopping_rounds=10,  eval_set=[(df_test, y_test)])\n",
    "\n",
    "#model = grid_search\n",
    "'''"
   ]
  },
  {
   "cell_type": "code",
   "execution_count": 57,
   "metadata": {
    "execution": {
     "iopub.execute_input": "2020-12-13T01:45:32.417987Z",
     "iopub.status.busy": "2020-12-13T01:45:32.417295Z",
     "iopub.status.idle": "2020-12-13T01:45:32.420977Z",
     "shell.execute_reply": "2020-12-13T01:45:32.421393Z"
    },
    "papermill": {
     "duration": 0.075601,
     "end_time": "2020-12-13T01:45:32.421502",
     "exception": false,
     "start_time": "2020-12-13T01:45:32.345901",
     "status": "completed"
    },
    "tags": []
   },
   "outputs": [
    {
     "name": "stdout",
     "output_type": "stream",
     "text": [
      "Model training ended\n"
     ]
    }
   ],
   "source": [
    "print('Model training ended')"
   ]
  },
  {
   "cell_type": "code",
   "execution_count": 58,
   "metadata": {
    "execution": {
     "iopub.execute_input": "2020-12-13T01:45:32.561208Z",
     "iopub.status.busy": "2020-12-13T01:45:32.560555Z",
     "iopub.status.idle": "2020-12-13T01:45:32.563635Z",
     "shell.execute_reply": "2020-12-13T01:45:32.563038Z"
    },
    "papermill": {
     "duration": 0.074395,
     "end_time": "2020-12-13T01:45:32.563750",
     "exception": false,
     "start_time": "2020-12-13T01:45:32.489355",
     "status": "completed"
    },
    "tags": []
   },
   "outputs": [],
   "source": [
    "if (XGBOOST_MODEL_INTERFACE == 'xgboost'):\n",
    "    model.save_model(XGBOOST_MODEL_FILE)"
   ]
  },
  {
   "cell_type": "code",
   "execution_count": 59,
   "metadata": {
    "execution": {
     "iopub.execute_input": "2020-12-13T01:45:32.703816Z",
     "iopub.status.busy": "2020-12-13T01:45:32.703168Z",
     "iopub.status.idle": "2020-12-13T01:45:32.706015Z",
     "shell.execute_reply": "2020-12-13T01:45:32.705591Z"
    },
    "papermill": {
     "duration": 0.074129,
     "end_time": "2020-12-13T01:45:32.706102",
     "exception": false,
     "start_time": "2020-12-13T01:45:32.631973",
     "status": "completed"
    },
    "tags": []
   },
   "outputs": [],
   "source": [
    "#model.best_estimator_"
   ]
  },
  {
   "cell_type": "code",
   "execution_count": 60,
   "metadata": {
    "execution": {
     "iopub.execute_input": "2020-12-13T01:45:32.846163Z",
     "iopub.status.busy": "2020-12-13T01:45:32.845416Z",
     "iopub.status.idle": "2020-12-13T01:45:32.847948Z",
     "shell.execute_reply": "2020-12-13T01:45:32.848382Z"
    },
    "papermill": {
     "duration": 0.074439,
     "end_time": "2020-12-13T01:45:32.848500",
     "exception": false,
     "start_time": "2020-12-13T01:45:32.774061",
     "status": "completed"
    },
    "tags": []
   },
   "outputs": [],
   "source": [
    "#model.best_estimator_.feature_importances_"
   ]
  },
  {
   "cell_type": "code",
   "execution_count": 61,
   "metadata": {
    "execution": {
     "iopub.execute_input": "2020-12-13T01:45:32.989950Z",
     "iopub.status.busy": "2020-12-13T01:45:32.989271Z",
     "iopub.status.idle": "2020-12-13T01:45:32.992304Z",
     "shell.execute_reply": "2020-12-13T01:45:32.992817Z"
    },
    "papermill": {
     "duration": 0.076043,
     "end_time": "2020-12-13T01:45:32.992916",
     "exception": false,
     "start_time": "2020-12-13T01:45:32.916873",
     "status": "completed"
    },
    "tags": []
   },
   "outputs": [],
   "source": [
    "if (XGBOOST_MODEL_INTERFACE == 'xgboost'):\n",
    "    df_gains = pd.DataFrame.from_dict(model.get_score(importance_type='gain'), orient='index', columns=['gain']).sort_values(by='gain', ascending=False)"
   ]
  },
  {
   "cell_type": "code",
   "execution_count": 62,
   "metadata": {
    "execution": {
     "iopub.execute_input": "2020-12-13T01:45:33.134813Z",
     "iopub.status.busy": "2020-12-13T01:45:33.134135Z",
     "iopub.status.idle": "2020-12-13T01:45:33.136466Z",
     "shell.execute_reply": "2020-12-13T01:45:33.136991Z"
    },
    "papermill": {
     "duration": 0.075589,
     "end_time": "2020-12-13T01:45:33.137091",
     "exception": false,
     "start_time": "2020-12-13T01:45:33.061502",
     "status": "completed"
    },
    "tags": []
   },
   "outputs": [],
   "source": [
    "if (XGBOOST_MODEL_INTERFACE == 'xgboost'):\n",
    "    df_gains_cumulated = pd.concat([df_gains, pd.DataFrame({'% Gain cumulé' : (df_gains['gain'] / df_gains['gain'].sum()).cumsum()})], axis=1)"
   ]
  },
  {
   "cell_type": "code",
   "execution_count": 63,
   "metadata": {
    "execution": {
     "iopub.execute_input": "2020-12-13T01:45:33.278426Z",
     "iopub.status.busy": "2020-12-13T01:45:33.277544Z",
     "iopub.status.idle": "2020-12-13T01:45:33.280152Z",
     "shell.execute_reply": "2020-12-13T01:45:33.280533Z"
    },
    "papermill": {
     "duration": 0.075037,
     "end_time": "2020-12-13T01:45:33.280655",
     "exception": false,
     "start_time": "2020-12-13T01:45:33.205618",
     "status": "completed"
    },
    "tags": []
   },
   "outputs": [],
   "source": [
    "if (XGBOOST_MODEL_INTERFACE == 'xgboost'):\n",
    "    df_gains_cumulated['% Gain cumulé'].plot.bar()"
   ]
  },
  {
   "cell_type": "code",
   "execution_count": 64,
   "metadata": {
    "execution": {
     "iopub.execute_input": "2020-12-13T01:45:33.423453Z",
     "iopub.status.busy": "2020-12-13T01:45:33.422719Z",
     "iopub.status.idle": "2020-12-13T01:45:33.425360Z",
     "shell.execute_reply": "2020-12-13T01:45:33.424944Z"
    },
    "papermill": {
     "duration": 0.075623,
     "end_time": "2020-12-13T01:45:33.425455",
     "exception": false,
     "start_time": "2020-12-13T01:45:33.349832",
     "status": "completed"
    },
    "tags": []
   },
   "outputs": [],
   "source": [
    "#model.feature_importances_"
   ]
  },
  {
   "cell_type": "markdown",
   "metadata": {
    "papermill": {
     "duration": 0.06892,
     "end_time": "2020-12-13T01:45:33.562974",
     "exception": false,
     "start_time": "2020-12-13T01:45:33.494054",
     "status": "completed"
    },
    "tags": []
   },
   "source": [
    "# Save model"
   ]
  },
  {
   "cell_type": "code",
   "execution_count": 65,
   "metadata": {
    "execution": {
     "iopub.execute_input": "2020-12-13T01:45:33.705536Z",
     "iopub.status.busy": "2020-12-13T01:45:33.704930Z",
     "iopub.status.idle": "2020-12-13T01:45:33.708913Z",
     "shell.execute_reply": "2020-12-13T01:45:33.709607Z"
    },
    "papermill": {
     "duration": 0.077242,
     "end_time": "2020-12-13T01:45:33.709757",
     "exception": false,
     "start_time": "2020-12-13T01:45:33.632515",
     "status": "completed"
    },
    "tags": []
   },
   "outputs": [
    {
     "name": "stdout",
     "output_type": "stream",
     "text": [
      "Saving model\n"
     ]
    }
   ],
   "source": [
    "print('Saving model')"
   ]
  },
  {
   "cell_type": "code",
   "execution_count": 66,
   "metadata": {
    "execution": {
     "iopub.execute_input": "2020-12-13T01:45:33.853756Z",
     "iopub.status.busy": "2020-12-13T01:45:33.852451Z",
     "iopub.status.idle": "2020-12-13T01:45:34.096688Z",
     "shell.execute_reply": "2020-12-13T01:45:34.096188Z"
    },
    "papermill": {
     "duration": 0.317193,
     "end_time": "2020-12-13T01:45:34.096803",
     "exception": false,
     "start_time": "2020-12-13T01:45:33.779610",
     "status": "completed"
    },
    "tags": []
   },
   "outputs": [],
   "source": [
    "with open(MODEL_FILE, 'wb') as f:\n",
    "    pickle.dump(model, f, pickle.HIGHEST_PROTOCOL)"
   ]
  },
  {
   "cell_type": "code",
   "execution_count": 67,
   "metadata": {
    "execution": {
     "iopub.execute_input": "2020-12-13T01:45:34.249593Z",
     "iopub.status.busy": "2020-12-13T01:45:34.248876Z",
     "iopub.status.idle": "2020-12-13T01:45:34.251790Z",
     "shell.execute_reply": "2020-12-13T01:45:34.251356Z"
    },
    "papermill": {
     "duration": 0.084813,
     "end_time": "2020-12-13T01:45:34.251884",
     "exception": false,
     "start_time": "2020-12-13T01:45:34.167071",
     "status": "completed"
    },
    "tags": []
   },
   "outputs": [],
   "source": [
    "if (XGBOOST_MODEL_INTERFACE == 'xgboost'):\n",
    "    model.save_model(XGBOOST_MODEL_FILE)"
   ]
  },
  {
   "cell_type": "code",
   "execution_count": 68,
   "metadata": {
    "execution": {
     "iopub.execute_input": "2020-12-13T01:45:34.397334Z",
     "iopub.status.busy": "2020-12-13T01:45:34.396562Z",
     "iopub.status.idle": "2020-12-13T01:45:35.076667Z",
     "shell.execute_reply": "2020-12-13T01:45:35.077446Z"
    },
    "papermill": {
     "duration": 0.75544,
     "end_time": "2020-12-13T01:45:35.077603",
     "exception": false,
     "start_time": "2020-12-13T01:45:34.322163",
     "status": "completed"
    },
    "tags": []
   },
   "outputs": [
    {
     "name": "stdout",
     "output_type": "stream",
     "text": [
      "total 64028\r\n",
      "---------- 1 root root    97443 Dec 13 01:45 __notebook__.ipynb\r\n",
      "-rw-r--r-- 1 root root 65465395 Dec 13 01:45 model.pickle\r\n"
     ]
    }
   ],
   "source": [
    "!ls -l"
   ]
  },
  {
   "cell_type": "code",
   "execution_count": 69,
   "metadata": {
    "execution": {
     "iopub.execute_input": "2020-12-13T01:45:35.225352Z",
     "iopub.status.busy": "2020-12-13T01:45:35.224441Z",
     "iopub.status.idle": "2020-12-13T01:45:35.228281Z",
     "shell.execute_reply": "2020-12-13T01:45:35.227872Z"
    },
    "papermill": {
     "duration": 0.07954,
     "end_time": "2020-12-13T01:45:35.228366",
     "exception": false,
     "start_time": "2020-12-13T01:45:35.148826",
     "status": "completed"
    },
    "tags": []
   },
   "outputs": [
    {
     "data": {
      "text/plain": [
       "'\\ndf_grid_search_results = pd.concat([pd.DataFrame(grid_search.cv_results_[\"params\"]),pd.DataFrame(grid_search.cv_results_[\"mean_test_score\"], columns=[\"mean_test_score\"])],axis=1)\\ndf_grid_search_results = pd.concat([df_grid_search_results,pd.DataFrame(grid_search.cv_results_[\"std_test_score\"], columns=[\"std_test_score\"])],axis=1)\\ndf_grid_search_results = pd.concat([df_grid_search_results,pd.DataFrame(grid_search.cv_results_[\"mean_fit_time\"], columns=[\"mean_fit_time\"])],axis=1)\\ndf_grid_search_results = pd.concat([df_grid_search_results,pd.DataFrame(grid_search.cv_results_[\"mean_score_time\"], columns=[\"mean_score_time\"])],axis=1)\\n'"
      ]
     },
     "execution_count": 69,
     "metadata": {},
     "output_type": "execute_result"
    }
   ],
   "source": [
    "'''\n",
    "df_grid_search_results = pd.concat([pd.DataFrame(grid_search.cv_results_[\"params\"]),pd.DataFrame(grid_search.cv_results_[\"mean_test_score\"], columns=[\"mean_test_score\"])],axis=1)\n",
    "df_grid_search_results = pd.concat([df_grid_search_results,pd.DataFrame(grid_search.cv_results_[\"std_test_score\"], columns=[\"std_test_score\"])],axis=1)\n",
    "df_grid_search_results = pd.concat([df_grid_search_results,pd.DataFrame(grid_search.cv_results_[\"mean_fit_time\"], columns=[\"mean_fit_time\"])],axis=1)\n",
    "df_grid_search_results = pd.concat([df_grid_search_results,pd.DataFrame(grid_search.cv_results_[\"mean_score_time\"], columns=[\"mean_score_time\"])],axis=1)\n",
    "'''"
   ]
  },
  {
   "cell_type": "code",
   "execution_count": 70,
   "metadata": {
    "execution": {
     "iopub.execute_input": "2020-12-13T01:45:35.373464Z",
     "iopub.status.busy": "2020-12-13T01:45:35.372822Z",
     "iopub.status.idle": "2020-12-13T01:45:35.375844Z",
     "shell.execute_reply": "2020-12-13T01:45:35.375292Z"
    },
    "papermill": {
     "duration": 0.076384,
     "end_time": "2020-12-13T01:45:35.375928",
     "exception": false,
     "start_time": "2020-12-13T01:45:35.299544",
     "status": "completed"
    },
    "tags": []
   },
   "outputs": [],
   "source": [
    "#df_grid_search_results"
   ]
  },
  {
   "cell_type": "markdown",
   "metadata": {
    "papermill": {
     "duration": 0.070234,
     "end_time": "2020-12-13T01:45:35.518673",
     "exception": false,
     "start_time": "2020-12-13T01:45:35.448439",
     "status": "completed"
    },
    "tags": []
   },
   "source": [
    "# Test predictions"
   ]
  },
  {
   "cell_type": "code",
   "execution_count": 71,
   "metadata": {
    "execution": {
     "iopub.execute_input": "2020-12-13T01:45:35.666324Z",
     "iopub.status.busy": "2020-12-13T01:45:35.665694Z",
     "iopub.status.idle": "2020-12-13T01:45:35.670241Z",
     "shell.execute_reply": "2020-12-13T01:45:35.669508Z"
    },
    "papermill": {
     "duration": 0.078996,
     "end_time": "2020-12-13T01:45:35.670352",
     "exception": false,
     "start_time": "2020-12-13T01:45:35.591356",
     "status": "completed"
    },
    "tags": []
   },
   "outputs": [
    {
     "name": "stdout",
     "output_type": "stream",
     "text": [
      "Testing predictions\n"
     ]
    }
   ],
   "source": [
    "print('Testing predictions')"
   ]
  },
  {
   "cell_type": "code",
   "execution_count": 72,
   "metadata": {
    "execution": {
     "iopub.execute_input": "2020-12-13T01:45:35.817874Z",
     "iopub.status.busy": "2020-12-13T01:45:35.817101Z",
     "iopub.status.idle": "2020-12-13T01:45:35.820207Z",
     "shell.execute_reply": "2020-12-13T01:45:35.819683Z"
    },
    "papermill": {
     "duration": 0.0781,
     "end_time": "2020-12-13T01:45:35.820290",
     "exception": false,
     "start_time": "2020-12-13T01:45:35.742190",
     "status": "completed"
    },
    "tags": []
   },
   "outputs": [],
   "source": [
    "#PREDICT_THRESHOLD = 0.504\n",
    "PREDICT_THRESHOLD = 0.5"
   ]
  },
  {
   "cell_type": "code",
   "execution_count": 73,
   "metadata": {
    "execution": {
     "iopub.execute_input": "2020-12-13T01:45:36.008723Z",
     "iopub.status.busy": "2020-12-13T01:45:36.004138Z",
     "iopub.status.idle": "2020-12-13T01:45:54.926143Z",
     "shell.execute_reply": "2020-12-13T01:45:54.925663Z"
    },
    "papermill": {
     "duration": 19.035287,
     "end_time": "2020-12-13T01:45:54.926249",
     "exception": false,
     "start_time": "2020-12-13T01:45:35.890962",
     "status": "completed"
    },
    "tags": []
   },
   "outputs": [],
   "source": [
    "if (XGBOOST_MODEL_INTERFACE == 'sklearn'):\n",
    "    #df_test_predictions = (pd.Series([p[1] for p in model.predict_proba(df_test)]) > PREDICT_THRESHOLD).astype(np.byte)\n",
    "    \n",
    "    df_test_predictions = (pd.Series([p[1] for p in model.predict_proba(df_test[FEATURES_LIST_TOTRAIN])]) > PREDICT_THRESHOLD).astype(np.byte)\n",
    "    \n",
    "    \n",
    "else:\n",
    "    df_test_predictions = (pd.Series(model.predict(d_test)) > PREDICT_THRESHOLD).astype(np.byte)"
   ]
  },
  {
   "cell_type": "code",
   "execution_count": 74,
   "metadata": {
    "execution": {
     "iopub.execute_input": "2020-12-13T01:45:55.077866Z",
     "iopub.status.busy": "2020-12-13T01:45:55.077149Z",
     "iopub.status.idle": "2020-12-13T01:45:55.081197Z",
     "shell.execute_reply": "2020-12-13T01:45:55.081601Z"
    },
    "papermill": {
     "duration": 0.083965,
     "end_time": "2020-12-13T01:45:55.081716",
     "exception": false,
     "start_time": "2020-12-13T01:45:54.997751",
     "status": "completed"
    },
    "tags": []
   },
   "outputs": [
    {
     "data": {
      "text/plain": [
       "0         0\n",
       "1         0\n",
       "2         0\n",
       "3         1\n",
       "4         1\n",
       "         ..\n",
       "217312    1\n",
       "217313    0\n",
       "217314    0\n",
       "217315    1\n",
       "217316    0\n",
       "Length: 217317, dtype: int8"
      ]
     },
     "execution_count": 74,
     "metadata": {},
     "output_type": "execute_result"
    }
   ],
   "source": [
    "df_test_predictions"
   ]
  },
  {
   "cell_type": "code",
   "execution_count": 75,
   "metadata": {
    "execution": {
     "iopub.execute_input": "2020-12-13T01:45:55.227517Z",
     "iopub.status.busy": "2020-12-13T01:45:55.226989Z",
     "iopub.status.idle": "2020-12-13T01:45:55.230991Z",
     "shell.execute_reply": "2020-12-13T01:45:55.230526Z"
    },
    "papermill": {
     "duration": 0.078424,
     "end_time": "2020-12-13T01:45:55.231072",
     "exception": false,
     "start_time": "2020-12-13T01:45:55.152648",
     "status": "completed"
    },
    "tags": []
   },
   "outputs": [],
   "source": [
    "df_test_origin.reset_index(drop=True, inplace=True)"
   ]
  },
  {
   "cell_type": "code",
   "execution_count": 76,
   "metadata": {
    "execution": {
     "iopub.execute_input": "2020-12-13T01:45:55.378389Z",
     "iopub.status.busy": "2020-12-13T01:45:55.377741Z",
     "iopub.status.idle": "2020-12-13T01:45:55.381057Z",
     "shell.execute_reply": "2020-12-13T01:45:55.381462Z"
    },
    "papermill": {
     "duration": 0.079301,
     "end_time": "2020-12-13T01:45:55.381589",
     "exception": false,
     "start_time": "2020-12-13T01:45:55.302288",
     "status": "completed"
    },
    "tags": []
   },
   "outputs": [
    {
     "data": {
      "text/plain": [
       "(217317, 139)"
      ]
     },
     "execution_count": 76,
     "metadata": {},
     "output_type": "execute_result"
    }
   ],
   "source": [
    "df_test_origin.shape"
   ]
  },
  {
   "cell_type": "code",
   "execution_count": 77,
   "metadata": {
    "execution": {
     "iopub.execute_input": "2020-12-13T01:45:55.528598Z",
     "iopub.status.busy": "2020-12-13T01:45:55.528067Z",
     "iopub.status.idle": "2020-12-13T01:45:55.532112Z",
     "shell.execute_reply": "2020-12-13T01:45:55.531704Z"
    },
    "papermill": {
     "duration": 0.078753,
     "end_time": "2020-12-13T01:45:55.532197",
     "exception": false,
     "start_time": "2020-12-13T01:45:55.453444",
     "status": "completed"
    },
    "tags": []
   },
   "outputs": [],
   "source": [
    "if (XGBOOST_MODEL_INTERFACE == 'xgboost'):\n",
    "    #df_test_predictions = model.predict(df_test[FEATURES_LIST])\n",
    "    test_predictions = model.predict(d_test)"
   ]
  },
  {
   "cell_type": "code",
   "execution_count": 78,
   "metadata": {
    "execution": {
     "iopub.execute_input": "2020-12-13T01:45:55.681041Z",
     "iopub.status.busy": "2020-12-13T01:45:55.679410Z",
     "iopub.status.idle": "2020-12-13T01:45:55.682038Z",
     "shell.execute_reply": "2020-12-13T01:45:55.682440Z"
    },
    "papermill": {
     "duration": 0.078312,
     "end_time": "2020-12-13T01:45:55.682534",
     "exception": false,
     "start_time": "2020-12-13T01:45:55.604222",
     "status": "completed"
    },
    "tags": []
   },
   "outputs": [],
   "source": [
    "if (XGBOOST_MODEL_INTERFACE == 'xgboost'):\n",
    "    test_predictions"
   ]
  },
  {
   "cell_type": "code",
   "execution_count": 79,
   "metadata": {
    "execution": {
     "iopub.execute_input": "2020-12-13T01:45:55.839459Z",
     "iopub.status.busy": "2020-12-13T01:45:55.838798Z",
     "iopub.status.idle": "2020-12-13T01:45:55.843247Z",
     "shell.execute_reply": "2020-12-13T01:45:55.842539Z"
    },
    "papermill": {
     "duration": 0.080664,
     "end_time": "2020-12-13T01:45:55.843358",
     "exception": false,
     "start_time": "2020-12-13T01:45:55.762694",
     "status": "completed"
    },
    "tags": []
   },
   "outputs": [
    {
     "name": "stdout",
     "output_type": "stream",
     "text": [
      "Calculating utility score\n"
     ]
    }
   ],
   "source": [
    "print('Calculating utility score')"
   ]
  },
  {
   "cell_type": "code",
   "execution_count": 80,
   "metadata": {
    "execution": {
     "iopub.execute_input": "2020-12-13T01:45:55.994316Z",
     "iopub.status.busy": "2020-12-13T01:45:55.993385Z",
     "iopub.status.idle": "2020-12-13T01:45:56.420924Z",
     "shell.execute_reply": "2020-12-13T01:45:56.420451Z"
    },
    "papermill": {
     "duration": 0.504331,
     "end_time": "2020-12-13T01:45:56.421037",
     "exception": false,
     "start_time": "2020-12-13T01:45:55.916706",
     "status": "completed"
    },
    "tags": []
   },
   "outputs": [],
   "source": [
    "utility_score = utility_function(df_test_origin, df_test_predictions)"
   ]
  },
  {
   "cell_type": "code",
   "execution_count": 81,
   "metadata": {
    "execution": {
     "iopub.execute_input": "2020-12-13T01:45:56.571783Z",
     "iopub.status.busy": "2020-12-13T01:45:56.571200Z",
     "iopub.status.idle": "2020-12-13T01:45:56.577101Z",
     "shell.execute_reply": "2020-12-13T01:45:56.576696Z"
    },
    "papermill": {
     "duration": 0.082319,
     "end_time": "2020-12-13T01:45:56.577192",
     "exception": false,
     "start_time": "2020-12-13T01:45:56.494873",
     "status": "completed"
    },
    "tags": []
   },
   "outputs": [
    {
     "data": {
      "text/plain": [
       "2469.8944702148438"
      ]
     },
     "execution_count": 81,
     "metadata": {},
     "output_type": "execute_result"
    }
   ],
   "source": [
    "utility_score"
   ]
  },
  {
   "cell_type": "markdown",
   "metadata": {
    "papermill": {
     "duration": 0.07215,
     "end_time": "2020-12-13T01:45:56.759694",
     "exception": false,
     "start_time": "2020-12-13T01:45:56.687544",
     "status": "completed"
    },
    "tags": []
   },
   "source": [
    "Utility score avec les features macd et macd - minus signal et threshold 0.5001: 1217.0041  \n",
    "Utility score avec juste les features de base et threshold 0.5001: 1269.3579711914062  \n",
    "Utility score avec juste les features de base et threshold 0.5001 et y_train portant sur *tous* les resp positifs : 2.67  \n",
    "Utility score avec juste les features de base et threshold 0.5001, erreur RMSE: 1294.3004150390625"
   ]
  },
  {
   "cell_type": "code",
   "execution_count": 82,
   "metadata": {
    "execution": {
     "iopub.execute_input": "2020-12-13T01:45:56.910381Z",
     "iopub.status.busy": "2020-12-13T01:45:56.909537Z",
     "iopub.status.idle": "2020-12-13T01:45:56.913286Z",
     "shell.execute_reply": "2020-12-13T01:45:56.913769Z"
    },
    "papermill": {
     "duration": 0.081759,
     "end_time": "2020-12-13T01:45:56.913879",
     "exception": false,
     "start_time": "2020-12-13T01:45:56.832120",
     "status": "completed"
    },
    "tags": []
   },
   "outputs": [
    {
     "name": "stdout",
     "output_type": "stream",
     "text": [
      "Calculating accuracy score\n"
     ]
    }
   ],
   "source": [
    "print('Calculating accuracy score')"
   ]
  },
  {
   "cell_type": "code",
   "execution_count": 83,
   "metadata": {
    "execution": {
     "iopub.execute_input": "2020-12-13T01:45:57.066633Z",
     "iopub.status.busy": "2020-12-13T01:45:57.065849Z",
     "iopub.status.idle": "2020-12-13T01:45:57.086903Z",
     "shell.execute_reply": "2020-12-13T01:45:57.086436Z"
    },
    "papermill": {
     "duration": 0.099779,
     "end_time": "2020-12-13T01:45:57.087004",
     "exception": false,
     "start_time": "2020-12-13T01:45:56.987225",
     "status": "completed"
    },
    "tags": []
   },
   "outputs": [
    {
     "data": {
      "text/plain": [
       "0.529516788838425"
      ]
     },
     "execution_count": 83,
     "metadata": {},
     "output_type": "execute_result"
    }
   ],
   "source": [
    "accuracy_score(y_test, df_test_predictions)"
   ]
  },
  {
   "cell_type": "markdown",
   "metadata": {
    "papermill": {
     "duration": 0.073098,
     "end_time": "2020-12-13T01:45:57.233785",
     "exception": false,
     "start_time": "2020-12-13T01:45:57.160687",
     "status": "completed"
    },
    "tags": []
   },
   "source": [
    "# Analyse model results"
   ]
  },
  {
   "cell_type": "code",
   "execution_count": 84,
   "metadata": {
    "execution": {
     "iopub.execute_input": "2020-12-13T01:45:57.387864Z",
     "iopub.status.busy": "2020-12-13T01:45:57.387048Z",
     "iopub.status.idle": "2020-12-13T01:46:15.834820Z",
     "shell.execute_reply": "2020-12-13T01:46:15.834276Z"
    },
    "papermill": {
     "duration": 18.527243,
     "end_time": "2020-12-13T01:46:15.834922",
     "exception": false,
     "start_time": "2020-12-13T01:45:57.307679",
     "status": "completed"
    },
    "tags": []
   },
   "outputs": [],
   "source": [
    "if (XGBOOST_MODEL_INTERFACE == 'sklearn'):\n",
    "    #df_featimportance = pd.DataFrame(model.feature_importances_, index=df_train.columns, columns=['Importance']).sort_values(by='Importance', ascending=False)\n",
    "    df_featimportance = pd.DataFrame(model.feature_importances_, index=df_train[FEATURES_LIST_TOTRAIN].columns, columns=['Importance']).sort_values(by='Importance', ascending=False)\n",
    "    df_featimportance_cumulated = pd.concat([df_featimportance, pd.DataFrame({'% feat importance cumulé' : (df_featimportance['Importance'] / df_featimportance['Importance'].sum()).cumsum()})], axis=1)"
   ]
  },
  {
   "cell_type": "code",
   "execution_count": 85,
   "metadata": {
    "execution": {
     "iopub.execute_input": "2020-12-13T01:46:15.995038Z",
     "iopub.status.busy": "2020-12-13T01:46:15.994492Z",
     "iopub.status.idle": "2020-12-13T01:46:16.012394Z",
     "shell.execute_reply": "2020-12-13T01:46:16.012816Z"
    },
    "papermill": {
     "duration": 0.102996,
     "end_time": "2020-12-13T01:46:16.012925",
     "exception": false,
     "start_time": "2020-12-13T01:46:15.909929",
     "status": "completed"
    },
    "tags": []
   },
   "outputs": [
    {
     "data": {
      "text/html": [
       "<div>\n",
       "<style scoped>\n",
       "    .dataframe tbody tr th:only-of-type {\n",
       "        vertical-align: middle;\n",
       "    }\n",
       "\n",
       "    .dataframe tbody tr th {\n",
       "        vertical-align: top;\n",
       "    }\n",
       "\n",
       "    .dataframe thead th {\n",
       "        text-align: right;\n",
       "    }\n",
       "</style>\n",
       "<table border=\"1\" class=\"dataframe\">\n",
       "  <thead>\n",
       "    <tr style=\"text-align: right;\">\n",
       "      <th></th>\n",
       "      <th>Importance</th>\n",
       "      <th>% feat importance cumulé</th>\n",
       "    </tr>\n",
       "  </thead>\n",
       "  <tbody>\n",
       "    <tr>\n",
       "      <th>feature_43</th>\n",
       "      <td>0.017138</td>\n",
       "      <td>0.017138</td>\n",
       "    </tr>\n",
       "    <tr>\n",
       "      <th>feature_0</th>\n",
       "      <td>0.015906</td>\n",
       "      <td>0.033044</td>\n",
       "    </tr>\n",
       "    <tr>\n",
       "      <th>feature_45</th>\n",
       "      <td>0.015536</td>\n",
       "      <td>0.048580</td>\n",
       "    </tr>\n",
       "    <tr>\n",
       "      <th>feature_41</th>\n",
       "      <td>0.015181</td>\n",
       "      <td>0.063761</td>\n",
       "    </tr>\n",
       "    <tr>\n",
       "      <th>feature_42</th>\n",
       "      <td>0.014970</td>\n",
       "      <td>0.078731</td>\n",
       "    </tr>\n",
       "    <tr>\n",
       "      <th>feature_44</th>\n",
       "      <td>0.014703</td>\n",
       "      <td>0.093434</td>\n",
       "    </tr>\n",
       "    <tr>\n",
       "      <th>feature_62</th>\n",
       "      <td>0.013491</td>\n",
       "      <td>0.106925</td>\n",
       "    </tr>\n",
       "    <tr>\n",
       "      <th>feature_63</th>\n",
       "      <td>0.013254</td>\n",
       "      <td>0.120179</td>\n",
       "    </tr>\n",
       "    <tr>\n",
       "      <th>feature_39</th>\n",
       "      <td>0.012942</td>\n",
       "      <td>0.133121</td>\n",
       "    </tr>\n",
       "    <tr>\n",
       "      <th>feature_60</th>\n",
       "      <td>0.012152</td>\n",
       "      <td>0.145273</td>\n",
       "    </tr>\n",
       "    <tr>\n",
       "      <th>feature_6</th>\n",
       "      <td>0.012097</td>\n",
       "      <td>0.157370</td>\n",
       "    </tr>\n",
       "    <tr>\n",
       "      <th>feature_5</th>\n",
       "      <td>0.011741</td>\n",
       "      <td>0.169110</td>\n",
       "    </tr>\n",
       "    <tr>\n",
       "      <th>feature_61</th>\n",
       "      <td>0.011432</td>\n",
       "      <td>0.180543</td>\n",
       "    </tr>\n",
       "    <tr>\n",
       "      <th>feature_3</th>\n",
       "      <td>0.010945</td>\n",
       "      <td>0.191488</td>\n",
       "    </tr>\n",
       "    <tr>\n",
       "      <th>feature_83</th>\n",
       "      <td>0.010583</td>\n",
       "      <td>0.202071</td>\n",
       "    </tr>\n",
       "    <tr>\n",
       "      <th>feature_4</th>\n",
       "      <td>0.010368</td>\n",
       "      <td>0.212440</td>\n",
       "    </tr>\n",
       "    <tr>\n",
       "      <th>feature_40</th>\n",
       "      <td>0.010280</td>\n",
       "      <td>0.222720</td>\n",
       "    </tr>\n",
       "    <tr>\n",
       "      <th>feature_120</th>\n",
       "      <td>0.010216</td>\n",
       "      <td>0.232936</td>\n",
       "    </tr>\n",
       "    <tr>\n",
       "      <th>feature_107</th>\n",
       "      <td>0.010175</td>\n",
       "      <td>0.243110</td>\n",
       "    </tr>\n",
       "    <tr>\n",
       "      <th>feature_38</th>\n",
       "      <td>0.009905</td>\n",
       "      <td>0.253016</td>\n",
       "    </tr>\n",
       "    <tr>\n",
       "      <th>feature_77</th>\n",
       "      <td>0.009732</td>\n",
       "      <td>0.262748</td>\n",
       "    </tr>\n",
       "    <tr>\n",
       "      <th>feature_95</th>\n",
       "      <td>0.009563</td>\n",
       "      <td>0.272310</td>\n",
       "    </tr>\n",
       "    <tr>\n",
       "      <th>feature_27</th>\n",
       "      <td>0.009426</td>\n",
       "      <td>0.281737</td>\n",
       "    </tr>\n",
       "    <tr>\n",
       "      <th>feature_119</th>\n",
       "      <td>0.009343</td>\n",
       "      <td>0.291079</td>\n",
       "    </tr>\n",
       "    <tr>\n",
       "      <th>feature_124</th>\n",
       "      <td>0.009338</td>\n",
       "      <td>0.300417</td>\n",
       "    </tr>\n",
       "    <tr>\n",
       "      <th>feature_37</th>\n",
       "      <td>0.009321</td>\n",
       "      <td>0.309738</td>\n",
       "    </tr>\n",
       "    <tr>\n",
       "      <th>feature_55</th>\n",
       "      <td>0.009163</td>\n",
       "      <td>0.318901</td>\n",
       "    </tr>\n",
       "    <tr>\n",
       "      <th>feature_89</th>\n",
       "      <td>0.009087</td>\n",
       "      <td>0.327989</td>\n",
       "    </tr>\n",
       "    <tr>\n",
       "      <th>feature_28</th>\n",
       "      <td>0.009016</td>\n",
       "      <td>0.337004</td>\n",
       "    </tr>\n",
       "    <tr>\n",
       "      <th>feature_126</th>\n",
       "      <td>0.008810</td>\n",
       "      <td>0.345814</td>\n",
       "    </tr>\n",
       "    <tr>\n",
       "      <th>feature_125</th>\n",
       "      <td>0.008800</td>\n",
       "      <td>0.354614</td>\n",
       "    </tr>\n",
       "    <tr>\n",
       "      <th>feature_121</th>\n",
       "      <td>0.008798</td>\n",
       "      <td>0.363413</td>\n",
       "    </tr>\n",
       "    <tr>\n",
       "      <th>feature_64</th>\n",
       "      <td>0.008773</td>\n",
       "      <td>0.372185</td>\n",
       "    </tr>\n",
       "    <tr>\n",
       "      <th>feature_113</th>\n",
       "      <td>0.008739</td>\n",
       "      <td>0.380924</td>\n",
       "    </tr>\n",
       "    <tr>\n",
       "      <th>feature_102</th>\n",
       "      <td>0.008660</td>\n",
       "      <td>0.389585</td>\n",
       "    </tr>\n",
       "    <tr>\n",
       "      <th>feature_114</th>\n",
       "      <td>0.008602</td>\n",
       "      <td>0.398186</td>\n",
       "    </tr>\n",
       "    <tr>\n",
       "      <th>feature_31</th>\n",
       "      <td>0.008429</td>\n",
       "      <td>0.406615</td>\n",
       "    </tr>\n",
       "    <tr>\n",
       "      <th>feature_57</th>\n",
       "      <td>0.008314</td>\n",
       "      <td>0.414929</td>\n",
       "    </tr>\n",
       "    <tr>\n",
       "      <th>feature_101</th>\n",
       "      <td>0.008296</td>\n",
       "      <td>0.423225</td>\n",
       "    </tr>\n",
       "    <tr>\n",
       "      <th>feature_90</th>\n",
       "      <td>0.008236</td>\n",
       "      <td>0.431460</td>\n",
       "    </tr>\n",
       "    <tr>\n",
       "      <th>feature_66</th>\n",
       "      <td>0.008172</td>\n",
       "      <td>0.439632</td>\n",
       "    </tr>\n",
       "    <tr>\n",
       "      <th>feature_67</th>\n",
       "      <td>0.008158</td>\n",
       "      <td>0.447790</td>\n",
       "    </tr>\n",
       "    <tr>\n",
       "      <th>feature_108</th>\n",
       "      <td>0.008030</td>\n",
       "      <td>0.455820</td>\n",
       "    </tr>\n",
       "    <tr>\n",
       "      <th>feature_127</th>\n",
       "      <td>0.007931</td>\n",
       "      <td>0.463750</td>\n",
       "    </tr>\n",
       "    <tr>\n",
       "      <th>feature_96</th>\n",
       "      <td>0.007917</td>\n",
       "      <td>0.471667</td>\n",
       "    </tr>\n",
       "    <tr>\n",
       "      <th>feature_84</th>\n",
       "      <td>0.007908</td>\n",
       "      <td>0.479575</td>\n",
       "    </tr>\n",
       "    <tr>\n",
       "      <th>feature_71</th>\n",
       "      <td>0.007864</td>\n",
       "      <td>0.487439</td>\n",
       "    </tr>\n",
       "    <tr>\n",
       "      <th>feature_65</th>\n",
       "      <td>0.007840</td>\n",
       "      <td>0.495278</td>\n",
       "    </tr>\n",
       "    <tr>\n",
       "      <th>feature_68</th>\n",
       "      <td>0.007653</td>\n",
       "      <td>0.502932</td>\n",
       "    </tr>\n",
       "    <tr>\n",
       "      <th>feature_20</th>\n",
       "      <td>0.007572</td>\n",
       "      <td>0.510504</td>\n",
       "    </tr>\n",
       "    <tr>\n",
       "      <th>feature_78</th>\n",
       "      <td>0.007535</td>\n",
       "      <td>0.518039</td>\n",
       "    </tr>\n",
       "    <tr>\n",
       "      <th>feature_69</th>\n",
       "      <td>0.007523</td>\n",
       "      <td>0.525563</td>\n",
       "    </tr>\n",
       "    <tr>\n",
       "      <th>feature_70</th>\n",
       "      <td>0.007360</td>\n",
       "      <td>0.532923</td>\n",
       "    </tr>\n",
       "    <tr>\n",
       "      <th>feature_8</th>\n",
       "      <td>0.007339</td>\n",
       "      <td>0.540262</td>\n",
       "    </tr>\n",
       "    <tr>\n",
       "      <th>feature_58</th>\n",
       "      <td>0.007300</td>\n",
       "      <td>0.547561</td>\n",
       "    </tr>\n",
       "    <tr>\n",
       "      <th>feature_128</th>\n",
       "      <td>0.007294</td>\n",
       "      <td>0.554856</td>\n",
       "    </tr>\n",
       "    <tr>\n",
       "      <th>feature_86</th>\n",
       "      <td>0.007273</td>\n",
       "      <td>0.562129</td>\n",
       "    </tr>\n",
       "    <tr>\n",
       "      <th>feature_7</th>\n",
       "      <td>0.007216</td>\n",
       "      <td>0.569345</td>\n",
       "    </tr>\n",
       "    <tr>\n",
       "      <th>feature_116</th>\n",
       "      <td>0.007162</td>\n",
       "      <td>0.576507</td>\n",
       "    </tr>\n",
       "    <tr>\n",
       "      <th>feature_18</th>\n",
       "      <td>0.007102</td>\n",
       "      <td>0.583609</td>\n",
       "    </tr>\n",
       "    <tr>\n",
       "      <th>feature_104</th>\n",
       "      <td>0.007026</td>\n",
       "      <td>0.590634</td>\n",
       "    </tr>\n",
       "    <tr>\n",
       "      <th>feature_92</th>\n",
       "      <td>0.006990</td>\n",
       "      <td>0.597624</td>\n",
       "    </tr>\n",
       "    <tr>\n",
       "      <th>feature_17</th>\n",
       "      <td>0.006986</td>\n",
       "      <td>0.604611</td>\n",
       "    </tr>\n",
       "    <tr>\n",
       "      <th>feature_129</th>\n",
       "      <td>0.006929</td>\n",
       "      <td>0.611539</td>\n",
       "    </tr>\n",
       "    <tr>\n",
       "      <th>feature_33</th>\n",
       "      <td>0.006880</td>\n",
       "      <td>0.618420</td>\n",
       "    </tr>\n",
       "    <tr>\n",
       "      <th>feature_53</th>\n",
       "      <td>0.006837</td>\n",
       "      <td>0.625257</td>\n",
       "    </tr>\n",
       "    <tr>\n",
       "      <th>feature_122</th>\n",
       "      <td>0.006799</td>\n",
       "      <td>0.632055</td>\n",
       "    </tr>\n",
       "    <tr>\n",
       "      <th>feature_72</th>\n",
       "      <td>0.006788</td>\n",
       "      <td>0.638843</td>\n",
       "    </tr>\n",
       "    <tr>\n",
       "      <th>feature_26</th>\n",
       "      <td>0.006787</td>\n",
       "      <td>0.645629</td>\n",
       "    </tr>\n",
       "    <tr>\n",
       "      <th>feature_59</th>\n",
       "      <td>0.006770</td>\n",
       "      <td>0.652399</td>\n",
       "    </tr>\n",
       "    <tr>\n",
       "      <th>feature_50</th>\n",
       "      <td>0.006633</td>\n",
       "      <td>0.659032</td>\n",
       "    </tr>\n",
       "    <tr>\n",
       "      <th>feature_110</th>\n",
       "      <td>0.006608</td>\n",
       "      <td>0.665640</td>\n",
       "    </tr>\n",
       "    <tr>\n",
       "      <th>feature_32</th>\n",
       "      <td>0.006490</td>\n",
       "      <td>0.672130</td>\n",
       "    </tr>\n",
       "    <tr>\n",
       "      <th>feature_47</th>\n",
       "      <td>0.006457</td>\n",
       "      <td>0.678587</td>\n",
       "    </tr>\n",
       "    <tr>\n",
       "      <th>feature_35</th>\n",
       "      <td>0.006446</td>\n",
       "      <td>0.685033</td>\n",
       "    </tr>\n",
       "    <tr>\n",
       "      <th>feature_54</th>\n",
       "      <td>0.006418</td>\n",
       "      <td>0.691451</td>\n",
       "    </tr>\n",
       "    <tr>\n",
       "      <th>feature_36</th>\n",
       "      <td>0.006292</td>\n",
       "      <td>0.697743</td>\n",
       "    </tr>\n",
       "    <tr>\n",
       "      <th>feature_34</th>\n",
       "      <td>0.006262</td>\n",
       "      <td>0.704005</td>\n",
       "    </tr>\n",
       "    <tr>\n",
       "      <th>feature_21</th>\n",
       "      <td>0.006262</td>\n",
       "      <td>0.710267</td>\n",
       "    </tr>\n",
       "    <tr>\n",
       "      <th>feature_123</th>\n",
       "      <td>0.006258</td>\n",
       "      <td>0.716526</td>\n",
       "    </tr>\n",
       "    <tr>\n",
       "      <th>feature_49</th>\n",
       "      <td>0.006246</td>\n",
       "      <td>0.722771</td>\n",
       "    </tr>\n",
       "    <tr>\n",
       "      <th>feature_56</th>\n",
       "      <td>0.006224</td>\n",
       "      <td>0.728995</td>\n",
       "    </tr>\n",
       "    <tr>\n",
       "      <th>feature_98</th>\n",
       "      <td>0.006212</td>\n",
       "      <td>0.735208</td>\n",
       "    </tr>\n",
       "    <tr>\n",
       "      <th>feature_22</th>\n",
       "      <td>0.006200</td>\n",
       "      <td>0.741408</td>\n",
       "    </tr>\n",
       "    <tr>\n",
       "      <th>feature_24</th>\n",
       "      <td>0.006187</td>\n",
       "      <td>0.747595</td>\n",
       "    </tr>\n",
       "    <tr>\n",
       "      <th>feature_23</th>\n",
       "      <td>0.006170</td>\n",
       "      <td>0.753764</td>\n",
       "    </tr>\n",
       "    <tr>\n",
       "      <th>feature_29</th>\n",
       "      <td>0.006156</td>\n",
       "      <td>0.759920</td>\n",
       "    </tr>\n",
       "    <tr>\n",
       "      <th>feature_46</th>\n",
       "      <td>0.006156</td>\n",
       "      <td>0.766076</td>\n",
       "    </tr>\n",
       "    <tr>\n",
       "      <th>feature_25</th>\n",
       "      <td>0.006105</td>\n",
       "      <td>0.772181</td>\n",
       "    </tr>\n",
       "    <tr>\n",
       "      <th>feature_30</th>\n",
       "      <td>0.005983</td>\n",
       "      <td>0.778164</td>\n",
       "    </tr>\n",
       "    <tr>\n",
       "      <th>feature_48</th>\n",
       "      <td>0.005927</td>\n",
       "      <td>0.784091</td>\n",
       "    </tr>\n",
       "    <tr>\n",
       "      <th>feature_12</th>\n",
       "      <td>0.005927</td>\n",
       "      <td>0.790018</td>\n",
       "    </tr>\n",
       "    <tr>\n",
       "      <th>feature_80</th>\n",
       "      <td>0.005917</td>\n",
       "      <td>0.795935</td>\n",
       "    </tr>\n",
       "    <tr>\n",
       "      <th>feature_111</th>\n",
       "      <td>0.005819</td>\n",
       "      <td>0.801754</td>\n",
       "    </tr>\n",
       "    <tr>\n",
       "      <th>feature_51</th>\n",
       "      <td>0.005778</td>\n",
       "      <td>0.807533</td>\n",
       "    </tr>\n",
       "    <tr>\n",
       "      <th>feature_117</th>\n",
       "      <td>0.005748</td>\n",
       "      <td>0.813281</td>\n",
       "    </tr>\n",
       "    <tr>\n",
       "      <th>feature_93</th>\n",
       "      <td>0.005743</td>\n",
       "      <td>0.819024</td>\n",
       "    </tr>\n",
       "    <tr>\n",
       "      <th>feature_19</th>\n",
       "      <td>0.005742</td>\n",
       "      <td>0.824766</td>\n",
       "    </tr>\n",
       "    <tr>\n",
       "      <th>feature_99</th>\n",
       "      <td>0.005694</td>\n",
       "      <td>0.830459</td>\n",
       "    </tr>\n",
       "    <tr>\n",
       "      <th>feature_11</th>\n",
       "      <td>0.005679</td>\n",
       "      <td>0.836138</td>\n",
       "    </tr>\n",
       "    <tr>\n",
       "      <th>feature_105</th>\n",
       "      <td>0.005658</td>\n",
       "      <td>0.841796</td>\n",
       "    </tr>\n",
       "    <tr>\n",
       "      <th>feature_74</th>\n",
       "      <td>0.005651</td>\n",
       "      <td>0.847447</td>\n",
       "    </tr>\n",
       "    <tr>\n",
       "      <th>feature_109</th>\n",
       "      <td>0.005648</td>\n",
       "      <td>0.853095</td>\n",
       "    </tr>\n",
       "    <tr>\n",
       "      <th>feature_10</th>\n",
       "      <td>0.005646</td>\n",
       "      <td>0.858741</td>\n",
       "    </tr>\n",
       "    <tr>\n",
       "      <th>weight</th>\n",
       "      <td>0.005639</td>\n",
       "      <td>0.864380</td>\n",
       "    </tr>\n",
       "    <tr>\n",
       "      <th>feature_87</th>\n",
       "      <td>0.005603</td>\n",
       "      <td>0.869983</td>\n",
       "    </tr>\n",
       "    <tr>\n",
       "      <th>feature_9</th>\n",
       "      <td>0.005518</td>\n",
       "      <td>0.875501</td>\n",
       "    </tr>\n",
       "    <tr>\n",
       "      <th>feature_85</th>\n",
       "      <td>0.005419</td>\n",
       "      <td>0.880921</td>\n",
       "    </tr>\n",
       "    <tr>\n",
       "      <th>feature_79</th>\n",
       "      <td>0.005361</td>\n",
       "      <td>0.886281</td>\n",
       "    </tr>\n",
       "    <tr>\n",
       "      <th>feature_2</th>\n",
       "      <td>0.005334</td>\n",
       "      <td>0.891616</td>\n",
       "    </tr>\n",
       "    <tr>\n",
       "      <th>feature_13</th>\n",
       "      <td>0.005296</td>\n",
       "      <td>0.896912</td>\n",
       "    </tr>\n",
       "    <tr>\n",
       "      <th>feature_97</th>\n",
       "      <td>0.005276</td>\n",
       "      <td>0.902187</td>\n",
       "    </tr>\n",
       "    <tr>\n",
       "      <th>feature_118</th>\n",
       "      <td>0.005274</td>\n",
       "      <td>0.907462</td>\n",
       "    </tr>\n",
       "    <tr>\n",
       "      <th>feature_112</th>\n",
       "      <td>0.005255</td>\n",
       "      <td>0.912717</td>\n",
       "    </tr>\n",
       "    <tr>\n",
       "      <th>feature_76</th>\n",
       "      <td>0.005242</td>\n",
       "      <td>0.917959</td>\n",
       "    </tr>\n",
       "    <tr>\n",
       "      <th>feature_1</th>\n",
       "      <td>0.005228</td>\n",
       "      <td>0.923187</td>\n",
       "    </tr>\n",
       "    <tr>\n",
       "      <th>feature_88</th>\n",
       "      <td>0.005226</td>\n",
       "      <td>0.928413</td>\n",
       "    </tr>\n",
       "    <tr>\n",
       "      <th>feature_73</th>\n",
       "      <td>0.005207</td>\n",
       "      <td>0.933620</td>\n",
       "    </tr>\n",
       "    <tr>\n",
       "      <th>feature_81</th>\n",
       "      <td>0.005187</td>\n",
       "      <td>0.938806</td>\n",
       "    </tr>\n",
       "    <tr>\n",
       "      <th>feature_91</th>\n",
       "      <td>0.005182</td>\n",
       "      <td>0.943988</td>\n",
       "    </tr>\n",
       "    <tr>\n",
       "      <th>feature_106</th>\n",
       "      <td>0.005179</td>\n",
       "      <td>0.949167</td>\n",
       "    </tr>\n",
       "    <tr>\n",
       "      <th>feature_103</th>\n",
       "      <td>0.005178</td>\n",
       "      <td>0.954345</td>\n",
       "    </tr>\n",
       "    <tr>\n",
       "      <th>feature_82</th>\n",
       "      <td>0.005146</td>\n",
       "      <td>0.959490</td>\n",
       "    </tr>\n",
       "    <tr>\n",
       "      <th>feature_15</th>\n",
       "      <td>0.005121</td>\n",
       "      <td>0.964611</td>\n",
       "    </tr>\n",
       "    <tr>\n",
       "      <th>feature_75</th>\n",
       "      <td>0.005119</td>\n",
       "      <td>0.969731</td>\n",
       "    </tr>\n",
       "    <tr>\n",
       "      <th>feature_100</th>\n",
       "      <td>0.005118</td>\n",
       "      <td>0.974849</td>\n",
       "    </tr>\n",
       "    <tr>\n",
       "      <th>feature_16</th>\n",
       "      <td>0.005088</td>\n",
       "      <td>0.979937</td>\n",
       "    </tr>\n",
       "    <tr>\n",
       "      <th>feature_94</th>\n",
       "      <td>0.005070</td>\n",
       "      <td>0.985007</td>\n",
       "    </tr>\n",
       "    <tr>\n",
       "      <th>feature_52</th>\n",
       "      <td>0.005024</td>\n",
       "      <td>0.990030</td>\n",
       "    </tr>\n",
       "    <tr>\n",
       "      <th>feature_115</th>\n",
       "      <td>0.005018</td>\n",
       "      <td>0.995048</td>\n",
       "    </tr>\n",
       "    <tr>\n",
       "      <th>feature_14</th>\n",
       "      <td>0.004952</td>\n",
       "      <td>1.000000</td>\n",
       "    </tr>\n",
       "  </tbody>\n",
       "</table>\n",
       "</div>"
      ],
      "text/plain": [
       "             Importance  % feat importance cumulé\n",
       "feature_43     0.017138                  0.017138\n",
       "feature_0      0.015906                  0.033044\n",
       "feature_45     0.015536                  0.048580\n",
       "feature_41     0.015181                  0.063761\n",
       "feature_42     0.014970                  0.078731\n",
       "feature_44     0.014703                  0.093434\n",
       "feature_62     0.013491                  0.106925\n",
       "feature_63     0.013254                  0.120179\n",
       "feature_39     0.012942                  0.133121\n",
       "feature_60     0.012152                  0.145273\n",
       "feature_6      0.012097                  0.157370\n",
       "feature_5      0.011741                  0.169110\n",
       "feature_61     0.011432                  0.180543\n",
       "feature_3      0.010945                  0.191488\n",
       "feature_83     0.010583                  0.202071\n",
       "feature_4      0.010368                  0.212440\n",
       "feature_40     0.010280                  0.222720\n",
       "feature_120    0.010216                  0.232936\n",
       "feature_107    0.010175                  0.243110\n",
       "feature_38     0.009905                  0.253016\n",
       "feature_77     0.009732                  0.262748\n",
       "feature_95     0.009563                  0.272310\n",
       "feature_27     0.009426                  0.281737\n",
       "feature_119    0.009343                  0.291079\n",
       "feature_124    0.009338                  0.300417\n",
       "feature_37     0.009321                  0.309738\n",
       "feature_55     0.009163                  0.318901\n",
       "feature_89     0.009087                  0.327989\n",
       "feature_28     0.009016                  0.337004\n",
       "feature_126    0.008810                  0.345814\n",
       "feature_125    0.008800                  0.354614\n",
       "feature_121    0.008798                  0.363413\n",
       "feature_64     0.008773                  0.372185\n",
       "feature_113    0.008739                  0.380924\n",
       "feature_102    0.008660                  0.389585\n",
       "feature_114    0.008602                  0.398186\n",
       "feature_31     0.008429                  0.406615\n",
       "feature_57     0.008314                  0.414929\n",
       "feature_101    0.008296                  0.423225\n",
       "feature_90     0.008236                  0.431460\n",
       "feature_66     0.008172                  0.439632\n",
       "feature_67     0.008158                  0.447790\n",
       "feature_108    0.008030                  0.455820\n",
       "feature_127    0.007931                  0.463750\n",
       "feature_96     0.007917                  0.471667\n",
       "feature_84     0.007908                  0.479575\n",
       "feature_71     0.007864                  0.487439\n",
       "feature_65     0.007840                  0.495278\n",
       "feature_68     0.007653                  0.502932\n",
       "feature_20     0.007572                  0.510504\n",
       "feature_78     0.007535                  0.518039\n",
       "feature_69     0.007523                  0.525563\n",
       "feature_70     0.007360                  0.532923\n",
       "feature_8      0.007339                  0.540262\n",
       "feature_58     0.007300                  0.547561\n",
       "feature_128    0.007294                  0.554856\n",
       "feature_86     0.007273                  0.562129\n",
       "feature_7      0.007216                  0.569345\n",
       "feature_116    0.007162                  0.576507\n",
       "feature_18     0.007102                  0.583609\n",
       "feature_104    0.007026                  0.590634\n",
       "feature_92     0.006990                  0.597624\n",
       "feature_17     0.006986                  0.604611\n",
       "feature_129    0.006929                  0.611539\n",
       "feature_33     0.006880                  0.618420\n",
       "feature_53     0.006837                  0.625257\n",
       "feature_122    0.006799                  0.632055\n",
       "feature_72     0.006788                  0.638843\n",
       "feature_26     0.006787                  0.645629\n",
       "feature_59     0.006770                  0.652399\n",
       "feature_50     0.006633                  0.659032\n",
       "feature_110    0.006608                  0.665640\n",
       "feature_32     0.006490                  0.672130\n",
       "feature_47     0.006457                  0.678587\n",
       "feature_35     0.006446                  0.685033\n",
       "feature_54     0.006418                  0.691451\n",
       "feature_36     0.006292                  0.697743\n",
       "feature_34     0.006262                  0.704005\n",
       "feature_21     0.006262                  0.710267\n",
       "feature_123    0.006258                  0.716526\n",
       "feature_49     0.006246                  0.722771\n",
       "feature_56     0.006224                  0.728995\n",
       "feature_98     0.006212                  0.735208\n",
       "feature_22     0.006200                  0.741408\n",
       "feature_24     0.006187                  0.747595\n",
       "feature_23     0.006170                  0.753764\n",
       "feature_29     0.006156                  0.759920\n",
       "feature_46     0.006156                  0.766076\n",
       "feature_25     0.006105                  0.772181\n",
       "feature_30     0.005983                  0.778164\n",
       "feature_48     0.005927                  0.784091\n",
       "feature_12     0.005927                  0.790018\n",
       "feature_80     0.005917                  0.795935\n",
       "feature_111    0.005819                  0.801754\n",
       "feature_51     0.005778                  0.807533\n",
       "feature_117    0.005748                  0.813281\n",
       "feature_93     0.005743                  0.819024\n",
       "feature_19     0.005742                  0.824766\n",
       "feature_99     0.005694                  0.830459\n",
       "feature_11     0.005679                  0.836138\n",
       "feature_105    0.005658                  0.841796\n",
       "feature_74     0.005651                  0.847447\n",
       "feature_109    0.005648                  0.853095\n",
       "feature_10     0.005646                  0.858741\n",
       "weight         0.005639                  0.864380\n",
       "feature_87     0.005603                  0.869983\n",
       "feature_9      0.005518                  0.875501\n",
       "feature_85     0.005419                  0.880921\n",
       "feature_79     0.005361                  0.886281\n",
       "feature_2      0.005334                  0.891616\n",
       "feature_13     0.005296                  0.896912\n",
       "feature_97     0.005276                  0.902187\n",
       "feature_118    0.005274                  0.907462\n",
       "feature_112    0.005255                  0.912717\n",
       "feature_76     0.005242                  0.917959\n",
       "feature_1      0.005228                  0.923187\n",
       "feature_88     0.005226                  0.928413\n",
       "feature_73     0.005207                  0.933620\n",
       "feature_81     0.005187                  0.938806\n",
       "feature_91     0.005182                  0.943988\n",
       "feature_106    0.005179                  0.949167\n",
       "feature_103    0.005178                  0.954345\n",
       "feature_82     0.005146                  0.959490\n",
       "feature_15     0.005121                  0.964611\n",
       "feature_75     0.005119                  0.969731\n",
       "feature_100    0.005118                  0.974849\n",
       "feature_16     0.005088                  0.979937\n",
       "feature_94     0.005070                  0.985007\n",
       "feature_52     0.005024                  0.990030\n",
       "feature_115    0.005018                  0.995048\n",
       "feature_14     0.004952                  1.000000"
      ]
     },
     "metadata": {},
     "output_type": "display_data"
    }
   ],
   "source": [
    "if (XGBOOST_MODEL_INTERFACE == 'sklearn'):\n",
    "    display(df_featimportance_cumulated)"
   ]
  },
  {
   "cell_type": "code",
   "execution_count": 86,
   "metadata": {
    "execution": {
     "iopub.execute_input": "2020-12-13T01:46:16.185228Z",
     "iopub.status.busy": "2020-12-13T01:46:16.184445Z",
     "iopub.status.idle": "2020-12-13T01:46:16.189536Z",
     "shell.execute_reply": "2020-12-13T01:46:16.189972Z"
    },
    "papermill": {
     "duration": 0.10109,
     "end_time": "2020-12-13T01:46:16.190077",
     "exception": false,
     "start_time": "2020-12-13T01:46:16.088987",
     "status": "completed"
    },
    "tags": []
   },
   "outputs": [
    {
     "data": {
      "text/html": [
       "<div>\n",
       "<style scoped>\n",
       "    .dataframe tbody tr th:only-of-type {\n",
       "        vertical-align: middle;\n",
       "    }\n",
       "\n",
       "    .dataframe tbody tr th {\n",
       "        vertical-align: top;\n",
       "    }\n",
       "\n",
       "    .dataframe thead th {\n",
       "        text-align: right;\n",
       "    }\n",
       "</style>\n",
       "<table border=\"1\" class=\"dataframe\">\n",
       "  <thead>\n",
       "    <tr style=\"text-align: right;\">\n",
       "      <th></th>\n",
       "      <th>Importance</th>\n",
       "      <th>% feat importance cumulé</th>\n",
       "    </tr>\n",
       "  </thead>\n",
       "  <tbody>\n",
       "    <tr>\n",
       "      <th>feature_43</th>\n",
       "      <td>0.017138</td>\n",
       "      <td>0.017138</td>\n",
       "    </tr>\n",
       "    <tr>\n",
       "      <th>feature_0</th>\n",
       "      <td>0.015906</td>\n",
       "      <td>0.033044</td>\n",
       "    </tr>\n",
       "    <tr>\n",
       "      <th>feature_45</th>\n",
       "      <td>0.015536</td>\n",
       "      <td>0.048580</td>\n",
       "    </tr>\n",
       "    <tr>\n",
       "      <th>feature_41</th>\n",
       "      <td>0.015181</td>\n",
       "      <td>0.063761</td>\n",
       "    </tr>\n",
       "    <tr>\n",
       "      <th>feature_42</th>\n",
       "      <td>0.014970</td>\n",
       "      <td>0.078731</td>\n",
       "    </tr>\n",
       "    <tr>\n",
       "      <th>feature_44</th>\n",
       "      <td>0.014703</td>\n",
       "      <td>0.093434</td>\n",
       "    </tr>\n",
       "    <tr>\n",
       "      <th>feature_62</th>\n",
       "      <td>0.013491</td>\n",
       "      <td>0.106925</td>\n",
       "    </tr>\n",
       "    <tr>\n",
       "      <th>feature_63</th>\n",
       "      <td>0.013254</td>\n",
       "      <td>0.120179</td>\n",
       "    </tr>\n",
       "    <tr>\n",
       "      <th>feature_39</th>\n",
       "      <td>0.012942</td>\n",
       "      <td>0.133121</td>\n",
       "    </tr>\n",
       "    <tr>\n",
       "      <th>feature_60</th>\n",
       "      <td>0.012152</td>\n",
       "      <td>0.145273</td>\n",
       "    </tr>\n",
       "    <tr>\n",
       "      <th>feature_6</th>\n",
       "      <td>0.012097</td>\n",
       "      <td>0.157370</td>\n",
       "    </tr>\n",
       "    <tr>\n",
       "      <th>feature_5</th>\n",
       "      <td>0.011741</td>\n",
       "      <td>0.169110</td>\n",
       "    </tr>\n",
       "    <tr>\n",
       "      <th>feature_61</th>\n",
       "      <td>0.011432</td>\n",
       "      <td>0.180543</td>\n",
       "    </tr>\n",
       "    <tr>\n",
       "      <th>feature_3</th>\n",
       "      <td>0.010945</td>\n",
       "      <td>0.191488</td>\n",
       "    </tr>\n",
       "    <tr>\n",
       "      <th>feature_83</th>\n",
       "      <td>0.010583</td>\n",
       "      <td>0.202071</td>\n",
       "    </tr>\n",
       "    <tr>\n",
       "      <th>feature_4</th>\n",
       "      <td>0.010368</td>\n",
       "      <td>0.212440</td>\n",
       "    </tr>\n",
       "    <tr>\n",
       "      <th>feature_40</th>\n",
       "      <td>0.010280</td>\n",
       "      <td>0.222720</td>\n",
       "    </tr>\n",
       "    <tr>\n",
       "      <th>feature_120</th>\n",
       "      <td>0.010216</td>\n",
       "      <td>0.232936</td>\n",
       "    </tr>\n",
       "    <tr>\n",
       "      <th>feature_107</th>\n",
       "      <td>0.010175</td>\n",
       "      <td>0.243110</td>\n",
       "    </tr>\n",
       "    <tr>\n",
       "      <th>feature_38</th>\n",
       "      <td>0.009905</td>\n",
       "      <td>0.253016</td>\n",
       "    </tr>\n",
       "    <tr>\n",
       "      <th>feature_77</th>\n",
       "      <td>0.009732</td>\n",
       "      <td>0.262748</td>\n",
       "    </tr>\n",
       "    <tr>\n",
       "      <th>feature_95</th>\n",
       "      <td>0.009563</td>\n",
       "      <td>0.272310</td>\n",
       "    </tr>\n",
       "    <tr>\n",
       "      <th>feature_27</th>\n",
       "      <td>0.009426</td>\n",
       "      <td>0.281737</td>\n",
       "    </tr>\n",
       "    <tr>\n",
       "      <th>feature_119</th>\n",
       "      <td>0.009343</td>\n",
       "      <td>0.291079</td>\n",
       "    </tr>\n",
       "    <tr>\n",
       "      <th>feature_124</th>\n",
       "      <td>0.009338</td>\n",
       "      <td>0.300417</td>\n",
       "    </tr>\n",
       "    <tr>\n",
       "      <th>feature_37</th>\n",
       "      <td>0.009321</td>\n",
       "      <td>0.309738</td>\n",
       "    </tr>\n",
       "    <tr>\n",
       "      <th>feature_55</th>\n",
       "      <td>0.009163</td>\n",
       "      <td>0.318901</td>\n",
       "    </tr>\n",
       "    <tr>\n",
       "      <th>feature_89</th>\n",
       "      <td>0.009087</td>\n",
       "      <td>0.327989</td>\n",
       "    </tr>\n",
       "    <tr>\n",
       "      <th>feature_28</th>\n",
       "      <td>0.009016</td>\n",
       "      <td>0.337004</td>\n",
       "    </tr>\n",
       "    <tr>\n",
       "      <th>feature_126</th>\n",
       "      <td>0.008810</td>\n",
       "      <td>0.345814</td>\n",
       "    </tr>\n",
       "    <tr>\n",
       "      <th>feature_125</th>\n",
       "      <td>0.008800</td>\n",
       "      <td>0.354614</td>\n",
       "    </tr>\n",
       "    <tr>\n",
       "      <th>feature_121</th>\n",
       "      <td>0.008798</td>\n",
       "      <td>0.363413</td>\n",
       "    </tr>\n",
       "    <tr>\n",
       "      <th>feature_64</th>\n",
       "      <td>0.008773</td>\n",
       "      <td>0.372185</td>\n",
       "    </tr>\n",
       "    <tr>\n",
       "      <th>feature_113</th>\n",
       "      <td>0.008739</td>\n",
       "      <td>0.380924</td>\n",
       "    </tr>\n",
       "    <tr>\n",
       "      <th>feature_102</th>\n",
       "      <td>0.008660</td>\n",
       "      <td>0.389585</td>\n",
       "    </tr>\n",
       "    <tr>\n",
       "      <th>feature_114</th>\n",
       "      <td>0.008602</td>\n",
       "      <td>0.398186</td>\n",
       "    </tr>\n",
       "    <tr>\n",
       "      <th>feature_31</th>\n",
       "      <td>0.008429</td>\n",
       "      <td>0.406615</td>\n",
       "    </tr>\n",
       "    <tr>\n",
       "      <th>feature_57</th>\n",
       "      <td>0.008314</td>\n",
       "      <td>0.414929</td>\n",
       "    </tr>\n",
       "    <tr>\n",
       "      <th>feature_101</th>\n",
       "      <td>0.008296</td>\n",
       "      <td>0.423225</td>\n",
       "    </tr>\n",
       "    <tr>\n",
       "      <th>feature_90</th>\n",
       "      <td>0.008236</td>\n",
       "      <td>0.431460</td>\n",
       "    </tr>\n",
       "    <tr>\n",
       "      <th>feature_66</th>\n",
       "      <td>0.008172</td>\n",
       "      <td>0.439632</td>\n",
       "    </tr>\n",
       "    <tr>\n",
       "      <th>feature_67</th>\n",
       "      <td>0.008158</td>\n",
       "      <td>0.447790</td>\n",
       "    </tr>\n",
       "    <tr>\n",
       "      <th>feature_108</th>\n",
       "      <td>0.008030</td>\n",
       "      <td>0.455820</td>\n",
       "    </tr>\n",
       "    <tr>\n",
       "      <th>feature_127</th>\n",
       "      <td>0.007931</td>\n",
       "      <td>0.463750</td>\n",
       "    </tr>\n",
       "    <tr>\n",
       "      <th>feature_96</th>\n",
       "      <td>0.007917</td>\n",
       "      <td>0.471667</td>\n",
       "    </tr>\n",
       "    <tr>\n",
       "      <th>feature_84</th>\n",
       "      <td>0.007908</td>\n",
       "      <td>0.479575</td>\n",
       "    </tr>\n",
       "    <tr>\n",
       "      <th>feature_71</th>\n",
       "      <td>0.007864</td>\n",
       "      <td>0.487439</td>\n",
       "    </tr>\n",
       "    <tr>\n",
       "      <th>feature_65</th>\n",
       "      <td>0.007840</td>\n",
       "      <td>0.495278</td>\n",
       "    </tr>\n",
       "    <tr>\n",
       "      <th>feature_68</th>\n",
       "      <td>0.007653</td>\n",
       "      <td>0.502932</td>\n",
       "    </tr>\n",
       "    <tr>\n",
       "      <th>feature_20</th>\n",
       "      <td>0.007572</td>\n",
       "      <td>0.510504</td>\n",
       "    </tr>\n",
       "    <tr>\n",
       "      <th>feature_78</th>\n",
       "      <td>0.007535</td>\n",
       "      <td>0.518039</td>\n",
       "    </tr>\n",
       "    <tr>\n",
       "      <th>feature_69</th>\n",
       "      <td>0.007523</td>\n",
       "      <td>0.525563</td>\n",
       "    </tr>\n",
       "    <tr>\n",
       "      <th>feature_70</th>\n",
       "      <td>0.007360</td>\n",
       "      <td>0.532923</td>\n",
       "    </tr>\n",
       "    <tr>\n",
       "      <th>feature_8</th>\n",
       "      <td>0.007339</td>\n",
       "      <td>0.540262</td>\n",
       "    </tr>\n",
       "    <tr>\n",
       "      <th>feature_58</th>\n",
       "      <td>0.007300</td>\n",
       "      <td>0.547561</td>\n",
       "    </tr>\n",
       "    <tr>\n",
       "      <th>feature_128</th>\n",
       "      <td>0.007294</td>\n",
       "      <td>0.554856</td>\n",
       "    </tr>\n",
       "    <tr>\n",
       "      <th>feature_86</th>\n",
       "      <td>0.007273</td>\n",
       "      <td>0.562129</td>\n",
       "    </tr>\n",
       "    <tr>\n",
       "      <th>feature_7</th>\n",
       "      <td>0.007216</td>\n",
       "      <td>0.569345</td>\n",
       "    </tr>\n",
       "    <tr>\n",
       "      <th>feature_116</th>\n",
       "      <td>0.007162</td>\n",
       "      <td>0.576507</td>\n",
       "    </tr>\n",
       "    <tr>\n",
       "      <th>feature_18</th>\n",
       "      <td>0.007102</td>\n",
       "      <td>0.583609</td>\n",
       "    </tr>\n",
       "    <tr>\n",
       "      <th>feature_104</th>\n",
       "      <td>0.007026</td>\n",
       "      <td>0.590634</td>\n",
       "    </tr>\n",
       "    <tr>\n",
       "      <th>feature_92</th>\n",
       "      <td>0.006990</td>\n",
       "      <td>0.597624</td>\n",
       "    </tr>\n",
       "    <tr>\n",
       "      <th>feature_17</th>\n",
       "      <td>0.006986</td>\n",
       "      <td>0.604611</td>\n",
       "    </tr>\n",
       "    <tr>\n",
       "      <th>feature_129</th>\n",
       "      <td>0.006929</td>\n",
       "      <td>0.611539</td>\n",
       "    </tr>\n",
       "    <tr>\n",
       "      <th>feature_33</th>\n",
       "      <td>0.006880</td>\n",
       "      <td>0.618420</td>\n",
       "    </tr>\n",
       "    <tr>\n",
       "      <th>feature_53</th>\n",
       "      <td>0.006837</td>\n",
       "      <td>0.625257</td>\n",
       "    </tr>\n",
       "    <tr>\n",
       "      <th>feature_122</th>\n",
       "      <td>0.006799</td>\n",
       "      <td>0.632055</td>\n",
       "    </tr>\n",
       "    <tr>\n",
       "      <th>feature_72</th>\n",
       "      <td>0.006788</td>\n",
       "      <td>0.638843</td>\n",
       "    </tr>\n",
       "    <tr>\n",
       "      <th>feature_26</th>\n",
       "      <td>0.006787</td>\n",
       "      <td>0.645629</td>\n",
       "    </tr>\n",
       "    <tr>\n",
       "      <th>feature_59</th>\n",
       "      <td>0.006770</td>\n",
       "      <td>0.652399</td>\n",
       "    </tr>\n",
       "    <tr>\n",
       "      <th>feature_50</th>\n",
       "      <td>0.006633</td>\n",
       "      <td>0.659032</td>\n",
       "    </tr>\n",
       "    <tr>\n",
       "      <th>feature_110</th>\n",
       "      <td>0.006608</td>\n",
       "      <td>0.665640</td>\n",
       "    </tr>\n",
       "    <tr>\n",
       "      <th>feature_32</th>\n",
       "      <td>0.006490</td>\n",
       "      <td>0.672130</td>\n",
       "    </tr>\n",
       "    <tr>\n",
       "      <th>feature_47</th>\n",
       "      <td>0.006457</td>\n",
       "      <td>0.678587</td>\n",
       "    </tr>\n",
       "    <tr>\n",
       "      <th>feature_35</th>\n",
       "      <td>0.006446</td>\n",
       "      <td>0.685033</td>\n",
       "    </tr>\n",
       "    <tr>\n",
       "      <th>feature_54</th>\n",
       "      <td>0.006418</td>\n",
       "      <td>0.691451</td>\n",
       "    </tr>\n",
       "    <tr>\n",
       "      <th>feature_36</th>\n",
       "      <td>0.006292</td>\n",
       "      <td>0.697743</td>\n",
       "    </tr>\n",
       "    <tr>\n",
       "      <th>feature_34</th>\n",
       "      <td>0.006262</td>\n",
       "      <td>0.704005</td>\n",
       "    </tr>\n",
       "    <tr>\n",
       "      <th>feature_21</th>\n",
       "      <td>0.006262</td>\n",
       "      <td>0.710267</td>\n",
       "    </tr>\n",
       "    <tr>\n",
       "      <th>feature_123</th>\n",
       "      <td>0.006258</td>\n",
       "      <td>0.716526</td>\n",
       "    </tr>\n",
       "    <tr>\n",
       "      <th>feature_49</th>\n",
       "      <td>0.006246</td>\n",
       "      <td>0.722771</td>\n",
       "    </tr>\n",
       "    <tr>\n",
       "      <th>feature_56</th>\n",
       "      <td>0.006224</td>\n",
       "      <td>0.728995</td>\n",
       "    </tr>\n",
       "    <tr>\n",
       "      <th>feature_98</th>\n",
       "      <td>0.006212</td>\n",
       "      <td>0.735208</td>\n",
       "    </tr>\n",
       "    <tr>\n",
       "      <th>feature_22</th>\n",
       "      <td>0.006200</td>\n",
       "      <td>0.741408</td>\n",
       "    </tr>\n",
       "    <tr>\n",
       "      <th>feature_24</th>\n",
       "      <td>0.006187</td>\n",
       "      <td>0.747595</td>\n",
       "    </tr>\n",
       "    <tr>\n",
       "      <th>feature_23</th>\n",
       "      <td>0.006170</td>\n",
       "      <td>0.753764</td>\n",
       "    </tr>\n",
       "    <tr>\n",
       "      <th>feature_29</th>\n",
       "      <td>0.006156</td>\n",
       "      <td>0.759920</td>\n",
       "    </tr>\n",
       "    <tr>\n",
       "      <th>feature_46</th>\n",
       "      <td>0.006156</td>\n",
       "      <td>0.766076</td>\n",
       "    </tr>\n",
       "    <tr>\n",
       "      <th>feature_25</th>\n",
       "      <td>0.006105</td>\n",
       "      <td>0.772181</td>\n",
       "    </tr>\n",
       "    <tr>\n",
       "      <th>feature_30</th>\n",
       "      <td>0.005983</td>\n",
       "      <td>0.778164</td>\n",
       "    </tr>\n",
       "    <tr>\n",
       "      <th>feature_48</th>\n",
       "      <td>0.005927</td>\n",
       "      <td>0.784091</td>\n",
       "    </tr>\n",
       "    <tr>\n",
       "      <th>feature_12</th>\n",
       "      <td>0.005927</td>\n",
       "      <td>0.790018</td>\n",
       "    </tr>\n",
       "    <tr>\n",
       "      <th>feature_80</th>\n",
       "      <td>0.005917</td>\n",
       "      <td>0.795935</td>\n",
       "    </tr>\n",
       "    <tr>\n",
       "      <th>feature_111</th>\n",
       "      <td>0.005819</td>\n",
       "      <td>0.801754</td>\n",
       "    </tr>\n",
       "    <tr>\n",
       "      <th>feature_51</th>\n",
       "      <td>0.005778</td>\n",
       "      <td>0.807533</td>\n",
       "    </tr>\n",
       "    <tr>\n",
       "      <th>feature_117</th>\n",
       "      <td>0.005748</td>\n",
       "      <td>0.813281</td>\n",
       "    </tr>\n",
       "    <tr>\n",
       "      <th>feature_93</th>\n",
       "      <td>0.005743</td>\n",
       "      <td>0.819024</td>\n",
       "    </tr>\n",
       "    <tr>\n",
       "      <th>feature_19</th>\n",
       "      <td>0.005742</td>\n",
       "      <td>0.824766</td>\n",
       "    </tr>\n",
       "    <tr>\n",
       "      <th>feature_99</th>\n",
       "      <td>0.005694</td>\n",
       "      <td>0.830459</td>\n",
       "    </tr>\n",
       "    <tr>\n",
       "      <th>feature_11</th>\n",
       "      <td>0.005679</td>\n",
       "      <td>0.836138</td>\n",
       "    </tr>\n",
       "    <tr>\n",
       "      <th>feature_105</th>\n",
       "      <td>0.005658</td>\n",
       "      <td>0.841796</td>\n",
       "    </tr>\n",
       "    <tr>\n",
       "      <th>feature_74</th>\n",
       "      <td>0.005651</td>\n",
       "      <td>0.847447</td>\n",
       "    </tr>\n",
       "    <tr>\n",
       "      <th>feature_109</th>\n",
       "      <td>0.005648</td>\n",
       "      <td>0.853095</td>\n",
       "    </tr>\n",
       "    <tr>\n",
       "      <th>feature_10</th>\n",
       "      <td>0.005646</td>\n",
       "      <td>0.858741</td>\n",
       "    </tr>\n",
       "    <tr>\n",
       "      <th>weight</th>\n",
       "      <td>0.005639</td>\n",
       "      <td>0.864380</td>\n",
       "    </tr>\n",
       "    <tr>\n",
       "      <th>feature_87</th>\n",
       "      <td>0.005603</td>\n",
       "      <td>0.869983</td>\n",
       "    </tr>\n",
       "    <tr>\n",
       "      <th>feature_9</th>\n",
       "      <td>0.005518</td>\n",
       "      <td>0.875501</td>\n",
       "    </tr>\n",
       "    <tr>\n",
       "      <th>feature_85</th>\n",
       "      <td>0.005419</td>\n",
       "      <td>0.880921</td>\n",
       "    </tr>\n",
       "    <tr>\n",
       "      <th>feature_79</th>\n",
       "      <td>0.005361</td>\n",
       "      <td>0.886281</td>\n",
       "    </tr>\n",
       "    <tr>\n",
       "      <th>feature_2</th>\n",
       "      <td>0.005334</td>\n",
       "      <td>0.891616</td>\n",
       "    </tr>\n",
       "    <tr>\n",
       "      <th>feature_13</th>\n",
       "      <td>0.005296</td>\n",
       "      <td>0.896912</td>\n",
       "    </tr>\n",
       "    <tr>\n",
       "      <th>feature_97</th>\n",
       "      <td>0.005276</td>\n",
       "      <td>0.902187</td>\n",
       "    </tr>\n",
       "    <tr>\n",
       "      <th>feature_118</th>\n",
       "      <td>0.005274</td>\n",
       "      <td>0.907462</td>\n",
       "    </tr>\n",
       "    <tr>\n",
       "      <th>feature_112</th>\n",
       "      <td>0.005255</td>\n",
       "      <td>0.912717</td>\n",
       "    </tr>\n",
       "    <tr>\n",
       "      <th>feature_76</th>\n",
       "      <td>0.005242</td>\n",
       "      <td>0.917959</td>\n",
       "    </tr>\n",
       "    <tr>\n",
       "      <th>feature_1</th>\n",
       "      <td>0.005228</td>\n",
       "      <td>0.923187</td>\n",
       "    </tr>\n",
       "    <tr>\n",
       "      <th>feature_88</th>\n",
       "      <td>0.005226</td>\n",
       "      <td>0.928413</td>\n",
       "    </tr>\n",
       "    <tr>\n",
       "      <th>feature_73</th>\n",
       "      <td>0.005207</td>\n",
       "      <td>0.933620</td>\n",
       "    </tr>\n",
       "    <tr>\n",
       "      <th>feature_81</th>\n",
       "      <td>0.005187</td>\n",
       "      <td>0.938806</td>\n",
       "    </tr>\n",
       "    <tr>\n",
       "      <th>feature_91</th>\n",
       "      <td>0.005182</td>\n",
       "      <td>0.943988</td>\n",
       "    </tr>\n",
       "    <tr>\n",
       "      <th>feature_106</th>\n",
       "      <td>0.005179</td>\n",
       "      <td>0.949167</td>\n",
       "    </tr>\n",
       "    <tr>\n",
       "      <th>feature_103</th>\n",
       "      <td>0.005178</td>\n",
       "      <td>0.954345</td>\n",
       "    </tr>\n",
       "    <tr>\n",
       "      <th>feature_82</th>\n",
       "      <td>0.005146</td>\n",
       "      <td>0.959490</td>\n",
       "    </tr>\n",
       "    <tr>\n",
       "      <th>feature_15</th>\n",
       "      <td>0.005121</td>\n",
       "      <td>0.964611</td>\n",
       "    </tr>\n",
       "    <tr>\n",
       "      <th>feature_75</th>\n",
       "      <td>0.005119</td>\n",
       "      <td>0.969731</td>\n",
       "    </tr>\n",
       "    <tr>\n",
       "      <th>feature_100</th>\n",
       "      <td>0.005118</td>\n",
       "      <td>0.974849</td>\n",
       "    </tr>\n",
       "    <tr>\n",
       "      <th>feature_16</th>\n",
       "      <td>0.005088</td>\n",
       "      <td>0.979937</td>\n",
       "    </tr>\n",
       "    <tr>\n",
       "      <th>feature_94</th>\n",
       "      <td>0.005070</td>\n",
       "      <td>0.985007</td>\n",
       "    </tr>\n",
       "    <tr>\n",
       "      <th>feature_52</th>\n",
       "      <td>0.005024</td>\n",
       "      <td>0.990030</td>\n",
       "    </tr>\n",
       "    <tr>\n",
       "      <th>feature_115</th>\n",
       "      <td>0.005018</td>\n",
       "      <td>0.995048</td>\n",
       "    </tr>\n",
       "    <tr>\n",
       "      <th>feature_14</th>\n",
       "      <td>0.004952</td>\n",
       "      <td>1.000000</td>\n",
       "    </tr>\n",
       "  </tbody>\n",
       "</table>\n",
       "</div>"
      ],
      "text/plain": [
       "             Importance  % feat importance cumulé\n",
       "feature_43     0.017138                  0.017138\n",
       "feature_0      0.015906                  0.033044\n",
       "feature_45     0.015536                  0.048580\n",
       "feature_41     0.015181                  0.063761\n",
       "feature_42     0.014970                  0.078731\n",
       "feature_44     0.014703                  0.093434\n",
       "feature_62     0.013491                  0.106925\n",
       "feature_63     0.013254                  0.120179\n",
       "feature_39     0.012942                  0.133121\n",
       "feature_60     0.012152                  0.145273\n",
       "feature_6      0.012097                  0.157370\n",
       "feature_5      0.011741                  0.169110\n",
       "feature_61     0.011432                  0.180543\n",
       "feature_3      0.010945                  0.191488\n",
       "feature_83     0.010583                  0.202071\n",
       "feature_4      0.010368                  0.212440\n",
       "feature_40     0.010280                  0.222720\n",
       "feature_120    0.010216                  0.232936\n",
       "feature_107    0.010175                  0.243110\n",
       "feature_38     0.009905                  0.253016\n",
       "feature_77     0.009732                  0.262748\n",
       "feature_95     0.009563                  0.272310\n",
       "feature_27     0.009426                  0.281737\n",
       "feature_119    0.009343                  0.291079\n",
       "feature_124    0.009338                  0.300417\n",
       "feature_37     0.009321                  0.309738\n",
       "feature_55     0.009163                  0.318901\n",
       "feature_89     0.009087                  0.327989\n",
       "feature_28     0.009016                  0.337004\n",
       "feature_126    0.008810                  0.345814\n",
       "feature_125    0.008800                  0.354614\n",
       "feature_121    0.008798                  0.363413\n",
       "feature_64     0.008773                  0.372185\n",
       "feature_113    0.008739                  0.380924\n",
       "feature_102    0.008660                  0.389585\n",
       "feature_114    0.008602                  0.398186\n",
       "feature_31     0.008429                  0.406615\n",
       "feature_57     0.008314                  0.414929\n",
       "feature_101    0.008296                  0.423225\n",
       "feature_90     0.008236                  0.431460\n",
       "feature_66     0.008172                  0.439632\n",
       "feature_67     0.008158                  0.447790\n",
       "feature_108    0.008030                  0.455820\n",
       "feature_127    0.007931                  0.463750\n",
       "feature_96     0.007917                  0.471667\n",
       "feature_84     0.007908                  0.479575\n",
       "feature_71     0.007864                  0.487439\n",
       "feature_65     0.007840                  0.495278\n",
       "feature_68     0.007653                  0.502932\n",
       "feature_20     0.007572                  0.510504\n",
       "feature_78     0.007535                  0.518039\n",
       "feature_69     0.007523                  0.525563\n",
       "feature_70     0.007360                  0.532923\n",
       "feature_8      0.007339                  0.540262\n",
       "feature_58     0.007300                  0.547561\n",
       "feature_128    0.007294                  0.554856\n",
       "feature_86     0.007273                  0.562129\n",
       "feature_7      0.007216                  0.569345\n",
       "feature_116    0.007162                  0.576507\n",
       "feature_18     0.007102                  0.583609\n",
       "feature_104    0.007026                  0.590634\n",
       "feature_92     0.006990                  0.597624\n",
       "feature_17     0.006986                  0.604611\n",
       "feature_129    0.006929                  0.611539\n",
       "feature_33     0.006880                  0.618420\n",
       "feature_53     0.006837                  0.625257\n",
       "feature_122    0.006799                  0.632055\n",
       "feature_72     0.006788                  0.638843\n",
       "feature_26     0.006787                  0.645629\n",
       "feature_59     0.006770                  0.652399\n",
       "feature_50     0.006633                  0.659032\n",
       "feature_110    0.006608                  0.665640\n",
       "feature_32     0.006490                  0.672130\n",
       "feature_47     0.006457                  0.678587\n",
       "feature_35     0.006446                  0.685033\n",
       "feature_54     0.006418                  0.691451\n",
       "feature_36     0.006292                  0.697743\n",
       "feature_34     0.006262                  0.704005\n",
       "feature_21     0.006262                  0.710267\n",
       "feature_123    0.006258                  0.716526\n",
       "feature_49     0.006246                  0.722771\n",
       "feature_56     0.006224                  0.728995\n",
       "feature_98     0.006212                  0.735208\n",
       "feature_22     0.006200                  0.741408\n",
       "feature_24     0.006187                  0.747595\n",
       "feature_23     0.006170                  0.753764\n",
       "feature_29     0.006156                  0.759920\n",
       "feature_46     0.006156                  0.766076\n",
       "feature_25     0.006105                  0.772181\n",
       "feature_30     0.005983                  0.778164\n",
       "feature_48     0.005927                  0.784091\n",
       "feature_12     0.005927                  0.790018\n",
       "feature_80     0.005917                  0.795935\n",
       "feature_111    0.005819                  0.801754\n",
       "feature_51     0.005778                  0.807533\n",
       "feature_117    0.005748                  0.813281\n",
       "feature_93     0.005743                  0.819024\n",
       "feature_19     0.005742                  0.824766\n",
       "feature_99     0.005694                  0.830459\n",
       "feature_11     0.005679                  0.836138\n",
       "feature_105    0.005658                  0.841796\n",
       "feature_74     0.005651                  0.847447\n",
       "feature_109    0.005648                  0.853095\n",
       "feature_10     0.005646                  0.858741\n",
       "weight         0.005639                  0.864380\n",
       "feature_87     0.005603                  0.869983\n",
       "feature_9      0.005518                  0.875501\n",
       "feature_85     0.005419                  0.880921\n",
       "feature_79     0.005361                  0.886281\n",
       "feature_2      0.005334                  0.891616\n",
       "feature_13     0.005296                  0.896912\n",
       "feature_97     0.005276                  0.902187\n",
       "feature_118    0.005274                  0.907462\n",
       "feature_112    0.005255                  0.912717\n",
       "feature_76     0.005242                  0.917959\n",
       "feature_1      0.005228                  0.923187\n",
       "feature_88     0.005226                  0.928413\n",
       "feature_73     0.005207                  0.933620\n",
       "feature_81     0.005187                  0.938806\n",
       "feature_91     0.005182                  0.943988\n",
       "feature_106    0.005179                  0.949167\n",
       "feature_103    0.005178                  0.954345\n",
       "feature_82     0.005146                  0.959490\n",
       "feature_15     0.005121                  0.964611\n",
       "feature_75     0.005119                  0.969731\n",
       "feature_100    0.005118                  0.974849\n",
       "feature_16     0.005088                  0.979937\n",
       "feature_94     0.005070                  0.985007\n",
       "feature_52     0.005024                  0.990030\n",
       "feature_115    0.005018                  0.995048\n",
       "feature_14     0.004952                  1.000000"
      ]
     },
     "metadata": {},
     "output_type": "display_data"
    }
   ],
   "source": [
    "if (XGBOOST_MODEL_INTERFACE == 'sklearn'):\n",
    "    display(df_featimportance_cumulated)"
   ]
  },
  {
   "cell_type": "code",
   "execution_count": 87,
   "metadata": {
    "execution": {
     "iopub.execute_input": "2020-12-13T01:46:16.350980Z",
     "iopub.status.busy": "2020-12-13T01:46:16.349182Z",
     "iopub.status.idle": "2020-12-13T01:46:16.351568Z",
     "shell.execute_reply": "2020-12-13T01:46:16.352056Z"
    },
    "papermill": {
     "duration": 0.085063,
     "end_time": "2020-12-13T01:46:16.352164",
     "exception": false,
     "start_time": "2020-12-13T01:46:16.267101",
     "status": "completed"
    },
    "tags": []
   },
   "outputs": [],
   "source": [
    "if (XGBOOST_MODEL_INTERFACE == 'xgboost'):\n",
    "    df_gains_cumulated = pd.concat([df_gains, pd.DataFrame({'% Gain cumulé' : (df_gains['gain'] / df_gains['gain'].sum()).cumsum()})], axis=1)"
   ]
  },
  {
   "cell_type": "code",
   "execution_count": 88,
   "metadata": {
    "execution": {
     "iopub.execute_input": "2020-12-13T01:46:16.509286Z",
     "iopub.status.busy": "2020-12-13T01:46:16.508785Z",
     "iopub.status.idle": "2020-12-13T01:46:16.512542Z",
     "shell.execute_reply": "2020-12-13T01:46:16.512112Z"
    },
    "papermill": {
     "duration": 0.084041,
     "end_time": "2020-12-13T01:46:16.512686",
     "exception": false,
     "start_time": "2020-12-13T01:46:16.428645",
     "status": "completed"
    },
    "tags": []
   },
   "outputs": [],
   "source": [
    "if (XGBOOST_MODEL_INTERFACE == 'xgboost'):\n",
    "    display(df_gains_cumulated)"
   ]
  }
 ],
 "metadata": {
  "kernelspec": {
   "display_name": "Python 3",
   "language": "python",
   "name": "python3"
  },
  "language_info": {
   "codemirror_mode": {
    "name": "ipython",
    "version": 3
   },
   "file_extension": ".py",
   "mimetype": "text/x-python",
   "name": "python",
   "nbconvert_exporter": "python",
   "pygments_lexer": "ipython3",
   "version": "3.7.6"
  },
  "papermill": {
   "duration": 300.56757,
   "end_time": "2020-12-13T01:46:16.999784",
   "environment_variables": {},
   "exception": null,
   "input_path": "__notebook__.ipynb",
   "output_path": "__notebook__.ipynb",
   "parameters": {},
   "start_time": "2020-12-13T01:41:16.432214",
   "version": "2.1.0"
  }
 },
 "nbformat": 4,
 "nbformat_minor": 4
}
