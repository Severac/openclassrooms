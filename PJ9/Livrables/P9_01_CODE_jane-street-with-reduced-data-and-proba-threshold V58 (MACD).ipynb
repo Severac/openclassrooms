{
 "cells": [
  {
   "cell_type": "code",
   "execution_count": 1,
   "metadata": {
    "_cell_guid": "b1076dfc-b9ad-4769-8c92-a6c4dae69d19",
    "_uuid": "8f2839f25d086af736a60e9eeb907d3b93b6e0e5",
    "execution": {
     "iopub.execute_input": "2020-12-16T14:27:36.453388Z",
     "iopub.status.busy": "2020-12-16T14:27:36.452800Z",
     "iopub.status.idle": "2020-12-16T14:28:11.244181Z",
     "shell.execute_reply": "2020-12-16T14:28:11.241946Z"
    },
    "papermill": {
     "duration": 34.874857,
     "end_time": "2020-12-16T14:28:11.244380",
     "exception": false,
     "start_time": "2020-12-16T14:27:36.369523",
     "status": "completed"
    },
    "tags": []
   },
   "outputs": [
    {
     "name": "stdout",
     "output_type": "stream",
     "text": [
      "Processing /kaggle/input/python-datatable/datatable-0.11.0-cp37-cp37m-manylinux2010_x86_64.whl\n",
      "Installing collected packages: datatable\n",
      "Successfully installed datatable-0.11.0\n"
     ]
    },
    {
     "data": {
      "text/html": [
       "<style type='text/css'>\n",
       ".datatable table.frame { margin-bottom: 0; }\n",
       ".datatable table.frame thead { border-bottom: none; }\n",
       ".datatable table.frame tr.coltypes td {  color: #FFFFFF;  line-height: 6px;  padding: 0 0.5em;}\n",
       ".datatable .bool    { background: #DDDD99; }\n",
       ".datatable .object  { background: #565656; }\n",
       ".datatable .int     { background: #5D9E5D; }\n",
       ".datatable .float   { background: #4040CC; }\n",
       ".datatable .str     { background: #CC4040; }\n",
       ".datatable .row_index {  background: var(--jp-border-color3);  border-right: 1px solid var(--jp-border-color0);  color: var(--jp-ui-font-color3);  font-size: 9px;}\n",
       ".datatable .frame tr.coltypes .row_index {  background: var(--jp-border-color0);}\n",
       ".datatable th:nth-child(2) { padding-left: 12px; }\n",
       ".datatable .hellipsis {  color: var(--jp-cell-editor-border-color);}\n",
       ".datatable .vellipsis {  background: var(--jp-layout-color0);  color: var(--jp-cell-editor-border-color);}\n",
       ".datatable .na {  color: var(--jp-cell-editor-border-color);  font-size: 80%;}\n",
       ".datatable .footer { font-size: 9px; }\n",
       ".datatable .frame_dimensions {  background: var(--jp-border-color3);  border-top: 1px solid var(--jp-border-color0);  color: var(--jp-ui-font-color3);  display: inline-block;  opacity: 0.6;  padding: 1px 10px 1px 5px;}\n",
       ".datatable .frame thead tr.colnames {  background-image: url('data:image/png;base64,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');  background-repeat: repeat-x;  background-size: 14px;  height: 28px;}\n",
       "</style>\n"
      ],
      "text/plain": [
       "<IPython.core.display.HTML object>"
      ]
     },
     "metadata": {},
     "output_type": "display_data"
    },
    {
     "name": "stdout",
     "output_type": "stream",
     "text": [
      "/kaggle/input/jane-street-first-time-series-dataframe-save/__results__.html\n",
      "/kaggle/input/jane-street-first-time-series-dataframe-save/dataframe.pickle\n",
      "/kaggle/input/jane-street-first-time-series-dataframe-save/__notebook__.ipynb\n",
      "/kaggle/input/jane-street-first-time-series-dataframe-save/__output__.json\n",
      "/kaggle/input/jane-street-first-time-series-dataframe-save/custom.css\n",
      "/kaggle/input/rapids/rapids.0.16.0\n",
      "/kaggle/input/rapids/rapids.0.17.0\n",
      "/kaggle/input/python-datatable/datatable-0.11.0-cp37-cp37m-manylinux2010_x86_64.whl\n",
      "/kaggle/input/jane-street-market-prediction/example_sample_submission.csv\n",
      "/kaggle/input/jane-street-market-prediction/features.csv\n",
      "/kaggle/input/jane-street-market-prediction/example_test.csv\n",
      "/kaggle/input/jane-street-market-prediction/train.csv\n",
      "/kaggle/input/jane-street-market-prediction/janestreet/competition.cpython-37m-x86_64-linux-gnu.so\n",
      "/kaggle/input/jane-street-market-prediction/janestreet/__init__.py\n"
     ]
    }
   ],
   "source": [
    "# This Python 3 environment comes with many helpful analytics libraries installed\n",
    "# It is defined by the kaggle/python Docker image: https://github.com/kaggle/docker-python\n",
    "# For example, here's several helpful packages to load\n",
    "\n",
    "import numpy as np # linear algebra\n",
    "import pandas as pd # data processing, CSV file I/O (e.g. pd.read_csv)\n",
    "\n",
    "import matplotlib.pyplot as plt\n",
    "import seaborn as sns\n",
    "\n",
    "from sklearn.model_selection import train_test_split\n",
    "from sklearn.metrics import accuracy_score\n",
    "from xgboost import XGBClassifier\n",
    "\n",
    "from sklearn.model_selection import TimeSeriesSplit, GridSearchCV\n",
    "\n",
    "#import janestreet\n",
    "#env = janestreet.make_env() # initialize the environment\n",
    "\n",
    "#!pip install datatable # Internet is not activated in this competition\n",
    "!pip install ../input/python-datatable/datatable-0.11.0-cp37-cp37m-manylinux2010_x86_64.whl\n",
    "import datatable as dt\n",
    "\n",
    "import pickle\n",
    "MODEL_FILE = '/kaggle/working/model.pickle'\n",
    "XGBOOST_MODEL_FILE = '/kaggle/working/model_xgboost.model'\n",
    "\n",
    "XGBOOST_MODEL_INTERFACE = 'sklearn' # or 'xgboost'\n",
    "#XGBOOST_MODEL_INTERFACE = 'xgboost' # or 'xgboost'\n",
    "\n",
    "DF_FILE = '../input/jane-street-first-time-series-dataframe-save/dataframe.pickle'\n",
    "LOAD_DF = False\n",
    "\n",
    "CALCULATE_MACD = True\n",
    "\n",
    "PREDICT_THRESHOLD = 0.5\n",
    "\n",
    "TIMESERIES_SPLIT = True\n",
    "\n",
    "DO_GRIDSEARCH = False\n",
    "\n",
    "import xgboost as xgb\n",
    "import gc\n",
    "\n",
    "from scipy import stats\n",
    "\n",
    "# Input data files are available in the read-only \"../input/\" directory\n",
    "# For example, running this (by clicking run or pressing Shift+Enter) will list all files under the input directory\n",
    "\n",
    "import os\n",
    "for dirname, _, filenames in os.walk('/kaggle/input'):\n",
    "    for filename in filenames:\n",
    "        print(os.path.join(dirname, filename))\n",
    "\n",
    "# You can write up to 20GB to the current directory (/kaggle/working/) that gets preserved as output when you create a version using \"Save & Run All\" \n",
    "# You can also write temporary files to /kaggle/temp/, but they won't be saved outside of the current session\n",
    "\n",
    "INPUT_DIR = '/kaggle/input/jane-street-market-prediction/'\n",
    "\n",
    "pd.set_option('display.max_rows', 500)"
   ]
  },
  {
   "cell_type": "markdown",
   "metadata": {
    "papermill": {
     "duration": 0.066844,
     "end_time": "2020-12-16T14:28:11.380462",
     "exception": false,
     "start_time": "2020-12-16T14:28:11.313618",
     "status": "completed"
    },
    "tags": []
   },
   "source": [
    "Thanks to following notebooks :  \n",
    "https://www.kaggle.com/drcapa/jane-street-market-prediction-starter-xgb/output?select=example_sample_submission.csv"
   ]
  },
  {
   "cell_type": "markdown",
   "metadata": {
    "papermill": {
     "duration": 0.066729,
     "end_time": "2020-12-16T14:28:11.514391",
     "exception": false,
     "start_time": "2020-12-16T14:28:11.447662",
     "status": "completed"
    },
    "tags": []
   },
   "source": [
    "# Load data alternative"
   ]
  },
  {
   "cell_type": "markdown",
   "metadata": {
    "papermill": {
     "duration": 0.066961,
     "end_time": "2020-12-16T14:28:11.647916",
     "exception": false,
     "start_time": "2020-12-16T14:28:11.580955",
     "status": "completed"
    },
    "tags": []
   },
   "source": [
    "CUDF"
   ]
  },
  {
   "cell_type": "code",
   "execution_count": 2,
   "metadata": {
    "execution": {
     "iopub.execute_input": "2020-12-16T14:28:11.788904Z",
     "iopub.status.busy": "2020-12-16T14:28:11.788110Z",
     "iopub.status.idle": "2020-12-16T14:28:11.791316Z",
     "shell.execute_reply": "2020-12-16T14:28:11.790880Z"
    },
    "papermill": {
     "duration": 0.076921,
     "end_time": "2020-12-16T14:28:11.791410",
     "exception": false,
     "start_time": "2020-12-16T14:28:11.714489",
     "status": "completed"
    },
    "tags": []
   },
   "outputs": [],
   "source": [
    "# CUDF\n",
    "#import sys\n",
    "#!cp ../input/rapids/rapids.0.15.0 /opt/conda/envs/rapids.tar.gz\n",
    "#!cd /opt/conda/envs/ && tar -xzvf rapids.tar.gz > /dev/null\n",
    "#sys.path = [\"/opt/conda/envs/rapids/lib/python3.7/site-packages\"] + sys.path\n",
    "#sys.path = [\"/opt/conda/envs/rapids/lib/python3.7\"] + sys.path\n",
    "#sys.path = [\"/opt/conda/envs/rapids/lib\"] + sys.path \n",
    "#!cp /opt/conda/envs/rapids/lib/libxgboost.so /opt/conda/lib/\n",
    "\n",
    "#import cudf"
   ]
  },
  {
   "cell_type": "code",
   "execution_count": 3,
   "metadata": {
    "execution": {
     "iopub.execute_input": "2020-12-16T14:28:11.931972Z",
     "iopub.status.busy": "2020-12-16T14:28:11.931228Z",
     "iopub.status.idle": "2020-12-16T14:28:11.934109Z",
     "shell.execute_reply": "2020-12-16T14:28:11.933686Z"
    },
    "papermill": {
     "duration": 0.074039,
     "end_time": "2020-12-16T14:28:11.934217",
     "exception": false,
     "start_time": "2020-12-16T14:28:11.860178",
     "status": "completed"
    },
    "tags": []
   },
   "outputs": [],
   "source": [
    "#dtypes_tab = {\"feature_\"+str(i) : \"float32\" for i in range(1,130)}\n",
    "#dtypes_tab['feature_0'] = 'int8'"
   ]
  },
  {
   "cell_type": "code",
   "execution_count": 4,
   "metadata": {
    "execution": {
     "iopub.execute_input": "2020-12-16T14:28:12.072872Z",
     "iopub.status.busy": "2020-12-16T14:28:12.072063Z",
     "iopub.status.idle": "2020-12-16T14:28:12.074954Z",
     "shell.execute_reply": "2020-12-16T14:28:12.074529Z"
    },
    "papermill": {
     "duration": 0.073447,
     "end_time": "2020-12-16T14:28:12.075046",
     "exception": false,
     "start_time": "2020-12-16T14:28:12.001599",
     "status": "completed"
    },
    "tags": []
   },
   "outputs": [],
   "source": [
    "#df = cudf.read_csv('../input/jane-street-market-prediction/train.csv', dtypes=dtypes_tab)"
   ]
  },
  {
   "cell_type": "code",
   "execution_count": 5,
   "metadata": {
    "execution": {
     "iopub.execute_input": "2020-12-16T14:28:12.213664Z",
     "iopub.status.busy": "2020-12-16T14:28:12.212924Z",
     "iopub.status.idle": "2020-12-16T14:28:12.215824Z",
     "shell.execute_reply": "2020-12-16T14:28:12.215408Z"
    },
    "papermill": {
     "duration": 0.073691,
     "end_time": "2020-12-16T14:28:12.215914",
     "exception": false,
     "start_time": "2020-12-16T14:28:12.142223",
     "status": "completed"
    },
    "tags": []
   },
   "outputs": [],
   "source": [
    "#df['resp_positive'] = ((df['resp'])>0)*1  # Target to predict"
   ]
  },
  {
   "cell_type": "markdown",
   "metadata": {
    "papermill": {
     "duration": 0.066939,
     "end_time": "2020-12-16T14:28:12.350566",
     "exception": false,
     "start_time": "2020-12-16T14:28:12.283627",
     "status": "completed"
    },
    "tags": []
   },
   "source": [
    "DASK"
   ]
  },
  {
   "cell_type": "code",
   "execution_count": 6,
   "metadata": {
    "execution": {
     "iopub.execute_input": "2020-12-16T14:28:12.488893Z",
     "iopub.status.busy": "2020-12-16T14:28:12.488039Z",
     "iopub.status.idle": "2020-12-16T14:28:12.490910Z",
     "shell.execute_reply": "2020-12-16T14:28:12.490485Z"
    },
    "papermill": {
     "duration": 0.073514,
     "end_time": "2020-12-16T14:28:12.491001",
     "exception": false,
     "start_time": "2020-12-16T14:28:12.417487",
     "status": "completed"
    },
    "tags": []
   },
   "outputs": [],
   "source": [
    "# DASK\n",
    "\n",
    "#import dask.dataframe as dd\n",
    "\n",
    "#dtypes = {\"feature_\"+str(i) : \"float32\" for i in range(1,130)}\n",
    "#dtypes['feature_0'] = 'int8'\n",
    "\n",
    "#df = dd.read_csv('../input/jane-street-market-prediction/train.csv')\n",
    "\n",
    "#print(df.shape)\n",
    "#df.head()"
   ]
  },
  {
   "cell_type": "markdown",
   "metadata": {
    "papermill": {
     "duration": 0.067319,
     "end_time": "2020-12-16T14:28:12.625855",
     "exception": false,
     "start_time": "2020-12-16T14:28:12.558536",
     "status": "completed"
    },
    "tags": []
   },
   "source": [
    "# Load data"
   ]
  },
  {
   "cell_type": "code",
   "execution_count": 7,
   "metadata": {
    "_cell_guid": "79c7e3d0-c299-4dcb-8224-4455121ee9b0",
    "_uuid": "d629ff2d2480ee46fbb7e2d37f6b5fab8052498a",
    "execution": {
     "iopub.execute_input": "2020-12-16T14:28:12.776444Z",
     "iopub.status.busy": "2020-12-16T14:28:12.775561Z",
     "iopub.status.idle": "2020-12-16T14:29:29.698878Z",
     "shell.execute_reply": "2020-12-16T14:29:29.699645Z"
    },
    "papermill": {
     "duration": 77.005277,
     "end_time": "2020-12-16T14:29:29.699809",
     "exception": false,
     "start_time": "2020-12-16T14:28:12.694532",
     "status": "completed"
    },
    "tags": []
   },
   "outputs": [
    {
     "name": "stdout",
     "output_type": "stream",
     "text": [
      "CPU times: user 30.8 s, sys: 12.6 s, total: 43.4 s\n",
      "Wall time: 1min 16s\n"
     ]
    }
   ],
   "source": [
    "%%time\n",
    "#dtypes = {\"feature_\"+str(i) : \"float32\" for i in range(1,130)}\n",
    "#dtypes['feature_0'] = 'int8'\n",
    "\n",
    "if (LOAD_DF != True):\n",
    "    # Thanks to his notebook for this fast loading : https://www.kaggle.com/carlmcbrideellis/jane-street-eda-of-day-0-and-feature-importance\n",
    "    train_data_datatable = dt.fread('../input/jane-street-market-prediction/train.csv')\n",
    "    df = train_data_datatable.to_pandas()\n",
    "\n",
    "    # Thanks to this notebook to gain memory usage : https://www.kaggle.com/jorijnsmit/one-liner-to-halve-your-memory-usage\n",
    "    float64_cols = df.select_dtypes(include='float64').columns\n",
    "    mapper = {col_name: np.float32 for col_name in float64_cols}\n",
    "    mapper['feature_0'] = 'int8'\n",
    "    df = df.astype(mapper)\n",
    "    \n",
    "    del train_data_datatable\n",
    "    \n",
    "    df['resp_positive'] = ((df['resp'])>0)*1  # Target to predict\n",
    "    \n",
    "    # Temporal features\n",
    "    \n",
    "    if (CALCULATE_MACD == True):\n",
    "        #FEATURES_FOR_MACD = ['feature_'+str(i) for i in range(1,130)]\n",
    "        FEATURES_FOR_MACD = ['feature_41', 'feature_42', 'feature_43', 'feature_44', 'feature_45']\n",
    "\n",
    "        for feature in FEATURES_FOR_MACD:\n",
    "            #df.loc[:, feature + '_macd'] = df[feature].ewm(span=12, adjust=False).mean().astype('float32') # Short term exponential moving average\\\n",
    "            #- df[feature].ewm(span=26, adjust=False).mean().astype('float32') # Long term exponential moving average\n",
    "            \n",
    "            macd_feature = df[feature].ewm(span=12, adjust=False).mean().astype('float32') # Short term exponential moving average\\\n",
    "            - df[feature].ewm(span=26, adjust=False).mean().astype('float32') # Long term exponential moving average\n",
    "\n",
    "            # We calculate MACD (which is short term EWMA (span 12) minus long term EWMA (span 26)) minus signal (which is MACD EWMA span 9)\n",
    "            df.loc[:, feature + '_macd_minus_signal'] = macd_feature - macd_feature.ewm(span=9, adjust=False).mean().astype('float32')\n",
    "            \n",
    "            del macd_feature\n",
    "            gc.collect()\n",
    "    \n",
    "else:\n",
    "    with open(DF_FILE, 'rb') as f:\n",
    "        df = pickle.load(f)   "
   ]
  },
  {
   "cell_type": "code",
   "execution_count": 8,
   "metadata": {
    "execution": {
     "iopub.execute_input": "2020-12-16T14:29:29.848199Z",
     "iopub.status.busy": "2020-12-16T14:29:29.847297Z",
     "iopub.status.idle": "2020-12-16T14:29:29.850798Z",
     "shell.execute_reply": "2020-12-16T14:29:29.851251Z"
    },
    "papermill": {
     "duration": 0.083319,
     "end_time": "2020-12-16T14:29:29.851368",
     "exception": false,
     "start_time": "2020-12-16T14:29:29.768049",
     "status": "completed"
    },
    "tags": []
   },
   "outputs": [
    {
     "data": {
      "text/plain": [
       "date                              int32\n",
       "weight                          float32\n",
       "resp_1                          float32\n",
       "resp_2                          float32\n",
       "resp_3                          float32\n",
       "resp_4                          float32\n",
       "resp                            float32\n",
       "feature_0                          int8\n",
       "feature_1                       float32\n",
       "feature_2                       float32\n",
       "feature_3                       float32\n",
       "feature_4                       float32\n",
       "feature_5                       float32\n",
       "feature_6                       float32\n",
       "feature_7                       float32\n",
       "feature_8                       float32\n",
       "feature_9                       float32\n",
       "feature_10                      float32\n",
       "feature_11                      float32\n",
       "feature_12                      float32\n",
       "feature_13                      float32\n",
       "feature_14                      float32\n",
       "feature_15                      float32\n",
       "feature_16                      float32\n",
       "feature_17                      float32\n",
       "feature_18                      float32\n",
       "feature_19                      float32\n",
       "feature_20                      float32\n",
       "feature_21                      float32\n",
       "feature_22                      float32\n",
       "feature_23                      float32\n",
       "feature_24                      float32\n",
       "feature_25                      float32\n",
       "feature_26                      float32\n",
       "feature_27                      float32\n",
       "feature_28                      float32\n",
       "feature_29                      float32\n",
       "feature_30                      float32\n",
       "feature_31                      float32\n",
       "feature_32                      float32\n",
       "feature_33                      float32\n",
       "feature_34                      float32\n",
       "feature_35                      float32\n",
       "feature_36                      float32\n",
       "feature_37                      float32\n",
       "feature_38                      float32\n",
       "feature_39                      float32\n",
       "feature_40                      float32\n",
       "feature_41                      float32\n",
       "feature_42                      float32\n",
       "feature_43                      float32\n",
       "feature_44                      float32\n",
       "feature_45                      float32\n",
       "feature_46                      float32\n",
       "feature_47                      float32\n",
       "feature_48                      float32\n",
       "feature_49                      float32\n",
       "feature_50                      float32\n",
       "feature_51                      float32\n",
       "feature_52                      float32\n",
       "feature_53                      float32\n",
       "feature_54                      float32\n",
       "feature_55                      float32\n",
       "feature_56                      float32\n",
       "feature_57                      float32\n",
       "feature_58                      float32\n",
       "feature_59                      float32\n",
       "feature_60                      float32\n",
       "feature_61                      float32\n",
       "feature_62                      float32\n",
       "feature_63                      float32\n",
       "feature_64                      float32\n",
       "feature_65                      float32\n",
       "feature_66                      float32\n",
       "feature_67                      float32\n",
       "feature_68                      float32\n",
       "feature_69                      float32\n",
       "feature_70                      float32\n",
       "feature_71                      float32\n",
       "feature_72                      float32\n",
       "feature_73                      float32\n",
       "feature_74                      float32\n",
       "feature_75                      float32\n",
       "feature_76                      float32\n",
       "feature_77                      float32\n",
       "feature_78                      float32\n",
       "feature_79                      float32\n",
       "feature_80                      float32\n",
       "feature_81                      float32\n",
       "feature_82                      float32\n",
       "feature_83                      float32\n",
       "feature_84                      float32\n",
       "feature_85                      float32\n",
       "feature_86                      float32\n",
       "feature_87                      float32\n",
       "feature_88                      float32\n",
       "feature_89                      float32\n",
       "feature_90                      float32\n",
       "feature_91                      float32\n",
       "feature_92                      float32\n",
       "feature_93                      float32\n",
       "feature_94                      float32\n",
       "feature_95                      float32\n",
       "feature_96                      float32\n",
       "feature_97                      float32\n",
       "feature_98                      float32\n",
       "feature_99                      float32\n",
       "feature_100                     float32\n",
       "feature_101                     float32\n",
       "feature_102                     float32\n",
       "feature_103                     float32\n",
       "feature_104                     float32\n",
       "feature_105                     float32\n",
       "feature_106                     float32\n",
       "feature_107                     float32\n",
       "feature_108                     float32\n",
       "feature_109                     float32\n",
       "feature_110                     float32\n",
       "feature_111                     float32\n",
       "feature_112                     float32\n",
       "feature_113                     float32\n",
       "feature_114                     float32\n",
       "feature_115                     float32\n",
       "feature_116                     float32\n",
       "feature_117                     float32\n",
       "feature_118                     float32\n",
       "feature_119                     float32\n",
       "feature_120                     float32\n",
       "feature_121                     float32\n",
       "feature_122                     float32\n",
       "feature_123                     float32\n",
       "feature_124                     float32\n",
       "feature_125                     float32\n",
       "feature_126                     float32\n",
       "feature_127                     float32\n",
       "feature_128                     float32\n",
       "feature_129                     float32\n",
       "ts_id                             int32\n",
       "resp_positive                     int64\n",
       "feature_41_macd_minus_signal    float32\n",
       "feature_42_macd_minus_signal    float32\n",
       "feature_43_macd_minus_signal    float32\n",
       "feature_44_macd_minus_signal    float32\n",
       "feature_45_macd_minus_signal    float32\n",
       "dtype: object"
      ]
     },
     "execution_count": 8,
     "metadata": {},
     "output_type": "execute_result"
    }
   ],
   "source": [
    "df.dtypes"
   ]
  },
  {
   "cell_type": "markdown",
   "metadata": {
    "papermill": {
     "duration": 0.068096,
     "end_time": "2020-12-16T14:29:29.987674",
     "exception": false,
     "start_time": "2020-12-16T14:29:29.919578",
     "status": "completed"
    },
    "tags": []
   },
   "source": [
    "With (CALCULATE_MACD == True) : at this point, free RAM = 3.9 Gb"
   ]
  },
  {
   "cell_type": "code",
   "execution_count": 9,
   "metadata": {
    "execution": {
     "iopub.execute_input": "2020-12-16T14:29:30.130660Z",
     "iopub.status.busy": "2020-12-16T14:29:30.129159Z",
     "iopub.status.idle": "2020-12-16T14:29:30.147641Z",
     "shell.execute_reply": "2020-12-16T14:29:30.148516Z"
    },
    "papermill": {
     "duration": 0.093013,
     "end_time": "2020-12-16T14:29:30.148722",
     "exception": false,
     "start_time": "2020-12-16T14:29:30.055709",
     "status": "completed"
    },
    "tags": []
   },
   "outputs": [
    {
     "data": {
      "text/plain": [
       "976.0646"
      ]
     },
     "execution_count": 9,
     "metadata": {},
     "output_type": "execute_result"
    }
   ],
   "source": [
    "df['resp'].sum()"
   ]
  },
  {
   "cell_type": "markdown",
   "metadata": {
    "papermill": {
     "duration": 0.136877,
     "end_time": "2020-12-16T14:29:30.404821",
     "exception": false,
     "start_time": "2020-12-16T14:29:30.267944",
     "status": "completed"
    },
    "tags": []
   },
   "source": [
    "# Remove first half of the data"
   ]
  },
  {
   "cell_type": "code",
   "execution_count": 10,
   "metadata": {
    "execution": {
     "iopub.execute_input": "2020-12-16T14:29:30.636421Z",
     "iopub.status.busy": "2020-12-16T14:29:30.635454Z",
     "iopub.status.idle": "2020-12-16T14:29:30.639298Z",
     "shell.execute_reply": "2020-12-16T14:29:30.639902Z"
    },
    "papermill": {
     "duration": 0.118885,
     "end_time": "2020-12-16T14:29:30.640082",
     "exception": false,
     "start_time": "2020-12-16T14:29:30.521197",
     "status": "completed"
    },
    "tags": []
   },
   "outputs": [],
   "source": [
    "#df.drop(index=df[df['date'] <= 249].index, inplace=True)"
   ]
  },
  {
   "cell_type": "code",
   "execution_count": 11,
   "metadata": {
    "execution": {
     "iopub.execute_input": "2020-12-16T14:29:30.849212Z",
     "iopub.status.busy": "2020-12-16T14:29:30.848126Z",
     "iopub.status.idle": "2020-12-16T14:29:30.851997Z",
     "shell.execute_reply": "2020-12-16T14:29:30.849977Z"
    },
    "papermill": {
     "duration": 0.126749,
     "end_time": "2020-12-16T14:29:30.852128",
     "exception": false,
     "start_time": "2020-12-16T14:29:30.725379",
     "status": "completed"
    },
    "tags": []
   },
   "outputs": [
    {
     "data": {
      "text/plain": [
       "(2390491, 144)"
      ]
     },
     "execution_count": 11,
     "metadata": {},
     "output_type": "execute_result"
    }
   ],
   "source": [
    "df.shape"
   ]
  },
  {
   "cell_type": "code",
   "execution_count": 12,
   "metadata": {
    "execution": {
     "iopub.execute_input": "2020-12-16T14:29:31.103707Z",
     "iopub.status.busy": "2020-12-16T14:29:31.102808Z",
     "iopub.status.idle": "2020-12-16T14:29:31.105313Z",
     "shell.execute_reply": "2020-12-16T14:29:31.104446Z"
    },
    "papermill": {
     "duration": 0.132643,
     "end_time": "2020-12-16T14:29:31.105442",
     "exception": false,
     "start_time": "2020-12-16T14:29:30.972799",
     "status": "completed"
    },
    "tags": []
   },
   "outputs": [],
   "source": [
    "if (CALCULATE_MACD == True):\n",
    "    FEATURES_MACD = [feat + '_macd_minus_signal' for feat in FEATURES_FOR_MACD]\n",
    "\n",
    "    #for feature in FEATURES_FOR_MACD:\n",
    "    #    df.loc[:, feature + '_macd_minus_signal_sup0']  = ((df.loc[:, feature + '_macd_minus_signal'] > 0) * 1).astype(np.byte)"
   ]
  },
  {
   "cell_type": "code",
   "execution_count": 13,
   "metadata": {
    "execution": {
     "iopub.execute_input": "2020-12-16T14:29:31.354563Z",
     "iopub.status.busy": "2020-12-16T14:29:31.353561Z",
     "iopub.status.idle": "2020-12-16T14:29:31.356066Z",
     "shell.execute_reply": "2020-12-16T14:29:31.355350Z"
    },
    "papermill": {
     "duration": 0.130076,
     "end_time": "2020-12-16T14:29:31.356349",
     "exception": false,
     "start_time": "2020-12-16T14:29:31.226273",
     "status": "completed"
    },
    "tags": []
   },
   "outputs": [],
   "source": [
    "#if (CALCULATE_MACD == True):\n",
    "    #FEATURES_TODROP = ['feature_'+str(i)+'_macd' for i in range(1, 130)] + ['feature_'+str(i)+'_macd_minus_signal' for i in range(1,130)]\n",
    "#    FEATURES_TODROP = ['feature_'+str(i)+'_macd' for i in range(1, 130)]"
   ]
  },
  {
   "cell_type": "code",
   "execution_count": 14,
   "metadata": {
    "execution": {
     "iopub.execute_input": "2020-12-16T14:29:31.507596Z",
     "iopub.status.busy": "2020-12-16T14:29:31.506830Z",
     "iopub.status.idle": "2020-12-16T14:29:31.509743Z",
     "shell.execute_reply": "2020-12-16T14:29:31.509336Z"
    },
    "papermill": {
     "duration": 0.076739,
     "end_time": "2020-12-16T14:29:31.509833",
     "exception": false,
     "start_time": "2020-12-16T14:29:31.433094",
     "status": "completed"
    },
    "tags": []
   },
   "outputs": [],
   "source": [
    "#if (CALCULATE_MACD == True):\n",
    "#    #df.drop(FEATURES_TODROP, axis=1,inplace=True)\n",
    "#    pass"
   ]
  },
  {
   "cell_type": "code",
   "execution_count": 15,
   "metadata": {
    "execution": {
     "iopub.execute_input": "2020-12-16T14:29:31.654341Z",
     "iopub.status.busy": "2020-12-16T14:29:31.652930Z",
     "iopub.status.idle": "2020-12-16T14:29:31.655443Z",
     "shell.execute_reply": "2020-12-16T14:29:31.655893Z"
    },
    "papermill": {
     "duration": 0.076291,
     "end_time": "2020-12-16T14:29:31.656012",
     "exception": false,
     "start_time": "2020-12-16T14:29:31.579721",
     "status": "completed"
    },
    "tags": []
   },
   "outputs": [],
   "source": [
    "#df[df['resp'] > 0].shape"
   ]
  },
  {
   "cell_type": "code",
   "execution_count": 16,
   "metadata": {
    "execution": {
     "iopub.execute_input": "2020-12-16T14:29:31.905774Z",
     "iopub.status.busy": "2020-12-16T14:29:31.904790Z",
     "iopub.status.idle": "2020-12-16T14:29:31.908946Z",
     "shell.execute_reply": "2020-12-16T14:29:31.908512Z"
    },
    "papermill": {
     "duration": 0.183018,
     "end_time": "2020-12-16T14:29:31.909037",
     "exception": false,
     "start_time": "2020-12-16T14:29:31.726019",
     "status": "completed"
    },
    "tags": []
   },
   "outputs": [
    {
     "data": {
      "text/plain": [
       "180"
      ]
     },
     "execution_count": 16,
     "metadata": {},
     "output_type": "execute_result"
    }
   ],
   "source": [
    "gc.collect()"
   ]
  },
  {
   "cell_type": "markdown",
   "metadata": {
    "papermill": {
     "duration": 0.069838,
     "end_time": "2020-12-16T14:29:32.049395",
     "exception": false,
     "start_time": "2020-12-16T14:29:31.979557",
     "status": "completed"
    },
    "tags": []
   },
   "source": [
    "## Drop of 0 weights"
   ]
  },
  {
   "cell_type": "code",
   "execution_count": 17,
   "metadata": {
    "execution": {
     "iopub.execute_input": "2020-12-16T14:29:32.232180Z",
     "iopub.status.busy": "2020-12-16T14:29:32.231363Z",
     "iopub.status.idle": "2020-12-16T14:29:32.235635Z",
     "shell.execute_reply": "2020-12-16T14:29:32.236252Z"
    },
    "papermill": {
     "duration": 0.116575,
     "end_time": "2020-12-16T14:29:32.236430",
     "exception": false,
     "start_time": "2020-12-16T14:29:32.119855",
     "status": "completed"
    },
    "tags": []
   },
   "outputs": [],
   "source": [
    "#df.drop(df[df['weight'] == 0].index, axis=0, inplace=True)\n",
    "#df.reset_index(drop=True, inplace=True)"
   ]
  },
  {
   "cell_type": "code",
   "execution_count": 18,
   "metadata": {
    "execution": {
     "iopub.execute_input": "2020-12-16T14:29:32.510676Z",
     "iopub.status.busy": "2020-12-16T14:29:32.509935Z",
     "iopub.status.idle": "2020-12-16T14:29:32.514131Z",
     "shell.execute_reply": "2020-12-16T14:29:32.514735Z"
    },
    "papermill": {
     "duration": 0.146952,
     "end_time": "2020-12-16T14:29:32.514903",
     "exception": false,
     "start_time": "2020-12-16T14:29:32.367951",
     "status": "completed"
    },
    "tags": []
   },
   "outputs": [
    {
     "data": {
      "text/plain": [
       "(2390491, 144)"
      ]
     },
     "execution_count": 18,
     "metadata": {},
     "output_type": "execute_result"
    }
   ],
   "source": [
    "df.shape"
   ]
  },
  {
   "cell_type": "code",
   "execution_count": 19,
   "metadata": {
    "execution": {
     "iopub.execute_input": "2020-12-16T14:29:32.763454Z",
     "iopub.status.busy": "2020-12-16T14:29:32.762385Z",
     "iopub.status.idle": "2020-12-16T14:29:32.765132Z",
     "shell.execute_reply": "2020-12-16T14:29:32.764333Z"
    },
    "papermill": {
     "duration": 0.131428,
     "end_time": "2020-12-16T14:29:32.765304",
     "exception": false,
     "start_time": "2020-12-16T14:29:32.633876",
     "status": "completed"
    },
    "tags": []
   },
   "outputs": [],
   "source": [
    "#df[(df['resp'] > 0) & (df['resp_1'] > 0) & (df['resp_2'] > 0) & (df['resp_3'] > 0) & (df['resp_4'] > 0)].shape"
   ]
  },
  {
   "cell_type": "code",
   "execution_count": 20,
   "metadata": {
    "execution": {
     "iopub.execute_input": "2020-12-16T14:29:32.929154Z",
     "iopub.status.busy": "2020-12-16T14:29:32.928342Z",
     "iopub.status.idle": "2020-12-16T14:29:32.931413Z",
     "shell.execute_reply": "2020-12-16T14:29:32.930972Z"
    },
    "papermill": {
     "duration": 0.079019,
     "end_time": "2020-12-16T14:29:32.931507",
     "exception": false,
     "start_time": "2020-12-16T14:29:32.852488",
     "status": "completed"
    },
    "tags": []
   },
   "outputs": [],
   "source": [
    "#df.loc[:, 'resp_all_positive'] =  ((df['resp'] > 0) & (df['resp_1'] > 0) & (df['resp_2'] > 0) & (df['resp_3'] > 0) & (df['resp_4'] > 0))*1"
   ]
  },
  {
   "cell_type": "markdown",
   "metadata": {
    "papermill": {
     "duration": 0.07103,
     "end_time": "2020-12-16T14:29:33.073653",
     "exception": false,
     "start_time": "2020-12-16T14:29:33.002623",
     "status": "completed"
    },
    "tags": []
   },
   "source": [
    "# Drop features related to resp_1,2,3,4 (and not to resp)\n",
    "Insight from notebook https://www.kaggle.com/carlmcbrideellis/jane-street-eda-of-day-0-and-feature-importance  \n",
    "Commented because this does not improve performance"
   ]
  },
  {
   "cell_type": "code",
   "execution_count": 21,
   "metadata": {
    "execution": {
     "iopub.execute_input": "2020-12-16T14:29:33.220025Z",
     "iopub.status.busy": "2020-12-16T14:29:33.219096Z",
     "iopub.status.idle": "2020-12-16T14:29:33.221570Z",
     "shell.execute_reply": "2020-12-16T14:29:33.221992Z"
    },
    "papermill": {
     "duration": 0.077343,
     "end_time": "2020-12-16T14:29:33.222099",
     "exception": false,
     "start_time": "2020-12-16T14:29:33.144756",
     "status": "completed"
    },
    "tags": []
   },
   "outputs": [],
   "source": [
    "#FEATURES_INDICE_TODROP = [7, 8, 17, 18, 27, 28, 55, 72, 78, 84, 90, 96, 102, 108, 114, 120, 121,\n",
    "#11, 12, 21, 22, 31, 32, 57, 74, 80, 86, 92, 98, 104, 110, 116, 124, 125,\n",
    "#13, 14, 23, 24, 33, 34, 58, 75, 81, 87, 93, 99, 105, 111, 117, 126,127,\n",
    "#9, 10, 19, 20, 29, 30, 56, 73, 79, 85, 91, 97, 103, 109, 115, 122, 123,]\n",
    "\n",
    "#FEATURES_TODROP = ['feature_'+str(feat) for feat in FEATURES_INDICE_TODROP]"
   ]
  },
  {
   "cell_type": "code",
   "execution_count": 22,
   "metadata": {
    "execution": {
     "iopub.execute_input": "2020-12-16T14:29:33.369236Z",
     "iopub.status.busy": "2020-12-16T14:29:33.368470Z",
     "iopub.status.idle": "2020-12-16T14:29:33.371304Z",
     "shell.execute_reply": "2020-12-16T14:29:33.370875Z"
    },
    "papermill": {
     "duration": 0.077772,
     "end_time": "2020-12-16T14:29:33.371394",
     "exception": false,
     "start_time": "2020-12-16T14:29:33.293622",
     "status": "completed"
    },
    "tags": []
   },
   "outputs": [],
   "source": [
    "#df.drop(columns=FEATURES_TODROP, axis=1, inplace=True)"
   ]
  },
  {
   "cell_type": "markdown",
   "metadata": {
    "papermill": {
     "duration": 0.070768,
     "end_time": "2020-12-16T14:29:33.512927",
     "exception": false,
     "start_time": "2020-12-16T14:29:33.442159",
     "status": "completed"
    },
    "tags": []
   },
   "source": [
    "# Split train test"
   ]
  },
  {
   "cell_type": "code",
   "execution_count": 23,
   "metadata": {
    "execution": {
     "iopub.execute_input": "2020-12-16T14:29:33.669111Z",
     "iopub.status.busy": "2020-12-16T14:29:33.668350Z",
     "iopub.status.idle": "2020-12-16T14:29:33.672091Z",
     "shell.execute_reply": "2020-12-16T14:29:33.671623Z"
    },
    "papermill": {
     "duration": 0.079441,
     "end_time": "2020-12-16T14:29:33.672180",
     "exception": false,
     "start_time": "2020-12-16T14:29:33.592739",
     "status": "completed"
    },
    "tags": []
   },
   "outputs": [
    {
     "data": {
      "text/plain": [
       "(2390491, 144)"
      ]
     },
     "execution_count": 23,
     "metadata": {},
     "output_type": "execute_result"
    }
   ],
   "source": [
    "df.shape"
   ]
  },
  {
   "cell_type": "code",
   "execution_count": 24,
   "metadata": {
    "execution": {
     "iopub.execute_input": "2020-12-16T14:29:33.823624Z",
     "iopub.status.busy": "2020-12-16T14:29:33.822942Z",
     "iopub.status.idle": "2020-12-16T14:29:33.826658Z",
     "shell.execute_reply": "2020-12-16T14:29:33.826250Z"
    },
    "papermill": {
     "duration": 0.080916,
     "end_time": "2020-12-16T14:29:33.826756",
     "exception": false,
     "start_time": "2020-12-16T14:29:33.745840",
     "status": "completed"
    },
    "tags": []
   },
   "outputs": [],
   "source": [
    "if (TIMESERIES_SPLIT == False):\n",
    "    train_size = int(df.shape[0] * 0.90)\n",
    "    print(train_size)\n",
    "    display(df.iloc[0:train_size-1, :])"
   ]
  },
  {
   "cell_type": "code",
   "execution_count": 25,
   "metadata": {
    "execution": {
     "iopub.execute_input": "2020-12-16T14:29:33.982113Z",
     "iopub.status.busy": "2020-12-16T14:29:33.981252Z",
     "iopub.status.idle": "2020-12-16T14:29:36.211117Z",
     "shell.execute_reply": "2020-12-16T14:29:36.210322Z"
    },
    "papermill": {
     "duration": 2.3121,
     "end_time": "2020-12-16T14:29:36.211240",
     "exception": false,
     "start_time": "2020-12-16T14:29:33.899140",
     "status": "completed"
    },
    "tags": []
   },
   "outputs": [
    {
     "name": "stdout",
     "output_type": "stream",
     "text": [
      "(2173174, 144)\n",
      "(217317, 144)\n"
     ]
    }
   ],
   "source": [
    "if (TIMESERIES_SPLIT == False):\n",
    "    df_train = df.iloc[0:train_size-1, :].copy(deep=True)\n",
    "    y_train = df.iloc[0:train_size-1]['resp_positive'].copy(deep=True)\n",
    "    #y_train = df.iloc[0:train_size-1]['resp_all_positive'].copy(deep=True)\n",
    "\n",
    "    df_test = df.iloc[train_size:df.shape[0]-1].copy(deep=True) # This will be used for training steps\n",
    "    df_test_origin = df_test.copy(deep=True) # We keep this for utility function\n",
    "    y_test = df.iloc[train_size:df.shape[0]-1]['resp_positive'].copy(deep=True)\n",
    "    #y_test = df.iloc[train_size:df.shape[0]-1]['resp_all_positive'].copy(deep=True)\n",
    "    \n",
    "else:\n",
    "    tscv = TimeSeriesSplit(n_splits=10)\n",
    "\n",
    "    for (train_index, test_index) in tscv.split(df):\n",
    "        pass\n",
    "\n",
    "    df_train, df_test = df.loc[train_index], df.loc[test_index]\n",
    "    y_train, y_test = df.loc[train_index]['resp_positive'], df.loc[test_index]['resp_positive']\n",
    "    \n",
    "    df_test_origin = df_test.copy(deep=True) # We keep this for utility function\n",
    "    \n",
    "    print(df_train.shape)\n",
    "    print(df_test.shape)\n",
    "    \n",
    "    df_train.reset_index(drop=True, inplace=True)\n",
    "    df_test.reset_index(drop=True, inplace=True)"
   ]
  },
  {
   "cell_type": "code",
   "execution_count": 26,
   "metadata": {
    "execution": {
     "iopub.execute_input": "2020-12-16T14:29:36.483590Z",
     "iopub.status.busy": "2020-12-16T14:29:36.482026Z",
     "iopub.status.idle": "2020-12-16T14:29:36.485961Z",
     "shell.execute_reply": "2020-12-16T14:29:36.485499Z"
    },
    "papermill": {
     "duration": 0.194107,
     "end_time": "2020-12-16T14:29:36.486055",
     "exception": false,
     "start_time": "2020-12-16T14:29:36.291948",
     "status": "completed"
    },
    "tags": []
   },
   "outputs": [
    {
     "data": {
      "text/plain": [
       "20"
      ]
     },
     "execution_count": 26,
     "metadata": {},
     "output_type": "execute_result"
    }
   ],
   "source": [
    "del df\n",
    "gc.collect()"
   ]
  },
  {
   "cell_type": "code",
   "execution_count": 27,
   "metadata": {
    "execution": {
     "iopub.execute_input": "2020-12-16T14:29:36.637244Z",
     "iopub.status.busy": "2020-12-16T14:29:36.635606Z",
     "iopub.status.idle": "2020-12-16T14:29:36.644343Z",
     "shell.execute_reply": "2020-12-16T14:29:36.643817Z"
    },
    "papermill": {
     "duration": 0.085481,
     "end_time": "2020-12-16T14:29:36.644442",
     "exception": false,
     "start_time": "2020-12-16T14:29:36.558961",
     "status": "completed"
    },
    "tags": []
   },
   "outputs": [
    {
     "data": {
      "text/plain": [
       "817.8456"
      ]
     },
     "execution_count": 27,
     "metadata": {},
     "output_type": "execute_result"
    }
   ],
   "source": [
    "df_train['resp'].sum()"
   ]
  },
  {
   "cell_type": "code",
   "execution_count": 28,
   "metadata": {
    "execution": {
     "iopub.execute_input": "2020-12-16T14:29:36.795719Z",
     "iopub.status.busy": "2020-12-16T14:29:36.794886Z",
     "iopub.status.idle": "2020-12-16T14:29:36.799881Z",
     "shell.execute_reply": "2020-12-16T14:29:36.799473Z"
    },
    "papermill": {
     "duration": 0.082803,
     "end_time": "2020-12-16T14:29:36.799982",
     "exception": false,
     "start_time": "2020-12-16T14:29:36.717179",
     "status": "completed"
    },
    "tags": []
   },
   "outputs": [
    {
     "data": {
      "text/plain": [
       "158.21907"
      ]
     },
     "execution_count": 28,
     "metadata": {},
     "output_type": "execute_result"
    }
   ],
   "source": [
    "df_test['resp'].sum()"
   ]
  },
  {
   "cell_type": "code",
   "execution_count": 29,
   "metadata": {
    "execution": {
     "iopub.execute_input": "2020-12-16T14:29:36.952980Z",
     "iopub.status.busy": "2020-12-16T14:29:36.951534Z",
     "iopub.status.idle": "2020-12-16T14:29:36.959531Z",
     "shell.execute_reply": "2020-12-16T14:29:36.959090Z"
    },
    "papermill": {
     "duration": 0.085814,
     "end_time": "2020-12-16T14:29:36.959625",
     "exception": false,
     "start_time": "2020-12-16T14:29:36.873811",
     "status": "completed"
    },
    "tags": []
   },
   "outputs": [
    {
     "data": {
      "text/plain": [
       "852591.6"
      ]
     },
     "execution_count": 29,
     "metadata": {},
     "output_type": "execute_result"
    }
   ],
   "source": [
    "df_train['feature_1'].sum()"
   ]
  },
  {
   "cell_type": "code",
   "execution_count": 30,
   "metadata": {
    "execution": {
     "iopub.execute_input": "2020-12-16T14:29:37.550021Z",
     "iopub.status.busy": "2020-12-16T14:29:37.549138Z",
     "iopub.status.idle": "2020-12-16T14:29:37.565623Z",
     "shell.execute_reply": "2020-12-16T14:29:37.564643Z"
    },
    "papermill": {
     "duration": 0.532507,
     "end_time": "2020-12-16T14:29:37.565774",
     "exception": false,
     "start_time": "2020-12-16T14:29:37.033267",
     "status": "completed"
    },
    "tags": []
   },
   "outputs": [],
   "source": [
    "df_train.drop(['date', 'resp_1', 'resp_2', 'resp_3', 'resp_4', 'resp', 'resp_positive', 'ts_id'], axis=1,inplace=True)\n",
    "#df_train.drop(['date', 'resp_1', 'resp_2', 'resp_3', 'resp_4', 'resp', 'resp_positive', 'resp_all_positive', 'ts_id'], axis=1,inplace=True)"
   ]
  },
  {
   "cell_type": "code",
   "execution_count": 31,
   "metadata": {
    "execution": {
     "iopub.execute_input": "2020-12-16T14:29:37.847682Z",
     "iopub.status.busy": "2020-12-16T14:29:37.843978Z",
     "iopub.status.idle": "2020-12-16T14:29:37.852182Z",
     "shell.execute_reply": "2020-12-16T14:29:37.851475Z"
    },
    "papermill": {
     "duration": 0.164075,
     "end_time": "2020-12-16T14:29:37.852355",
     "exception": false,
     "start_time": "2020-12-16T14:29:37.688280",
     "status": "completed"
    },
    "tags": []
   },
   "outputs": [],
   "source": [
    "df_test.drop(['date', 'resp_1', 'resp_2', 'resp_3', 'resp_4', 'resp', 'resp_positive', 'ts_id'], axis=1,inplace=True)\n",
    "#df_test.drop(['date', 'resp_1', 'resp_2', 'resp_3', 'resp_4', 'resp', 'resp_positive', 'resp_all_positive', 'ts_id'], axis=1,inplace=True)"
   ]
  },
  {
   "cell_type": "code",
   "execution_count": 32,
   "metadata": {
    "execution": {
     "iopub.execute_input": "2020-12-16T14:29:38.110886Z",
     "iopub.status.busy": "2020-12-16T14:29:38.109697Z",
     "iopub.status.idle": "2020-12-16T14:29:38.117518Z",
     "shell.execute_reply": "2020-12-16T14:29:38.118888Z"
    },
    "papermill": {
     "duration": 0.143583,
     "end_time": "2020-12-16T14:29:38.119063",
     "exception": false,
     "start_time": "2020-12-16T14:29:37.975480",
     "status": "completed"
    },
    "tags": []
   },
   "outputs": [
    {
     "data": {
      "text/plain": [
       "['weight',\n",
       " 'feature_0',\n",
       " 'feature_1',\n",
       " 'feature_2',\n",
       " 'feature_3',\n",
       " 'feature_4',\n",
       " 'feature_5',\n",
       " 'feature_6',\n",
       " 'feature_7',\n",
       " 'feature_8',\n",
       " 'feature_9',\n",
       " 'feature_10',\n",
       " 'feature_11',\n",
       " 'feature_12',\n",
       " 'feature_13',\n",
       " 'feature_14',\n",
       " 'feature_15',\n",
       " 'feature_16',\n",
       " 'feature_17',\n",
       " 'feature_18',\n",
       " 'feature_19',\n",
       " 'feature_20',\n",
       " 'feature_21',\n",
       " 'feature_22',\n",
       " 'feature_23',\n",
       " 'feature_24',\n",
       " 'feature_25',\n",
       " 'feature_26',\n",
       " 'feature_27',\n",
       " 'feature_28',\n",
       " 'feature_29',\n",
       " 'feature_30',\n",
       " 'feature_31',\n",
       " 'feature_32',\n",
       " 'feature_33',\n",
       " 'feature_34',\n",
       " 'feature_35',\n",
       " 'feature_36',\n",
       " 'feature_37',\n",
       " 'feature_38',\n",
       " 'feature_39',\n",
       " 'feature_40',\n",
       " 'feature_41',\n",
       " 'feature_42',\n",
       " 'feature_43',\n",
       " 'feature_44',\n",
       " 'feature_45',\n",
       " 'feature_46',\n",
       " 'feature_47',\n",
       " 'feature_48',\n",
       " 'feature_49',\n",
       " 'feature_50',\n",
       " 'feature_51',\n",
       " 'feature_52',\n",
       " 'feature_53',\n",
       " 'feature_54',\n",
       " 'feature_55',\n",
       " 'feature_56',\n",
       " 'feature_57',\n",
       " 'feature_58',\n",
       " 'feature_59',\n",
       " 'feature_60',\n",
       " 'feature_61',\n",
       " 'feature_62',\n",
       " 'feature_63',\n",
       " 'feature_64',\n",
       " 'feature_65',\n",
       " 'feature_66',\n",
       " 'feature_67',\n",
       " 'feature_68',\n",
       " 'feature_69',\n",
       " 'feature_70',\n",
       " 'feature_71',\n",
       " 'feature_72',\n",
       " 'feature_73',\n",
       " 'feature_74',\n",
       " 'feature_75',\n",
       " 'feature_76',\n",
       " 'feature_77',\n",
       " 'feature_78',\n",
       " 'feature_79',\n",
       " 'feature_80',\n",
       " 'feature_81',\n",
       " 'feature_82',\n",
       " 'feature_83',\n",
       " 'feature_84',\n",
       " 'feature_85',\n",
       " 'feature_86',\n",
       " 'feature_87',\n",
       " 'feature_88',\n",
       " 'feature_89',\n",
       " 'feature_90',\n",
       " 'feature_91',\n",
       " 'feature_92',\n",
       " 'feature_93',\n",
       " 'feature_94',\n",
       " 'feature_95',\n",
       " 'feature_96',\n",
       " 'feature_97',\n",
       " 'feature_98',\n",
       " 'feature_99',\n",
       " 'feature_100',\n",
       " 'feature_101',\n",
       " 'feature_102',\n",
       " 'feature_103',\n",
       " 'feature_104',\n",
       " 'feature_105',\n",
       " 'feature_106',\n",
       " 'feature_107',\n",
       " 'feature_108',\n",
       " 'feature_109',\n",
       " 'feature_110',\n",
       " 'feature_111',\n",
       " 'feature_112',\n",
       " 'feature_113',\n",
       " 'feature_114',\n",
       " 'feature_115',\n",
       " 'feature_116',\n",
       " 'feature_117',\n",
       " 'feature_118',\n",
       " 'feature_119',\n",
       " 'feature_120',\n",
       " 'feature_121',\n",
       " 'feature_122',\n",
       " 'feature_123',\n",
       " 'feature_124',\n",
       " 'feature_125',\n",
       " 'feature_126',\n",
       " 'feature_127',\n",
       " 'feature_128',\n",
       " 'feature_129',\n",
       " 'feature_41_macd_minus_signal',\n",
       " 'feature_42_macd_minus_signal',\n",
       " 'feature_43_macd_minus_signal',\n",
       " 'feature_44_macd_minus_signal',\n",
       " 'feature_45_macd_minus_signal']"
      ]
     },
     "execution_count": 32,
     "metadata": {},
     "output_type": "execute_result"
    }
   ],
   "source": [
    "list(df_train.columns)"
   ]
  },
  {
   "cell_type": "code",
   "execution_count": 33,
   "metadata": {
    "execution": {
     "iopub.execute_input": "2020-12-16T14:29:38.289691Z",
     "iopub.status.busy": "2020-12-16T14:29:38.288979Z",
     "iopub.status.idle": "2020-12-16T14:29:38.293943Z",
     "shell.execute_reply": "2020-12-16T14:29:38.293142Z"
    },
    "papermill": {
     "duration": 0.083364,
     "end_time": "2020-12-16T14:29:38.294039",
     "exception": false,
     "start_time": "2020-12-16T14:29:38.210675",
     "status": "completed"
    },
    "tags": []
   },
   "outputs": [
    {
     "data": {
      "text/plain": [
       "(217317, 136)"
      ]
     },
     "execution_count": 33,
     "metadata": {},
     "output_type": "execute_result"
    }
   ],
   "source": [
    "df_test.shape"
   ]
  },
  {
   "cell_type": "code",
   "execution_count": 34,
   "metadata": {
    "execution": {
     "iopub.execute_input": "2020-12-16T14:29:38.506983Z",
     "iopub.status.busy": "2020-12-16T14:29:38.505372Z",
     "iopub.status.idle": "2020-12-16T14:29:38.509028Z",
     "shell.execute_reply": "2020-12-16T14:29:38.506111Z"
    },
    "papermill": {
     "duration": 0.139442,
     "end_time": "2020-12-16T14:29:38.509151",
     "exception": false,
     "start_time": "2020-12-16T14:29:38.369709",
     "status": "completed"
    },
    "tags": []
   },
   "outputs": [
    {
     "data": {
      "text/plain": [
       "2390491"
      ]
     },
     "execution_count": 34,
     "metadata": {},
     "output_type": "execute_result"
    }
   ],
   "source": [
    "df_train.shape[0] + df_test.shape[0]"
   ]
  },
  {
   "cell_type": "code",
   "execution_count": 35,
   "metadata": {
    "execution": {
     "iopub.execute_input": "2020-12-16T14:29:38.774141Z",
     "iopub.status.busy": "2020-12-16T14:29:38.773291Z",
     "iopub.status.idle": "2020-12-16T14:29:38.778282Z",
     "shell.execute_reply": "2020-12-16T14:29:38.778930Z"
    },
    "papermill": {
     "duration": 0.14067,
     "end_time": "2020-12-16T14:29:38.779100",
     "exception": false,
     "start_time": "2020-12-16T14:29:38.638430",
     "status": "completed"
    },
    "tags": []
   },
   "outputs": [
    {
     "data": {
      "text/plain": [
       "\"\\ntscv = TimeSeriesSplit(n_splits=10)\\n\\nfor (train_index, test_index) in tscv.split(df):\\n    pass\\n\\ndf_train, df_test = df.loc[train_index], df.loc[test_index]\\ny_train, y_test = df.loc[train_index]['resp_positive'], df.loc[test_index]['resp_positive']\\n\""
      ]
     },
     "execution_count": 35,
     "metadata": {},
     "output_type": "execute_result"
    }
   ],
   "source": [
    "'''\n",
    "tscv = TimeSeriesSplit(n_splits=10)\n",
    "\n",
    "for (train_index, test_index) in tscv.split(df):\n",
    "    pass\n",
    "\n",
    "df_train, df_test = df.loc[train_index], df.loc[test_index]\n",
    "y_train, y_test = df.loc[train_index]['resp_positive'], df.loc[test_index]['resp_positive']\n",
    "'''"
   ]
  },
  {
   "cell_type": "code",
   "execution_count": 36,
   "metadata": {
    "execution": {
     "iopub.execute_input": "2020-12-16T14:29:39.031649Z",
     "iopub.status.busy": "2020-12-16T14:29:39.030561Z",
     "iopub.status.idle": "2020-12-16T14:29:39.034533Z",
     "shell.execute_reply": "2020-12-16T14:29:39.032457Z"
    },
    "papermill": {
     "duration": 0.134795,
     "end_time": "2020-12-16T14:29:39.034672",
     "exception": false,
     "start_time": "2020-12-16T14:29:38.899877",
     "status": "completed"
    },
    "tags": []
   },
   "outputs": [
    {
     "data": {
      "text/plain": [
       "RangeIndex(start=0, stop=2173174, step=1)"
      ]
     },
     "execution_count": 36,
     "metadata": {},
     "output_type": "execute_result"
    }
   ],
   "source": [
    "df_train.index"
   ]
  },
  {
   "cell_type": "code",
   "execution_count": 37,
   "metadata": {
    "execution": {
     "iopub.execute_input": "2020-12-16T14:29:39.246278Z",
     "iopub.status.busy": "2020-12-16T14:29:39.245425Z",
     "iopub.status.idle": "2020-12-16T14:29:39.248091Z",
     "shell.execute_reply": "2020-12-16T14:29:39.248526Z"
    },
    "papermill": {
     "duration": 0.09126,
     "end_time": "2020-12-16T14:29:39.248635",
     "exception": false,
     "start_time": "2020-12-16T14:29:39.157375",
     "status": "completed"
    },
    "tags": []
   },
   "outputs": [
    {
     "data": {
      "text/plain": [
       "RangeIndex(start=0, stop=217317, step=1)"
      ]
     },
     "execution_count": 37,
     "metadata": {},
     "output_type": "execute_result"
    }
   ],
   "source": [
    "df_test.index"
   ]
  },
  {
   "cell_type": "code",
   "execution_count": 38,
   "metadata": {
    "execution": {
     "iopub.execute_input": "2020-12-16T14:29:39.407994Z",
     "iopub.status.busy": "2020-12-16T14:29:39.407288Z",
     "iopub.status.idle": "2020-12-16T14:29:39.409721Z",
     "shell.execute_reply": "2020-12-16T14:29:39.410178Z"
    },
    "papermill": {
     "duration": 0.085304,
     "end_time": "2020-12-16T14:29:39.410306",
     "exception": false,
     "start_time": "2020-12-16T14:29:39.325002",
     "status": "completed"
    },
    "tags": []
   },
   "outputs": [],
   "source": [
    "#df_test.reset_index(drop=True, inplace=True)"
   ]
  },
  {
   "cell_type": "code",
   "execution_count": 39,
   "metadata": {
    "execution": {
     "iopub.execute_input": "2020-12-16T14:29:39.568735Z",
     "iopub.status.busy": "2020-12-16T14:29:39.567936Z",
     "iopub.status.idle": "2020-12-16T14:29:39.570702Z",
     "shell.execute_reply": "2020-12-16T14:29:39.570295Z"
    },
    "papermill": {
     "duration": 0.08403,
     "end_time": "2020-12-16T14:29:39.570789",
     "exception": false,
     "start_time": "2020-12-16T14:29:39.486759",
     "status": "completed"
    },
    "tags": []
   },
   "outputs": [],
   "source": [
    "#df_train.reset_index(drop=True, inplace=True)"
   ]
  },
  {
   "cell_type": "code",
   "execution_count": 40,
   "metadata": {
    "execution": {
     "iopub.execute_input": "2020-12-16T14:29:39.840241Z",
     "iopub.status.busy": "2020-12-16T14:29:39.838928Z",
     "iopub.status.idle": "2020-12-16T14:29:39.843781Z",
     "shell.execute_reply": "2020-12-16T14:29:39.842660Z"
    },
    "papermill": {
     "duration": 0.195072,
     "end_time": "2020-12-16T14:29:39.843925",
     "exception": false,
     "start_time": "2020-12-16T14:29:39.648853",
     "status": "completed"
    },
    "tags": []
   },
   "outputs": [
    {
     "data": {
      "text/plain": [
       "280"
      ]
     },
     "execution_count": 40,
     "metadata": {},
     "output_type": "execute_result"
    }
   ],
   "source": [
    "gc.collect()"
   ]
  },
  {
   "cell_type": "markdown",
   "metadata": {
    "papermill": {
     "duration": 0.077866,
     "end_time": "2020-12-16T14:29:40.006828",
     "exception": false,
     "start_time": "2020-12-16T14:29:39.928962",
     "status": "completed"
    },
    "tags": []
   },
   "source": [
    "With (CALCULATE_MACD == True) : at this point, free RAM = 3.1 Gb"
   ]
  },
  {
   "cell_type": "markdown",
   "metadata": {
    "papermill": {
     "duration": 0.085105,
     "end_time": "2020-12-16T14:29:40.170666",
     "exception": false,
     "start_time": "2020-12-16T14:29:40.085561",
     "status": "completed"
    },
    "tags": []
   },
   "source": [
    "# Data clean"
   ]
  },
  {
   "cell_type": "markdown",
   "metadata": {
    "papermill": {
     "duration": 0.077112,
     "end_time": "2020-12-16T14:29:40.325001",
     "exception": false,
     "start_time": "2020-12-16T14:29:40.247889",
     "status": "completed"
    },
    "tags": []
   },
   "source": [
    "## Remove outliers"
   ]
  },
  {
   "cell_type": "code",
   "execution_count": 41,
   "metadata": {
    "execution": {
     "iopub.execute_input": "2020-12-16T14:29:40.504918Z",
     "iopub.status.busy": "2020-12-16T14:29:40.504393Z",
     "iopub.status.idle": "2020-12-16T14:29:40.508391Z",
     "shell.execute_reply": "2020-12-16T14:29:40.507942Z"
    },
    "papermill": {
     "duration": 0.098745,
     "end_time": "2020-12-16T14:29:40.508478",
     "exception": false,
     "start_time": "2020-12-16T14:29:40.409733",
     "status": "completed"
    },
    "tags": []
   },
   "outputs": [],
   "source": [
    "#df_train_bck = df_train.copy(deep=True)"
   ]
  },
  {
   "cell_type": "code",
   "execution_count": 42,
   "metadata": {
    "execution": {
     "iopub.execute_input": "2020-12-16T14:29:40.667233Z",
     "iopub.status.busy": "2020-12-16T14:29:40.666471Z",
     "iopub.status.idle": "2020-12-16T14:29:40.669629Z",
     "shell.execute_reply": "2020-12-16T14:29:40.670073Z"
    },
    "papermill": {
     "duration": 0.084643,
     "end_time": "2020-12-16T14:29:40.670179",
     "exception": false,
     "start_time": "2020-12-16T14:29:40.585536",
     "status": "completed"
    },
    "tags": []
   },
   "outputs": [
    {
     "data": {
      "text/plain": [
       "(2173174, 136)"
      ]
     },
     "execution_count": 42,
     "metadata": {},
     "output_type": "execute_result"
    }
   ],
   "source": [
    "df_train.shape"
   ]
  },
  {
   "cell_type": "code",
   "execution_count": 43,
   "metadata": {
    "execution": {
     "iopub.execute_input": "2020-12-16T14:29:40.832112Z",
     "iopub.status.busy": "2020-12-16T14:29:40.831256Z",
     "iopub.status.idle": "2020-12-16T14:29:40.833844Z",
     "shell.execute_reply": "2020-12-16T14:29:40.834334Z"
    },
    "papermill": {
     "duration": 0.084998,
     "end_time": "2020-12-16T14:29:40.834455",
     "exception": false,
     "start_time": "2020-12-16T14:29:40.749457",
     "status": "completed"
    },
    "tags": []
   },
   "outputs": [],
   "source": [
    "#df_train[(df_train['feature_1'] < df_train.feature_1.quantile(0.001)) | (df_train['feature_1'] > df_train.feature_1.quantile(0.999))].shape"
   ]
  },
  {
   "cell_type": "code",
   "execution_count": 44,
   "metadata": {
    "execution": {
     "iopub.execute_input": "2020-12-16T14:29:41.005997Z",
     "iopub.status.busy": "2020-12-16T14:29:41.005079Z",
     "iopub.status.idle": "2020-12-16T14:29:41.006764Z",
     "shell.execute_reply": "2020-12-16T14:29:41.007299Z"
    },
    "papermill": {
     "duration": 0.085298,
     "end_time": "2020-12-16T14:29:41.007414",
     "exception": false,
     "start_time": "2020-12-16T14:29:40.922116",
     "status": "completed"
    },
    "tags": []
   },
   "outputs": [],
   "source": [
    "#low_quantile_to_remove = 0.0001\n",
    "#high_quantile_to_remove = 1 - low_quantile_to_remove"
   ]
  },
  {
   "cell_type": "code",
   "execution_count": 45,
   "metadata": {
    "execution": {
     "iopub.execute_input": "2020-12-16T14:29:41.181800Z",
     "iopub.status.busy": "2020-12-16T14:29:41.181027Z",
     "iopub.status.idle": "2020-12-16T14:29:41.183868Z",
     "shell.execute_reply": "2020-12-16T14:29:41.183452Z"
    },
    "papermill": {
     "duration": 0.084708,
     "end_time": "2020-12-16T14:29:41.183958",
     "exception": false,
     "start_time": "2020-12-16T14:29:41.099250",
     "status": "completed"
    },
    "tags": []
   },
   "outputs": [],
   "source": [
    "#for feat in ['feature_'+str(i) for i in range(1,130)]:\n",
    "#    index_to_drop = df_train[(df_train[feat] < df_train[feat].quantile(low_quantile_to_remove)) | (df_train[feat] > df_train[feat].quantile(high_quantile_to_remove))].index\n",
    "#    df_train.drop(index=index_to_drop, axis=0, inplace=True)\n",
    "#    y_train.drop(index=index_to_drop, axis=0, inplace=True)"
   ]
  },
  {
   "cell_type": "code",
   "execution_count": 46,
   "metadata": {
    "execution": {
     "iopub.execute_input": "2020-12-16T14:29:41.346376Z",
     "iopub.status.busy": "2020-12-16T14:29:41.345445Z",
     "iopub.status.idle": "2020-12-16T14:29:41.348120Z",
     "shell.execute_reply": "2020-12-16T14:29:41.348524Z"
    },
    "papermill": {
     "duration": 0.085698,
     "end_time": "2020-12-16T14:29:41.348641",
     "exception": false,
     "start_time": "2020-12-16T14:29:41.262943",
     "status": "completed"
    },
    "tags": []
   },
   "outputs": [],
   "source": [
    "#df_train.reset_index(drop=True, inplace=True)\n",
    "#y_train.reset_index(drop=True, inplace=True)"
   ]
  },
  {
   "cell_type": "code",
   "execution_count": 47,
   "metadata": {
    "execution": {
     "iopub.execute_input": "2020-12-16T14:29:41.514390Z",
     "iopub.status.busy": "2020-12-16T14:29:41.513585Z",
     "iopub.status.idle": "2020-12-16T14:29:41.517405Z",
     "shell.execute_reply": "2020-12-16T14:29:41.516979Z"
    },
    "papermill": {
     "duration": 0.086006,
     "end_time": "2020-12-16T14:29:41.517496",
     "exception": false,
     "start_time": "2020-12-16T14:29:41.431490",
     "status": "completed"
    },
    "tags": []
   },
   "outputs": [
    {
     "data": {
      "text/plain": [
       "(2173174, 136)"
      ]
     },
     "execution_count": 47,
     "metadata": {},
     "output_type": "execute_result"
    }
   ],
   "source": [
    "df_train.shape"
   ]
  },
  {
   "cell_type": "code",
   "execution_count": 48,
   "metadata": {
    "execution": {
     "iopub.execute_input": "2020-12-16T14:29:41.679262Z",
     "iopub.status.busy": "2020-12-16T14:29:41.678476Z",
     "iopub.status.idle": "2020-12-16T14:29:41.682082Z",
     "shell.execute_reply": "2020-12-16T14:29:41.681641Z"
    },
    "papermill": {
     "duration": 0.086242,
     "end_time": "2020-12-16T14:29:41.682170",
     "exception": false,
     "start_time": "2020-12-16T14:29:41.595928",
     "status": "completed"
    },
    "tags": []
   },
   "outputs": [
    {
     "data": {
      "text/plain": [
       "(2173174,)"
      ]
     },
     "execution_count": 48,
     "metadata": {},
     "output_type": "execute_result"
    }
   ],
   "source": [
    "y_train.shape"
   ]
  },
  {
   "cell_type": "code",
   "execution_count": 49,
   "metadata": {
    "execution": {
     "iopub.execute_input": "2020-12-16T14:29:41.846341Z",
     "iopub.status.busy": "2020-12-16T14:29:41.845509Z",
     "iopub.status.idle": "2020-12-16T14:29:41.848677Z",
     "shell.execute_reply": "2020-12-16T14:29:41.848049Z"
    },
    "papermill": {
     "duration": 0.085924,
     "end_time": "2020-12-16T14:29:41.848776",
     "exception": false,
     "start_time": "2020-12-16T14:29:41.762852",
     "status": "completed"
    },
    "tags": []
   },
   "outputs": [],
   "source": [
    "#df_train = df_train_bck"
   ]
  },
  {
   "cell_type": "code",
   "execution_count": 50,
   "metadata": {
    "execution": {
     "iopub.execute_input": "2020-12-16T14:29:42.012502Z",
     "iopub.status.busy": "2020-12-16T14:29:42.011639Z",
     "iopub.status.idle": "2020-12-16T14:29:42.014265Z",
     "shell.execute_reply": "2020-12-16T14:29:42.013843Z"
    },
    "papermill": {
     "duration": 0.086101,
     "end_time": "2020-12-16T14:29:42.014358",
     "exception": false,
     "start_time": "2020-12-16T14:29:41.928257",
     "status": "completed"
    },
    "tags": []
   },
   "outputs": [],
   "source": [
    "# This was tested and worsen performances, so commented out for now\n",
    "\n",
    "# Thanks to : https://www.kaggle.com/blurredmachine/jane-street-market-eda-viz-prediction\n",
    "\n",
    "#threshold = 4\n",
    "\n",
    "#z = np.abs(stats.zscore(df_train, nan_policy='omit'))\n",
    "#print(f\"Z score array:\\n{z}\")\n",
    "#print('-'*30)\n",
    "\n",
    "#row_index = np.where(z > threshold)\n",
    "#print(f\"Outlier Data Rows: {len(set(row_index[0]))}\")\n",
    "#print('-'*30)\n",
    "\n",
    "#print(f\"Outlier Rows Index:\\n{row_index}\")\n",
    "#print('-'*30)\n",
    "\n",
    "#print(f\"Sample outlier row data:\\n{z[row_index[0][0]]}\")\n",
    "\n",
    "#print(df_train.shape)\n",
    "#print(df_train[(z < 5000).all(axis=1)].reset_index(drop=True).shape)\n",
    "#df_train = df_train[(z < threshold).all(axis=1)].reset_index(drop=True)\n",
    "#y_train = y_train[(z < threshold).all(axis=1)].reset_index(drop=True)\n",
    "#print(df_train.shape)\n",
    "\n",
    "#del z\n",
    "#del row_index\n",
    "#gc.collect()"
   ]
  },
  {
   "cell_type": "markdown",
   "metadata": {
    "papermill": {
     "duration": 0.080008,
     "end_time": "2020-12-16T14:29:42.179332",
     "exception": false,
     "start_time": "2020-12-16T14:29:42.099324",
     "status": "completed"
    },
    "tags": []
   },
   "source": [
    "## Remove missing (commented, because handled automatically by xgboost)"
   ]
  },
  {
   "cell_type": "code",
   "execution_count": 51,
   "metadata": {
    "execution": {
     "iopub.execute_input": "2020-12-16T14:29:42.347087Z",
     "iopub.status.busy": "2020-12-16T14:29:42.346270Z",
     "iopub.status.idle": "2020-12-16T14:29:42.348617Z",
     "shell.execute_reply": "2020-12-16T14:29:42.349042Z"
    },
    "papermill": {
     "duration": 0.085804,
     "end_time": "2020-12-16T14:29:42.349154",
     "exception": false,
     "start_time": "2020-12-16T14:29:42.263350",
     "status": "completed"
    },
    "tags": []
   },
   "outputs": [],
   "source": [
    "#cols_with_missing_train = [col for col in df_train.columns if df_train[col].isnull().any()]"
   ]
  },
  {
   "cell_type": "code",
   "execution_count": 52,
   "metadata": {
    "execution": {
     "iopub.execute_input": "2020-12-16T14:29:42.585776Z",
     "iopub.status.busy": "2020-12-16T14:29:42.584991Z",
     "iopub.status.idle": "2020-12-16T14:29:42.587435Z",
     "shell.execute_reply": "2020-12-16T14:29:42.587949Z"
    },
    "papermill": {
     "duration": 0.128622,
     "end_time": "2020-12-16T14:29:42.588056",
     "exception": false,
     "start_time": "2020-12-16T14:29:42.459434",
     "status": "completed"
    },
    "tags": []
   },
   "outputs": [],
   "source": [
    "# Finally we do not remove null values and let xgboost handle them (provides better performance)\n",
    "#for col in cols_with_missing_train:\n",
    "#    df_train[col].fillna(-999, inplace=True) "
   ]
  },
  {
   "cell_type": "code",
   "execution_count": 53,
   "metadata": {
    "execution": {
     "iopub.execute_input": "2020-12-16T14:29:42.753996Z",
     "iopub.status.busy": "2020-12-16T14:29:42.753290Z",
     "iopub.status.idle": "2020-12-16T14:29:42.756171Z",
     "shell.execute_reply": "2020-12-16T14:29:42.755773Z"
    },
    "papermill": {
     "duration": 0.08727,
     "end_time": "2020-12-16T14:29:42.756299",
     "exception": false,
     "start_time": "2020-12-16T14:29:42.669029",
     "status": "completed"
    },
    "tags": []
   },
   "outputs": [],
   "source": [
    "#df_medians = df_train[cols_with_missing_train].median()\n",
    "#df_train.loc[:, cols_with_missing_train].fillna(df_medians, inplace=True)\n",
    "\n",
    "#Commented for now (handled by xgboost)\n",
    "#df_train.fillna({col:-999 for col in cols_with_missing_train}, inplace=True) "
   ]
  },
  {
   "cell_type": "code",
   "execution_count": 54,
   "metadata": {
    "execution": {
     "iopub.execute_input": "2020-12-16T14:29:42.922338Z",
     "iopub.status.busy": "2020-12-16T14:29:42.921586Z",
     "iopub.status.idle": "2020-12-16T14:29:42.924137Z",
     "shell.execute_reply": "2020-12-16T14:29:42.924579Z"
    },
    "papermill": {
     "duration": 0.087419,
     "end_time": "2020-12-16T14:29:42.924687",
     "exception": false,
     "start_time": "2020-12-16T14:29:42.837268",
     "status": "completed"
    },
    "tags": []
   },
   "outputs": [],
   "source": [
    "# Finally we do not remove null values and let xgboost handle them (provides better performance)\n",
    "#for col in cols_with_missing_train:\n",
    "#    df_test[col].fillna(-999, inplace=True) "
   ]
  },
  {
   "cell_type": "code",
   "execution_count": 55,
   "metadata": {
    "execution": {
     "iopub.execute_input": "2020-12-16T14:29:43.088537Z",
     "iopub.status.busy": "2020-12-16T14:29:43.087807Z",
     "iopub.status.idle": "2020-12-16T14:29:43.090680Z",
     "shell.execute_reply": "2020-12-16T14:29:43.090272Z"
    },
    "papermill": {
     "duration": 0.086373,
     "end_time": "2020-12-16T14:29:43.090769",
     "exception": false,
     "start_time": "2020-12-16T14:29:43.004396",
     "status": "completed"
    },
    "tags": []
   },
   "outputs": [],
   "source": [
    "#df_test.loc[:, cols_with_missing_train].fillna(df_medians, inplace=True)\n",
    "\n",
    "#Commented for now (handled by xgboost)\n",
    "#df_test.fillna({col:-999 for col in cols_with_missing_train}, inplace=True) "
   ]
  },
  {
   "cell_type": "code",
   "execution_count": 56,
   "metadata": {
    "execution": {
     "iopub.execute_input": "2020-12-16T14:29:43.363659Z",
     "iopub.status.busy": "2020-12-16T14:29:43.362843Z",
     "iopub.status.idle": "2020-12-16T14:29:43.366872Z",
     "shell.execute_reply": "2020-12-16T14:29:43.367542Z"
    },
    "papermill": {
     "duration": 0.196567,
     "end_time": "2020-12-16T14:29:43.367709",
     "exception": false,
     "start_time": "2020-12-16T14:29:43.171142",
     "status": "completed"
    },
    "tags": []
   },
   "outputs": [
    {
     "data": {
      "text/plain": [
       "320"
      ]
     },
     "execution_count": 56,
     "metadata": {},
     "output_type": "execute_result"
    }
   ],
   "source": [
    "gc.collect()"
   ]
  },
  {
   "cell_type": "code",
   "execution_count": 57,
   "metadata": {
    "execution": {
     "iopub.execute_input": "2020-12-16T14:29:43.672758Z",
     "iopub.status.busy": "2020-12-16T14:29:43.671869Z",
     "iopub.status.idle": "2020-12-16T14:29:43.711847Z",
     "shell.execute_reply": "2020-12-16T14:29:43.713044Z"
    },
    "papermill": {
     "duration": 0.216914,
     "end_time": "2020-12-16T14:29:43.713250",
     "exception": false,
     "start_time": "2020-12-16T14:29:43.496336",
     "status": "completed"
    },
    "tags": []
   },
   "outputs": [
    {
     "name": "stdout",
     "output_type": "stream",
     "text": [
      "<class 'pandas.core.frame.DataFrame'>\n",
      "RangeIndex: 2173174 entries, 0 to 2173173\n",
      "Columns: 136 entries, weight to feature_45_macd_minus_signal\n",
      "dtypes: float32(135), int8(1)\n",
      "memory usage: 1.1 GB\n"
     ]
    }
   ],
   "source": [
    "df_train.info()"
   ]
  },
  {
   "cell_type": "code",
   "execution_count": 58,
   "metadata": {
    "execution": {
     "iopub.execute_input": "2020-12-16T14:29:44.034672Z",
     "iopub.status.busy": "2020-12-16T14:29:44.033809Z",
     "iopub.status.idle": "2020-12-16T14:29:44.051034Z",
     "shell.execute_reply": "2020-12-16T14:29:44.052247Z"
    },
    "papermill": {
     "duration": 0.166875,
     "end_time": "2020-12-16T14:29:44.052452",
     "exception": false,
     "start_time": "2020-12-16T14:29:43.885577",
     "status": "completed"
    },
    "tags": []
   },
   "outputs": [
    {
     "name": "stdout",
     "output_type": "stream",
     "text": [
      "<class 'pandas.core.frame.DataFrame'>\n",
      "RangeIndex: 217317 entries, 0 to 217316\n",
      "Columns: 136 entries, weight to feature_45_macd_minus_signal\n",
      "dtypes: float32(135), int8(1)\n",
      "memory usage: 112.1 MB\n"
     ]
    }
   ],
   "source": [
    "df_test.info()"
   ]
  },
  {
   "cell_type": "markdown",
   "metadata": {
    "papermill": {
     "duration": 0.084003,
     "end_time": "2020-12-16T14:29:44.254410",
     "exception": false,
     "start_time": "2020-12-16T14:29:44.170407",
     "status": "completed"
    },
    "tags": []
   },
   "source": [
    "## Example with feature 1"
   ]
  },
  {
   "cell_type": "code",
   "execution_count": 59,
   "metadata": {
    "execution": {
     "iopub.execute_input": "2020-12-16T14:29:44.434918Z",
     "iopub.status.busy": "2020-12-16T14:29:44.434031Z",
     "iopub.status.idle": "2020-12-16T14:29:44.439213Z",
     "shell.execute_reply": "2020-12-16T14:29:44.439846Z"
    },
    "papermill": {
     "duration": 0.103753,
     "end_time": "2020-12-16T14:29:44.440019",
     "exception": false,
     "start_time": "2020-12-16T14:29:44.336266",
     "status": "completed"
    },
    "tags": []
   },
   "outputs": [
    {
     "data": {
      "text/plain": [
       "\"\\ndf_train_subsample = df_train.loc[2000:2020, :]\\n\\nexp1 = df_train_subsample['feature_1'].ewm(span=12, adjust=False).mean() # Short term exponential moving average\\nexp2 = df_train_subsample['feature_1'].ewm(span=26, adjust=False).mean() # Long term exponential moving average\\n\\nmacd = exp1 - exp2\\n\\nexp3 = macd.ewm(span=9, adjust=False).mean() # Signal line\\nresp = df_train_subsample['resp'] * df_train_subsample['feature_1'].mean() / np.abs(df_train_subsample['resp'].mean()) # Resp augmented to fit mean of feature 1 for better visualisation\\n\\n\\n\\nplt.figure(figsize=(20,10))\\n\\nplt.plot(df_train_subsample.ts_id, df_train_subsample.feature_1, label='Feature 1')\\nplt.plot(df_train_subsample.ts_id, macd, label='Feature 1 MACD', color='orange')\\nplt.plot(df_train_subsample.ts_id, exp3, label='Signal Line', color='Magenta')\\nplt.plot(df_train_subsample.ts_id, resp, label='Resp', color='red')\\nplt.legend(loc='upper left')\\nplt.show()\\n\""
      ]
     },
     "execution_count": 59,
     "metadata": {},
     "output_type": "execute_result"
    }
   ],
   "source": [
    "'''\n",
    "df_train_subsample = df_train.loc[2000:2020, :]\n",
    "\n",
    "exp1 = df_train_subsample['feature_1'].ewm(span=12, adjust=False).mean() # Short term exponential moving average\n",
    "exp2 = df_train_subsample['feature_1'].ewm(span=26, adjust=False).mean() # Long term exponential moving average\n",
    "\n",
    "macd = exp1 - exp2\n",
    "\n",
    "exp3 = macd.ewm(span=9, adjust=False).mean() # Signal line\n",
    "resp = df_train_subsample['resp'] * df_train_subsample['feature_1'].mean() / np.abs(df_train_subsample['resp'].mean()) # Resp augmented to fit mean of feature 1 for better visualisation\n",
    "\n",
    "\n",
    "\n",
    "plt.figure(figsize=(20,10))\n",
    "\n",
    "plt.plot(df_train_subsample.ts_id, df_train_subsample.feature_1, label='Feature 1')\n",
    "plt.plot(df_train_subsample.ts_id, macd, label='Feature 1 MACD', color='orange')\n",
    "plt.plot(df_train_subsample.ts_id, exp3, label='Signal Line', color='Magenta')\n",
    "plt.plot(df_train_subsample.ts_id, resp, label='Resp', color='red')\n",
    "plt.legend(loc='upper left')\n",
    "plt.show()\n",
    "'''"
   ]
  },
  {
   "cell_type": "markdown",
   "metadata": {
    "papermill": {
     "duration": 0.081761,
     "end_time": "2020-12-16T14:29:44.613038",
     "exception": false,
     "start_time": "2020-12-16T14:29:44.531277",
     "status": "completed"
    },
    "tags": []
   },
   "source": [
    "# Feature definition"
   ]
  },
  {
   "cell_type": "code",
   "execution_count": 60,
   "metadata": {
    "execution": {
     "iopub.execute_input": "2020-12-16T14:29:44.786661Z",
     "iopub.status.busy": "2020-12-16T14:29:44.784767Z",
     "iopub.status.idle": "2020-12-16T14:29:44.787243Z",
     "shell.execute_reply": "2020-12-16T14:29:44.787656Z"
    },
    "papermill": {
     "duration": 0.092731,
     "end_time": "2020-12-16T14:29:44.787764",
     "exception": false,
     "start_time": "2020-12-16T14:29:44.695033",
     "status": "completed"
    },
    "tags": []
   },
   "outputs": [],
   "source": [
    "FEATURES_LIST_TOTRAIN = ['feature_'+str(i) for i in range(130)] + ['weight']\n",
    "#FEATURES_LIST_TOTRAIN = [feat for feat in FEATURES_LIST_TOTRAIN if feat not in FEATURES_TODROP]\n",
    "\n",
    "if (CALCULATE_MACD == True):\n",
    "    #FEATURES_LIST_TOTRAIN.extend(['feature_'+str(i)+'_macd_minus_signal' for i in range(1,130)])  \n",
    "    FEATURES_LIST_TOTRAIN.extend(FEATURES_MACD)  "
   ]
  },
  {
   "cell_type": "code",
   "execution_count": 61,
   "metadata": {
    "execution": {
     "iopub.execute_input": "2020-12-16T14:29:44.957413Z",
     "iopub.status.busy": "2020-12-16T14:29:44.956680Z",
     "iopub.status.idle": "2020-12-16T14:29:44.960237Z",
     "shell.execute_reply": "2020-12-16T14:29:44.959811Z"
    },
    "papermill": {
     "duration": 0.089872,
     "end_time": "2020-12-16T14:29:44.960330",
     "exception": false,
     "start_time": "2020-12-16T14:29:44.870458",
     "status": "completed"
    },
    "tags": []
   },
   "outputs": [
    {
     "data": {
      "text/plain": [
       "136"
      ]
     },
     "execution_count": 61,
     "metadata": {},
     "output_type": "execute_result"
    }
   ],
   "source": [
    "len(FEATURES_LIST_TOTRAIN)"
   ]
  },
  {
   "cell_type": "code",
   "execution_count": 62,
   "metadata": {
    "execution": {
     "iopub.execute_input": "2020-12-16T14:29:45.129765Z",
     "iopub.status.busy": "2020-12-16T14:29:45.128990Z",
     "iopub.status.idle": "2020-12-16T14:29:45.131856Z",
     "shell.execute_reply": "2020-12-16T14:29:45.131451Z"
    },
    "papermill": {
     "duration": 0.089592,
     "end_time": "2020-12-16T14:29:45.131944",
     "exception": false,
     "start_time": "2020-12-16T14:29:45.042352",
     "status": "completed"
    },
    "tags": []
   },
   "outputs": [],
   "source": [
    "#FEATURES_LIST = ['feature_'+str(i) for i in range(130)] + ['feature_'+str(i)+'_macd' for i in range(1, 130)] + ['feature_'+str(i)+'_macd_minus_signal' for i in range(1,130)]+  ['weight']"
   ]
  },
  {
   "cell_type": "code",
   "execution_count": 63,
   "metadata": {
    "execution": {
     "iopub.execute_input": "2020-12-16T14:29:45.300947Z",
     "iopub.status.busy": "2020-12-16T14:29:45.300211Z",
     "iopub.status.idle": "2020-12-16T14:29:45.303050Z",
     "shell.execute_reply": "2020-12-16T14:29:45.302648Z"
    },
    "papermill": {
     "duration": 0.089207,
     "end_time": "2020-12-16T14:29:45.303150",
     "exception": false,
     "start_time": "2020-12-16T14:29:45.213943",
     "status": "completed"
    },
    "tags": []
   },
   "outputs": [],
   "source": [
    "#df[FEATURES_LIST]"
   ]
  },
  {
   "cell_type": "markdown",
   "metadata": {
    "papermill": {
     "duration": 0.084754,
     "end_time": "2020-12-16T14:29:45.470543",
     "exception": false,
     "start_time": "2020-12-16T14:29:45.385789",
     "status": "completed"
    },
    "tags": []
   },
   "source": [
    "# Utility calculation function"
   ]
  },
  {
   "cell_type": "code",
   "execution_count": 64,
   "metadata": {
    "execution": {
     "iopub.execute_input": "2020-12-16T14:29:45.642591Z",
     "iopub.status.busy": "2020-12-16T14:29:45.641904Z",
     "iopub.status.idle": "2020-12-16T14:29:45.645294Z",
     "shell.execute_reply": "2020-12-16T14:29:45.645688Z"
    },
    "papermill": {
     "duration": 0.09284,
     "end_time": "2020-12-16T14:29:45.645808",
     "exception": false,
     "start_time": "2020-12-16T14:29:45.552968",
     "status": "completed"
    },
    "tags": []
   },
   "outputs": [],
   "source": [
    "def utility_function(df_test, df_test_predictions):\n",
    "    df_test.loc[:, 'utility_pj'] = df_test['weight'] * df_test['resp'] * df_test_predictions\n",
    "    df_test_utility_pi = df_test.groupby('date').sum('utility_pj')['utility_pj']\n",
    "    nb_unique_dates = df_test_utility_pi.shape[0]\n",
    "    t = (df_test_utility_pi.sum() / np.sqrt(df_test_utility_pi.pow(2).sum())) * (np.sqrt(250 / np.abs(nb_unique_dates)))\n",
    "    u = min(max(t, 0), 6) * df_test_utility_pi.sum()\n",
    "    \n",
    "    return(u)"
   ]
  },
  {
   "cell_type": "markdown",
   "metadata": {
    "papermill": {
     "duration": 0.084245,
     "end_time": "2020-12-16T14:29:45.812720",
     "exception": false,
     "start_time": "2020-12-16T14:29:45.728475",
     "status": "completed"
    },
    "tags": []
   },
   "source": [
    "# Train model"
   ]
  },
  {
   "cell_type": "code",
   "execution_count": 65,
   "metadata": {
    "execution": {
     "iopub.execute_input": "2020-12-16T14:29:45.984977Z",
     "iopub.status.busy": "2020-12-16T14:29:45.984113Z",
     "iopub.status.idle": "2020-12-16T14:29:45.986920Z",
     "shell.execute_reply": "2020-12-16T14:29:45.986511Z"
    },
    "papermill": {
     "duration": 0.090387,
     "end_time": "2020-12-16T14:29:45.987010",
     "exception": false,
     "start_time": "2020-12-16T14:29:45.896623",
     "status": "completed"
    },
    "tags": []
   },
   "outputs": [],
   "source": [
    "if (XGBOOST_MODEL_INTERFACE == 'xgboost'):\n",
    "    params = {\n",
    "\n",
    "        'random_state' : 42,\n",
    "        'max_depth': 12,\n",
    "        #'max_depth': 50,\n",
    "        #'learning_rate': 0.05,\n",
    "        'learning_rate': 0.01,\n",
    "        'subsample': 0.9,\n",
    "        'colsample_bytree': 0.2,\n",
    "        'tree_method': 'gpu_hist',\n",
    "        'seed': 42,\n",
    "        'objective' : \"binary:logistic\",\n",
    "        #\"disable_default_eval_metric\": 1,\n",
    "    }"
   ]
  },
  {
   "cell_type": "code",
   "execution_count": 66,
   "metadata": {
    "execution": {
     "iopub.execute_input": "2020-12-16T14:29:46.157238Z",
     "iopub.status.busy": "2020-12-16T14:29:46.156481Z",
     "iopub.status.idle": "2020-12-16T14:29:46.158881Z",
     "shell.execute_reply": "2020-12-16T14:29:46.159404Z"
    },
    "papermill": {
     "duration": 0.090236,
     "end_time": "2020-12-16T14:29:46.159521",
     "exception": false,
     "start_time": "2020-12-16T14:29:46.069285",
     "status": "completed"
    },
    "tags": []
   },
   "outputs": [],
   "source": [
    "if (XGBOOST_MODEL_INTERFACE == 'xgboost'):\n",
    "    d_train = xgb.DMatrix(df_train, label=y_train) #missing = ?"
   ]
  },
  {
   "cell_type": "code",
   "execution_count": 67,
   "metadata": {
    "execution": {
     "iopub.execute_input": "2020-12-16T14:29:46.329860Z",
     "iopub.status.busy": "2020-12-16T14:29:46.329029Z",
     "iopub.status.idle": "2020-12-16T14:29:46.331829Z",
     "shell.execute_reply": "2020-12-16T14:29:46.331412Z"
    },
    "papermill": {
     "duration": 0.09009,
     "end_time": "2020-12-16T14:29:46.331919",
     "exception": false,
     "start_time": "2020-12-16T14:29:46.241829",
     "status": "completed"
    },
    "tags": []
   },
   "outputs": [],
   "source": [
    "if (XGBOOST_MODEL_INTERFACE == 'xgboost'):\n",
    "    del df_train\n",
    "    gc.collect()"
   ]
  },
  {
   "cell_type": "code",
   "execution_count": 68,
   "metadata": {
    "execution": {
     "iopub.execute_input": "2020-12-16T14:29:46.529674Z",
     "iopub.status.busy": "2020-12-16T14:29:46.528915Z",
     "iopub.status.idle": "2020-12-16T14:29:46.531783Z",
     "shell.execute_reply": "2020-12-16T14:29:46.531355Z"
    },
    "papermill": {
     "duration": 0.11638,
     "end_time": "2020-12-16T14:29:46.531874",
     "exception": false,
     "start_time": "2020-12-16T14:29:46.415494",
     "status": "completed"
    },
    "tags": []
   },
   "outputs": [],
   "source": [
    "if (XGBOOST_MODEL_INTERFACE == 'xgboost'):\n",
    "    d_test = xgb.DMatrix(df_test, label=y_test)"
   ]
  },
  {
   "cell_type": "code",
   "execution_count": 69,
   "metadata": {
    "execution": {
     "iopub.execute_input": "2020-12-16T14:29:46.704996Z",
     "iopub.status.busy": "2020-12-16T14:29:46.704076Z",
     "iopub.status.idle": "2020-12-16T14:29:46.706575Z",
     "shell.execute_reply": "2020-12-16T14:29:46.707054Z"
    },
    "papermill": {
     "duration": 0.091603,
     "end_time": "2020-12-16T14:29:46.707168",
     "exception": false,
     "start_time": "2020-12-16T14:29:46.615565",
     "status": "completed"
    },
    "tags": []
   },
   "outputs": [],
   "source": [
    "if (XGBOOST_MODEL_INTERFACE == 'xgboost'):\n",
    "    del df_test\n",
    "    gc.collect()"
   ]
  },
  {
   "cell_type": "code",
   "execution_count": 70,
   "metadata": {
    "execution": {
     "iopub.execute_input": "2020-12-16T14:29:46.882423Z",
     "iopub.status.busy": "2020-12-16T14:29:46.881662Z",
     "iopub.status.idle": "2020-12-16T14:29:46.884495Z",
     "shell.execute_reply": "2020-12-16T14:29:46.884041Z"
    },
    "papermill": {
     "duration": 0.092222,
     "end_time": "2020-12-16T14:29:46.884582",
     "exception": false,
     "start_time": "2020-12-16T14:29:46.792360",
     "status": "completed"
    },
    "tags": []
   },
   "outputs": [],
   "source": [
    "from sklearn.metrics import brier_score_loss\n",
    "#brier_score_loss(y_true, y_prob)\n",
    "\n",
    "#def brier_score_custom(predt: np.ndarray, dtrain: xgb.DMatrix):\n",
    "def brier_score_custom(y_pred_scores, y_true):\n",
    "    probas = 1/(1+np.exp(-y_pred_scores)) # y_pred_scores \n",
    "    #print(probas)\n",
    "    #print(y_true.get_label())\n",
    "    #print(probas - y_true.get_label())\n",
    "    #print('*************')\n",
    "    \n",
    "    #print(y_pred_scores)\n",
    "    #print(y_true.get_label())\n",
    "    brier_score = brier_score_loss(y_true.get_label(), probas)\n",
    "    #print(brier_score)\n",
    "    \n",
    "    return('brier_loss', brier_score)"
   ]
  },
  {
   "cell_type": "code",
   "execution_count": 71,
   "metadata": {
    "execution": {
     "iopub.execute_input": "2020-12-16T14:29:47.058245Z",
     "iopub.status.busy": "2020-12-16T14:29:47.057439Z",
     "iopub.status.idle": "2020-12-16T14:29:47.061085Z",
     "shell.execute_reply": "2020-12-16T14:29:47.060671Z"
    },
    "papermill": {
     "duration": 0.09307,
     "end_time": "2020-12-16T14:29:47.061176",
     "exception": false,
     "start_time": "2020-12-16T14:29:46.968106",
     "status": "completed"
    },
    "tags": []
   },
   "outputs": [
    {
     "data": {
      "text/plain": [
       "\"\\nif (XGBOOST_MODEL_INTERFACE == 'sklearn'):\\n    model = XGBClassifier(\\n    random_state= 42,\\n    max_depth= 12,\\n    n_estimators= 500,\\n    learning_rate= 0.05,\\n    subsample= 0.9,\\n    colsample_bytree= 0.7,\\n    tree_method= 'gpu_hist',\\n    #objective= 'binary:logistic',\\n    verbosity=3\\n    )\\n\""
      ]
     },
     "execution_count": 71,
     "metadata": {},
     "output_type": "execute_result"
    }
   ],
   "source": [
    "if (XGBOOST_MODEL_INTERFACE == 'sklearn'):\n",
    "    model = XGBClassifier(\n",
    "    random_state= 42,\n",
    "    max_depth= 12,\n",
    "    n_estimators= 500,\n",
    "    learning_rate= 0.01,\n",
    "    subsample= 0.9,\n",
    "    colsample_bytree= 0.2,\n",
    "    tree_method= 'gpu_hist',\n",
    "    objective= 'binary:logistic',\n",
    "    disable_default_eval_metric=True,\n",
    "    )\n",
    "\n",
    "'''\n",
    "if (XGBOOST_MODEL_INTERFACE == 'sklearn'):\n",
    "    model = XGBClassifier(\n",
    "    random_state= 42,\n",
    "    max_depth= 12,\n",
    "    n_estimators= 500,\n",
    "    learning_rate= 0.05,\n",
    "    subsample= 0.9,\n",
    "    colsample_bytree= 0.7,\n",
    "    tree_method= 'gpu_hist',\n",
    "    #objective= 'binary:logistic',\n",
    "    verbosity=3\n",
    "    )\n",
    "'''"
   ]
  },
  {
   "cell_type": "code",
   "execution_count": 72,
   "metadata": {
    "execution": {
     "iopub.execute_input": "2020-12-16T14:29:47.233466Z",
     "iopub.status.busy": "2020-12-16T14:29:47.232818Z",
     "iopub.status.idle": "2020-12-16T14:29:47.239088Z",
     "shell.execute_reply": "2020-12-16T14:29:47.239612Z"
    },
    "papermill": {
     "duration": 0.094596,
     "end_time": "2020-12-16T14:29:47.239718",
     "exception": false,
     "start_time": "2020-12-16T14:29:47.145122",
     "status": "completed"
    },
    "tags": []
   },
   "outputs": [
    {
     "data": {
      "text/plain": [
       "XGBClassifier(base_score=None, booster=None, colsample_bylevel=None,\n",
       "              colsample_bynode=None, colsample_bytree=0.2,\n",
       "              disable_default_eval_metric=True, gamma=None, gpu_id=None,\n",
       "              importance_type='gain', interaction_constraints=None,\n",
       "              learning_rate=0.01, max_delta_step=None, max_depth=12,\n",
       "              min_child_weight=None, missing=nan, monotone_constraints=None,\n",
       "              n_estimators=500, n_jobs=None, num_parallel_tree=None,\n",
       "              random_state=42, reg_alpha=None, reg_lambda=None,\n",
       "              scale_pos_weight=None, subsample=0.9, tree_method='gpu_hist',\n",
       "              validate_parameters=None, verbosity=None)"
      ]
     },
     "metadata": {},
     "output_type": "display_data"
    }
   ],
   "source": [
    "if (XGBOOST_MODEL_INTERFACE == 'sklearn'):\n",
    "    display(model)"
   ]
  },
  {
   "cell_type": "code",
   "execution_count": 73,
   "metadata": {
    "execution": {
     "iopub.execute_input": "2020-12-16T14:29:47.660655Z",
     "iopub.status.busy": "2020-12-16T14:29:47.659134Z",
     "iopub.status.idle": "2020-12-16T14:31:46.799575Z",
     "shell.execute_reply": "2020-12-16T14:31:46.800160Z"
    },
    "papermill": {
     "duration": 119.476386,
     "end_time": "2020-12-16T14:31:46.800370",
     "exception": false,
     "start_time": "2020-12-16T14:29:47.323984",
     "status": "completed"
    },
    "tags": []
   },
   "outputs": [
    {
     "name": "stdout",
     "output_type": "stream",
     "text": [
      "CPU times: user 1min 54s, sys: 3.92 s, total: 1min 58s\n",
      "Wall time: 1min 59s\n"
     ]
    }
   ],
   "source": [
    "%%time\n",
    "if (XGBOOST_MODEL_INTERFACE == 'sklearn'):\n",
    "    #FEATURES_LIST_TOTRAIN = ['feature_'+str(i) for i in range(130)] + ['weight']\n",
    "        \n",
    "    if (DO_GRIDSEARCH == True):\n",
    "        param_search = { 'random_state': [42],\n",
    "                 'max_depth': [12],\n",
    "                 'n_estimators': [500],\n",
    "                'learning_rate': [0.01],\n",
    "                'subsample': [0.9],\n",
    "                'colsample_bytree': [0.2],\n",
    "                 'tree_method': ['gpu_hist'],\n",
    "               }\n",
    "        \n",
    "        model = XGBClassifier()\n",
    "        \n",
    "        tscv_subsplits = TimeSeriesSplit(n_splits=3)\n",
    "\n",
    "        grid_search = GridSearchCV(estimator=model, cv=tscv_subsplits,\n",
    "                        param_grid=param_search, verbose=10)\n",
    "\n",
    "        grid_search.fit(df_train[FEATURES_LIST_TOTRAIN], y_train)\n",
    "        \n",
    "        model = grid_search.best_estimator_\n",
    "        \n",
    "    \n",
    "    else:\n",
    "        model.fit(df_train[FEATURES_LIST_TOTRAIN], y_train, verbose=True)\n",
    "        \n",
    "        #model.fit(df_train, y_train, verbose=True)\n",
    "        \n",
    "        \n",
    "        #model.fit(df_train, y_train, verbose=True, eval_metric=brier_score_custom)\n",
    "        #model.fit(df_train, y_train, early_stopping_rounds=10, verbose=True, eval_metric=brier_score_custom)"
   ]
  },
  {
   "cell_type": "markdown",
   "metadata": {
    "papermill": {
     "duration": 0.084396,
     "end_time": "2020-12-16T14:31:46.970406",
     "exception": false,
     "start_time": "2020-12-16T14:31:46.886010",
     "status": "completed"
    },
    "tags": []
   },
   "source": [
    "learning rate 0.1, max depth 12, subsample 0.9, colsample by tree 0.2, learning rate 0.01 SANS FEATURES MACD, AVEC tout le training set, et pas d'eval set, interface scikit learn :    \n",
    "=> utility score 2137 avec threshold 0.504"
   ]
  },
  {
   "cell_type": "code",
   "execution_count": 74,
   "metadata": {
    "execution": {
     "iopub.execute_input": "2020-12-16T14:31:47.144714Z",
     "iopub.status.busy": "2020-12-16T14:31:47.143874Z",
     "iopub.status.idle": "2020-12-16T14:31:47.151323Z",
     "shell.execute_reply": "2020-12-16T14:31:47.150820Z"
    },
    "papermill": {
     "duration": 0.09599,
     "end_time": "2020-12-16T14:31:47.151417",
     "exception": false,
     "start_time": "2020-12-16T14:31:47.055427",
     "status": "completed"
    },
    "tags": []
   },
   "outputs": [
    {
     "data": {
      "text/plain": [
       "XGBClassifier(base_score=0.5, booster='gbtree', colsample_bylevel=1,\n",
       "              colsample_bynode=1, colsample_bytree=0.2,\n",
       "              disable_default_eval_metric=True, gamma=0, gpu_id=0,\n",
       "              importance_type='gain', interaction_constraints='',\n",
       "              learning_rate=0.01, max_delta_step=0, max_depth=12,\n",
       "              min_child_weight=1, missing=nan,\n",
       "              monotone_constraints='(0,0,0,0,0,0,0,0,0,0,0,0,0,0,0,0,0,0,0,0,0...0,0,0,0,0,0,0,0,0,0,0,0,0,0,0,0,0,0,0,0,0,0,0,0,0,0,0,0,0,0,0,0,0,0,0,0,0,0,0,0,0,0,0,0,0,0,0,0,0,0,0,0,0,0,0,0,0,0,0,0,0,0,0,0,0,0,0,0,0,0,0,0,0,0,0,0,0,0,0,0,0,0,0,0)',\n",
       "              n_estimators=500, n_jobs=0, num_parallel_tree=1, random_state=42,\n",
       "              reg_alpha=0, reg_lambda=1, scale_pos_weight=1, subsample=0.9,\n",
       "              tree_method='gpu_hist', validate_parameters=1, verbosity=None)"
      ]
     },
     "execution_count": 74,
     "metadata": {},
     "output_type": "execute_result"
    }
   ],
   "source": [
    "model"
   ]
  },
  {
   "cell_type": "code",
   "execution_count": 75,
   "metadata": {
    "execution": {
     "iopub.execute_input": "2020-12-16T14:31:47.325772Z",
     "iopub.status.busy": "2020-12-16T14:31:47.325112Z",
     "iopub.status.idle": "2020-12-16T14:32:02.453207Z",
     "shell.execute_reply": "2020-12-16T14:32:02.452247Z"
    },
    "papermill": {
     "duration": 15.217216,
     "end_time": "2020-12-16T14:32:02.453327",
     "exception": false,
     "start_time": "2020-12-16T14:31:47.236111",
     "status": "completed"
    },
    "tags": []
   },
   "outputs": [
    {
     "data": {
      "text/plain": [
       "array([0.02108393, 0.00529111, 0.00524878, 0.0105522 , 0.00975915,\n",
       "       0.01199412, 0.01172362, 0.0069661 , 0.00723553, 0.0053649 ,\n",
       "       0.00584201, 0.00567012, 0.0056349 , 0.00499247, 0.00499258,\n",
       "       0.00489232, 0.00521327, 0.00661157, 0.00679116, 0.00573015,\n",
       "       0.0070207 , 0.00612877, 0.00597715, 0.00593979, 0.00599497,\n",
       "       0.00567504, 0.00586502, 0.01057341, 0.00863525, 0.00610141,\n",
       "       0.00593845, 0.00735307, 0.00613351, 0.00641347, 0.00565889,\n",
       "       0.00581225, 0.00588356, 0.00939444, 0.00956941, 0.01140989,\n",
       "       0.01005944, 0.01490975, 0.01432339, 0.01723089, 0.01408075,\n",
       "       0.01432997, 0.00592081, 0.00615106, 0.00611293, 0.00589116,\n",
       "       0.00621948, 0.00561847, 0.00515079, 0.00682618, 0.00583744,\n",
       "       0.00913627, 0.00621453, 0.00768237, 0.00710585, 0.00629536,\n",
       "       0.01216531, 0.01176249, 0.01272817, 0.01220947, 0.0085891 ,\n",
       "       0.00707636, 0.00779124, 0.00757024, 0.00811189, 0.00768106,\n",
       "       0.00712218, 0.00805327, 0.00649542, 0.00523262, 0.0053176 ,\n",
       "       0.00502281, 0.00492328, 0.0094444 , 0.006964  , 0.00506698,\n",
       "       0.00567133, 0.00502571, 0.00500351, 0.01071913, 0.00754645,\n",
       "       0.00541991, 0.0063623 , 0.00546515, 0.00495115, 0.00906391,\n",
       "       0.00817093, 0.00495803, 0.00718867, 0.00588331, 0.00491207,\n",
       "       0.00867365, 0.00742794, 0.0049734 , 0.00656243, 0.00537844,\n",
       "       0.00503527, 0.00821703, 0.00795701, 0.0047896 , 0.0066384 ,\n",
       "       0.00561365, 0.00486631, 0.0095922 , 0.0076152 , 0.00516184,\n",
       "       0.00676332, 0.005689  , 0.0051594 , 0.00903784, 0.00808072,\n",
       "       0.00489959, 0.0075448 , 0.00572949, 0.00499334, 0.00930527,\n",
       "       0.00961725, 0.00883663, 0.00625236, 0.00615876, 0.00953188,\n",
       "       0.00860319, 0.00791563, 0.00753274, 0.00735742, 0.00688947,\n",
       "       0.00545342, 0.00511726, 0.00457969, 0.00527961, 0.00514179,\n",
       "       0.00619297], dtype=float32)"
      ]
     },
     "metadata": {},
     "output_type": "display_data"
    }
   ],
   "source": [
    "if (XGBOOST_MODEL_INTERFACE == 'sklearn'):\n",
    "    display(model.feature_importances_)"
   ]
  },
  {
   "cell_type": "code",
   "execution_count": 76,
   "metadata": {
    "execution": {
     "iopub.execute_input": "2020-12-16T14:32:02.634820Z",
     "iopub.status.busy": "2020-12-16T14:32:02.632971Z",
     "iopub.status.idle": "2020-12-16T14:32:02.635438Z",
     "shell.execute_reply": "2020-12-16T14:32:02.635866Z"
    },
    "papermill": {
     "duration": 0.095111,
     "end_time": "2020-12-16T14:32:02.635975",
     "exception": false,
     "start_time": "2020-12-16T14:32:02.540864",
     "status": "completed"
    },
    "tags": []
   },
   "outputs": [],
   "source": [
    "    params = {\n",
    "\n",
    "        'random_state' : 42,\n",
    "        'max_depth': 12,\n",
    "        #'max_depth': 50,\n",
    "        #'learning_rate': 0.05,\n",
    "        'learning_rate': 0.01,\n",
    "        'subsample': 0.9,\n",
    "        'colsample_bytree': 0.2,\n",
    "        #'tree_method': 'gpu_hist',\n",
    "        'seed': 42,\n",
    "        'objective' : \"binary:logistic\",\n",
    "        #\"disable_default_eval_metric\": 1,\n",
    "    }"
   ]
  },
  {
   "cell_type": "code",
   "execution_count": 77,
   "metadata": {
    "execution": {
     "iopub.execute_input": "2020-12-16T14:32:02.816380Z",
     "iopub.status.busy": "2020-12-16T14:32:02.815684Z",
     "iopub.status.idle": "2020-12-16T14:32:02.820404Z",
     "shell.execute_reply": "2020-12-16T14:32:02.821042Z"
    },
    "papermill": {
     "duration": 0.098289,
     "end_time": "2020-12-16T14:32:02.821215",
     "exception": false,
     "start_time": "2020-12-16T14:32:02.722926",
     "status": "completed"
    },
    "tags": []
   },
   "outputs": [
    {
     "name": "stdout",
     "output_type": "stream",
     "text": [
      "CPU times: user 4 µs, sys: 0 ns, total: 4 µs\n",
      "Wall time: 6.91 µs\n"
     ]
    }
   ],
   "source": [
    "%%time\n",
    "if (XGBOOST_MODEL_INTERFACE == 'xgboost'):\n",
    "    #watchlist = [(d_train, 'train'), (d_test, 'valid')]\n",
    "    # A essayer : pas de watchlist (on va d'abord essayer avec le wrapper scikit learn)\n",
    "    #model = xgb.train(dtrain=d_train, early_stopping_rounds=10, verbose_eval=1000, params=params, num_boost_round=500, feval=brier_score_custom, maximize=False)\n",
    "    #model = xgb.train(dtrain=d_train, verbose_eval=1000, params=params, num_boost_round=500, feval=brier_score_custom, maximize=False)\n",
    "    model = xgb.train(dtrain=d_train, verbose_eval=1000, params=params, num_boost_round=500)\n",
    "\n",
    "    #model = xgb.train(dtrain=d_train, evals=watchlist, early_stopping_rounds=10, verbose_eval=1000, params=params, num_boost_round=500, feval=brier_score_custom, maximize=False)\n",
    "\n",
    "\n",
    "    #model = xgb.train(dtrain=d_train, evals=watchlist, early_stopping_rounds=10, verbose_eval=1000, params=params, num_boost_round=500)"
   ]
  },
  {
   "cell_type": "markdown",
   "metadata": {
    "papermill": {
     "duration": 0.088111,
     "end_time": "2020-12-16T14:32:02.997915",
     "exception": false,
     "start_time": "2020-12-16T14:32:02.909804",
     "status": "completed"
    },
    "tags": []
   },
   "source": [
    "Stopping. Best iteration:  \n",
    "[37]\ttrain-rmse:0.48218\tvalid-rmse:0.49920  \n",
    "\n",
    "With just basic features and weight :  \n",
    "[13]\ttrain-error:0.40596\tvalid-error:0.47772 \n",
    "\n",
    "With just basic features and weight, but prediction on all resp positive :\n",
    "[5]\ttrain-error:0.25558\tvalid-error:0.26560\n",
    "\n",
    "With max depth 50 :  \n",
    "[0]\ttrain-brier_loss:0.23657\tvalid-brier_loss:0.25021  \n",
    "\n",
    "learning rate 0.1, max depth 20 :  \n",
    "[19]\ttrain-brier_loss:0.23434\tvalid-brier_loss:0.24996\n",
    "\n",
    "learning rate 0.1, max depth 12 :  \n",
    "[19]\ttrain-brier_loss:0.23434\tvalid-brier_loss:0.24930  \n",
    "\n",
    "\n",
    "learning rate 0.1, max depth 12, num_boost_round=1000 (au lieu de 500) :  \n",
    "[19]\ttrain-brier_loss:0.23434\tvalid-brier_loss:0.24930  => sûrement le early stopping\n",
    "\n",
    "\n",
    "learning rate 0.1, max depth 12, subsample 0.7 :  \n",
    "[15]\ttrain-brier_loss:0.23684\tvalid-brier_loss:0.24923\n",
    "\n",
    "learning rate 0.1, max depth 12, subsample 0.7, learning rate 0.05 :  \n",
    "[40]\ttrain-brier_loss:0.23427\tvalid-brier_loss:0.24905\n",
    "\n",
    "learning rate 0.1, max depth 12, subsample 0.5, learning rate 0.05 :    \n",
    "[44]\ttrain-brier_loss:0.23404\tvalid-brier_loss:0.24900\n",
    "\n",
    "learning rate 0.1, max depth 12, subsample 0.5, learning rate 0.02 :   \n",
    "[96]\ttrain-brier_loss:0.23530\tvalid-brier_loss:0.24882 => utility score 2035.28\n",
    "\n",
    "learning rate 0.1, max depth 12, subsample 0.5, colsample by tree 0.2, learning rate 0.02 :   \n",
    "[156]\ttrain-brier_loss:0.23395\tvalid-brier_loss:0.24877  => utility score 2162.89\n",
    "\n",
    "learning rate 0.1, max depth 12, subsample 0.9, colsample by tree 0.2, learning rate 0.02 :   \n",
    "[143]\ttrain-brier_loss:0.23329\tvalid-brier_loss:0.24862 => utility score 2187.13\n",
    "\n",
    "learning rate 0.1, max depth 12, subsample 0.9, colsample by tree 0.2, learning rate 0.01 :   \n",
    "[327]\ttrain-brier_loss:0.23182\tvalid-brier_loss:0.24859 => utility score 2191 => 2214.06 avec threshold 0.503   => BEST\n",
    "     \n",
    "learning rate 0.1, max depth 12, subsample 0.9, colsample by tree 0.2, learning rate 0.01 ET FEATURES MACD, AVEC la moitié du training set :  \n",
    "[265]\ttrain-brier_loss:0.22946\tvalid-brier_loss:0.24851  => utility score 1480.29 avec threshold 0.503\n",
    "\n",
    "learning rate 0.1, max depth 12, subsample 0.9, colsample by tree 0.2, learning rate 0.01 SANS FEATURES MACD, AVEC la moitié du training set :  \n",
    "[286]\ttrain-brier_loss:0.22920\tvalid-brier_loss:0.24832  => utility score 1423 avec threshold 0.503 "
   ]
  },
  {
   "cell_type": "code",
   "execution_count": 78,
   "metadata": {
    "execution": {
     "iopub.execute_input": "2020-12-16T14:32:03.179020Z",
     "iopub.status.busy": "2020-12-16T14:32:03.178225Z",
     "iopub.status.idle": "2020-12-16T14:32:03.181942Z",
     "shell.execute_reply": "2020-12-16T14:32:03.181479Z"
    },
    "papermill": {
     "duration": 0.096259,
     "end_time": "2020-12-16T14:32:03.182027",
     "exception": false,
     "start_time": "2020-12-16T14:32:03.085768",
     "status": "completed"
    },
    "tags": []
   },
   "outputs": [
    {
     "data": {
      "text/plain": [
       "\"\\n# This part uses scikit learn wrapper\\n%%time\\n#tscv_subsplits = TimeSeriesSplit(n_splits=2)\\n\\n#grid_search = GridSearchCV(estimator=model, cv=tscv_subsplits,\\n#                        param_grid=param_search, verbose=10)\\n\\n#grid_search.fit(df_train[FEATURES_LIST], y_train)\\n\\nmodel = xgb.XGBClassifier(random_state=42, max_depth=12, n_estimators=500, learning_rate=0.05, subsample=0.9, colsample_bytree=0.7, missing=-999, verbose=10, tree_method = 'gpu_hist')\\n#model = xgb.XGBClassifier(random_state=42, max_depth=12, n_estimators=500, learning_rate=0.05, subsample=0.9, colsample_bytree=0.7, missing=-999, verbose=10)\\n\\n#model.fit(df_train[FEATURES_LIST], y_train)\\nmodel.fit(df_train, y_train, early_stopping_rounds=10,  eval_set=[(df_test, y_test)])\\n\\n#model = grid_search\\n\""
      ]
     },
     "execution_count": 78,
     "metadata": {},
     "output_type": "execute_result"
    }
   ],
   "source": [
    "'''\n",
    "# This part uses scikit learn wrapper\n",
    "%%time\n",
    "#tscv_subsplits = TimeSeriesSplit(n_splits=2)\n",
    "\n",
    "#grid_search = GridSearchCV(estimator=model, cv=tscv_subsplits,\n",
    "#                        param_grid=param_search, verbose=10)\n",
    "\n",
    "#grid_search.fit(df_train[FEATURES_LIST], y_train)\n",
    "\n",
    "model = xgb.XGBClassifier(random_state=42, max_depth=12, n_estimators=500, learning_rate=0.05, subsample=0.9, colsample_bytree=0.7, missing=-999, verbose=10, tree_method = 'gpu_hist')\n",
    "#model = xgb.XGBClassifier(random_state=42, max_depth=12, n_estimators=500, learning_rate=0.05, subsample=0.9, colsample_bytree=0.7, missing=-999, verbose=10)\n",
    "\n",
    "#model.fit(df_train[FEATURES_LIST], y_train)\n",
    "model.fit(df_train, y_train, early_stopping_rounds=10,  eval_set=[(df_test, y_test)])\n",
    "\n",
    "#model = grid_search\n",
    "'''"
   ]
  },
  {
   "cell_type": "code",
   "execution_count": 79,
   "metadata": {
    "execution": {
     "iopub.execute_input": "2020-12-16T14:32:03.362446Z",
     "iopub.status.busy": "2020-12-16T14:32:03.361788Z",
     "iopub.status.idle": "2020-12-16T14:32:03.366297Z",
     "shell.execute_reply": "2020-12-16T14:32:03.365834Z"
    },
    "papermill": {
     "duration": 0.096834,
     "end_time": "2020-12-16T14:32:03.366388",
     "exception": false,
     "start_time": "2020-12-16T14:32:03.269554",
     "status": "completed"
    },
    "tags": []
   },
   "outputs": [
    {
     "name": "stdout",
     "output_type": "stream",
     "text": [
      "Model training ended\n"
     ]
    }
   ],
   "source": [
    "print('Model training ended')"
   ]
  },
  {
   "cell_type": "code",
   "execution_count": 80,
   "metadata": {
    "execution": {
     "iopub.execute_input": "2020-12-16T14:32:03.547504Z",
     "iopub.status.busy": "2020-12-16T14:32:03.546907Z",
     "iopub.status.idle": "2020-12-16T14:32:03.551026Z",
     "shell.execute_reply": "2020-12-16T14:32:03.550537Z"
    },
    "papermill": {
     "duration": 0.096495,
     "end_time": "2020-12-16T14:32:03.551150",
     "exception": false,
     "start_time": "2020-12-16T14:32:03.454655",
     "status": "completed"
    },
    "tags": []
   },
   "outputs": [],
   "source": [
    "if (XGBOOST_MODEL_INTERFACE == 'xgboost'):\n",
    "    model.save_model(XGBOOST_MODEL_FILE)"
   ]
  },
  {
   "cell_type": "code",
   "execution_count": 81,
   "metadata": {
    "execution": {
     "iopub.execute_input": "2020-12-16T14:32:03.736071Z",
     "iopub.status.busy": "2020-12-16T14:32:03.734259Z",
     "iopub.status.idle": "2020-12-16T14:32:03.736704Z",
     "shell.execute_reply": "2020-12-16T14:32:03.737126Z"
    },
    "papermill": {
     "duration": 0.096763,
     "end_time": "2020-12-16T14:32:03.737248",
     "exception": false,
     "start_time": "2020-12-16T14:32:03.640485",
     "status": "completed"
    },
    "tags": []
   },
   "outputs": [],
   "source": [
    "#model.best_estimator_"
   ]
  },
  {
   "cell_type": "code",
   "execution_count": 82,
   "metadata": {
    "execution": {
     "iopub.execute_input": "2020-12-16T14:32:03.920158Z",
     "iopub.status.busy": "2020-12-16T14:32:03.919628Z",
     "iopub.status.idle": "2020-12-16T14:32:03.923817Z",
     "shell.execute_reply": "2020-12-16T14:32:03.923375Z"
    },
    "papermill": {
     "duration": 0.097645,
     "end_time": "2020-12-16T14:32:03.923905",
     "exception": false,
     "start_time": "2020-12-16T14:32:03.826260",
     "status": "completed"
    },
    "tags": []
   },
   "outputs": [],
   "source": [
    "#model.best_estimator_.feature_importances_"
   ]
  },
  {
   "cell_type": "code",
   "execution_count": 83,
   "metadata": {
    "execution": {
     "iopub.execute_input": "2020-12-16T14:32:04.107271Z",
     "iopub.status.busy": "2020-12-16T14:32:04.106361Z",
     "iopub.status.idle": "2020-12-16T14:32:04.108993Z",
     "shell.execute_reply": "2020-12-16T14:32:04.108566Z"
    },
    "papermill": {
     "duration": 0.096276,
     "end_time": "2020-12-16T14:32:04.109080",
     "exception": false,
     "start_time": "2020-12-16T14:32:04.012804",
     "status": "completed"
    },
    "tags": []
   },
   "outputs": [],
   "source": [
    "if (XGBOOST_MODEL_INTERFACE == 'xgboost'):\n",
    "    df_gains = pd.DataFrame.from_dict(model.get_score(importance_type='gain'), orient='index', columns=['gain']).sort_values(by='gain', ascending=False)"
   ]
  },
  {
   "cell_type": "code",
   "execution_count": 84,
   "metadata": {
    "execution": {
     "iopub.execute_input": "2020-12-16T14:32:04.298646Z",
     "iopub.status.busy": "2020-12-16T14:32:04.297831Z",
     "iopub.status.idle": "2020-12-16T14:32:04.300692Z",
     "shell.execute_reply": "2020-12-16T14:32:04.300156Z"
    },
    "papermill": {
     "duration": 0.100003,
     "end_time": "2020-12-16T14:32:04.300780",
     "exception": false,
     "start_time": "2020-12-16T14:32:04.200777",
     "status": "completed"
    },
    "tags": []
   },
   "outputs": [],
   "source": [
    "if (XGBOOST_MODEL_INTERFACE == 'xgboost'):\n",
    "    df_gains_cumulated = pd.concat([df_gains, pd.DataFrame({'% Gain cumulé' : (df_gains['gain'] / df_gains['gain'].sum()).cumsum()})], axis=1)"
   ]
  },
  {
   "cell_type": "code",
   "execution_count": 85,
   "metadata": {
    "execution": {
     "iopub.execute_input": "2020-12-16T14:32:04.482389Z",
     "iopub.status.busy": "2020-12-16T14:32:04.481531Z",
     "iopub.status.idle": "2020-12-16T14:32:04.484176Z",
     "shell.execute_reply": "2020-12-16T14:32:04.483733Z"
    },
    "papermill": {
     "duration": 0.095314,
     "end_time": "2020-12-16T14:32:04.484282",
     "exception": false,
     "start_time": "2020-12-16T14:32:04.388968",
     "status": "completed"
    },
    "tags": []
   },
   "outputs": [],
   "source": [
    "if (XGBOOST_MODEL_INTERFACE == 'xgboost'):\n",
    "    df_gains_cumulated['% Gain cumulé'].plot.bar()"
   ]
  },
  {
   "cell_type": "code",
   "execution_count": 86,
   "metadata": {
    "execution": {
     "iopub.execute_input": "2020-12-16T14:32:04.667059Z",
     "iopub.status.busy": "2020-12-16T14:32:04.666515Z",
     "iopub.status.idle": "2020-12-16T14:32:04.670692Z",
     "shell.execute_reply": "2020-12-16T14:32:04.669992Z"
    },
    "papermill": {
     "duration": 0.096771,
     "end_time": "2020-12-16T14:32:04.670796",
     "exception": false,
     "start_time": "2020-12-16T14:32:04.574025",
     "status": "completed"
    },
    "tags": []
   },
   "outputs": [],
   "source": [
    "#model.feature_importances_"
   ]
  },
  {
   "cell_type": "markdown",
   "metadata": {
    "papermill": {
     "duration": 0.089275,
     "end_time": "2020-12-16T14:32:04.849667",
     "exception": false,
     "start_time": "2020-12-16T14:32:04.760392",
     "status": "completed"
    },
    "tags": []
   },
   "source": [
    "# Save model"
   ]
  },
  {
   "cell_type": "code",
   "execution_count": 87,
   "metadata": {
    "execution": {
     "iopub.execute_input": "2020-12-16T14:32:05.033694Z",
     "iopub.status.busy": "2020-12-16T14:32:05.032948Z",
     "iopub.status.idle": "2020-12-16T14:32:05.036743Z",
     "shell.execute_reply": "2020-12-16T14:32:05.037153Z"
    },
    "papermill": {
     "duration": 0.097959,
     "end_time": "2020-12-16T14:32:05.037277",
     "exception": false,
     "start_time": "2020-12-16T14:32:04.939318",
     "status": "completed"
    },
    "tags": []
   },
   "outputs": [
    {
     "name": "stdout",
     "output_type": "stream",
     "text": [
      "Saving model\n"
     ]
    }
   ],
   "source": [
    "print('Saving model')"
   ]
  },
  {
   "cell_type": "code",
   "execution_count": 88,
   "metadata": {
    "execution": {
     "iopub.execute_input": "2020-12-16T14:32:05.227231Z",
     "iopub.status.busy": "2020-12-16T14:32:05.225676Z",
     "iopub.status.idle": "2020-12-16T14:32:05.375780Z",
     "shell.execute_reply": "2020-12-16T14:32:05.376220Z"
    },
    "papermill": {
     "duration": 0.24872,
     "end_time": "2020-12-16T14:32:05.376381",
     "exception": false,
     "start_time": "2020-12-16T14:32:05.127661",
     "status": "completed"
    },
    "tags": []
   },
   "outputs": [],
   "source": [
    "with open(MODEL_FILE, 'wb') as f:\n",
    "    pickle.dump(model, f, pickle.HIGHEST_PROTOCOL)"
   ]
  },
  {
   "cell_type": "code",
   "execution_count": 89,
   "metadata": {
    "execution": {
     "iopub.execute_input": "2020-12-16T14:32:05.561635Z",
     "iopub.status.busy": "2020-12-16T14:32:05.560817Z",
     "iopub.status.idle": "2020-12-16T14:32:05.563647Z",
     "shell.execute_reply": "2020-12-16T14:32:05.563081Z"
    },
    "papermill": {
     "duration": 0.097382,
     "end_time": "2020-12-16T14:32:05.563737",
     "exception": false,
     "start_time": "2020-12-16T14:32:05.466355",
     "status": "completed"
    },
    "tags": []
   },
   "outputs": [],
   "source": [
    "if (XGBOOST_MODEL_INTERFACE == 'xgboost'):\n",
    "    model.save_model(XGBOOST_MODEL_FILE)"
   ]
  },
  {
   "cell_type": "code",
   "execution_count": 90,
   "metadata": {
    "execution": {
     "iopub.execute_input": "2020-12-16T14:32:05.750254Z",
     "iopub.status.busy": "2020-12-16T14:32:05.749382Z",
     "iopub.status.idle": "2020-12-16T14:32:06.491155Z",
     "shell.execute_reply": "2020-12-16T14:32:06.489309Z"
    },
    "papermill": {
     "duration": 0.837711,
     "end_time": "2020-12-16T14:32:06.491339",
     "exception": false,
     "start_time": "2020-12-16T14:32:05.653628",
     "status": "completed"
    },
    "tags": []
   },
   "outputs": [
    {
     "name": "stdout",
     "output_type": "stream",
     "text": [
      "total 64276\n",
      "---------- 1 root root   129226 Dec 16 14:32 __notebook__.ipynb\n",
      "-rw-r--r-- 1 root root 65687144 Dec 16 14:32 model.pickle\n"
     ]
    }
   ],
   "source": [
    "!ls -l"
   ]
  },
  {
   "cell_type": "code",
   "execution_count": 91,
   "metadata": {
    "execution": {
     "iopub.execute_input": "2020-12-16T14:32:06.835841Z",
     "iopub.status.busy": "2020-12-16T14:32:06.835012Z",
     "iopub.status.idle": "2020-12-16T14:32:06.839114Z",
     "shell.execute_reply": "2020-12-16T14:32:06.838507Z"
    },
    "papermill": {
     "duration": 0.175982,
     "end_time": "2020-12-16T14:32:06.839250",
     "exception": false,
     "start_time": "2020-12-16T14:32:06.663268",
     "status": "completed"
    },
    "tags": []
   },
   "outputs": [
    {
     "data": {
      "text/plain": [
       "'\\ndf_grid_search_results = pd.concat([pd.DataFrame(grid_search.cv_results_[\"params\"]),pd.DataFrame(grid_search.cv_results_[\"mean_test_score\"], columns=[\"mean_test_score\"])],axis=1)\\ndf_grid_search_results = pd.concat([df_grid_search_results,pd.DataFrame(grid_search.cv_results_[\"std_test_score\"], columns=[\"std_test_score\"])],axis=1)\\ndf_grid_search_results = pd.concat([df_grid_search_results,pd.DataFrame(grid_search.cv_results_[\"mean_fit_time\"], columns=[\"mean_fit_time\"])],axis=1)\\ndf_grid_search_results = pd.concat([df_grid_search_results,pd.DataFrame(grid_search.cv_results_[\"mean_score_time\"], columns=[\"mean_score_time\"])],axis=1)\\n'"
      ]
     },
     "execution_count": 91,
     "metadata": {},
     "output_type": "execute_result"
    }
   ],
   "source": [
    "'''\n",
    "df_grid_search_results = pd.concat([pd.DataFrame(grid_search.cv_results_[\"params\"]),pd.DataFrame(grid_search.cv_results_[\"mean_test_score\"], columns=[\"mean_test_score\"])],axis=1)\n",
    "df_grid_search_results = pd.concat([df_grid_search_results,pd.DataFrame(grid_search.cv_results_[\"std_test_score\"], columns=[\"std_test_score\"])],axis=1)\n",
    "df_grid_search_results = pd.concat([df_grid_search_results,pd.DataFrame(grid_search.cv_results_[\"mean_fit_time\"], columns=[\"mean_fit_time\"])],axis=1)\n",
    "df_grid_search_results = pd.concat([df_grid_search_results,pd.DataFrame(grid_search.cv_results_[\"mean_score_time\"], columns=[\"mean_score_time\"])],axis=1)\n",
    "'''"
   ]
  },
  {
   "cell_type": "code",
   "execution_count": 92,
   "metadata": {
    "execution": {
     "iopub.execute_input": "2020-12-16T14:32:07.036855Z",
     "iopub.status.busy": "2020-12-16T14:32:07.036026Z",
     "iopub.status.idle": "2020-12-16T14:32:07.039157Z",
     "shell.execute_reply": "2020-12-16T14:32:07.038583Z"
    },
    "papermill": {
     "duration": 0.099729,
     "end_time": "2020-12-16T14:32:07.039269",
     "exception": false,
     "start_time": "2020-12-16T14:32:06.939540",
     "status": "completed"
    },
    "tags": []
   },
   "outputs": [],
   "source": [
    "#df_grid_search_results"
   ]
  },
  {
   "cell_type": "markdown",
   "metadata": {
    "papermill": {
     "duration": 0.094216,
     "end_time": "2020-12-16T14:32:07.229079",
     "exception": false,
     "start_time": "2020-12-16T14:32:07.134863",
     "status": "completed"
    },
    "tags": []
   },
   "source": [
    "# Test predictions"
   ]
  },
  {
   "cell_type": "code",
   "execution_count": 93,
   "metadata": {
    "execution": {
     "iopub.execute_input": "2020-12-16T14:32:07.423644Z",
     "iopub.status.busy": "2020-12-16T14:32:07.422735Z",
     "iopub.status.idle": "2020-12-16T14:32:07.426862Z",
     "shell.execute_reply": "2020-12-16T14:32:07.427591Z"
    },
    "papermill": {
     "duration": 0.103548,
     "end_time": "2020-12-16T14:32:07.427748",
     "exception": false,
     "start_time": "2020-12-16T14:32:07.324200",
     "status": "completed"
    },
    "tags": []
   },
   "outputs": [
    {
     "name": "stdout",
     "output_type": "stream",
     "text": [
      "Testing predictions\n"
     ]
    }
   ],
   "source": [
    "print('Testing predictions')"
   ]
  },
  {
   "cell_type": "code",
   "execution_count": 94,
   "metadata": {
    "execution": {
     "iopub.execute_input": "2020-12-16T14:32:07.623834Z",
     "iopub.status.busy": "2020-12-16T14:32:07.622806Z",
     "iopub.status.idle": "2020-12-16T14:32:07.625758Z",
     "shell.execute_reply": "2020-12-16T14:32:07.625289Z"
    },
    "papermill": {
     "duration": 0.102175,
     "end_time": "2020-12-16T14:32:07.625853",
     "exception": false,
     "start_time": "2020-12-16T14:32:07.523678",
     "status": "completed"
    },
    "tags": []
   },
   "outputs": [],
   "source": [
    "PREDICT_THRESHOLD = 0.5\n",
    "#PREDICT_THRESHOLD = 0.5"
   ]
  },
  {
   "cell_type": "code",
   "execution_count": 95,
   "metadata": {
    "execution": {
     "iopub.execute_input": "2020-12-16T14:32:07.868062Z",
     "iopub.status.busy": "2020-12-16T14:32:07.866643Z",
     "iopub.status.idle": "2020-12-16T14:32:26.074397Z",
     "shell.execute_reply": "2020-12-16T14:32:26.073880Z"
    },
    "papermill": {
     "duration": 18.352377,
     "end_time": "2020-12-16T14:32:26.074502",
     "exception": false,
     "start_time": "2020-12-16T14:32:07.722125",
     "status": "completed"
    },
    "tags": []
   },
   "outputs": [],
   "source": [
    "if (XGBOOST_MODEL_INTERFACE == 'sklearn'):\n",
    "    #df_test_predictions = (pd.Series([p[1] for p in model.predict_proba(df_test)]) > PREDICT_THRESHOLD).astype(np.byte)\n",
    "    \n",
    "    df_test_predictions = (pd.Series([p[1] for p in model.predict_proba(df_test[FEATURES_LIST_TOTRAIN])]) > PREDICT_THRESHOLD).astype(np.byte)\n",
    "    \n",
    "    \n",
    "else:\n",
    "    df_test_predictions = (pd.Series(model.predict(d_test)) > PREDICT_THRESHOLD).astype(np.byte)"
   ]
  },
  {
   "cell_type": "code",
   "execution_count": 96,
   "metadata": {
    "execution": {
     "iopub.execute_input": "2020-12-16T14:32:26.267910Z",
     "iopub.status.busy": "2020-12-16T14:32:26.264755Z",
     "iopub.status.idle": "2020-12-16T14:32:26.273304Z",
     "shell.execute_reply": "2020-12-16T14:32:26.273713Z"
    },
    "papermill": {
     "duration": 0.106142,
     "end_time": "2020-12-16T14:32:26.273835",
     "exception": false,
     "start_time": "2020-12-16T14:32:26.167693",
     "status": "completed"
    },
    "tags": []
   },
   "outputs": [
    {
     "data": {
      "text/plain": [
       "0         1\n",
       "1         0\n",
       "2         0\n",
       "3         1\n",
       "4         1\n",
       "         ..\n",
       "217312    0\n",
       "217313    0\n",
       "217314    0\n",
       "217315    1\n",
       "217316    0\n",
       "Length: 217317, dtype: int8"
      ]
     },
     "execution_count": 96,
     "metadata": {},
     "output_type": "execute_result"
    }
   ],
   "source": [
    "df_test_predictions"
   ]
  },
  {
   "cell_type": "code",
   "execution_count": 97,
   "metadata": {
    "execution": {
     "iopub.execute_input": "2020-12-16T14:32:26.462307Z",
     "iopub.status.busy": "2020-12-16T14:32:26.461717Z",
     "iopub.status.idle": "2020-12-16T14:32:26.465842Z",
     "shell.execute_reply": "2020-12-16T14:32:26.465422Z"
    },
    "papermill": {
     "duration": 0.100041,
     "end_time": "2020-12-16T14:32:26.465934",
     "exception": false,
     "start_time": "2020-12-16T14:32:26.365893",
     "status": "completed"
    },
    "tags": []
   },
   "outputs": [],
   "source": [
    "df_test_origin.reset_index(drop=True, inplace=True)"
   ]
  },
  {
   "cell_type": "code",
   "execution_count": 98,
   "metadata": {
    "execution": {
     "iopub.execute_input": "2020-12-16T14:32:26.654364Z",
     "iopub.status.busy": "2020-12-16T14:32:26.653603Z",
     "iopub.status.idle": "2020-12-16T14:32:26.656992Z",
     "shell.execute_reply": "2020-12-16T14:32:26.657424Z"
    },
    "papermill": {
     "duration": 0.100436,
     "end_time": "2020-12-16T14:32:26.657538",
     "exception": false,
     "start_time": "2020-12-16T14:32:26.557102",
     "status": "completed"
    },
    "tags": []
   },
   "outputs": [
    {
     "data": {
      "text/plain": [
       "(217317, 144)"
      ]
     },
     "execution_count": 98,
     "metadata": {},
     "output_type": "execute_result"
    }
   ],
   "source": [
    "df_test_origin.shape"
   ]
  },
  {
   "cell_type": "code",
   "execution_count": 99,
   "metadata": {
    "execution": {
     "iopub.execute_input": "2020-12-16T14:32:26.845437Z",
     "iopub.status.busy": "2020-12-16T14:32:26.844855Z",
     "iopub.status.idle": "2020-12-16T14:32:26.849055Z",
     "shell.execute_reply": "2020-12-16T14:32:26.848647Z"
    },
    "papermill": {
     "duration": 0.099387,
     "end_time": "2020-12-16T14:32:26.849146",
     "exception": false,
     "start_time": "2020-12-16T14:32:26.749759",
     "status": "completed"
    },
    "tags": []
   },
   "outputs": [],
   "source": [
    "if (XGBOOST_MODEL_INTERFACE == 'xgboost'):\n",
    "    #df_test_predictions = model.predict(df_test[FEATURES_LIST])\n",
    "    test_predictions = model.predict(d_test)"
   ]
  },
  {
   "cell_type": "code",
   "execution_count": 100,
   "metadata": {
    "execution": {
     "iopub.execute_input": "2020-12-16T14:32:27.039757Z",
     "iopub.status.busy": "2020-12-16T14:32:27.037983Z",
     "iopub.status.idle": "2020-12-16T14:32:27.040363Z",
     "shell.execute_reply": "2020-12-16T14:32:27.040779Z"
    },
    "papermill": {
     "duration": 0.09893,
     "end_time": "2020-12-16T14:32:27.040891",
     "exception": false,
     "start_time": "2020-12-16T14:32:26.941961",
     "status": "completed"
    },
    "tags": []
   },
   "outputs": [],
   "source": [
    "if (XGBOOST_MODEL_INTERFACE == 'xgboost'):\n",
    "    test_predictions"
   ]
  },
  {
   "cell_type": "code",
   "execution_count": 101,
   "metadata": {
    "execution": {
     "iopub.execute_input": "2020-12-16T14:32:27.231736Z",
     "iopub.status.busy": "2020-12-16T14:32:27.231136Z",
     "iopub.status.idle": "2020-12-16T14:32:27.235298Z",
     "shell.execute_reply": "2020-12-16T14:32:27.235687Z"
    },
    "papermill": {
     "duration": 0.103333,
     "end_time": "2020-12-16T14:32:27.235801",
     "exception": false,
     "start_time": "2020-12-16T14:32:27.132468",
     "status": "completed"
    },
    "tags": []
   },
   "outputs": [
    {
     "name": "stdout",
     "output_type": "stream",
     "text": [
      "Calculating utility score\n"
     ]
    }
   ],
   "source": [
    "print('Calculating utility score')"
   ]
  },
  {
   "cell_type": "code",
   "execution_count": 102,
   "metadata": {
    "execution": {
     "iopub.execute_input": "2020-12-16T14:32:27.424145Z",
     "iopub.status.busy": "2020-12-16T14:32:27.423622Z",
     "iopub.status.idle": "2020-12-16T14:32:27.813805Z",
     "shell.execute_reply": "2020-12-16T14:32:27.813313Z"
    },
    "papermill": {
     "duration": 0.486028,
     "end_time": "2020-12-16T14:32:27.813902",
     "exception": false,
     "start_time": "2020-12-16T14:32:27.327874",
     "status": "completed"
    },
    "tags": []
   },
   "outputs": [],
   "source": [
    "utility_score = utility_function(df_test_origin, df_test_predictions)"
   ]
  },
  {
   "cell_type": "code",
   "execution_count": 103,
   "metadata": {
    "execution": {
     "iopub.execute_input": "2020-12-16T14:32:28.003763Z",
     "iopub.status.busy": "2020-12-16T14:32:28.003000Z",
     "iopub.status.idle": "2020-12-16T14:32:28.006012Z",
     "shell.execute_reply": "2020-12-16T14:32:28.006453Z"
    },
    "papermill": {
     "duration": 0.100064,
     "end_time": "2020-12-16T14:32:28.006575",
     "exception": false,
     "start_time": "2020-12-16T14:32:27.906511",
     "status": "completed"
    },
    "tags": []
   },
   "outputs": [
    {
     "data": {
      "text/plain": [
       "2174.5751953125"
      ]
     },
     "execution_count": 103,
     "metadata": {},
     "output_type": "execute_result"
    }
   ],
   "source": [
    "utility_score"
   ]
  },
  {
   "cell_type": "markdown",
   "metadata": {
    "papermill": {
     "duration": 0.114589,
     "end_time": "2020-12-16T14:32:28.214052",
     "exception": false,
     "start_time": "2020-12-16T14:32:28.099463",
     "status": "completed"
    },
    "tags": []
   },
   "source": [
    "Utility score avec les features macd et macd - minus signal et threshold 0.5001: 1217.0041  \n",
    "Utility score avec juste les features de base et threshold 0.5001: 1269.3579711914062  \n",
    "Utility score avec juste les features de base et threshold 0.5001 et y_train portant sur *tous* les resp positifs : 2.67  \n",
    "Utility score avec juste les features de base et threshold 0.5001, erreur RMSE: 1294.3004150390625"
   ]
  },
  {
   "cell_type": "code",
   "execution_count": 104,
   "metadata": {
    "execution": {
     "iopub.execute_input": "2020-12-16T14:32:28.529535Z",
     "iopub.status.busy": "2020-12-16T14:32:28.528730Z",
     "iopub.status.idle": "2020-12-16T14:32:28.535214Z",
     "shell.execute_reply": "2020-12-16T14:32:28.535830Z"
    },
    "papermill": {
     "duration": 0.161729,
     "end_time": "2020-12-16T14:32:28.535991",
     "exception": false,
     "start_time": "2020-12-16T14:32:28.374262",
     "status": "completed"
    },
    "tags": []
   },
   "outputs": [
    {
     "name": "stdout",
     "output_type": "stream",
     "text": [
      "Calculating accuracy score\n"
     ]
    }
   ],
   "source": [
    "print('Calculating accuracy score')"
   ]
  },
  {
   "cell_type": "code",
   "execution_count": 105,
   "metadata": {
    "execution": {
     "iopub.execute_input": "2020-12-16T14:32:28.840926Z",
     "iopub.status.busy": "2020-12-16T14:32:28.840036Z",
     "iopub.status.idle": "2020-12-16T14:32:28.861430Z",
     "shell.execute_reply": "2020-12-16T14:32:28.861860Z"
    },
    "papermill": {
     "duration": 0.175552,
     "end_time": "2020-12-16T14:32:28.861974",
     "exception": false,
     "start_time": "2020-12-16T14:32:28.686422",
     "status": "completed"
    },
    "tags": []
   },
   "outputs": [
    {
     "data": {
      "text/plain": [
       "0.5279108399250864"
      ]
     },
     "execution_count": 105,
     "metadata": {},
     "output_type": "execute_result"
    }
   ],
   "source": [
    "accuracy_score(y_test, df_test_predictions)"
   ]
  },
  {
   "cell_type": "code",
   "execution_count": 106,
   "metadata": {
    "execution": {
     "iopub.execute_input": "2020-12-16T14:32:29.081969Z",
     "iopub.status.busy": "2020-12-16T14:32:29.081070Z",
     "iopub.status.idle": "2020-12-16T14:35:00.787384Z",
     "shell.execute_reply": "2020-12-16T14:35:00.786850Z"
    },
    "papermill": {
     "duration": 151.831777,
     "end_time": "2020-12-16T14:35:00.787511",
     "exception": false,
     "start_time": "2020-12-16T14:32:28.955734",
     "status": "completed"
    },
    "tags": []
   },
   "outputs": [],
   "source": [
    "THRESHOLD_LIST = [0.5, 0.5001, 0.5005, 0.501, 0.51, 0.52, 0.53, 0.54]\n",
    "\n",
    "if (XGBOOST_MODEL_INTERFACE == 'sklearn'):\n",
    "    df_test_predictions_tab = [(pd.Series([p[1] for p in model.predict_proba(df_test[FEATURES_LIST_TOTRAIN])]) > threshold).astype(np.byte) for threshold in THRESHOLD_LIST]\n",
    "    utility_score_tab = [utility_function(df_test_origin, df_test_predictions_series) for df_test_predictions_series in df_test_predictions_tab]"
   ]
  },
  {
   "cell_type": "code",
   "execution_count": 107,
   "metadata": {
    "execution": {
     "iopub.execute_input": "2020-12-16T14:35:00.983842Z",
     "iopub.status.busy": "2020-12-16T14:35:00.983269Z",
     "iopub.status.idle": "2020-12-16T14:35:00.988714Z",
     "shell.execute_reply": "2020-12-16T14:35:00.988291Z"
    },
    "papermill": {
     "duration": 0.103538,
     "end_time": "2020-12-16T14:35:00.988807",
     "exception": false,
     "start_time": "2020-12-16T14:35:00.885269",
     "status": "completed"
    },
    "tags": []
   },
   "outputs": [
    {
     "data": {
      "text/plain": [
       "[2174.5751953125,\n",
       " 2172.3603515625,\n",
       " 2171.5623779296875,\n",
       " 2151.908935546875,\n",
       " 1981.390869140625,\n",
       " 1666.1438598632812,\n",
       " 1402.1699523925781,\n",
       " 1122.6982727050781]"
      ]
     },
     "execution_count": 107,
     "metadata": {},
     "output_type": "execute_result"
    }
   ],
   "source": [
    "utility_score_tab"
   ]
  },
  {
   "cell_type": "code",
   "execution_count": 108,
   "metadata": {
    "execution": {
     "iopub.execute_input": "2020-12-16T14:35:01.188118Z",
     "iopub.status.busy": "2020-12-16T14:35:01.187584Z",
     "iopub.status.idle": "2020-12-16T14:35:01.383821Z",
     "shell.execute_reply": "2020-12-16T14:35:01.383376Z"
    },
    "papermill": {
     "duration": 0.299174,
     "end_time": "2020-12-16T14:35:01.383922",
     "exception": false,
     "start_time": "2020-12-16T14:35:01.084748",
     "status": "completed"
    },
    "tags": []
   },
   "outputs": [
    {
     "data": {
      "text/plain": [
       "<matplotlib.collections.PathCollection at 0x7f3f941b5450>"
      ]
     },
     "execution_count": 108,
     "metadata": {},
     "output_type": "execute_result"
    },
    {
     "data": {
      "image/png": "[encoded data removed]",
      "text/plain": [
       "<Figure size 432x288 with 1 Axes>"
      ]
     },
     "metadata": {
      "needs_background": "light"
     },
     "output_type": "display_data"
    }
   ],
   "source": [
    "plt.scatter(THRESHOLD_LIST, utility_score_tab)"
   ]
  },
  {
   "cell_type": "markdown",
   "metadata": {
    "papermill": {
     "duration": 0.099431,
     "end_time": "2020-12-16T14:35:01.583651",
     "exception": false,
     "start_time": "2020-12-16T14:35:01.484220",
     "status": "completed"
    },
    "tags": []
   },
   "source": [
    "# Analyse model results"
   ]
  },
  {
   "cell_type": "code",
   "execution_count": 109,
   "metadata": {
    "execution": {
     "iopub.execute_input": "2020-12-16T14:35:01.786727Z",
     "iopub.status.busy": "2020-12-16T14:35:01.785804Z",
     "iopub.status.idle": "2020-12-16T14:35:17.460685Z",
     "shell.execute_reply": "2020-12-16T14:35:17.459632Z"
    },
    "papermill": {
     "duration": 15.780216,
     "end_time": "2020-12-16T14:35:17.460793",
     "exception": false,
     "start_time": "2020-12-16T14:35:01.680577",
     "status": "completed"
    },
    "tags": []
   },
   "outputs": [],
   "source": [
    "if (XGBOOST_MODEL_INTERFACE == 'sklearn'):\n",
    "    #df_featimportance = pd.DataFrame(model.feature_importances_, index=df_train.columns, columns=['Importance']).sort_values(by='Importance', ascending=False)\n",
    "    df_featimportance = pd.DataFrame(model.feature_importances_, index=df_train[FEATURES_LIST_TOTRAIN].columns, columns=['Importance']).sort_values(by='Importance', ascending=False)\n",
    "    df_featimportance_cumulated = pd.concat([df_featimportance, pd.DataFrame({'% feat importance cumulé' : (df_featimportance['Importance'] / df_featimportance['Importance'].sum()).cumsum()})], axis=1)"
   ]
  },
  {
   "cell_type": "code",
   "execution_count": 110,
   "metadata": {
    "execution": {
     "iopub.execute_input": "2020-12-16T14:35:17.663331Z",
     "iopub.status.busy": "2020-12-16T14:35:17.662777Z",
     "iopub.status.idle": "2020-12-16T14:35:17.681210Z",
     "shell.execute_reply": "2020-12-16T14:35:17.681709Z"
    },
    "papermill": {
     "duration": 0.125544,
     "end_time": "2020-12-16T14:35:17.681860",
     "exception": false,
     "start_time": "2020-12-16T14:35:17.556316",
     "status": "completed"
    },
    "tags": []
   },
   "outputs": [
    {
     "data": {
      "text/html": [
       "<div>\n",
       "<style scoped>\n",
       "    .dataframe tbody tr th:only-of-type {\n",
       "        vertical-align: middle;\n",
       "    }\n",
       "\n",
       "    .dataframe tbody tr th {\n",
       "        vertical-align: top;\n",
       "    }\n",
       "\n",
       "    .dataframe thead th {\n",
       "        text-align: right;\n",
       "    }\n",
       "</style>\n",
       "<table border=\"1\" class=\"dataframe\">\n",
       "  <thead>\n",
       "    <tr style=\"text-align: right;\">\n",
       "      <th></th>\n",
       "      <th>Importance</th>\n",
       "      <th>% feat importance cumulé</th>\n",
       "    </tr>\n",
       "  </thead>\n",
       "  <tbody>\n",
       "    <tr>\n",
       "      <th>feature_0</th>\n",
       "      <td>0.021084</td>\n",
       "      <td>0.021084</td>\n",
       "    </tr>\n",
       "    <tr>\n",
       "      <th>feature_43</th>\n",
       "      <td>0.017231</td>\n",
       "      <td>0.038315</td>\n",
       "    </tr>\n",
       "    <tr>\n",
       "      <th>feature_41</th>\n",
       "      <td>0.014910</td>\n",
       "      <td>0.053225</td>\n",
       "    </tr>\n",
       "    <tr>\n",
       "      <th>feature_45</th>\n",
       "      <td>0.014330</td>\n",
       "      <td>0.067555</td>\n",
       "    </tr>\n",
       "    <tr>\n",
       "      <th>feature_42</th>\n",
       "      <td>0.014323</td>\n",
       "      <td>0.081878</td>\n",
       "    </tr>\n",
       "    <tr>\n",
       "      <th>feature_44</th>\n",
       "      <td>0.014081</td>\n",
       "      <td>0.095959</td>\n",
       "    </tr>\n",
       "    <tr>\n",
       "      <th>feature_62</th>\n",
       "      <td>0.012728</td>\n",
       "      <td>0.108687</td>\n",
       "    </tr>\n",
       "    <tr>\n",
       "      <th>feature_63</th>\n",
       "      <td>0.012209</td>\n",
       "      <td>0.120896</td>\n",
       "    </tr>\n",
       "    <tr>\n",
       "      <th>feature_60</th>\n",
       "      <td>0.012165</td>\n",
       "      <td>0.133062</td>\n",
       "    </tr>\n",
       "    <tr>\n",
       "      <th>feature_5</th>\n",
       "      <td>0.011994</td>\n",
       "      <td>0.145056</td>\n",
       "    </tr>\n",
       "    <tr>\n",
       "      <th>feature_61</th>\n",
       "      <td>0.011762</td>\n",
       "      <td>0.156818</td>\n",
       "    </tr>\n",
       "    <tr>\n",
       "      <th>feature_6</th>\n",
       "      <td>0.011724</td>\n",
       "      <td>0.168542</td>\n",
       "    </tr>\n",
       "    <tr>\n",
       "      <th>feature_39</th>\n",
       "      <td>0.011410</td>\n",
       "      <td>0.179952</td>\n",
       "    </tr>\n",
       "    <tr>\n",
       "      <th>feature_83</th>\n",
       "      <td>0.010719</td>\n",
       "      <td>0.190671</td>\n",
       "    </tr>\n",
       "    <tr>\n",
       "      <th>feature_27</th>\n",
       "      <td>0.010573</td>\n",
       "      <td>0.201244</td>\n",
       "    </tr>\n",
       "    <tr>\n",
       "      <th>feature_3</th>\n",
       "      <td>0.010552</td>\n",
       "      <td>0.211796</td>\n",
       "    </tr>\n",
       "    <tr>\n",
       "      <th>feature_40</th>\n",
       "      <td>0.010059</td>\n",
       "      <td>0.221856</td>\n",
       "    </tr>\n",
       "    <tr>\n",
       "      <th>feature_4</th>\n",
       "      <td>0.009759</td>\n",
       "      <td>0.231615</td>\n",
       "    </tr>\n",
       "    <tr>\n",
       "      <th>feature_120</th>\n",
       "      <td>0.009617</td>\n",
       "      <td>0.241232</td>\n",
       "    </tr>\n",
       "    <tr>\n",
       "      <th>feature_107</th>\n",
       "      <td>0.009592</td>\n",
       "      <td>0.250825</td>\n",
       "    </tr>\n",
       "    <tr>\n",
       "      <th>feature_38</th>\n",
       "      <td>0.009569</td>\n",
       "      <td>0.260394</td>\n",
       "    </tr>\n",
       "    <tr>\n",
       "      <th>feature_124</th>\n",
       "      <td>0.009532</td>\n",
       "      <td>0.269926</td>\n",
       "    </tr>\n",
       "    <tr>\n",
       "      <th>feature_77</th>\n",
       "      <td>0.009444</td>\n",
       "      <td>0.279370</td>\n",
       "    </tr>\n",
       "    <tr>\n",
       "      <th>feature_37</th>\n",
       "      <td>0.009394</td>\n",
       "      <td>0.288765</td>\n",
       "    </tr>\n",
       "    <tr>\n",
       "      <th>feature_119</th>\n",
       "      <td>0.009305</td>\n",
       "      <td>0.298070</td>\n",
       "    </tr>\n",
       "    <tr>\n",
       "      <th>feature_55</th>\n",
       "      <td>0.009136</td>\n",
       "      <td>0.307206</td>\n",
       "    </tr>\n",
       "    <tr>\n",
       "      <th>feature_89</th>\n",
       "      <td>0.009064</td>\n",
       "      <td>0.316270</td>\n",
       "    </tr>\n",
       "    <tr>\n",
       "      <th>feature_113</th>\n",
       "      <td>0.009038</td>\n",
       "      <td>0.325308</td>\n",
       "    </tr>\n",
       "    <tr>\n",
       "      <th>feature_121</th>\n",
       "      <td>0.008837</td>\n",
       "      <td>0.334145</td>\n",
       "    </tr>\n",
       "    <tr>\n",
       "      <th>feature_95</th>\n",
       "      <td>0.008674</td>\n",
       "      <td>0.342818</td>\n",
       "    </tr>\n",
       "    <tr>\n",
       "      <th>feature_28</th>\n",
       "      <td>0.008635</td>\n",
       "      <td>0.351453</td>\n",
       "    </tr>\n",
       "    <tr>\n",
       "      <th>feature_125</th>\n",
       "      <td>0.008603</td>\n",
       "      <td>0.360057</td>\n",
       "    </tr>\n",
       "    <tr>\n",
       "      <th>feature_64</th>\n",
       "      <td>0.008589</td>\n",
       "      <td>0.368646</td>\n",
       "    </tr>\n",
       "    <tr>\n",
       "      <th>feature_101</th>\n",
       "      <td>0.008217</td>\n",
       "      <td>0.376863</td>\n",
       "    </tr>\n",
       "    <tr>\n",
       "      <th>feature_90</th>\n",
       "      <td>0.008171</td>\n",
       "      <td>0.385034</td>\n",
       "    </tr>\n",
       "    <tr>\n",
       "      <th>feature_68</th>\n",
       "      <td>0.008112</td>\n",
       "      <td>0.393146</td>\n",
       "    </tr>\n",
       "    <tr>\n",
       "      <th>feature_114</th>\n",
       "      <td>0.008081</td>\n",
       "      <td>0.401226</td>\n",
       "    </tr>\n",
       "    <tr>\n",
       "      <th>feature_71</th>\n",
       "      <td>0.008053</td>\n",
       "      <td>0.409280</td>\n",
       "    </tr>\n",
       "    <tr>\n",
       "      <th>feature_102</th>\n",
       "      <td>0.007957</td>\n",
       "      <td>0.417237</td>\n",
       "    </tr>\n",
       "    <tr>\n",
       "      <th>feature_126</th>\n",
       "      <td>0.007916</td>\n",
       "      <td>0.425152</td>\n",
       "    </tr>\n",
       "    <tr>\n",
       "      <th>feature_66</th>\n",
       "      <td>0.007791</td>\n",
       "      <td>0.432943</td>\n",
       "    </tr>\n",
       "    <tr>\n",
       "      <th>feature_57</th>\n",
       "      <td>0.007682</td>\n",
       "      <td>0.440626</td>\n",
       "    </tr>\n",
       "    <tr>\n",
       "      <th>feature_69</th>\n",
       "      <td>0.007681</td>\n",
       "      <td>0.448307</td>\n",
       "    </tr>\n",
       "    <tr>\n",
       "      <th>feature_108</th>\n",
       "      <td>0.007615</td>\n",
       "      <td>0.455922</td>\n",
       "    </tr>\n",
       "    <tr>\n",
       "      <th>feature_67</th>\n",
       "      <td>0.007570</td>\n",
       "      <td>0.463492</td>\n",
       "    </tr>\n",
       "    <tr>\n",
       "      <th>feature_84</th>\n",
       "      <td>0.007546</td>\n",
       "      <td>0.471039</td>\n",
       "    </tr>\n",
       "    <tr>\n",
       "      <th>feature_116</th>\n",
       "      <td>0.007545</td>\n",
       "      <td>0.478584</td>\n",
       "    </tr>\n",
       "    <tr>\n",
       "      <th>feature_127</th>\n",
       "      <td>0.007533</td>\n",
       "      <td>0.486116</td>\n",
       "    </tr>\n",
       "    <tr>\n",
       "      <th>feature_96</th>\n",
       "      <td>0.007428</td>\n",
       "      <td>0.493544</td>\n",
       "    </tr>\n",
       "    <tr>\n",
       "      <th>feature_128</th>\n",
       "      <td>0.007357</td>\n",
       "      <td>0.500902</td>\n",
       "    </tr>\n",
       "    <tr>\n",
       "      <th>feature_31</th>\n",
       "      <td>0.007353</td>\n",
       "      <td>0.508255</td>\n",
       "    </tr>\n",
       "    <tr>\n",
       "      <th>feature_8</th>\n",
       "      <td>0.007236</td>\n",
       "      <td>0.515490</td>\n",
       "    </tr>\n",
       "    <tr>\n",
       "      <th>feature_92</th>\n",
       "      <td>0.007189</td>\n",
       "      <td>0.522679</td>\n",
       "    </tr>\n",
       "    <tr>\n",
       "      <th>feature_70</th>\n",
       "      <td>0.007122</td>\n",
       "      <td>0.529801</td>\n",
       "    </tr>\n",
       "    <tr>\n",
       "      <th>feature_58</th>\n",
       "      <td>0.007106</td>\n",
       "      <td>0.536907</td>\n",
       "    </tr>\n",
       "    <tr>\n",
       "      <th>feature_65</th>\n",
       "      <td>0.007076</td>\n",
       "      <td>0.543983</td>\n",
       "    </tr>\n",
       "    <tr>\n",
       "      <th>feature_20</th>\n",
       "      <td>0.007021</td>\n",
       "      <td>0.551004</td>\n",
       "    </tr>\n",
       "    <tr>\n",
       "      <th>feature_7</th>\n",
       "      <td>0.006966</td>\n",
       "      <td>0.557970</td>\n",
       "    </tr>\n",
       "    <tr>\n",
       "      <th>feature_78</th>\n",
       "      <td>0.006964</td>\n",
       "      <td>0.564934</td>\n",
       "    </tr>\n",
       "    <tr>\n",
       "      <th>feature_129</th>\n",
       "      <td>0.006889</td>\n",
       "      <td>0.571824</td>\n",
       "    </tr>\n",
       "    <tr>\n",
       "      <th>feature_53</th>\n",
       "      <td>0.006826</td>\n",
       "      <td>0.578650</td>\n",
       "    </tr>\n",
       "    <tr>\n",
       "      <th>feature_18</th>\n",
       "      <td>0.006791</td>\n",
       "      <td>0.585441</td>\n",
       "    </tr>\n",
       "    <tr>\n",
       "      <th>feature_110</th>\n",
       "      <td>0.006763</td>\n",
       "      <td>0.592204</td>\n",
       "    </tr>\n",
       "    <tr>\n",
       "      <th>feature_104</th>\n",
       "      <td>0.006638</td>\n",
       "      <td>0.598843</td>\n",
       "    </tr>\n",
       "    <tr>\n",
       "      <th>feature_17</th>\n",
       "      <td>0.006612</td>\n",
       "      <td>0.605454</td>\n",
       "    </tr>\n",
       "    <tr>\n",
       "      <th>feature_98</th>\n",
       "      <td>0.006562</td>\n",
       "      <td>0.612017</td>\n",
       "    </tr>\n",
       "    <tr>\n",
       "      <th>feature_72</th>\n",
       "      <td>0.006495</td>\n",
       "      <td>0.618512</td>\n",
       "    </tr>\n",
       "    <tr>\n",
       "      <th>feature_33</th>\n",
       "      <td>0.006413</td>\n",
       "      <td>0.624926</td>\n",
       "    </tr>\n",
       "    <tr>\n",
       "      <th>feature_86</th>\n",
       "      <td>0.006362</td>\n",
       "      <td>0.631288</td>\n",
       "    </tr>\n",
       "    <tr>\n",
       "      <th>feature_59</th>\n",
       "      <td>0.006295</td>\n",
       "      <td>0.637583</td>\n",
       "    </tr>\n",
       "    <tr>\n",
       "      <th>feature_122</th>\n",
       "      <td>0.006252</td>\n",
       "      <td>0.643836</td>\n",
       "    </tr>\n",
       "    <tr>\n",
       "      <th>feature_50</th>\n",
       "      <td>0.006219</td>\n",
       "      <td>0.650055</td>\n",
       "    </tr>\n",
       "    <tr>\n",
       "      <th>feature_56</th>\n",
       "      <td>0.006215</td>\n",
       "      <td>0.656270</td>\n",
       "    </tr>\n",
       "    <tr>\n",
       "      <th>feature_45_macd_minus_signal</th>\n",
       "      <td>0.006193</td>\n",
       "      <td>0.662463</td>\n",
       "    </tr>\n",
       "    <tr>\n",
       "      <th>feature_123</th>\n",
       "      <td>0.006159</td>\n",
       "      <td>0.668621</td>\n",
       "    </tr>\n",
       "    <tr>\n",
       "      <th>feature_47</th>\n",
       "      <td>0.006151</td>\n",
       "      <td>0.674773</td>\n",
       "    </tr>\n",
       "    <tr>\n",
       "      <th>feature_32</th>\n",
       "      <td>0.006134</td>\n",
       "      <td>0.680906</td>\n",
       "    </tr>\n",
       "    <tr>\n",
       "      <th>feature_21</th>\n",
       "      <td>0.006129</td>\n",
       "      <td>0.687035</td>\n",
       "    </tr>\n",
       "    <tr>\n",
       "      <th>feature_48</th>\n",
       "      <td>0.006113</td>\n",
       "      <td>0.693148</td>\n",
       "    </tr>\n",
       "    <tr>\n",
       "      <th>feature_29</th>\n",
       "      <td>0.006101</td>\n",
       "      <td>0.699249</td>\n",
       "    </tr>\n",
       "    <tr>\n",
       "      <th>feature_24</th>\n",
       "      <td>0.005995</td>\n",
       "      <td>0.705244</td>\n",
       "    </tr>\n",
       "    <tr>\n",
       "      <th>feature_22</th>\n",
       "      <td>0.005977</td>\n",
       "      <td>0.711221</td>\n",
       "    </tr>\n",
       "    <tr>\n",
       "      <th>feature_23</th>\n",
       "      <td>0.005940</td>\n",
       "      <td>0.717161</td>\n",
       "    </tr>\n",
       "    <tr>\n",
       "      <th>feature_30</th>\n",
       "      <td>0.005938</td>\n",
       "      <td>0.723100</td>\n",
       "    </tr>\n",
       "    <tr>\n",
       "      <th>feature_46</th>\n",
       "      <td>0.005921</td>\n",
       "      <td>0.729020</td>\n",
       "    </tr>\n",
       "    <tr>\n",
       "      <th>feature_49</th>\n",
       "      <td>0.005891</td>\n",
       "      <td>0.734912</td>\n",
       "    </tr>\n",
       "    <tr>\n",
       "      <th>feature_36</th>\n",
       "      <td>0.005884</td>\n",
       "      <td>0.740795</td>\n",
       "    </tr>\n",
       "    <tr>\n",
       "      <th>feature_93</th>\n",
       "      <td>0.005883</td>\n",
       "      <td>0.746678</td>\n",
       "    </tr>\n",
       "    <tr>\n",
       "      <th>feature_26</th>\n",
       "      <td>0.005865</td>\n",
       "      <td>0.752543</td>\n",
       "    </tr>\n",
       "    <tr>\n",
       "      <th>feature_10</th>\n",
       "      <td>0.005842</td>\n",
       "      <td>0.758385</td>\n",
       "    </tr>\n",
       "    <tr>\n",
       "      <th>feature_54</th>\n",
       "      <td>0.005837</td>\n",
       "      <td>0.764223</td>\n",
       "    </tr>\n",
       "    <tr>\n",
       "      <th>feature_35</th>\n",
       "      <td>0.005812</td>\n",
       "      <td>0.770035</td>\n",
       "    </tr>\n",
       "    <tr>\n",
       "      <th>feature_19</th>\n",
       "      <td>0.005730</td>\n",
       "      <td>0.775765</td>\n",
       "    </tr>\n",
       "    <tr>\n",
       "      <th>feature_117</th>\n",
       "      <td>0.005729</td>\n",
       "      <td>0.781495</td>\n",
       "    </tr>\n",
       "    <tr>\n",
       "      <th>feature_111</th>\n",
       "      <td>0.005689</td>\n",
       "      <td>0.787184</td>\n",
       "    </tr>\n",
       "    <tr>\n",
       "      <th>feature_25</th>\n",
       "      <td>0.005675</td>\n",
       "      <td>0.792859</td>\n",
       "    </tr>\n",
       "    <tr>\n",
       "      <th>feature_80</th>\n",
       "      <td>0.005671</td>\n",
       "      <td>0.798530</td>\n",
       "    </tr>\n",
       "    <tr>\n",
       "      <th>feature_11</th>\n",
       "      <td>0.005670</td>\n",
       "      <td>0.804200</td>\n",
       "    </tr>\n",
       "    <tr>\n",
       "      <th>feature_34</th>\n",
       "      <td>0.005659</td>\n",
       "      <td>0.809859</td>\n",
       "    </tr>\n",
       "    <tr>\n",
       "      <th>feature_12</th>\n",
       "      <td>0.005635</td>\n",
       "      <td>0.815494</td>\n",
       "    </tr>\n",
       "    <tr>\n",
       "      <th>feature_51</th>\n",
       "      <td>0.005618</td>\n",
       "      <td>0.821113</td>\n",
       "    </tr>\n",
       "    <tr>\n",
       "      <th>feature_105</th>\n",
       "      <td>0.005614</td>\n",
       "      <td>0.826726</td>\n",
       "    </tr>\n",
       "    <tr>\n",
       "      <th>feature_87</th>\n",
       "      <td>0.005465</td>\n",
       "      <td>0.832191</td>\n",
       "    </tr>\n",
       "    <tr>\n",
       "      <th>weight</th>\n",
       "      <td>0.005453</td>\n",
       "      <td>0.837645</td>\n",
       "    </tr>\n",
       "    <tr>\n",
       "      <th>feature_85</th>\n",
       "      <td>0.005420</td>\n",
       "      <td>0.843065</td>\n",
       "    </tr>\n",
       "    <tr>\n",
       "      <th>feature_99</th>\n",
       "      <td>0.005378</td>\n",
       "      <td>0.848443</td>\n",
       "    </tr>\n",
       "    <tr>\n",
       "      <th>feature_9</th>\n",
       "      <td>0.005365</td>\n",
       "      <td>0.853808</td>\n",
       "    </tr>\n",
       "    <tr>\n",
       "      <th>feature_74</th>\n",
       "      <td>0.005318</td>\n",
       "      <td>0.859126</td>\n",
       "    </tr>\n",
       "    <tr>\n",
       "      <th>feature_1</th>\n",
       "      <td>0.005291</td>\n",
       "      <td>0.864417</td>\n",
       "    </tr>\n",
       "    <tr>\n",
       "      <th>feature_43_macd_minus_signal</th>\n",
       "      <td>0.005280</td>\n",
       "      <td>0.869696</td>\n",
       "    </tr>\n",
       "    <tr>\n",
       "      <th>feature_2</th>\n",
       "      <td>0.005249</td>\n",
       "      <td>0.874945</td>\n",
       "    </tr>\n",
       "    <tr>\n",
       "      <th>feature_73</th>\n",
       "      <td>0.005233</td>\n",
       "      <td>0.880178</td>\n",
       "    </tr>\n",
       "    <tr>\n",
       "      <th>feature_16</th>\n",
       "      <td>0.005213</td>\n",
       "      <td>0.885391</td>\n",
       "    </tr>\n",
       "    <tr>\n",
       "      <th>feature_109</th>\n",
       "      <td>0.005162</td>\n",
       "      <td>0.890553</td>\n",
       "    </tr>\n",
       "    <tr>\n",
       "      <th>feature_112</th>\n",
       "      <td>0.005159</td>\n",
       "      <td>0.895712</td>\n",
       "    </tr>\n",
       "    <tr>\n",
       "      <th>feature_52</th>\n",
       "      <td>0.005151</td>\n",
       "      <td>0.900863</td>\n",
       "    </tr>\n",
       "    <tr>\n",
       "      <th>feature_44_macd_minus_signal</th>\n",
       "      <td>0.005142</td>\n",
       "      <td>0.906005</td>\n",
       "    </tr>\n",
       "    <tr>\n",
       "      <th>feature_41_macd_minus_signal</th>\n",
       "      <td>0.005117</td>\n",
       "      <td>0.911122</td>\n",
       "    </tr>\n",
       "    <tr>\n",
       "      <th>feature_79</th>\n",
       "      <td>0.005067</td>\n",
       "      <td>0.916189</td>\n",
       "    </tr>\n",
       "    <tr>\n",
       "      <th>feature_100</th>\n",
       "      <td>0.005035</td>\n",
       "      <td>0.921224</td>\n",
       "    </tr>\n",
       "    <tr>\n",
       "      <th>feature_81</th>\n",
       "      <td>0.005026</td>\n",
       "      <td>0.926250</td>\n",
       "    </tr>\n",
       "    <tr>\n",
       "      <th>feature_75</th>\n",
       "      <td>0.005023</td>\n",
       "      <td>0.931273</td>\n",
       "    </tr>\n",
       "    <tr>\n",
       "      <th>feature_82</th>\n",
       "      <td>0.005004</td>\n",
       "      <td>0.936276</td>\n",
       "    </tr>\n",
       "    <tr>\n",
       "      <th>feature_118</th>\n",
       "      <td>0.004993</td>\n",
       "      <td>0.941270</td>\n",
       "    </tr>\n",
       "    <tr>\n",
       "      <th>feature_14</th>\n",
       "      <td>0.004993</td>\n",
       "      <td>0.946262</td>\n",
       "    </tr>\n",
       "    <tr>\n",
       "      <th>feature_13</th>\n",
       "      <td>0.004992</td>\n",
       "      <td>0.951255</td>\n",
       "    </tr>\n",
       "    <tr>\n",
       "      <th>feature_97</th>\n",
       "      <td>0.004973</td>\n",
       "      <td>0.956228</td>\n",
       "    </tr>\n",
       "    <tr>\n",
       "      <th>feature_91</th>\n",
       "      <td>0.004958</td>\n",
       "      <td>0.961186</td>\n",
       "    </tr>\n",
       "    <tr>\n",
       "      <th>feature_88</th>\n",
       "      <td>0.004951</td>\n",
       "      <td>0.966137</td>\n",
       "    </tr>\n",
       "    <tr>\n",
       "      <th>feature_76</th>\n",
       "      <td>0.004923</td>\n",
       "      <td>0.971061</td>\n",
       "    </tr>\n",
       "    <tr>\n",
       "      <th>feature_94</th>\n",
       "      <td>0.004912</td>\n",
       "      <td>0.975973</td>\n",
       "    </tr>\n",
       "    <tr>\n",
       "      <th>feature_115</th>\n",
       "      <td>0.004900</td>\n",
       "      <td>0.980872</td>\n",
       "    </tr>\n",
       "    <tr>\n",
       "      <th>feature_15</th>\n",
       "      <td>0.004892</td>\n",
       "      <td>0.985765</td>\n",
       "    </tr>\n",
       "    <tr>\n",
       "      <th>feature_106</th>\n",
       "      <td>0.004866</td>\n",
       "      <td>0.990631</td>\n",
       "    </tr>\n",
       "    <tr>\n",
       "      <th>feature_103</th>\n",
       "      <td>0.004790</td>\n",
       "      <td>0.995420</td>\n",
       "    </tr>\n",
       "    <tr>\n",
       "      <th>feature_42_macd_minus_signal</th>\n",
       "      <td>0.004580</td>\n",
       "      <td>1.000000</td>\n",
       "    </tr>\n",
       "  </tbody>\n",
       "</table>\n",
       "</div>"
      ],
      "text/plain": [
       "                              Importance  % feat importance cumulé\n",
       "feature_0                       0.021084                  0.021084\n",
       "feature_43                      0.017231                  0.038315\n",
       "feature_41                      0.014910                  0.053225\n",
       "feature_45                      0.014330                  0.067555\n",
       "feature_42                      0.014323                  0.081878\n",
       "feature_44                      0.014081                  0.095959\n",
       "feature_62                      0.012728                  0.108687\n",
       "feature_63                      0.012209                  0.120896\n",
       "feature_60                      0.012165                  0.133062\n",
       "feature_5                       0.011994                  0.145056\n",
       "feature_61                      0.011762                  0.156818\n",
       "feature_6                       0.011724                  0.168542\n",
       "feature_39                      0.011410                  0.179952\n",
       "feature_83                      0.010719                  0.190671\n",
       "feature_27                      0.010573                  0.201244\n",
       "feature_3                       0.010552                  0.211796\n",
       "feature_40                      0.010059                  0.221856\n",
       "feature_4                       0.009759                  0.231615\n",
       "feature_120                     0.009617                  0.241232\n",
       "feature_107                     0.009592                  0.250825\n",
       "feature_38                      0.009569                  0.260394\n",
       "feature_124                     0.009532                  0.269926\n",
       "feature_77                      0.009444                  0.279370\n",
       "feature_37                      0.009394                  0.288765\n",
       "feature_119                     0.009305                  0.298070\n",
       "feature_55                      0.009136                  0.307206\n",
       "feature_89                      0.009064                  0.316270\n",
       "feature_113                     0.009038                  0.325308\n",
       "feature_121                     0.008837                  0.334145\n",
       "feature_95                      0.008674                  0.342818\n",
       "feature_28                      0.008635                  0.351453\n",
       "feature_125                     0.008603                  0.360057\n",
       "feature_64                      0.008589                  0.368646\n",
       "feature_101                     0.008217                  0.376863\n",
       "feature_90                      0.008171                  0.385034\n",
       "feature_68                      0.008112                  0.393146\n",
       "feature_114                     0.008081                  0.401226\n",
       "feature_71                      0.008053                  0.409280\n",
       "feature_102                     0.007957                  0.417237\n",
       "feature_126                     0.007916                  0.425152\n",
       "feature_66                      0.007791                  0.432943\n",
       "feature_57                      0.007682                  0.440626\n",
       "feature_69                      0.007681                  0.448307\n",
       "feature_108                     0.007615                  0.455922\n",
       "feature_67                      0.007570                  0.463492\n",
       "feature_84                      0.007546                  0.471039\n",
       "feature_116                     0.007545                  0.478584\n",
       "feature_127                     0.007533                  0.486116\n",
       "feature_96                      0.007428                  0.493544\n",
       "feature_128                     0.007357                  0.500902\n",
       "feature_31                      0.007353                  0.508255\n",
       "feature_8                       0.007236                  0.515490\n",
       "feature_92                      0.007189                  0.522679\n",
       "feature_70                      0.007122                  0.529801\n",
       "feature_58                      0.007106                  0.536907\n",
       "feature_65                      0.007076                  0.543983\n",
       "feature_20                      0.007021                  0.551004\n",
       "feature_7                       0.006966                  0.557970\n",
       "feature_78                      0.006964                  0.564934\n",
       "feature_129                     0.006889                  0.571824\n",
       "feature_53                      0.006826                  0.578650\n",
       "feature_18                      0.006791                  0.585441\n",
       "feature_110                     0.006763                  0.592204\n",
       "feature_104                     0.006638                  0.598843\n",
       "feature_17                      0.006612                  0.605454\n",
       "feature_98                      0.006562                  0.612017\n",
       "feature_72                      0.006495                  0.618512\n",
       "feature_33                      0.006413                  0.624926\n",
       "feature_86                      0.006362                  0.631288\n",
       "feature_59                      0.006295                  0.637583\n",
       "feature_122                     0.006252                  0.643836\n",
       "feature_50                      0.006219                  0.650055\n",
       "feature_56                      0.006215                  0.656270\n",
       "feature_45_macd_minus_signal    0.006193                  0.662463\n",
       "feature_123                     0.006159                  0.668621\n",
       "feature_47                      0.006151                  0.674773\n",
       "feature_32                      0.006134                  0.680906\n",
       "feature_21                      0.006129                  0.687035\n",
       "feature_48                      0.006113                  0.693148\n",
       "feature_29                      0.006101                  0.699249\n",
       "feature_24                      0.005995                  0.705244\n",
       "feature_22                      0.005977                  0.711221\n",
       "feature_23                      0.005940                  0.717161\n",
       "feature_30                      0.005938                  0.723100\n",
       "feature_46                      0.005921                  0.729020\n",
       "feature_49                      0.005891                  0.734912\n",
       "feature_36                      0.005884                  0.740795\n",
       "feature_93                      0.005883                  0.746678\n",
       "feature_26                      0.005865                  0.752543\n",
       "feature_10                      0.005842                  0.758385\n",
       "feature_54                      0.005837                  0.764223\n",
       "feature_35                      0.005812                  0.770035\n",
       "feature_19                      0.005730                  0.775765\n",
       "feature_117                     0.005729                  0.781495\n",
       "feature_111                     0.005689                  0.787184\n",
       "feature_25                      0.005675                  0.792859\n",
       "feature_80                      0.005671                  0.798530\n",
       "feature_11                      0.005670                  0.804200\n",
       "feature_34                      0.005659                  0.809859\n",
       "feature_12                      0.005635                  0.815494\n",
       "feature_51                      0.005618                  0.821113\n",
       "feature_105                     0.005614                  0.826726\n",
       "feature_87                      0.005465                  0.832191\n",
       "weight                          0.005453                  0.837645\n",
       "feature_85                      0.005420                  0.843065\n",
       "feature_99                      0.005378                  0.848443\n",
       "feature_9                       0.005365                  0.853808\n",
       "feature_74                      0.005318                  0.859126\n",
       "feature_1                       0.005291                  0.864417\n",
       "feature_43_macd_minus_signal    0.005280                  0.869696\n",
       "feature_2                       0.005249                  0.874945\n",
       "feature_73                      0.005233                  0.880178\n",
       "feature_16                      0.005213                  0.885391\n",
       "feature_109                     0.005162                  0.890553\n",
       "feature_112                     0.005159                  0.895712\n",
       "feature_52                      0.005151                  0.900863\n",
       "feature_44_macd_minus_signal    0.005142                  0.906005\n",
       "feature_41_macd_minus_signal    0.005117                  0.911122\n",
       "feature_79                      0.005067                  0.916189\n",
       "feature_100                     0.005035                  0.921224\n",
       "feature_81                      0.005026                  0.926250\n",
       "feature_75                      0.005023                  0.931273\n",
       "feature_82                      0.005004                  0.936276\n",
       "feature_118                     0.004993                  0.941270\n",
       "feature_14                      0.004993                  0.946262\n",
       "feature_13                      0.004992                  0.951255\n",
       "feature_97                      0.004973                  0.956228\n",
       "feature_91                      0.004958                  0.961186\n",
       "feature_88                      0.004951                  0.966137\n",
       "feature_76                      0.004923                  0.971061\n",
       "feature_94                      0.004912                  0.975973\n",
       "feature_115                     0.004900                  0.980872\n",
       "feature_15                      0.004892                  0.985765\n",
       "feature_106                     0.004866                  0.990631\n",
       "feature_103                     0.004790                  0.995420\n",
       "feature_42_macd_minus_signal    0.004580                  1.000000"
      ]
     },
     "metadata": {},
     "output_type": "display_data"
    }
   ],
   "source": [
    "if (XGBOOST_MODEL_INTERFACE == 'sklearn'):\n",
    "    display(df_featimportance_cumulated)"
   ]
  },
  {
   "cell_type": "code",
   "execution_count": 111,
   "metadata": {
    "execution": {
     "iopub.execute_input": "2020-12-16T14:35:17.900654Z",
     "iopub.status.busy": "2020-12-16T14:35:17.899634Z",
     "iopub.status.idle": "2020-12-16T14:35:17.905008Z",
     "shell.execute_reply": "2020-12-16T14:35:17.905451Z"
    },
    "papermill": {
     "duration": 0.125709,
     "end_time": "2020-12-16T14:35:17.905565",
     "exception": false,
     "start_time": "2020-12-16T14:35:17.779856",
     "status": "completed"
    },
    "tags": []
   },
   "outputs": [
    {
     "data": {
      "text/html": [
       "<div>\n",
       "<style scoped>\n",
       "    .dataframe tbody tr th:only-of-type {\n",
       "        vertical-align: middle;\n",
       "    }\n",
       "\n",
       "    .dataframe tbody tr th {\n",
       "        vertical-align: top;\n",
       "    }\n",
       "\n",
       "    .dataframe thead th {\n",
       "        text-align: right;\n",
       "    }\n",
       "</style>\n",
       "<table border=\"1\" class=\"dataframe\">\n",
       "  <thead>\n",
       "    <tr style=\"text-align: right;\">\n",
       "      <th></th>\n",
       "      <th>Importance</th>\n",
       "      <th>% feat importance cumulé</th>\n",
       "    </tr>\n",
       "  </thead>\n",
       "  <tbody>\n",
       "    <tr>\n",
       "      <th>feature_0</th>\n",
       "      <td>0.021084</td>\n",
       "      <td>0.021084</td>\n",
       "    </tr>\n",
       "    <tr>\n",
       "      <th>feature_43</th>\n",
       "      <td>0.017231</td>\n",
       "      <td>0.038315</td>\n",
       "    </tr>\n",
       "    <tr>\n",
       "      <th>feature_41</th>\n",
       "      <td>0.014910</td>\n",
       "      <td>0.053225</td>\n",
       "    </tr>\n",
       "    <tr>\n",
       "      <th>feature_45</th>\n",
       "      <td>0.014330</td>\n",
       "      <td>0.067555</td>\n",
       "    </tr>\n",
       "    <tr>\n",
       "      <th>feature_42</th>\n",
       "      <td>0.014323</td>\n",
       "      <td>0.081878</td>\n",
       "    </tr>\n",
       "    <tr>\n",
       "      <th>feature_44</th>\n",
       "      <td>0.014081</td>\n",
       "      <td>0.095959</td>\n",
       "    </tr>\n",
       "    <tr>\n",
       "      <th>feature_62</th>\n",
       "      <td>0.012728</td>\n",
       "      <td>0.108687</td>\n",
       "    </tr>\n",
       "    <tr>\n",
       "      <th>feature_63</th>\n",
       "      <td>0.012209</td>\n",
       "      <td>0.120896</td>\n",
       "    </tr>\n",
       "    <tr>\n",
       "      <th>feature_60</th>\n",
       "      <td>0.012165</td>\n",
       "      <td>0.133062</td>\n",
       "    </tr>\n",
       "    <tr>\n",
       "      <th>feature_5</th>\n",
       "      <td>0.011994</td>\n",
       "      <td>0.145056</td>\n",
       "    </tr>\n",
       "    <tr>\n",
       "      <th>feature_61</th>\n",
       "      <td>0.011762</td>\n",
       "      <td>0.156818</td>\n",
       "    </tr>\n",
       "    <tr>\n",
       "      <th>feature_6</th>\n",
       "      <td>0.011724</td>\n",
       "      <td>0.168542</td>\n",
       "    </tr>\n",
       "    <tr>\n",
       "      <th>feature_39</th>\n",
       "      <td>0.011410</td>\n",
       "      <td>0.179952</td>\n",
       "    </tr>\n",
       "    <tr>\n",
       "      <th>feature_83</th>\n",
       "      <td>0.010719</td>\n",
       "      <td>0.190671</td>\n",
       "    </tr>\n",
       "    <tr>\n",
       "      <th>feature_27</th>\n",
       "      <td>0.010573</td>\n",
       "      <td>0.201244</td>\n",
       "    </tr>\n",
       "    <tr>\n",
       "      <th>feature_3</th>\n",
       "      <td>0.010552</td>\n",
       "      <td>0.211796</td>\n",
       "    </tr>\n",
       "    <tr>\n",
       "      <th>feature_40</th>\n",
       "      <td>0.010059</td>\n",
       "      <td>0.221856</td>\n",
       "    </tr>\n",
       "    <tr>\n",
       "      <th>feature_4</th>\n",
       "      <td>0.009759</td>\n",
       "      <td>0.231615</td>\n",
       "    </tr>\n",
       "    <tr>\n",
       "      <th>feature_120</th>\n",
       "      <td>0.009617</td>\n",
       "      <td>0.241232</td>\n",
       "    </tr>\n",
       "    <tr>\n",
       "      <th>feature_107</th>\n",
       "      <td>0.009592</td>\n",
       "      <td>0.250825</td>\n",
       "    </tr>\n",
       "    <tr>\n",
       "      <th>feature_38</th>\n",
       "      <td>0.009569</td>\n",
       "      <td>0.260394</td>\n",
       "    </tr>\n",
       "    <tr>\n",
       "      <th>feature_124</th>\n",
       "      <td>0.009532</td>\n",
       "      <td>0.269926</td>\n",
       "    </tr>\n",
       "    <tr>\n",
       "      <th>feature_77</th>\n",
       "      <td>0.009444</td>\n",
       "      <td>0.279370</td>\n",
       "    </tr>\n",
       "    <tr>\n",
       "      <th>feature_37</th>\n",
       "      <td>0.009394</td>\n",
       "      <td>0.288765</td>\n",
       "    </tr>\n",
       "    <tr>\n",
       "      <th>feature_119</th>\n",
       "      <td>0.009305</td>\n",
       "      <td>0.298070</td>\n",
       "    </tr>\n",
       "    <tr>\n",
       "      <th>feature_55</th>\n",
       "      <td>0.009136</td>\n",
       "      <td>0.307206</td>\n",
       "    </tr>\n",
       "    <tr>\n",
       "      <th>feature_89</th>\n",
       "      <td>0.009064</td>\n",
       "      <td>0.316270</td>\n",
       "    </tr>\n",
       "    <tr>\n",
       "      <th>feature_113</th>\n",
       "      <td>0.009038</td>\n",
       "      <td>0.325308</td>\n",
       "    </tr>\n",
       "    <tr>\n",
       "      <th>feature_121</th>\n",
       "      <td>0.008837</td>\n",
       "      <td>0.334145</td>\n",
       "    </tr>\n",
       "    <tr>\n",
       "      <th>feature_95</th>\n",
       "      <td>0.008674</td>\n",
       "      <td>0.342818</td>\n",
       "    </tr>\n",
       "    <tr>\n",
       "      <th>feature_28</th>\n",
       "      <td>0.008635</td>\n",
       "      <td>0.351453</td>\n",
       "    </tr>\n",
       "    <tr>\n",
       "      <th>feature_125</th>\n",
       "      <td>0.008603</td>\n",
       "      <td>0.360057</td>\n",
       "    </tr>\n",
       "    <tr>\n",
       "      <th>feature_64</th>\n",
       "      <td>0.008589</td>\n",
       "      <td>0.368646</td>\n",
       "    </tr>\n",
       "    <tr>\n",
       "      <th>feature_101</th>\n",
       "      <td>0.008217</td>\n",
       "      <td>0.376863</td>\n",
       "    </tr>\n",
       "    <tr>\n",
       "      <th>feature_90</th>\n",
       "      <td>0.008171</td>\n",
       "      <td>0.385034</td>\n",
       "    </tr>\n",
       "    <tr>\n",
       "      <th>feature_68</th>\n",
       "      <td>0.008112</td>\n",
       "      <td>0.393146</td>\n",
       "    </tr>\n",
       "    <tr>\n",
       "      <th>feature_114</th>\n",
       "      <td>0.008081</td>\n",
       "      <td>0.401226</td>\n",
       "    </tr>\n",
       "    <tr>\n",
       "      <th>feature_71</th>\n",
       "      <td>0.008053</td>\n",
       "      <td>0.409280</td>\n",
       "    </tr>\n",
       "    <tr>\n",
       "      <th>feature_102</th>\n",
       "      <td>0.007957</td>\n",
       "      <td>0.417237</td>\n",
       "    </tr>\n",
       "    <tr>\n",
       "      <th>feature_126</th>\n",
       "      <td>0.007916</td>\n",
       "      <td>0.425152</td>\n",
       "    </tr>\n",
       "    <tr>\n",
       "      <th>feature_66</th>\n",
       "      <td>0.007791</td>\n",
       "      <td>0.432943</td>\n",
       "    </tr>\n",
       "    <tr>\n",
       "      <th>feature_57</th>\n",
       "      <td>0.007682</td>\n",
       "      <td>0.440626</td>\n",
       "    </tr>\n",
       "    <tr>\n",
       "      <th>feature_69</th>\n",
       "      <td>0.007681</td>\n",
       "      <td>0.448307</td>\n",
       "    </tr>\n",
       "    <tr>\n",
       "      <th>feature_108</th>\n",
       "      <td>0.007615</td>\n",
       "      <td>0.455922</td>\n",
       "    </tr>\n",
       "    <tr>\n",
       "      <th>feature_67</th>\n",
       "      <td>0.007570</td>\n",
       "      <td>0.463492</td>\n",
       "    </tr>\n",
       "    <tr>\n",
       "      <th>feature_84</th>\n",
       "      <td>0.007546</td>\n",
       "      <td>0.471039</td>\n",
       "    </tr>\n",
       "    <tr>\n",
       "      <th>feature_116</th>\n",
       "      <td>0.007545</td>\n",
       "      <td>0.478584</td>\n",
       "    </tr>\n",
       "    <tr>\n",
       "      <th>feature_127</th>\n",
       "      <td>0.007533</td>\n",
       "      <td>0.486116</td>\n",
       "    </tr>\n",
       "    <tr>\n",
       "      <th>feature_96</th>\n",
       "      <td>0.007428</td>\n",
       "      <td>0.493544</td>\n",
       "    </tr>\n",
       "    <tr>\n",
       "      <th>feature_128</th>\n",
       "      <td>0.007357</td>\n",
       "      <td>0.500902</td>\n",
       "    </tr>\n",
       "    <tr>\n",
       "      <th>feature_31</th>\n",
       "      <td>0.007353</td>\n",
       "      <td>0.508255</td>\n",
       "    </tr>\n",
       "    <tr>\n",
       "      <th>feature_8</th>\n",
       "      <td>0.007236</td>\n",
       "      <td>0.515490</td>\n",
       "    </tr>\n",
       "    <tr>\n",
       "      <th>feature_92</th>\n",
       "      <td>0.007189</td>\n",
       "      <td>0.522679</td>\n",
       "    </tr>\n",
       "    <tr>\n",
       "      <th>feature_70</th>\n",
       "      <td>0.007122</td>\n",
       "      <td>0.529801</td>\n",
       "    </tr>\n",
       "    <tr>\n",
       "      <th>feature_58</th>\n",
       "      <td>0.007106</td>\n",
       "      <td>0.536907</td>\n",
       "    </tr>\n",
       "    <tr>\n",
       "      <th>feature_65</th>\n",
       "      <td>0.007076</td>\n",
       "      <td>0.543983</td>\n",
       "    </tr>\n",
       "    <tr>\n",
       "      <th>feature_20</th>\n",
       "      <td>0.007021</td>\n",
       "      <td>0.551004</td>\n",
       "    </tr>\n",
       "    <tr>\n",
       "      <th>feature_7</th>\n",
       "      <td>0.006966</td>\n",
       "      <td>0.557970</td>\n",
       "    </tr>\n",
       "    <tr>\n",
       "      <th>feature_78</th>\n",
       "      <td>0.006964</td>\n",
       "      <td>0.564934</td>\n",
       "    </tr>\n",
       "    <tr>\n",
       "      <th>feature_129</th>\n",
       "      <td>0.006889</td>\n",
       "      <td>0.571824</td>\n",
       "    </tr>\n",
       "    <tr>\n",
       "      <th>feature_53</th>\n",
       "      <td>0.006826</td>\n",
       "      <td>0.578650</td>\n",
       "    </tr>\n",
       "    <tr>\n",
       "      <th>feature_18</th>\n",
       "      <td>0.006791</td>\n",
       "      <td>0.585441</td>\n",
       "    </tr>\n",
       "    <tr>\n",
       "      <th>feature_110</th>\n",
       "      <td>0.006763</td>\n",
       "      <td>0.592204</td>\n",
       "    </tr>\n",
       "    <tr>\n",
       "      <th>feature_104</th>\n",
       "      <td>0.006638</td>\n",
       "      <td>0.598843</td>\n",
       "    </tr>\n",
       "    <tr>\n",
       "      <th>feature_17</th>\n",
       "      <td>0.006612</td>\n",
       "      <td>0.605454</td>\n",
       "    </tr>\n",
       "    <tr>\n",
       "      <th>feature_98</th>\n",
       "      <td>0.006562</td>\n",
       "      <td>0.612017</td>\n",
       "    </tr>\n",
       "    <tr>\n",
       "      <th>feature_72</th>\n",
       "      <td>0.006495</td>\n",
       "      <td>0.618512</td>\n",
       "    </tr>\n",
       "    <tr>\n",
       "      <th>feature_33</th>\n",
       "      <td>0.006413</td>\n",
       "      <td>0.624926</td>\n",
       "    </tr>\n",
       "    <tr>\n",
       "      <th>feature_86</th>\n",
       "      <td>0.006362</td>\n",
       "      <td>0.631288</td>\n",
       "    </tr>\n",
       "    <tr>\n",
       "      <th>feature_59</th>\n",
       "      <td>0.006295</td>\n",
       "      <td>0.637583</td>\n",
       "    </tr>\n",
       "    <tr>\n",
       "      <th>feature_122</th>\n",
       "      <td>0.006252</td>\n",
       "      <td>0.643836</td>\n",
       "    </tr>\n",
       "    <tr>\n",
       "      <th>feature_50</th>\n",
       "      <td>0.006219</td>\n",
       "      <td>0.650055</td>\n",
       "    </tr>\n",
       "    <tr>\n",
       "      <th>feature_56</th>\n",
       "      <td>0.006215</td>\n",
       "      <td>0.656270</td>\n",
       "    </tr>\n",
       "    <tr>\n",
       "      <th>feature_45_macd_minus_signal</th>\n",
       "      <td>0.006193</td>\n",
       "      <td>0.662463</td>\n",
       "    </tr>\n",
       "    <tr>\n",
       "      <th>feature_123</th>\n",
       "      <td>0.006159</td>\n",
       "      <td>0.668621</td>\n",
       "    </tr>\n",
       "    <tr>\n",
       "      <th>feature_47</th>\n",
       "      <td>0.006151</td>\n",
       "      <td>0.674773</td>\n",
       "    </tr>\n",
       "    <tr>\n",
       "      <th>feature_32</th>\n",
       "      <td>0.006134</td>\n",
       "      <td>0.680906</td>\n",
       "    </tr>\n",
       "    <tr>\n",
       "      <th>feature_21</th>\n",
       "      <td>0.006129</td>\n",
       "      <td>0.687035</td>\n",
       "    </tr>\n",
       "    <tr>\n",
       "      <th>feature_48</th>\n",
       "      <td>0.006113</td>\n",
       "      <td>0.693148</td>\n",
       "    </tr>\n",
       "    <tr>\n",
       "      <th>feature_29</th>\n",
       "      <td>0.006101</td>\n",
       "      <td>0.699249</td>\n",
       "    </tr>\n",
       "    <tr>\n",
       "      <th>feature_24</th>\n",
       "      <td>0.005995</td>\n",
       "      <td>0.705244</td>\n",
       "    </tr>\n",
       "    <tr>\n",
       "      <th>feature_22</th>\n",
       "      <td>0.005977</td>\n",
       "      <td>0.711221</td>\n",
       "    </tr>\n",
       "    <tr>\n",
       "      <th>feature_23</th>\n",
       "      <td>0.005940</td>\n",
       "      <td>0.717161</td>\n",
       "    </tr>\n",
       "    <tr>\n",
       "      <th>feature_30</th>\n",
       "      <td>0.005938</td>\n",
       "      <td>0.723100</td>\n",
       "    </tr>\n",
       "    <tr>\n",
       "      <th>feature_46</th>\n",
       "      <td>0.005921</td>\n",
       "      <td>0.729020</td>\n",
       "    </tr>\n",
       "    <tr>\n",
       "      <th>feature_49</th>\n",
       "      <td>0.005891</td>\n",
       "      <td>0.734912</td>\n",
       "    </tr>\n",
       "    <tr>\n",
       "      <th>feature_36</th>\n",
       "      <td>0.005884</td>\n",
       "      <td>0.740795</td>\n",
       "    </tr>\n",
       "    <tr>\n",
       "      <th>feature_93</th>\n",
       "      <td>0.005883</td>\n",
       "      <td>0.746678</td>\n",
       "    </tr>\n",
       "    <tr>\n",
       "      <th>feature_26</th>\n",
       "      <td>0.005865</td>\n",
       "      <td>0.752543</td>\n",
       "    </tr>\n",
       "    <tr>\n",
       "      <th>feature_10</th>\n",
       "      <td>0.005842</td>\n",
       "      <td>0.758385</td>\n",
       "    </tr>\n",
       "    <tr>\n",
       "      <th>feature_54</th>\n",
       "      <td>0.005837</td>\n",
       "      <td>0.764223</td>\n",
       "    </tr>\n",
       "    <tr>\n",
       "      <th>feature_35</th>\n",
       "      <td>0.005812</td>\n",
       "      <td>0.770035</td>\n",
       "    </tr>\n",
       "    <tr>\n",
       "      <th>feature_19</th>\n",
       "      <td>0.005730</td>\n",
       "      <td>0.775765</td>\n",
       "    </tr>\n",
       "    <tr>\n",
       "      <th>feature_117</th>\n",
       "      <td>0.005729</td>\n",
       "      <td>0.781495</td>\n",
       "    </tr>\n",
       "    <tr>\n",
       "      <th>feature_111</th>\n",
       "      <td>0.005689</td>\n",
       "      <td>0.787184</td>\n",
       "    </tr>\n",
       "    <tr>\n",
       "      <th>feature_25</th>\n",
       "      <td>0.005675</td>\n",
       "      <td>0.792859</td>\n",
       "    </tr>\n",
       "    <tr>\n",
       "      <th>feature_80</th>\n",
       "      <td>0.005671</td>\n",
       "      <td>0.798530</td>\n",
       "    </tr>\n",
       "    <tr>\n",
       "      <th>feature_11</th>\n",
       "      <td>0.005670</td>\n",
       "      <td>0.804200</td>\n",
       "    </tr>\n",
       "    <tr>\n",
       "      <th>feature_34</th>\n",
       "      <td>0.005659</td>\n",
       "      <td>0.809859</td>\n",
       "    </tr>\n",
       "    <tr>\n",
       "      <th>feature_12</th>\n",
       "      <td>0.005635</td>\n",
       "      <td>0.815494</td>\n",
       "    </tr>\n",
       "    <tr>\n",
       "      <th>feature_51</th>\n",
       "      <td>0.005618</td>\n",
       "      <td>0.821113</td>\n",
       "    </tr>\n",
       "    <tr>\n",
       "      <th>feature_105</th>\n",
       "      <td>0.005614</td>\n",
       "      <td>0.826726</td>\n",
       "    </tr>\n",
       "    <tr>\n",
       "      <th>feature_87</th>\n",
       "      <td>0.005465</td>\n",
       "      <td>0.832191</td>\n",
       "    </tr>\n",
       "    <tr>\n",
       "      <th>weight</th>\n",
       "      <td>0.005453</td>\n",
       "      <td>0.837645</td>\n",
       "    </tr>\n",
       "    <tr>\n",
       "      <th>feature_85</th>\n",
       "      <td>0.005420</td>\n",
       "      <td>0.843065</td>\n",
       "    </tr>\n",
       "    <tr>\n",
       "      <th>feature_99</th>\n",
       "      <td>0.005378</td>\n",
       "      <td>0.848443</td>\n",
       "    </tr>\n",
       "    <tr>\n",
       "      <th>feature_9</th>\n",
       "      <td>0.005365</td>\n",
       "      <td>0.853808</td>\n",
       "    </tr>\n",
       "    <tr>\n",
       "      <th>feature_74</th>\n",
       "      <td>0.005318</td>\n",
       "      <td>0.859126</td>\n",
       "    </tr>\n",
       "    <tr>\n",
       "      <th>feature_1</th>\n",
       "      <td>0.005291</td>\n",
       "      <td>0.864417</td>\n",
       "    </tr>\n",
       "    <tr>\n",
       "      <th>feature_43_macd_minus_signal</th>\n",
       "      <td>0.005280</td>\n",
       "      <td>0.869696</td>\n",
       "    </tr>\n",
       "    <tr>\n",
       "      <th>feature_2</th>\n",
       "      <td>0.005249</td>\n",
       "      <td>0.874945</td>\n",
       "    </tr>\n",
       "    <tr>\n",
       "      <th>feature_73</th>\n",
       "      <td>0.005233</td>\n",
       "      <td>0.880178</td>\n",
       "    </tr>\n",
       "    <tr>\n",
       "      <th>feature_16</th>\n",
       "      <td>0.005213</td>\n",
       "      <td>0.885391</td>\n",
       "    </tr>\n",
       "    <tr>\n",
       "      <th>feature_109</th>\n",
       "      <td>0.005162</td>\n",
       "      <td>0.890553</td>\n",
       "    </tr>\n",
       "    <tr>\n",
       "      <th>feature_112</th>\n",
       "      <td>0.005159</td>\n",
       "      <td>0.895712</td>\n",
       "    </tr>\n",
       "    <tr>\n",
       "      <th>feature_52</th>\n",
       "      <td>0.005151</td>\n",
       "      <td>0.900863</td>\n",
       "    </tr>\n",
       "    <tr>\n",
       "      <th>feature_44_macd_minus_signal</th>\n",
       "      <td>0.005142</td>\n",
       "      <td>0.906005</td>\n",
       "    </tr>\n",
       "    <tr>\n",
       "      <th>feature_41_macd_minus_signal</th>\n",
       "      <td>0.005117</td>\n",
       "      <td>0.911122</td>\n",
       "    </tr>\n",
       "    <tr>\n",
       "      <th>feature_79</th>\n",
       "      <td>0.005067</td>\n",
       "      <td>0.916189</td>\n",
       "    </tr>\n",
       "    <tr>\n",
       "      <th>feature_100</th>\n",
       "      <td>0.005035</td>\n",
       "      <td>0.921224</td>\n",
       "    </tr>\n",
       "    <tr>\n",
       "      <th>feature_81</th>\n",
       "      <td>0.005026</td>\n",
       "      <td>0.926250</td>\n",
       "    </tr>\n",
       "    <tr>\n",
       "      <th>feature_75</th>\n",
       "      <td>0.005023</td>\n",
       "      <td>0.931273</td>\n",
       "    </tr>\n",
       "    <tr>\n",
       "      <th>feature_82</th>\n",
       "      <td>0.005004</td>\n",
       "      <td>0.936276</td>\n",
       "    </tr>\n",
       "    <tr>\n",
       "      <th>feature_118</th>\n",
       "      <td>0.004993</td>\n",
       "      <td>0.941270</td>\n",
       "    </tr>\n",
       "    <tr>\n",
       "      <th>feature_14</th>\n",
       "      <td>0.004993</td>\n",
       "      <td>0.946262</td>\n",
       "    </tr>\n",
       "    <tr>\n",
       "      <th>feature_13</th>\n",
       "      <td>0.004992</td>\n",
       "      <td>0.951255</td>\n",
       "    </tr>\n",
       "    <tr>\n",
       "      <th>feature_97</th>\n",
       "      <td>0.004973</td>\n",
       "      <td>0.956228</td>\n",
       "    </tr>\n",
       "    <tr>\n",
       "      <th>feature_91</th>\n",
       "      <td>0.004958</td>\n",
       "      <td>0.961186</td>\n",
       "    </tr>\n",
       "    <tr>\n",
       "      <th>feature_88</th>\n",
       "      <td>0.004951</td>\n",
       "      <td>0.966137</td>\n",
       "    </tr>\n",
       "    <tr>\n",
       "      <th>feature_76</th>\n",
       "      <td>0.004923</td>\n",
       "      <td>0.971061</td>\n",
       "    </tr>\n",
       "    <tr>\n",
       "      <th>feature_94</th>\n",
       "      <td>0.004912</td>\n",
       "      <td>0.975973</td>\n",
       "    </tr>\n",
       "    <tr>\n",
       "      <th>feature_115</th>\n",
       "      <td>0.004900</td>\n",
       "      <td>0.980872</td>\n",
       "    </tr>\n",
       "    <tr>\n",
       "      <th>feature_15</th>\n",
       "      <td>0.004892</td>\n",
       "      <td>0.985765</td>\n",
       "    </tr>\n",
       "    <tr>\n",
       "      <th>feature_106</th>\n",
       "      <td>0.004866</td>\n",
       "      <td>0.990631</td>\n",
       "    </tr>\n",
       "    <tr>\n",
       "      <th>feature_103</th>\n",
       "      <td>0.004790</td>\n",
       "      <td>0.995420</td>\n",
       "    </tr>\n",
       "    <tr>\n",
       "      <th>feature_42_macd_minus_signal</th>\n",
       "      <td>0.004580</td>\n",
       "      <td>1.000000</td>\n",
       "    </tr>\n",
       "  </tbody>\n",
       "</table>\n",
       "</div>"
      ],
      "text/plain": [
       "                              Importance  % feat importance cumulé\n",
       "feature_0                       0.021084                  0.021084\n",
       "feature_43                      0.017231                  0.038315\n",
       "feature_41                      0.014910                  0.053225\n",
       "feature_45                      0.014330                  0.067555\n",
       "feature_42                      0.014323                  0.081878\n",
       "feature_44                      0.014081                  0.095959\n",
       "feature_62                      0.012728                  0.108687\n",
       "feature_63                      0.012209                  0.120896\n",
       "feature_60                      0.012165                  0.133062\n",
       "feature_5                       0.011994                  0.145056\n",
       "feature_61                      0.011762                  0.156818\n",
       "feature_6                       0.011724                  0.168542\n",
       "feature_39                      0.011410                  0.179952\n",
       "feature_83                      0.010719                  0.190671\n",
       "feature_27                      0.010573                  0.201244\n",
       "feature_3                       0.010552                  0.211796\n",
       "feature_40                      0.010059                  0.221856\n",
       "feature_4                       0.009759                  0.231615\n",
       "feature_120                     0.009617                  0.241232\n",
       "feature_107                     0.009592                  0.250825\n",
       "feature_38                      0.009569                  0.260394\n",
       "feature_124                     0.009532                  0.269926\n",
       "feature_77                      0.009444                  0.279370\n",
       "feature_37                      0.009394                  0.288765\n",
       "feature_119                     0.009305                  0.298070\n",
       "feature_55                      0.009136                  0.307206\n",
       "feature_89                      0.009064                  0.316270\n",
       "feature_113                     0.009038                  0.325308\n",
       "feature_121                     0.008837                  0.334145\n",
       "feature_95                      0.008674                  0.342818\n",
       "feature_28                      0.008635                  0.351453\n",
       "feature_125                     0.008603                  0.360057\n",
       "feature_64                      0.008589                  0.368646\n",
       "feature_101                     0.008217                  0.376863\n",
       "feature_90                      0.008171                  0.385034\n",
       "feature_68                      0.008112                  0.393146\n",
       "feature_114                     0.008081                  0.401226\n",
       "feature_71                      0.008053                  0.409280\n",
       "feature_102                     0.007957                  0.417237\n",
       "feature_126                     0.007916                  0.425152\n",
       "feature_66                      0.007791                  0.432943\n",
       "feature_57                      0.007682                  0.440626\n",
       "feature_69                      0.007681                  0.448307\n",
       "feature_108                     0.007615                  0.455922\n",
       "feature_67                      0.007570                  0.463492\n",
       "feature_84                      0.007546                  0.471039\n",
       "feature_116                     0.007545                  0.478584\n",
       "feature_127                     0.007533                  0.486116\n",
       "feature_96                      0.007428                  0.493544\n",
       "feature_128                     0.007357                  0.500902\n",
       "feature_31                      0.007353                  0.508255\n",
       "feature_8                       0.007236                  0.515490\n",
       "feature_92                      0.007189                  0.522679\n",
       "feature_70                      0.007122                  0.529801\n",
       "feature_58                      0.007106                  0.536907\n",
       "feature_65                      0.007076                  0.543983\n",
       "feature_20                      0.007021                  0.551004\n",
       "feature_7                       0.006966                  0.557970\n",
       "feature_78                      0.006964                  0.564934\n",
       "feature_129                     0.006889                  0.571824\n",
       "feature_53                      0.006826                  0.578650\n",
       "feature_18                      0.006791                  0.585441\n",
       "feature_110                     0.006763                  0.592204\n",
       "feature_104                     0.006638                  0.598843\n",
       "feature_17                      0.006612                  0.605454\n",
       "feature_98                      0.006562                  0.612017\n",
       "feature_72                      0.006495                  0.618512\n",
       "feature_33                      0.006413                  0.624926\n",
       "feature_86                      0.006362                  0.631288\n",
       "feature_59                      0.006295                  0.637583\n",
       "feature_122                     0.006252                  0.643836\n",
       "feature_50                      0.006219                  0.650055\n",
       "feature_56                      0.006215                  0.656270\n",
       "feature_45_macd_minus_signal    0.006193                  0.662463\n",
       "feature_123                     0.006159                  0.668621\n",
       "feature_47                      0.006151                  0.674773\n",
       "feature_32                      0.006134                  0.680906\n",
       "feature_21                      0.006129                  0.687035\n",
       "feature_48                      0.006113                  0.693148\n",
       "feature_29                      0.006101                  0.699249\n",
       "feature_24                      0.005995                  0.705244\n",
       "feature_22                      0.005977                  0.711221\n",
       "feature_23                      0.005940                  0.717161\n",
       "feature_30                      0.005938                  0.723100\n",
       "feature_46                      0.005921                  0.729020\n",
       "feature_49                      0.005891                  0.734912\n",
       "feature_36                      0.005884                  0.740795\n",
       "feature_93                      0.005883                  0.746678\n",
       "feature_26                      0.005865                  0.752543\n",
       "feature_10                      0.005842                  0.758385\n",
       "feature_54                      0.005837                  0.764223\n",
       "feature_35                      0.005812                  0.770035\n",
       "feature_19                      0.005730                  0.775765\n",
       "feature_117                     0.005729                  0.781495\n",
       "feature_111                     0.005689                  0.787184\n",
       "feature_25                      0.005675                  0.792859\n",
       "feature_80                      0.005671                  0.798530\n",
       "feature_11                      0.005670                  0.804200\n",
       "feature_34                      0.005659                  0.809859\n",
       "feature_12                      0.005635                  0.815494\n",
       "feature_51                      0.005618                  0.821113\n",
       "feature_105                     0.005614                  0.826726\n",
       "feature_87                      0.005465                  0.832191\n",
       "weight                          0.005453                  0.837645\n",
       "feature_85                      0.005420                  0.843065\n",
       "feature_99                      0.005378                  0.848443\n",
       "feature_9                       0.005365                  0.853808\n",
       "feature_74                      0.005318                  0.859126\n",
       "feature_1                       0.005291                  0.864417\n",
       "feature_43_macd_minus_signal    0.005280                  0.869696\n",
       "feature_2                       0.005249                  0.874945\n",
       "feature_73                      0.005233                  0.880178\n",
       "feature_16                      0.005213                  0.885391\n",
       "feature_109                     0.005162                  0.890553\n",
       "feature_112                     0.005159                  0.895712\n",
       "feature_52                      0.005151                  0.900863\n",
       "feature_44_macd_minus_signal    0.005142                  0.906005\n",
       "feature_41_macd_minus_signal    0.005117                  0.911122\n",
       "feature_79                      0.005067                  0.916189\n",
       "feature_100                     0.005035                  0.921224\n",
       "feature_81                      0.005026                  0.926250\n",
       "feature_75                      0.005023                  0.931273\n",
       "feature_82                      0.005004                  0.936276\n",
       "feature_118                     0.004993                  0.941270\n",
       "feature_14                      0.004993                  0.946262\n",
       "feature_13                      0.004992                  0.951255\n",
       "feature_97                      0.004973                  0.956228\n",
       "feature_91                      0.004958                  0.961186\n",
       "feature_88                      0.004951                  0.966137\n",
       "feature_76                      0.004923                  0.971061\n",
       "feature_94                      0.004912                  0.975973\n",
       "feature_115                     0.004900                  0.980872\n",
       "feature_15                      0.004892                  0.985765\n",
       "feature_106                     0.004866                  0.990631\n",
       "feature_103                     0.004790                  0.995420\n",
       "feature_42_macd_minus_signal    0.004580                  1.000000"
      ]
     },
     "metadata": {},
     "output_type": "display_data"
    }
   ],
   "source": [
    "if (XGBOOST_MODEL_INTERFACE == 'sklearn'):\n",
    "    display(df_featimportance_cumulated)"
   ]
  },
  {
   "cell_type": "code",
   "execution_count": 112,
   "metadata": {
    "execution": {
     "iopub.execute_input": "2020-12-16T14:35:18.108289Z",
     "iopub.status.busy": "2020-12-16T14:35:18.107432Z",
     "iopub.status.idle": "2020-12-16T14:35:18.110130Z",
     "shell.execute_reply": "2020-12-16T14:35:18.109711Z"
    },
    "papermill": {
     "duration": 0.106003,
     "end_time": "2020-12-16T14:35:18.110235",
     "exception": false,
     "start_time": "2020-12-16T14:35:18.004232",
     "status": "completed"
    },
    "tags": []
   },
   "outputs": [],
   "source": [
    "if (XGBOOST_MODEL_INTERFACE == 'xgboost'):\n",
    "    df_gains_cumulated = pd.concat([df_gains, pd.DataFrame({'% Gain cumulé' : (df_gains['gain'] / df_gains['gain'].sum()).cumsum()})], axis=1)"
   ]
  },
  {
   "cell_type": "code",
   "execution_count": 113,
   "metadata": {
    "execution": {
     "iopub.execute_input": "2020-12-16T14:35:18.311890Z",
     "iopub.status.busy": "2020-12-16T14:35:18.311101Z",
     "iopub.status.idle": "2020-12-16T14:35:18.313519Z",
     "shell.execute_reply": "2020-12-16T14:35:18.314089Z"
    },
    "papermill": {
     "duration": 0.105484,
     "end_time": "2020-12-16T14:35:18.314226",
     "exception": false,
     "start_time": "2020-12-16T14:35:18.208742",
     "status": "completed"
    },
    "tags": []
   },
   "outputs": [],
   "source": [
    "if (XGBOOST_MODEL_INTERFACE == 'xgboost'):\n",
    "    display(df_gains_cumulated)"
   ]
  },
  {
   "cell_type": "code",
   "execution_count": 114,
   "metadata": {
    "execution": {
     "iopub.execute_input": "2020-12-16T14:35:18.514646Z",
     "iopub.status.busy": "2020-12-16T14:35:18.513918Z",
     "iopub.status.idle": "2020-12-16T14:35:18.675611Z",
     "shell.execute_reply": "2020-12-16T14:35:18.676014Z"
    },
    "papermill": {
     "duration": 0.264215,
     "end_time": "2020-12-16T14:35:18.676138",
     "exception": false,
     "start_time": "2020-12-16T14:35:18.411923",
     "status": "completed"
    },
    "tags": []
   },
   "outputs": [
    {
     "ename": "NameError",
     "evalue": "name 'df_gains_cumulated' is not defined",
     "output_type": "error",
     "traceback": [
      "\u001b[0;31m---------------------------------------------------------------------------\u001b[0m",
      "\u001b[0;31mNameError\u001b[0m                                 Traceback (most recent call last)",
      "\u001b[0;32m<ipython-input-114-0468026d6501>\u001b[0m in \u001b[0;36m<module>\u001b[0;34m\u001b[0m\n\u001b[0;32m----> 1\u001b[0;31m \u001b[0mdf_gains_cumulated\u001b[0m\u001b[0;34m\u001b[0m\u001b[0;34m\u001b[0m\u001b[0m\n\u001b[0m",
      "\u001b[0;31mNameError\u001b[0m: name 'df_gains_cumulated' is not defined"
     ]
    }
   ],
   "source": [
    "df_gains_cumulated"
   ]
  }
 ],
 "metadata": {
  "kernelspec": {
   "display_name": "Python 3",
   "language": "python",
   "name": "python3"
  },
  "language_info": {
   "codemirror_mode": {
    "name": "ipython",
    "version": 3
   },
   "file_extension": ".py",
   "mimetype": "text/x-python",
   "name": "python",
   "nbconvert_exporter": "python",
   "pygments_lexer": "ipython3",
   "version": "3.7.4"
  },
  "papermill": {
   "duration": 466.764225,
   "end_time": "2020-12-16T14:35:19.188257",
   "environment_variables": {},
   "exception": null,
   "input_path": "__notebook__.ipynb",
   "output_path": "__notebook__.ipynb",
   "parameters": {},
   "start_time": "2020-12-16T14:27:32.424032",
   "version": "2.1.0"
  }
 },
 "nbformat": 4,
 "nbformat_minor": 4
}
