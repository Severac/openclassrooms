{
 "cells": [
  {
   "cell_type": "code",
   "execution_count": 1,
   "metadata": {
    "_cell_guid": "b1076dfc-b9ad-4769-8c92-a6c4dae69d19",
    "_uuid": "8f2839f25d086af736a60e9eeb907d3b93b6e0e5",
    "execution": {
     "iopub.execute_input": "2020-11-29T08:29:16.567453Z",
     "iopub.status.busy": "2020-11-29T08:29:16.562404Z",
     "iopub.status.idle": "2020-11-29T08:29:51.442794Z",
     "shell.execute_reply": "2020-11-29T08:29:51.440345Z"
    },
    "papermill": {
     "duration": 34.915552,
     "end_time": "2020-11-29T08:29:51.442955",
     "exception": false,
     "start_time": "2020-11-29T08:29:16.527403",
     "status": "completed"
    },
    "tags": []
   },
   "outputs": [
    {
     "name": "stdout",
     "output_type": "stream",
     "text": [
      "Processing /kaggle/input/python-datatable/datatable-0.11.0-cp37-cp37m-manylinux2010_x86_64.whl\r\n",
      "Installing collected packages: datatable\r\n",
      "Successfully installed datatable-0.11.0\r\n"
     ]
    },
    {
     "data": {
      "text/html": [
       "<style type='text/css'>\n",
       ".datatable table.frame { margin-bottom: 0; }\n",
       ".datatable table.frame thead { border-bottom: none; }\n",
       ".datatable table.frame tr.coltypes td {  color: #FFFFFF;  line-height: 6px;  padding: 0 0.5em;}\n",
       ".datatable .bool    { background: #DDDD99; }\n",
       ".datatable .object  { background: #565656; }\n",
       ".datatable .int     { background: #5D9E5D; }\n",
       ".datatable .float   { background: #4040CC; }\n",
       ".datatable .str     { background: #CC4040; }\n",
       ".datatable .row_index {  background: var(--jp-border-color3);  border-right: 1px solid var(--jp-border-color0);  color: var(--jp-ui-font-color3);  font-size: 9px;}\n",
       ".datatable .frame tr.coltypes .row_index {  background: var(--jp-border-color0);}\n",
       ".datatable th:nth-child(2) { padding-left: 12px; }\n",
       ".datatable .hellipsis {  color: var(--jp-cell-editor-border-color);}\n",
       ".datatable .vellipsis {  background: var(--jp-layout-color0);  color: var(--jp-cell-editor-border-color);}\n",
       ".datatable .na {  color: var(--jp-cell-editor-border-color);  font-size: 80%;}\n",
       ".datatable .footer { font-size: 9px; }\n",
       ".datatable .frame_dimensions {  background: var(--jp-border-color3);  border-top: 1px solid var(--jp-border-color0);  color: var(--jp-ui-font-color3);  display: inline-block;  opacity: 0.6;  padding: 1px 10px 1px 5px;}\n",
       "</style>\n"
      ],
      "text/plain": [
       "<IPython.core.display.HTML object>"
      ]
     },
     "metadata": {},
     "output_type": "display_data"
    },
    {
     "name": "stdout",
     "output_type": "stream",
     "text": [
      "/kaggle/input/python-datatable/datatable-0.11.0-cp37-cp37m-manylinux2010_x86_64.whl\n",
      "/kaggle/input/jane-street-market-prediction/example_test.csv\n",
      "/kaggle/input/jane-street-market-prediction/example_sample_submission.csv\n",
      "/kaggle/input/jane-street-market-prediction/features.csv\n",
      "/kaggle/input/jane-street-market-prediction/train.csv\n",
      "/kaggle/input/jane-street-market-prediction/janestreet/__init__.py\n",
      "/kaggle/input/jane-street-market-prediction/janestreet/competition.cpython-37m-x86_64-linux-gnu.so\n"
     ]
    }
   ],
   "source": [
    "# This Python 3 environment comes with many helpful analytics libraries installed\n",
    "# It is defined by the kaggle/python Docker image: https://github.com/kaggle/docker-python\n",
    "# For example, here's several helpful packages to load\n",
    "\n",
    "import numpy as np # linear algebra\n",
    "import pandas as pd # data processing, CSV file I/O (e.g. pd.read_csv)\n",
    "\n",
    "import matplotlib.pyplot as plt\n",
    "import seaborn as sns\n",
    "\n",
    "from sklearn.model_selection import train_test_split\n",
    "from sklearn.metrics import accuracy_score\n",
    "from xgboost import XGBClassifier\n",
    "\n",
    "\n",
    "import janestreet\n",
    "env = janestreet.make_env() # initialize the environment\n",
    "\n",
    "#!pip install datatable # Internet is not activated in this competition\n",
    "!pip install ../input/python-datatable/datatable-0.11.0-cp37-cp37m-manylinux2010_x86_64.whl\n",
    "import datatable as dt\n",
    "\n",
    "\n",
    "import xgboost as xgb\n",
    "\n",
    "# Input data files are available in the read-only \"../input/\" directory\n",
    "# For example, running this (by clicking run or pressing Shift+Enter) will list all files under the input directory\n",
    "\n",
    "import os\n",
    "for dirname, _, filenames in os.walk('/kaggle/input'):\n",
    "    for filename in filenames:\n",
    "        print(os.path.join(dirname, filename))\n",
    "\n",
    "# You can write up to 20GB to the current directory (/kaggle/working/) that gets preserved as output when you create a version using \"Save & Run All\" \n",
    "# You can also write temporary files to /kaggle/temp/, but they won't be saved outside of the current session\n",
    "\n",
    "INPUT_DIR = '/kaggle/input/jane-street-market-prediction/'"
   ]
  },
  {
   "cell_type": "code",
   "execution_count": 2,
   "metadata": {
    "execution": {
     "iopub.execute_input": "2020-11-29T08:29:51.554192Z",
     "iopub.status.busy": "2020-11-29T08:29:51.552085Z",
     "iopub.status.idle": "2020-11-29T08:29:51.555213Z",
     "shell.execute_reply": "2020-11-29T08:29:51.555909Z"
    },
    "papermill": {
     "duration": 0.061737,
     "end_time": "2020-11-29T08:29:51.556070",
     "exception": false,
     "start_time": "2020-11-29T08:29:51.494333",
     "status": "completed"
    },
    "tags": []
   },
   "outputs": [],
   "source": [
    "import xgboost as xgb"
   ]
  },
  {
   "cell_type": "code",
   "execution_count": 3,
   "metadata": {
    "execution": {
     "iopub.execute_input": "2020-11-29T08:29:51.646971Z",
     "iopub.status.busy": "2020-11-29T08:29:51.646013Z",
     "iopub.status.idle": "2020-11-29T08:29:51.648487Z",
     "shell.execute_reply": "2020-11-29T08:29:51.647768Z"
    },
    "papermill": {
     "duration": 0.049547,
     "end_time": "2020-11-29T08:29:51.648615",
     "exception": false,
     "start_time": "2020-11-29T08:29:51.599068",
     "status": "completed"
    },
    "tags": []
   },
   "outputs": [],
   "source": [
    "import pickle\n",
    "MODEL_FILE = '/kaggle/working/model.pickle'"
   ]
  },
  {
   "cell_type": "markdown",
   "metadata": {
    "papermill": {
     "duration": 0.040474,
     "end_time": "2020-11-29T08:29:51.729563",
     "exception": false,
     "start_time": "2020-11-29T08:29:51.689089",
     "status": "completed"
    },
    "tags": []
   },
   "source": [
    "Thanks to following notebooks :  \n",
    "https://www.kaggle.com/drcapa/jane-street-market-prediction-starter-xgb/output?select=example_sample_submission.csv"
   ]
  },
  {
   "cell_type": "markdown",
   "metadata": {
    "papermill": {
     "duration": 0.04036,
     "end_time": "2020-11-29T08:29:51.810856",
     "exception": false,
     "start_time": "2020-11-29T08:29:51.770496",
     "status": "completed"
    },
    "tags": []
   },
   "source": [
    "# Load data"
   ]
  },
  {
   "cell_type": "code",
   "execution_count": 4,
   "metadata": {
    "_cell_guid": "79c7e3d0-c299-4dcb-8224-4455121ee9b0",
    "_uuid": "d629ff2d2480ee46fbb7e2d37f6b5fab8052498a",
    "execution": {
     "iopub.execute_input": "2020-11-29T08:29:51.904418Z",
     "iopub.status.busy": "2020-11-29T08:29:51.903103Z",
     "iopub.status.idle": "2020-11-29T08:30:26.562474Z",
     "shell.execute_reply": "2020-11-29T08:30:26.563308Z"
    },
    "papermill": {
     "duration": 34.710677,
     "end_time": "2020-11-29T08:30:26.563526",
     "exception": false,
     "start_time": "2020-11-29T08:29:51.852849",
     "status": "completed"
    },
    "tags": []
   },
   "outputs": [
    {
     "name": "stdout",
     "output_type": "stream",
     "text": [
      "CPU times: user 34.3 s, sys: 13.1 s, total: 47.4 s\n",
      "Wall time: 34.6 s\n"
     ]
    }
   ],
   "source": [
    "%%time\n",
    "# Thanks to his notebook for this fast loading : https://www.kaggle.com/carlmcbrideellis/jane-street-eda-of-day-0-and-feature-importance\n",
    "train_data_datatable = dt.fread('../input/jane-street-market-prediction/train.csv')\n",
    "df = train_data_datatable.to_pandas()\n",
    "\n",
    "# Thanks to this notebook to gain memory usage : https://www.kaggle.com/jorijnsmit/one-liner-to-halve-your-memory-usage\n",
    "float64_cols = df.select_dtypes(include='float64').columns\n",
    "mapper = {col_name: np.float32 for col_name in float64_cols}\n",
    "df = df.astype(mapper)"
   ]
  },
  {
   "cell_type": "code",
   "execution_count": 5,
   "metadata": {
    "execution": {
     "iopub.execute_input": "2020-11-29T08:30:26.632024Z",
     "iopub.status.busy": "2020-11-29T08:30:26.630232Z",
     "iopub.status.idle": "2020-11-29T08:30:26.639279Z",
     "shell.execute_reply": "2020-11-29T08:30:26.639906Z"
    },
    "papermill": {
     "duration": 0.045307,
     "end_time": "2020-11-29T08:30:26.640044",
     "exception": false,
     "start_time": "2020-11-29T08:30:26.594737",
     "status": "completed"
    },
    "tags": []
   },
   "outputs": [
    {
     "data": {
      "text/plain": [
       "976.0646"
      ]
     },
     "execution_count": 5,
     "metadata": {},
     "output_type": "execute_result"
    }
   ],
   "source": [
    "df['resp'].sum()"
   ]
  },
  {
   "cell_type": "markdown",
   "metadata": {
    "papermill": {
     "duration": 0.02835,
     "end_time": "2020-11-29T08:30:26.697315",
     "exception": false,
     "start_time": "2020-11-29T08:30:26.668965",
     "status": "completed"
    },
    "tags": []
   },
   "source": [
    "# Calculate target to predict"
   ]
  },
  {
   "cell_type": "code",
   "execution_count": 6,
   "metadata": {
    "execution": {
     "iopub.execute_input": "2020-11-29T08:30:26.760758Z",
     "iopub.status.busy": "2020-11-29T08:30:26.759786Z",
     "iopub.status.idle": "2020-11-29T08:30:27.158495Z",
     "shell.execute_reply": "2020-11-29T08:30:27.159056Z"
    },
    "papermill": {
     "duration": 0.432732,
     "end_time": "2020-11-29T08:30:27.159197",
     "exception": false,
     "start_time": "2020-11-29T08:30:26.726465",
     "status": "completed"
    },
    "tags": []
   },
   "outputs": [
    {
     "data": {
      "text/plain": [
       "0.0022803622763603927"
      ]
     },
     "execution_count": 6,
     "metadata": {},
     "output_type": "execute_result"
    }
   ],
   "source": [
    "df[df['resp'] > 0]['resp'].quantile(0.20)"
   ]
  },
  {
   "cell_type": "code",
   "execution_count": 7,
   "metadata": {
    "execution": {
     "iopub.execute_input": "2020-11-29T08:30:27.227160Z",
     "iopub.status.busy": "2020-11-29T08:30:27.226277Z",
     "iopub.status.idle": "2020-11-29T08:30:28.093786Z",
     "shell.execute_reply": "2020-11-29T08:30:28.095100Z"
    },
    "papermill": {
     "duration": 0.905351,
     "end_time": "2020-11-29T08:30:28.095517",
     "exception": false,
     "start_time": "2020-11-29T08:30:27.190166",
     "status": "completed"
    },
    "tags": []
   },
   "outputs": [
    {
     "data": {
      "text/plain": [
       "0.799999834021315"
      ]
     },
     "execution_count": 7,
     "metadata": {},
     "output_type": "execute_result"
    }
   ],
   "source": [
    "df[df['resp'] > 0.0022803622763603927].shape[0] / df[df['resp'] > 0].shape[0]"
   ]
  },
  {
   "cell_type": "code",
   "execution_count": 8,
   "metadata": {
    "execution": {
     "iopub.execute_input": "2020-11-29T08:30:28.171137Z",
     "iopub.status.busy": "2020-11-29T08:30:28.170366Z",
     "iopub.status.idle": "2020-11-29T08:30:28.178439Z",
     "shell.execute_reply": "2020-11-29T08:30:28.177931Z"
    },
    "papermill": {
     "duration": 0.043268,
     "end_time": "2020-11-29T08:30:28.178538",
     "exception": false,
     "start_time": "2020-11-29T08:30:28.135270",
     "status": "completed"
    },
    "tags": []
   },
   "outputs": [
    {
     "data": {
      "text/plain": [
       "0.4484615921974182"
      ]
     },
     "execution_count": 8,
     "metadata": {},
     "output_type": "execute_result"
    }
   ],
   "source": [
    "df['resp'].max()"
   ]
  },
  {
   "cell_type": "code",
   "execution_count": 9,
   "metadata": {
    "execution": {
     "iopub.execute_input": "2020-11-29T08:30:28.247876Z",
     "iopub.status.busy": "2020-11-29T08:30:28.246834Z",
     "iopub.status.idle": "2020-11-29T08:30:28.263371Z",
     "shell.execute_reply": "2020-11-29T08:30:28.262894Z"
    },
    "papermill": {
     "duration": 0.053325,
     "end_time": "2020-11-29T08:30:28.263473",
     "exception": false,
     "start_time": "2020-11-29T08:30:28.210148",
     "status": "completed"
    },
    "tags": []
   },
   "outputs": [],
   "source": [
    "df['resp_positive'] = ((df['resp'])>0)*1"
   ]
  },
  {
   "cell_type": "markdown",
   "metadata": {
    "papermill": {
     "duration": 0.030641,
     "end_time": "2020-11-29T08:30:28.325179",
     "exception": false,
     "start_time": "2020-11-29T08:30:28.294538",
     "status": "completed"
    },
    "tags": []
   },
   "source": [
    "# Split train test"
   ]
  },
  {
   "cell_type": "code",
   "execution_count": 10,
   "metadata": {
    "execution": {
     "iopub.execute_input": "2020-11-29T08:30:28.394362Z",
     "iopub.status.busy": "2020-11-29T08:30:28.392644Z",
     "iopub.status.idle": "2020-11-29T08:30:32.277272Z",
     "shell.execute_reply": "2020-11-29T08:30:32.276633Z"
    },
    "papermill": {
     "duration": 3.921178,
     "end_time": "2020-11-29T08:30:32.277386",
     "exception": false,
     "start_time": "2020-11-29T08:30:28.356208",
     "status": "completed"
    },
    "tags": []
   },
   "outputs": [],
   "source": [
    "df_train, df_test, y_train, y_test = train_test_split(df, df['resp_positive'], test_size = 0.1, stratify=df['resp_positive'], random_state=42)"
   ]
  },
  {
   "cell_type": "code",
   "execution_count": 11,
   "metadata": {
    "execution": {
     "iopub.execute_input": "2020-11-29T08:30:32.347952Z",
     "iopub.status.busy": "2020-11-29T08:30:32.347038Z",
     "iopub.status.idle": "2020-11-29T08:30:32.349388Z",
     "shell.execute_reply": "2020-11-29T08:30:32.349899Z"
    },
    "papermill": {
     "duration": 0.039766,
     "end_time": "2020-11-29T08:30:32.350034",
     "exception": false,
     "start_time": "2020-11-29T08:30:32.310268",
     "status": "completed"
    },
    "tags": []
   },
   "outputs": [],
   "source": [
    "df_test.reset_index(drop=True, inplace=True)"
   ]
  },
  {
   "cell_type": "markdown",
   "metadata": {
    "papermill": {
     "duration": 0.030357,
     "end_time": "2020-11-29T08:30:32.411762",
     "exception": false,
     "start_time": "2020-11-29T08:30:32.381405",
     "status": "completed"
    },
    "tags": []
   },
   "source": [
    "# Data clean"
   ]
  },
  {
   "cell_type": "code",
   "execution_count": 12,
   "metadata": {
    "execution": {
     "iopub.execute_input": "2020-11-29T08:30:32.478883Z",
     "iopub.status.busy": "2020-11-29T08:30:32.478286Z",
     "iopub.status.idle": "2020-11-29T08:30:32.640038Z",
     "shell.execute_reply": "2020-11-29T08:30:32.639451Z"
    },
    "papermill": {
     "duration": 0.197368,
     "end_time": "2020-11-29T08:30:32.640159",
     "exception": false,
     "start_time": "2020-11-29T08:30:32.442791",
     "status": "completed"
    },
    "tags": []
   },
   "outputs": [],
   "source": [
    "cols_with_missing_train = [col for col in df_train.columns if df_train[col].isnull().any()]"
   ]
  },
  {
   "cell_type": "code",
   "execution_count": 13,
   "metadata": {
    "execution": {
     "iopub.execute_input": "2020-11-29T08:30:33.073353Z",
     "iopub.status.busy": "2020-11-29T08:30:33.072193Z",
     "iopub.status.idle": "2020-11-29T08:30:33.442362Z",
     "shell.execute_reply": "2020-11-29T08:30:33.441640Z"
    },
    "papermill": {
     "duration": 0.771442,
     "end_time": "2020-11-29T08:30:33.442482",
     "exception": false,
     "start_time": "2020-11-29T08:30:32.671040",
     "status": "completed"
    },
    "tags": []
   },
   "outputs": [],
   "source": [
    "#df_medians = df_train[cols_with_missing_train].median()\n",
    "#df_train.loc[:, cols_with_missing_train].fillna(df_medians, inplace=True)\n",
    "df_train.loc[:, cols_with_missing_train].fillna(-999, inplace=True)"
   ]
  },
  {
   "cell_type": "code",
   "execution_count": 14,
   "metadata": {
    "execution": {
     "iopub.execute_input": "2020-11-29T08:30:33.539127Z",
     "iopub.status.busy": "2020-11-29T08:30:33.537802Z",
     "iopub.status.idle": "2020-11-29T08:30:33.574175Z",
     "shell.execute_reply": "2020-11-29T08:30:33.573623Z"
    },
    "papermill": {
     "duration": 0.099939,
     "end_time": "2020-11-29T08:30:33.574282",
     "exception": false,
     "start_time": "2020-11-29T08:30:33.474343",
     "status": "completed"
    },
    "tags": []
   },
   "outputs": [],
   "source": [
    "#df_test.loc[:, cols_with_missing_train].fillna(df_medians, inplace=True)\n",
    "df_test.loc[:, cols_with_missing_train].fillna(-999, inplace=True)"
   ]
  },
  {
   "cell_type": "markdown",
   "metadata": {
    "papermill": {
     "duration": 0.031428,
     "end_time": "2020-11-29T08:30:33.637709",
     "exception": false,
     "start_time": "2020-11-29T08:30:33.606281",
     "status": "completed"
    },
    "tags": []
   },
   "source": [
    "# Feature definition"
   ]
  },
  {
   "cell_type": "code",
   "execution_count": 15,
   "metadata": {
    "execution": {
     "iopub.execute_input": "2020-11-29T08:30:33.704146Z",
     "iopub.status.busy": "2020-11-29T08:30:33.703344Z",
     "iopub.status.idle": "2020-11-29T08:30:33.707603Z",
     "shell.execute_reply": "2020-11-29T08:30:33.707077Z"
    },
    "papermill": {
     "duration": 0.039408,
     "end_time": "2020-11-29T08:30:33.707711",
     "exception": false,
     "start_time": "2020-11-29T08:30:33.668303",
     "status": "completed"
    },
    "tags": []
   },
   "outputs": [],
   "source": [
    "FEATURES_LIST = ['feature_'+str(i) for i in range(130)]"
   ]
  },
  {
   "cell_type": "markdown",
   "metadata": {
    "papermill": {
     "duration": 0.030672,
     "end_time": "2020-11-29T08:30:33.770053",
     "exception": false,
     "start_time": "2020-11-29T08:30:33.739381",
     "status": "completed"
    },
    "tags": []
   },
   "source": [
    "# Utility calculation function"
   ]
  },
  {
   "cell_type": "code",
   "execution_count": 16,
   "metadata": {
    "execution": {
     "iopub.execute_input": "2020-11-29T08:30:33.841856Z",
     "iopub.status.busy": "2020-11-29T08:30:33.839969Z",
     "iopub.status.idle": "2020-11-29T08:30:33.842495Z",
     "shell.execute_reply": "2020-11-29T08:30:33.842971Z"
    },
    "papermill": {
     "duration": 0.042148,
     "end_time": "2020-11-29T08:30:33.843088",
     "exception": false,
     "start_time": "2020-11-29T08:30:33.800940",
     "status": "completed"
    },
    "tags": []
   },
   "outputs": [],
   "source": [
    "def utility_function(df_test, df_test_predictions):\n",
    "    df_test.loc[:, 'utility_pj'] = df_test['weight'] * df_test['resp'] * df_test_predictions\n",
    "    df_test_utility_pi = df_test.groupby('date').sum('utility_pj')['utility_pj']\n",
    "    nb_unique_dates = df_test_utility_pi.shape[0]\n",
    "    t = (df_test_utility_pi.sum() / np.sqrt(df_test_utility_pi.pow(2).sum())) * (np.sqrt(250 / np.abs(nb_unique_dates)))\n",
    "    u = min(max(t, 0), 6) * df_test_utility_pi.sum()\n",
    "    \n",
    "    return(u)"
   ]
  },
  {
   "cell_type": "markdown",
   "metadata": {
    "papermill": {
     "duration": 0.031044,
     "end_time": "2020-11-29T08:30:33.905434",
     "exception": false,
     "start_time": "2020-11-29T08:30:33.874390",
     "status": "completed"
    },
    "tags": []
   },
   "source": [
    "# Train model"
   ]
  },
  {
   "cell_type": "code",
   "execution_count": 17,
   "metadata": {
    "execution": {
     "iopub.execute_input": "2020-11-29T08:30:34.459041Z",
     "iopub.status.busy": "2020-11-29T08:30:34.458059Z",
     "iopub.status.idle": "2020-11-29T08:39:42.431655Z",
     "shell.execute_reply": "2020-11-29T08:39:42.431137Z"
    },
    "papermill": {
     "duration": 548.495012,
     "end_time": "2020-11-29T08:39:42.431785",
     "exception": false,
     "start_time": "2020-11-29T08:30:33.936773",
     "status": "completed"
    },
    "tags": []
   },
   "outputs": [
    {
     "name": "stdout",
     "output_type": "stream",
     "text": [
      "CPU times: user 8min 54s, sys: 8.79 s, total: 9min 3s\n",
      "Wall time: 9min 8s\n"
     ]
    },
    {
     "data": {
      "text/plain": [
       "XGBClassifier(base_score=0.5, booster='gbtree', colsample_bylevel=1,\n",
       "              colsample_bynode=1, colsample_bytree=1, gamma=0, gpu_id=0,\n",
       "              importance_type='gain', interaction_constraints='',\n",
       "              learning_rate=0.300000012, max_delta_step=0, max_depth=50,\n",
       "              min_child_weight=1, missing=nan,\n",
       "              monotone_constraints='(0,0,0,0,0,0,0,0,0,0,0,0,0,0,0,0,0,0,0,0,0,0,0,0,0,0,0,0,0,0,0,0,0,0,0...,0,0,0,0,0,0,0,0,0,0,0,0,0,0,0,0,0,0,0,0,0,0,0,0,0,0,0,0,0,0,0,0,0,0,0,0,0,0,0,0,0,0,0,0,0,0,0,0,0,0,0,0,0,0,0,0,0,0,0,0,0,0,0,0,0,0,0,0,0,0,0,0,0,0,0,0,0,0,0,0,0,0,0,0,0)',\n",
       "              n_estimators=50, n_jobs=0, num_parallel_tree=1, random_state=42,\n",
       "              reg_alpha=0, reg_lambda=1, scale_pos_weight=1, subsample=1,\n",
       "              tree_method='gpu_hist', validate_parameters=1, verbosity=None)"
      ]
     },
     "execution_count": 17,
     "metadata": {},
     "output_type": "execute_result"
    }
   ],
   "source": [
    "%%time\n",
    "model = xgb.XGBClassifier(random_state=42, max_depth=50, n_estimators=50, tree_method = 'gpu_hist')\n",
    "#model = xgb.XGBClassifier(random_state=42, max_depth=50, n_estimators=50, disable_default_eval_metric=True)\n",
    "model.fit(df_train[FEATURES_LIST], y_train)"
   ]
  },
  {
   "cell_type": "code",
   "execution_count": 18,
   "metadata": {
    "execution": {
     "iopub.execute_input": "2020-11-29T08:39:42.545060Z",
     "iopub.status.busy": "2020-11-29T08:39:42.543753Z",
     "iopub.status.idle": "2020-11-29T08:39:53.363122Z",
     "shell.execute_reply": "2020-11-29T08:39:53.364034Z"
    },
    "papermill": {
     "duration": 10.900671,
     "end_time": "2020-11-29T08:39:53.364201",
     "exception": false,
     "start_time": "2020-11-29T08:39:42.463530",
     "status": "completed"
    },
    "tags": []
   },
   "outputs": [],
   "source": [
    "df_test_predictions = model.predict(df_test[FEATURES_LIST])"
   ]
  },
  {
   "cell_type": "code",
   "execution_count": 19,
   "metadata": {
    "execution": {
     "iopub.execute_input": "2020-11-29T08:39:53.446894Z",
     "iopub.status.busy": "2020-11-29T08:39:53.446040Z",
     "iopub.status.idle": "2020-11-29T08:39:53.896932Z",
     "shell.execute_reply": "2020-11-29T08:39:53.895910Z"
    },
    "papermill": {
     "duration": 0.493553,
     "end_time": "2020-11-29T08:39:53.897056",
     "exception": false,
     "start_time": "2020-11-29T08:39:53.403503",
     "status": "completed"
    },
    "tags": []
   },
   "outputs": [
    {
     "name": "stderr",
     "output_type": "stream",
     "text": [
      "/opt/conda/lib/python3.7/site-packages/pandas/core/indexing.py:1596: SettingWithCopyWarning: \n",
      "A value is trying to be set on a copy of a slice from a DataFrame.\n",
      "Try using .loc[row_indexer,col_indexer] = value instead\n",
      "\n",
      "See the caveats in the documentation: https://pandas.pydata.org/pandas-docs/stable/user_guide/indexing.html#returning-a-view-versus-a-copy\n",
      "  self.obj[key] = _infer_fill_value(value)\n",
      "/opt/conda/lib/python3.7/site-packages/pandas/core/indexing.py:1743: SettingWithCopyWarning: \n",
      "A value is trying to be set on a copy of a slice from a DataFrame.\n",
      "Try using .loc[row_indexer,col_indexer] = value instead\n",
      "\n",
      "See the caveats in the documentation: https://pandas.pydata.org/pandas-docs/stable/user_guide/indexing.html#returning-a-view-versus-a-copy\n",
      "  isetter(ilocs[0], value)\n"
     ]
    }
   ],
   "source": [
    "utility_score = utility_function(df_test, df_test_predictions)"
   ]
  },
  {
   "cell_type": "code",
   "execution_count": 20,
   "metadata": {
    "execution": {
     "iopub.execute_input": "2020-11-29T08:39:53.969317Z",
     "iopub.status.busy": "2020-11-29T08:39:53.968575Z",
     "iopub.status.idle": "2020-11-29T08:39:53.972342Z",
     "shell.execute_reply": "2020-11-29T08:39:53.972823Z"
    },
    "papermill": {
     "duration": 0.042044,
     "end_time": "2020-11-29T08:39:53.972942",
     "exception": false,
     "start_time": "2020-11-29T08:39:53.930898",
     "status": "completed"
    },
    "tags": []
   },
   "outputs": [
    {
     "data": {
      "text/plain": [
       "9868.183429858607"
      ]
     },
     "execution_count": 20,
     "metadata": {},
     "output_type": "execute_result"
    }
   ],
   "source": [
    "utility_score"
   ]
  },
  {
   "cell_type": "code",
   "execution_count": 21,
   "metadata": {
    "execution": {
     "iopub.execute_input": "2020-11-29T08:39:54.043878Z",
     "iopub.status.busy": "2020-11-29T08:39:54.043050Z",
     "iopub.status.idle": "2020-11-29T08:39:54.069470Z",
     "shell.execute_reply": "2020-11-29T08:39:54.069007Z"
    },
    "papermill": {
     "duration": 0.06347,
     "end_time": "2020-11-29T08:39:54.069568",
     "exception": false,
     "start_time": "2020-11-29T08:39:54.006098",
     "status": "completed"
    },
    "tags": []
   },
   "outputs": [
    {
     "data": {
      "text/plain": [
       "0.657485881614725"
      ]
     },
     "execution_count": 21,
     "metadata": {},
     "output_type": "execute_result"
    }
   ],
   "source": [
    "accuracy_score(y_test, df_test_predictions)"
   ]
  },
  {
   "cell_type": "code",
   "execution_count": null,
   "metadata": {
    "papermill": {
     "duration": 0.033646,
     "end_time": "2020-11-29T08:39:54.137002",
     "exception": false,
     "start_time": "2020-11-29T08:39:54.103356",
     "status": "completed"
    },
    "tags": []
   },
   "outputs": [],
   "source": []
  },
  {
   "cell_type": "markdown",
   "metadata": {
    "papermill": {
     "duration": 0.033081,
     "end_time": "2020-11-29T08:39:54.203515",
     "exception": false,
     "start_time": "2020-11-29T08:39:54.170434",
     "status": "completed"
    },
    "tags": []
   },
   "source": [
    "# Save model"
   ]
  },
  {
   "cell_type": "code",
   "execution_count": 22,
   "metadata": {
    "execution": {
     "iopub.execute_input": "2020-11-29T08:39:54.278450Z",
     "iopub.status.busy": "2020-11-29T08:39:54.277257Z",
     "iopub.status.idle": "2020-11-29T08:39:55.406747Z",
     "shell.execute_reply": "2020-11-29T08:39:55.406185Z"
    },
    "papermill": {
     "duration": 1.167872,
     "end_time": "2020-11-29T08:39:55.406861",
     "exception": false,
     "start_time": "2020-11-29T08:39:54.238989",
     "status": "completed"
    },
    "tags": []
   },
   "outputs": [],
   "source": [
    "with open(MODEL_FILE, 'wb') as f:\n",
    "    pickle.dump(model, f, pickle.HIGHEST_PROTOCOL)"
   ]
  },
  {
   "cell_type": "markdown",
   "metadata": {
    "papermill": {
     "duration": 0.033839,
     "end_time": "2020-11-29T08:39:55.474800",
     "exception": false,
     "start_time": "2020-11-29T08:39:55.440961",
     "status": "completed"
    },
    "tags": []
   },
   "source": [
    "# Make random predictions"
   ]
  },
  {
   "cell_type": "code",
   "execution_count": 23,
   "metadata": {
    "execution": {
     "iopub.execute_input": "2020-11-29T08:39:55.547502Z",
     "iopub.status.busy": "2020-11-29T08:39:55.546653Z",
     "iopub.status.idle": "2020-11-29T08:39:55.579399Z",
     "shell.execute_reply": "2020-11-29T08:39:55.579885Z"
    },
    "papermill": {
     "duration": 0.071415,
     "end_time": "2020-11-29T08:39:55.580005",
     "exception": false,
     "start_time": "2020-11-29T08:39:55.508590",
     "status": "completed"
    },
    "tags": []
   },
   "outputs": [
    {
     "name": "stdout",
     "output_type": "stream",
     "text": [
      "0.5040702781844802\n"
     ]
    }
   ],
   "source": [
    "action_1_proba = df_test[df_test['resp_positive'] == 1].shape[0] / df_test.shape[0]\n",
    "print(action_1_proba)"
   ]
  },
  {
   "cell_type": "code",
   "execution_count": 24,
   "metadata": {
    "execution": {
     "iopub.execute_input": "2020-11-29T08:39:55.652411Z",
     "iopub.status.busy": "2020-11-29T08:39:55.651843Z",
     "iopub.status.idle": "2020-11-29T08:39:55.655295Z",
     "shell.execute_reply": "2020-11-29T08:39:55.656031Z"
    },
    "papermill": {
     "duration": 0.041754,
     "end_time": "2020-11-29T08:39:55.656157",
     "exception": false,
     "start_time": "2020-11-29T08:39:55.614403",
     "status": "completed"
    },
    "tags": []
   },
   "outputs": [],
   "source": [
    "np.random.seed(42)"
   ]
  },
  {
   "cell_type": "code",
   "execution_count": 25,
   "metadata": {
    "execution": {
     "iopub.execute_input": "2020-11-29T08:39:55.729786Z",
     "iopub.status.busy": "2020-11-29T08:39:55.728802Z",
     "iopub.status.idle": "2020-11-29T08:39:55.734801Z",
     "shell.execute_reply": "2020-11-29T08:39:55.734303Z"
    },
    "papermill": {
     "duration": 0.044859,
     "end_time": "2020-11-29T08:39:55.734898",
     "exception": false,
     "start_time": "2020-11-29T08:39:55.690039",
     "status": "completed"
    },
    "tags": []
   },
   "outputs": [],
   "source": [
    "df_predictions_test_random = pd.Series(np.asarray(np.random.rand(df_test.shape[0]) > (1 - action_1_proba), dtype=int))"
   ]
  },
  {
   "cell_type": "code",
   "execution_count": 26,
   "metadata": {
    "execution": {
     "iopub.execute_input": "2020-11-29T08:39:55.807308Z",
     "iopub.status.busy": "2020-11-29T08:39:55.806565Z",
     "iopub.status.idle": "2020-11-29T08:39:55.809546Z",
     "shell.execute_reply": "2020-11-29T08:39:55.809085Z"
    },
    "papermill": {
     "duration": 0.040783,
     "end_time": "2020-11-29T08:39:55.809638",
     "exception": false,
     "start_time": "2020-11-29T08:39:55.768855",
     "status": "completed"
    },
    "tags": []
   },
   "outputs": [],
   "source": [
    "df_predictions_test_random.reset_index(drop=True, inplace=True)"
   ]
  },
  {
   "cell_type": "code",
   "execution_count": 27,
   "metadata": {
    "execution": {
     "iopub.execute_input": "2020-11-29T08:39:55.882746Z",
     "iopub.status.busy": "2020-11-29T08:39:55.881880Z",
     "iopub.status.idle": "2020-11-29T08:39:55.886441Z",
     "shell.execute_reply": "2020-11-29T08:39:55.885858Z"
    },
    "papermill": {
     "duration": 0.04196,
     "end_time": "2020-11-29T08:39:55.886529",
     "exception": false,
     "start_time": "2020-11-29T08:39:55.844569",
     "status": "completed"
    },
    "tags": []
   },
   "outputs": [
    {
     "data": {
      "text/plain": [
       "0.5049320225894164"
      ]
     },
     "execution_count": 27,
     "metadata": {},
     "output_type": "execute_result"
    }
   ],
   "source": [
    "df_predictions_test_random.mean()"
   ]
  },
  {
   "cell_type": "code",
   "execution_count": 28,
   "metadata": {
    "execution": {
     "iopub.execute_input": "2020-11-29T08:39:55.960754Z",
     "iopub.status.busy": "2020-11-29T08:39:55.959943Z",
     "iopub.status.idle": "2020-11-29T08:39:55.984068Z",
     "shell.execute_reply": "2020-11-29T08:39:55.983567Z"
    },
    "papermill": {
     "duration": 0.062784,
     "end_time": "2020-11-29T08:39:55.984166",
     "exception": false,
     "start_time": "2020-11-29T08:39:55.921382",
     "status": "completed"
    },
    "tags": []
   },
   "outputs": [
    {
     "data": {
      "text/plain": [
       "0.4997197239071324"
      ]
     },
     "execution_count": 28,
     "metadata": {},
     "output_type": "execute_result"
    }
   ],
   "source": [
    "accuracy_score(y_test, df_predictions_test_random)"
   ]
  },
  {
   "cell_type": "code",
   "execution_count": 29,
   "metadata": {
    "execution": {
     "iopub.execute_input": "2020-11-29T08:39:56.060951Z",
     "iopub.status.busy": "2020-11-29T08:39:56.060179Z",
     "iopub.status.idle": "2020-11-29T08:39:56.063480Z",
     "shell.execute_reply": "2020-11-29T08:39:56.064064Z"
    },
    "papermill": {
     "duration": 0.043962,
     "end_time": "2020-11-29T08:39:56.064176",
     "exception": false,
     "start_time": "2020-11-29T08:39:56.020214",
     "status": "completed"
    },
    "tags": []
   },
   "outputs": [
    {
     "data": {
      "text/plain": [
       "(239050,)"
      ]
     },
     "execution_count": 29,
     "metadata": {},
     "output_type": "execute_result"
    }
   ],
   "source": [
    "df_predictions_test_random.shape"
   ]
  },
  {
   "cell_type": "markdown",
   "metadata": {
    "papermill": {
     "duration": 0.03619,
     "end_time": "2020-11-29T08:39:56.136656",
     "exception": false,
     "start_time": "2020-11-29T08:39:56.100466",
     "status": "completed"
    },
    "tags": []
   },
   "source": [
    "# Calculate utility"
   ]
  },
  {
   "cell_type": "code",
   "execution_count": 30,
   "metadata": {
    "execution": {
     "iopub.execute_input": "2020-11-29T08:39:56.212676Z",
     "iopub.status.busy": "2020-11-29T08:39:56.211854Z",
     "iopub.status.idle": "2020-11-29T08:39:56.214715Z",
     "shell.execute_reply": "2020-11-29T08:39:56.214220Z"
    },
    "papermill": {
     "duration": 0.042235,
     "end_time": "2020-11-29T08:39:56.214806",
     "exception": false,
     "start_time": "2020-11-29T08:39:56.172571",
     "status": "completed"
    },
    "tags": []
   },
   "outputs": [],
   "source": [
    "df_test.reset_index(drop=True, inplace=True)"
   ]
  },
  {
   "cell_type": "code",
   "execution_count": 31,
   "metadata": {
    "execution": {
     "iopub.execute_input": "2020-11-29T08:39:56.293894Z",
     "iopub.status.busy": "2020-11-29T08:39:56.292792Z",
     "iopub.status.idle": "2020-11-29T08:39:56.731737Z",
     "shell.execute_reply": "2020-11-29T08:39:56.732234Z"
    },
    "papermill": {
     "duration": 0.480508,
     "end_time": "2020-11-29T08:39:56.732371",
     "exception": false,
     "start_time": "2020-11-29T08:39:56.251863",
     "status": "completed"
    },
    "tags": []
   },
   "outputs": [
    {
     "name": "stderr",
     "output_type": "stream",
     "text": [
      "/opt/conda/lib/python3.7/site-packages/pandas/core/indexing.py:1743: SettingWithCopyWarning: \n",
      "A value is trying to be set on a copy of a slice from a DataFrame.\n",
      "Try using .loc[row_indexer,col_indexer] = value instead\n",
      "\n",
      "See the caveats in the documentation: https://pandas.pydata.org/pandas-docs/stable/user_guide/indexing.html#returning-a-view-versus-a-copy\n",
      "  isetter(ilocs[0], value)\n"
     ]
    },
    {
     "data": {
      "text/plain": [
       "-0.0"
      ]
     },
     "execution_count": 31,
     "metadata": {},
     "output_type": "execute_result"
    }
   ],
   "source": [
    "utility_function(df_test, df_predictions_test_random)"
   ]
  }
 ],
 "metadata": {
  "kernelspec": {
   "display_name": "Python 3",
   "language": "python",
   "name": "python3"
  },
  "language_info": {
   "codemirror_mode": {
    "name": "ipython",
    "version": 3
   },
   "file_extension": ".py",
   "mimetype": "text/x-python",
   "name": "python",
   "nbconvert_exporter": "python",
   "pygments_lexer": "ipython3",
   "version": "3.7.6"
  },
  "papermill": {
   "duration": 644.997079,
   "end_time": "2020-11-29T08:39:57.382731",
   "environment_variables": {},
   "exception": null,
   "input_path": "__notebook__.ipynb",
   "output_path": "__notebook__.ipynb",
   "parameters": {},
   "start_time": "2020-11-29T08:29:12.385652",
   "version": "2.1.0"
  }
 },
 "nbformat": 4,
 "nbformat_minor": 4
}
