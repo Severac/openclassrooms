{
 "cells": [
  {
   "cell_type": "code",
   "execution_count": 1,
   "metadata": {
    "_cell_guid": "b1076dfc-b9ad-4769-8c92-a6c4dae69d19",
    "_uuid": "8f2839f25d086af736a60e9eeb907d3b93b6e0e5",
    "execution": {
     "iopub.execute_input": "2020-11-29T14:39:09.326791Z",
     "iopub.status.busy": "2020-11-29T14:39:09.321441Z",
     "iopub.status.idle": "2020-11-29T14:39:40.840423Z",
     "shell.execute_reply": "2020-11-29T14:39:40.838853Z"
    },
    "papermill": {
     "duration": 31.546976,
     "end_time": "2020-11-29T14:39:40.840563",
     "exception": false,
     "start_time": "2020-11-29T14:39:09.293587",
     "status": "completed"
    },
    "tags": []
   },
   "outputs": [
    {
     "name": "stdout",
     "output_type": "stream",
     "text": [
      "Processing /kaggle/input/python-datatable/datatable-0.11.0-cp37-cp37m-manylinux2010_x86_64.whl\r\n",
      "Installing collected packages: datatable\r\n",
      "Successfully installed datatable-0.11.0\r\n"
     ]
    },
    {
     "data": {
      "text/html": [
       "<style type='text/css'>\n",
       ".datatable table.frame { margin-bottom: 0; }\n",
       ".datatable table.frame thead { border-bottom: none; }\n",
       ".datatable table.frame tr.coltypes td {  color: #FFFFFF;  line-height: 6px;  padding: 0 0.5em;}\n",
       ".datatable .bool    { background: #DDDD99; }\n",
       ".datatable .object  { background: #565656; }\n",
       ".datatable .int     { background: #5D9E5D; }\n",
       ".datatable .float   { background: #4040CC; }\n",
       ".datatable .str     { background: #CC4040; }\n",
       ".datatable .row_index {  background: var(--jp-border-color3);  border-right: 1px solid var(--jp-border-color0);  color: var(--jp-ui-font-color3);  font-size: 9px;}\n",
       ".datatable .frame tr.coltypes .row_index {  background: var(--jp-border-color0);}\n",
       ".datatable th:nth-child(2) { padding-left: 12px; }\n",
       ".datatable .hellipsis {  color: var(--jp-cell-editor-border-color);}\n",
       ".datatable .vellipsis {  background: var(--jp-layout-color0);  color: var(--jp-cell-editor-border-color);}\n",
       ".datatable .na {  color: var(--jp-cell-editor-border-color);  font-size: 80%;}\n",
       ".datatable .footer { font-size: 9px; }\n",
       ".datatable .frame_dimensions {  background: var(--jp-border-color3);  border-top: 1px solid var(--jp-border-color0);  color: var(--jp-ui-font-color3);  display: inline-block;  opacity: 0.6;  padding: 1px 10px 1px 5px;}\n",
       "</style>\n"
      ],
      "text/plain": [
       "<IPython.core.display.HTML object>"
      ]
     },
     "metadata": {},
     "output_type": "display_data"
    },
    {
     "name": "stdout",
     "output_type": "stream",
     "text": [
      "/kaggle/input/jane-street-market-prediction/example_sample_submission.csv\n",
      "/kaggle/input/jane-street-market-prediction/features.csv\n",
      "/kaggle/input/jane-street-market-prediction/example_test.csv\n",
      "/kaggle/input/jane-street-market-prediction/train.csv\n",
      "/kaggle/input/jane-street-market-prediction/janestreet/__init__.py\n",
      "/kaggle/input/jane-street-market-prediction/janestreet/competition.cpython-37m-x86_64-linux-gnu.so\n",
      "/kaggle/input/python-datatable/datatable-0.11.0-cp37-cp37m-manylinux2010_x86_64.whl\n"
     ]
    }
   ],
   "source": [
    "# This Python 3 environment comes with many helpful analytics libraries installed\n",
    "# It is defined by the kaggle/python Docker image: https://github.com/kaggle/docker-python\n",
    "# For example, here's several helpful packages to load\n",
    "\n",
    "import numpy as np # linear algebra\n",
    "import pandas as pd # data processing, CSV file I/O (e.g. pd.read_csv)\n",
    "\n",
    "import matplotlib.pyplot as plt\n",
    "import seaborn as sns\n",
    "\n",
    "from sklearn.model_selection import train_test_split\n",
    "from sklearn.metrics import accuracy_score\n",
    "from xgboost import XGBClassifier\n",
    "\n",
    "from sklearn.model_selection import TimeSeriesSplit, GridSearchCV\n",
    "\n",
    "#import janestreet\n",
    "#env = janestreet.make_env() # initialize the environment\n",
    "\n",
    "#!pip install datatable # Internet is not activated in this competition\n",
    "!pip install ../input/python-datatable/datatable-0.11.0-cp37-cp37m-manylinux2010_x86_64.whl\n",
    "import datatable as dt\n",
    "\n",
    "import pickle\n",
    "MODEL_FILE = '/kaggle/working/model_clustering.pickle'\n",
    "\n",
    "#import xgboost as xgb\n",
    "\n",
    "# Input data files are available in the read-only \"../input/\" directory\n",
    "# For example, running this (by clicking run or pressing Shift+Enter) will list all files under the input directory\n",
    "\n",
    "import os\n",
    "for dirname, _, filenames in os.walk('/kaggle/input'):\n",
    "    for filename in filenames:\n",
    "        print(os.path.join(dirname, filename))\n",
    "\n",
    "# You can write up to 20GB to the current directory (/kaggle/working/) that gets preserved as output when you create a version using \"Save & Run All\" \n",
    "# You can also write temporary files to /kaggle/temp/, but they won't be saved outside of the current session\n",
    "\n",
    "INPUT_DIR = '/kaggle/input/jane-street-market-prediction/'"
   ]
  },
  {
   "cell_type": "code",
   "execution_count": 2,
   "metadata": {
    "execution": {
     "iopub.execute_input": "2020-11-29T14:39:40.883092Z",
     "iopub.status.busy": "2020-11-29T14:39:40.882401Z",
     "iopub.status.idle": "2020-11-29T14:39:41.126871Z",
     "shell.execute_reply": "2020-11-29T14:39:41.126299Z"
    },
    "papermill": {
     "duration": 0.268196,
     "end_time": "2020-11-29T14:39:41.126994",
     "exception": false,
     "start_time": "2020-11-29T14:39:40.858798",
     "status": "completed"
    },
    "tags": []
   },
   "outputs": [],
   "source": [
    "from sklearn.cluster import KMeans\n",
    "from sklearn.metrics import silhouette_score"
   ]
  },
  {
   "cell_type": "markdown",
   "metadata": {
    "papermill": {
     "duration": 0.013247,
     "end_time": "2020-11-29T14:39:41.158520",
     "exception": false,
     "start_time": "2020-11-29T14:39:41.145273",
     "status": "completed"
    },
    "tags": []
   },
   "source": [
    "# Load data"
   ]
  },
  {
   "cell_type": "code",
   "execution_count": 3,
   "metadata": {
    "_cell_guid": "79c7e3d0-c299-4dcb-8224-4455121ee9b0",
    "_uuid": "d629ff2d2480ee46fbb7e2d37f6b5fab8052498a",
    "execution": {
     "iopub.execute_input": "2020-11-29T14:39:41.190416Z",
     "iopub.status.busy": "2020-11-29T14:39:41.189932Z",
     "iopub.status.idle": "2020-11-29T14:40:04.452595Z",
     "shell.execute_reply": "2020-11-29T14:40:04.451853Z"
    },
    "papermill": {
     "duration": 23.28096,
     "end_time": "2020-11-29T14:40:04.452734",
     "exception": false,
     "start_time": "2020-11-29T14:39:41.171774",
     "status": "completed"
    },
    "tags": []
   },
   "outputs": [
    {
     "name": "stdout",
     "output_type": "stream",
     "text": [
      "CPU times: user 44.3 s, sys: 14.4 s, total: 58.7 s\n",
      "Wall time: 23.3 s\n"
     ]
    }
   ],
   "source": [
    "%%time\n",
    "# Thanks to his notebook for this fast loading : https://www.kaggle.com/carlmcbrideellis/jane-street-eda-of-day-0-and-feature-importance\n",
    "train_data_datatable = dt.fread('../input/jane-street-market-prediction/train.csv')\n",
    "df = train_data_datatable.to_pandas()\n",
    "\n",
    "# Thanks to this notebook to gain memory usage : https://www.kaggle.com/jorijnsmit/one-liner-to-halve-your-memory-usage\n",
    "float64_cols = df.select_dtypes(include='float64').columns\n",
    "mapper = {col_name: np.float32 for col_name in float64_cols}\n",
    "df = df.astype(mapper)"
   ]
  },
  {
   "cell_type": "markdown",
   "metadata": {
    "papermill": {
     "duration": 0.018689,
     "end_time": "2020-11-29T14:40:04.496866",
     "exception": false,
     "start_time": "2020-11-29T14:40:04.478177",
     "status": "completed"
    },
    "tags": []
   },
   "source": [
    "# Calculate target to predict"
   ]
  },
  {
   "cell_type": "code",
   "execution_count": 4,
   "metadata": {
    "execution": {
     "iopub.execute_input": "2020-11-29T14:40:04.541536Z",
     "iopub.status.busy": "2020-11-29T14:40:04.540629Z",
     "iopub.status.idle": "2020-11-29T14:40:04.559464Z",
     "shell.execute_reply": "2020-11-29T14:40:04.559992Z"
    },
    "papermill": {
     "duration": 0.044054,
     "end_time": "2020-11-29T14:40:04.560165",
     "exception": false,
     "start_time": "2020-11-29T14:40:04.516111",
     "status": "completed"
    },
    "tags": []
   },
   "outputs": [],
   "source": [
    "df['resp_positive'] = ((df['resp'])>0)*1"
   ]
  },
  {
   "cell_type": "markdown",
   "metadata": {
    "papermill": {
     "duration": 0.019658,
     "end_time": "2020-11-29T14:40:04.601869",
     "exception": false,
     "start_time": "2020-11-29T14:40:04.582211",
     "status": "completed"
    },
    "tags": []
   },
   "source": [
    "# Load features metadata"
   ]
  },
  {
   "cell_type": "code",
   "execution_count": 5,
   "metadata": {
    "execution": {
     "iopub.execute_input": "2020-11-29T14:40:04.650938Z",
     "iopub.status.busy": "2020-11-29T14:40:04.650192Z",
     "iopub.status.idle": "2020-11-29T14:40:04.664137Z",
     "shell.execute_reply": "2020-11-29T14:40:04.663467Z"
    },
    "papermill": {
     "duration": 0.042471,
     "end_time": "2020-11-29T14:40:04.664247",
     "exception": false,
     "start_time": "2020-11-29T14:40:04.621776",
     "status": "completed"
    },
    "tags": []
   },
   "outputs": [],
   "source": [
    "df_features = pd.read_csv('../input/jane-street-market-prediction/features.csv')"
   ]
  },
  {
   "cell_type": "code",
   "execution_count": 6,
   "metadata": {
    "execution": {
     "iopub.execute_input": "2020-11-29T14:40:04.714118Z",
     "iopub.status.busy": "2020-11-29T14:40:04.713421Z",
     "iopub.status.idle": "2020-11-29T14:40:04.717523Z",
     "shell.execute_reply": "2020-11-29T14:40:04.716947Z"
    },
    "papermill": {
     "duration": 0.029833,
     "end_time": "2020-11-29T14:40:04.717631",
     "exception": false,
     "start_time": "2020-11-29T14:40:04.687798",
     "status": "completed"
    },
    "tags": []
   },
   "outputs": [],
   "source": [
    "#df_features = df_features.set_index('feature')"
   ]
  },
  {
   "cell_type": "code",
   "execution_count": 7,
   "metadata": {
    "execution": {
     "iopub.execute_input": "2020-11-29T14:40:04.782321Z",
     "iopub.status.busy": "2020-11-29T14:40:04.775502Z",
     "iopub.status.idle": "2020-11-29T14:40:04.802975Z",
     "shell.execute_reply": "2020-11-29T14:40:04.802002Z"
    },
    "papermill": {
     "duration": 0.06544,
     "end_time": "2020-11-29T14:40:04.803146",
     "exception": false,
     "start_time": "2020-11-29T14:40:04.737706",
     "status": "completed"
    },
    "tags": []
   },
   "outputs": [
    {
     "data": {
      "text/html": [
       "<div>\n",
       "<style scoped>\n",
       "    .dataframe tbody tr th:only-of-type {\n",
       "        vertical-align: middle;\n",
       "    }\n",
       "\n",
       "    .dataframe tbody tr th {\n",
       "        vertical-align: top;\n",
       "    }\n",
       "\n",
       "    .dataframe thead th {\n",
       "        text-align: right;\n",
       "    }\n",
       "</style>\n",
       "<table border=\"1\" class=\"dataframe\">\n",
       "  <thead>\n",
       "    <tr style=\"text-align: right;\">\n",
       "      <th></th>\n",
       "      <th>feature</th>\n",
       "      <th>tag_0</th>\n",
       "      <th>tag_1</th>\n",
       "      <th>tag_2</th>\n",
       "      <th>tag_3</th>\n",
       "      <th>tag_4</th>\n",
       "      <th>tag_5</th>\n",
       "      <th>tag_6</th>\n",
       "      <th>tag_7</th>\n",
       "      <th>tag_8</th>\n",
       "      <th>...</th>\n",
       "      <th>tag_19</th>\n",
       "      <th>tag_20</th>\n",
       "      <th>tag_21</th>\n",
       "      <th>tag_22</th>\n",
       "      <th>tag_23</th>\n",
       "      <th>tag_24</th>\n",
       "      <th>tag_25</th>\n",
       "      <th>tag_26</th>\n",
       "      <th>tag_27</th>\n",
       "      <th>tag_28</th>\n",
       "    </tr>\n",
       "  </thead>\n",
       "  <tbody>\n",
       "    <tr>\n",
       "      <th>0</th>\n",
       "      <td>feature_0</td>\n",
       "      <td>False</td>\n",
       "      <td>False</td>\n",
       "      <td>False</td>\n",
       "      <td>False</td>\n",
       "      <td>False</td>\n",
       "      <td>False</td>\n",
       "      <td>False</td>\n",
       "      <td>False</td>\n",
       "      <td>False</td>\n",
       "      <td>...</td>\n",
       "      <td>False</td>\n",
       "      <td>False</td>\n",
       "      <td>False</td>\n",
       "      <td>False</td>\n",
       "      <td>False</td>\n",
       "      <td>False</td>\n",
       "      <td>False</td>\n",
       "      <td>False</td>\n",
       "      <td>False</td>\n",
       "      <td>False</td>\n",
       "    </tr>\n",
       "    <tr>\n",
       "      <th>1</th>\n",
       "      <td>feature_1</td>\n",
       "      <td>False</td>\n",
       "      <td>False</td>\n",
       "      <td>False</td>\n",
       "      <td>False</td>\n",
       "      <td>False</td>\n",
       "      <td>False</td>\n",
       "      <td>True</td>\n",
       "      <td>True</td>\n",
       "      <td>False</td>\n",
       "      <td>...</td>\n",
       "      <td>False</td>\n",
       "      <td>False</td>\n",
       "      <td>False</td>\n",
       "      <td>False</td>\n",
       "      <td>False</td>\n",
       "      <td>False</td>\n",
       "      <td>False</td>\n",
       "      <td>False</td>\n",
       "      <td>False</td>\n",
       "      <td>False</td>\n",
       "    </tr>\n",
       "    <tr>\n",
       "      <th>2</th>\n",
       "      <td>feature_2</td>\n",
       "      <td>False</td>\n",
       "      <td>False</td>\n",
       "      <td>False</td>\n",
       "      <td>False</td>\n",
       "      <td>False</td>\n",
       "      <td>False</td>\n",
       "      <td>True</td>\n",
       "      <td>True</td>\n",
       "      <td>False</td>\n",
       "      <td>...</td>\n",
       "      <td>False</td>\n",
       "      <td>False</td>\n",
       "      <td>False</td>\n",
       "      <td>False</td>\n",
       "      <td>False</td>\n",
       "      <td>False</td>\n",
       "      <td>False</td>\n",
       "      <td>False</td>\n",
       "      <td>False</td>\n",
       "      <td>False</td>\n",
       "    </tr>\n",
       "    <tr>\n",
       "      <th>3</th>\n",
       "      <td>feature_3</td>\n",
       "      <td>False</td>\n",
       "      <td>False</td>\n",
       "      <td>False</td>\n",
       "      <td>False</td>\n",
       "      <td>False</td>\n",
       "      <td>False</td>\n",
       "      <td>True</td>\n",
       "      <td>False</td>\n",
       "      <td>True</td>\n",
       "      <td>...</td>\n",
       "      <td>False</td>\n",
       "      <td>False</td>\n",
       "      <td>False</td>\n",
       "      <td>False</td>\n",
       "      <td>False</td>\n",
       "      <td>False</td>\n",
       "      <td>False</td>\n",
       "      <td>False</td>\n",
       "      <td>False</td>\n",
       "      <td>False</td>\n",
       "    </tr>\n",
       "    <tr>\n",
       "      <th>4</th>\n",
       "      <td>feature_4</td>\n",
       "      <td>False</td>\n",
       "      <td>False</td>\n",
       "      <td>False</td>\n",
       "      <td>False</td>\n",
       "      <td>False</td>\n",
       "      <td>False</td>\n",
       "      <td>True</td>\n",
       "      <td>False</td>\n",
       "      <td>True</td>\n",
       "      <td>...</td>\n",
       "      <td>False</td>\n",
       "      <td>False</td>\n",
       "      <td>False</td>\n",
       "      <td>False</td>\n",
       "      <td>False</td>\n",
       "      <td>False</td>\n",
       "      <td>False</td>\n",
       "      <td>False</td>\n",
       "      <td>False</td>\n",
       "      <td>False</td>\n",
       "    </tr>\n",
       "    <tr>\n",
       "      <th>...</th>\n",
       "      <td>...</td>\n",
       "      <td>...</td>\n",
       "      <td>...</td>\n",
       "      <td>...</td>\n",
       "      <td>...</td>\n",
       "      <td>...</td>\n",
       "      <td>...</td>\n",
       "      <td>...</td>\n",
       "      <td>...</td>\n",
       "      <td>...</td>\n",
       "      <td>...</td>\n",
       "      <td>...</td>\n",
       "      <td>...</td>\n",
       "      <td>...</td>\n",
       "      <td>...</td>\n",
       "      <td>...</td>\n",
       "      <td>...</td>\n",
       "      <td>...</td>\n",
       "      <td>...</td>\n",
       "      <td>...</td>\n",
       "      <td>...</td>\n",
       "    </tr>\n",
       "    <tr>\n",
       "      <th>125</th>\n",
       "      <td>feature_125</td>\n",
       "      <td>False</td>\n",
       "      <td>False</td>\n",
       "      <td>False</td>\n",
       "      <td>True</td>\n",
       "      <td>False</td>\n",
       "      <td>False</td>\n",
       "      <td>False</td>\n",
       "      <td>False</td>\n",
       "      <td>False</td>\n",
       "      <td>...</td>\n",
       "      <td>False</td>\n",
       "      <td>False</td>\n",
       "      <td>False</td>\n",
       "      <td>False</td>\n",
       "      <td>False</td>\n",
       "      <td>False</td>\n",
       "      <td>False</td>\n",
       "      <td>False</td>\n",
       "      <td>False</td>\n",
       "      <td>True</td>\n",
       "    </tr>\n",
       "    <tr>\n",
       "      <th>126</th>\n",
       "      <td>feature_126</td>\n",
       "      <td>False</td>\n",
       "      <td>False</td>\n",
       "      <td>True</td>\n",
       "      <td>False</td>\n",
       "      <td>False</td>\n",
       "      <td>False</td>\n",
       "      <td>False</td>\n",
       "      <td>False</td>\n",
       "      <td>False</td>\n",
       "      <td>...</td>\n",
       "      <td>False</td>\n",
       "      <td>False</td>\n",
       "      <td>False</td>\n",
       "      <td>False</td>\n",
       "      <td>False</td>\n",
       "      <td>False</td>\n",
       "      <td>False</td>\n",
       "      <td>False</td>\n",
       "      <td>False</td>\n",
       "      <td>True</td>\n",
       "    </tr>\n",
       "    <tr>\n",
       "      <th>127</th>\n",
       "      <td>feature_127</td>\n",
       "      <td>False</td>\n",
       "      <td>False</td>\n",
       "      <td>True</td>\n",
       "      <td>False</td>\n",
       "      <td>False</td>\n",
       "      <td>False</td>\n",
       "      <td>False</td>\n",
       "      <td>False</td>\n",
       "      <td>False</td>\n",
       "      <td>...</td>\n",
       "      <td>False</td>\n",
       "      <td>False</td>\n",
       "      <td>False</td>\n",
       "      <td>False</td>\n",
       "      <td>False</td>\n",
       "      <td>False</td>\n",
       "      <td>False</td>\n",
       "      <td>False</td>\n",
       "      <td>False</td>\n",
       "      <td>True</td>\n",
       "    </tr>\n",
       "    <tr>\n",
       "      <th>128</th>\n",
       "      <td>feature_128</td>\n",
       "      <td>False</td>\n",
       "      <td>True</td>\n",
       "      <td>False</td>\n",
       "      <td>False</td>\n",
       "      <td>False</td>\n",
       "      <td>False</td>\n",
       "      <td>False</td>\n",
       "      <td>False</td>\n",
       "      <td>False</td>\n",
       "      <td>...</td>\n",
       "      <td>False</td>\n",
       "      <td>False</td>\n",
       "      <td>False</td>\n",
       "      <td>False</td>\n",
       "      <td>False</td>\n",
       "      <td>False</td>\n",
       "      <td>False</td>\n",
       "      <td>False</td>\n",
       "      <td>False</td>\n",
       "      <td>True</td>\n",
       "    </tr>\n",
       "    <tr>\n",
       "      <th>129</th>\n",
       "      <td>feature_129</td>\n",
       "      <td>False</td>\n",
       "      <td>True</td>\n",
       "      <td>False</td>\n",
       "      <td>False</td>\n",
       "      <td>False</td>\n",
       "      <td>False</td>\n",
       "      <td>False</td>\n",
       "      <td>False</td>\n",
       "      <td>False</td>\n",
       "      <td>...</td>\n",
       "      <td>False</td>\n",
       "      <td>False</td>\n",
       "      <td>False</td>\n",
       "      <td>False</td>\n",
       "      <td>False</td>\n",
       "      <td>False</td>\n",
       "      <td>False</td>\n",
       "      <td>False</td>\n",
       "      <td>False</td>\n",
       "      <td>True</td>\n",
       "    </tr>\n",
       "  </tbody>\n",
       "</table>\n",
       "<p>130 rows × 30 columns</p>\n",
       "</div>"
      ],
      "text/plain": [
       "         feature  tag_0  tag_1  tag_2  tag_3  tag_4  tag_5  tag_6  tag_7  \\\n",
       "0      feature_0  False  False  False  False  False  False  False  False   \n",
       "1      feature_1  False  False  False  False  False  False   True   True   \n",
       "2      feature_2  False  False  False  False  False  False   True   True   \n",
       "3      feature_3  False  False  False  False  False  False   True  False   \n",
       "4      feature_4  False  False  False  False  False  False   True  False   \n",
       "..           ...    ...    ...    ...    ...    ...    ...    ...    ...   \n",
       "125  feature_125  False  False  False   True  False  False  False  False   \n",
       "126  feature_126  False  False   True  False  False  False  False  False   \n",
       "127  feature_127  False  False   True  False  False  False  False  False   \n",
       "128  feature_128  False   True  False  False  False  False  False  False   \n",
       "129  feature_129  False   True  False  False  False  False  False  False   \n",
       "\n",
       "     tag_8  ...  tag_19  tag_20  tag_21  tag_22  tag_23  tag_24  tag_25  \\\n",
       "0    False  ...   False   False   False   False   False   False   False   \n",
       "1    False  ...   False   False   False   False   False   False   False   \n",
       "2    False  ...   False   False   False   False   False   False   False   \n",
       "3     True  ...   False   False   False   False   False   False   False   \n",
       "4     True  ...   False   False   False   False   False   False   False   \n",
       "..     ...  ...     ...     ...     ...     ...     ...     ...     ...   \n",
       "125  False  ...   False   False   False   False   False   False   False   \n",
       "126  False  ...   False   False   False   False   False   False   False   \n",
       "127  False  ...   False   False   False   False   False   False   False   \n",
       "128  False  ...   False   False   False   False   False   False   False   \n",
       "129  False  ...   False   False   False   False   False   False   False   \n",
       "\n",
       "     tag_26  tag_27  tag_28  \n",
       "0     False   False   False  \n",
       "1     False   False   False  \n",
       "2     False   False   False  \n",
       "3     False   False   False  \n",
       "4     False   False   False  \n",
       "..      ...     ...     ...  \n",
       "125   False   False    True  \n",
       "126   False   False    True  \n",
       "127   False   False    True  \n",
       "128   False   False    True  \n",
       "129   False   False    True  \n",
       "\n",
       "[130 rows x 30 columns]"
      ]
     },
     "execution_count": 7,
     "metadata": {},
     "output_type": "execute_result"
    }
   ],
   "source": [
    "df_features"
   ]
  },
  {
   "cell_type": "markdown",
   "metadata": {
    "papermill": {
     "duration": 0.020417,
     "end_time": "2020-11-29T14:40:04.848881",
     "exception": false,
     "start_time": "2020-11-29T14:40:04.828464",
     "status": "completed"
    },
    "tags": []
   },
   "source": [
    "# Clustering"
   ]
  },
  {
   "cell_type": "code",
   "execution_count": 8,
   "metadata": {
    "execution": {
     "iopub.execute_input": "2020-11-29T14:40:04.893984Z",
     "iopub.status.busy": "2020-11-29T14:40:04.893324Z",
     "iopub.status.idle": "2020-11-29T14:40:04.898006Z",
     "shell.execute_reply": "2020-11-29T14:40:04.897344Z"
    },
    "papermill": {
     "duration": 0.02921,
     "end_time": "2020-11-29T14:40:04.898150",
     "exception": false,
     "start_time": "2020-11-29T14:40:04.868940",
     "status": "completed"
    },
    "tags": []
   },
   "outputs": [],
   "source": [
    "FEATURES_LIST = ['tag_' + str(i) for i in range(29)]"
   ]
  },
  {
   "cell_type": "code",
   "execution_count": 9,
   "metadata": {
    "execution": {
     "iopub.execute_input": "2020-11-29T14:40:04.950276Z",
     "iopub.status.busy": "2020-11-29T14:40:04.949583Z",
     "iopub.status.idle": "2020-11-29T14:40:10.349348Z",
     "shell.execute_reply": "2020-11-29T14:40:10.348685Z"
    },
    "papermill": {
     "duration": 5.428276,
     "end_time": "2020-11-29T14:40:10.349503",
     "exception": false,
     "start_time": "2020-11-29T14:40:04.921227",
     "status": "completed"
    },
    "tags": []
   },
   "outputs": [],
   "source": [
    "kmeans_per_k = [KMeans(n_clusters=k, random_state=42).fit(df_features[FEATURES_LIST])\n",
    "                for k in range(1, 50)]"
   ]
  },
  {
   "cell_type": "code",
   "execution_count": 10,
   "metadata": {
    "execution": {
     "iopub.execute_input": "2020-11-29T14:40:10.401621Z",
     "iopub.status.busy": "2020-11-29T14:40:10.400937Z",
     "iopub.status.idle": "2020-11-29T14:40:10.590594Z",
     "shell.execute_reply": "2020-11-29T14:40:10.589995Z"
    },
    "papermill": {
     "duration": 0.220478,
     "end_time": "2020-11-29T14:40:10.590703",
     "exception": false,
     "start_time": "2020-11-29T14:40:10.370225",
     "status": "completed"
    },
    "tags": []
   },
   "outputs": [],
   "source": [
    "silhouette_scores = [silhouette_score(df_features[FEATURES_LIST], model_clustering.labels_)\n",
    "                     for model_clustering in kmeans_per_k[1:]]"
   ]
  },
  {
   "cell_type": "code",
   "execution_count": 11,
   "metadata": {
    "execution": {
     "iopub.execute_input": "2020-11-29T14:40:10.650287Z",
     "iopub.status.busy": "2020-11-29T14:40:10.649234Z",
     "iopub.status.idle": "2020-11-29T14:40:11.005445Z",
     "shell.execute_reply": "2020-11-29T14:40:11.005951Z"
    },
    "papermill": {
     "duration": 0.394102,
     "end_time": "2020-11-29T14:40:11.006122",
     "exception": false,
     "start_time": "2020-11-29T14:40:10.612020",
     "status": "completed"
    },
    "tags": []
   },
   "outputs": [
    {
     "data": {
      "image/png": "[encoded data removed]",
      "text/plain": [
       "<Figure size 576x216 with 1 Axes>"
      ]
     },
     "metadata": {
      "needs_background": "light"
     },
     "output_type": "display_data"
    }
   ],
   "source": [
    "plt.figure(figsize=(8, 3))\n",
    "plt.plot(range(2, 50), silhouette_scores, \"bo-\")\n",
    "plt.xlabel(\"$k$\", fontsize=14)\n",
    "plt.ylabel(\"Silhouette score\", fontsize=14)\n",
    "#plt.axis([1.8, 8.5, 0.55, 0.7]) # [xmin, xmax, ymin, ymax]\n",
    "#save_fig(\"silhouette_score_vs_k_plot\")\n",
    "plt.show()"
   ]
  },
  {
   "cell_type": "code",
   "execution_count": 12,
   "metadata": {
    "execution": {
     "iopub.execute_input": "2020-11-29T14:40:11.060481Z",
     "iopub.status.busy": "2020-11-29T14:40:11.059006Z",
     "iopub.status.idle": "2020-11-29T14:40:11.066037Z",
     "shell.execute_reply": "2020-11-29T14:40:11.065425Z"
    },
    "papermill": {
     "duration": 0.037574,
     "end_time": "2020-11-29T14:40:11.066180",
     "exception": false,
     "start_time": "2020-11-29T14:40:11.028606",
     "status": "completed"
    },
    "tags": []
   },
   "outputs": [
    {
     "data": {
      "text/plain": [
       "33"
      ]
     },
     "execution_count": 12,
     "metadata": {},
     "output_type": "execute_result"
    }
   ],
   "source": [
    "np.argmax(silhouette_scores)"
   ]
  },
  {
   "cell_type": "code",
   "execution_count": 13,
   "metadata": {
    "execution": {
     "iopub.execute_input": "2020-11-29T14:40:11.116596Z",
     "iopub.status.busy": "2020-11-29T14:40:11.115784Z",
     "iopub.status.idle": "2020-11-29T14:40:11.121747Z",
     "shell.execute_reply": "2020-11-29T14:40:11.120847Z"
    },
    "papermill": {
     "duration": 0.033421,
     "end_time": "2020-11-29T14:40:11.121886",
     "exception": false,
     "start_time": "2020-11-29T14:40:11.088465",
     "status": "completed"
    },
    "tags": []
   },
   "outputs": [
    {
     "data": {
      "text/plain": [
       "0.3214544058255307"
      ]
     },
     "execution_count": 13,
     "metadata": {},
     "output_type": "execute_result"
    }
   ],
   "source": [
    "silhouette_scores[np.argmax(silhouette_scores)]"
   ]
  },
  {
   "cell_type": "code",
   "execution_count": 14,
   "metadata": {
    "execution": {
     "iopub.execute_input": "2020-11-29T14:40:11.197846Z",
     "iopub.status.busy": "2020-11-29T14:40:11.197015Z",
     "iopub.status.idle": "2020-11-29T14:40:11.344158Z",
     "shell.execute_reply": "2020-11-29T14:40:11.344643Z"
    },
    "papermill": {
     "duration": 0.189285,
     "end_time": "2020-11-29T14:40:11.344792",
     "exception": false,
     "start_time": "2020-11-29T14:40:11.155507",
     "status": "completed"
    },
    "tags": []
   },
   "outputs": [],
   "source": [
    "kmeans_per_30 = KMeans(n_clusters=np.argmax(silhouette_scores) + 2, random_state=42).fit(df_features[FEATURES_LIST])"
   ]
  },
  {
   "cell_type": "code",
   "execution_count": 15,
   "metadata": {
    "execution": {
     "iopub.execute_input": "2020-11-29T14:40:11.400705Z",
     "iopub.status.busy": "2020-11-29T14:40:11.400046Z",
     "iopub.status.idle": "2020-11-29T14:40:11.405180Z",
     "shell.execute_reply": "2020-11-29T14:40:11.404666Z"
    },
    "papermill": {
     "duration": 0.03713,
     "end_time": "2020-11-29T14:40:11.405294",
     "exception": false,
     "start_time": "2020-11-29T14:40:11.368164",
     "status": "completed"
    },
    "tags": []
   },
   "outputs": [],
   "source": [
    "silhouette_score_30 = silhouette_score(df_features[FEATURES_LIST], kmeans_per_30.labels_)\n",
    "                     "
   ]
  },
  {
   "cell_type": "code",
   "execution_count": 16,
   "metadata": {
    "execution": {
     "iopub.execute_input": "2020-11-29T14:40:11.456810Z",
     "iopub.status.busy": "2020-11-29T14:40:11.455919Z",
     "iopub.status.idle": "2020-11-29T14:40:11.460769Z",
     "shell.execute_reply": "2020-11-29T14:40:11.460155Z"
    },
    "papermill": {
     "duration": 0.032904,
     "end_time": "2020-11-29T14:40:11.460875",
     "exception": false,
     "start_time": "2020-11-29T14:40:11.427971",
     "status": "completed"
    },
    "tags": []
   },
   "outputs": [
    {
     "data": {
      "text/plain": [
       "0.3214544058255307"
      ]
     },
     "execution_count": 16,
     "metadata": {},
     "output_type": "execute_result"
    }
   ],
   "source": [
    "silhouette_score_30"
   ]
  },
  {
   "cell_type": "code",
   "execution_count": 17,
   "metadata": {
    "execution": {
     "iopub.execute_input": "2020-11-29T14:40:11.515586Z",
     "iopub.status.busy": "2020-11-29T14:40:11.514760Z",
     "iopub.status.idle": "2020-11-29T14:40:11.519023Z",
     "shell.execute_reply": "2020-11-29T14:40:11.518508Z"
    },
    "papermill": {
     "duration": 0.034976,
     "end_time": "2020-11-29T14:40:11.519175",
     "exception": false,
     "start_time": "2020-11-29T14:40:11.484199",
     "status": "completed"
    },
    "tags": []
   },
   "outputs": [],
   "source": [
    "cluster_vector = kmeans_per_30.predict(df_features[FEATURES_LIST])"
   ]
  },
  {
   "cell_type": "code",
   "execution_count": 18,
   "metadata": {
    "execution": {
     "iopub.execute_input": "2020-11-29T14:40:11.571533Z",
     "iopub.status.busy": "2020-11-29T14:40:11.570608Z",
     "iopub.status.idle": "2020-11-29T14:40:11.576725Z",
     "shell.execute_reply": "2020-11-29T14:40:11.576113Z"
    },
    "papermill": {
     "duration": 0.034113,
     "end_time": "2020-11-29T14:40:11.576823",
     "exception": false,
     "start_time": "2020-11-29T14:40:11.542710",
     "status": "completed"
    },
    "tags": []
   },
   "outputs": [
    {
     "data": {
      "text/plain": [
       "array([ 2, 10, 10, 24, 24, 28, 28, 31, 31, 23, 23, 27, 27, 19, 19, 14, 14,\n",
       "        4,  4,  4,  4,  4,  4,  4,  4,  4,  4, 26, 26, 30, 30,  0,  0, 12,\n",
       "       12, 21, 21,  4,  4, 12,  0, 17, 17, 17, 22, 22,  2,  2,  2,  2,  2,\n",
       "        2,  2, 20, 20, 18, 18, 18, 18, 18, 29, 29, 25, 25,  8, 29, 29, 25,\n",
       "       25, 20, 20, 20, 16, 16, 16, 16, 16, 16,  1,  1,  1,  1,  1,  1,  3,\n",
       "        3,  3,  3,  3,  3, 15, 15, 15, 15, 15, 15,  5,  5,  5,  5,  5,  5,\n",
       "       13, 13, 13, 13, 13, 13,  9,  9,  9,  9,  9,  9,  6,  6,  6,  6,  6,\n",
       "        6,  7,  7, 11, 11, 34, 34, 33, 33, 32, 32], dtype=int32)"
      ]
     },
     "execution_count": 18,
     "metadata": {},
     "output_type": "execute_result"
    }
   ],
   "source": [
    "cluster_vector"
   ]
  },
  {
   "cell_type": "code",
   "execution_count": 19,
   "metadata": {
    "execution": {
     "iopub.execute_input": "2020-11-29T14:40:11.630603Z",
     "iopub.status.busy": "2020-11-29T14:40:11.629825Z",
     "iopub.status.idle": "2020-11-29T14:40:11.633546Z",
     "shell.execute_reply": "2020-11-29T14:40:11.632794Z"
    },
    "papermill": {
     "duration": 0.033108,
     "end_time": "2020-11-29T14:40:11.633674",
     "exception": false,
     "start_time": "2020-11-29T14:40:11.600566",
     "status": "completed"
    },
    "tags": []
   },
   "outputs": [],
   "source": [
    "col_cluster_numbers = ['feature'+str(i)+'_cluster' for i in range(130)]"
   ]
  },
  {
   "cell_type": "code",
   "execution_count": 20,
   "metadata": {
    "execution": {
     "iopub.execute_input": "2020-11-29T14:40:11.699328Z",
     "iopub.status.busy": "2020-11-29T14:40:11.693455Z",
     "iopub.status.idle": "2020-11-29T14:40:11.704699Z",
     "shell.execute_reply": "2020-11-29T14:40:11.704033Z"
    },
    "papermill": {
     "duration": 0.04534,
     "end_time": "2020-11-29T14:40:11.704831",
     "exception": false,
     "start_time": "2020-11-29T14:40:11.659491",
     "status": "completed"
    },
    "tags": []
   },
   "outputs": [
    {
     "data": {
      "text/html": [
       "<div>\n",
       "<style scoped>\n",
       "    .dataframe tbody tr th:only-of-type {\n",
       "        vertical-align: middle;\n",
       "    }\n",
       "\n",
       "    .dataframe tbody tr th {\n",
       "        vertical-align: top;\n",
       "    }\n",
       "\n",
       "    .dataframe thead th {\n",
       "        text-align: right;\n",
       "    }\n",
       "</style>\n",
       "<table border=\"1\" class=\"dataframe\">\n",
       "  <thead>\n",
       "    <tr style=\"text-align: right;\">\n",
       "      <th></th>\n",
       "      <th>0</th>\n",
       "      <th>1</th>\n",
       "      <th>2</th>\n",
       "      <th>3</th>\n",
       "      <th>4</th>\n",
       "      <th>5</th>\n",
       "      <th>6</th>\n",
       "      <th>7</th>\n",
       "      <th>8</th>\n",
       "      <th>9</th>\n",
       "      <th>...</th>\n",
       "      <th>120</th>\n",
       "      <th>121</th>\n",
       "      <th>122</th>\n",
       "      <th>123</th>\n",
       "      <th>124</th>\n",
       "      <th>125</th>\n",
       "      <th>126</th>\n",
       "      <th>127</th>\n",
       "      <th>128</th>\n",
       "      <th>129</th>\n",
       "    </tr>\n",
       "  </thead>\n",
       "  <tbody>\n",
       "    <tr>\n",
       "      <th>0</th>\n",
       "      <td>2</td>\n",
       "      <td>10</td>\n",
       "      <td>10</td>\n",
       "      <td>24</td>\n",
       "      <td>24</td>\n",
       "      <td>28</td>\n",
       "      <td>28</td>\n",
       "      <td>31</td>\n",
       "      <td>31</td>\n",
       "      <td>23</td>\n",
       "      <td>...</td>\n",
       "      <td>7</td>\n",
       "      <td>7</td>\n",
       "      <td>11</td>\n",
       "      <td>11</td>\n",
       "      <td>34</td>\n",
       "      <td>34</td>\n",
       "      <td>33</td>\n",
       "      <td>33</td>\n",
       "      <td>32</td>\n",
       "      <td>32</td>\n",
       "    </tr>\n",
       "  </tbody>\n",
       "</table>\n",
       "<p>1 rows × 130 columns</p>\n",
       "</div>"
      ],
      "text/plain": [
       "   0    1    2    3    4    5    6    7    8    9    ...  120  121  122  123  \\\n",
       "0    2   10   10   24   24   28   28   31   31   23  ...    7    7   11   11   \n",
       "\n",
       "   124  125  126  127  128  129  \n",
       "0   34   34   33   33   32   32  \n",
       "\n",
       "[1 rows x 130 columns]"
      ]
     },
     "execution_count": 20,
     "metadata": {},
     "output_type": "execute_result"
    }
   ],
   "source": [
    "pd.DataFrame(cluster_vector).T"
   ]
  },
  {
   "cell_type": "code",
   "execution_count": 21,
   "metadata": {
    "execution": {
     "iopub.execute_input": "2020-11-29T14:40:11.774483Z",
     "iopub.status.busy": "2020-11-29T14:40:11.773595Z",
     "iopub.status.idle": "2020-11-29T14:40:11.779095Z",
     "shell.execute_reply": "2020-11-29T14:40:11.778284Z"
    },
    "papermill": {
     "duration": 0.047976,
     "end_time": "2020-11-29T14:40:11.779227",
     "exception": false,
     "start_time": "2020-11-29T14:40:11.731251",
     "status": "completed"
    },
    "tags": []
   },
   "outputs": [
    {
     "data": {
      "text/html": [
       "<div>\n",
       "<style scoped>\n",
       "    .dataframe tbody tr th:only-of-type {\n",
       "        vertical-align: middle;\n",
       "    }\n",
       "\n",
       "    .dataframe tbody tr th {\n",
       "        vertical-align: top;\n",
       "    }\n",
       "\n",
       "    .dataframe thead th {\n",
       "        text-align: right;\n",
       "    }\n",
       "</style>\n",
       "<table border=\"1\" class=\"dataframe\">\n",
       "  <thead>\n",
       "    <tr style=\"text-align: right;\">\n",
       "      <th></th>\n",
       "      <th>feature0_cluster</th>\n",
       "      <th>feature1_cluster</th>\n",
       "      <th>feature2_cluster</th>\n",
       "      <th>feature3_cluster</th>\n",
       "      <th>feature4_cluster</th>\n",
       "      <th>feature5_cluster</th>\n",
       "      <th>feature6_cluster</th>\n",
       "      <th>feature7_cluster</th>\n",
       "      <th>feature8_cluster</th>\n",
       "      <th>feature9_cluster</th>\n",
       "      <th>...</th>\n",
       "      <th>feature120_cluster</th>\n",
       "      <th>feature121_cluster</th>\n",
       "      <th>feature122_cluster</th>\n",
       "      <th>feature123_cluster</th>\n",
       "      <th>feature124_cluster</th>\n",
       "      <th>feature125_cluster</th>\n",
       "      <th>feature126_cluster</th>\n",
       "      <th>feature127_cluster</th>\n",
       "      <th>feature128_cluster</th>\n",
       "      <th>feature129_cluster</th>\n",
       "    </tr>\n",
       "  </thead>\n",
       "  <tbody>\n",
       "    <tr>\n",
       "      <th>0</th>\n",
       "      <td>2</td>\n",
       "      <td>10</td>\n",
       "      <td>10</td>\n",
       "      <td>24</td>\n",
       "      <td>24</td>\n",
       "      <td>28</td>\n",
       "      <td>28</td>\n",
       "      <td>31</td>\n",
       "      <td>31</td>\n",
       "      <td>23</td>\n",
       "      <td>...</td>\n",
       "      <td>7</td>\n",
       "      <td>7</td>\n",
       "      <td>11</td>\n",
       "      <td>11</td>\n",
       "      <td>34</td>\n",
       "      <td>34</td>\n",
       "      <td>33</td>\n",
       "      <td>33</td>\n",
       "      <td>32</td>\n",
       "      <td>32</td>\n",
       "    </tr>\n",
       "  </tbody>\n",
       "</table>\n",
       "<p>1 rows × 130 columns</p>\n",
       "</div>"
      ],
      "text/plain": [
       "   feature0_cluster  feature1_cluster  feature2_cluster  feature3_cluster  \\\n",
       "0                 2                10                10                24   \n",
       "\n",
       "   feature4_cluster  feature5_cluster  feature6_cluster  feature7_cluster  \\\n",
       "0                24                28                28                31   \n",
       "\n",
       "   feature8_cluster  feature9_cluster  ...  feature120_cluster  \\\n",
       "0                31                23  ...                   7   \n",
       "\n",
       "   feature121_cluster  feature122_cluster  feature123_cluster  \\\n",
       "0                   7                  11                  11   \n",
       "\n",
       "   feature124_cluster  feature125_cluster  feature126_cluster  \\\n",
       "0                  34                  34                  33   \n",
       "\n",
       "   feature127_cluster  feature128_cluster  feature129_cluster  \n",
       "0                  33                  32                  32  \n",
       "\n",
       "[1 rows x 130 columns]"
      ]
     },
     "execution_count": 21,
     "metadata": {},
     "output_type": "execute_result"
    }
   ],
   "source": [
    "pd.DataFrame(pd.Series(cluster_vector, index=col_cluster_numbers)).T"
   ]
  },
  {
   "cell_type": "code",
   "execution_count": 22,
   "metadata": {
    "execution": {
     "iopub.execute_input": "2020-11-29T14:40:11.874383Z",
     "iopub.status.busy": "2020-11-29T14:40:11.873528Z",
     "iopub.status.idle": "2020-11-29T14:40:11.885850Z",
     "shell.execute_reply": "2020-11-29T14:40:11.885120Z"
    },
    "papermill": {
     "duration": 0.069203,
     "end_time": "2020-11-29T14:40:11.886007",
     "exception": false,
     "start_time": "2020-11-29T14:40:11.816804",
     "status": "completed"
    },
    "tags": []
   },
   "outputs": [
    {
     "data": {
      "text/html": [
       "<div>\n",
       "<style scoped>\n",
       "    .dataframe tbody tr th:only-of-type {\n",
       "        vertical-align: middle;\n",
       "    }\n",
       "\n",
       "    .dataframe tbody tr th {\n",
       "        vertical-align: top;\n",
       "    }\n",
       "\n",
       "    .dataframe thead th {\n",
       "        text-align: right;\n",
       "    }\n",
       "</style>\n",
       "<table border=\"1\" class=\"dataframe\">\n",
       "  <thead>\n",
       "    <tr style=\"text-align: right;\">\n",
       "      <th></th>\n",
       "      <th>0</th>\n",
       "      <th>1</th>\n",
       "      <th>2</th>\n",
       "      <th>3</th>\n",
       "      <th>4</th>\n",
       "      <th>5</th>\n",
       "      <th>6</th>\n",
       "      <th>7</th>\n",
       "      <th>8</th>\n",
       "      <th>9</th>\n",
       "      <th>...</th>\n",
       "      <th>120</th>\n",
       "      <th>121</th>\n",
       "      <th>122</th>\n",
       "      <th>123</th>\n",
       "      <th>124</th>\n",
       "      <th>125</th>\n",
       "      <th>126</th>\n",
       "      <th>127</th>\n",
       "      <th>128</th>\n",
       "      <th>129</th>\n",
       "    </tr>\n",
       "  </thead>\n",
       "  <tbody>\n",
       "    <tr>\n",
       "      <th>0</th>\n",
       "      <td>2</td>\n",
       "      <td>10</td>\n",
       "      <td>10</td>\n",
       "      <td>24</td>\n",
       "      <td>24</td>\n",
       "      <td>28</td>\n",
       "      <td>28</td>\n",
       "      <td>31</td>\n",
       "      <td>31</td>\n",
       "      <td>23</td>\n",
       "      <td>...</td>\n",
       "      <td>7</td>\n",
       "      <td>7</td>\n",
       "      <td>11</td>\n",
       "      <td>11</td>\n",
       "      <td>34</td>\n",
       "      <td>34</td>\n",
       "      <td>33</td>\n",
       "      <td>33</td>\n",
       "      <td>32</td>\n",
       "      <td>32</td>\n",
       "    </tr>\n",
       "  </tbody>\n",
       "</table>\n",
       "<p>1 rows × 130 columns</p>\n",
       "</div>"
      ],
      "text/plain": [
       "   0    1    2    3    4    5    6    7    8    9    ...  120  121  122  123  \\\n",
       "0    2   10   10   24   24   28   28   31   31   23  ...    7    7   11   11   \n",
       "\n",
       "   124  125  126  127  128  129  \n",
       "0   34   34   33   33   32   32  \n",
       "\n",
       "[1 rows x 130 columns]"
      ]
     },
     "execution_count": 22,
     "metadata": {},
     "output_type": "execute_result"
    }
   ],
   "source": [
    "pd.get_dummies(pd.DataFrame(cluster_vector).T)"
   ]
  }
 ],
 "metadata": {
  "kernelspec": {
   "display_name": "Python 3",
   "language": "python",
   "name": "python3"
  },
  "language_info": {
   "codemirror_mode": {
    "name": "ipython",
    "version": 3
   },
   "file_extension": ".py",
   "mimetype": "text/x-python",
   "name": "python",
   "nbconvert_exporter": "python",
   "pygments_lexer": "ipython3",
   "version": "3.7.6"
  },
  "papermill": {
   "duration": 67.231542,
   "end_time": "2020-11-29T14:40:12.225019",
   "environment_variables": {},
   "exception": null,
   "input_path": "__notebook__.ipynb",
   "output_path": "__notebook__.ipynb",
   "parameters": {},
   "start_time": "2020-11-29T14:39:04.993477",
   "version": "2.1.0"
  }
 },
 "nbformat": 4,
 "nbformat_minor": 4
}
