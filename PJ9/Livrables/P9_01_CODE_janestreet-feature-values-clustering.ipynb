{
 "cells": [
  {
   "cell_type": "markdown",
   "metadata": {
    "papermill": {
     "duration": 0.014146,
     "end_time": "2020-12-26T03:26:06.425739",
     "exception": false,
     "start_time": "2020-12-26T03:26:06.411593",
     "status": "completed"
    },
    "tags": []
   },
   "source": [
    "# Clustering of feature values"
   ]
  },
  {
   "cell_type": "code",
   "execution_count": 1,
   "metadata": {
    "_cell_guid": "b1076dfc-b9ad-4769-8c92-a6c4dae69d19",
    "_kg_hide-input": true,
    "_kg_hide-output": true,
    "_uuid": "8f2839f25d086af736a60e9eeb907d3b93b6e0e5",
    "execution": {
     "iopub.execute_input": "2020-12-26T03:26:06.458010Z",
     "iopub.status.busy": "2020-12-26T03:26:06.457321Z",
     "iopub.status.idle": "2020-12-26T03:26:07.708756Z",
     "shell.execute_reply": "2020-12-26T03:26:07.708015Z"
    },
    "papermill": {
     "duration": 1.271573,
     "end_time": "2020-12-26T03:26:07.708877",
     "exception": false,
     "start_time": "2020-12-26T03:26:06.437304",
     "status": "completed"
    },
    "tags": []
   },
   "outputs": [
    {
     "name": "stdout",
     "output_type": "stream",
     "text": [
      "/kaggle/input/faiss-163/numpy-1.19.2-cp37-cp37m-manylinux2010_x86_64.whl\n",
      "/kaggle/input/faiss-163/faiss_gpu-1.6.3-cp37-cp37m-manylinux2010_x86_64.whl\n",
      "/kaggle/input/faiss-163/faiss_cpu-1.6.3-cp37-cp37m-manylinux2010_x86_64.whl\n",
      "/kaggle/input/jane-street-market-prediction/example_sample_submission.csv\n",
      "/kaggle/input/jane-street-market-prediction/features.csv\n",
      "/kaggle/input/jane-street-market-prediction/example_test.csv\n",
      "/kaggle/input/jane-street-market-prediction/train.csv\n",
      "/kaggle/input/jane-street-market-prediction/janestreet/competition.cpython-37m-x86_64-linux-gnu.so\n",
      "/kaggle/input/jane-street-market-prediction/janestreet/__init__.py\n"
     ]
    },
    {
     "data": {
      "text/html": [
       "<style type='text/css'>\n",
       ".datatable table.frame { margin-bottom: 0; }\n",
       ".datatable table.frame thead { border-bottom: none; }\n",
       ".datatable table.frame tr.coltypes td {  color: #FFFFFF;  line-height: 6px;  padding: 0 0.5em;}\n",
       ".datatable .bool    { background: #DDDD99; }\n",
       ".datatable .object  { background: #565656; }\n",
       ".datatable .int     { background: #5D9E5D; }\n",
       ".datatable .float   { background: #4040CC; }\n",
       ".datatable .str     { background: #CC4040; }\n",
       ".datatable .row_index {  background: var(--jp-border-color3);  border-right: 1px solid var(--jp-border-color0);  color: var(--jp-ui-font-color3);  font-size: 9px;}\n",
       ".datatable .frame tr.coltypes .row_index {  background: var(--jp-border-color0);}\n",
       ".datatable th:nth-child(2) { padding-left: 12px; }\n",
       ".datatable .hellipsis {  color: var(--jp-cell-editor-border-color);}\n",
       ".datatable .vellipsis {  background: var(--jp-layout-color0);  color: var(--jp-cell-editor-border-color);}\n",
       ".datatable .na {  color: var(--jp-cell-editor-border-color);  font-size: 80%;}\n",
       ".datatable .footer { font-size: 9px; }\n",
       ".datatable .frame_dimensions {  background: var(--jp-border-color3);  border-top: 1px solid var(--jp-border-color0);  color: var(--jp-ui-font-color3);  display: inline-block;  opacity: 0.6;  padding: 1px 10px 1px 5px;}\n",
       ".datatable .frame thead tr.colnames {  background-image: url('data:image/png;base64,iVBORw0KGgoAAAANSUhEUgAAABwAAAA4CAYAAADuMJi0AAAGR0lEQVR42rVZ21IbRxBtCbQrkIR2dQVjsLmDLBsET3nTQ8ouYRkQVf6e/E9+Im958qMfkgoXAaKSSj6C9Jnd2R2NeiRSRaZqitVOT5+Z6dNnWoKGlN94JFp8Ipofkb/7SOXjGyp8wF+z35K3f0uUp/GW4XfLQ8v2gefj3ZCCzojoNfue+43o1Q3l3xB/yA3JO7jnF2pCLnI+pNyx/qw7L+SQ7T2N9p2f8c60QcfcK6KGXsAd+ZvA4LlZYuSSAoOhMs5vwJkEGDlbPMaJoA+FcQ0IH38QLWkbAFLkOOhoMF5tU6/eBRhNjro0ZgKiPRAt3FLhCO/vqdgmNTm32LkmKpvBmQY4q5uAaAgbwDBG2BVv3bfI8KKAMWj2kfw9+pkZREIbEql4ST1x7hgHIANkbJ//MF8mAH/ilTCJ2tIi4ASr1IC3VNqXHKOxjy34mgoImnOQtx1g81fkqTiMOBVGcTogNhiT5iBHET8R8C+iApJUmgim3SQAXhsLQz7ee2G8gOAQNtJckBEplADiAxtX+G9NmhDl0qJKnTvyWlAMPYZnvIviGXRg6/Dh824DBXhP/tbfREXJEIvQ+aaPGjG7pvw6r3xdx+9hqb4dgZaP2XmdHO2K/B0c1+oUph6k8kShBryl/Ft0DYgjTlOieOACHFFpVyUl72T9V3cM1jUoYvxIC2vpCSys/ck70mDYuYvdvKjlMdKAUThneWVU1aAsyjv6PURDiwNsHGBZzY+JtAAgE2TFxdRHJdyIp/f+zqu09M5cDP2F08Ukkpj4YNSdX950HY2pNCCUK/Hhx5ZMBfjNSEzdsIihVzzAMdn9dz4eDYhnyQb9SSCiAryiJcQk82LiTbJ4x2FZJaUenpKnzP95WyDf4Y+QN9EFHHSeDLGdBjjKNQ5vKHf4XMA7KrY0y0GEObBOO/8e1ywuQExOHXktuQyJALEBpcEqhwtHqgiDuCK5b6i0p2MQpcckIIoh+6hYgTZtO8xlMi6O4tKCF/kOGHEg/W0UUpHW0ZoGNZ1ExZWcn7EErgwt4uj50E/sFBjXXIayWvh7WryjasxarZKssXon0zxvvkc32Q0bqbBCuZiKt9dWFysfQefeL29JYFaeztX6tePaZdz5mYx8+6Zq3Mk0wXECQxlhdzgS2wjBHju3j1RIgKyOMdNUE8X0+RAdbSapS11MRCv1SzUXmO6wGZe2SQYrv2MvCSWEv2VODE6DN7bz8ufypgQKW7uQskFTQHULLKyaEyrnlZbgOGLrV5qrn9U79jjm2HJmgkaVN98AfBub91lGPLZBqdroN5LYgjSu4zYZDDHXZOIPC691HqrWI1900I8qLzgKP4ft8DxEWigprPfrO+KcXno9gZz4jjGewWdUcpGCj0qVFuGPYbl2VturndZ2qRvlL8acDO6lF/DY/VjsFesiUK+ypJ+r/ep+cJkSQxEK4PG4WozgA75TYrDDqStE69K8/mzGEM+JXTeqvmedEElMmwCMm2SLd6bNNF9su02zEtoW6nAQtpMj5Gd7fKa//wqonF7UdtHFsVn+6hf1o7AfriPH7M6EeIUEF5zKVxXbYo7kS/OEtOqDYZKPoBsETIixn0uYrasThmzDkhdKPkz2EnaX0HdQbIgr59vAdGYDqjHrxkjS7WOxkTD8sqEqhiwcJETgBYigrBqF08KyDaje9SZ/I1A7MzaTzMGDEulPtZUkuKcyIRAjxEJPVrnVlb/9wkfij31D/pQt1IN+iL8bGJcstBIO7Y5VI/cwDqURbXhMuJxBqD0KLoK3esWFs0Jz5i5ZvJUAfFJMFb9XmGIOnzGpijpcWYCaMqXSQWp8EnCABepQ0Elyi4wfKfsw78ikIqif1pe1AGPlLmojl1SKxHHXp1L+Ut7AmDQHvhI5xHGi4EooO2BR7k78PEkJOdL7cAxQUZ/Tyclu9gnfwGgOmm2lNHGNmZXsq4Pqgc1EG1ATrvKl8s4R9ywwnqulGUnaRLVhxy8v3ieUwy2hbooT68uscW++DCDH0WSzuoyN2D4LUJ/tLECbcSKznwMIFs0ChF4mRTCnQbIIfk4SHJo6A9BMuTnXTs3Ku/KxsgZWqzuSe+Os8cEUfnMBY6UF5gi3SUbd5K7vDjq5WW0UENJlRsWn4sy21Er/E/AvPQSFHy1p4fgAAAAASUVORK5CYII=');  background-repeat: repeat-x;  background-size: 14px;  height: 28px;}\n",
       "</style>\n"
      ],
      "text/plain": [
       "<IPython.core.display.HTML object>"
      ]
     },
     "metadata": {},
     "output_type": "display_data"
    }
   ],
   "source": [
    "# This Python 3 environment comes with many helpful analytics libraries installed\n",
    "# It is defined by the kaggle/python Docker image: https://github.com/kaggle/docker-python\n",
    "# For example, here's several helpful packages to load\n",
    "\n",
    "import numpy as np # linear algebra\n",
    "import pandas as pd # data processing, CSV file I/O (e.g. pd.read_csv)\n",
    "import matplotlib.pyplot as plt\n",
    "\n",
    "# Input data files are available in the read-only \"../input/\" directory\n",
    "# For example, running this (by clicking run or pressing Shift+Enter) will list all files under the input directory\n",
    "\n",
    "import os\n",
    "for dirname, _, filenames in os.walk('/kaggle/input'):\n",
    "    for filename in filenames:\n",
    "        print(os.path.join(dirname, filename))\n",
    "\n",
    "# You can write up to 20GB to the current directory (/kaggle/working/) that gets preserved as output when you create a version using \"Save & Run All\" \n",
    "# You can also write temporary files to /kaggle/temp/, but they won't be saved outside of the current session\n",
    "\n",
    "import datatable as dt\n",
    "from sklearn.metrics import silhouette_score\n",
    "\n",
    "\n",
    "import gc\n",
    "pd.set_option('display.max_rows', 500)"
   ]
  },
  {
   "cell_type": "markdown",
   "metadata": {
    "papermill": {
     "duration": 0.012767,
     "end_time": "2020-12-26T03:26:07.736747",
     "exception": false,
     "start_time": "2020-12-26T03:26:07.723980",
     "status": "completed"
    },
    "tags": []
   },
   "source": [
    "# Install and import FAISS"
   ]
  },
  {
   "cell_type": "code",
   "execution_count": 2,
   "metadata": {
    "_kg_hide-input": false,
    "execution": {
     "iopub.execute_input": "2020-12-26T03:26:07.769589Z",
     "iopub.status.busy": "2020-12-26T03:26:07.768785Z",
     "iopub.status.idle": "2020-12-26T03:26:18.264167Z",
     "shell.execute_reply": "2020-12-26T03:26:18.263560Z"
    },
    "papermill": {
     "duration": 10.514617,
     "end_time": "2020-12-26T03:26:18.264283",
     "exception": false,
     "start_time": "2020-12-26T03:26:07.749666",
     "status": "completed"
    },
    "tags": []
   },
   "outputs": [
    {
     "name": "stdout",
     "output_type": "stream",
     "text": [
      "Processing /kaggle/input/faiss-163/faiss_cpu-1.6.3-cp37-cp37m-manylinux2010_x86_64.whl\r\n",
      "Requirement already satisfied: numpy in /opt/conda/lib/python3.7/site-packages (from faiss-cpu==1.6.3) (1.18.5)\r\n",
      "Installing collected packages: faiss-cpu\r\n",
      "Successfully installed faiss-cpu-1.6.3\r\n",
      "\u001b[33mWARNING: You are using pip version 20.3.1; however, version 20.3.3 is available.\r\n",
      "You should consider upgrading via the '/opt/conda/bin/python3.7 -m pip install --upgrade pip' command.\u001b[0m\r\n"
     ]
    }
   ],
   "source": [
    "!pip install ../input/faiss-163/faiss_cpu-1.6.3-cp37-cp37m-manylinux2010_x86_64.whl"
   ]
  },
  {
   "cell_type": "code",
   "execution_count": 3,
   "metadata": {
    "_kg_hide-input": false,
    "execution": {
     "iopub.execute_input": "2020-12-26T03:26:18.302491Z",
     "iopub.status.busy": "2020-12-26T03:26:18.301160Z",
     "iopub.status.idle": "2020-12-26T03:26:18.374283Z",
     "shell.execute_reply": "2020-12-26T03:26:18.373441Z"
    },
    "papermill": {
     "duration": 0.095349,
     "end_time": "2020-12-26T03:26:18.374461",
     "exception": false,
     "start_time": "2020-12-26T03:26:18.279112",
     "status": "completed"
    },
    "tags": []
   },
   "outputs": [],
   "source": [
    "import faiss"
   ]
  },
  {
   "cell_type": "markdown",
   "metadata": {
    "papermill": {
     "duration": 0.015743,
     "end_time": "2020-12-26T03:26:18.405239",
     "exception": false,
     "start_time": "2020-12-26T03:26:18.389496",
     "status": "completed"
    },
    "tags": []
   },
   "source": [
    "# Load data"
   ]
  },
  {
   "cell_type": "code",
   "execution_count": 4,
   "metadata": {
    "_cell_guid": "79c7e3d0-c299-4dcb-8224-4455121ee9b0",
    "_kg_hide-input": false,
    "_uuid": "d629ff2d2480ee46fbb7e2d37f6b5fab8052498a",
    "execution": {
     "iopub.execute_input": "2020-12-26T03:26:18.445064Z",
     "iopub.status.busy": "2020-12-26T03:26:18.444284Z",
     "iopub.status.idle": "2020-12-26T03:26:58.694552Z",
     "shell.execute_reply": "2020-12-26T03:26:58.693931Z"
    },
    "papermill": {
     "duration": 40.274296,
     "end_time": "2020-12-26T03:26:58.694672",
     "exception": false,
     "start_time": "2020-12-26T03:26:18.420376",
     "status": "completed"
    },
    "tags": []
   },
   "outputs": [],
   "source": [
    "train_data_datatable = dt.fread('../input/jane-street-market-prediction/train.csv')\n",
    "df = train_data_datatable.to_pandas()\n",
    "\n",
    "# Thanks to this notebook to gain memory usage : https://www.kaggle.com/jorijnsmit/one-liner-to-halve-your-memory-usage\n",
    "float64_cols = df.select_dtypes(include='float64').columns\n",
    "mapper = {col_name: np.float32 for col_name in float64_cols}\n",
    "df = df.astype(mapper)\n",
    "\n",
    "del train_data_datatable    \n"
   ]
  },
  {
   "cell_type": "markdown",
   "metadata": {
    "papermill": {
     "duration": 0.014305,
     "end_time": "2020-12-26T03:26:58.723941",
     "exception": false,
     "start_time": "2020-12-26T03:26:58.709636",
     "status": "completed"
    },
    "tags": []
   },
   "source": [
    "# Train a clustering with k=5 clusters"
   ]
  },
  {
   "cell_type": "code",
   "execution_count": 5,
   "metadata": {
    "_kg_hide-input": false,
    "execution": {
     "iopub.execute_input": "2020-12-26T03:26:58.765015Z",
     "iopub.status.busy": "2020-12-26T03:26:58.764347Z",
     "iopub.status.idle": "2020-12-26T03:26:58.766702Z",
     "shell.execute_reply": "2020-12-26T03:26:58.767198Z"
    },
    "papermill": {
     "duration": 0.028718,
     "end_time": "2020-12-26T03:26:58.767354",
     "exception": false,
     "start_time": "2020-12-26T03:26:58.738636",
     "status": "completed"
    },
    "tags": []
   },
   "outputs": [],
   "source": [
    "class FaissKMeans:\n",
    "    def __init__(self, n_clusters=8, n_init=10, max_iter=300):\n",
    "        self.n_clusters = n_clusters\n",
    "        self.n_init = n_init\n",
    "        self.max_iter = max_iter\n",
    "        self.kmeans = None\n",
    "        self.cluster_centers_ = None\n",
    "        self.inertia_ = None\n",
    "\n",
    "    def fit(self, X):\n",
    "        self.kmeans = faiss.Kmeans(d=X.shape[1],\n",
    "                                   k=self.n_clusters,\n",
    "                                   niter=self.max_iter,\n",
    "                                   nredo=self.n_init)\n",
    "        self.kmeans.train(X.astype(np.float32))\n",
    "        self.cluster_centers_ = self.kmeans.centroids\n",
    "        self.inertia_ = self.kmeans.obj[-1]\n",
    "\n",
    "    def predict(self, X):\n",
    "        return self.kmeans.index.search(X.astype(np.float32), 1)[1]"
   ]
  },
  {
   "cell_type": "code",
   "execution_count": 6,
   "metadata": {
    "execution": {
     "iopub.execute_input": "2020-12-26T03:26:58.800634Z",
     "iopub.status.busy": "2020-12-26T03:26:58.799992Z",
     "iopub.status.idle": "2020-12-26T03:26:59.266934Z",
     "shell.execute_reply": "2020-12-26T03:26:59.266323Z"
    },
    "papermill": {
     "duration": 0.484453,
     "end_time": "2020-12-26T03:26:59.267059",
     "exception": false,
     "start_time": "2020-12-26T03:26:58.782606",
     "status": "completed"
    },
    "tags": []
   },
   "outputs": [],
   "source": [
    "cols_with_missing = [col for col in df.columns if df[col].isnull().any()]\n",
    "for col in cols_with_missing:\n",
    "    df[col].fillna(-999, inplace=True) "
   ]
  },
  {
   "cell_type": "code",
   "execution_count": 7,
   "metadata": {
    "execution": {
     "iopub.execute_input": "2020-12-26T03:26:59.308444Z",
     "iopub.status.busy": "2020-12-26T03:26:59.307662Z",
     "iopub.status.idle": "2020-12-26T03:27:33.567718Z",
     "shell.execute_reply": "2020-12-26T03:27:33.568436Z"
    },
    "papermill": {
     "duration": 34.286082,
     "end_time": "2020-12-26T03:27:33.568633",
     "exception": false,
     "start_time": "2020-12-26T03:26:59.282551",
     "status": "completed"
    },
    "tags": []
   },
   "outputs": [],
   "source": [
    "NB_CLUSTERS = 5\n",
    "FEATURES_LIST = ['feature_'+str(i) for i in range(130)] + ['weight']\n",
    "\n",
    "clusterer = FaissKMeans(n_clusters=NB_CLUSTERS, n_init=10, max_iter=3000)\n",
    "\n",
    "df = df.astype({'feature_0': np.float32})\n",
    "df_feats = np.copy(df[FEATURES_LIST].to_numpy(), order='C')\n",
    "clusterer.fit(df_feats)\n",
    "y_clusters = clusterer.predict(df_feats)\n",
    "#silhouette_score(df_feats, y_clusters.ravel()) # Too slow"
   ]
  },
  {
   "cell_type": "code",
   "execution_count": 8,
   "metadata": {
    "execution": {
     "iopub.execute_input": "2020-12-26T03:27:33.891635Z",
     "iopub.status.busy": "2020-12-26T03:27:33.890918Z",
     "iopub.status.idle": "2020-12-26T03:27:34.350234Z",
     "shell.execute_reply": "2020-12-26T03:27:34.349491Z"
    },
    "papermill": {
     "duration": 0.762005,
     "end_time": "2020-12-26T03:27:34.350375",
     "exception": false,
     "start_time": "2020-12-26T03:27:33.588370",
     "status": "completed"
    },
    "tags": []
   },
   "outputs": [],
   "source": [
    "df_full = pd.concat([df[FEATURES_LIST+['date', 'resp']], pd.DataFrame(y_clusters, columns=['cluster'], index=df.index)], axis=1)"
   ]
  },
  {
   "cell_type": "markdown",
   "metadata": {
    "papermill": {
     "duration": 0.016108,
     "end_time": "2020-12-26T03:27:34.382969",
     "exception": false,
     "start_time": "2020-12-26T03:27:34.366861",
     "status": "completed"
    },
    "tags": []
   },
   "source": [
    "# Some visualizations "
   ]
  },
  {
   "cell_type": "code",
   "execution_count": 9,
   "metadata": {
    "_kg_hide-input": true,
    "execution": {
     "iopub.execute_input": "2020-12-26T03:27:34.428114Z",
     "iopub.status.busy": "2020-12-26T03:27:34.427377Z",
     "iopub.status.idle": "2020-12-26T03:27:36.846172Z",
     "shell.execute_reply": "2020-12-26T03:27:36.845109Z"
    },
    "papermill": {
     "duration": 2.446242,
     "end_time": "2020-12-26T03:27:36.846324",
     "exception": false,
     "start_time": "2020-12-26T03:27:34.400082",
     "status": "completed"
    },
    "tags": []
   },
   "outputs": [
    {
     "data": {
      "image/png": "[encoded data removed]",
      "text/plain": [
       "<Figure size 1080x360 with 1 Axes>"
      ]
     },
     "metadata": {
      "needs_background": "light"
     },
     "output_type": "display_data"
    }
   ],
   "source": [
    "#fig = plt.figure(figsize = (15, 10))\n",
    "fig, ax = plt.subplots(figsize=(15, 5))\n",
    "#ax = axes.ravel()\n",
    "#fig.tight_layout(pad=10.0)\n",
    "\n",
    "ax.set_xlabel('Date', fontsize=18)\n",
    "ax.set_ylabel('Number of instances in cluster', fontsize=18)\n",
    "ax.set_title('Repartition of clusters along time', fontsize=18)\n",
    "\n",
    "colors = ['red', 'blue', 'orange', 'brown', 'black']\n",
    "\n",
    "for cluster_indice in range(NB_CLUSTERS):\n",
    "    df_cluster = df_full[df_full.cluster == cluster_indice].groupby(by='date')['date'].count()\n",
    "    df_cluster.rename(f'Cluster {cluster_indice}', inplace=True)\n",
    "    #ax = fig.add_subplot(111)\n",
    "\n",
    "    df_cluster.groupby(pd.cut(df_cluster.index, np.arange(-1,500,100))).sum().plot(kind='bar', position=cluster_indice, label=f'{cluster_indice}', color=colors[cluster_indice], width=0.1)\n",
    "    \n",
    "plt.legend(loc=\"upper right\");"
   ]
  },
  {
   "cell_type": "code",
   "execution_count": 10,
   "metadata": {
    "_kg_hide-input": true,
    "execution": {
     "iopub.execute_input": "2020-12-26T03:27:36.886478Z",
     "iopub.status.busy": "2020-12-26T03:27:36.885747Z",
     "iopub.status.idle": "2020-12-26T03:27:36.985386Z",
     "shell.execute_reply": "2020-12-26T03:27:36.985944Z"
    },
    "papermill": {
     "duration": 0.123255,
     "end_time": "2020-12-26T03:27:36.986111",
     "exception": false,
     "start_time": "2020-12-26T03:27:36.862856",
     "status": "completed"
    },
    "tags": []
   },
   "outputs": [],
   "source": [
    "#df_full['resp_bins'] = pd.cut(df_full['resp'], bins=[-0.25, -0.2, -0.15, -0.1, -0.0505, -0.000569, 0.0493, 0.0992, 0.149])\n",
    "df_full['resp_bins'] = pd.cut(df_full['resp'], bins=50)"
   ]
  },
  {
   "cell_type": "code",
   "execution_count": 11,
   "metadata": {
    "_kg_hide-input": true,
    "execution": {
     "iopub.execute_input": "2020-12-26T03:27:37.038090Z",
     "iopub.status.busy": "2020-12-26T03:27:37.037418Z",
     "iopub.status.idle": "2020-12-26T03:27:38.924816Z",
     "shell.execute_reply": "2020-12-26T03:27:38.923175Z"
    },
    "papermill": {
     "duration": 1.920867,
     "end_time": "2020-12-26T03:27:38.925068",
     "exception": false,
     "start_time": "2020-12-26T03:27:37.004201",
     "status": "completed"
    },
    "tags": []
   },
   "outputs": [
    {
     "data": {
      "image/png": "[encoded data removed]",
      "text/plain": [
       "<Figure size 1080x360 with 1 Axes>"
      ]
     },
     "metadata": {
      "needs_background": "light"
     },
     "output_type": "display_data"
    }
   ],
   "source": [
    "#fig = plt.figure(figsize = (15, 10))\n",
    "fig, ax = plt.subplots(figsize=(15, 5))\n",
    "#ax = axes.ravel()\n",
    "#fig.tight_layout(pad=10.0)\n",
    "\n",
    "ax.set_xlabel('Date', fontsize=18)\n",
    "ax.set_ylabel('Number of instances in cluster', fontsize=18)\n",
    "ax.set_title('Repartition of clusters along resp interval', fontsize=18)\n",
    "\n",
    "colors = ['red', 'blue', 'orange', 'brown', 'black']\n",
    "\n",
    "for cluster_indice in range(NB_CLUSTERS):\n",
    "    df_cluster = df_full[df_full.cluster == cluster_indice].groupby(by='resp_bins')['resp_bins'].count()\n",
    "    df_cluster.rename(f'Cluster {cluster_indice}', inplace=True)\n",
    "    #ax = fig.add_subplot(111)\n",
    "\n",
    "    df_cluster.plot(kind='bar', position=cluster_indice, label=f'{cluster_indice}', color=colors[cluster_indice], width=0.1)\n",
    "    \n",
    "plt.legend(loc=\"upper right\");"
   ]
  },
  {
   "cell_type": "code",
   "execution_count": 12,
   "metadata": {
    "_kg_hide-input": true,
    "execution": {
     "iopub.execute_input": "2020-12-26T03:27:39.038937Z",
     "iopub.status.busy": "2020-12-26T03:27:39.037318Z",
     "iopub.status.idle": "2020-12-26T03:27:39.269600Z",
     "shell.execute_reply": "2020-12-26T03:27:39.277848Z"
    },
    "papermill": {
     "duration": 0.310425,
     "end_time": "2020-12-26T03:27:39.278604",
     "exception": false,
     "start_time": "2020-12-26T03:27:38.968179",
     "status": "completed"
    },
    "tags": []
   },
   "outputs": [
    {
     "data": {
      "image/png": "[encoded data removed]",
      "text/plain": [
       "<Figure size 1080x360 with 1 Axes>"
      ]
     },
     "metadata": {
      "needs_background": "light"
     },
     "output_type": "display_data"
    }
   ],
   "source": [
    "fig, ax = plt.subplots(figsize=(15, 5))\n",
    "#ax = axes.ravel()\n",
    "#fig.tight_layout(pad=10.0)\n",
    "\n",
    "ax.set_xlabel('Cluster', fontsize=18)\n",
    "ax.set_ylabel('Number of values in cluster', fontsize=18)\n",
    "ax.set_title('Number of values by cluster', fontsize=18)\n",
    "\n",
    "df_full.groupby(by='cluster')['resp'].count().plot.bar(figsize=(15,5), ax=ax, color=colors);"
   ]
  },
  {
   "cell_type": "code",
   "execution_count": 13,
   "metadata": {
    "_kg_hide-input": true,
    "execution": {
     "iopub.execute_input": "2020-12-26T03:27:39.335945Z",
     "iopub.status.busy": "2020-12-26T03:27:39.333749Z",
     "iopub.status.idle": "2020-12-26T03:27:39.550671Z",
     "shell.execute_reply": "2020-12-26T03:27:39.551255Z"
    },
    "papermill": {
     "duration": 0.251347,
     "end_time": "2020-12-26T03:27:39.551442",
     "exception": false,
     "start_time": "2020-12-26T03:27:39.300095",
     "status": "completed"
    },
    "tags": []
   },
   "outputs": [
    {
     "data": {
      "image/png": "[encoded data removed]",
      "text/plain": [
       "<Figure size 1080x360 with 1 Axes>"
      ]
     },
     "metadata": {
      "needs_background": "light"
     },
     "output_type": "display_data"
    }
   ],
   "source": [
    "fig, ax = plt.subplots(figsize=(15, 5))\n",
    "#ax = axes.ravel()\n",
    "#fig.tight_layout(pad=10.0)\n",
    "\n",
    "ax.set_xlabel('Cluster', fontsize=18)\n",
    "ax.set_ylabel('Mean value of resp in cluster', fontsize=18)\n",
    "ax.set_title('resp mean by cluster', fontsize=18)\n",
    "\n",
    "df_full.groupby(by='cluster')['resp'].mean().plot.bar(figsize=(15,5), ax=ax, color=colors);"
   ]
  }
 ],
 "metadata": {
  "kernelspec": {
   "display_name": "Python 3",
   "language": "python",
   "name": "python3"
  },
  "language_info": {
   "codemirror_mode": {
    "name": "ipython",
    "version": 3
   },
   "file_extension": ".py",
   "mimetype": "text/x-python",
   "name": "python",
   "nbconvert_exporter": "python",
   "pygments_lexer": "ipython3",
   "version": "3.7.6"
  },
  "papermill": {
   "duration": 98.711444,
   "end_time": "2020-12-26T03:27:39.682807",
   "environment_variables": {},
   "exception": null,
   "input_path": "__notebook__.ipynb",
   "output_path": "__notebook__.ipynb",
   "parameters": {},
   "start_time": "2020-12-26T03:26:00.971363",
   "version": "2.1.0"
  }
 },
 "nbformat": 4,
 "nbformat_minor": 4
}
