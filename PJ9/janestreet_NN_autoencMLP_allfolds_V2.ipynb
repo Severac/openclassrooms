{
 "cells": [
  {
   "cell_type": "markdown",
   "metadata": {},
   "source": [
    "# Pytorch classifier notebook\n",
    "\n",
    "V1 : only 1 split. First implementation  \n",
    "All folds V1 : with all folds  \n",
    "All folds V2 : add activation stats plot  \n",
    "All folds V2.1 : back to  best MLP found so far, and backport fix of activation layers stats. Add weight decay and scheduler (fit one cycle) code\n",
    "\n",
    "All folds autoencoder MLP V1  \n",
    "All folds autoencoder MLP V2 : with weights and biases"
   ]
  },
  {
   "cell_type": "code",
   "execution_count": 1,
   "metadata": {},
   "outputs": [],
   "source": [
    "import numpy as np # linear algebra\n",
    "import pandas as pd # data processing, CSV file I/O (e.g. pd.read_csv)\n",
    "\n",
    "import matplotlib.pyplot as plt\n",
    "\n",
    "from sklearn.metrics import accuracy_score\n",
    "\n",
    "import torch\n",
    "import torch.nn as nn\n",
    "import torch.nn.functional as F\n",
    "import torch.optim as optim\n",
    "import torchvision.transforms as transforms\n",
    "import torchvision.utils as utils\n",
    "\n",
    "from torch.utils.tensorboard import SummaryWriter\n",
    "import io\n",
    "import PIL.Image\n",
    "\n",
    "import datetime\n",
    "\n",
    "torch.set_printoptions(edgeitems=2)\n",
    "torch.manual_seed(42)\n",
    "\n",
    "DATASET_INPUT_FILE = 'train.csv'\n",
    "\n",
    "#FEATURES_LIST_TOTRAIN = ['feature_'+str(i) for i in range(130)] + ['cross_41_42_43', 'cross_1_2']\n",
    "FEATURES_LIST_TOTRAIN = ['feature_'+str(i) for i in range(130)]\n",
    "\n",
    "# For custom non-overlaped folds generation\n",
    "TRAIN_PERCENT = 0.70  \n",
    "TEST_PERCENT = 0.30\n",
    "\n",
    "# If subsplit of training set : percentage of second training set  \n",
    "TRAIN1_PERCENT = 0.20  \n",
    "\n",
    "pd.set_option('display.max_rows', 500)"
   ]
  },
  {
   "cell_type": "code",
   "execution_count": 2,
   "metadata": {},
   "outputs": [],
   "source": [
    "# Deterministic Behavior\n",
    "seed = 42\n",
    "#os.environ['PYTHONHASHSEED'] = str(seed)\n",
    "# Torch RNG\n",
    "torch.manual_seed(seed)\n",
    "torch.cuda.manual_seed(seed)\n",
    "torch.cuda.manual_seed_all(seed)\n",
    "# Python RNG\n",
    "np.random.seed(seed)\n",
    "#random.seed(seed)\n",
    "# CuDA Determinism\n",
    "torch.backends.cudnn.deterministic = True\n",
    "#torch.backends.cudnn.benchmark = False"
   ]
  },
  {
   "cell_type": "code",
   "execution_count": 3,
   "metadata": {},
   "outputs": [],
   "source": [
    "DO_SWEEP = True\n",
    "DO_SINGLE_TRAIN = True\n",
    "#BATCH_SIZE = 50000\n",
    "#BATCH_SIZE = 4096 # Gave once better results than 50000\n",
    "#BATCH_SIZE = 2048\n",
    "\n",
    "#BATCH_SIZE = 300000\n",
    "\n",
    "#BATCH_SIZE = 4096\n",
    "#BATCH_SIZE = 8192\n",
    "#BATCH_SIZE = 32768\n",
    "BATCH_SIZE = 8192\n",
    "WEIGHT_DECAY = 1e-4 # Remettre à 1e-5\n",
    "LEARNING_RATE = 1e-4\n",
    "DROPOUT = 0.7\n",
    "\n",
    "EARLY_STOPPING = True\n",
    "\n",
    "NUM_EPOCHS = 1000\n",
    "#NUM_EPOCHS = 36\n",
    "\n",
    "MODEL_FILE = f'model_NN_allfolds_V1.pt'\n",
    "\n",
    "BATCH_SIZE_AE = 40960\n",
    "NUM_EPOCHS_AE = 1000\n",
    "LEARNING_RATE_AE = 1e-3\n",
    "WEIGHT_DECAY_AE = 1e-4\n",
    "MODEL_FILE_AE = f'model_NN_AE_allfolds_V1.pt'\n",
    "\n",
    "RETRAIN_MODEl_AE = False\n",
    "\n",
    "MODEL_COMMENT_AE = f'All folds MLP autoenc, 2 layers 64 32, good model reloaded, batch size {BATCH_SIZE_AE}, lr={LEARNING_RATE_AE}, patience 5, standard scale, weight decay {WEIGHT_DECAY_AE}, dropout 0.5, with cross features, no scheduler, no std scale'\n",
    "MODEL_COMMENT = f'All folds MLP with autoenc (decoded features), 3 layers 130, 200 and 100, good model reloaded, batch size {BATCH_SIZE}, lr={LEARNING_RATE}, patience 5, standard scale, weight decay {WEIGHT_DECAY}, 0.7 dropout, without cross features, no scheduler, no std scale'"
   ]
  },
  {
   "cell_type": "code",
   "execution_count": 4,
   "metadata": {},
   "outputs": [],
   "source": [
    "sweep_config = {\n",
    "    'method': 'bayes', #grid, random, bayes\n",
    "    'metric': {\n",
    "      'name': 'Global valid/Accuracy',\n",
    "      'goal': 'maximize'   \n",
    "    },\n",
    "    'parameters': {\n",
    "        'batch_size': {\n",
    "            'values': [65536, 32768, 16384, 8192, 4096, 2048, 1024, 512, 256, 128, 64, 32]\n",
    "        },\n",
    "        'dropout': {\n",
    "            'values': [0.0, 0.1, 0.2, 0.3, 0.4, 0.5, 0.6, 0.7]\n",
    "        },\n",
    "        'learning_rate': {\n",
    "            'values': [1e-2, 1e-3, 1e-4, 3e-4, 1e-5]\n",
    "        },\n",
    "\n",
    "        'weight_decay': {\n",
    "            'values': [1e-2, 1e-3, 1e-4, 1e-5]\n",
    "        },\n",
    "    \n",
    "        'use_autoenc': {\n",
    "            #'values': ['encoder-decoder', 'encoder', 'None']\n",
    "            'values': ['encoder-decoder', 'None']\n",
    "        },\n",
    "        \n",
    "    }\n",
    "}"
   ]
  },
  {
   "cell_type": "code",
   "execution_count": 5,
   "metadata": {},
   "outputs": [
    {
     "name": "stderr",
     "output_type": "stream",
     "text": [
      "\u001b[34m\u001b[1mwandb\u001b[0m: Currently logged in as: \u001b[33mfboyer\u001b[0m (use `wandb login --relogin` to force relogin)\n"
     ]
    },
    {
     "data": {
      "text/plain": [
       "True"
      ]
     },
     "execution_count": 5,
     "metadata": {},
     "output_type": "execute_result"
    }
   ],
   "source": [
    "import wandb\n",
    "\n",
    "wandb.login()"
   ]
  },
  {
   "cell_type": "code",
   "execution_count": 6,
   "metadata": {},
   "outputs": [],
   "source": [
    "def pyStandardScale(tensor, mean, std):\n",
    "    return((tensor - mean) / std)"
   ]
  },
  {
   "cell_type": "code",
   "execution_count": 7,
   "metadata": {},
   "outputs": [],
   "source": [
    "from sklearn.model_selection import KFold\n",
    "from sklearn.model_selection._split import _BaseKFold, indexable, _num_samples\n",
    "from sklearn.utils.validation import _deprecate_positional_args\n",
    "\n",
    "# modified code for group gaps; source\n",
    "# https://github.com/getgaurav2/scikit-learn/blob/d4a3af5cc9da3a76f0266932644b884c99724c57/sklearn/model_selection/_split.py#L2243\n",
    "class PurgedGroupTimeSeriesSplit(_BaseKFold):\n",
    "    \"\"\"Time Series cross-validator variant with non-overlapping groups.\n",
    "    Allows for a gap in groups to avoid potentially leaking info from\n",
    "    train into test if the model has windowed or lag features.\n",
    "    Provides train/test indices to split time series data samples\n",
    "    that are observed at fixed time intervals according to a\n",
    "    third-party provided group.\n",
    "    In each split, test indices must be higher than before, and thus shuffling\n",
    "    in cross validator is inappropriate.\n",
    "    This cross-validation object is a variation of :class:`KFold`.\n",
    "    In the kth split, it returns first k folds as train set and the\n",
    "    (k+1)th fold as test set.\n",
    "    The same group will not appear in two different folds (the number of\n",
    "    distinct groups has to be at least equal to the number of folds).\n",
    "    Note that unlike standard cross-validation methods, successive\n",
    "    training sets are supersets of those that come before them.\n",
    "    Read more in the :ref:`User Guide <cross_validation>`.\n",
    "    Parameters\n",
    "    ----------\n",
    "    n_splits : int, default=5\n",
    "        Number of splits. Must be at least 2.\n",
    "    max_train_group_size : int, default=Inf\n",
    "        Maximum group size for a single training set.\n",
    "    group_gap : int, default=None\n",
    "        Gap between train and test\n",
    "    max_test_group_size : int, default=Inf\n",
    "        We discard this number of groups from the end of each train split\n",
    "    \"\"\"\n",
    "\n",
    "    @_deprecate_positional_args\n",
    "    def __init__(self,\n",
    "                 n_splits=5,\n",
    "                 *,\n",
    "                 max_train_group_size=np.inf,\n",
    "                 max_test_group_size=np.inf,\n",
    "                 group_gap=None,\n",
    "                 verbose=False\n",
    "                 ):\n",
    "        super().__init__(n_splits, shuffle=False, random_state=None)\n",
    "        self.max_train_group_size = max_train_group_size\n",
    "        self.group_gap = group_gap\n",
    "        self.max_test_group_size = max_test_group_size\n",
    "        self.verbose = verbose\n",
    "\n",
    "    def split(self, X, y=None, groups=None):\n",
    "        \"\"\"Generate indices to split data into training and test set.\n",
    "        Parameters\n",
    "        ----------\n",
    "        X : array-like of shape (n_samples, n_features)\n",
    "            Training data, where n_samples is the number of samples\n",
    "            and n_features is the number of features.\n",
    "        y : array-like of shape (n_samples,)\n",
    "            Always ignored, exists for compatibility.\n",
    "        groups : array-like of shape (n_samples,)\n",
    "            Group labels for the samples used while splitting the dataset into\n",
    "            train/test set.\n",
    "        Yields\n",
    "        ------\n",
    "        train : ndarray\n",
    "            The training set indices for that split.\n",
    "        test : ndarray\n",
    "            The testing set indices for that split.\n",
    "        \"\"\"\n",
    "        if groups is None:\n",
    "            raise ValueError(\n",
    "                \"The 'groups' parameter should not be None\")\n",
    "        X, y, groups = indexable(X, y, groups)\n",
    "        n_samples = _num_samples(X)\n",
    "        n_splits = self.n_splits\n",
    "        group_gap = self.group_gap\n",
    "        max_test_group_size = self.max_test_group_size\n",
    "        max_train_group_size = self.max_train_group_size\n",
    "        n_folds = n_splits + 1\n",
    "        group_dict = {}\n",
    "        u, ind = np.unique(groups, return_index=True)\n",
    "        unique_groups = u[np.argsort(ind)]\n",
    "        n_samples = _num_samples(X)\n",
    "        n_groups = _num_samples(unique_groups)\n",
    "        for idx in np.arange(n_samples):\n",
    "            if (groups[idx] in group_dict):\n",
    "                group_dict[groups[idx]].append(idx)\n",
    "            else:\n",
    "                group_dict[groups[idx]] = [idx]\n",
    "        if n_folds > n_groups:\n",
    "            raise ValueError(\n",
    "                (\"Cannot have number of folds={0} greater than\"\n",
    "                 \" the number of groups={1}\").format(n_folds,\n",
    "                                                     n_groups))\n",
    "\n",
    "        group_test_size = min(n_groups // n_folds, max_test_group_size)\n",
    "        group_test_starts = range(n_groups - n_splits * group_test_size,\n",
    "                                  n_groups, group_test_size)\n",
    "        for group_test_start in group_test_starts:\n",
    "            train_array = []\n",
    "            test_array = []\n",
    "\n",
    "            group_st = max(0, group_test_start - group_gap - max_train_group_size)\n",
    "            for train_group_idx in unique_groups[group_st:(group_test_start - group_gap)]:\n",
    "                train_array_tmp = group_dict[train_group_idx]\n",
    "                \n",
    "                train_array = np.sort(np.unique(\n",
    "                                      np.concatenate((train_array,\n",
    "                                                      train_array_tmp)),\n",
    "                                      axis=None), axis=None)\n",
    "\n",
    "            train_end = train_array.size\n",
    " \n",
    "            for test_group_idx in unique_groups[group_test_start:\n",
    "                                                group_test_start +\n",
    "                                                group_test_size]:\n",
    "                test_array_tmp = group_dict[test_group_idx]\n",
    "                test_array = np.sort(np.unique(\n",
    "                                              np.concatenate((test_array,\n",
    "                                                              test_array_tmp)),\n",
    "                                     axis=None), axis=None)\n",
    "\n",
    "            test_array  = test_array[group_gap:]\n",
    "            \n",
    "            \n",
    "            if self.verbose > 0:\n",
    "                    pass\n",
    "                    \n",
    "            yield [int(i) for i in train_array], [int(i) for i in test_array]\n",
    "\n",
    "from matplotlib.colors import ListedColormap\n",
    "    \n",
    "# this is code slightly modified from the sklearn docs here:\n",
    "# https://scikit-learn.org/stable/auto_examples/model_selection/plot_cv_indices.html#sphx-glr-auto-examples-model-selection-plot-cv-indices-py\n",
    "def plot_cv_indices(cv, X, y, group, ax, n_splits, lw=10):\n",
    "    \"\"\"Create a sample plot for indices of a cross-validation object.\"\"\"\n",
    "    \n",
    "    cmap_cv = plt.cm.coolwarm\n",
    "\n",
    "    jet = plt.cm.get_cmap('jet', 256)\n",
    "    seq = np.linspace(0, 1, 256)\n",
    "    _ = np.random.shuffle(seq)   # inplace\n",
    "    cmap_data = ListedColormap(jet(seq))\n",
    "\n",
    "    # Generate the training/testing visualizations for each CV split\n",
    "    for ii, (tr, tt) in enumerate(cv.split(X=X, y=y, groups=group)):\n",
    "        # Fill in indices with the training/test groups\n",
    "        indices = np.array([np.nan] * len(X))\n",
    "        indices[tt] = 1\n",
    "        indices[tr] = 0\n",
    "\n",
    "        # Visualize the results\n",
    "        ax.scatter(range(len(indices)), [ii + .5] * len(indices),\n",
    "                   c=indices, marker='_', lw=lw, cmap=cmap_cv,\n",
    "                   vmin=-.2, vmax=1.2)\n",
    "\n",
    "    # Plot the data classes and groups at the end\n",
    "    ax.scatter(range(len(X)), [ii + 1.5] * len(X),\n",
    "               c=y, marker='_', lw=lw, cmap=plt.cm.Set3)\n",
    "\n",
    "    ax.scatter(range(len(X)), [ii + 2.5] * len(X),\n",
    "               c=group, marker='_', lw=lw, cmap=cmap_data)\n",
    "\n",
    "    # Formatting\n",
    "    yticklabels = list(range(n_splits)) + ['target', 'day']\n",
    "    ax.set(yticks=np.arange(n_splits+2) + .5, yticklabels=yticklabels,\n",
    "           xlabel='Sample index', ylabel=\"CV iteration\",\n",
    "           ylim=[n_splits+2.2, -.2], xlim=[0, len(y)])\n",
    "    ax.set_title('{}'.format(type(cv).__name__), fontsize=15)\n",
    "    return ax\n",
    "\n",
    "\n",
    "def plot_cv_indices_custom(cv_custom, X, y, group, ax, n_splits, lw=10):\n",
    "    \"\"\"Create a sample plot for indices of a cross-validation object.\"\"\"\n",
    "    \n",
    "    cmap_cv = plt.cm.coolwarm\n",
    "\n",
    "    jet = plt.cm.get_cmap('jet', 256)\n",
    "    seq = np.linspace(0, 1, 256)\n",
    "    _ = np.random.shuffle(seq)   # inplace\n",
    "    cmap_data = ListedColormap(jet(seq))\n",
    "\n",
    "    # Generate the training/testing visualizations for each CV split\n",
    "    for ii, (tr, tt) in enumerate(cv_custom):\n",
    "        # Fill in indices with the training/test groups\n",
    "        indices = np.array([np.nan] * len(X))\n",
    "        indices[tt] = 1\n",
    "        indices[tr] = 0\n",
    "\n",
    "        # Visualize the results\n",
    "        ax.scatter(range(len(indices)), [ii + .5] * len(indices),\n",
    "                   c=indices, marker='_', lw=lw, cmap=cmap_cv,\n",
    "                   vmin=-.2, vmax=1.2)\n",
    "\n",
    "    # Plot the data classes and groups at the end\n",
    "    ax.scatter(range(len(X)), [ii + 1.5] * len(X),\n",
    "               c=y, marker='_', lw=lw, cmap=plt.cm.Set3)\n",
    "\n",
    "    ax.scatter(range(len(X)), [ii + 2.5] * len(X),\n",
    "               c=group, marker='_', lw=lw, cmap=cmap_data)\n",
    "\n",
    "    # Formatting\n",
    "    yticklabels = list(range(n_splits)) + ['target', 'day']\n",
    "    ax.set(yticks=np.arange(n_splits+2) + .5, yticklabels=yticklabels,\n",
    "           xlabel='Sample index', ylabel=\"CV iteration\",\n",
    "           ylim=[n_splits+2.2, -.2], xlim=[0, len(y)])\n",
    "    ax.set_title('{}'.format(type(cv).__name__), fontsize=15)\n",
    "    return ax"
   ]
  },
  {
   "cell_type": "code",
   "execution_count": 8,
   "metadata": {},
   "outputs": [],
   "source": [
    "# This function accounts for variable instance counts in each split by dividing utility_pi by number of instances (but this has been removed)\n",
    "# It also does some copy of dataframe to prevent memory overwrite\n",
    "def utility_function(df_test, df_test_predictions):\n",
    "    df_test_copy = df_test.copy(deep=True)\n",
    "    df_test_copy.loc[:, 'utility_pj'] = df_test_copy['weight'] * df_test_copy['resp'] * df_test_predictions\n",
    "    #df_test_utility_pi = df_test_copy.groupby('date')['utility_pj'].sum() / df_test_copy.groupby('date')['utility_pj'].count()\n",
    "    df_test_utility_pi = df_test_copy.groupby('date')['utility_pj'].sum()\n",
    "\n",
    "    nb_unique_dates = df_test_utility_pi.shape[0]\n",
    "\n",
    "    if (np.sqrt(df_test_utility_pi.pow(2).sum()) == 0):\n",
    "        t = 0\n",
    "\n",
    "    else:\n",
    "        t = (df_test_utility_pi.sum() / np.sqrt(df_test_utility_pi.pow(2).sum())) * (np.sqrt(250 / np.abs(nb_unique_dates)))\n",
    "\n",
    "    u = min(max(t, 0), 6) * df_test_utility_pi.sum()\n",
    "    del df_test_copy\n",
    "    \n",
    "    return(u)"
   ]
  },
  {
   "cell_type": "code",
   "execution_count": 9,
   "metadata": {},
   "outputs": [],
   "source": [
    "from bisect import bisect_left\n",
    "\n",
    "# The aim of this function is to return closest date from an index\n",
    "# So that split indices correspond to start or end of a new day\n",
    "# myList contains list of instances that correspond to start of a new da\n",
    "\n",
    "def take_closest(myList, myNumber):\n",
    "    \"\"\"\n",
    "    Assumes myList is sorted. Returns closest value to myNumber.\n",
    "\n",
    "    If two numbers are equally close, return the smallest number.\n",
    "    \"\"\"\n",
    "    pos = bisect_left(myList, myNumber)\n",
    "    if pos == 0:\n",
    "        return myList[0]\n",
    "    if pos == len(myList):\n",
    "        return myList[-1]\n",
    "    before = myList[pos - 1]\n",
    "    after = myList[pos]\n",
    "    if after - myNumber < myNumber - before:\n",
    "       return after\n",
    "    else:\n",
    "       return before"
   ]
  },
  {
   "cell_type": "code",
   "execution_count": 10,
   "metadata": {},
   "outputs": [],
   "source": [
    "class SaveOutputActivationStats:\n",
    "    def __init__(self):\n",
    "        self.outputs = []\n",
    "        \n",
    "    def __call__(self, module, module_in, module_out):\n",
    "        #self.outputs.append(module_out)\n",
    "        #print('Save output callback :')\n",
    "        #print(module)\n",
    "        #print({'mean': module_out.mean().item(), 'std': module_out.std().item(),'near_zero': (module_out<=0.05).long().sum().item()/module_out.numel()})\n",
    "        self.outputs.append({'mean': module_out.mean().item(), 'std': module_out.std().item(),'near_zero': (module_out<=0.05).long().sum().item()/module_out.numel()})\n",
    "        \n",
    "    def clear(self):\n",
    "        self.outputs = []"
   ]
  },
  {
   "cell_type": "code",
   "execution_count": 11,
   "metadata": {},
   "outputs": [],
   "source": [
    "#fig, ax = plt.subplots(1, 1)\n",
    "#\n",
    "#plot_cv_indices(cv, df.loc[:, FEATURES_LIST_TOTRAIN], (df['resp'] > 0), df['date'], \n",
    "#                         ax, 5, lw=20);"
   ]
  },
  {
   "cell_type": "code",
   "execution_count": 12,
   "metadata": {},
   "outputs": [
    {
     "data": {
      "text/plain": [
       "torch.device"
      ]
     },
     "execution_count": 12,
     "metadata": {},
     "output_type": "execute_result"
    }
   ],
   "source": [
    "torch.device"
   ]
  },
  {
   "cell_type": "code",
   "execution_count": 13,
   "metadata": {},
   "outputs": [
    {
     "data": {
      "text/plain": [
       "True"
      ]
     },
     "execution_count": 13,
     "metadata": {},
     "output_type": "execute_result"
    }
   ],
   "source": [
    "torch.cuda.is_available()"
   ]
  },
  {
   "cell_type": "code",
   "execution_count": 14,
   "metadata": {},
   "outputs": [
    {
     "data": {
      "text/plain": [
       "0"
      ]
     },
     "execution_count": 14,
     "metadata": {},
     "output_type": "execute_result"
    }
   ],
   "source": [
    "torch.cuda.current_device()"
   ]
  },
  {
   "cell_type": "code",
   "execution_count": 15,
   "metadata": {},
   "outputs": [
    {
     "data": {
      "text/plain": [
       "'GeForce RTX 3090'"
      ]
     },
     "execution_count": 15,
     "metadata": {},
     "output_type": "execute_result"
    }
   ],
   "source": [
    "torch.cuda.get_device_name(0)"
   ]
  },
  {
   "cell_type": "markdown",
   "metadata": {},
   "source": [
    "# Load data"
   ]
  },
  {
   "cell_type": "code",
   "execution_count": 16,
   "metadata": {},
   "outputs": [
    {
     "name": "stdout",
     "output_type": "stream",
     "text": [
      "Data loaded\n"
     ]
    }
   ],
   "source": [
    "# Load data\n",
    "    \n",
    "df = pd.read_csv(DATASET_INPUT_FILE)\n",
    "df['resp_positive'] = ((df['resp'])>0)*1  # Target to predict\n",
    "\n",
    "print('Data loaded')\n"
   ]
  },
  {
   "cell_type": "markdown",
   "metadata": {},
   "source": [
    "# Feature engineering"
   ]
  },
  {
   "cell_type": "code",
   "execution_count": 17,
   "metadata": {},
   "outputs": [],
   "source": [
    "#df['cross_41_42_43'] = df['feature_41'] + df['feature_42'] + df['feature_43']"
   ]
  },
  {
   "cell_type": "code",
   "execution_count": 18,
   "metadata": {},
   "outputs": [],
   "source": [
    "#df['cross_1_2'] = df['feature_1'] / (df['feature_2'] + 1e-5)"
   ]
  },
  {
   "cell_type": "markdown",
   "metadata": {},
   "source": [
    "# Non overlap fold generation"
   ]
  },
  {
   "cell_type": "code",
   "execution_count": 19,
   "metadata": {},
   "outputs": [],
   "source": [
    "date_indexes_list = df.groupby('date')['ts_id'].first().to_list()"
   ]
  },
  {
   "cell_type": "code",
   "execution_count": 20,
   "metadata": {},
   "outputs": [],
   "source": [
    "base_train_split_size = int((df.shape[0] // 5) * TRAIN_PERCENT)"
   ]
  },
  {
   "cell_type": "code",
   "execution_count": 21,
   "metadata": {},
   "outputs": [],
   "source": [
    "base_test_split_size = int((df.shape[0] // 5) * TEST_PERCENT)"
   ]
  },
  {
   "cell_type": "code",
   "execution_count": 22,
   "metadata": {},
   "outputs": [],
   "source": [
    "train_split_start_indexes = [take_closest(date_indexes_list, (base_train_split_size + base_test_split_size)*fold_indice) for fold_indice in range(5)]"
   ]
  },
  {
   "cell_type": "code",
   "execution_count": 23,
   "metadata": {},
   "outputs": [],
   "source": [
    "#test_split_start_indexes = [take_closest(date_indexes_list, (base_train_split_size + base_test_split_size)*fold_indice) for fold_indice in range(5)]"
   ]
  },
  {
   "cell_type": "code",
   "execution_count": 24,
   "metadata": {},
   "outputs": [
    {
     "data": {
      "text/plain": [
       "[0, 477711, 958233, 1435933, 1913985]"
      ]
     },
     "execution_count": 24,
     "metadata": {},
     "output_type": "execute_result"
    }
   ],
   "source": [
    "train_split_start_indexes"
   ]
  },
  {
   "cell_type": "code",
   "execution_count": 25,
   "metadata": {},
   "outputs": [
    {
     "data": {
      "text/plain": [
       "2390490"
      ]
     },
     "execution_count": 25,
     "metadata": {},
     "output_type": "execute_result"
    }
   ],
   "source": [
    "df.shape[0] - 1"
   ]
  },
  {
   "cell_type": "code",
   "execution_count": 26,
   "metadata": {},
   "outputs": [],
   "source": [
    "# We'll have 5 folds of 3 subsets each (2 training sets and 1 test set per fold)\n",
    "# (1st training set of each fold will be used for 1st model, ie auto encoder)\n",
    "\n",
    "NB_FOLDS = 5\n",
    "last_index = df.shape[0] - 1\n",
    "\n",
    "cv_table = []\n",
    "\n",
    "for fold_indice in range(NB_FOLDS):\n",
    "    fold_train_start_index = train_split_start_indexes[fold_indice]\n",
    "    \n",
    "    if (fold_indice == NB_FOLDS - 1):    \n",
    "        nextfold_train_start_index = last_index\n",
    "        \n",
    "    else:\n",
    "        nextfold_train_start_index = train_split_start_indexes[fold_indice + 1]\n",
    "    \n",
    "    fold_test_start_index = take_closest(date_indexes_list, int(TRAIN_PERCENT * (nextfold_train_start_index - fold_train_start_index) + fold_train_start_index  ))\n",
    "    fold_train2_start_index = take_closest(date_indexes_list, int(TRAIN1_PERCENT * (fold_test_start_index - fold_train_start_index) + fold_train_start_index  ))\n",
    "    \n",
    "    cv_table.append(fold_train_start_index)\n",
    "    cv_table.append(fold_train2_start_index)\n",
    "    cv_table.append(fold_test_start_index)"
   ]
  },
  {
   "cell_type": "code",
   "execution_count": 27,
   "metadata": {},
   "outputs": [],
   "source": [
    "cv_table.append(last_index)"
   ]
  },
  {
   "cell_type": "code",
   "execution_count": 28,
   "metadata": {},
   "outputs": [
    {
     "data": {
      "text/plain": [
       "[0,\n",
       " 66091,\n",
       " 336609,\n",
       " 477711,\n",
       " 546983,\n",
       " 815783,\n",
       " 958233,\n",
       " 1024471,\n",
       " 1290282,\n",
       " 1435933,\n",
       " 1505171,\n",
       " 1771833,\n",
       " 1913985,\n",
       " 1980610,\n",
       " 2248510,\n",
       " 2390490]"
      ]
     },
     "execution_count": 28,
     "metadata": {},
     "output_type": "execute_result"
    }
   ],
   "source": [
    "cv_table"
   ]
  },
  {
   "cell_type": "code",
   "execution_count": 29,
   "metadata": {},
   "outputs": [
    {
     "data": {
      "text/plain": [
       "[0,\n",
       " 66091,\n",
       " 336609,\n",
       " 477711,\n",
       " 546983,\n",
       " 815783,\n",
       " 958233,\n",
       " 1024471,\n",
       " 1290282,\n",
       " 1435933,\n",
       " 1505171,\n",
       " 1771833,\n",
       " 1913985,\n",
       " 1980610,\n",
       " 2248510,\n",
       " 2390490]"
      ]
     },
     "execution_count": 29,
     "metadata": {},
     "output_type": "execute_result"
    }
   ],
   "source": [
    "cv_table"
   ]
  },
  {
   "cell_type": "code",
   "execution_count": 30,
   "metadata": {},
   "outputs": [
    {
     "data": {
      "text/plain": [
       "5"
      ]
     },
     "execution_count": 30,
     "metadata": {},
     "output_type": "execute_result"
    }
   ],
   "source": [
    "NB_FOLDS"
   ]
  },
  {
   "cell_type": "code",
   "execution_count": 31,
   "metadata": {},
   "outputs": [],
   "source": [
    "cv_tuples = []\n",
    "\n",
    "for i in range(0, NB_FOLDS*3, 3):\n",
    "    cv_tuples.append([df.loc[cv_table[i]:cv_table[i+1]-1, :].index.to_list(), df.loc[cv_table[i+1]:cv_table[i+2]-1, :].index.to_list(),\n",
    "                      df.loc[cv_table[i+2]:cv_table[i+3]-1, :].index.to_list()])"
   ]
  },
  {
   "cell_type": "code",
   "execution_count": 32,
   "metadata": {},
   "outputs": [
    {
     "data": {
      "text/plain": [
       "141102"
      ]
     },
     "execution_count": 32,
     "metadata": {},
     "output_type": "execute_result"
    }
   ],
   "source": [
    "len(cv_tuples[0][2])"
   ]
  },
  {
   "cell_type": "code",
   "execution_count": 33,
   "metadata": {},
   "outputs": [],
   "source": [
    "cv_tuples_generator = iter(cv_tuples)"
   ]
  },
  {
   "cell_type": "code",
   "execution_count": 34,
   "metadata": {},
   "outputs": [],
   "source": [
    "#fig, ax = plt.subplots(1, 1)\n",
    "\n",
    "#plot_cv_indices_custom(cv_tuples_generator, df.loc[:, FEATURES_LIST_TOTRAIN], (df['resp'] > 0), df['date'], \n",
    "#                         ax, 5, lw=20); \n",
    "\n",
    "#cv_tuples_generator = iter(cv_tuples)"
   ]
  },
  {
   "cell_type": "code",
   "execution_count": 35,
   "metadata": {},
   "outputs": [],
   "source": [
    "# Size of training set :\n",
    "#train_sets_table =  [cv_tuples[i][0] for i in range(5)]\n",
    "#sum([len(train_set_table) for train_set_table in train_sets_table])"
   ]
  },
  {
   "cell_type": "code",
   "execution_count": 36,
   "metadata": {},
   "outputs": [],
   "source": [
    "# Our old time series split (with overlap : required 1 neural network trained per split)\n",
    "# But in this script it's not needed because we're training 1 unique network, with a different fold strategy (non overlaped)\n",
    "#cv = PurgedGroupTimeSeriesSplit(\n",
    "#    n_splits=5,\n",
    "#    max_train_group_size=180,\n",
    "#    group_gap=20,\n",
    "#    max_test_group_size=60\n",
    "#)"
   ]
  },
  {
   "cell_type": "code",
   "execution_count": 37,
   "metadata": {},
   "outputs": [],
   "source": [
    "#train_index, test_index = next(cv.split(df, (df['resp'] > 0)*1, df['date']))"
   ]
  },
  {
   "cell_type": "code",
   "execution_count": 38,
   "metadata": {},
   "outputs": [],
   "source": [
    "#(df.loc[train_index, 'resp'] > 0).astype(np.byte)"
   ]
  },
  {
   "cell_type": "code",
   "execution_count": 39,
   "metadata": {},
   "outputs": [],
   "source": [
    "f_mean = df.loc[:, FEATURES_LIST_TOTRAIN].mean(axis=0)"
   ]
  },
  {
   "cell_type": "code",
   "execution_count": 40,
   "metadata": {},
   "outputs": [
    {
     "data": {
      "text/plain": [
       "(130,)"
      ]
     },
     "execution_count": 40,
     "metadata": {},
     "output_type": "execute_result"
    }
   ],
   "source": [
    "f_mean.shape"
   ]
  },
  {
   "cell_type": "code",
   "execution_count": 41,
   "metadata": {},
   "outputs": [],
   "source": [
    "df.fillna(f_mean, inplace=True)"
   ]
  },
  {
   "cell_type": "code",
   "execution_count": 42,
   "metadata": {},
   "outputs": [],
   "source": [
    "#print('Sum of model parameters:')\n",
    "#[print(p.sum()) for p in model.parameters()]"
   ]
  },
  {
   "cell_type": "code",
   "execution_count": 43,
   "metadata": {},
   "outputs": [],
   "source": [
    "#writer = SummaryWriter()\n",
    "\n",
    "#writer.add_text('test', 'test:'  + str(model).replace('\\n', '<BR>'))\n",
    "\n",
    "#writer.flush()\n",
    "#writer.close()"
   ]
  },
  {
   "cell_type": "code",
   "execution_count": 44,
   "metadata": {},
   "outputs": [],
   "source": [
    "#str([p.numel() for p in model.parameters()])"
   ]
  },
  {
   "cell_type": "code",
   "execution_count": 45,
   "metadata": {},
   "outputs": [],
   "source": [
    "folds_list = []\n",
    "\n",
    "for fold, (train1_index, train2_index, test_index) in enumerate(cv_tuples_generator):\n",
    "    folds_list.append((train1_index, train2_index, test_index))"
   ]
  },
  {
   "cell_type": "code",
   "execution_count": 46,
   "metadata": {},
   "outputs": [],
   "source": [
    "folds_list_train1 = [folds_list[i][0] for i in range(5)]\n",
    "folds_list_train1_flat = [folds_list_train1_item for sublist in folds_list_train1 for folds_list_train1_item in sublist]\n",
    "folds_list_train1_unique = list(set(folds_list_train1_flat))\n",
    "\n",
    "folds_list_train2 = [folds_list[i][1] for i in range(5)]\n",
    "folds_list_train2_flat = [folds_list_train2_item for sublist in folds_list_train2 for folds_list_train2_item in sublist]\n",
    "folds_list_train2_unique = list(set(folds_list_train2_flat))"
   ]
  },
  {
   "cell_type": "code",
   "execution_count": 47,
   "metadata": {},
   "outputs": [
    {
     "data": {
      "text/plain": [
       "337464"
      ]
     },
     "execution_count": 47,
     "metadata": {},
     "output_type": "execute_result"
    }
   ],
   "source": [
    "len(folds_list_train1_unique)"
   ]
  },
  {
   "cell_type": "code",
   "execution_count": 48,
   "metadata": {},
   "outputs": [
    {
     "data": {
      "text/plain": [
       "1339691"
      ]
     },
     "execution_count": 48,
     "metadata": {},
     "output_type": "execute_result"
    }
   ],
   "source": [
    "len(folds_list_train2_unique)"
   ]
  },
  {
   "cell_type": "code",
   "execution_count": 49,
   "metadata": {},
   "outputs": [
    {
     "data": {
      "text/plain": [
       "337464"
      ]
     },
     "execution_count": 49,
     "metadata": {},
     "output_type": "execute_result"
    }
   ],
   "source": [
    "np.sum([len(folds_list_train1_item) for folds_list_train1_item in folds_list_train1])"
   ]
  },
  {
   "cell_type": "code",
   "execution_count": 50,
   "metadata": {},
   "outputs": [
    {
     "data": {
      "text/plain": [
       "1339691"
      ]
     },
     "execution_count": 50,
     "metadata": {},
     "output_type": "execute_result"
    }
   ],
   "source": [
    "np.sum([len(folds_list_train2_item) for folds_list_train2_item in folds_list_train2])"
   ]
  },
  {
   "cell_type": "code",
   "execution_count": 51,
   "metadata": {},
   "outputs": [
    {
     "data": {
      "text/plain": [
       "337464"
      ]
     },
     "execution_count": 51,
     "metadata": {},
     "output_type": "execute_result"
    }
   ],
   "source": [
    "len(folds_list_train1_flat)"
   ]
  },
  {
   "cell_type": "code",
   "execution_count": 52,
   "metadata": {},
   "outputs": [],
   "source": [
    "folds_list_test = [folds_list[i][2] for i in range(5)]\n",
    "folds_list_test_flat = [folds_list_test_item for sublist in folds_list_test for folds_list_test_item in sublist]\n",
    "folds_list_test_unique = set(folds_list_test_flat)"
   ]
  },
  {
   "cell_type": "code",
   "execution_count": 53,
   "metadata": {},
   "outputs": [
    {
     "data": {
      "text/plain": [
       "713335"
      ]
     },
     "execution_count": 53,
     "metadata": {},
     "output_type": "execute_result"
    }
   ],
   "source": [
    "np.sum([len(folds_list_test_item) for folds_list_test_item in folds_list_test])"
   ]
  },
  {
   "cell_type": "code",
   "execution_count": 54,
   "metadata": {},
   "outputs": [
    {
     "data": {
      "text/plain": [
       "713335"
      ]
     },
     "execution_count": 54,
     "metadata": {},
     "output_type": "execute_result"
    }
   ],
   "source": [
    "len(folds_list_test_flat)"
   ]
  },
  {
   "cell_type": "code",
   "execution_count": 55,
   "metadata": {},
   "outputs": [
    {
     "data": {
      "text/plain": [
       "2390490"
      ]
     },
     "execution_count": 55,
     "metadata": {},
     "output_type": "execute_result"
    }
   ],
   "source": [
    "len(folds_list_train1_flat) + len(folds_list_train2_flat) + len(folds_list_test_flat)"
   ]
  },
  {
   "cell_type": "code",
   "execution_count": 56,
   "metadata": {},
   "outputs": [
    {
     "data": {
      "text/plain": [
       "(141980, 130)"
      ]
     },
     "execution_count": 56,
     "metadata": {},
     "output_type": "execute_result"
    }
   ],
   "source": [
    "df.loc[folds_list_test[4], FEATURES_LIST_TOTRAIN].to_numpy().shape"
   ]
  },
  {
   "cell_type": "code",
   "execution_count": 57,
   "metadata": {},
   "outputs": [
    {
     "data": {
      "text/plain": [
       "array([ 0.00880718,  0.39574469,  0.33059838,  0.00919269,  0.00341737,\n",
       "       -0.00498373, -0.01455459,  0.05534631,  0.02511896,  0.2646538 ,\n",
       "        0.16705702,  0.09489698,  0.04450428,  0.15251293,  0.07996651,\n",
       "        0.22166532,  0.12827658,  0.12181565,  0.10958852,  0.29772963,\n",
       "        0.26463247,  0.1881408 ,  0.17251055,  0.25474009,  0.23267903,\n",
       "        0.29794049,  0.2685417 ,  0.13985131,  0.16285107,  0.33060734,\n",
       "        0.34385913,  0.22684687,  0.25190658,  0.31637359,  0.3359838 ,\n",
       "        0.35284181,  0.36773315,  0.02650339,  0.0186391 ,  0.04320553,\n",
       "        0.05298663,  0.45417433,  0.37762691,  0.41617323,  0.43927675,\n",
       "        0.48651095,  0.49207956,  0.36839975,  0.50144387,  0.54379067,\n",
       "        0.53074971,  0.45673965,  0.05646874,  0.38900233,  0.37690587,\n",
       "        0.77549302,  0.92466193,  0.78590429,  0.80847667,  0.89895923,\n",
       "        0.55335406,  0.55554392,  0.55922873,  0.56139559,  0.44231975,\n",
       "        0.61884351,  0.61715568,  0.59770334,  0.59814018,  0.37738388,\n",
       "        0.23893403,  0.30802914,  0.00410365, -0.03220141, -0.00163732,\n",
       "       -0.01991575, -0.03158872, -0.0931838 , -0.00806526, -0.03578937,\n",
       "       -0.00251814, -0.01489434, -0.03498338, -0.10154564,  0.39337805,\n",
       "        0.54162178,  0.39241949,  0.42814332,  0.49755557,  0.39935045,\n",
       "        0.43319566,  0.52353302,  0.42238168,  0.42206715,  0.43484953,\n",
       "        0.4547188 ,  0.39837193,  0.5421566 ,  0.39730999,  0.42589424,\n",
       "        0.48653787,  0.41054099,  0.43399339,  0.48391166,  0.41683186,\n",
       "        0.41979739,  0.46144612,  0.455339  ,  0.39499643,  0.38242161,\n",
       "        0.39000896,  0.391784  ,  0.38065447,  0.40349802,  0.43203717,\n",
       "        0.37668634,  0.42790068,  0.42074866,  0.39520648,  0.44651147,\n",
       "        0.36161378,  0.29991827,  0.37089359,  0.30351037,  0.36007002,\n",
       "        0.27782367,  0.3742626 ,  0.25712366,  0.37390404,  0.268233  ])"
      ]
     },
     "execution_count": 57,
     "metadata": {},
     "output_type": "execute_result"
    }
   ],
   "source": [
    "df.loc[(folds_list_train1_unique + folds_list_train2_unique), FEATURES_LIST_TOTRAIN].to_numpy().mean(axis=0)"
   ]
  },
  {
   "cell_type": "code",
   "execution_count": 58,
   "metadata": {},
   "outputs": [
    {
     "data": {
      "text/plain": [
       "1677155"
      ]
     },
     "execution_count": 58,
     "metadata": {},
     "output_type": "execute_result"
    }
   ],
   "source": [
    "len(list(set(folds_list_train1_unique + folds_list_train2_unique)))"
   ]
  },
  {
   "cell_type": "code",
   "execution_count": 59,
   "metadata": {},
   "outputs": [
    {
     "data": {
      "text/plain": [
       "tensor([ 0.0088,  0.3957,  0.3306,  0.0092,  0.0034, -0.0050, -0.0146,  0.0553,\n",
       "         0.0251,  0.2647,  0.1671,  0.0949,  0.0445,  0.1525,  0.0800,  0.2217,\n",
       "         0.1283,  0.1218,  0.1096,  0.2977,  0.2646,  0.1881,  0.1725,  0.2547,\n",
       "         0.2327,  0.2979,  0.2685,  0.1399,  0.1629,  0.3306,  0.3439,  0.2268,\n",
       "         0.2519,  0.3164,  0.3360,  0.3528,  0.3677,  0.0265,  0.0186,  0.0432,\n",
       "         0.0530,  0.4542,  0.3776,  0.4162,  0.4393,  0.4865,  0.4921,  0.3684,\n",
       "         0.5014,  0.5438,  0.5307,  0.4567,  0.0565,  0.3890,  0.3769,  0.7755,\n",
       "         0.9247,  0.7859,  0.8085,  0.8990,  0.5534,  0.5555,  0.5592,  0.5614,\n",
       "         0.4423,  0.6188,  0.6172,  0.5977,  0.5981,  0.3774,  0.2389,  0.3080,\n",
       "         0.0041, -0.0322, -0.0016, -0.0199, -0.0316, -0.0932, -0.0081, -0.0358,\n",
       "        -0.0025, -0.0149, -0.0350, -0.1015,  0.3934,  0.5416,  0.3924,  0.4281,\n",
       "         0.4976,  0.3994,  0.4332,  0.5235,  0.4224,  0.4221,  0.4348,  0.4547,\n",
       "         0.3984,  0.5422,  0.3973,  0.4259,  0.4865,  0.4105,  0.4340,  0.4839,\n",
       "         0.4168,  0.4198,  0.4614,  0.4553,  0.3950,  0.3824,  0.3900,  0.3918,\n",
       "         0.3807,  0.4035,  0.4320,  0.3767,  0.4279,  0.4207,  0.3952,  0.4465,\n",
       "         0.3616,  0.2999,  0.3709,  0.3035,  0.3601,  0.2778,  0.3743,  0.2571,\n",
       "         0.3739,  0.2682], dtype=torch.float64)"
      ]
     },
     "execution_count": 59,
     "metadata": {},
     "output_type": "execute_result"
    }
   ],
   "source": [
    "torch.mean(torch.tensor(df.loc[(folds_list_train1_unique + folds_list_train2_unique), FEATURES_LIST_TOTRAIN].to_numpy(), device='cpu'), axis=0)"
   ]
  },
  {
   "cell_type": "code",
   "execution_count": 60,
   "metadata": {},
   "outputs": [
    {
     "data": {
      "text/plain": [
       "tensor([ 9.8386e-03,  3.8558e-01,  3.5769e-01,  8.9192e-03,  4.1501e-03,\n",
       "        -3.7146e-03, -1.2589e-02,  5.1777e-02,  2.6828e-02,  2.4881e-01,\n",
       "         1.8235e-01,  8.9122e-02,  4.9486e-02,  1.4311e-01,  8.9027e-02,\n",
       "         2.1168e-01,  1.4630e-01,  1.2122e-01,  1.1358e-01,  2.9381e-01,\n",
       "         2.6877e-01,  1.8691e-01,  1.7698e-01,  2.5244e-01,  2.3856e-01,\n",
       "         2.9407e-01,  2.7318e-01,  1.3548e-01,  1.6088e-01,  3.2189e-01,\n",
       "         3.4253e-01,  2.2056e-01,  2.5013e-01,  3.0822e-01,  3.3535e-01,\n",
       "         3.4145e-01,  3.6583e-01,  2.9320e-02,  2.2892e-02,  4.0022e-02,\n",
       "         5.0750e-02,  4.4505e-01,  3.6018e-01,  3.4603e-01,  4.1153e-01,\n",
       "         4.3803e-01,  4.7612e-01,  3.4787e-01,  4.9963e-01,  5.6400e-01,\n",
       "         5.1226e-01,  4.5739e-01,  4.5744e-02,  3.6270e-01,  3.5887e-01,\n",
       "         6.5260e-01,  8.0495e-01,  6.6135e-01,  6.7981e-01,  7.6259e-01,\n",
       "         5.5640e-01,  5.5817e-01,  5.4554e-01,  5.4678e-01,  4.3506e-01,\n",
       "         6.0757e-01,  6.0850e-01,  5.9519e-01,  5.9594e-01,  3.6954e-01,\n",
       "         2.4337e-01,  3.3227e-01,  5.3933e-03, -3.2868e-02, -2.0445e-04,\n",
       "        -1.9092e-02, -3.1898e-02, -7.6800e-02, -6.0595e-03, -3.5435e-02,\n",
       "        -2.0995e-03, -1.4418e-02, -3.4615e-02, -8.0085e-02,  3.9822e-01,\n",
       "         5.5782e-01,  4.0240e-01,  4.4445e-01,  5.1409e-01,  4.0052e-01,\n",
       "         4.1025e-01,  5.2051e-01,  4.0508e-01,  4.0883e-01,  4.2889e-01,\n",
       "         4.1763e-01,  4.0227e-01,  5.5909e-01,  4.0711e-01,  4.3686e-01,\n",
       "         5.0012e-01,  4.0856e-01,  4.0506e-01,  4.8141e-01,  4.0166e-01,\n",
       "         4.0706e-01,  4.5305e-01,  4.1501e-01,  3.9999e-01,  4.1654e-01,\n",
       "         4.0074e-01,  4.0688e-01,  4.1228e-01,  4.0264e-01,  4.0711e-01,\n",
       "         3.7342e-01,  4.0443e-01,  4.0103e-01,  3.8582e-01,  4.1560e-01,\n",
       "         3.3513e-01,  2.6878e-01,  3.4355e-01,  2.8000e-01,  3.3515e-01,\n",
       "         2.4488e-01,  3.3918e-01,  2.3238e-01,  3.4256e-01,  2.4562e-01],\n",
       "       dtype=torch.float64)"
      ]
     },
     "execution_count": 60,
     "metadata": {},
     "output_type": "execute_result"
    }
   ],
   "source": [
    "torch.tensor(f_mean)"
   ]
  },
  {
   "cell_type": "markdown",
   "metadata": {},
   "source": [
    "# Training auto encoder"
   ]
  },
  {
   "cell_type": "code",
   "execution_count": 61,
   "metadata": {},
   "outputs": [
    {
     "name": "stdout",
     "output_type": "stream",
     "text": [
      "Model AE loaded\n"
     ]
    }
   ],
   "source": [
    "torch.manual_seed(seed)  \n",
    "    \n",
    "class AutoEncoder(nn.Module):\n",
    "    def __init__(self):\n",
    "        super(AutoEncoder,self).__init__()\n",
    "        \n",
    "        self.encoder = nn.Sequential(\n",
    "            nn.Dropout(0.5),\n",
    "            nn.Linear(len(FEATURES_LIST_TOTRAIN), 64),\n",
    "            nn.ReLU(),\n",
    "            nn.Linear(64, 32),\n",
    "            nn.ReLU(),\n",
    "        )\n",
    "        \n",
    "        self.decoder = nn.Sequential(             \n",
    "            nn.Linear(32, 64),\n",
    "            nn.ReLU(),\n",
    "            nn.Linear(64, len(FEATURES_LIST_TOTRAIN)),\n",
    "        )\n",
    "        \n",
    "    def forward(self,x):\n",
    "        x = self.encoder(x)\n",
    "        x = self.decoder(x)\n",
    "        return x        \n",
    "\n",
    "model = AutoEncoder().double().to('cuda')\n",
    "    \n",
    "#print('Number of model parameters :')\n",
    "#numel_list = [p.numel() for p in model.parameters()]\n",
    "#sum(numel_list), numel_list\n",
    "    \n",
    "if (RETRAIN_MODEl_AE == False):\n",
    "    model_AE = model\n",
    "    model_AE.load_state_dict(torch.load(MODEL_FILE_AE,map_location=torch.device('cuda')))\n",
    "    print('Model AE loaded')\n",
    "\n",
    "else:    \n",
    "    print('Training started')\n",
    "    patience=5\n",
    "\n",
    "    utility_scores = [None] * 5\n",
    "    accuracy_scores = [None] * 5\n",
    "\n",
    "    today = datetime.datetime.now()\n",
    "    now_str = today.strftime(\"%b%d_%H-%M-%S\")\n",
    "    tensorboard_dir_AE = 'runs_AE/' + now_str\n",
    "    writer = SummaryWriter(log_dir=tensorboard_dir_AE)\n",
    "\n",
    "    ts_train = torch.tensor(df.loc[folds_list_train1_unique, FEATURES_LIST_TOTRAIN].to_numpy(), device='cuda')\n",
    "    #ts_train_y = torch.tensor((df.loc[folds_list_train_unique, 'resp'] > 0).astype(np.byte).to_numpy(), device='cuda')\n",
    "\n",
    "    # Normalize data\n",
    "    ts_train_mean = torch.mean(ts_train, axis=0)\n",
    "    ts_train_std = torch.std(ts_train, axis=0)\n",
    "    #ts_train_mean = torch.tensor(f_mean)\n",
    "    # If you want to use Standard scale : calculate mean from f_mean and std scale from whole dataset\n",
    "    #ts_train = pyStandardScale(ts_train, ts_train_mean, ts_train_std)\n",
    "\n",
    "    train_dataset = torch.utils.data.TensorDataset(ts_train)\n",
    "    train_loader = torch.utils.data.DataLoader(train_dataset, batch_size=BATCH_SIZE_AE, shuffle=True)\n",
    "\n",
    "    ts_test = [None] * 5\n",
    "    #ts_test_y = [None] * 5    \n",
    "    test_dataset = [None] * 5\n",
    "    test_loader = [None] * 5\n",
    "\n",
    "    for fold_indice in range(5):\n",
    "        ts_test[fold_indice] = torch.tensor(df.loc[folds_list_test[fold_indice], FEATURES_LIST_TOTRAIN].to_numpy(), device='cuda')\n",
    "        #ts_test_y[fold_indice] = torch.tensor((df.loc[folds_list_test[fold_indice], 'resp'] > 0).astype(np.byte).to_numpy(), device='cuda')\n",
    "\n",
    "        # Normalize\n",
    "        #ts_test[fold_indice] = pyStandardScale(ts_test[fold_indice], ts_train_mean, ts_train_std)\n",
    "\n",
    "        test_dataset[fold_indice] = torch.utils.data.TensorDataset(ts_test[fold_indice])\n",
    "        test_loader[fold_indice] = torch.utils.data.DataLoader(test_dataset[fold_indice], batch_size=BATCH_SIZE_AE)\n",
    "\n",
    "    loss_fn = nn.MSELoss().to('cuda')\n",
    "    #optimizer = torch.optim.Adam(model.parameters(), lr=1e-3) \n",
    "    optimizer = torch.optim.Adam(model.parameters(), lr=LEARNING_RATE_AE, weight_decay=WEIGHT_DECAY_AE) \n",
    "\n",
    "    scheduler = None\n",
    "    #scheduler = torch.optim.lr_scheduler.OneCycleLR(optimizer=optimizer, pct_start=0.1, div_factor=1e3,\n",
    "    #                                                         max_lr=1e-4, epochs=NUM_EPOCHS, steps_per_epoch=len(train_loader))\n",
    "\n",
    "    #model.eval()\n",
    "    #start_accuracy = accuracy_score(ts_test_y.cpu().numpy(), (model(ts_test).squeeze() > 0.5).cpu().numpy())\n",
    "    #start_utility_score = utility_function(df.loc[test_index], (model(ts_test).squeeze() > 0.5).cpu().numpy())\n",
    "    #print('Start Validation Accuracy: {:.4f}'.format(start_accuracy))\n",
    "    #print('Start Validation Utility: {:.4f}'.format(start_utility_score))\n",
    "\n",
    "    Val_Loss = 0\n",
    "    N_Samples = 0\n",
    "\n",
    "    the_last_loss = 10000\n",
    "    the_last_utility_score = 0\n",
    "    the_last_accuracy = 0\n",
    "    trigger_times=0\n",
    "    early_stopping_met = False\n",
    "\n",
    "    for epoch in range(NUM_EPOCHS_AE): \n",
    "        running_loss = 0.0        \n",
    "\n",
    "        ### Call back to save activation stats (mean, std dev and near 0 values after activation functions)\n",
    "        # Setting hook for activation layers stats\n",
    "\n",
    "        hook_handles = []\n",
    "        save_output_activation_stats = []\n",
    "\n",
    "        for layer in model.modules():\n",
    "            if ('activation' in str(type(layer))):\n",
    "                save_output_activation_stats_1layer = SaveOutputActivationStats()\n",
    "                handle = layer.register_forward_hook(save_output_activation_stats_1layer)\n",
    "                save_output_activation_stats.append(save_output_activation_stats_1layer)\n",
    "                hook_handles.append(handle)    \n",
    "\n",
    "        model.train()\n",
    "\n",
    "        for batch in train_loader:\n",
    "            #inputs, labels = batch[0], batch[1]\n",
    "            inputs = batch[0].to('cuda')\n",
    "            optimizer.zero_grad()\n",
    "\n",
    "            with torch.set_grad_enabled(True):\n",
    "                outputs = model(inputs)\n",
    "                loss = loss_fn(outputs, inputs.double())\n",
    "                loss.backward()\n",
    "                optimizer.step()\n",
    "\n",
    "                if scheduler:\n",
    "                    scheduler.step()\n",
    "\n",
    "        # update local train loss\n",
    "            running_loss += loss.item() * inputs.size(0)\n",
    "\n",
    "        # update global train loss\n",
    "        epoch_loss = running_loss / len(train_loader.dataset)\n",
    "        print('Epoch({}) - Training Loss: {:.4f}'.format(epoch, epoch_loss))\n",
    "\n",
    "        writer.add_scalar(f\"Global train/loss\", epoch_loss, epoch)\n",
    "\n",
    "        # Write activation stats graphs\n",
    "        for layer_number,save_output_activation_stats_layer in enumerate(save_output_activation_stats):\n",
    "            df_stats_layer = pd.DataFrame(save_output_activation_stats_layer.outputs)\n",
    "\n",
    "            fig, ax = plt.subplots(1, 3, figsize=(25, 4))\n",
    "\n",
    "            ax[0].set_title(f'Layer {layer_number} : Mean activation value', fontsize=16)\n",
    "            ax[0].set_xlabel('Batch instances')\n",
    "            ax[0].set_ylabel('Mean')\n",
    "            ax[0].plot(range(df_stats_layer.shape[0]), df_stats_layer['mean'])\n",
    "\n",
    "            ax[1].set_title(f'Layer {layer_number} : Std deviation activation value', fontsize=16)\n",
    "            ax[1].set_xlabel('Batch instances')\n",
    "            ax[1].set_ylabel('Standard deviation')\n",
    "            ax[1].plot(range(df_stats_layer.shape[0]), df_stats_layer['std'])\n",
    "\n",
    "            ax[2].set_title(f'Layer {layer_number} : Percentage of activation values near zero', fontsize=16)\n",
    "            ax[2].set_xlabel('Batch instances')\n",
    "            ax[2].set_ylabel('Percentage')\n",
    "            ax[2].plot(range(df_stats_layer.shape[0]), df_stats_layer['near_zero']);\n",
    "\n",
    "            plot_buf = io.BytesIO()\n",
    "            plt.savefig(plot_buf, format='jpeg')\n",
    "            plt.close()\n",
    "\n",
    "            plot_buf.seek(0)\n",
    "            image = PIL.Image.open(plot_buf)\n",
    "            image = transforms.ToTensor()(image)\n",
    "            writer.add_image(\"Train activation stats/Activation stats layer \" + str(layer_number), image, epoch)\n",
    "\n",
    "        # Validation \n",
    "        model.eval()\n",
    "\n",
    "        vrunning_loss = [None] * 5\n",
    "        num_samples = [None] * 5\n",
    "        vepoch_loss_folds = [None] * 5\n",
    "        vepoch_accuracy_folds = [None] * 5\n",
    "        vepoch_utility_score_folds = [None] * 5\n",
    "\n",
    "        for fold_indice in range(5):    \n",
    "            vrunning_loss[fold_indice] = 0.0\n",
    "            num_samples[fold_indice] = 0\n",
    "\n",
    "            for batch in test_loader[fold_indice]:\n",
    "                inputs = batch[0].to('cuda')\n",
    "\n",
    "                optimizer.zero_grad()\n",
    "                with torch.no_grad():\n",
    "                    outputs = model(inputs)\n",
    "                    loss = loss_fn(outputs, inputs.double())\n",
    "\n",
    "                vrunning_loss[fold_indice] += loss.item() * inputs.size(0)\n",
    "                num_samples[fold_indice] += inputs.size(0)\n",
    "\n",
    "                vepoch_loss_folds[fold_indice] = vrunning_loss[fold_indice] / num_samples[fold_indice]\n",
    "\n",
    "            print('Epoch({}) - Fold {} - Validation Loss : {:.4f}'.format(epoch, fold_indice, vepoch_loss_folds[fold_indice]))        \n",
    "\n",
    "        # update epoch loss\n",
    "        vepoch_loss = sum(vepoch_loss_folds) / len(vepoch_loss_folds)\n",
    "        print('Epoch({}) - GLOBAL - Validation Loss: {:.4f}'.format(epoch, vepoch_loss))\n",
    "\n",
    "        #print(f'Sum of model parameters ({epoch}):')\n",
    "        #[print(p.sum()) for p in model.parameters()]\n",
    "\n",
    "        writer.add_scalar(\"Global valid/Loss\", vepoch_loss, epoch)\n",
    "\n",
    "        for fold_indice in range(5):\n",
    "            writer.add_scalar(\"Fold valid Loss/Loss fold \"+str(fold_indice), vepoch_loss_folds[fold_indice], epoch)        \n",
    "\n",
    "        writer.flush()\n",
    "\n",
    "        # Check if Early Stopping\n",
    "\n",
    "        if (vepoch_loss > the_last_loss):\n",
    "            if (EARLY_STOPPING == True):\n",
    "                trigger_times += 1\n",
    "\n",
    "                print(f'Intermediate early stopping : vepoch_loss = {vepoch_loss:.4f}, the_last_loss={the_last_loss:.4f}')\n",
    "\n",
    "                if trigger_times >= patience:\n",
    "                    print('Meet Early stopping!')\n",
    "                    early_stopping_met = True\n",
    "                    ##torch.save(model.state_dict(), f'model_{fold}.pt')\n",
    "                    break\n",
    "        else:\n",
    "            trigger_times = 0\n",
    "            the_last_loss = vepoch_loss\n",
    "\n",
    "            the_best_epoch = epoch\n",
    "\n",
    "            # Save model for the best version so far\n",
    "            print(f'Saving model corresponding to last_loss == {the_last_loss}')\n",
    "            torch.save(model.state_dict(), MODEL_FILE_AE)\n",
    "\n",
    "        print('\\n')\n",
    "\n",
    "    if (early_stopping_met == False):\n",
    "        print(\"Didn't meet early stopping : saving final model\")\n",
    "        # Save model if don't meet early stopping\n",
    "        torch.save(model.state_dict(), MODEL_FILE_AE)\n",
    "\n",
    "    writer.add_text(f\"Global valid/Loss\", f\"Best loss: {the_last_loss}\", the_best_epoch)\n",
    "\n",
    "    scores_results = {'Loss': the_last_loss, 'Loss folds': vepoch_loss_folds, 'Loss_std': np.std(vepoch_loss_folds)}\n",
    "\n",
    "    writer.add_text('Final score', str(scores_results))\n",
    "    writer.add_text('Batch size', str(BATCH_SIZE_AE))\n",
    "    writer.add_text('Patience', str(patience))\n",
    "    writer.add_text('Number of epochs', str(NUM_EPOCHS_AE))\n",
    "    writer.add_text('Best epoch', str(the_best_epoch))\n",
    "    writer.add_text('Number of parameters per layer', str([p.numel() for p in model.parameters()]))\n",
    "    writer.add_text('Model architecture', str(model).replace('\\n', '<BR>'))\n",
    "    writer.add_text('Comment', MODEL_COMMENT_AE)\n",
    "\n",
    "    writer.close()\n",
    "\n",
    "    print('Training summary:')\n",
    "    print(scores_results)\n",
    "\n",
    "    model_AE = model\n",
    "    model_AE.eval()\n",
    "    print('Training ended')"
   ]
  },
  {
   "cell_type": "code",
   "execution_count": 62,
   "metadata": {},
   "outputs": [
    {
     "data": {
      "text/plain": [
       "0.3105054402961592"
      ]
     },
     "execution_count": 62,
     "metadata": {},
     "output_type": "execute_result"
    }
   ],
   "source": [
    "df[FEATURES_LIST_TOTRAIN].mean().mean()"
   ]
  },
  {
   "cell_type": "code",
   "execution_count": 63,
   "metadata": {},
   "outputs": [
    {
     "data": {
      "text/plain": [
       "3.4781999277368514"
      ]
     },
     "execution_count": 63,
     "metadata": {},
     "output_type": "execute_result"
    }
   ],
   "source": [
    "1.08 / df[FEATURES_LIST_TOTRAIN].mean().mean()"
   ]
  },
  {
   "cell_type": "code",
   "execution_count": 64,
   "metadata": {},
   "outputs": [],
   "source": [
    "#ts_train.mean(axis=0)"
   ]
  },
  {
   "cell_type": "code",
   "execution_count": 65,
   "metadata": {},
   "outputs": [],
   "source": [
    "#loss_fn(ts_train[0:5, :], model_AE(ts_train[0:5, :]))"
   ]
  },
  {
   "cell_type": "code",
   "execution_count": 66,
   "metadata": {},
   "outputs": [],
   "source": [
    "#model_AE(ts_train[0:5, :])[0, 5]"
   ]
  },
  {
   "cell_type": "code",
   "execution_count": 67,
   "metadata": {},
   "outputs": [],
   "source": [
    "#ts_train[0, 5]"
   ]
  },
  {
   "cell_type": "code",
   "execution_count": 68,
   "metadata": {},
   "outputs": [],
   "source": [
    "#loss_fn(ts_train[50, 5], model_AE(ts_train[:, :])[50, 5])"
   ]
  },
  {
   "cell_type": "markdown",
   "metadata": {},
   "source": [
    "# Training main model"
   ]
  },
  {
   "cell_type": "code",
   "execution_count": 69,
   "metadata": {},
   "outputs": [
    {
     "name": "stdout",
     "output_type": "stream",
     "text": [
      "Create sweep with ID: f08v5ybn\n",
      "Sweep URL: https://wandb.ai/fboyer/janestreet-mlp/sweeps/f08v5ybn\n"
     ]
    }
   ],
   "source": [
    "sweep_id = wandb.sweep(sweep_config, entity='fboyer', project=\"janestreet-mlp\")"
   ]
  },
  {
   "cell_type": "code",
   "execution_count": 70,
   "metadata": {},
   "outputs": [],
   "source": [
    "def train():\n",
    "    config_MLP = dict(\n",
    "        epochs=NUM_EPOCHS,\n",
    "        batch_size=BATCH_SIZE,\n",
    "        learning_rate=LEARNING_RATE,\n",
    "        weight_decay = WEIGHT_DECAY,\n",
    "        dropout = DROPOUT,\n",
    "        #use_autoenc = True\n",
    "        )\n",
    "\n",
    "    if (DO_SWEEP == True):\n",
    "        #run = wandb.init()\n",
    "        #config_MLP = run.config\n",
    "        wandb.init(config=config_MLP)\n",
    "        config_MLP = wandb.config\n",
    "    \n",
    "    else:\n",
    "        wandb.init(project='janestreet-mlp', config=config_MLP)\n",
    "        config_MLP = wandb.config\n",
    "        \n",
    "    print('Training started')\n",
    "    patience=5\n",
    "    \n",
    "    print('Run config :')\n",
    "    print(\"config:\", dict(config_MLP))\n",
    "\n",
    "    utility_scores = [None] * 5\n",
    "    accuracy_scores = [None] * 5\n",
    "\n",
    "    writer = SummaryWriter()\n",
    "\n",
    "    ts_train = torch.tensor(df.loc[folds_list_train2_unique, FEATURES_LIST_TOTRAIN].to_numpy(), device='cuda')\n",
    "    ts_train_y = torch.tensor((df.loc[folds_list_train2_unique, 'resp'] > 0).astype(np.byte).to_numpy(), device='cuda')\n",
    "\n",
    "    # Normalize data\n",
    "    ts_train_mean = torch.mean(ts_train, axis=0)\n",
    "    ts_train_std = torch.std(ts_train, axis=0)\n",
    "    #ts_train = pyStandardScale(ts_train, ts_train_mean, ts_train_std)\n",
    "\n",
    "    train_dataset = torch.utils.data.TensorDataset(ts_train, ts_train_y)\n",
    "    train_loader = torch.utils.data.DataLoader(train_dataset, batch_size=config_MLP.batch_size, shuffle=True) # pin_memory : VOIR RESULTAT\n",
    "\n",
    "    ts_test = [None] * 5\n",
    "    ts_test_y = [None] * 5    \n",
    "    test_dataset = [None] * 5\n",
    "    test_loader = [None] * 5\n",
    "\n",
    "    for fold_indice in range(5):\n",
    "        ts_test[fold_indice] = torch.tensor(df.loc[folds_list_test[fold_indice], FEATURES_LIST_TOTRAIN].to_numpy(), device='cuda')\n",
    "        ts_test_y[fold_indice] = torch.tensor((df.loc[folds_list_test[fold_indice], 'resp'] > 0).astype(np.byte).to_numpy(), device='cuda')\n",
    "\n",
    "        # Normalize\n",
    "        #ts_test[fold_indice] = pyStandardScale(ts_test[fold_indice], ts_train_mean, ts_train_std)\n",
    "\n",
    "        test_dataset[fold_indice] = torch.utils.data.TensorDataset(ts_test[fold_indice], ts_test_y[fold_indice])\n",
    "        test_loader[fold_indice] = torch.utils.data.DataLoader(test_dataset[fold_indice], batch_size=config_MLP.batch_size)\n",
    "\n",
    "    torch.manual_seed(seed)\n",
    "\n",
    "    class MLP(nn.Module):\n",
    "        def __init__(self, AEncoder):\n",
    "        #def __init__(self):\n",
    "            super(MLP,self).__init__()\n",
    "\n",
    "            self.AEncoder = AEncoder\n",
    "\n",
    "            if (config_MLP.use_autoenc == 'encoder-decoder'):\n",
    "                #self.layer1 = nn.Linear(len(FEATURES_LIST_TOTRAIN) + self.AEncoder.decoder[0].in_features, 200)\n",
    "                self.layer1 = nn.Linear(len(FEATURES_LIST_TOTRAIN) * 2, 200) # <= % near 0 élevé\n",
    "                \n",
    "            else:\n",
    "                self.layer1 = nn.Linear(len(FEATURES_LIST_TOTRAIN), 200) # <= % near 0 élevé\n",
    "                \n",
    "            self.act1 = nn.ReLU()\n",
    "            self.dropout1 = nn.Dropout(config_MLP.dropout)\n",
    "\n",
    "            self.layer2 = nn.Linear(200, 100)\n",
    "            self.act2 = nn.ReLU()\n",
    "            self.dropout2 = nn.Dropout(config_MLP.dropout)\n",
    "\n",
    "            self.layer3 = nn.Linear(100, 1)\n",
    "            self.act3 = nn.Sigmoid()\n",
    "\n",
    "        def encoder(self, x):\n",
    "            self.AEncoder.eval()\n",
    "\n",
    "            encoded = self.AEncoder.encoder(x)\n",
    "\n",
    "            return encoded\n",
    "\n",
    "        def encoder_decoder(self, x):\n",
    "            self.AEncoder.eval()\n",
    "\n",
    "            encoded_decoded = self.AEncoder(x)\n",
    "\n",
    "            return encoded_decoded\n",
    "\n",
    "        def forward(self,x):\n",
    "            #x_encoded = self.encoder(x)\n",
    "            x_decoded = self.encoder_decoder(x)\n",
    "\n",
    "            #x = torch.cat((x, x_encoded), dim=1)\n",
    "            if (config_MLP.use_autoenc == 'encoder-decoder'):\n",
    "                x = torch.cat((x, x_decoded), dim=1)\n",
    "                \n",
    "            else:\n",
    "                pass\n",
    "\n",
    "            x = self.dropout1(self.act1(self.layer1(x)))\n",
    "            x = self.dropout2(self.act2(self.layer2(x)))\n",
    "\n",
    "            x = self.act3(self.layer3(x))\n",
    "\n",
    "            return x        \n",
    "\n",
    "    #model = MLP(model_AE)\n",
    "    model = MLP(model_AE).double().to('cuda')\n",
    "\n",
    "    for param in model.AEncoder.parameters():\n",
    "        param.requires_grad = False\n",
    "\n",
    "    '''\n",
    "    model = nn.Sequential(\n",
    "            #nn.Dropout(0.2),\n",
    "            nn.Linear(len(FEATURES_LIST_TOTRAIN), 200),\n",
    "            #nn.BatchNorm1d(130),\n",
    "            nn.ReLU(),\n",
    "            nn.Dropout(0.7),\n",
    "\n",
    "            nn.Linear(200, 100),\n",
    "            #nn.BatchNorm1d(130),\n",
    "            nn.ReLU(),\n",
    "            nn.Dropout(0.7),\n",
    "\n",
    "            nn.Linear(100, 1),\n",
    "            nn.Sigmoid(),\n",
    "        ).double().to('cuda')\n",
    "    '''\n",
    "\n",
    "    print('Number of model parameters :')\n",
    "    numel_list = [p.numel() for p in model.parameters()]\n",
    "    sum(numel_list), numel_list\n",
    "\n",
    "    loss_fn = nn.BCELoss().to('cuda')\n",
    "    #optimizer = torch.optim.Adam(model.parameters(), lr=1e-3) \n",
    "    optimizer = torch.optim.Adam(model.parameters(), lr=config_MLP.learning_rate, weight_decay=config_MLP.weight_decay) \n",
    "\n",
    "    scheduler = None\n",
    "    #scheduler = torch.optim.lr_scheduler.OneCycleLR(optimizer=optimizer, pct_start=0.1, div_factor=1e3,\n",
    "    #                                                         max_lr=1e-4, epochs=config_MLP.epochs, steps_per_epoch=len(train_loader))\n",
    "\n",
    "    if (DO_SWEEP == False):\n",
    "        wandb.watch(model, loss_fn, log=\"all\", log_freq=1)\n",
    "\n",
    "    model.eval()\n",
    "    #start_accuracy = accuracy_score(ts_test_y.cpu().numpy(), (model(ts_test).squeeze() > 0.5).cpu().numpy())\n",
    "    #start_utility_score = utility_function(df.loc[test_index], (model(ts_test).squeeze() > 0.5).cpu().numpy())\n",
    "    #print('Start Validation Accuracy: {:.4f}'.format(start_accuracy))\n",
    "    #print('Start Validation Utility: {:.4f}'.format(start_utility_score))\n",
    "\n",
    "\n",
    "    Val_Loss = 0\n",
    "    N_Samples = 0\n",
    "\n",
    "    the_last_loss = 100\n",
    "    the_last_utility_score = 0\n",
    "    the_last_accuracy = 0\n",
    "    trigger_times=0\n",
    "    early_stopping_met = False\n",
    "\n",
    "    for epoch in range(config_MLP.epochs): \n",
    "        running_loss = 0.0        \n",
    "\n",
    "        ### Call back to save activation stats (mean, std dev and near 0 values after activation functions)\n",
    "        # Setting hook for activation layers stats\n",
    "\n",
    "        hook_handles = []\n",
    "        save_output_activation_stats = []\n",
    "\n",
    "        for layer in model.modules():\n",
    "            if ('activation' in str(type(layer))):\n",
    "                save_output_activation_stats_1layer = SaveOutputActivationStats()\n",
    "                handle = layer.register_forward_hook(save_output_activation_stats_1layer)\n",
    "                save_output_activation_stats.append(save_output_activation_stats_1layer)\n",
    "                hook_handles.append(handle)    \n",
    "\n",
    "        model.train()\n",
    "\n",
    "        for param in model.AEncoder.parameters():\n",
    "            param.requires_grad = False\n",
    "\n",
    "        for batch in train_loader:\n",
    "            #inputs, labels = batch[0], batch[1]\n",
    "            inputs, labels = batch[0].to('cuda'), batch[1].to('cuda')\n",
    "            optimizer.zero_grad()\n",
    "\n",
    "            with torch.set_grad_enabled(True):\n",
    "                outputs = model(inputs)\n",
    "                loss = loss_fn(outputs, labels.unsqueeze(-1).double())\n",
    "                loss.backward()\n",
    "                optimizer.step()\n",
    "\n",
    "                if scheduler:\n",
    "                    scheduler.step()\n",
    "\n",
    "        # update local train loss\n",
    "            running_loss += loss.item() * inputs.size(0)\n",
    "\n",
    "        # update global train loss\n",
    "        epoch_loss = running_loss / len(train_loader.dataset)\n",
    "        print('Epoch({}) - Training Loss: {:.4f}'.format(epoch, epoch_loss))\n",
    "\n",
    "        writer.add_scalar(f\"Global train/loss\", epoch_loss, epoch)\n",
    "        wandb.log({'Global train/loss' : epoch_loss}, step=epoch)\n",
    "\n",
    "        # Write activation stats graphs\n",
    "        for layer_number,save_output_activation_stats_layer in enumerate(save_output_activation_stats):\n",
    "            df_stats_layer = pd.DataFrame(save_output_activation_stats_layer.outputs)\n",
    "\n",
    "            if ((df_stats_layer.shape[0] == 0) and (df_stats_layer.shape[1] == 0)):\n",
    "                print(f'Activation stats: No data returned for stats at layer {layer_number}')\n",
    "\n",
    "            else:\n",
    "                fig, ax = plt.subplots(1, 3, figsize=(25, 4))\n",
    "\n",
    "                ax[0].set_title(f'Layer {layer_number} : Mean activation value', fontsize=16)\n",
    "                ax[0].set_xlabel('Batch instances')\n",
    "                ax[0].set_ylabel('Mean')\n",
    "                ax[0].plot(range(df_stats_layer.shape[0]), df_stats_layer['mean'])\n",
    "\n",
    "                ax[1].set_title(f'Layer {layer_number} : Std deviation activation value', fontsize=16)\n",
    "                ax[1].set_xlabel('Batch instances')\n",
    "                ax[1].set_ylabel('Standard deviation')\n",
    "                ax[1].plot(range(df_stats_layer.shape[0]), df_stats_layer['std'])\n",
    "\n",
    "                ax[2].set_title(f'Layer {layer_number} : Percentage of activation values near zero', fontsize=16)\n",
    "                ax[2].set_xlabel('Batch instances')\n",
    "                ax[2].set_ylabel('Percentage')\n",
    "                ax[2].plot(range(df_stats_layer.shape[0]), df_stats_layer['near_zero']);\n",
    "\n",
    "                plot_buf = io.BytesIO()\n",
    "                plt.savefig(plot_buf, format='jpeg')\n",
    "                plt.close()\n",
    "\n",
    "                plot_buf.seek(0)\n",
    "                image = PIL.Image.open(plot_buf)\n",
    "                image = transforms.ToTensor()(image)\n",
    "                writer.add_image(\"Train activation stats/Activation stats layer \" + str(layer_number), image, epoch)\n",
    "                wandb.log({'Train activation stats/Activation stats layer' + str(layer_number) : wandb.Image(image)}, step=epoch)\n",
    "\n",
    "        # Validation \n",
    "        model.eval()\n",
    "\n",
    "        for param in model.AEncoder.parameters():\n",
    "            param.requires_grad = False\n",
    "\n",
    "        vrunning_loss = [None] * 5\n",
    "        num_samples = [None] * 5\n",
    "        vepoch_loss_folds = [None] * 5\n",
    "        vepoch_accuracy_folds = [None] * 5\n",
    "        vepoch_utility_score_folds = [None] * 5\n",
    "\n",
    "        for fold_indice in range(5):    \n",
    "            vrunning_loss[fold_indice] = 0.0\n",
    "            num_samples[fold_indice] = 0\n",
    "\n",
    "            for batch in test_loader[fold_indice]:\n",
    "                inputs, labels = batch[0].to('cuda'), batch[1].to('cuda')\n",
    "\n",
    "                optimizer.zero_grad()\n",
    "                with torch.no_grad():\n",
    "                    outputs = model(inputs)\n",
    "                    loss = loss_fn(outputs, labels.unsqueeze(-1).double())\n",
    "\n",
    "                vrunning_loss[fold_indice] += loss.item() * inputs.size(0)\n",
    "                num_samples[fold_indice] += labels.size(0)\n",
    "\n",
    "                vepoch_loss_folds[fold_indice] = vrunning_loss[fold_indice] / num_samples[fold_indice]\n",
    "\n",
    "            print('Epoch({}) - Fold {} - Validation Loss : {:.4f}'.format(epoch, fold_indice, vepoch_loss_folds[fold_indice]))\n",
    "\n",
    "            model.eval()\n",
    "            with torch.no_grad():\n",
    "                vepoch_accuracy_folds[fold_indice] = accuracy_score(ts_test_y[fold_indice].cpu().numpy(), (model(ts_test[fold_indice]).squeeze() > 0.5).cpu().numpy())\n",
    "                vepoch_utility_score_folds[fold_indice] = utility_function(df.loc[folds_list_test[fold_indice]], (model(ts_test[fold_indice]).squeeze() > 0.5).cpu().numpy())\n",
    "            print('Epoch({}) - Fold {} - Validation Accuracy : {:.4f}'.format(epoch, fold_indice, vepoch_accuracy_folds[fold_indice]))\n",
    "            print('Epoch({}) - Fold {} - Validation Utility score : {:.4f}'.format(epoch, fold_indice, vepoch_utility_score_folds[fold_indice]))\n",
    "\n",
    "\n",
    "        # update epoch loss\n",
    "        vepoch_loss = sum(vepoch_loss_folds) / len(vepoch_loss_folds)\n",
    "        vepoch_accuracy = sum(vepoch_accuracy_folds) / len(vepoch_accuracy_folds)\n",
    "        vepoch_utility_score = sum(vepoch_utility_score_folds) #/ len(vepoch_utility_score_folds)\n",
    "        print('Epoch({}) - GLOBAL - Validation Loss: {:.4f}'.format(epoch, vepoch_loss))\n",
    "        print('Epoch({}) - GLOBAL - Validation Accuracy: {:.4f}'.format(epoch, vepoch_accuracy))\n",
    "        print('Epoch({}) - GLOBAL - Validation Utility score: {:.4f}'.format(epoch, vepoch_utility_score))\n",
    "\n",
    "        #print(f'Sum of model parameters ({epoch}):')\n",
    "        #[print(p.sum()) for p in model.parameters()]\n",
    "\n",
    "        writer.add_scalar(\"Global valid/Loss\", vepoch_loss, epoch)\n",
    "        writer.add_scalar(\"Global valid/Accuracy\", vepoch_accuracy, epoch)\n",
    "        writer.add_scalar(\"Global valid/Utility\", vepoch_utility_score, epoch)\n",
    "        wandb.log({'Global valid/Loss' : vepoch_loss}, step=epoch)\n",
    "        wandb.log({'Global valid/Accuracy' : vepoch_accuracy}, step=epoch)\n",
    "        wandb.log({'Global valid/Utility' : vepoch_utility_score}, step=epoch)\n",
    "\n",
    "        for fold_indice in range(5):\n",
    "            writer.add_scalar(\"Fold valid Loss/Loss fold \"+str(fold_indice), vepoch_loss_folds[fold_indice], epoch)\n",
    "            writer.add_scalar(\"Fold valid Accuracy/Accuracy fold \"+str(fold_indice), vepoch_accuracy_folds[fold_indice], epoch)\n",
    "            writer.add_scalar(\"Fold valid Utility/Utility fold \"+str(fold_indice), vepoch_utility_score_folds[fold_indice], epoch)\n",
    "\n",
    "            wandb.log({\"Fold valid Loss/Loss fold \"+str(fold_indice) : vepoch_loss_folds[fold_indice]}, step=epoch)\n",
    "            wandb.log({\"Fold valid Accuracy/Accuracy fold \"+str(fold_indice) : vepoch_accuracy_folds[fold_indice]}, step=epoch)\n",
    "            wandb.log({\"Fold valid Utility/Utility fold \"+str(fold_indice) : vepoch_utility_score_folds[fold_indice]}, step=epoch)\n",
    "\n",
    "        writer.flush()\n",
    "\n",
    "        # Check if Early Stopping\n",
    "        #if vepoch_loss > the_last_loss:\n",
    "        #if (vepoch_utility_score < the_last_utility_score) and (vepoch_loss > the_last_loss) and (vepoch_accuracy < the_last_accuracy):\n",
    "\n",
    "        if (vepoch_loss > the_last_loss):\n",
    "            if (EARLY_STOPPING == True):\n",
    "                trigger_times += 1\n",
    "\n",
    "                print(f'Intermediate early stopping : vepoch_loss = {vepoch_loss:.4f}, the_last_loss={the_last_loss:.4f}')\n",
    "                #print(f'Intermediate early stopping : vepoch_accuracy = {vepoch_accuracy:.4f}, the_last_utility_score={the_last_accuracy:.4f}')\n",
    "                #print(f'Intermediate early stopping : vepoch_utility_score = {vepoch_utility_score:.4f}, the_last_utility_score={the_last_utility_score:.4f}')\n",
    "\n",
    "                if trigger_times >= patience:\n",
    "                    print('Meet Early stopping!')\n",
    "                    early_stopping_met = True\n",
    "                    ##torch.save(model.state_dict(), f'model_{fold}.pt')\n",
    "                    break\n",
    "        else:\n",
    "            trigger_times = 0\n",
    "            the_last_loss = vepoch_loss\n",
    "            the_last_utility_score = vepoch_utility_score\n",
    "            the_last_accuracy = vepoch_accuracy\n",
    "\n",
    "            the_last_utility_score_folds = vepoch_utility_score_folds\n",
    "            the_last_accuracy_folds = vepoch_accuracy_folds\n",
    "\n",
    "            the_best_epoch = epoch\n",
    "\n",
    "            # Save model for the best version so far\n",
    "            print(f'Saving model corresponding to last_utility_score == {the_last_utility_score}')\n",
    "            torch.save(model.state_dict(), MODEL_FILE)\n",
    "            #torch.onnx.export(model, batch, MODEL_FILE_ONNX)\n",
    "            #wandb.save(MODEL_FILE_ONNX)\n",
    "\n",
    "        print('\\n')\n",
    "\n",
    "    if (early_stopping_met == False):\n",
    "        print(\"Didn't meet early stopping : saving final model\")\n",
    "        # Save model if don't meet early stopping\n",
    "        torch.save(model.state_dict(), MODEL_FILE)\n",
    "        #torch.onnx.export(model, test_loader[0], MODEL_FILE_ONNX)\n",
    "        #wandb.save(MODEL_FILE_ONNX)\n",
    "\n",
    "    #utility_scores.append(the_last_utility_score)\n",
    "    #accuracy_scores.append(the_last_accuracy)\n",
    "    writer.add_text(f\"Global valid/Utility\", f\"Best utility: {the_last_utility_score}\", the_best_epoch)\n",
    "\n",
    "    scores_results = {'utility_score': the_last_utility_score, 'utility_scores': the_last_utility_score_folds, 'utility_score_std': np.std(the_last_utility_score_folds), 'accuracy_scores': the_last_accuracy_folds}\n",
    "\n",
    "    writer.add_text('Final utility score', str(scores_results))\n",
    "    writer.add_text('Batch size', str(config_MLP.batch_size))\n",
    "    writer.add_text('Patience', str(patience))\n",
    "    writer.add_text('Number of epochs', str(NUM_EPOCHS))\n",
    "    writer.add_text('Best epoch', str(the_best_epoch))\n",
    "    writer.add_text('Number of parameters per layer', str([p.numel() for p in model.parameters()]))\n",
    "    writer.add_text('Model architecture', str(model).replace('\\n', '<BR>'))\n",
    "    writer.add_text('Comment', MODEL_COMMENT)\n",
    "\n",
    "\n",
    "    wandb.run.summary['Final utility score'] = str(scores_results)\n",
    "    wandb.run.summary['Batch size'] = str(config_MLP.batch_size)\n",
    "    wandb.run.summary['Patience'] = str(patience)\n",
    "    wandb.run.summary['Number of epochs'] = str(NUM_EPOCHS)\n",
    "    wandb.run.summary['Best epoch'] = str(the_best_epoch)\n",
    "    wandb.run.summary['Number of parameters per layer'] = str([p.numel() for p in model.parameters()])\n",
    "    wandb.run.summary['Model architecture'] = str(model).replace('\\n', '<BR>')\n",
    "\n",
    "    #wandb.log({\"Comment\" : MODEL_COMMENT})\n",
    "    wandb.run.summary['comment'] = MODEL_COMMENT\n",
    "\n",
    "    writer.close()\n",
    "    run.finish()\n",
    "\n",
    "    print('Training summary:')\n",
    "    print(scores_results)"
   ]
  },
  {
   "cell_type": "code",
   "execution_count": 78,
   "metadata": {},
   "outputs": [
    {
     "name": "stderr",
     "output_type": "stream",
     "text": [
      "\u001b[34m\u001b[1mwandb\u001b[0m: Agent Starting Run: ouvvo6wn with config:\n",
      "\u001b[34m\u001b[1mwandb\u001b[0m: \tbatch_size: 8192\n",
      "\u001b[34m\u001b[1mwandb\u001b[0m: \tdropout: 0.2\n",
      "\u001b[34m\u001b[1mwandb\u001b[0m: \tlearning_rate: 0.0003\n",
      "\u001b[34m\u001b[1mwandb\u001b[0m: \tuse_autoenc: None\n",
      "\u001b[34m\u001b[1mwandb\u001b[0m: \tweight_decay: 0.01\n"
     ]
    },
    {
     "data": {
      "text/html": [
       "\n",
       "                Tracking run with wandb version 0.10.18<br/>\n",
       "                Syncing run <strong style=\"color:#cdcd00\">solar-sweep-1</strong> to <a href=\"https://wandb.ai\" target=\"_blank\">Weights & Biases</a> <a href=\"https://docs.wandb.com/integrations/jupyter.html\" target=\"_blank\">(Documentation)</a>.<br/>\n",
       "                Project page: <a href=\"https://wandb.ai/fboyer/janestreet-mlp\" target=\"_blank\">https://wandb.ai/fboyer/janestreet-mlp</a><br/>\n",
       "                Sweep page: <a href=\"https://wandb.ai/fboyer/janestreet-mlp/sweeps/l1r8th9r\" target=\"_blank\">https://wandb.ai/fboyer/janestreet-mlp/sweeps/l1r8th9r</a><br/>\n",
       "Run page: <a href=\"https://wandb.ai/fboyer/janestreet-mlp/runs/ouvvo6wn\" target=\"_blank\">https://wandb.ai/fboyer/janestreet-mlp/runs/ouvvo6wn</a><br/>\n",
       "                Run data is saved locally in <code>/home/francois/coding/OC/PJ9/wandb/run-20210213_184120-ouvvo6wn</code><br/><br/>\n",
       "            "
      ],
      "text/plain": [
       "<IPython.core.display.HTML object>"
      ]
     },
     "metadata": {},
     "output_type": "display_data"
    },
    {
     "name": "stdout",
     "output_type": "stream",
     "text": [
      "Training started\n",
      "Run config :\n",
      "config: {'batch_size': 8192, 'dropout': 0.2, 'learning_rate': 0.0003, 'use_autoenc': 'None', 'weight_decay': 0.01}\n",
      "Number of model parameters :\n"
     ]
    },
    {
     "data": {
      "text/html": [
       "<br/>Waiting for W&B process to finish, PID 51401<br/>Program failed with code 1.  Press ctrl-c to abort syncing."
      ],
      "text/plain": [
       "<IPython.core.display.HTML object>"
      ]
     },
     "metadata": {},
     "output_type": "display_data"
    },
    {
     "data": {
      "text/html": [
       "Find user logs for this run at: <code>/home/francois/coding/OC/PJ9/wandb/run-20210213_184120-ouvvo6wn/logs/debug.log</code>"
      ],
      "text/plain": [
       "<IPython.core.display.HTML object>"
      ]
     },
     "metadata": {},
     "output_type": "display_data"
    },
    {
     "data": {
      "text/html": [
       "Find internal logs for this run at: <code>/home/francois/coding/OC/PJ9/wandb/run-20210213_184120-ouvvo6wn/logs/debug-internal.log</code>"
      ],
      "text/plain": [
       "<IPython.core.display.HTML object>"
      ]
     },
     "metadata": {},
     "output_type": "display_data"
    },
    {
     "data": {
      "text/html": [
       "Synced 5 W&B file(s), 0 media file(s), 0 artifact file(s) and 0 other file(s)"
      ],
      "text/plain": [
       "<IPython.core.display.HTML object>"
      ]
     },
     "metadata": {},
     "output_type": "display_data"
    },
    {
     "data": {
      "text/html": [
       "\n",
       "                    <br/>Synced <strong style=\"color:#cdcd00\">solar-sweep-1</strong>: <a href=\"https://wandb.ai/fboyer/janestreet-mlp/runs/ouvvo6wn\" target=\"_blank\">https://wandb.ai/fboyer/janestreet-mlp/runs/ouvvo6wn</a><br/>\n",
       "                "
      ],
      "text/plain": [
       "<IPython.core.display.HTML object>"
      ]
     },
     "metadata": {},
     "output_type": "display_data"
    },
    {
     "name": "stderr",
     "output_type": "stream",
     "text": [
      "\u001b[34m\u001b[1mwandb\u001b[0m: \u001b[32m\u001b[41mERROR\u001b[0m Run ouvvo6wn errored: KeyError('epochs')\n",
      "\u001b[34m\u001b[1mwandb\u001b[0m: Agent Starting Run: y6m3v6z7 with config:\n",
      "\u001b[34m\u001b[1mwandb\u001b[0m: \tbatch_size: 32768\n",
      "\u001b[34m\u001b[1mwandb\u001b[0m: \tdropout: 0\n",
      "\u001b[34m\u001b[1mwandb\u001b[0m: \tlearning_rate: 1e-05\n",
      "\u001b[34m\u001b[1mwandb\u001b[0m: \tuse_autoenc: encoder-decoder\n",
      "\u001b[34m\u001b[1mwandb\u001b[0m: \tweight_decay: 0.01\n"
     ]
    },
    {
     "data": {
      "text/html": [
       "\n",
       "                Tracking run with wandb version 0.10.18<br/>\n",
       "                Syncing run <strong style=\"color:#cdcd00\">daily-sweep-2</strong> to <a href=\"https://wandb.ai\" target=\"_blank\">Weights & Biases</a> <a href=\"https://docs.wandb.com/integrations/jupyter.html\" target=\"_blank\">(Documentation)</a>.<br/>\n",
       "                Project page: <a href=\"https://wandb.ai/fboyer/janestreet-mlp\" target=\"_blank\">https://wandb.ai/fboyer/janestreet-mlp</a><br/>\n",
       "                Sweep page: <a href=\"https://wandb.ai/fboyer/janestreet-mlp/sweeps/l1r8th9r\" target=\"_blank\">https://wandb.ai/fboyer/janestreet-mlp/sweeps/l1r8th9r</a><br/>\n",
       "Run page: <a href=\"https://wandb.ai/fboyer/janestreet-mlp/runs/y6m3v6z7\" target=\"_blank\">https://wandb.ai/fboyer/janestreet-mlp/runs/y6m3v6z7</a><br/>\n",
       "                Run data is saved locally in <code>/home/francois/coding/OC/PJ9/wandb/run-20210213_184128-y6m3v6z7</code><br/><br/>\n",
       "            "
      ],
      "text/plain": [
       "<IPython.core.display.HTML object>"
      ]
     },
     "metadata": {},
     "output_type": "display_data"
    },
    {
     "name": "stdout",
     "output_type": "stream",
     "text": [
      "Training started\n",
      "Run config :\n",
      "config: {'batch_size': 32768, 'dropout': 0, 'learning_rate': 1e-05, 'use_autoenc': 'encoder-decoder', 'weight_decay': 0.01}\n"
     ]
    },
    {
     "name": "stderr",
     "output_type": "stream",
     "text": [
      "\u001b[34m\u001b[1mwandb\u001b[0m: Ctrl + C detected. Stopping sweep.\n"
     ]
    },
    {
     "data": {
      "text/html": [
       "<br/>Waiting for W&B process to finish, PID 51448<br/>Program failed with code 1.  Press ctrl-c to abort syncing."
      ],
      "text/plain": [
       "<IPython.core.display.HTML object>"
      ]
     },
     "metadata": {},
     "output_type": "display_data"
    },
    {
     "data": {
      "text/html": [
       "Find user logs for this run at: <code>/home/francois/coding/OC/PJ9/wandb/run-20210213_184128-y6m3v6z7/logs/debug.log</code>"
      ],
      "text/plain": [
       "<IPython.core.display.HTML object>"
      ]
     },
     "metadata": {},
     "output_type": "display_data"
    },
    {
     "data": {
      "text/html": [
       "Find internal logs for this run at: <code>/home/francois/coding/OC/PJ9/wandb/run-20210213_184128-y6m3v6z7/logs/debug-internal.log</code>"
      ],
      "text/plain": [
       "<IPython.core.display.HTML object>"
      ]
     },
     "metadata": {},
     "output_type": "display_data"
    },
    {
     "data": {
      "text/html": [
       "Synced 5 W&B file(s), 0 media file(s), 0 artifact file(s) and 0 other file(s)"
      ],
      "text/plain": [
       "<IPython.core.display.HTML object>"
      ]
     },
     "metadata": {},
     "output_type": "display_data"
    },
    {
     "data": {
      "text/html": [
       "\n",
       "                    <br/>Synced <strong style=\"color:#cdcd00\">daily-sweep-2</strong>: <a href=\"https://wandb.ai/fboyer/janestreet-mlp/runs/y6m3v6z7\" target=\"_blank\">https://wandb.ai/fboyer/janestreet-mlp/runs/y6m3v6z7</a><br/>\n",
       "                "
      ],
      "text/plain": [
       "<IPython.core.display.HTML object>"
      ]
     },
     "metadata": {},
     "output_type": "display_data"
    }
   ],
   "source": [
    "if (DO_SWEEP == True):\n",
    "    wandb.agent(sweep_id, function=train, project=\"janestreet-mlp\")"
   ]
  },
  {
   "cell_type": "code",
   "execution_count": 79,
   "metadata": {},
   "outputs": [
    {
     "data": {
      "text/html": [
       "Finishing last run (ID:9x03xtjl) before initializing another..."
      ],
      "text/plain": [
       "<IPython.core.display.HTML object>"
      ]
     },
     "metadata": {},
     "output_type": "display_data"
    },
    {
     "data": {
      "text/html": [
       "<br/>Waiting for W&B process to finish, PID 25151<br/>Program ended successfully."
      ],
      "text/plain": [
       "<IPython.core.display.HTML object>"
      ]
     },
     "metadata": {},
     "output_type": "display_data"
    },
    {
     "data": {
      "text/html": [
       "Find user logs for this run at: <code>/home/francois/coding/OC/PJ9/wandb/run-20210213_140652-9x03xtjl/logs/debug.log</code>"
      ],
      "text/plain": [
       "<IPython.core.display.HTML object>"
      ]
     },
     "metadata": {},
     "output_type": "display_data"
    },
    {
     "data": {
      "text/html": [
       "Find internal logs for this run at: <code>/home/francois/coding/OC/PJ9/wandb/run-20210213_140652-9x03xtjl/logs/debug-internal.log</code>"
      ],
      "text/plain": [
       "<IPython.core.display.HTML object>"
      ]
     },
     "metadata": {},
     "output_type": "display_data"
    },
    {
     "data": {
      "text/html": [
       "<h3>Run summary:</h3><br/><style>\n",
       "    table.wandb td:nth-child(1) { padding: 0 10px; text-align: right }\n",
       "    </style><table class=\"wandb\">\n",
       "<tr><td>Global train/loss</td><td>0.69323</td></tr><tr><td>Global valid/Loss</td><td>0.69278</td></tr><tr><td>Global valid/Accuracy</td><td>0.50912</td></tr><tr><td>Global valid/Utility</td><td>306.30287</td></tr><tr><td>Fold valid Loss/Loss fold 0</td><td>0.69257</td></tr><tr><td>Fold valid Accuracy/Accuracy fold 0</td><td>0.51376</td></tr><tr><td>Fold valid Utility/Utility fold 0</td><td>-0.0</td></tr><tr><td>Fold valid Loss/Loss fold 1</td><td>0.69233</td></tr><tr><td>Fold valid Accuracy/Accuracy fold 1</td><td>0.51554</td></tr><tr><td>Fold valid Utility/Utility fold 1</td><td>48.36953</td></tr><tr><td>Fold valid Loss/Loss fold 2</td><td>0.69303</td></tr><tr><td>Fold valid Accuracy/Accuracy fold 2</td><td>0.50511</td></tr><tr><td>Fold valid Utility/Utility fold 2</td><td>-0.0</td></tr><tr><td>Fold valid Loss/Loss fold 3</td><td>0.69313</td></tr><tr><td>Fold valid Accuracy/Accuracy fold 3</td><td>0.50441</td></tr><tr><td>Fold valid Utility/Utility fold 3</td><td>-0.0</td></tr><tr><td>Fold valid Loss/Loss fold 4</td><td>0.69281</td></tr><tr><td>Fold valid Accuracy/Accuracy fold 4</td><td>0.5068</td></tr><tr><td>Fold valid Utility/Utility fold 4</td><td>257.93334</td></tr><tr><td>_runtime</td><td>272</td></tr><tr><td>_timestamp</td><td>1613221888</td></tr><tr><td>_step</td><td>3</td></tr></table>"
      ],
      "text/plain": [
       "<IPython.core.display.HTML object>"
      ]
     },
     "metadata": {},
     "output_type": "display_data"
    },
    {
     "data": {
      "text/html": [
       "<h3>Run history:</h3><br/><style>\n",
       "    table.wandb td:nth-child(1) { padding: 0 10px; text-align: right }\n",
       "    </style><table class=\"wandb\">\n",
       "<tr><td>Global train/loss</td><td>█▃▂▁</td></tr><tr><td>Global valid/Loss</td><td>█▁▄</td></tr><tr><td>Global valid/Accuracy</td><td>▁█▇</td></tr><tr><td>Global valid/Utility</td><td>█▁▄</td></tr><tr><td>Fold valid Loss/Loss fold 0</td><td>█▁█</td></tr><tr><td>Fold valid Accuracy/Accuracy fold 0</td><td>▂█▁</td></tr><tr><td>Fold valid Utility/Utility fold 0</td><td>▂█▁</td></tr><tr><td>Fold valid Loss/Loss fold 1</td><td>▁▁█</td></tr><tr><td>Fold valid Accuracy/Accuracy fold 1</td><td>▁██</td></tr><tr><td>Fold valid Utility/Utility fold 1</td><td>▁▅█</td></tr><tr><td>Fold valid Loss/Loss fold 2</td><td>█▄▁</td></tr><tr><td>Fold valid Accuracy/Accuracy fold 2</td><td>▁▂█</td></tr><tr><td>Fold valid Utility/Utility fold 2</td><td>▁▁▁</td></tr><tr><td>Fold valid Loss/Loss fold 3</td><td>█▁▁</td></tr><tr><td>Fold valid Accuracy/Accuracy fold 3</td><td>▇█▁</td></tr><tr><td>Fold valid Utility/Utility fold 3</td><td>▁▁▁</td></tr><tr><td>Fold valid Loss/Loss fold 4</td><td>█▁█</td></tr><tr><td>Fold valid Accuracy/Accuracy fold 4</td><td>▁█▇</td></tr><tr><td>Fold valid Utility/Utility fold 4</td><td>█▁▂</td></tr><tr><td>_runtime</td><td>▁▃▄█</td></tr><tr><td>_timestamp</td><td>▁▃▄█</td></tr><tr><td>_step</td><td>▁▃▆█</td></tr></table><br/>"
      ],
      "text/plain": [
       "<IPython.core.display.HTML object>"
      ]
     },
     "metadata": {},
     "output_type": "display_data"
    },
    {
     "data": {
      "text/html": [
       "Synced 5 W&B file(s), 25 media file(s), 0 artifact file(s) and 0 other file(s)"
      ],
      "text/plain": [
       "<IPython.core.display.HTML object>"
      ]
     },
     "metadata": {},
     "output_type": "display_data"
    },
    {
     "data": {
      "text/html": [
       "\n",
       "                    <br/>Synced <strong style=\"color:#cdcd00\">pleasant-firebrand-9</strong>: <a href=\"https://wandb.ai/fboyer/janestreet-mlp/runs/9x03xtjl\" target=\"_blank\">https://wandb.ai/fboyer/janestreet-mlp/runs/9x03xtjl</a><br/>\n",
       "                "
      ],
      "text/plain": [
       "<IPython.core.display.HTML object>"
      ]
     },
     "metadata": {},
     "output_type": "display_data"
    },
    {
     "data": {
      "text/html": [
       "...Successfully finished last run (ID:9x03xtjl). Initializing new run:<br/><br/>"
      ],
      "text/plain": [
       "<IPython.core.display.HTML object>"
      ]
     },
     "metadata": {},
     "output_type": "display_data"
    },
    {
     "data": {
      "text/html": [
       "\n",
       "                Tracking run with wandb version 0.10.18<br/>\n",
       "                Syncing run <strong style=\"color:#cdcd00\">youthful-vortex-10</strong> to <a href=\"https://wandb.ai\" target=\"_blank\">Weights & Biases</a> <a href=\"https://docs.wandb.com/integrations/jupyter.html\" target=\"_blank\">(Documentation)</a>.<br/>\n",
       "                Project page: <a href=\"https://wandb.ai/fboyer/janestreet-mlp\" target=\"_blank\">https://wandb.ai/fboyer/janestreet-mlp</a><br/>\n",
       "                Run page: <a href=\"https://wandb.ai/fboyer/janestreet-mlp/runs/1au074w8\" target=\"_blank\">https://wandb.ai/fboyer/janestreet-mlp/runs/1au074w8</a><br/>\n",
       "                Run data is saved locally in <code>/home/francois/coding/OC/PJ9/wandb/run-20210213_141128-1au074w8</code><br/><br/>\n",
       "            "
      ],
      "text/plain": [
       "<IPython.core.display.HTML object>"
      ]
     },
     "metadata": {},
     "output_type": "display_data"
    },
    {
     "name": "stdout",
     "output_type": "stream",
     "text": [
      "Training started\n",
      "Number of model parameters :\n",
      "Epoch(0) - Training Loss: 0.7042\n",
      "Epoch(0) - Fold 0 - Validation Loss : 0.6930\n",
      "Epoch(0) - Fold 0 - Validation Accuracy : 0.5076\n",
      "Epoch(0) - Fold 0 - Validation Utility score : -0.0000\n",
      "Epoch(0) - Fold 1 - Validation Loss : 0.6925\n",
      "Epoch(0) - Fold 1 - Validation Accuracy : 0.5111\n",
      "Epoch(0) - Fold 1 - Validation Utility score : -0.0000\n",
      "Epoch(0) - Fold 2 - Validation Loss : 0.6933\n",
      "Epoch(0) - Fold 2 - Validation Accuracy : 0.5030\n",
      "Epoch(0) - Fold 2 - Validation Utility score : -0.0000\n",
      "Epoch(0) - Fold 3 - Validation Loss : 0.6933\n",
      "Epoch(0) - Fold 3 - Validation Accuracy : 0.5024\n",
      "Epoch(0) - Fold 3 - Validation Utility score : -0.0000\n",
      "Epoch(0) - Fold 4 - Validation Loss : 0.6932\n",
      "Epoch(0) - Fold 4 - Validation Accuracy : 0.5024\n",
      "Epoch(0) - Fold 4 - Validation Utility score : 72.1739\n",
      "Epoch(0) - GLOBAL - Validation Loss: 0.6930\n",
      "Epoch(0) - GLOBAL - Validation Accuracy: 0.5053\n",
      "Epoch(0) - GLOBAL - Validation Utility score: 72.1739\n",
      "Saving model corresponding to last_utility_score == 72.17392245898084\n",
      "\n",
      "\n",
      "Epoch(1) - Training Loss: 0.6958\n",
      "Epoch(1) - Fold 0 - Validation Loss : 0.6930\n",
      "Epoch(1) - Fold 0 - Validation Accuracy : 0.5061\n",
      "Epoch(1) - Fold 0 - Validation Utility score : -0.0000\n",
      "Epoch(1) - Fold 1 - Validation Loss : 0.6926\n",
      "Epoch(1) - Fold 1 - Validation Accuracy : 0.5104\n",
      "Epoch(1) - Fold 1 - Validation Utility score : -0.0000\n",
      "Epoch(1) - Fold 2 - Validation Loss : 0.6932\n",
      "Epoch(1) - Fold 2 - Validation Accuracy : 0.5032\n",
      "Epoch(1) - Fold 2 - Validation Utility score : -0.0000\n",
      "Epoch(1) - Fold 3 - Validation Loss : 0.6933\n",
      "Epoch(1) - Fold 3 - Validation Accuracy : 0.5019\n",
      "Epoch(1) - Fold 3 - Validation Utility score : -0.0000\n",
      "Epoch(1) - Fold 4 - Validation Loss : 0.6931\n",
      "Epoch(1) - Fold 4 - Validation Accuracy : 0.5015\n",
      "Epoch(1) - Fold 4 - Validation Utility score : 45.2356\n",
      "Epoch(1) - GLOBAL - Validation Loss: 0.6930\n",
      "Epoch(1) - GLOBAL - Validation Accuracy: 0.5046\n",
      "Epoch(1) - GLOBAL - Validation Utility score: 45.2356\n",
      "Saving model corresponding to last_utility_score == 45.23561281311055\n",
      "\n",
      "\n",
      "Epoch(2) - Training Loss: 0.6941\n",
      "Epoch(2) - Fold 0 - Validation Loss : 0.6929\n",
      "Epoch(2) - Fold 0 - Validation Accuracy : 0.5067\n",
      "Epoch(2) - Fold 0 - Validation Utility score : -0.0000\n",
      "Epoch(2) - Fold 1 - Validation Loss : 0.6926\n",
      "Epoch(2) - Fold 1 - Validation Accuracy : 0.5111\n",
      "Epoch(2) - Fold 1 - Validation Utility score : -0.0000\n",
      "Epoch(2) - Fold 2 - Validation Loss : 0.6931\n",
      "Epoch(2) - Fold 2 - Validation Accuracy : 0.5040\n",
      "Epoch(2) - Fold 2 - Validation Utility score : -0.0000\n",
      "Epoch(2) - Fold 3 - Validation Loss : 0.6932\n",
      "Epoch(2) - Fold 3 - Validation Accuracy : 0.5023\n",
      "Epoch(2) - Fold 3 - Validation Utility score : -0.0000\n",
      "Epoch(2) - Fold 4 - Validation Loss : 0.6931\n",
      "Epoch(2) - Fold 4 - Validation Accuracy : 0.5024\n",
      "Epoch(2) - Fold 4 - Validation Utility score : 63.5856\n",
      "Epoch(2) - GLOBAL - Validation Loss: 0.6930\n",
      "Epoch(2) - GLOBAL - Validation Accuracy: 0.5053\n",
      "Epoch(2) - GLOBAL - Validation Utility score: 63.5856\n",
      "Saving model corresponding to last_utility_score == 63.58555546987895\n",
      "\n",
      "\n",
      "Epoch(3) - Training Loss: 0.6934\n",
      "Epoch(3) - Fold 0 - Validation Loss : 0.6928\n",
      "Epoch(3) - Fold 0 - Validation Accuracy : 0.5076\n",
      "Epoch(3) - Fold 0 - Validation Utility score : -0.0000\n",
      "Epoch(3) - Fold 1 - Validation Loss : 0.6926\n",
      "Epoch(3) - Fold 1 - Validation Accuracy : 0.5120\n",
      "Epoch(3) - Fold 1 - Validation Utility score : 1.2189\n",
      "Epoch(3) - Fold 2 - Validation Loss : 0.6931\n",
      "Epoch(3) - Fold 2 - Validation Accuracy : 0.5035\n",
      "Epoch(3) - Fold 2 - Validation Utility score : -0.0000\n",
      "Epoch(3) - Fold 3 - Validation Loss : 0.6932\n",
      "Epoch(3) - Fold 3 - Validation Accuracy : 0.5025\n",
      "Epoch(3) - Fold 3 - Validation Utility score : -0.0000\n",
      "Epoch(3) - Fold 4 - Validation Loss : 0.6930\n",
      "Epoch(3) - Fold 4 - Validation Accuracy : 0.5035\n",
      "Epoch(3) - Fold 4 - Validation Utility score : 87.2522\n",
      "Epoch(3) - GLOBAL - Validation Loss: 0.6929\n",
      "Epoch(3) - GLOBAL - Validation Accuracy: 0.5058\n",
      "Epoch(3) - GLOBAL - Validation Utility score: 88.4712\n",
      "Saving model corresponding to last_utility_score == 88.47116530637737\n",
      "\n",
      "\n",
      "Epoch(4) - Training Loss: 0.6929\n",
      "Epoch(4) - Fold 0 - Validation Loss : 0.6926\n",
      "Epoch(4) - Fold 0 - Validation Accuracy : 0.5127\n",
      "Epoch(4) - Fold 0 - Validation Utility score : -0.0000\n",
      "Epoch(4) - Fold 1 - Validation Loss : 0.6924\n",
      "Epoch(4) - Fold 1 - Validation Accuracy : 0.5151\n",
      "Epoch(4) - Fold 1 - Validation Utility score : 35.7377\n",
      "Epoch(4) - Fold 2 - Validation Loss : 0.6930\n",
      "Epoch(4) - Fold 2 - Validation Accuracy : 0.5035\n",
      "Epoch(4) - Fold 2 - Validation Utility score : -0.0000\n",
      "Epoch(4) - Fold 3 - Validation Loss : 0.6931\n",
      "Epoch(4) - Fold 3 - Validation Accuracy : 0.5043\n",
      "Epoch(4) - Fold 3 - Validation Utility score : -0.0000\n",
      "Epoch(4) - Fold 4 - Validation Loss : 0.6928\n",
      "Epoch(4) - Fold 4 - Validation Accuracy : 0.5061\n",
      "Epoch(4) - Fold 4 - Validation Utility score : 156.2092\n",
      "Epoch(4) - GLOBAL - Validation Loss: 0.6928\n",
      "Epoch(4) - GLOBAL - Validation Accuracy: 0.5084\n",
      "Epoch(4) - GLOBAL - Validation Utility score: 191.9469\n",
      "Saving model corresponding to last_utility_score == 191.94692931873058\n",
      "\n",
      "\n",
      "Epoch(5) - Training Loss: 0.6927\n",
      "Epoch(5) - Fold 0 - Validation Loss : 0.6925\n",
      "Epoch(5) - Fold 0 - Validation Accuracy : 0.5164\n",
      "Epoch(5) - Fold 0 - Validation Utility score : 23.3777\n",
      "Epoch(5) - Fold 1 - Validation Loss : 0.6923\n",
      "Epoch(5) - Fold 1 - Validation Accuracy : 0.5174\n",
      "Epoch(5) - Fold 1 - Validation Utility score : 74.5256\n",
      "Epoch(5) - Fold 2 - Validation Loss : 0.6929\n",
      "Epoch(5) - Fold 2 - Validation Accuracy : 0.5046\n",
      "Epoch(5) - Fold 2 - Validation Utility score : -0.0000\n",
      "Epoch(5) - Fold 3 - Validation Loss : 0.6930\n",
      "Epoch(5) - Fold 3 - Validation Accuracy : 0.5058\n",
      "Epoch(5) - Fold 3 - Validation Utility score : -0.0000\n",
      "Epoch(5) - Fold 4 - Validation Loss : 0.6927\n",
      "Epoch(5) - Fold 4 - Validation Accuracy : 0.5088\n",
      "Epoch(5) - Fold 4 - Validation Utility score : 345.2916\n",
      "Epoch(5) - GLOBAL - Validation Loss: 0.6927\n",
      "Epoch(5) - GLOBAL - Validation Accuracy: 0.5106\n",
      "Epoch(5) - GLOBAL - Validation Utility score: 443.1949\n",
      "Saving model corresponding to last_utility_score == 443.194908565319\n",
      "\n",
      "\n",
      "Epoch(6) - Training Loss: 0.6924\n",
      "Epoch(6) - Fold 0 - Validation Loss : 0.6923\n",
      "Epoch(6) - Fold 0 - Validation Accuracy : 0.5181\n",
      "Epoch(6) - Fold 0 - Validation Utility score : 51.6534\n",
      "Epoch(6) - Fold 1 - Validation Loss : 0.6922\n",
      "Epoch(6) - Fold 1 - Validation Accuracy : 0.5198\n",
      "Epoch(6) - Fold 1 - Validation Utility score : 155.7266\n",
      "Epoch(6) - Fold 2 - Validation Loss : 0.6929\n",
      "Epoch(6) - Fold 2 - Validation Accuracy : 0.5049\n",
      "Epoch(6) - Fold 2 - Validation Utility score : -0.0000\n",
      "Epoch(6) - Fold 3 - Validation Loss : 0.6930\n",
      "Epoch(6) - Fold 3 - Validation Accuracy : 0.5068\n",
      "Epoch(6) - Fold 3 - Validation Utility score : -0.0000\n",
      "Epoch(6) - Fold 4 - Validation Loss : 0.6925\n",
      "Epoch(6) - Fold 4 - Validation Accuracy : 0.5104\n",
      "Epoch(6) - Fold 4 - Validation Utility score : 507.5307\n",
      "Epoch(6) - GLOBAL - Validation Loss: 0.6926\n",
      "Epoch(6) - GLOBAL - Validation Accuracy: 0.5120\n",
      "Epoch(6) - GLOBAL - Validation Utility score: 714.9107\n",
      "Saving model corresponding to last_utility_score == 714.9106866213456\n",
      "\n",
      "\n",
      "Epoch(7) - Training Loss: 0.6922\n",
      "Epoch(7) - Fold 0 - Validation Loss : 0.6922\n",
      "Epoch(7) - Fold 0 - Validation Accuracy : 0.5185\n",
      "Epoch(7) - Fold 0 - Validation Utility score : 78.4354\n",
      "Epoch(7) - Fold 1 - Validation Loss : 0.6921\n",
      "Epoch(7) - Fold 1 - Validation Accuracy : 0.5206\n",
      "Epoch(7) - Fold 1 - Validation Utility score : 198.7723\n",
      "Epoch(7) - Fold 2 - Validation Loss : 0.6929\n",
      "Epoch(7) - Fold 2 - Validation Accuracy : 0.5050\n",
      "Epoch(7) - Fold 2 - Validation Utility score : -0.0000\n",
      "Epoch(7) - Fold 3 - Validation Loss : 0.6929\n",
      "Epoch(7) - Fold 3 - Validation Accuracy : 0.5067\n",
      "Epoch(7) - Fold 3 - Validation Utility score : -0.0000\n",
      "Epoch(7) - Fold 4 - Validation Loss : 0.6923\n",
      "Epoch(7) - Fold 4 - Validation Accuracy : 0.5106\n",
      "Epoch(7) - Fold 4 - Validation Utility score : 497.5948\n",
      "Epoch(7) - GLOBAL - Validation Loss: 0.6925\n",
      "Epoch(7) - GLOBAL - Validation Accuracy: 0.5123\n",
      "Epoch(7) - GLOBAL - Validation Utility score: 774.8025\n",
      "Saving model corresponding to last_utility_score == 774.80252145749\n",
      "\n",
      "\n",
      "Epoch(8) - Training Loss: 0.6921\n",
      "Epoch(8) - Fold 0 - Validation Loss : 0.6921\n",
      "Epoch(8) - Fold 0 - Validation Accuracy : 0.5209\n",
      "Epoch(8) - Fold 0 - Validation Utility score : 128.1167\n",
      "Epoch(8) - Fold 1 - Validation Loss : 0.6920\n",
      "Epoch(8) - Fold 1 - Validation Accuracy : 0.5224\n",
      "Epoch(8) - Fold 1 - Validation Utility score : 256.8979\n",
      "Epoch(8) - Fold 2 - Validation Loss : 0.6928\n",
      "Epoch(8) - Fold 2 - Validation Accuracy : 0.5052\n",
      "Epoch(8) - Fold 2 - Validation Utility score : -0.0000\n",
      "Epoch(8) - Fold 3 - Validation Loss : 0.6929\n",
      "Epoch(8) - Fold 3 - Validation Accuracy : 0.5080\n",
      "Epoch(8) - Fold 3 - Validation Utility score : -0.0000\n",
      "Epoch(8) - Fold 4 - Validation Loss : 0.6922\n",
      "Epoch(8) - Fold 4 - Validation Accuracy : 0.5118\n",
      "Epoch(8) - Fold 4 - Validation Utility score : 697.1403\n",
      "Epoch(8) - GLOBAL - Validation Loss: 0.6924\n",
      "Epoch(8) - GLOBAL - Validation Accuracy: 0.5137\n",
      "Epoch(8) - GLOBAL - Validation Utility score: 1082.1549\n",
      "Saving model corresponding to last_utility_score == 1082.15490298208\n",
      "\n",
      "\n",
      "Epoch(9) - Training Loss: 0.6920\n",
      "Epoch(9) - Fold 0 - Validation Loss : 0.6920\n",
      "Epoch(9) - Fold 0 - Validation Accuracy : 0.5218\n",
      "Epoch(9) - Fold 0 - Validation Utility score : 151.3562\n",
      "Epoch(9) - Fold 1 - Validation Loss : 0.6919\n",
      "Epoch(9) - Fold 1 - Validation Accuracy : 0.5229\n",
      "Epoch(9) - Fold 1 - Validation Utility score : 294.7256\n",
      "Epoch(9) - Fold 2 - Validation Loss : 0.6928\n",
      "Epoch(9) - Fold 2 - Validation Accuracy : 0.5058\n",
      "Epoch(9) - Fold 2 - Validation Utility score : -0.0000\n",
      "Epoch(9) - Fold 3 - Validation Loss : 0.6928\n",
      "Epoch(9) - Fold 3 - Validation Accuracy : 0.5089\n",
      "Epoch(9) - Fold 3 - Validation Utility score : -0.0000\n",
      "Epoch(9) - Fold 4 - Validation Loss : 0.6920\n",
      "Epoch(9) - Fold 4 - Validation Accuracy : 0.5127\n",
      "Epoch(9) - Fold 4 - Validation Utility score : 871.2701\n",
      "Epoch(9) - GLOBAL - Validation Loss: 0.6923\n",
      "Epoch(9) - GLOBAL - Validation Accuracy: 0.5144\n",
      "Epoch(9) - GLOBAL - Validation Utility score: 1317.3519\n",
      "Saving model corresponding to last_utility_score == 1317.351869952159\n",
      "\n",
      "\n",
      "Epoch(10) - Training Loss: 0.6918\n",
      "Epoch(10) - Fold 0 - Validation Loss : 0.6918\n",
      "Epoch(10) - Fold 0 - Validation Accuracy : 0.5226\n",
      "Epoch(10) - Fold 0 - Validation Utility score : 174.7786\n",
      "Epoch(10) - Fold 1 - Validation Loss : 0.6917\n",
      "Epoch(10) - Fold 1 - Validation Accuracy : 0.5239\n",
      "Epoch(10) - Fold 1 - Validation Utility score : 354.7208\n",
      "Epoch(10) - Fold 2 - Validation Loss : 0.6928\n",
      "Epoch(10) - Fold 2 - Validation Accuracy : 0.5064\n",
      "Epoch(10) - Fold 2 - Validation Utility score : -0.0000\n",
      "Epoch(10) - Fold 3 - Validation Loss : 0.6928\n",
      "Epoch(10) - Fold 3 - Validation Accuracy : 0.5109\n",
      "Epoch(10) - Fold 3 - Validation Utility score : -0.0000\n",
      "Epoch(10) - Fold 4 - Validation Loss : 0.6919\n",
      "Epoch(10) - Fold 4 - Validation Accuracy : 0.5146\n",
      "Epoch(10) - Fold 4 - Validation Utility score : 1039.2233\n",
      "Epoch(10) - GLOBAL - Validation Loss: 0.6922\n",
      "Epoch(10) - GLOBAL - Validation Accuracy: 0.5157\n",
      "Epoch(10) - GLOBAL - Validation Utility score: 1568.7227\n",
      "Saving model corresponding to last_utility_score == 1568.722685796039\n",
      "\n",
      "\n",
      "Epoch(11) - Training Loss: 0.6917\n",
      "Epoch(11) - Fold 0 - Validation Loss : 0.6918\n",
      "Epoch(11) - Fold 0 - Validation Accuracy : 0.5238\n",
      "Epoch(11) - Fold 0 - Validation Utility score : 263.4232\n",
      "Epoch(11) - Fold 1 - Validation Loss : 0.6916\n",
      "Epoch(11) - Fold 1 - Validation Accuracy : 0.5248\n",
      "Epoch(11) - Fold 1 - Validation Utility score : 432.4412\n",
      "Epoch(11) - Fold 2 - Validation Loss : 0.6928\n",
      "Epoch(11) - Fold 2 - Validation Accuracy : 0.5077\n",
      "Epoch(11) - Fold 2 - Validation Utility score : -0.0000\n",
      "Epoch(11) - Fold 3 - Validation Loss : 0.6928\n",
      "Epoch(11) - Fold 3 - Validation Accuracy : 0.5122\n",
      "Epoch(11) - Fold 3 - Validation Utility score : -0.0000\n",
      "Epoch(11) - Fold 4 - Validation Loss : 0.6918\n",
      "Epoch(11) - Fold 4 - Validation Accuracy : 0.5151\n",
      "Epoch(11) - Fold 4 - Validation Utility score : 994.2829\n",
      "Epoch(11) - GLOBAL - Validation Loss: 0.6921\n",
      "Epoch(11) - GLOBAL - Validation Accuracy: 0.5167\n",
      "Epoch(11) - GLOBAL - Validation Utility score: 1690.1473\n",
      "Saving model corresponding to last_utility_score == 1690.1472733041533\n",
      "\n",
      "\n",
      "Epoch(12) - Training Loss: 0.6916\n",
      "Epoch(12) - Fold 0 - Validation Loss : 0.6917\n",
      "Epoch(12) - Fold 0 - Validation Accuracy : 0.5245\n",
      "Epoch(12) - Fold 0 - Validation Utility score : 301.0128\n",
      "Epoch(12) - Fold 1 - Validation Loss : 0.6916\n",
      "Epoch(12) - Fold 1 - Validation Accuracy : 0.5256\n",
      "Epoch(12) - Fold 1 - Validation Utility score : 527.4637\n",
      "Epoch(12) - Fold 2 - Validation Loss : 0.6928\n",
      "Epoch(12) - Fold 2 - Validation Accuracy : 0.5086\n",
      "Epoch(12) - Fold 2 - Validation Utility score : -0.0000\n",
      "Epoch(12) - Fold 3 - Validation Loss : 0.6928\n",
      "Epoch(12) - Fold 3 - Validation Accuracy : 0.5127\n",
      "Epoch(12) - Fold 3 - Validation Utility score : -0.0000\n",
      "Epoch(12) - Fold 4 - Validation Loss : 0.6917\n",
      "Epoch(12) - Fold 4 - Validation Accuracy : 0.5160\n",
      "Epoch(12) - Fold 4 - Validation Utility score : 1097.9234\n",
      "Epoch(12) - GLOBAL - Validation Loss: 0.6921\n",
      "Epoch(12) - GLOBAL - Validation Accuracy: 0.5175\n",
      "Epoch(12) - GLOBAL - Validation Utility score: 1926.3999\n",
      "Saving model corresponding to last_utility_score == 1926.3999142977468\n",
      "\n",
      "\n",
      "Epoch(13) - Training Loss: 0.6915\n",
      "Epoch(13) - Fold 0 - Validation Loss : 0.6916\n",
      "Epoch(13) - Fold 0 - Validation Accuracy : 0.5249\n",
      "Epoch(13) - Fold 0 - Validation Utility score : 323.8120\n",
      "Epoch(13) - Fold 1 - Validation Loss : 0.6915\n",
      "Epoch(13) - Fold 1 - Validation Accuracy : 0.5258\n",
      "Epoch(13) - Fold 1 - Validation Utility score : 582.7845\n",
      "Epoch(13) - Fold 2 - Validation Loss : 0.6928\n",
      "Epoch(13) - Fold 2 - Validation Accuracy : 0.5090\n",
      "Epoch(13) - Fold 2 - Validation Utility score : -0.0000\n",
      "Epoch(13) - Fold 3 - Validation Loss : 0.6928\n",
      "Epoch(13) - Fold 3 - Validation Accuracy : 0.5127\n",
      "Epoch(13) - Fold 3 - Validation Utility score : -0.0000\n",
      "Epoch(13) - Fold 4 - Validation Loss : 0.6916\n",
      "Epoch(13) - Fold 4 - Validation Accuracy : 0.5172\n",
      "Epoch(13) - Fold 4 - Validation Utility score : 1185.6817\n",
      "Epoch(13) - GLOBAL - Validation Loss: 0.6920\n",
      "Epoch(13) - GLOBAL - Validation Accuracy: 0.5179\n",
      "Epoch(13) - GLOBAL - Validation Utility score: 2092.2782\n",
      "Saving model corresponding to last_utility_score == 2092.278195329429\n",
      "\n",
      "\n",
      "Epoch(14) - Training Loss: 0.6914\n",
      "Epoch(14) - Fold 0 - Validation Loss : 0.6916\n",
      "Epoch(14) - Fold 0 - Validation Accuracy : 0.5242\n",
      "Epoch(14) - Fold 0 - Validation Utility score : 286.1008\n",
      "Epoch(14) - Fold 1 - Validation Loss : 0.6915\n",
      "Epoch(14) - Fold 1 - Validation Accuracy : 0.5262\n",
      "Epoch(14) - Fold 1 - Validation Utility score : 722.5558\n",
      "Epoch(14) - Fold 2 - Validation Loss : 0.6928\n",
      "Epoch(14) - Fold 2 - Validation Accuracy : 0.5092\n",
      "Epoch(14) - Fold 2 - Validation Utility score : -0.0000\n",
      "Epoch(14) - Fold 3 - Validation Loss : 0.6927\n",
      "Epoch(14) - Fold 3 - Validation Accuracy : 0.5137\n",
      "Epoch(14) - Fold 3 - Validation Utility score : -0.0000\n",
      "Epoch(14) - Fold 4 - Validation Loss : 0.6915\n",
      "Epoch(14) - Fold 4 - Validation Accuracy : 0.5197\n",
      "Epoch(14) - Fold 4 - Validation Utility score : 1273.6093\n",
      "Epoch(14) - GLOBAL - Validation Loss: 0.6920\n",
      "Epoch(14) - GLOBAL - Validation Accuracy: 0.5186\n",
      "Epoch(14) - GLOBAL - Validation Utility score: 2282.2658\n",
      "Saving model corresponding to last_utility_score == 2282.26583174415\n",
      "\n",
      "\n",
      "Epoch(15) - Training Loss: 0.6913\n",
      "Epoch(15) - Fold 0 - Validation Loss : 0.6916\n",
      "Epoch(15) - Fold 0 - Validation Accuracy : 0.5244\n",
      "Epoch(15) - Fold 0 - Validation Utility score : 240.5740\n",
      "Epoch(15) - Fold 1 - Validation Loss : 0.6914\n",
      "Epoch(15) - Fold 1 - Validation Accuracy : 0.5260\n",
      "Epoch(15) - Fold 1 - Validation Utility score : 769.7918\n",
      "Epoch(15) - Fold 2 - Validation Loss : 0.6927\n",
      "Epoch(15) - Fold 2 - Validation Accuracy : 0.5101\n",
      "Epoch(15) - Fold 2 - Validation Utility score : -0.0000\n",
      "Epoch(15) - Fold 3 - Validation Loss : 0.6927\n",
      "Epoch(15) - Fold 3 - Validation Accuracy : 0.5137\n",
      "Epoch(15) - Fold 3 - Validation Utility score : -0.0000\n",
      "Epoch(15) - Fold 4 - Validation Loss : 0.6914\n",
      "Epoch(15) - Fold 4 - Validation Accuracy : 0.5202\n",
      "Epoch(15) - Fold 4 - Validation Utility score : 1267.9724\n",
      "Epoch(15) - GLOBAL - Validation Loss: 0.6920\n",
      "Epoch(15) - GLOBAL - Validation Accuracy: 0.5189\n",
      "Epoch(15) - GLOBAL - Validation Utility score: 2278.3381\n",
      "Saving model corresponding to last_utility_score == 2278.338120119264\n",
      "\n",
      "\n",
      "Epoch(16) - Training Loss: 0.6913\n",
      "Epoch(16) - Fold 0 - Validation Loss : 0.6914\n",
      "Epoch(16) - Fold 0 - Validation Accuracy : 0.5249\n",
      "Epoch(16) - Fold 0 - Validation Utility score : 248.6505\n",
      "Epoch(16) - Fold 1 - Validation Loss : 0.6913\n",
      "Epoch(16) - Fold 1 - Validation Accuracy : 0.5252\n",
      "Epoch(16) - Fold 1 - Validation Utility score : 702.3265\n",
      "Epoch(16) - Fold 2 - Validation Loss : 0.6928\n",
      "Epoch(16) - Fold 2 - Validation Accuracy : 0.5096\n",
      "Epoch(16) - Fold 2 - Validation Utility score : -0.0000\n",
      "Epoch(16) - Fold 3 - Validation Loss : 0.6927\n",
      "Epoch(16) - Fold 3 - Validation Accuracy : 0.5142\n",
      "Epoch(16) - Fold 3 - Validation Utility score : -0.0000\n",
      "Epoch(16) - Fold 4 - Validation Loss : 0.6913\n",
      "Epoch(16) - Fold 4 - Validation Accuracy : 0.5204\n",
      "Epoch(16) - Fold 4 - Validation Utility score : 1180.3433\n",
      "Epoch(16) - GLOBAL - Validation Loss: 0.6919\n",
      "Epoch(16) - GLOBAL - Validation Accuracy: 0.5189\n",
      "Epoch(16) - GLOBAL - Validation Utility score: 2131.3203\n",
      "Saving model corresponding to last_utility_score == 2131.320324411203\n",
      "\n",
      "\n",
      "Epoch(17) - Training Loss: 0.6912\n",
      "Epoch(17) - Fold 0 - Validation Loss : 0.6915\n",
      "Epoch(17) - Fold 0 - Validation Accuracy : 0.5245\n",
      "Epoch(17) - Fold 0 - Validation Utility score : 246.9276\n",
      "Epoch(17) - Fold 1 - Validation Loss : 0.6913\n",
      "Epoch(17) - Fold 1 - Validation Accuracy : 0.5259\n",
      "Epoch(17) - Fold 1 - Validation Utility score : 711.7956\n",
      "Epoch(17) - Fold 2 - Validation Loss : 0.6928\n",
      "Epoch(17) - Fold 2 - Validation Accuracy : 0.5104\n",
      "Epoch(17) - Fold 2 - Validation Utility score : -0.0000\n",
      "Epoch(17) - Fold 3 - Validation Loss : 0.6927\n",
      "Epoch(17) - Fold 3 - Validation Accuracy : 0.5146\n",
      "Epoch(17) - Fold 3 - Validation Utility score : -0.0000\n",
      "Epoch(17) - Fold 4 - Validation Loss : 0.6913\n",
      "Epoch(17) - Fold 4 - Validation Accuracy : 0.5215\n",
      "Epoch(17) - Fold 4 - Validation Utility score : 1297.9072\n",
      "Epoch(17) - GLOBAL - Validation Loss: 0.6919\n",
      "Epoch(17) - GLOBAL - Validation Accuracy: 0.5194\n",
      "Epoch(17) - GLOBAL - Validation Utility score: 2256.6304\n",
      "Intermediate early stopping : vepoch_loss = 0.6919, the_last_loss=0.6919\n",
      "\n",
      "\n",
      "Epoch(18) - Training Loss: 0.6911\n",
      "Epoch(18) - Fold 0 - Validation Loss : 0.6915\n",
      "Epoch(18) - Fold 0 - Validation Accuracy : 0.5241\n",
      "Epoch(18) - Fold 0 - Validation Utility score : 282.4388\n",
      "Epoch(18) - Fold 1 - Validation Loss : 0.6912\n",
      "Epoch(18) - Fold 1 - Validation Accuracy : 0.5254\n",
      "Epoch(18) - Fold 1 - Validation Utility score : 751.5357\n",
      "Epoch(18) - Fold 2 - Validation Loss : 0.6928\n",
      "Epoch(18) - Fold 2 - Validation Accuracy : 0.5108\n",
      "Epoch(18) - Fold 2 - Validation Utility score : -0.0000\n",
      "Epoch(18) - Fold 3 - Validation Loss : 0.6927\n",
      "Epoch(18) - Fold 3 - Validation Accuracy : 0.5145\n",
      "Epoch(18) - Fold 3 - Validation Utility score : -0.0000\n",
      "Epoch(18) - Fold 4 - Validation Loss : 0.6912\n",
      "Epoch(18) - Fold 4 - Validation Accuracy : 0.5223\n",
      "Epoch(18) - Fold 4 - Validation Utility score : 1388.0275\n",
      "Epoch(18) - GLOBAL - Validation Loss: 0.6919\n",
      "Epoch(18) - GLOBAL - Validation Accuracy: 0.5194\n",
      "Epoch(18) - GLOBAL - Validation Utility score: 2422.0020\n",
      "Intermediate early stopping : vepoch_loss = 0.6919, the_last_loss=0.6919\n",
      "\n",
      "\n",
      "Epoch(19) - Training Loss: 0.6911\n",
      "Epoch(19) - Fold 0 - Validation Loss : 0.6914\n",
      "Epoch(19) - Fold 0 - Validation Accuracy : 0.5245\n",
      "Epoch(19) - Fold 0 - Validation Utility score : 264.8857\n",
      "Epoch(19) - Fold 1 - Validation Loss : 0.6912\n",
      "Epoch(19) - Fold 1 - Validation Accuracy : 0.5262\n",
      "Epoch(19) - Fold 1 - Validation Utility score : 767.3891\n",
      "Epoch(19) - Fold 2 - Validation Loss : 0.6928\n",
      "Epoch(19) - Fold 2 - Validation Accuracy : 0.5110\n",
      "Epoch(19) - Fold 2 - Validation Utility score : -0.0000\n",
      "Epoch(19) - Fold 3 - Validation Loss : 0.6927\n",
      "Epoch(19) - Fold 3 - Validation Accuracy : 0.5144\n",
      "Epoch(19) - Fold 3 - Validation Utility score : -0.0000\n",
      "Epoch(19) - Fold 4 - Validation Loss : 0.6911\n",
      "Epoch(19) - Fold 4 - Validation Accuracy : 0.5221\n",
      "Epoch(19) - Fold 4 - Validation Utility score : 1397.2909\n",
      "Epoch(19) - GLOBAL - Validation Loss: 0.6918\n",
      "Epoch(19) - GLOBAL - Validation Accuracy: 0.5196\n",
      "Epoch(19) - GLOBAL - Validation Utility score: 2429.5657\n",
      "Saving model corresponding to last_utility_score == 2429.565660773485\n",
      "\n",
      "\n",
      "Epoch(20) - Training Loss: 0.6910\n",
      "Epoch(20) - Fold 0 - Validation Loss : 0.6914\n",
      "Epoch(20) - Fold 0 - Validation Accuracy : 0.5242\n",
      "Epoch(20) - Fold 0 - Validation Utility score : 233.6997\n",
      "Epoch(20) - Fold 1 - Validation Loss : 0.6911\n",
      "Epoch(20) - Fold 1 - Validation Accuracy : 0.5258\n",
      "Epoch(20) - Fold 1 - Validation Utility score : 726.8190\n",
      "Epoch(20) - Fold 2 - Validation Loss : 0.6928\n",
      "Epoch(20) - Fold 2 - Validation Accuracy : 0.5109\n",
      "Epoch(20) - Fold 2 - Validation Utility score : -0.0000\n",
      "Epoch(20) - Fold 3 - Validation Loss : 0.6927\n",
      "Epoch(20) - Fold 3 - Validation Accuracy : 0.5141\n",
      "Epoch(20) - Fold 3 - Validation Utility score : -0.0000\n",
      "Epoch(20) - Fold 4 - Validation Loss : 0.6911\n",
      "Epoch(20) - Fold 4 - Validation Accuracy : 0.5218\n",
      "Epoch(20) - Fold 4 - Validation Utility score : 1385.5779\n",
      "Epoch(20) - GLOBAL - Validation Loss: 0.6918\n",
      "Epoch(20) - GLOBAL - Validation Accuracy: 0.5194\n",
      "Epoch(20) - GLOBAL - Validation Utility score: 2346.0966\n",
      "Saving model corresponding to last_utility_score == 2346.096606135638\n",
      "\n",
      "\n",
      "Epoch(21) - Training Loss: 0.6909\n",
      "Epoch(21) - Fold 0 - Validation Loss : 0.6914\n",
      "Epoch(21) - Fold 0 - Validation Accuracy : 0.5235\n",
      "Epoch(21) - Fold 0 - Validation Utility score : 289.5826\n",
      "Epoch(21) - Fold 1 - Validation Loss : 0.6911\n",
      "Epoch(21) - Fold 1 - Validation Accuracy : 0.5259\n",
      "Epoch(21) - Fold 1 - Validation Utility score : 825.0587\n",
      "Epoch(21) - Fold 2 - Validation Loss : 0.6929\n",
      "Epoch(21) - Fold 2 - Validation Accuracy : 0.5110\n",
      "Epoch(21) - Fold 2 - Validation Utility score : -0.0000\n",
      "Epoch(21) - Fold 3 - Validation Loss : 0.6927\n",
      "Epoch(21) - Fold 3 - Validation Accuracy : 0.5146\n",
      "Epoch(21) - Fold 3 - Validation Utility score : -0.0000\n",
      "Epoch(21) - Fold 4 - Validation Loss : 0.6910\n",
      "Epoch(21) - Fold 4 - Validation Accuracy : 0.5230\n",
      "Epoch(21) - Fold 4 - Validation Utility score : 1433.9558\n",
      "Epoch(21) - GLOBAL - Validation Loss: 0.6918\n",
      "Epoch(21) - GLOBAL - Validation Accuracy: 0.5196\n",
      "Epoch(21) - GLOBAL - Validation Utility score: 2548.5971\n",
      "Saving model corresponding to last_utility_score == 2548.597145851977\n",
      "\n",
      "\n",
      "Epoch(22) - Training Loss: 0.6908\n",
      "Epoch(22) - Fold 0 - Validation Loss : 0.6914\n",
      "Epoch(22) - Fold 0 - Validation Accuracy : 0.5231\n",
      "Epoch(22) - Fold 0 - Validation Utility score : 323.7125\n",
      "Epoch(22) - Fold 1 - Validation Loss : 0.6911\n",
      "Epoch(22) - Fold 1 - Validation Accuracy : 0.5253\n",
      "Epoch(22) - Fold 1 - Validation Utility score : 850.7017\n",
      "Epoch(22) - Fold 2 - Validation Loss : 0.6928\n",
      "Epoch(22) - Fold 2 - Validation Accuracy : 0.5108\n",
      "Epoch(22) - Fold 2 - Validation Utility score : -0.0000\n",
      "Epoch(22) - Fold 3 - Validation Loss : 0.6927\n",
      "Epoch(22) - Fold 3 - Validation Accuracy : 0.5146\n",
      "Epoch(22) - Fold 3 - Validation Utility score : -0.0000\n",
      "Epoch(22) - Fold 4 - Validation Loss : 0.6910\n",
      "Epoch(22) - Fold 4 - Validation Accuracy : 0.5227\n",
      "Epoch(22) - Fold 4 - Validation Utility score : 1458.0959\n",
      "Epoch(22) - GLOBAL - Validation Loss: 0.6918\n",
      "Epoch(22) - GLOBAL - Validation Accuracy: 0.5193\n",
      "Epoch(22) - GLOBAL - Validation Utility score: 2632.5101\n",
      "Saving model corresponding to last_utility_score == 2632.510119916119\n",
      "\n",
      "\n",
      "Epoch(23) - Training Loss: 0.6907\n",
      "Epoch(23) - Fold 0 - Validation Loss : 0.6913\n",
      "Epoch(23) - Fold 0 - Validation Accuracy : 0.5235\n",
      "Epoch(23) - Fold 0 - Validation Utility score : 344.6651\n",
      "Epoch(23) - Fold 1 - Validation Loss : 0.6910\n",
      "Epoch(23) - Fold 1 - Validation Accuracy : 0.5263\n",
      "Epoch(23) - Fold 1 - Validation Utility score : 857.0687\n",
      "Epoch(23) - Fold 2 - Validation Loss : 0.6929\n",
      "Epoch(23) - Fold 2 - Validation Accuracy : 0.5115\n",
      "Epoch(23) - Fold 2 - Validation Utility score : -0.0000\n",
      "Epoch(23) - Fold 3 - Validation Loss : 0.6927\n",
      "Epoch(23) - Fold 3 - Validation Accuracy : 0.5145\n",
      "Epoch(23) - Fold 3 - Validation Utility score : -0.0000\n",
      "Epoch(23) - Fold 4 - Validation Loss : 0.6909\n",
      "Epoch(23) - Fold 4 - Validation Accuracy : 0.5225\n",
      "Epoch(23) - Fold 4 - Validation Utility score : 1449.3339\n",
      "Epoch(23) - GLOBAL - Validation Loss: 0.6918\n",
      "Epoch(23) - GLOBAL - Validation Accuracy: 0.5196\n",
      "Epoch(23) - GLOBAL - Validation Utility score: 2651.0676\n",
      "Saving model corresponding to last_utility_score == 2651.0676328153877\n",
      "\n",
      "\n",
      "Epoch(24) - Training Loss: 0.6907\n",
      "Epoch(24) - Fold 0 - Validation Loss : 0.6914\n",
      "Epoch(24) - Fold 0 - Validation Accuracy : 0.5228\n",
      "Epoch(24) - Fold 0 - Validation Utility score : 257.8590\n",
      "Epoch(24) - Fold 1 - Validation Loss : 0.6910\n",
      "Epoch(24) - Fold 1 - Validation Accuracy : 0.5258\n",
      "Epoch(24) - Fold 1 - Validation Utility score : 887.0407\n",
      "Epoch(24) - Fold 2 - Validation Loss : 0.6929\n",
      "Epoch(24) - Fold 2 - Validation Accuracy : 0.5117\n",
      "Epoch(24) - Fold 2 - Validation Utility score : -0.0000\n",
      "Epoch(24) - Fold 3 - Validation Loss : 0.6927\n",
      "Epoch(24) - Fold 3 - Validation Accuracy : 0.5140\n",
      "Epoch(24) - Fold 3 - Validation Utility score : -0.0000\n",
      "Epoch(24) - Fold 4 - Validation Loss : 0.6909\n",
      "Epoch(24) - Fold 4 - Validation Accuracy : 0.5228\n",
      "Epoch(24) - Fold 4 - Validation Utility score : 1375.0059\n",
      "Epoch(24) - GLOBAL - Validation Loss: 0.6918\n",
      "Epoch(24) - GLOBAL - Validation Accuracy: 0.5194\n",
      "Epoch(24) - GLOBAL - Validation Utility score: 2519.9056\n",
      "Intermediate early stopping : vepoch_loss = 0.6918, the_last_loss=0.6918\n",
      "\n",
      "\n",
      "Epoch(25) - Training Loss: 0.6907\n",
      "Epoch(25) - Fold 0 - Validation Loss : 0.6914\n",
      "Epoch(25) - Fold 0 - Validation Accuracy : 0.5228\n",
      "Epoch(25) - Fold 0 - Validation Utility score : 253.5438\n",
      "Epoch(25) - Fold 1 - Validation Loss : 0.6910\n",
      "Epoch(25) - Fold 1 - Validation Accuracy : 0.5252\n",
      "Epoch(25) - Fold 1 - Validation Utility score : 854.3859\n",
      "Epoch(25) - Fold 2 - Validation Loss : 0.6929\n",
      "Epoch(25) - Fold 2 - Validation Accuracy : 0.5127\n",
      "Epoch(25) - Fold 2 - Validation Utility score : -0.0000\n",
      "Epoch(25) - Fold 3 - Validation Loss : 0.6927\n",
      "Epoch(25) - Fold 3 - Validation Accuracy : 0.5140\n",
      "Epoch(25) - Fold 3 - Validation Utility score : -0.0000\n",
      "Epoch(25) - Fold 4 - Validation Loss : 0.6908\n",
      "Epoch(25) - Fold 4 - Validation Accuracy : 0.5233\n",
      "Epoch(25) - Fold 4 - Validation Utility score : 1427.1043\n",
      "Epoch(25) - GLOBAL - Validation Loss: 0.6918\n",
      "Epoch(25) - GLOBAL - Validation Accuracy: 0.5196\n",
      "Epoch(25) - GLOBAL - Validation Utility score: 2535.0340\n",
      "Saving model corresponding to last_utility_score == 2535.0339979157907\n",
      "\n",
      "\n",
      "Epoch(26) - Training Loss: 0.6906\n",
      "Epoch(26) - Fold 0 - Validation Loss : 0.6913\n",
      "Epoch(26) - Fold 0 - Validation Accuracy : 0.5236\n",
      "Epoch(26) - Fold 0 - Validation Utility score : 339.0855\n",
      "Epoch(26) - Fold 1 - Validation Loss : 0.6910\n",
      "Epoch(26) - Fold 1 - Validation Accuracy : 0.5258\n",
      "Epoch(26) - Fold 1 - Validation Utility score : 911.0279\n",
      "Epoch(26) - Fold 2 - Validation Loss : 0.6929\n",
      "Epoch(26) - Fold 2 - Validation Accuracy : 0.5123\n",
      "Epoch(26) - Fold 2 - Validation Utility score : -0.0000\n",
      "Epoch(26) - Fold 3 - Validation Loss : 0.6927\n",
      "Epoch(26) - Fold 3 - Validation Accuracy : 0.5133\n",
      "Epoch(26) - Fold 3 - Validation Utility score : -0.0000\n",
      "Epoch(26) - Fold 4 - Validation Loss : 0.6908\n",
      "Epoch(26) - Fold 4 - Validation Accuracy : 0.5231\n",
      "Epoch(26) - Fold 4 - Validation Utility score : 1431.5734\n",
      "Epoch(26) - GLOBAL - Validation Loss: 0.6918\n",
      "Epoch(26) - GLOBAL - Validation Accuracy: 0.5196\n",
      "Epoch(26) - GLOBAL - Validation Utility score: 2681.6868\n",
      "Saving model corresponding to last_utility_score == 2681.6868020617794\n",
      "\n",
      "\n",
      "Epoch(27) - Training Loss: 0.6905\n",
      "Epoch(27) - Fold 0 - Validation Loss : 0.6914\n",
      "Epoch(27) - Fold 0 - Validation Accuracy : 0.5233\n",
      "Epoch(27) - Fold 0 - Validation Utility score : 271.3753\n",
      "Epoch(27) - Fold 1 - Validation Loss : 0.6910\n",
      "Epoch(27) - Fold 1 - Validation Accuracy : 0.5255\n",
      "Epoch(27) - Fold 1 - Validation Utility score : 857.5786\n",
      "Epoch(27) - Fold 2 - Validation Loss : 0.6929\n",
      "Epoch(27) - Fold 2 - Validation Accuracy : 0.5138\n",
      "Epoch(27) - Fold 2 - Validation Utility score : -0.0000\n",
      "Epoch(27) - Fold 3 - Validation Loss : 0.6927\n",
      "Epoch(27) - Fold 3 - Validation Accuracy : 0.5134\n",
      "Epoch(27) - Fold 3 - Validation Utility score : -0.0000\n",
      "Epoch(27) - Fold 4 - Validation Loss : 0.6908\n",
      "Epoch(27) - Fold 4 - Validation Accuracy : 0.5238\n",
      "Epoch(27) - Fold 4 - Validation Utility score : 1451.8478\n",
      "Epoch(27) - GLOBAL - Validation Loss: 0.6917\n",
      "Epoch(27) - GLOBAL - Validation Accuracy: 0.5199\n",
      "Epoch(27) - GLOBAL - Validation Utility score: 2580.8017\n",
      "Saving model corresponding to last_utility_score == 2580.8016927397625\n",
      "\n",
      "\n",
      "Epoch(28) - Training Loss: 0.6905\n",
      "Epoch(28) - Fold 0 - Validation Loss : 0.6914\n",
      "Epoch(28) - Fold 0 - Validation Accuracy : 0.5235\n",
      "Epoch(28) - Fold 0 - Validation Utility score : 288.3267\n",
      "Epoch(28) - Fold 1 - Validation Loss : 0.6910\n",
      "Epoch(28) - Fold 1 - Validation Accuracy : 0.5259\n",
      "Epoch(28) - Fold 1 - Validation Utility score : 900.9359\n",
      "Epoch(28) - Fold 2 - Validation Loss : 0.6929\n",
      "Epoch(28) - Fold 2 - Validation Accuracy : 0.5134\n",
      "Epoch(28) - Fold 2 - Validation Utility score : -0.0000\n",
      "Epoch(28) - Fold 3 - Validation Loss : 0.6927\n",
      "Epoch(28) - Fold 3 - Validation Accuracy : 0.5135\n",
      "Epoch(28) - Fold 3 - Validation Utility score : -0.0000\n",
      "Epoch(28) - Fold 4 - Validation Loss : 0.6907\n",
      "Epoch(28) - Fold 4 - Validation Accuracy : 0.5233\n",
      "Epoch(28) - Fold 4 - Validation Utility score : 1489.6571\n",
      "Epoch(28) - GLOBAL - Validation Loss: 0.6917\n",
      "Epoch(28) - GLOBAL - Validation Accuracy: 0.5199\n",
      "Epoch(28) - GLOBAL - Validation Utility score: 2678.9197\n",
      "Saving model corresponding to last_utility_score == 2678.9197388755874\n",
      "\n",
      "\n",
      "Epoch(29) - Training Loss: 0.6904\n",
      "Epoch(29) - Fold 0 - Validation Loss : 0.6913\n",
      "Epoch(29) - Fold 0 - Validation Accuracy : 0.5236\n",
      "Epoch(29) - Fold 0 - Validation Utility score : 328.4571\n",
      "Epoch(29) - Fold 1 - Validation Loss : 0.6909\n",
      "Epoch(29) - Fold 1 - Validation Accuracy : 0.5256\n",
      "Epoch(29) - Fold 1 - Validation Utility score : 874.2911\n",
      "Epoch(29) - Fold 2 - Validation Loss : 0.6929\n",
      "Epoch(29) - Fold 2 - Validation Accuracy : 0.5125\n",
      "Epoch(29) - Fold 2 - Validation Utility score : -0.0000\n",
      "Epoch(29) - Fold 3 - Validation Loss : 0.6927\n",
      "Epoch(29) - Fold 3 - Validation Accuracy : 0.5128\n",
      "Epoch(29) - Fold 3 - Validation Utility score : -0.0000\n",
      "Epoch(29) - Fold 4 - Validation Loss : 0.6907\n",
      "Epoch(29) - Fold 4 - Validation Accuracy : 0.5240\n",
      "Epoch(29) - Fold 4 - Validation Utility score : 1424.0635\n",
      "Epoch(29) - GLOBAL - Validation Loss: 0.6917\n",
      "Epoch(29) - GLOBAL - Validation Accuracy: 0.5197\n",
      "Epoch(29) - GLOBAL - Validation Utility score: 2626.8116\n",
      "Saving model corresponding to last_utility_score == 2626.811621885565\n",
      "\n",
      "\n",
      "Epoch(30) - Training Loss: 0.6903\n",
      "Epoch(30) - Fold 0 - Validation Loss : 0.6914\n",
      "Epoch(30) - Fold 0 - Validation Accuracy : 0.5236\n",
      "Epoch(30) - Fold 0 - Validation Utility score : 282.3908\n",
      "Epoch(30) - Fold 1 - Validation Loss : 0.6910\n",
      "Epoch(30) - Fold 1 - Validation Accuracy : 0.5255\n",
      "Epoch(30) - Fold 1 - Validation Utility score : 877.3163\n",
      "Epoch(30) - Fold 2 - Validation Loss : 0.6928\n",
      "Epoch(30) - Fold 2 - Validation Accuracy : 0.5137\n",
      "Epoch(30) - Fold 2 - Validation Utility score : -0.0000\n",
      "Epoch(30) - Fold 3 - Validation Loss : 0.6928\n",
      "Epoch(30) - Fold 3 - Validation Accuracy : 0.5128\n",
      "Epoch(30) - Fold 3 - Validation Utility score : -0.0000\n",
      "Epoch(30) - Fold 4 - Validation Loss : 0.6907\n",
      "Epoch(30) - Fold 4 - Validation Accuracy : 0.5234\n",
      "Epoch(30) - Fold 4 - Validation Utility score : 1471.0289\n",
      "Epoch(30) - GLOBAL - Validation Loss: 0.6917\n",
      "Epoch(30) - GLOBAL - Validation Accuracy: 0.5198\n",
      "Epoch(30) - GLOBAL - Validation Utility score: 2630.7361\n",
      "Intermediate early stopping : vepoch_loss = 0.6917, the_last_loss=0.6917\n",
      "\n",
      "\n",
      "Epoch(31) - Training Loss: 0.6904\n",
      "Epoch(31) - Fold 0 - Validation Loss : 0.6914\n",
      "Epoch(31) - Fold 0 - Validation Accuracy : 0.5237\n",
      "Epoch(31) - Fold 0 - Validation Utility score : 350.0993\n",
      "Epoch(31) - Fold 1 - Validation Loss : 0.6909\n",
      "Epoch(31) - Fold 1 - Validation Accuracy : 0.5262\n",
      "Epoch(31) - Fold 1 - Validation Utility score : 908.6007\n",
      "Epoch(31) - Fold 2 - Validation Loss : 0.6928\n",
      "Epoch(31) - Fold 2 - Validation Accuracy : 0.5134\n",
      "Epoch(31) - Fold 2 - Validation Utility score : -0.0000\n",
      "Epoch(31) - Fold 3 - Validation Loss : 0.6928\n",
      "Epoch(31) - Fold 3 - Validation Accuracy : 0.5122\n",
      "Epoch(31) - Fold 3 - Validation Utility score : -0.0000\n",
      "Epoch(31) - Fold 4 - Validation Loss : 0.6906\n",
      "Epoch(31) - Fold 4 - Validation Accuracy : 0.5234\n",
      "Epoch(31) - Fold 4 - Validation Utility score : 1455.6286\n",
      "Epoch(31) - GLOBAL - Validation Loss: 0.6917\n",
      "Epoch(31) - GLOBAL - Validation Accuracy: 0.5198\n",
      "Epoch(31) - GLOBAL - Validation Utility score: 2714.3286\n",
      "Saving model corresponding to last_utility_score == 2714.328590095212\n",
      "\n",
      "\n",
      "Epoch(32) - Training Loss: 0.6903\n",
      "Epoch(32) - Fold 0 - Validation Loss : 0.6914\n",
      "Epoch(32) - Fold 0 - Validation Accuracy : 0.5236\n",
      "Epoch(32) - Fold 0 - Validation Utility score : 322.9234\n",
      "Epoch(32) - Fold 1 - Validation Loss : 0.6910\n",
      "Epoch(32) - Fold 1 - Validation Accuracy : 0.5257\n",
      "Epoch(32) - Fold 1 - Validation Utility score : 872.7885\n",
      "Epoch(32) - Fold 2 - Validation Loss : 0.6928\n",
      "Epoch(32) - Fold 2 - Validation Accuracy : 0.5133\n",
      "Epoch(32) - Fold 2 - Validation Utility score : -0.0000\n",
      "Epoch(32) - Fold 3 - Validation Loss : 0.6928\n",
      "Epoch(32) - Fold 3 - Validation Accuracy : 0.5125\n",
      "Epoch(32) - Fold 3 - Validation Utility score : -0.0000\n",
      "Epoch(32) - Fold 4 - Validation Loss : 0.6907\n",
      "Epoch(32) - Fold 4 - Validation Accuracy : 0.5248\n",
      "Epoch(32) - Fold 4 - Validation Utility score : 1447.2148\n",
      "Epoch(32) - GLOBAL - Validation Loss: 0.6917\n",
      "Epoch(32) - GLOBAL - Validation Accuracy: 0.5200\n",
      "Epoch(32) - GLOBAL - Validation Utility score: 2642.9268\n",
      "Intermediate early stopping : vepoch_loss = 0.6917, the_last_loss=0.6917\n",
      "\n",
      "\n",
      "Epoch(33) - Training Loss: 0.6902\n",
      "Epoch(33) - Fold 0 - Validation Loss : 0.6914\n",
      "Epoch(33) - Fold 0 - Validation Accuracy : 0.5234\n",
      "Epoch(33) - Fold 0 - Validation Utility score : 317.1248\n",
      "Epoch(33) - Fold 1 - Validation Loss : 0.6909\n",
      "Epoch(33) - Fold 1 - Validation Accuracy : 0.5252\n",
      "Epoch(33) - Fold 1 - Validation Utility score : 808.6096\n",
      "Epoch(33) - Fold 2 - Validation Loss : 0.6928\n",
      "Epoch(33) - Fold 2 - Validation Accuracy : 0.5137\n",
      "Epoch(33) - Fold 2 - Validation Utility score : -0.0000\n",
      "Epoch(33) - Fold 3 - Validation Loss : 0.6928\n",
      "Epoch(33) - Fold 3 - Validation Accuracy : 0.5113\n",
      "Epoch(33) - Fold 3 - Validation Utility score : -0.0000\n",
      "Epoch(33) - Fold 4 - Validation Loss : 0.6906\n",
      "Epoch(33) - Fold 4 - Validation Accuracy : 0.5253\n",
      "Epoch(33) - Fold 4 - Validation Utility score : 1415.6539\n",
      "Epoch(33) - GLOBAL - Validation Loss: 0.6917\n",
      "Epoch(33) - GLOBAL - Validation Accuracy: 0.5198\n",
      "Epoch(33) - GLOBAL - Validation Utility score: 2541.3882\n",
      "Intermediate early stopping : vepoch_loss = 0.6917, the_last_loss=0.6917\n",
      "\n",
      "\n",
      "Epoch(34) - Training Loss: 0.6901\n",
      "Epoch(34) - Fold 0 - Validation Loss : 0.6914\n",
      "Epoch(34) - Fold 0 - Validation Accuracy : 0.5242\n",
      "Epoch(34) - Fold 0 - Validation Utility score : 343.9181\n",
      "Epoch(34) - Fold 1 - Validation Loss : 0.6909\n",
      "Epoch(34) - Fold 1 - Validation Accuracy : 0.5253\n",
      "Epoch(34) - Fold 1 - Validation Utility score : 898.4302\n",
      "Epoch(34) - Fold 2 - Validation Loss : 0.6928\n",
      "Epoch(34) - Fold 2 - Validation Accuracy : 0.5135\n",
      "Epoch(34) - Fold 2 - Validation Utility score : -0.0000\n",
      "Epoch(34) - Fold 3 - Validation Loss : 0.6929\n",
      "Epoch(34) - Fold 3 - Validation Accuracy : 0.5111\n",
      "Epoch(34) - Fold 3 - Validation Utility score : -0.0000\n",
      "Epoch(34) - Fold 4 - Validation Loss : 0.6905\n",
      "Epoch(34) - Fold 4 - Validation Accuracy : 0.5256\n",
      "Epoch(34) - Fold 4 - Validation Utility score : 1534.1543\n",
      "Epoch(34) - GLOBAL - Validation Loss: 0.6917\n",
      "Epoch(34) - GLOBAL - Validation Accuracy: 0.5199\n",
      "Epoch(34) - GLOBAL - Validation Utility score: 2776.5026\n",
      "Saving model corresponding to last_utility_score == 2776.502579732092\n",
      "\n",
      "\n",
      "Epoch(35) - Training Loss: 0.6901\n",
      "Epoch(35) - Fold 0 - Validation Loss : 0.6915\n",
      "Epoch(35) - Fold 0 - Validation Accuracy : 0.5240\n",
      "Epoch(35) - Fold 0 - Validation Utility score : 344.7254\n",
      "Epoch(35) - Fold 1 - Validation Loss : 0.6910\n",
      "Epoch(35) - Fold 1 - Validation Accuracy : 0.5246\n",
      "Epoch(35) - Fold 1 - Validation Utility score : 869.8888\n",
      "Epoch(35) - Fold 2 - Validation Loss : 0.6928\n",
      "Epoch(35) - Fold 2 - Validation Accuracy : 0.5138\n",
      "Epoch(35) - Fold 2 - Validation Utility score : -0.0000\n",
      "Epoch(35) - Fold 3 - Validation Loss : 0.6929\n",
      "Epoch(35) - Fold 3 - Validation Accuracy : 0.5103\n",
      "Epoch(35) - Fold 3 - Validation Utility score : -0.0000\n",
      "Epoch(35) - Fold 4 - Validation Loss : 0.6905\n",
      "Epoch(35) - Fold 4 - Validation Accuracy : 0.5257\n",
      "Epoch(35) - Fold 4 - Validation Utility score : 1477.3606\n",
      "Epoch(35) - GLOBAL - Validation Loss: 0.6917\n",
      "Epoch(35) - GLOBAL - Validation Accuracy: 0.5197\n",
      "Epoch(35) - GLOBAL - Validation Utility score: 2691.9749\n",
      "Intermediate early stopping : vepoch_loss = 0.6917, the_last_loss=0.6917\n",
      "\n",
      "\n",
      "Epoch(36) - Training Loss: 0.6900\n",
      "Epoch(36) - Fold 0 - Validation Loss : 0.6915\n",
      "Epoch(36) - Fold 0 - Validation Accuracy : 0.5241\n",
      "Epoch(36) - Fold 0 - Validation Utility score : 358.8858\n",
      "Epoch(36) - Fold 1 - Validation Loss : 0.6909\n",
      "Epoch(36) - Fold 1 - Validation Accuracy : 0.5249\n",
      "Epoch(36) - Fold 1 - Validation Utility score : 688.5184\n",
      "Epoch(36) - Fold 2 - Validation Loss : 0.6929\n",
      "Epoch(36) - Fold 2 - Validation Accuracy : 0.5141\n",
      "Epoch(36) - Fold 2 - Validation Utility score : -0.0000\n",
      "Epoch(36) - Fold 3 - Validation Loss : 0.6930\n",
      "Epoch(36) - Fold 3 - Validation Accuracy : 0.5107\n",
      "Epoch(36) - Fold 3 - Validation Utility score : -0.0000\n",
      "Epoch(36) - Fold 4 - Validation Loss : 0.6905\n",
      "Epoch(36) - Fold 4 - Validation Accuracy : 0.5249\n",
      "Epoch(36) - Fold 4 - Validation Utility score : 1467.5673\n",
      "Epoch(36) - GLOBAL - Validation Loss: 0.6917\n",
      "Epoch(36) - GLOBAL - Validation Accuracy: 0.5198\n",
      "Epoch(36) - GLOBAL - Validation Utility score: 2514.9715\n",
      "Intermediate early stopping : vepoch_loss = 0.6917, the_last_loss=0.6917\n",
      "\n",
      "\n",
      "Epoch(37) - Training Loss: 0.6899\n",
      "Epoch(37) - Fold 0 - Validation Loss : 0.6914\n",
      "Epoch(37) - Fold 0 - Validation Accuracy : 0.5244\n",
      "Epoch(37) - Fold 0 - Validation Utility score : 383.0357\n",
      "Epoch(37) - Fold 1 - Validation Loss : 0.6909\n",
      "Epoch(37) - Fold 1 - Validation Accuracy : 0.5245\n",
      "Epoch(37) - Fold 1 - Validation Utility score : 759.5608\n",
      "Epoch(37) - Fold 2 - Validation Loss : 0.6928\n",
      "Epoch(37) - Fold 2 - Validation Accuracy : 0.5146\n",
      "Epoch(37) - Fold 2 - Validation Utility score : -0.0000\n",
      "Epoch(37) - Fold 3 - Validation Loss : 0.6930\n",
      "Epoch(37) - Fold 3 - Validation Accuracy : 0.5106\n",
      "Epoch(37) - Fold 3 - Validation Utility score : -0.0000\n",
      "Epoch(37) - Fold 4 - Validation Loss : 0.6905\n",
      "Epoch(37) - Fold 4 - Validation Accuracy : 0.5247\n",
      "Epoch(37) - Fold 4 - Validation Utility score : 1499.4474\n",
      "Epoch(37) - GLOBAL - Validation Loss: 0.6917\n",
      "Epoch(37) - GLOBAL - Validation Accuracy: 0.5198\n",
      "Epoch(37) - GLOBAL - Validation Utility score: 2642.0439\n",
      "Intermediate early stopping : vepoch_loss = 0.6917, the_last_loss=0.6917\n",
      "\n",
      "\n",
      "Epoch(38) - Training Loss: 0.6899\n",
      "Epoch(38) - Fold 0 - Validation Loss : 0.6915\n",
      "Epoch(38) - Fold 0 - Validation Accuracy : 0.5237\n",
      "Epoch(38) - Fold 0 - Validation Utility score : 359.3866\n",
      "Epoch(38) - Fold 1 - Validation Loss : 0.6910\n",
      "Epoch(38) - Fold 1 - Validation Accuracy : 0.5247\n",
      "Epoch(38) - Fold 1 - Validation Utility score : 716.0400\n",
      "Epoch(38) - Fold 2 - Validation Loss : 0.6928\n",
      "Epoch(38) - Fold 2 - Validation Accuracy : 0.5142\n",
      "Epoch(38) - Fold 2 - Validation Utility score : -0.0000\n",
      "Epoch(38) - Fold 3 - Validation Loss : 0.6929\n",
      "Epoch(38) - Fold 3 - Validation Accuracy : 0.5103\n",
      "Epoch(38) - Fold 3 - Validation Utility score : -0.0000\n",
      "Epoch(38) - Fold 4 - Validation Loss : 0.6905\n",
      "Epoch(38) - Fold 4 - Validation Accuracy : 0.5257\n",
      "Epoch(38) - Fold 4 - Validation Utility score : 1490.6337\n",
      "Epoch(38) - GLOBAL - Validation Loss: 0.6917\n",
      "Epoch(38) - GLOBAL - Validation Accuracy: 0.5197\n",
      "Epoch(38) - GLOBAL - Validation Utility score: 2566.0603\n",
      "Intermediate early stopping : vepoch_loss = 0.6917, the_last_loss=0.6917\n",
      "\n",
      "\n",
      "Epoch(39) - Training Loss: 0.6899\n",
      "Epoch(39) - Fold 0 - Validation Loss : 0.6914\n",
      "Epoch(39) - Fold 0 - Validation Accuracy : 0.5250\n",
      "Epoch(39) - Fold 0 - Validation Utility score : 439.7877\n",
      "Epoch(39) - Fold 1 - Validation Loss : 0.6909\n",
      "Epoch(39) - Fold 1 - Validation Accuracy : 0.5246\n",
      "Epoch(39) - Fold 1 - Validation Utility score : 740.8926\n",
      "Epoch(39) - Fold 2 - Validation Loss : 0.6929\n",
      "Epoch(39) - Fold 2 - Validation Accuracy : 0.5143\n",
      "Epoch(39) - Fold 2 - Validation Utility score : -0.0000\n",
      "Epoch(39) - Fold 3 - Validation Loss : 0.6930\n",
      "Epoch(39) - Fold 3 - Validation Accuracy : 0.5102\n",
      "Epoch(39) - Fold 3 - Validation Utility score : -0.0000\n",
      "Epoch(39) - Fold 4 - Validation Loss : 0.6904\n",
      "Epoch(39) - Fold 4 - Validation Accuracy : 0.5241\n",
      "Epoch(39) - Fold 4 - Validation Utility score : 1446.0870\n",
      "Epoch(39) - GLOBAL - Validation Loss: 0.6917\n",
      "Epoch(39) - GLOBAL - Validation Accuracy: 0.5196\n",
      "Epoch(39) - GLOBAL - Validation Utility score: 2626.7673\n",
      "Intermediate early stopping : vepoch_loss = 0.6917, the_last_loss=0.6917\n",
      "Meet Early stopping!\n",
      "Training summary:\n",
      "{'utility_score': 2776.502579732092, 'utility_scores': [343.9180741221593, 898.4302151535927, -0.0, -0.0, 1534.1542904563398], 'utility_score_std': 589.4561162771372, 'accuracy_scores': [0.5241598276424148, 0.5253001053001053, 0.5134671234663682, 0.5111007935167989, 0.5256021974926046]}\n"
     ]
    }
   ],
   "source": [
    "if (DO_SINGLE_TRAIN == True):\n",
    "    train()"
   ]
  },
  {
   "cell_type": "code",
   "execution_count": 82,
   "metadata": {},
   "outputs": [],
   "source": [
    "#torch.onnx.export(model, batch, MODEL_FILE_ONNX)"
   ]
  },
  {
   "cell_type": "markdown",
   "metadata": {},
   "source": [
    "### Note"
   ]
  },
  {
   "cell_type": "markdown",
   "metadata": {},
   "source": [
    "Note utility score précédent :  \n",
    "\n",
    "{'utility_score': 2699.3290911247423, 'utility_scores': [433.21587581983806, 842.8579165327393, -0.0, -0.0, 1423.255298772165], 'utility_score_std': 541.5654345633293, 'accuracy_scores': [0.5243157432212159, 0.5228992628992629, 0.5123754728769456, 0.5104606336878834, 0.5277785603606142]}\n",
    "\n",
    "(avec std scale)\n",
    "\n",
    "\n",
    "Training summary:\n",
    "{'utility_score': 2697.374406045479, 'utility_scores': [448.22515142892547, 938.181355255796, -0.0, -0.0, 1310.9678993607574], 'utility_score_std': 518.5674763422022, 'accuracy_scores': [0.5212753894345934, 0.5206107406107406, 0.5085924573123425, 0.5062820079914457, 0.525750105648683]}\n",
    "\n",
    "\n",
    "Essayer : \n",
    "> avec features supplémentaires  \n",
    "> augmenter le dropout de la couche avec bcp de 0, ou supprimer la couche  \n",
    "> bouger le weight decay : essayer 1e-5, et 1e-3  \n",
    "> augmenter la taille du batch  \n",
    "> label smoothing   (voir loss_fn = SmoothBCEwLogits(smoothing=0.005)  dans janestreet_kaggle....)  \n",
    "> différents triggers"
   ]
  },
  {
   "cell_type": "code",
   "execution_count": null,
   "metadata": {},
   "outputs": [],
   "source": [
    "'''\n",
    "model_load = nn.Sequential(\n",
    "        #nn.Dropout(0.2),\n",
    "        nn.Linear(len(FEATURES_LIST_TOTRAIN), 130),\n",
    "        #nn.BatchNorm1d(130),\n",
    "        nn.ReLU(),\n",
    "        nn.Dropout(0.3),\n",
    "\n",
    "        nn.Linear(130, 130),\n",
    "        #nn.BatchNorm1d(130),\n",
    "        nn.ReLU(),\n",
    "        nn.Dropout(0.3),    \n",
    "\n",
    "        nn.Linear(130, 130),\n",
    "        #nn.BatchNorm1d(130),\n",
    "        nn.ReLU(),\n",
    "        nn.Dropout(0.3),    \n",
    "\n",
    "        nn.Linear(130, 130),\n",
    "        #nn.BatchNorm1d(130),\n",
    "        nn.ReLU(),\n",
    "        nn.Dropout(0.3),    \n",
    "\n",
    "        nn.Linear(130, 130),\n",
    "        #nn.BatchNorm1d(130),\n",
    "        nn.ReLU(),\n",
    "        nn.Dropout(0.3),    \n",
    "\n",
    "        nn.Linear(130, 130),\n",
    "        #nn.BatchNorm1d(130),\n",
    "        nn.ReLU(),\n",
    "        nn.Dropout(0.3),    \n",
    "    \n",
    "        nn.Linear(130, 130),\n",
    "        #nn.BatchNorm1d(130),\n",
    "        nn.ReLU(),\n",
    "        nn.Dropout(0.3),    \n",
    "    \n",
    "        nn.Linear(130, 130),\n",
    "        #nn.BatchNorm1d(130),\n",
    "        nn.ReLU(),\n",
    "        nn.Dropout(0.3),    \n",
    "\n",
    "        nn.Linear(130, 60),\n",
    "        #nn.BatchNorm1d(130),\n",
    "        nn.ReLU(),\n",
    "        nn.Dropout(0.3),    \n",
    "    \n",
    "        nn.Linear(60, 30),\n",
    "        #nn.BatchNorm1d(130),\n",
    "        nn.ReLU(),\n",
    "        nn.Dropout(0.3),    \n",
    "       \n",
    "        nn.Linear(30, 1),\n",
    "        nn.Sigmoid(),\n",
    "    ).double().to('cuda')\n",
    "    \n",
    "model_load.load_state_dict(torch.load(f'model_NN_allfolds_V1.pt',map_location=torch.device('cuda')))\n",
    "'''\n",
    "\n",
    "#model_load.eval()\n",
    "#print(accuracy_score(ts_test_y.cpu().numpy(), (model_load(ts_test).squeeze() > 0.5).cpu().numpy()))\n",
    "#\n",
    "#model_load.eval()\n",
    "#print(utility_function(df.loc[test_index], (model_load(ts_test).squeeze() > 0.5).cpu().numpy()))\n"
   ]
  },
  {
   "cell_type": "markdown",
   "metadata": {},
   "source": [
    "# Data for model inference"
   ]
  },
  {
   "cell_type": "markdown",
   "metadata": {},
   "source": [
    "## First, fill NA with :"
   ]
  },
  {
   "cell_type": "code",
   "execution_count": 56,
   "metadata": {},
   "outputs": [
    {
     "data": {
      "text/plain": [
       "[0.009838564545944745,\n",
       " 0.38557755173112973,\n",
       " 0.35768747744650975,\n",
       " 0.00891916614596665,\n",
       " 0.0041500560373424495,\n",
       " -0.0037146189993207766,\n",
       " -0.012589244366156346,\n",
       " 0.051776552018932685,\n",
       " 0.026828095990947754,\n",
       " 0.24881331937245502,\n",
       " 0.18234851148590248,\n",
       " 0.08912156181298928,\n",
       " 0.049485535154017296,\n",
       " 0.14310535183278583,\n",
       " 0.08902722352210106,\n",
       " 0.21167757450938102,\n",
       " 0.146300650876364,\n",
       " 0.12121931699105562,\n",
       " 0.11358210894993667,\n",
       " 0.2938148492026861,\n",
       " 0.26876788737703755,\n",
       " 0.18691131282167164,\n",
       " 0.1769785779830002,\n",
       " 0.25244128771902047,\n",
       " 0.23856075429165213,\n",
       " 0.29407078502434514,\n",
       " 0.273177703966479,\n",
       " 0.13548298050171867,\n",
       " 0.16087630644126466,\n",
       " 0.32189235718153003,\n",
       " 0.3425343272966006,\n",
       " 0.2205604165416505,\n",
       " 0.25013120792951216,\n",
       " 0.3082216783372597,\n",
       " 0.3353533199754549,\n",
       " 0.34145307300650396,\n",
       " 0.36582532760649067,\n",
       " 0.029320465264380657,\n",
       " 0.02289177995103487,\n",
       " 0.04002162079212139,\n",
       " 0.05074972651124518,\n",
       " 0.4450543980970518,\n",
       " 0.36018357114469624,\n",
       " 0.34602868865463743,\n",
       " 0.4115306048129169,\n",
       " 0.43803102237933605,\n",
       " 0.47611584684954844,\n",
       " 0.3478667314970123,\n",
       " 0.4996310121501766,\n",
       " 0.5640008775247856,\n",
       " 0.5122603244317466,\n",
       " 0.45738658177408503,\n",
       " 0.04574377016024373,\n",
       " 0.36269998611838594,\n",
       " 0.35886983636928554,\n",
       " 0.652597182609052,\n",
       " 0.8049459750150331,\n",
       " 0.6613497470714732,\n",
       " 0.679812464521779,\n",
       " 0.7625897106372482,\n",
       " 0.5563956951455176,\n",
       " 0.5581652498654769,\n",
       " 0.5455413826521486,\n",
       " 0.546778335577234,\n",
       " 0.43505876086903456,\n",
       " 0.6075653248439333,\n",
       " 0.6085039517279847,\n",
       " 0.5951947177318683,\n",
       " 0.5959424881601522,\n",
       " 0.36954104040881697,\n",
       " 0.24337091134397526,\n",
       " 0.33227354399541986,\n",
       " 0.005393298121375514,\n",
       " -0.03286771852370292,\n",
       " -0.00020445421701550574,\n",
       " -0.019091946690617916,\n",
       " -0.031898281803949866,\n",
       " -0.07680002772370834,\n",
       " -0.00605952373252944,\n",
       " -0.035434597323818526,\n",
       " -0.002099458966825259,\n",
       " -0.014418274525843731,\n",
       " -0.03461507559647192,\n",
       " -0.0800853052057879,\n",
       " 0.3982158398248166,\n",
       " 0.5578243392749649,\n",
       " 0.4024042638598482,\n",
       " 0.44445105036718896,\n",
       " 0.5140947514539359,\n",
       " 0.40051646364922716,\n",
       " 0.41025294617564356,\n",
       " 0.5205121351461534,\n",
       " 0.4050807138243217,\n",
       " 0.4088298932713245,\n",
       " 0.42889387778006083,\n",
       " 0.41763183586073954,\n",
       " 0.40226847198530646,\n",
       " 0.5590945852445534,\n",
       " 0.40710700821605167,\n",
       " 0.4368573700084827,\n",
       " 0.5001226990638947,\n",
       " 0.40856460238921344,\n",
       " 0.40506301819893675,\n",
       " 0.48140573756748783,\n",
       " 0.40165573205168165,\n",
       " 0.40706131905131204,\n",
       " 0.4530453026311098,\n",
       " 0.41501192155955596,\n",
       " 0.39999263512557864,\n",
       " 0.4165405195231404,\n",
       " 0.4007356675614491,\n",
       " 0.40687807118570485,\n",
       " 0.41228491406734663,\n",
       " 0.4026373333613518,\n",
       " 0.40711205681095564,\n",
       " 0.37341742416551793,\n",
       " 0.40443262685246384,\n",
       " 0.40103337181422305,\n",
       " 0.38581705373929415,\n",
       " 0.41559987309867774,\n",
       " 0.33512703226889273,\n",
       " 0.2687757036832287,\n",
       " 0.34355231662463237,\n",
       " 0.27999728178893696,\n",
       " 0.33515369461396705,\n",
       " 0.24487524464105123,\n",
       " 0.3391777949954427,\n",
       " 0.2323808666181667,\n",
       " 0.3425608266217579,\n",
       " 0.24561818215100586]"
      ]
     },
     "execution_count": 56,
     "metadata": {},
     "output_type": "execute_result"
    }
   ],
   "source": [
    "list(f_mean)"
   ]
  },
  {
   "cell_type": "markdown",
   "metadata": {},
   "source": [
    "## Then, normalize with :"
   ]
  },
  {
   "cell_type": "code",
   "execution_count": 362,
   "metadata": {},
   "outputs": [
    {
     "data": {
      "text/plain": [
       "tensor([ 0.0088,  0.3957,  0.3306,  0.0092,  0.0034, -0.0050, -0.0146,  0.0553,\n",
       "         0.0251,  0.2647,  0.1671,  0.0949,  0.0445,  0.1525,  0.0800,  0.2217,\n",
       "         0.1283,  0.1218,  0.1096,  0.2977,  0.2646,  0.1881,  0.1725,  0.2547,\n",
       "         0.2327,  0.2979,  0.2685,  0.1399,  0.1629,  0.3306,  0.3439,  0.2268,\n",
       "         0.2519,  0.3164,  0.3360,  0.3528,  0.3677,  0.0265,  0.0186,  0.0432,\n",
       "         0.0530,  0.4542,  0.3776,  0.4162,  0.4393,  0.4865,  0.4921,  0.3684,\n",
       "         0.5014,  0.5438,  0.5307,  0.4567,  0.0565,  0.3890,  0.3769,  0.7755,\n",
       "         0.9247,  0.7859,  0.8085,  0.8990,  0.5534,  0.5555,  0.5592,  0.5614,\n",
       "         0.4423,  0.6188,  0.6172,  0.5977,  0.5981,  0.3774,  0.2389,  0.3080,\n",
       "         0.0041, -0.0322, -0.0016, -0.0199, -0.0316, -0.0932, -0.0081, -0.0358,\n",
       "        -0.0025, -0.0149, -0.0350, -0.1015,  0.3934,  0.5416,  0.3924,  0.4281,\n",
       "         0.4976,  0.3994,  0.4332,  0.5235,  0.4224,  0.4221,  0.4348,  0.4547,\n",
       "         0.3984,  0.5422,  0.3973,  0.4259,  0.4865,  0.4105,  0.4340,  0.4839,\n",
       "         0.4168,  0.4198,  0.4614,  0.4553,  0.3950,  0.3824,  0.3900,  0.3918,\n",
       "         0.3807,  0.4035,  0.4320,  0.3767,  0.4279,  0.4207,  0.3952,  0.4465,\n",
       "         0.3616,  0.2999,  0.3709,  0.3035,  0.3601,  0.2778,  0.3743,  0.2571,\n",
       "         0.3739,  0.2682], device='cuda:0', dtype=torch.float64)"
      ]
     },
     "execution_count": 362,
     "metadata": {},
     "output_type": "execute_result"
    }
   ],
   "source": [
    "ts_train_mean"
   ]
  },
  {
   "cell_type": "code",
   "execution_count": 363,
   "metadata": {},
   "outputs": [
    {
     "data": {
      "text/plain": [
       "tensor([ 1.0000,  2.5724,  2.4543,  1.9501,  1.7327,  1.7503,  1.6707,  1.6297,\n",
       "         1.8147,  2.4146,  1.7088,  1.6546,  2.3538,  2.2777,  2.0171,  1.8925,\n",
       "         2.2236,  1.5821,  1.9931,  1.7196,  1.9315,  2.4339,  1.7864,  2.1404,\n",
       "         2.6117,  2.0852,  2.2918,  1.4115,  1.8827,  1.7403,  2.0817,  1.6850,\n",
       "         2.4817,  1.9481,  2.0704,  2.4316,  2.2853,  2.0566,  2.1225,  1.6162,\n",
       "         2.3138,  1.9912,  2.4127,  2.3259,  2.7887,  1.9650,  2.8462,  2.2005,\n",
       "         3.0387,  3.5713,  3.7193,  2.8348,  1.8877,  2.2007,  1.9352,  7.1295,\n",
       "        11.0556,  7.5957,  8.1579,  9.9465,  2.2164,  1.9947,  2.1712,  2.2567,\n",
       "         2.3735,  2.1915,  1.7553,  2.5883,  2.5263,  2.2991,  2.4406,  1.8076,\n",
       "         1.8125,  2.1476,  1.7792,  1.9738,  2.2283,  2.6795,  2.1807,  1.7949,\n",
       "         1.7688,  2.2805,  1.9767,  2.4821,  1.9748,  2.4948,  1.9679,  2.6387,\n",
       "         2.5943,  2.6160,  2.0864,  2.6942,  2.0670,  2.2104,  2.1212,  2.5054,\n",
       "         2.1243,  2.5619,  2.3017,  2.1175,  2.2689,  2.6136,  2.3357,  2.2557,\n",
       "         1.8389,  2.0931,  2.7896,  2.4935,  2.4409,  2.5761,  1.9721,  1.9469,\n",
       "         2.6040,  2.8786,  2.1073,  2.3353,  2.3193,  2.5076,  2.4064,  2.0617,\n",
       "         1.9008,  2.1498,  2.1102,  1.9852,  1.7631,  2.2454,  2.5548,  1.8003,\n",
       "         2.3295,  1.7714], device='cuda:0', dtype=torch.float64)"
      ]
     },
     "execution_count": 363,
     "metadata": {},
     "output_type": "execute_result"
    }
   ],
   "source": [
    "ts_train_std"
   ]
  }
 ],
 "metadata": {
  "kernelspec": {
   "display_name": "Python 3 (Spyder)",
   "language": "python3",
   "name": "python3"
  },
  "language_info": {
   "codemirror_mode": {
    "name": "ipython",
    "version": 3
   },
   "file_extension": ".py",
   "mimetype": "text/x-python",
   "name": "python",
   "nbconvert_exporter": "python",
   "pygments_lexer": "ipython3",
   "version": "3.8.5"
  }
 },
 "nbformat": 4,
 "nbformat_minor": 4
}
