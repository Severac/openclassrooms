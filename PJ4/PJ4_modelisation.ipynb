{
 "cells": [
  {
   "cell_type": "markdown",
   "metadata": {},
   "source": [
    "# Openclassrooms PJ4 : transats dataset : modelisation notebook"
   ]
  },
  {
   "cell_type": "markdown",
   "metadata": {},
   "source": [
    "# Global variables and functions used in the notebook"
   ]
  },
  {
   "cell_type": "code",
   "execution_count": 172,
   "metadata": {},
   "outputs": [],
   "source": [
    "%matplotlib inline\n",
    "\n",
    "import os\n",
    "import zipfile\n",
    "import urllib\n",
    "\n",
    "import matplotlib.pyplot as plt\n",
    "import pandas as pd\n",
    "import numpy as np\n",
    "\n",
    "import qgrid\n",
    "\n",
    "import glob\n",
    "\n",
    "from pandas.plotting import scatter_matrix\n",
    "\n",
    "from sklearn.model_selection import StratifiedShuffleSplit\n",
    "\n",
    "SAMPLED_DATA = True  # If True : data is sampled (NB_SAMPLES instances only) for faster testing purposes\n",
    "NB_SAMPLES = 800000\n",
    "LEARNING_CURVE_STEP_SIZE = 10000 # Change that when you change NB_SAMPLES size\n",
    "\n",
    "DATA_PATH = os.path.join(\"datasets\", \"transats\")\n",
    "DATA_PATH = os.path.join(DATA_PATH, \"out\")\n",
    "\n",
    "DATA_PATH_FILE_INPUT = os.path.join(DATA_PATH, \"transats_metadata_transformed.csv\")\n",
    "\n",
    "\n",
    "ALL_FEATURES = ['ORIGIN','CRS_DEP_TIME','MONTH','DAY_OF_MONTH','DAY_OF_WEEK','UNIQUE_CARRIER','DEST','CRS_ARR_TIME','DISTANCE','CRS_ELAPSED_TIME','ARR_DELAY','DEP_DELAY', 'TAXI_OUT', 'TAIL_NUM', 'NBFLIGHTS_FORDAYHOUR_FORAIRPORT', 'NBFLIGHTS_FORDAY_FORAIRPORT']\n",
    "\n",
    "'''\n",
    "MODEL1_FEATURES = ['ORIGIN','CRS_DEP_TIME','MONTH','DAY_OF_MONTH','DAY_OF_WEEK','UNIQUE_CARRIER','DEST','CRS_ARR_TIME','DISTANCE','CRS_ELAPSED_TIME']\n",
    "MODEL1_LABEL = 'ARR_DELAY'\n",
    "'''\n",
    "\n",
    "MODEL1_FEATURES = ['ORIGIN','CRS_DEP_TIME','MONTH','DAY_OF_MONTH','DAY_OF_WEEK','UNIQUE_CARRIER','DEST','CRS_ARR_TIME','DISTANCE','CRS_ELAPSED_TIME', 'NBFLIGHTS_FORDAYHOUR_FORAIRPORT', 'NBFLIGHTS_FORDAY_FORAIRPORT']\n",
    "MODEL1_FEATURES_QUANTITATIVE = ['CRS_DEP_TIME','MONTH','DAY_OF_MONTH','DAY_OF_WEEK','CRS_ARR_TIME','DISTANCE','CRS_ELAPSED_TIME', 'NBFLIGHTS_FORDAYHOUR_FORAIRPORT', 'NBFLIGHTS_FORDAY_FORAIRPORT']\n",
    "MODEL1bis_FEATURES_QUANTITATIVE = ['CRS_DEP_TIME','CRS_ARR_TIME','DISTANCE','CRS_ELAPSED_TIME', 'NBFLIGHTS_FORDAYHOUR_FORAIRPORT', 'NBFLIGHTS_FORDAY_FORAIRPORT']\n",
    "MODEL1_LABEL = 'ARR_DELAY'\n",
    "\n",
    "\n",
    "MODEL_cheat_FEATURES = ['ARR_DELAY','ORIGIN','CRS_DEP_TIME','MONTH','DAY_OF_MONTH','DAY_OF_WEEK','UNIQUE_CARRIER','DEST','CRS_ARR_TIME','DISTANCE','CRS_ELAPSED_TIME', 'NBFLIGHTS_FORDAYHOUR_FORAIRPORT', 'NBFLIGHTS_FORDAY_FORAIRPORT']\n",
    "MODEL_cheat_FEATURES_QUANTITATIVE = ['ARR_DELAY','CRS_DEP_TIME','CRS_ARR_TIME','DISTANCE','CRS_ELAPSED_TIME', 'NBFLIGHTS_FORDAYHOUR_FORAIRPORT', 'NBFLIGHTS_FORDAY_FORAIRPORT']\n",
    "\n",
    "plt.rcParams[\"figure.figsize\"] = [16,9] # Taille par défaut des figures de matplotlib\n",
    "\n",
    "import seaborn as sns\n",
    "sns.set()\n",
    "\n",
    "#import common_functions\n",
    "\n",
    "####### Paramètres pour sauver et restaurer les modèles :\n",
    "import pickle\n",
    "####### Paramètres à changer par l'utilisateur selon son besoin :\n",
    "RECOMPUTE_GRIDSEARCH = False  # CAUTION : computation is several hours long\n",
    "SAVE_GRID_RESULTS = False # If True : grid results object will be saved to pickle files that have GRIDSEARCH_FILE_PREFIX\n",
    "LOAD_GRID_RESULTS = False # If True : grid results object will be loaded from pickle files that have GRIDSEARCH_FILE_PREFIX\n",
    "                          # Grid search results are loaded with full samples (SAMPLED_DATA must be False)\n",
    "\n",
    "#GRIDSEARCH_CSV_FILE = 'grid_search_results.csv'\n",
    "\n",
    "GRIDSEARCH_FILE_PREFIX = 'grid_search_results_'\n",
    "\n",
    "EXECUTE_INTERMEDIATE_MODELS = True # If True: every intermediate model (which results are manually analyzed in the notebook) will be executed\n",
    "\n",
    "\n",
    "# Necessary for predictors used in the notebook :\n",
    "from sklearn.linear_model import LinearRegression\n",
    "from sklearn.metrics import mean_squared_error\n",
    "from sklearn.metrics import mean_absolute_error\n",
    "\n",
    "from sklearn.preprocessing import PolynomialFeatures\n",
    "\n",
    "\n",
    "### For progress bar :\n",
    "from tqdm import tqdm_notebook as tqdm\n"
   ]
  },
  {
   "cell_type": "code",
   "execution_count": 2,
   "metadata": {},
   "outputs": [],
   "source": [
    "def qgrid_show(df):\n",
    "    display(qgrid.show_grid(df, grid_options={'forceFitColumns': False, 'defaultColumnWidth': 170}))"
   ]
  },
  {
   "cell_type": "code",
   "execution_count": 3,
   "metadata": {},
   "outputs": [],
   "source": [
    "def load_data():\n",
    "    # hhmm timed features formatted\n",
    "    feats_hhmm = ['CRS_DEP_TIME',  'CRS_ARR_TIME']\n",
    "\n",
    "    df = pd.read_csv(DATA_PATH_FILE_INPUT, sep=',', header=0, encoding='utf-8', low_memory=False, parse_dates=feats_hhmm)   \n",
    "    \n",
    "    # Drop outliers (low quantile data : extreme delays not enough represented)\n",
    "    df.drop(index=df[(df['ARR_DELAY'] < df.ARR_DELAY.quantile(.01)) | (df['ARR_DELAY'] > df.ARR_DELAY.quantile(.99))].index, axis=0, inplace=True)\n",
    "    \n",
    "    return(df)"
   ]
  },
  {
   "cell_type": "code",
   "execution_count": 4,
   "metadata": {},
   "outputs": [],
   "source": [
    "def custom_train_test_split_sample(df):\n",
    "    from sklearn.model_selection import train_test_split\n",
    "    \n",
    "    if (SAMPLED_DATA == True):\n",
    "        df_labels_discrete = pd.cut(df['ARR_DELAY'], bins=50)\n",
    "        #df = df.sample(NB_SAMPLES).copy(deep=True)\n",
    "        df, df2 = train_test_split(df, train_size=NB_SAMPLES, random_state=42, shuffle = True, stratify = df_labels_discrete)\n",
    "        \n",
    "    df_labels_discrete = pd.cut(df['ARR_DELAY'], bins=50)\n",
    "    \n",
    "    df_train, df_test = train_test_split(df, test_size=0.1, random_state=42, shuffle = True, stratify = df_labels_discrete)\n",
    "    #df_train, df_test = train_test_split(df, test_size=0.1, random_state=42)\n",
    "    \n",
    "    df_train = df_train.copy()\n",
    "    df_test = df_test.copy()\n",
    "\n",
    "    '''\n",
    "    # Old code: we sampled only training set. But that's a problem when you encounter values in test set (not sampled) that were not in training set\n",
    "    if (SAMPLED_DATA == True):\n",
    "        df_train = df_train.sample(NB_SAMPLES).copy(deep=True)\n",
    "        df = df.loc[df_train.index]\n",
    "    '''   \n",
    "    \n",
    "    return df, df_train, df_test"
   ]
  },
  {
   "cell_type": "code",
   "execution_count": 5,
   "metadata": {},
   "outputs": [],
   "source": [
    "def print_column_information(df, column_name):\n",
    "    column_type = df.dtypes[column_name]\n",
    "    print(f'Column {column_name}, type {column_type}\\n')\n",
    "    print('--------------------------')\n",
    "\n",
    "    print(df[[column_name]].groupby(column_name).size().sort_values(ascending=False))\n",
    "    print(df[column_name].unique())    \n",
    "    print('\\n')\n"
   ]
  },
  {
   "cell_type": "code",
   "execution_count": 6,
   "metadata": {},
   "outputs": [],
   "source": [
    "def display_percent_complete(df):\n",
    "    not_na = 100 - (df.isnull().sum() * 100 / len(df))\n",
    "    not_na_df = pd.DataFrame({'column_name': df.columns,\n",
    "                                     'percent_complete': not_na}).sort_values(by='percent_complete', ascending=False)\n",
    "    display(not_na_df)"
   ]
  },
  {
   "cell_type": "code",
   "execution_count": 7,
   "metadata": {},
   "outputs": [],
   "source": [
    "def identify_features(df):\n",
    "    all_features = ALL_FEATURES\n",
    "\n",
    "    model1_features = MODEL1_FEATURES\n",
    "    model1_label = MODEL1_LABEL\n",
    "    \n",
    "    quantitative_features = []\n",
    "    qualitative_features = []\n",
    "    features_todrop = []\n",
    "\n",
    "    for feature_name in all_features:\n",
    "        if (df[feature_name].dtype == 'object'):\n",
    "            qualitative_features.append(feature_name)\n",
    "\n",
    "        else:\n",
    "            quantitative_features.append(feature_name)\n",
    "\n",
    "    print(f'Quantitative features : {quantitative_features} \\n')\n",
    "    print(f'Qualitative features : {qualitative_features} \\n')  \n",
    "    \n",
    "    return all_features, model1_features, model1_label, quantitative_features, qualitative_features"
   ]
  },
  {
   "cell_type": "code",
   "execution_count": 8,
   "metadata": {},
   "outputs": [],
   "source": [
    "def save_or_load_search_params(grid_search, save_file_suffix):\n",
    "    if (SAVE_GRID_RESULTS == True):\n",
    "        #df_grid_search_results = pd.concat([pd.DataFrame(grid_search.cv_results_[\"params\"]),pd.DataFrame(grid_search.cv_results_[\"mean_test_score\"], columns=[\"Accuracy\"])],axis=1)\n",
    "        #df_grid_search_results.to_csv(GRIDSEARCH_CSV_FILE)\n",
    "\n",
    "        df_grid_search_results = pd.concat([pd.DataFrame(grid_search.cv_results_[\"params\"]),pd.DataFrame(grid_search.cv_results_[\"mean_test_score\"], columns=[\"mean_test_score\"])],axis=1)\n",
    "        df_grid_search_results = pd.concat([df_grid_search_results,pd.DataFrame(grid_search.cv_results_[\"std_test_score\"], columns=[\"std_test_score\"])],axis=1)\n",
    "        df_grid_search_results = pd.concat([df_grid_search_results,pd.DataFrame(grid_search.cv_results_[\"mean_fit_time\"], columns=[\"mean_fit_time\"])],axis=1)\n",
    "        df_grid_search_results = pd.concat([df_grid_search_results,pd.DataFrame(grid_search.cv_results_[\"mean_score_time\"], columns=[\"mean_score_time\"])],axis=1)\n",
    "        df_grid_search_results.to_csv(GRIDSEARCH_FILE_PREFIX + save_file_suffix + '.csv')\n",
    "\n",
    "        with open(GRIDSEARCH_FILE_PREFIX + save_file_suffix + '.pickle', 'wb') as f:\n",
    "            pickle.dump(grid_search, f, pickle.HIGHEST_PROTOCOL)\n",
    "            \n",
    "        return(grid_search, df_grid_search_results)\n",
    "\n",
    "    if (LOAD_GRID_RESULTS == True):\n",
    "        if ((SAVE_GRID_RESULTS == True) or (RECOMPUTE_GRIDSEARCH == True)):\n",
    "            print('Error : if want to load grid results, you should not have saved them or recomputed them before, or you will loose all your training data')\n",
    "\n",
    "        else:\n",
    "            with open(GRIDSEARCH_FILE_PREFIX + save_file_suffix + '.pickle', 'rb') as f:\n",
    "                grid_search = pickle.load(f)\n",
    "\n",
    "            df_grid_search_results = pd.concat([pd.DataFrame(grid_search.cv_results_[\"params\"]),pd.DataFrame(grid_search.cv_results_[\"mean_test_score\"], columns=[\"mean_test_score\"])],axis=1)\n",
    "            df_grid_search_results = pd.concat([df_grid_search_results,pd.DataFrame(grid_search.cv_results_[\"std_test_score\"], columns=[\"std_test_score\"])],axis=1)\n",
    "            df_grid_search_results = pd.concat([df_grid_search_results,pd.DataFrame(grid_search.cv_results_[\"mean_fit_time\"], columns=[\"mean_fit_time\"])],axis=1)\n",
    "            df_grid_search_results = pd.concat([df_grid_search_results,pd.DataFrame(grid_search.cv_results_[\"mean_score_time\"], columns=[\"mean_score_time\"])],axis=1)\n",
    "            \n",
    "            return(grid_search, df_grid_search_results)"
   ]
  },
  {
   "cell_type": "code",
   "execution_count": 9,
   "metadata": {},
   "outputs": [],
   "source": [
    "def evaluate_model(model, X_test, Y_test):\n",
    "    Y_predict = model.predict(X_test)\n",
    "    mse = mean_squared_error(Y_test, Y_predict)\n",
    "    rmse = np.sqrt(mse)\n",
    "    print(f'RMSE : {rmse}')\n",
    "    "
   ]
  },
  {
   "cell_type": "code",
   "execution_count": 10,
   "metadata": {},
   "outputs": [],
   "source": [
    "def evaluate_model_MAE(model, X_test, Y_test):\n",
    "    Y_predict = model.predict(X_test)\n",
    "    mae = mean_absolute_error(Y_test, Y_predict)\n",
    "    print(f'MAE : {mae}')\n",
    "    "
   ]
  },
  {
   "cell_type": "code",
   "execution_count": 11,
   "metadata": {},
   "outputs": [],
   "source": [
    "def minibatch_generate_indexes(df_train_transformed, step_size):\n",
    "    nb_instances = df_train_transformed.shape[0]\n",
    "    final_index = nb_instances - 1\n",
    "\n",
    "    for m in range(int(nb_instances/step_size)):\n",
    "        left_index = m*step_size\n",
    "        right_index = m*step_size + step_size - 1\n",
    "\n",
    "        yield((left_index, right_index))\n",
    "\n",
    "    # Last step :\n",
    "    yield((left_index + step_size, final_index))"
   ]
  },
  {
   "cell_type": "code",
   "execution_count": 12,
   "metadata": {},
   "outputs": [],
   "source": [
    "def plot_learning_curves(model, X_train, X_test, y_train, y_test, step_size, evaluation_method='RMSE'):\n",
    "    train_errors, val_errors = [], []\n",
    "    \n",
    "    minibatch_indexes = minibatch_generate_indexes(X_train, step_size)\n",
    "    \n",
    "    # Initiate progress bar\n",
    "    #nb_instances = len(df_train_transformed)\n",
    "    nb_instances = df_train_transformed.shape[0]\n",
    "    nb_iter = int(nb_instances/step_size) + 1    \n",
    "    progbar = tqdm(range(nb_iter))\n",
    "    #cnt = 0\n",
    "    print(f'Calculating learning curve for {nb_iter} iterations')\n",
    "    \n",
    "    for (left_index, right_index) in minibatch_indexes:\n",
    "        model.fit(X_train[:right_index], y_train[:right_index])\n",
    "        y_train_predict = model.predict(X_train[:right_index])\n",
    "        y_test_predict = model.predict(X_test)\n",
    "        \n",
    "        if (evaluation_method == 'RMSE'):\n",
    "            train_errors.append(mean_squared_error(y_train[:right_index], y_train_predict))\n",
    "            val_errors.append(mean_squared_error(y_test, y_test_predict))\n",
    "            \n",
    "        elif (evaluation_method == 'MAE'):\n",
    "            train_errors.append(mean_absolute_error(y_train[:right_index], y_train_predict))\n",
    "            val_errors.append(mean_absolute_error(y_test, y_test_predict))            \n",
    "        \n",
    "        # Update progress bar\n",
    "        progbar.update(1)\n",
    "        #cnt += 1\n",
    "\n",
    "    plt.plot(np.sqrt(train_errors), \"r-+\", linewidth=2, label=\"train\")\n",
    "    plt.plot(np.sqrt(val_errors), \"b-\", linewidth=3, label=\"test\")\n",
    "    plt.legend(loc=\"upper right\", fontsize=14)   # not shown in the book\n",
    "    plt.xlabel(\"Training set iterations\", fontsize=14) # not shown\n",
    "    \n",
    "    if (evaluation_method == 'RMSE'):\n",
    "        plt.ylabel(\"RMSE\", fontsize=14)              # not shown\n",
    "        \n",
    "    elif (evaluation_method == 'MAE'):\n",
    "         plt.ylabel(\"MAE\", fontsize=14)  "
   ]
  },
  {
   "cell_type": "code",
   "execution_count": 13,
   "metadata": {},
   "outputs": [],
   "source": [
    "#minibatches = minibatch_generate_indexes(df_train_transformed)"
   ]
  },
  {
   "cell_type": "code",
   "execution_count": 14,
   "metadata": {},
   "outputs": [],
   "source": [
    "def reset_data():\n",
    "    df = load_data()\n",
    "    all_features, model1_features, model1_label, quantitative_features, qualitative_features = identify_features(df)\n",
    "    df, df_train, df_test = custom_train_test_split_sample(df)\n",
    "\n",
    "    df_train_transformed = preparation_pipeline_meansort.fit_transform(df_train, categoricalfeatures_1hotencoder__categorical_features_totransform=None)\n",
    "    df_train_transformed = prediction_pipeline_without_sparse.fit_transform(df_train_transformed)\n",
    "\n",
    "    df_test_transformed = preparation_pipeline_meansort.transform(df_test)\n",
    "    df_test_transformed = prediction_pipeline_without_sparse.transform(df_test_transformed)\n",
    "    \n",
    "    return df, df_train, df_test, df_train_transformed, df_test_transformed\n",
    "\n",
    "def reset_data_old():\n",
    "    df = load_data()\n",
    "    all_features, model1_features, model1_label, quantitative_features, qualitative_features = identify_features(df)\n",
    "    df, df_train, df_test = custom_train_test_split_sample(df)\n",
    "\n",
    "    df_train_transformed = preparation_pipeline_meansort.fit_transform(df_train)\n",
    "    df_train_transformed = prediction_pipeline_without_sparse.fit_transform(df_train_transformed)\n",
    "\n",
    "    df_test_transformed = preparation_pipeline_meansort.transform(df_test)\n",
    "    df_test_transformed = prediction_pipeline_without_sparse.transform(df_test_transformed)\n",
    "    df_test_transformed.shape\n",
    "    \n",
    "    return df, df_train, df_test, df_train_transformed, df_test_transformed"
   ]
  },
  {
   "cell_type": "code",
   "execution_count": 15,
   "metadata": {},
   "outputs": [],
   "source": [
    "from IPython.display import display, Markdown\n",
    "\n",
    "def display_freq_table(df, col_names):\n",
    "    for col_name in col_names:    \n",
    "        effectifs = df[col_name].value_counts(bins=50)\n",
    "\n",
    "        modalites = effectifs.index # l'index de effectifs contient les modalités\n",
    "\n",
    "\n",
    "        tab = pd.DataFrame(modalites, columns = [col_name]) # création du tableau à partir des modalités\n",
    "        tab[\"Nombre\"] = effectifs.values\n",
    "        tab[\"Frequence\"] = tab[\"Nombre\"] / len(df) # len(data) renvoie la taille de l'échantillon\n",
    "        tab = tab.sort_values(col_name) # tri des valeurs de la variable X (croissant)\n",
    "        tab[\"Freq. cumul\"] = tab[\"Frequence\"].cumsum() # cumsum calcule la somme cumulée\n",
    "        \n",
    "        display(Markdown('#### ' + col_name))\n",
    "        display(tab)"
   ]
  },
  {
   "cell_type": "markdown",
   "metadata": {},
   "source": [
    "# Data load"
   ]
  },
  {
   "cell_type": "code",
   "execution_count": 16,
   "metadata": {},
   "outputs": [],
   "source": [
    "df = load_data()"
   ]
  },
  {
   "cell_type": "code",
   "execution_count": 17,
   "metadata": {},
   "outputs": [
    {
     "data": {
      "text/plain": [
       "(5438823, 16)"
      ]
     },
     "execution_count": 17,
     "metadata": {},
     "output_type": "execute_result"
    }
   ],
   "source": [
    "df.shape"
   ]
  },
  {
   "cell_type": "code",
   "execution_count": 18,
   "metadata": {},
   "outputs": [
    {
     "data": {
      "text/html": [
       "<div>\n",
       "<style scoped>\n",
       "    .dataframe tbody tr th:only-of-type {\n",
       "        vertical-align: middle;\n",
       "    }\n",
       "\n",
       "    .dataframe tbody tr th {\n",
       "        vertical-align: top;\n",
       "    }\n",
       "\n",
       "    .dataframe thead th {\n",
       "        text-align: right;\n",
       "    }\n",
       "</style>\n",
       "<table border=\"1\" class=\"dataframe\">\n",
       "  <thead>\n",
       "    <tr style=\"text-align: right;\">\n",
       "      <th></th>\n",
       "      <th>column_name</th>\n",
       "      <th>percent_complete</th>\n",
       "    </tr>\n",
       "  </thead>\n",
       "  <tbody>\n",
       "    <tr>\n",
       "      <td>ORIGIN</td>\n",
       "      <td>ORIGIN</td>\n",
       "      <td>100.0</td>\n",
       "    </tr>\n",
       "    <tr>\n",
       "      <td>CRS_DEP_TIME</td>\n",
       "      <td>CRS_DEP_TIME</td>\n",
       "      <td>100.0</td>\n",
       "    </tr>\n",
       "    <tr>\n",
       "      <td>MONTH</td>\n",
       "      <td>MONTH</td>\n",
       "      <td>100.0</td>\n",
       "    </tr>\n",
       "    <tr>\n",
       "      <td>DAY_OF_MONTH</td>\n",
       "      <td>DAY_OF_MONTH</td>\n",
       "      <td>100.0</td>\n",
       "    </tr>\n",
       "    <tr>\n",
       "      <td>DAY_OF_WEEK</td>\n",
       "      <td>DAY_OF_WEEK</td>\n",
       "      <td>100.0</td>\n",
       "    </tr>\n",
       "    <tr>\n",
       "      <td>UNIQUE_CARRIER</td>\n",
       "      <td>UNIQUE_CARRIER</td>\n",
       "      <td>100.0</td>\n",
       "    </tr>\n",
       "    <tr>\n",
       "      <td>DEST</td>\n",
       "      <td>DEST</td>\n",
       "      <td>100.0</td>\n",
       "    </tr>\n",
       "    <tr>\n",
       "      <td>CRS_ARR_TIME</td>\n",
       "      <td>CRS_ARR_TIME</td>\n",
       "      <td>100.0</td>\n",
       "    </tr>\n",
       "    <tr>\n",
       "      <td>DISTANCE</td>\n",
       "      <td>DISTANCE</td>\n",
       "      <td>100.0</td>\n",
       "    </tr>\n",
       "    <tr>\n",
       "      <td>CRS_ELAPSED_TIME</td>\n",
       "      <td>CRS_ELAPSED_TIME</td>\n",
       "      <td>100.0</td>\n",
       "    </tr>\n",
       "    <tr>\n",
       "      <td>ARR_DELAY</td>\n",
       "      <td>ARR_DELAY</td>\n",
       "      <td>100.0</td>\n",
       "    </tr>\n",
       "    <tr>\n",
       "      <td>DEP_DELAY</td>\n",
       "      <td>DEP_DELAY</td>\n",
       "      <td>100.0</td>\n",
       "    </tr>\n",
       "    <tr>\n",
       "      <td>TAXI_OUT</td>\n",
       "      <td>TAXI_OUT</td>\n",
       "      <td>100.0</td>\n",
       "    </tr>\n",
       "    <tr>\n",
       "      <td>TAIL_NUM</td>\n",
       "      <td>TAIL_NUM</td>\n",
       "      <td>100.0</td>\n",
       "    </tr>\n",
       "    <tr>\n",
       "      <td>NBFLIGHTS_FORDAY_FORAIRPORT</td>\n",
       "      <td>NBFLIGHTS_FORDAY_FORAIRPORT</td>\n",
       "      <td>100.0</td>\n",
       "    </tr>\n",
       "    <tr>\n",
       "      <td>NBFLIGHTS_FORDAYHOUR_FORAIRPORT</td>\n",
       "      <td>NBFLIGHTS_FORDAYHOUR_FORAIRPORT</td>\n",
       "      <td>100.0</td>\n",
       "    </tr>\n",
       "  </tbody>\n",
       "</table>\n",
       "</div>"
      ],
      "text/plain": [
       "                                                     column_name  \\\n",
       "ORIGIN                                                    ORIGIN   \n",
       "CRS_DEP_TIME                                        CRS_DEP_TIME   \n",
       "MONTH                                                      MONTH   \n",
       "DAY_OF_MONTH                                        DAY_OF_MONTH   \n",
       "DAY_OF_WEEK                                          DAY_OF_WEEK   \n",
       "UNIQUE_CARRIER                                    UNIQUE_CARRIER   \n",
       "DEST                                                        DEST   \n",
       "CRS_ARR_TIME                                        CRS_ARR_TIME   \n",
       "DISTANCE                                                DISTANCE   \n",
       "CRS_ELAPSED_TIME                                CRS_ELAPSED_TIME   \n",
       "ARR_DELAY                                              ARR_DELAY   \n",
       "DEP_DELAY                                              DEP_DELAY   \n",
       "TAXI_OUT                                                TAXI_OUT   \n",
       "TAIL_NUM                                                TAIL_NUM   \n",
       "NBFLIGHTS_FORDAY_FORAIRPORT          NBFLIGHTS_FORDAY_FORAIRPORT   \n",
       "NBFLIGHTS_FORDAYHOUR_FORAIRPORT  NBFLIGHTS_FORDAYHOUR_FORAIRPORT   \n",
       "\n",
       "                                 percent_complete  \n",
       "ORIGIN                                      100.0  \n",
       "CRS_DEP_TIME                                100.0  \n",
       "MONTH                                       100.0  \n",
       "DAY_OF_MONTH                                100.0  \n",
       "DAY_OF_WEEK                                 100.0  \n",
       "UNIQUE_CARRIER                              100.0  \n",
       "DEST                                        100.0  \n",
       "CRS_ARR_TIME                                100.0  \n",
       "DISTANCE                                    100.0  \n",
       "CRS_ELAPSED_TIME                            100.0  \n",
       "ARR_DELAY                                   100.0  \n",
       "DEP_DELAY                                   100.0  \n",
       "TAXI_OUT                                    100.0  \n",
       "TAIL_NUM                                    100.0  \n",
       "NBFLIGHTS_FORDAY_FORAIRPORT                 100.0  \n",
       "NBFLIGHTS_FORDAYHOUR_FORAIRPORT             100.0  "
      ]
     },
     "metadata": {},
     "output_type": "display_data"
    }
   ],
   "source": [
    "display_percent_complete(df)"
   ]
  },
  {
   "cell_type": "code",
   "execution_count": 19,
   "metadata": {},
   "outputs": [
    {
     "data": {
      "text/plain": [
       "'\\nfor column_name in df.columns:\\n    print_column_information(df, column_name)\\n    \\n'"
      ]
     },
     "execution_count": 19,
     "metadata": {},
     "output_type": "execute_result"
    }
   ],
   "source": [
    "'''\n",
    "for column_name in df.columns:\n",
    "    print_column_information(df, column_name)\n",
    "    \n",
    "'''"
   ]
  },
  {
   "cell_type": "markdown",
   "metadata": {},
   "source": [
    "# Identification of features"
   ]
  },
  {
   "cell_type": "code",
   "execution_count": 20,
   "metadata": {},
   "outputs": [
    {
     "name": "stdout",
     "output_type": "stream",
     "text": [
      "Quantitative features : ['MONTH', 'DAY_OF_MONTH', 'DAY_OF_WEEK', 'DISTANCE', 'CRS_ELAPSED_TIME', 'ARR_DELAY', 'DEP_DELAY', 'TAXI_OUT', 'NBFLIGHTS_FORDAYHOUR_FORAIRPORT', 'NBFLIGHTS_FORDAY_FORAIRPORT'] \n",
      "\n",
      "Qualitative features : ['ORIGIN', 'CRS_DEP_TIME', 'UNIQUE_CARRIER', 'DEST', 'CRS_ARR_TIME', 'TAIL_NUM'] \n",
      "\n"
     ]
    }
   ],
   "source": [
    "# Below are feature from dataset that we decided to keep: \n",
    "'''\n",
    "all_features = ['ORIGIN','CRS_DEP_TIME','MONTH','DAY_OF_MONTH','DAY_OF_WEEK','UNIQUE_CARRIER','DEST','CRS_ARR_TIME','DISTANCE','CRS_ELAPSED_TIME','ARR_DELAY','DEP_DELAY', 'TAXI_OUT', 'TAIL_NUM']\n",
    "\n",
    "model1_features = ['ORIGIN','CRS_DEP_TIME','MONTH','DAY_OF_MONTH','DAY_OF_WEEK','UNIQUE_CARRIER','DEST','CRS_ARR_TIME','DISTANCE','CRS_ELAPSED_TIME']\n",
    "model1_label = 'ARR_DELAY'\n",
    "'''\n",
    "\n",
    "all_features, model1_features, model1_label, quantitative_features, qualitative_features = identify_features(df)"
   ]
  },
  {
   "cell_type": "markdown",
   "metadata": {},
   "source": [
    "# Split train set, test set"
   ]
  },
  {
   "cell_type": "code",
   "execution_count": 21,
   "metadata": {},
   "outputs": [
    {
     "data": {
      "text/plain": [
       "'\\nfrom sklearn.model_selection import train_test_split\\n\\ndf_train, df_test = train_test_split(df, test_size=0.1, random_state=42)\\ndf_train = df_train.copy()\\ndf_test = df_test.copy()\\n\\nif (SAMPLED_DATA == True):\\n    df_train = df_train.sample(NB_SAMPLES).copy(deep=True)\\n    df = df.loc[df_train.index]\\n'"
      ]
     },
     "execution_count": 21,
     "metadata": {},
     "output_type": "execute_result"
    }
   ],
   "source": [
    "df, df_train, df_test = custom_train_test_split_sample(df)\n",
    "\n",
    "'''\n",
    "from sklearn.model_selection import train_test_split\n",
    "\n",
    "df_train, df_test = train_test_split(df, test_size=0.1, random_state=42)\n",
    "df_train = df_train.copy()\n",
    "df_test = df_test.copy()\n",
    "\n",
    "if (SAMPLED_DATA == True):\n",
    "    df_train = df_train.sample(NB_SAMPLES).copy(deep=True)\n",
    "    df = df.loc[df_train.index]\n",
    "'''"
   ]
  },
  {
   "cell_type": "code",
   "execution_count": 22,
   "metadata": {},
   "outputs": [
    {
     "data": {
      "text/html": [
       "<div>\n",
       "<style scoped>\n",
       "    .dataframe tbody tr th:only-of-type {\n",
       "        vertical-align: middle;\n",
       "    }\n",
       "\n",
       "    .dataframe tbody tr th {\n",
       "        vertical-align: top;\n",
       "    }\n",
       "\n",
       "    .dataframe thead th {\n",
       "        text-align: right;\n",
       "    }\n",
       "</style>\n",
       "<table border=\"1\" class=\"dataframe\">\n",
       "  <thead>\n",
       "    <tr style=\"text-align: right;\">\n",
       "      <th></th>\n",
       "      <th>ORIGIN</th>\n",
       "      <th>CRS_DEP_TIME</th>\n",
       "      <th>MONTH</th>\n",
       "      <th>DAY_OF_MONTH</th>\n",
       "      <th>DAY_OF_WEEK</th>\n",
       "      <th>UNIQUE_CARRIER</th>\n",
       "      <th>DEST</th>\n",
       "      <th>CRS_ARR_TIME</th>\n",
       "      <th>DISTANCE</th>\n",
       "      <th>CRS_ELAPSED_TIME</th>\n",
       "      <th>ARR_DELAY</th>\n",
       "      <th>DEP_DELAY</th>\n",
       "      <th>TAXI_OUT</th>\n",
       "      <th>TAIL_NUM</th>\n",
       "      <th>NBFLIGHTS_FORDAY_FORAIRPORT</th>\n",
       "      <th>NBFLIGHTS_FORDAYHOUR_FORAIRPORT</th>\n",
       "    </tr>\n",
       "  </thead>\n",
       "  <tbody>\n",
       "    <tr>\n",
       "      <td>1802104</td>\n",
       "      <td>EWR</td>\n",
       "      <td>1340</td>\n",
       "      <td>5</td>\n",
       "      <td>21</td>\n",
       "      <td>6</td>\n",
       "      <td>AA</td>\n",
       "      <td>PHX</td>\n",
       "      <td>1603</td>\n",
       "      <td>2133.0</td>\n",
       "      <td>323.0</td>\n",
       "      <td>4.0</td>\n",
       "      <td>24.0</td>\n",
       "      <td>15.0</td>\n",
       "      <td>N3NDAA</td>\n",
       "      <td>238</td>\n",
       "      <td>14</td>\n",
       "    </tr>\n",
       "    <tr>\n",
       "      <td>5353235</td>\n",
       "      <td>SAN</td>\n",
       "      <td>1546</td>\n",
       "      <td>8</td>\n",
       "      <td>16</td>\n",
       "      <td>2</td>\n",
       "      <td>OO</td>\n",
       "      <td>BOI</td>\n",
       "      <td>1854</td>\n",
       "      <td>749.0</td>\n",
       "      <td>128.0</td>\n",
       "      <td>-5.0</td>\n",
       "      <td>-2.0</td>\n",
       "      <td>10.0</td>\n",
       "      <td>N178SY</td>\n",
       "      <td>229</td>\n",
       "      <td>11</td>\n",
       "    </tr>\n",
       "    <tr>\n",
       "      <td>1778352</td>\n",
       "      <td>LAX</td>\n",
       "      <td>1230</td>\n",
       "      <td>5</td>\n",
       "      <td>9</td>\n",
       "      <td>1</td>\n",
       "      <td>AA</td>\n",
       "      <td>JFK</td>\n",
       "      <td>2109</td>\n",
       "      <td>2475.0</td>\n",
       "      <td>339.0</td>\n",
       "      <td>2.0</td>\n",
       "      <td>0.0</td>\n",
       "      <td>16.0</td>\n",
       "      <td>N791AA</td>\n",
       "      <td>591</td>\n",
       "      <td>33</td>\n",
       "    </tr>\n",
       "    <tr>\n",
       "      <td>4923518</td>\n",
       "      <td>IAD</td>\n",
       "      <td>1235</td>\n",
       "      <td>11</td>\n",
       "      <td>23</td>\n",
       "      <td>3</td>\n",
       "      <td>UA</td>\n",
       "      <td>ORD</td>\n",
       "      <td>1338</td>\n",
       "      <td>588.0</td>\n",
       "      <td>123.0</td>\n",
       "      <td>-3.0</td>\n",
       "      <td>1.0</td>\n",
       "      <td>13.0</td>\n",
       "      <td>N18243</td>\n",
       "      <td>108</td>\n",
       "      <td>10</td>\n",
       "    </tr>\n",
       "    <tr>\n",
       "      <td>2470767</td>\n",
       "      <td>LAS</td>\n",
       "      <td>1045</td>\n",
       "      <td>3</td>\n",
       "      <td>1</td>\n",
       "      <td>2</td>\n",
       "      <td>WN</td>\n",
       "      <td>MCI</td>\n",
       "      <td>1525</td>\n",
       "      <td>1139.0</td>\n",
       "      <td>160.0</td>\n",
       "      <td>-7.0</td>\n",
       "      <td>-3.0</td>\n",
       "      <td>11.0</td>\n",
       "      <td>N8601C</td>\n",
       "      <td>449</td>\n",
       "      <td>34</td>\n",
       "    </tr>\n",
       "    <tr>\n",
       "      <td>...</td>\n",
       "      <td>...</td>\n",
       "      <td>...</td>\n",
       "      <td>...</td>\n",
       "      <td>...</td>\n",
       "      <td>...</td>\n",
       "      <td>...</td>\n",
       "      <td>...</td>\n",
       "      <td>...</td>\n",
       "      <td>...</td>\n",
       "      <td>...</td>\n",
       "      <td>...</td>\n",
       "      <td>...</td>\n",
       "      <td>...</td>\n",
       "      <td>...</td>\n",
       "      <td>...</td>\n",
       "      <td>...</td>\n",
       "    </tr>\n",
       "    <tr>\n",
       "      <td>2964919</td>\n",
       "      <td>SMF</td>\n",
       "      <td>0957</td>\n",
       "      <td>2</td>\n",
       "      <td>6</td>\n",
       "      <td>6</td>\n",
       "      <td>AA</td>\n",
       "      <td>PHX</td>\n",
       "      <td>1241</td>\n",
       "      <td>647.0</td>\n",
       "      <td>104.0</td>\n",
       "      <td>-2.0</td>\n",
       "      <td>-2.0</td>\n",
       "      <td>10.0</td>\n",
       "      <td>N836AW</td>\n",
       "      <td>70</td>\n",
       "      <td>4</td>\n",
       "    </tr>\n",
       "    <tr>\n",
       "      <td>2348397</td>\n",
       "      <td>ATL</td>\n",
       "      <td>1937</td>\n",
       "      <td>3</td>\n",
       "      <td>1</td>\n",
       "      <td>2</td>\n",
       "      <td>DL</td>\n",
       "      <td>MKE</td>\n",
       "      <td>2050</td>\n",
       "      <td>669.0</td>\n",
       "      <td>133.0</td>\n",
       "      <td>-8.0</td>\n",
       "      <td>-3.0</td>\n",
       "      <td>27.0</td>\n",
       "      <td>N951DN</td>\n",
       "      <td>1782</td>\n",
       "      <td>164</td>\n",
       "    </tr>\n",
       "    <tr>\n",
       "      <td>231953</td>\n",
       "      <td>OGG</td>\n",
       "      <td>1335</td>\n",
       "      <td>9</td>\n",
       "      <td>18</td>\n",
       "      <td>7</td>\n",
       "      <td>VX</td>\n",
       "      <td>LAX</td>\n",
       "      <td>2150</td>\n",
       "      <td>2486.0</td>\n",
       "      <td>315.0</td>\n",
       "      <td>40.0</td>\n",
       "      <td>44.0</td>\n",
       "      <td>8.0</td>\n",
       "      <td>N284VA</td>\n",
       "      <td>63</td>\n",
       "      <td>7</td>\n",
       "    </tr>\n",
       "    <tr>\n",
       "      <td>173151</td>\n",
       "      <td>LAX</td>\n",
       "      <td>0815</td>\n",
       "      <td>9</td>\n",
       "      <td>27</td>\n",
       "      <td>2</td>\n",
       "      <td>OO</td>\n",
       "      <td>SMF</td>\n",
       "      <td>0950</td>\n",
       "      <td>373.0</td>\n",
       "      <td>95.0</td>\n",
       "      <td>-14.0</td>\n",
       "      <td>-5.0</td>\n",
       "      <td>25.0</td>\n",
       "      <td>N805SK</td>\n",
       "      <td>591</td>\n",
       "      <td>49</td>\n",
       "    </tr>\n",
       "    <tr>\n",
       "      <td>1616932</td>\n",
       "      <td>MDW</td>\n",
       "      <td>1950</td>\n",
       "      <td>5</td>\n",
       "      <td>20</td>\n",
       "      <td>5</td>\n",
       "      <td>WN</td>\n",
       "      <td>SEA</td>\n",
       "      <td>2215</td>\n",
       "      <td>1733.0</td>\n",
       "      <td>265.0</td>\n",
       "      <td>-11.0</td>\n",
       "      <td>-2.0</td>\n",
       "      <td>18.0</td>\n",
       "      <td>N8320J</td>\n",
       "      <td>255</td>\n",
       "      <td>22</td>\n",
       "    </tr>\n",
       "  </tbody>\n",
       "</table>\n",
       "<p>720000 rows × 16 columns</p>\n",
       "</div>"
      ],
      "text/plain": [
       "        ORIGIN CRS_DEP_TIME  MONTH  DAY_OF_MONTH  DAY_OF_WEEK UNIQUE_CARRIER  \\\n",
       "1802104    EWR         1340      5            21            6             AA   \n",
       "5353235    SAN         1546      8            16            2             OO   \n",
       "1778352    LAX         1230      5             9            1             AA   \n",
       "4923518    IAD         1235     11            23            3             UA   \n",
       "2470767    LAS         1045      3             1            2             WN   \n",
       "...        ...          ...    ...           ...          ...            ...   \n",
       "2964919    SMF         0957      2             6            6             AA   \n",
       "2348397    ATL         1937      3             1            2             DL   \n",
       "231953     OGG         1335      9            18            7             VX   \n",
       "173151     LAX         0815      9            27            2             OO   \n",
       "1616932    MDW         1950      5            20            5             WN   \n",
       "\n",
       "        DEST CRS_ARR_TIME  DISTANCE  CRS_ELAPSED_TIME  ARR_DELAY  DEP_DELAY  \\\n",
       "1802104  PHX         1603    2133.0             323.0        4.0       24.0   \n",
       "5353235  BOI         1854     749.0             128.0       -5.0       -2.0   \n",
       "1778352  JFK         2109    2475.0             339.0        2.0        0.0   \n",
       "4923518  ORD         1338     588.0             123.0       -3.0        1.0   \n",
       "2470767  MCI         1525    1139.0             160.0       -7.0       -3.0   \n",
       "...      ...          ...       ...               ...        ...        ...   \n",
       "2964919  PHX         1241     647.0             104.0       -2.0       -2.0   \n",
       "2348397  MKE         2050     669.0             133.0       -8.0       -3.0   \n",
       "231953   LAX         2150    2486.0             315.0       40.0       44.0   \n",
       "173151   SMF         0950     373.0              95.0      -14.0       -5.0   \n",
       "1616932  SEA         2215    1733.0             265.0      -11.0       -2.0   \n",
       "\n",
       "         TAXI_OUT TAIL_NUM  NBFLIGHTS_FORDAY_FORAIRPORT  \\\n",
       "1802104      15.0   N3NDAA                          238   \n",
       "5353235      10.0   N178SY                          229   \n",
       "1778352      16.0   N791AA                          591   \n",
       "4923518      13.0   N18243                          108   \n",
       "2470767      11.0   N8601C                          449   \n",
       "...           ...      ...                          ...   \n",
       "2964919      10.0   N836AW                           70   \n",
       "2348397      27.0   N951DN                         1782   \n",
       "231953        8.0   N284VA                           63   \n",
       "173151       25.0   N805SK                          591   \n",
       "1616932      18.0   N8320J                          255   \n",
       "\n",
       "         NBFLIGHTS_FORDAYHOUR_FORAIRPORT  \n",
       "1802104                               14  \n",
       "5353235                               11  \n",
       "1778352                               33  \n",
       "4923518                               10  \n",
       "2470767                               34  \n",
       "...                                  ...  \n",
       "2964919                                4  \n",
       "2348397                              164  \n",
       "231953                                 7  \n",
       "173151                                49  \n",
       "1616932                               22  \n",
       "\n",
       "[720000 rows x 16 columns]"
      ]
     },
     "execution_count": 22,
     "metadata": {},
     "output_type": "execute_result"
    }
   ],
   "source": [
    "df_train"
   ]
  },
  {
   "cell_type": "code",
   "execution_count": 23,
   "metadata": {},
   "outputs": [
    {
     "data": {
      "text/html": [
       "<div>\n",
       "<style scoped>\n",
       "    .dataframe tbody tr th:only-of-type {\n",
       "        vertical-align: middle;\n",
       "    }\n",
       "\n",
       "    .dataframe tbody tr th {\n",
       "        vertical-align: top;\n",
       "    }\n",
       "\n",
       "    .dataframe thead th {\n",
       "        text-align: right;\n",
       "    }\n",
       "</style>\n",
       "<table border=\"1\" class=\"dataframe\">\n",
       "  <thead>\n",
       "    <tr style=\"text-align: right;\">\n",
       "      <th></th>\n",
       "      <th>ARR_DELAY</th>\n",
       "    </tr>\n",
       "    <tr>\n",
       "      <th>UNIQUE_CARRIER</th>\n",
       "      <th></th>\n",
       "    </tr>\n",
       "  </thead>\n",
       "  <tbody>\n",
       "    <tr>\n",
       "      <td>DL</td>\n",
       "      <td>-3.140095</td>\n",
       "    </tr>\n",
       "    <tr>\n",
       "      <td>AS</td>\n",
       "      <td>-2.068383</td>\n",
       "    </tr>\n",
       "    <tr>\n",
       "      <td>UA</td>\n",
       "      <td>-0.642630</td>\n",
       "    </tr>\n",
       "    <tr>\n",
       "      <td>HA</td>\n",
       "      <td>-0.626512</td>\n",
       "    </tr>\n",
       "    <tr>\n",
       "      <td>OO</td>\n",
       "      <td>0.860014</td>\n",
       "    </tr>\n",
       "    <tr>\n",
       "      <td>EV</td>\n",
       "      <td>1.480369</td>\n",
       "    </tr>\n",
       "    <tr>\n",
       "      <td>WN</td>\n",
       "      <td>2.685667</td>\n",
       "    </tr>\n",
       "    <tr>\n",
       "      <td>AA</td>\n",
       "      <td>2.745492</td>\n",
       "    </tr>\n",
       "    <tr>\n",
       "      <td>F9</td>\n",
       "      <td>3.390160</td>\n",
       "    </tr>\n",
       "    <tr>\n",
       "      <td>B6</td>\n",
       "      <td>4.806114</td>\n",
       "    </tr>\n",
       "    <tr>\n",
       "      <td>NK</td>\n",
       "      <td>6.084634</td>\n",
       "    </tr>\n",
       "    <tr>\n",
       "      <td>VX</td>\n",
       "      <td>6.397207</td>\n",
       "    </tr>\n",
       "  </tbody>\n",
       "</table>\n",
       "</div>"
      ],
      "text/plain": [
       "                ARR_DELAY\n",
       "UNIQUE_CARRIER           \n",
       "DL              -3.140095\n",
       "AS              -2.068383\n",
       "UA              -0.642630\n",
       "HA              -0.626512\n",
       "OO               0.860014\n",
       "EV               1.480369\n",
       "WN               2.685667\n",
       "AA               2.745492\n",
       "F9               3.390160\n",
       "B6               4.806114\n",
       "NK               6.084634\n",
       "VX               6.397207"
      ]
     },
     "execution_count": 23,
     "metadata": {},
     "output_type": "execute_result"
    }
   ],
   "source": [
    "df_train[['ARR_DELAY', 'UNIQUE_CARRIER']].groupby('UNIQUE_CARRIER').mean().sort_values(by='ARR_DELAY', ascending=True)"
   ]
  },
  {
   "cell_type": "code",
   "execution_count": 24,
   "metadata": {},
   "outputs": [
    {
     "data": {
      "text/plain": [
       "<matplotlib.axes._subplots.AxesSubplot at 0x7f29d5daea10>"
      ]
     },
     "execution_count": 24,
     "metadata": {},
     "output_type": "execute_result"
    },
    {
     "data": {
      "image/png": "[encoded data removed]",
      "text/plain": [
       "<Figure size 432x288 with 1 Axes>"
      ]
     },
     "metadata": {
      "needs_background": "light"
     },
     "output_type": "display_data"
    }
   ],
   "source": [
    "df_train[['ARR_DELAY', 'UNIQUE_CARRIER']].groupby('UNIQUE_CARRIER').mean().sort_values(by='ARR_DELAY', ascending=True).plot()"
   ]
  },
  {
   "cell_type": "markdown",
   "metadata": {},
   "source": [
    "# Features encoding"
   ]
  },
  {
   "cell_type": "code",
   "execution_count": 173,
   "metadata": {},
   "outputs": [
    {
     "data": {
      "text/plain": [
       "\"\\nColumnTransformer([\\n        ('standardscaler_specific', StandardScaler(), ['MONTH', 'DAY_OF_MONTH', 'DAY_OF_WEEK', 'DISTANCE', 'CRS_ELAPSED_TIME', 'ARR_DELAY', 'DEP_DELAY', 'TAXI_OUT'])\\n    ], remainder='passthrough')\\n\""
      ]
     },
     "execution_count": 173,
     "metadata": {},
     "output_type": "execute_result"
    }
   ],
   "source": [
    "from sklearn.base import BaseEstimator, TransformerMixin\n",
    "from sklearn.pipeline import Pipeline\n",
    "\n",
    "from sklearn import decomposition\n",
    "from sklearn import preprocessing\n",
    "\n",
    "from sklearn.preprocessing import StandardScaler\n",
    "\n",
    "from sklearn.compose import ColumnTransformer\n",
    "from sklearn.preprocessing import OneHotEncoder\n",
    "\n",
    "import statistics\n",
    "\n",
    "from scipy import sparse\n",
    "\n",
    "'''\n",
    "Cette fonction fait un 1 hot encoding des features qui sont des catégories\n",
    "Old function not used anymore\n",
    "'''\n",
    "    \n",
    "def add_categorical_features_1hot(df, categorical_features_totransform):\n",
    "    #df.drop(labels=categorical_features_totransform, axis=1, inplace=True)\n",
    "    \n",
    "    \n",
    "    #df_encoded = pd.get_dummies(df, columns=categorical_features_totransform, sparse=True)\n",
    "    \n",
    "    for feature_totransform in categorical_features_totransform:\n",
    "        print(f'Adding 1hot Feature : {feature_totransform}')\n",
    "        \n",
    "        print('First')\n",
    "        df_transformed = df[feature_totransform].str.get_dummies().add_prefix(feature_totransform +'_')   \n",
    "        \n",
    "        #df_new = pd.get_dummies(df, columns=['ORIGIN'])\n",
    "        \n",
    "        \n",
    "        \n",
    "        \n",
    "        #df.drop(labels=feature_totransform, axis=1, inplace=True)\n",
    "        print('Second')\n",
    "        del df[feature_totransform]\n",
    "        \n",
    "        print('Third')\n",
    "        df = pd.concat([df, df_transformed], axis=1)\n",
    "        \n",
    "    return(df)\n",
    "\n",
    "\n",
    "class HHMM_to_Minutes(BaseEstimator, TransformerMixin):\n",
    "    def __init__(self, features_toconvert = ['CRS_DEP_TIME', 'CRS_ARR_TIME']):\n",
    "        self.features_toconvert = features_toconvert\n",
    "        return None\n",
    "    \n",
    "    def fit(self, df):      \n",
    "        return self\n",
    "    \n",
    "    def transform(self, df):       \n",
    "        for feature_toconvert in self.features_toconvert:\n",
    "            print(f'Converting feature {feature_toconvert}\\n')\n",
    "            #print('1\\n')\n",
    "            df_concat = pd.concat([df[feature_toconvert].str.slice(start=0,stop=2, step=1),df[feature_toconvert].str.slice(start=2,stop=4, step=1)], axis=1).astype(int).copy(deep=True)\n",
    "                    \n",
    "            #print('2\\n')\n",
    "            df[feature_toconvert] = (df_concat.iloc[:, [0]] * 60 + df_concat.iloc[:, [1]])[feature_toconvert]\n",
    "            \n",
    "            #print('3\\n')\n",
    "        \n",
    "        return(df)\n",
    "\n",
    "    \n",
    "'''\n",
    "class CategoricalFeatures1HotEncoder_old(BaseEstimator, TransformerMixin):\n",
    "    def __init__(self, categorical_features_totransform=['ORIGIN', 'UNIQUE_CARRIER', 'DEST']):\n",
    "        self.categorical_features_totransform = categorical_features_totransform\n",
    "    \n",
    "    def fit(self, df, labels=None):      \n",
    "        return self\n",
    "    \n",
    "    def transform(self, df):\n",
    "        # /!\\ Array will not have the same shape if we fit an ensemble of samples that have less values than total dataset\n",
    "        df_encoded = pd.get_dummies(df, columns=self.categorical_features_totransform, sparse=True)  # Sparse allows to gain memory. But then, standardscale must be with_mean=False\n",
    "        #df_encoded = pd.get_dummies(df, columns=self.categorical_features_totransform, sparse=False)\n",
    "        print('type of df : ' + str(type(df_encoded)))\n",
    "        return(df_encoded)\n",
    "'''\n",
    "\n",
    "class CategoricalFeatures1HotEncoder(BaseEstimator, TransformerMixin):\n",
    "    #def __init__(self, categorical_features_totransform=['ORIGIN', 'UNIQUE_CARRIER', 'DEST']):\n",
    "    def __init__(self):\n",
    "        #self.categorical_features_totransform = categorical_features_totransform\n",
    "        self.fitted = False\n",
    "        self.all_feature_values = {}\n",
    "        #self.df_encoded = None\n",
    "    \n",
    "    #def fit(self, df, labels=None):      \n",
    "    def fit(self, df, categorical_features_totransform=['ORIGIN', 'UNIQUE_CARRIER', 'DEST']):      \n",
    "        print('Fit data')\n",
    "        self.categorical_features_totransform = categorical_features_totransform\n",
    "        print('!! categorical_features_totransform' + str(self.categorical_features_totransform))\n",
    "\n",
    "        if (self.categorical_features_totransform != None):\n",
    "            for feature_name in self.categorical_features_totransform:\n",
    "                df[feature_name] = df[feature_name].astype(str) # Convert features to str in case they are not already     \n",
    "                self.all_feature_values[feature_name] = feature_name + '_' + df[feature_name].unique()\n",
    "        \n",
    "        self.fitted = True\n",
    "        \n",
    "        return self\n",
    "    \n",
    "    def transform(self, df):\n",
    "        if (self.fitted == False):\n",
    "            self.fit(df)\n",
    "        \n",
    "        if (self.categorical_features_totransform != None):\n",
    "            print('Transform data')\n",
    "            \n",
    "            print('1hot encode categorical features...')\n",
    "            df_encoded = pd.get_dummies(df, columns=self.categorical_features_totransform, sparse=True)  # Sparse allows to gain memory. But then, standardscale must be with_mean=False\n",
    "            #df_encoded = pd.get_dummies(df, columns=self.categorical_features_totransform, sparse=False)\n",
    "\n",
    "            # Get category values that were in fitted data, but that are not in data to transform \n",
    "            for feature_name, feature_values in self.all_feature_values.items():\n",
    "                diff_columns = list(set(feature_values) - set(df_encoded.columns.tolist()))\n",
    "                print(f'Column values that were in fitted data but not in current data: {diff_columns}')\n",
    "\n",
    "                if (len(diff_columns) > 0):\n",
    "                    print('Adding those column with 0 values to the DataFrme...')\n",
    "                    # Create columns with 0 for the above categories, in order to preserve same matrix shape between train et test set\n",
    "                    zeros_dict = dict.fromkeys(diff_columns, 0)\n",
    "                    df_encoded.assign(**zeros_dict)\n",
    "\n",
    "            print('type of df : ' + str(type(df_encoded)))\n",
    "            return(df_encoded)\n",
    "\n",
    "        else:\n",
    "            return(df)\n",
    "\n",
    "class Aggregate_then_GroupByMean_then_Sort_numericalEncoder(BaseEstimator, TransformerMixin):\n",
    "    def __init__(self, categorical_features_totransform=['ORIGIN', 'UNIQUE_CARRIER', 'DEST']):\n",
    "        self.categorical_features_totransform = categorical_features_totransform\n",
    "        self.fitted = False\n",
    "        self.all_feature_values = {}\n",
    "    \n",
    "    def fit(self, df, labels=None):      \n",
    "        print('Fit data')\n",
    "        \n",
    "        self.feature_maps = {}\n",
    "        \n",
    "        for feature_name in self.categorical_features_totransform:\n",
    "            print(f'Fitting feature {feature_name}')\n",
    "            # List all feature values ordered by mean delay\n",
    "            list_feature_mean_ordered = df[['ARR_DELAY', feature_name]].groupby(feature_name).mean().sort_values(by='ARR_DELAY', ascending=True).index.tolist()\n",
    "            \n",
    "            # Generate a dictionary of feature values as keys and index as values\n",
    "            self.feature_maps[feature_name] = {}\n",
    "            self.feature_maps[feature_name]['list_feature_mean_ordered_dict'] = {list_feature_mean_ordered[i] : i for i in range(len(list_feature_mean_ordered))  }\n",
    "            \n",
    "            #print('Dictionnary : ' + str(self.feature_maps[feature_name]['list_feature_mean_ordered_dict']))\n",
    "            \n",
    "            # BUG : we had to do that line of code in transform instead, not in fit (result is the same, no difference)\n",
    "            #self.feature_maps[feature_name]['list_feature_mean_ordered_mapper'] = lambda k : self.feature_maps[feature_name]['list_feature_mean_ordered_dict'][k]\n",
    "                  \n",
    "        self.fitted = True\n",
    "        \n",
    "        return self\n",
    "    \n",
    "    def transform(self, df):\n",
    "        if (self.fitted == False):\n",
    "            print('Launching fit first (if you see this message : ensure that you have passed training set as input, not test set)')\n",
    "            self.fit(df)\n",
    "        \n",
    "        print('Encode categorical features...')\n",
    "        \n",
    "        for feature_name in self.categorical_features_totransform:\n",
    "            print(f'Encoding feature {feature_name} ...')\n",
    "            #print('Dictionnary : ' + str(self.feature_maps[feature_name]['list_feature_mean_ordered_dict']))\n",
    "            \n",
    "            # Replace each feature value by its index (the lowest the index, the lowest the mean delay is for this feature)\n",
    "            list_feature_mean_ordered_mapper = lambda k : self.feature_maps[feature_name]['list_feature_mean_ordered_dict'][k]\n",
    "                            \n",
    "            #df[feature_name] = df.loc[:, feature_name].apply(self.feature_maps[feature_name]['list_feature_mean_ordered_mapper'])  # BUG (we had to use line below instead)\n",
    "            df[feature_name] = df.loc[:, feature_name].apply(list_feature_mean_ordered_mapper)\n",
    "\n",
    "        return(df)\n",
    "    \n",
    "    \n",
    "class FeaturesSelector(BaseEstimator, TransformerMixin):\n",
    "    def __init__(self, features_toselect = None):  # If None : every column is kept, nothing is done\n",
    "        self.features_toselect = features_toselect\n",
    "    \n",
    "    def fit(self, df, labels=None):      \n",
    "        return self\n",
    "    \n",
    "    def transform(self, df):       \n",
    "        if (self.features_toselect != None):\n",
    "            filter_cols = [col for col in df if (col.startswith(tuple(self.features_toselect)))]\n",
    "            \n",
    "            filter_cols.sort()\n",
    "            \n",
    "            print(\"Features selected (in order): \" + str(df[filter_cols].columns))\n",
    "            \n",
    "            return(df[filter_cols])    \n",
    "\n",
    "        else:\n",
    "            return(df)\n",
    "\n",
    "'''\n",
    "In order have less features globally: we Keep only features_tofilter that represent percent_tokeep% of total values\n",
    "Features which values represent less than percent_tokeep% will be set \"OTHERS\" value instead of their real value\n",
    "'''\n",
    "\n",
    "class Filter_High_Percentile(BaseEstimator, TransformerMixin):\n",
    "    def __init__(self, features_tofilter = ['ORIGIN', 'DEST'], percent_tokeep = 80):\n",
    "        self.features_tofilter = features_tofilter\n",
    "        self.percent_tokeep = percent_tokeep\n",
    "        self.high_percentile = None\n",
    "        self.low_percentile = None\n",
    "    \n",
    "    def fit(self, df, labels=None): \n",
    "        print('Fit high percentile filter...')\n",
    "        for feature_tofilter in self.features_tofilter:\n",
    "            # Get feature_tofilter values that represent 80% of data\n",
    "            self.high_percentile = ((((df[[feature_tofilter]].groupby(feature_tofilter).size() / len(df)).sort_values(ascending=False)) * 100).cumsum() < self.percent_tokeep).where(lambda x : x == True).dropna().index.values.tolist()\n",
    "            self.low_percentile = ((((df[[feature_tofilter]].groupby(feature_tofilter).size() / len(df)).sort_values(ascending=False)) * 100).cumsum() >= self.percent_tokeep).where(lambda x : x == True).dropna().index.values.tolist()\n",
    "\n",
    "            total = len(df[feature_tofilter].unique())\n",
    "            high_percentile_sum = len(self.high_percentile)\n",
    "            low_percentile_sum = len(self.low_percentile)\n",
    "            high_low_sum = high_percentile_sum + low_percentile_sum\n",
    "\n",
    "            print(f'Total number of {feature_tofilter} values : {total}')\n",
    "            print(f'Number of {feature_tofilter} high percentile (> {self.percent_tokeep}%) values : {high_percentile_sum}')\n",
    "            print(f'Number of {feature_tofilter} low percentile values : {low_percentile_sum}')\n",
    "            print(f'Sum of high percentile + low percentile values : {high_low_sum}')\n",
    "        \n",
    "        return self\n",
    "    \n",
    "    def transform(self, df):       \n",
    "        if (self.features_tofilter != None):\n",
    "            print('Apply high percentile filter...')\n",
    "            \n",
    "            for feature_tofilter in self.features_tofilter:\n",
    "                df.loc[df[feature_tofilter].isin(self.low_percentile), feature_tofilter] = 'OTHERS'   \n",
    "            \n",
    "            return(df)    \n",
    "\n",
    "        else:\n",
    "            return(df)\n",
    "        \n",
    "\n",
    "    \n",
    "class DenseToSparseConverter(BaseEstimator, TransformerMixin):\n",
    "    def __init__(self):  # If None : every column is kept, nothing is done\n",
    "        return None\n",
    "    \n",
    "    def fit(self, matrix, labels=None):      \n",
    "        return self\n",
    "    \n",
    "    def transform(self, matrix):   \n",
    "        return(sparse.csr_matrix(matrix))\n",
    "\n",
    "    \n",
    "'''\n",
    "This class adds polynomial features in univariate way  (if feature X and n_degree 3 :  then it will add X², X³, and an intercept at the end)\n",
    "'''    \n",
    "class PolynomialFeaturesUnivariateAdder(BaseEstimator, TransformerMixin):\n",
    "    def __init__(self, n_degrees=2):\n",
    "        self.n_degrees = n_degrees\n",
    "        self.fitted = False\n",
    "    \n",
    "    def fit(self, df, labels=None):              \n",
    "        return self\n",
    "    \n",
    "    def transform(self, df):\n",
    "        if (self.fitted == False):\n",
    "            self.fit(df)\n",
    "\n",
    "        nb_instances, n_features = df.shape\n",
    "        df_poly = np.empty((nb_instances, 0)) # Create empty array of nb_instances line and 0 features yet (we'll concatenate polynomial features to it)\n",
    "\n",
    "        progbar = tqdm(range(n_features))\n",
    "        print('Adding polynomial features')\n",
    "\n",
    "        for feature_index in range(n_features):    \n",
    "            df_1feature = df[:,feature_index]  # Reshape \n",
    "\n",
    "            for n_degree in range(self.n_degrees):\n",
    "                df_poly = np.c_[df_poly, np.power(df_1feature, n_degree + 1)]\n",
    "\n",
    "            progbar.update(1)\n",
    "\n",
    "        # Add bias (intercept)\n",
    "        df_poly = np.c_[df_poly, np.ones((len(df_poly), 1))]  # add x0 = 1 feature        \n",
    "        \n",
    "        return(df_poly)\n",
    "        \n",
    "    \n",
    "\n",
    "        \n",
    "'''\n",
    "conversion_pipeline = Pipeline([\n",
    "    ('data_converter', HHMM_to_Minutes()),\n",
    "    #('categoricalfeatures_1hotencoder', CategoricalFeatures1HotEncoder()),\n",
    "    #('standardscaler', preprocessing.StandardScaler()),\n",
    "])\n",
    "'''\n",
    "\n",
    "preparation_pipeline = Pipeline([\n",
    "    ('filter_highpercentile', Filter_High_Percentile()),\n",
    "    ('data_converter', HHMM_to_Minutes()),\n",
    "    ('categoricalfeatures_1hotencoder', CategoricalFeatures1HotEncoder()),\n",
    "    #('standardscaler', preprocessing.StandardScaler()),\n",
    "])\n",
    "\n",
    "\n",
    "'''\n",
    "preparation_pipeline_meansort = Pipeline([\n",
    "    #('filter_highpercentile', Filter_High_Percentile()),\n",
    "    ('data_converter', HHMM_to_Minutes()),\n",
    "    ('numericalEncoder', Aggregate_then_GroupByMean_then_Sort_numericalEncoder()),\n",
    "    #('standardscaler', preprocessing.StandardScaler()),\n",
    "])\n",
    "'''\n",
    "\n",
    "preparation_pipeline_meansort = Pipeline([\n",
    "    #('filter_highpercentile', Filter_High_Percentile()),\n",
    "    ('data_converter', HHMM_to_Minutes()),\n",
    "    ('numericalEncoder', Aggregate_then_GroupByMean_then_Sort_numericalEncoder()),\n",
    "    ('categoricalfeatures_1hotencoder', CategoricalFeatures1HotEncoder()),\n",
    "    #('standardscaler', preprocessing.StandardScaler()),\n",
    "])\n",
    "\n",
    "\n",
    "# If matrix is sparse, with_mean=False must be passed to StandardScaler\n",
    "prediction_pipeline = Pipeline([\n",
    "    ('features_selector', FeaturesSelector(features_toselect=MODEL1_FEATURES)),\n",
    "    ('standardscaler', ColumnTransformer([\n",
    "        ('standardscaler_specific', StandardScaler(), MODEL1_FEATURES_QUANTITATIVE)\n",
    "    ], remainder='passthrough', sparse_threshold=1)),\n",
    "    \n",
    "    ('dense_to_sparse_converter', DenseToSparseConverter()),\n",
    "    #('predictor', To_Complete(predictor_params =  {'n_neighbors':6, 'algorithm':'ball_tree', 'metric':'minkowski'})),\n",
    "])\n",
    "#copy=False passed to StandardScaler() allows to gain memory\n",
    "\n",
    "\n",
    "prediction_pipeline_without_sparse = Pipeline([\n",
    "    ('features_selector', FeaturesSelector(features_toselect=MODEL1_FEATURES)),\n",
    "    ('standardscaler', ColumnTransformer([\n",
    "        ('standardscaler_specific', StandardScaler(), MODEL1_FEATURES_QUANTITATIVE)\n",
    "    ], remainder='passthrough', sparse_threshold=1)),\n",
    "    \n",
    "    #('dense_to_sparse_converter', DenseToSparseConverter()),\n",
    "    #('predictor', To_Complete(predictor_params =  {'n_neighbors':6, 'algorithm':'ball_tree', 'metric':'minkowski'})),\n",
    "])\n",
    "\n",
    "prediction_pipeline_1hotall_without_sparse = Pipeline([\n",
    "    ('features_selector', FeaturesSelector(features_toselect=MODEL1_FEATURES)),\n",
    "    ('standardscaler', ColumnTransformer([\n",
    "        ('standardscaler_specific', StandardScaler(), MODEL1bis_FEATURES_QUANTITATIVE)\n",
    "    ], remainder='passthrough', sparse_threshold=1)),\n",
    "    \n",
    "    #('dense_to_sparse_converter', DenseToSparseConverter()),\n",
    "    #('predictor', To_Complete(predictor_params =  {'n_neighbors':6, 'algorithm':'ball_tree', 'metric':'minkowski'})),\n",
    "])\n",
    "\n",
    "prediction_pipeline_cheat_without_sparse = Pipeline([\n",
    "    ('features_selector', FeaturesSelector(features_toselect=MODEL_cheat_FEATURES)),\n",
    "    ('standardscaler', ColumnTransformer([\n",
    "        ('standardscaler_specific', StandardScaler(), MODEL_cheat_FEATURES_QUANTITATIVE)\n",
    "    ], remainder='passthrough', sparse_threshold=1)),\n",
    "    \n",
    "    #('dense_to_sparse_converter', DenseToSparseConverter()),\n",
    "    #('predictor', To_Complete(predictor_params =  {'n_neighbors':6, 'algorithm':'ball_tree', 'metric':'minkowski'})),\n",
    "])\n",
    "\n",
    "\n",
    "\n",
    "'''\n",
    "# Old code that used scikit learn OneHotEncoder (which does not keep DataFrame type) instead of Pandas\n",
    "preparation_pipeline2 = Pipeline([\n",
    "    ('data_converter', HHMM_to_Minutes()),\n",
    "    ('multiple_encoder', ColumnTransformer([\n",
    "        ('categoricalfeatures_1hotencoder', OneHotEncoder(), ['ORIGIN', 'UNIQUE_CARRIER', 'DEST'])\n",
    "    ], remainder='passthrough')),\n",
    "    #('standardscaler', preprocessing.StandardScaler()),\n",
    "])\n",
    "'''\n",
    "\n",
    "'''\n",
    "ColumnTransformer([\n",
    "        ('standardscaler_specific', StandardScaler(), ['MONTH', 'DAY_OF_MONTH', 'DAY_OF_WEEK', 'DISTANCE', 'CRS_ELAPSED_TIME', 'ARR_DELAY', 'DEP_DELAY', 'TAXI_OUT'])\n",
    "    ], remainder='passthrough')\n",
    "'''"
   ]
  },
  {
   "cell_type": "code",
   "execution_count": 26,
   "metadata": {},
   "outputs": [
    {
     "name": "stdout",
     "output_type": "stream",
     "text": [
      "Fit high percentile filter...\n",
      "Total number of ORIGIN values : 308\n",
      "Number of ORIGIN high percentile (> 80%) values : 45\n",
      "Number of ORIGIN low percentile values : 263\n",
      "Sum of high percentile + low percentile values : 308\n",
      "Total number of DEST values : 308\n",
      "Number of DEST high percentile (> 80%) values : 45\n",
      "Number of DEST low percentile values : 263\n",
      "Sum of high percentile + low percentile values : 308\n",
      "Apply high percentile filter...\n",
      "Converting feature CRS_DEP_TIME\n",
      "\n",
      "Converting feature CRS_ARR_TIME\n",
      "\n",
      "Fit data\n",
      "!! categorical_features_totransform['ORIGIN', 'UNIQUE_CARRIER', 'DEST']\n",
      "Transform data\n",
      "1hot encode categorical features...\n",
      "Column values that were in fitted data but not in current data: []\n",
      "Column values that were in fitted data but not in current data: []\n",
      "Column values that were in fitted data but not in current data: []\n",
      "type of df : <class 'pandas.core.frame.DataFrame'>\n"
     ]
    }
   ],
   "source": [
    "df_train_transformed = preparation_pipeline.fit_transform(df_train)"
   ]
  },
  {
   "cell_type": "code",
   "execution_count": 27,
   "metadata": {},
   "outputs": [
    {
     "data": {
      "text/html": [
       "<div>\n",
       "<style scoped>\n",
       "    .dataframe tbody tr th:only-of-type {\n",
       "        vertical-align: middle;\n",
       "    }\n",
       "\n",
       "    .dataframe tbody tr th {\n",
       "        vertical-align: top;\n",
       "    }\n",
       "\n",
       "    .dataframe thead th {\n",
       "        text-align: right;\n",
       "    }\n",
       "</style>\n",
       "<table border=\"1\" class=\"dataframe\">\n",
       "  <thead>\n",
       "    <tr style=\"text-align: right;\">\n",
       "      <th></th>\n",
       "      <th>CRS_DEP_TIME</th>\n",
       "      <th>MONTH</th>\n",
       "      <th>DAY_OF_MONTH</th>\n",
       "      <th>DAY_OF_WEEK</th>\n",
       "      <th>CRS_ARR_TIME</th>\n",
       "      <th>DISTANCE</th>\n",
       "      <th>CRS_ELAPSED_TIME</th>\n",
       "      <th>ARR_DELAY</th>\n",
       "      <th>DEP_DELAY</th>\n",
       "      <th>TAXI_OUT</th>\n",
       "      <th>...</th>\n",
       "      <th>DEST_SAN</th>\n",
       "      <th>DEST_SAT</th>\n",
       "      <th>DEST_SEA</th>\n",
       "      <th>DEST_SFO</th>\n",
       "      <th>DEST_SJC</th>\n",
       "      <th>DEST_SLC</th>\n",
       "      <th>DEST_SMF</th>\n",
       "      <th>DEST_SNA</th>\n",
       "      <th>DEST_STL</th>\n",
       "      <th>DEST_TPA</th>\n",
       "    </tr>\n",
       "  </thead>\n",
       "  <tbody>\n",
       "    <tr>\n",
       "      <td>1802104</td>\n",
       "      <td>820</td>\n",
       "      <td>5</td>\n",
       "      <td>21</td>\n",
       "      <td>6</td>\n",
       "      <td>963</td>\n",
       "      <td>2133.0</td>\n",
       "      <td>323.0</td>\n",
       "      <td>4.0</td>\n",
       "      <td>24.0</td>\n",
       "      <td>15.0</td>\n",
       "      <td>...</td>\n",
       "      <td>0</td>\n",
       "      <td>0</td>\n",
       "      <td>0</td>\n",
       "      <td>0</td>\n",
       "      <td>0</td>\n",
       "      <td>0</td>\n",
       "      <td>0</td>\n",
       "      <td>0</td>\n",
       "      <td>0</td>\n",
       "      <td>0</td>\n",
       "    </tr>\n",
       "    <tr>\n",
       "      <td>5353235</td>\n",
       "      <td>946</td>\n",
       "      <td>8</td>\n",
       "      <td>16</td>\n",
       "      <td>2</td>\n",
       "      <td>1134</td>\n",
       "      <td>749.0</td>\n",
       "      <td>128.0</td>\n",
       "      <td>-5.0</td>\n",
       "      <td>-2.0</td>\n",
       "      <td>10.0</td>\n",
       "      <td>...</td>\n",
       "      <td>0</td>\n",
       "      <td>0</td>\n",
       "      <td>0</td>\n",
       "      <td>0</td>\n",
       "      <td>0</td>\n",
       "      <td>0</td>\n",
       "      <td>0</td>\n",
       "      <td>0</td>\n",
       "      <td>0</td>\n",
       "      <td>0</td>\n",
       "    </tr>\n",
       "    <tr>\n",
       "      <td>1778352</td>\n",
       "      <td>750</td>\n",
       "      <td>5</td>\n",
       "      <td>9</td>\n",
       "      <td>1</td>\n",
       "      <td>1269</td>\n",
       "      <td>2475.0</td>\n",
       "      <td>339.0</td>\n",
       "      <td>2.0</td>\n",
       "      <td>0.0</td>\n",
       "      <td>16.0</td>\n",
       "      <td>...</td>\n",
       "      <td>0</td>\n",
       "      <td>0</td>\n",
       "      <td>0</td>\n",
       "      <td>0</td>\n",
       "      <td>0</td>\n",
       "      <td>0</td>\n",
       "      <td>0</td>\n",
       "      <td>0</td>\n",
       "      <td>0</td>\n",
       "      <td>0</td>\n",
       "    </tr>\n",
       "    <tr>\n",
       "      <td>4923518</td>\n",
       "      <td>755</td>\n",
       "      <td>11</td>\n",
       "      <td>23</td>\n",
       "      <td>3</td>\n",
       "      <td>818</td>\n",
       "      <td>588.0</td>\n",
       "      <td>123.0</td>\n",
       "      <td>-3.0</td>\n",
       "      <td>1.0</td>\n",
       "      <td>13.0</td>\n",
       "      <td>...</td>\n",
       "      <td>0</td>\n",
       "      <td>0</td>\n",
       "      <td>0</td>\n",
       "      <td>0</td>\n",
       "      <td>0</td>\n",
       "      <td>0</td>\n",
       "      <td>0</td>\n",
       "      <td>0</td>\n",
       "      <td>0</td>\n",
       "      <td>0</td>\n",
       "    </tr>\n",
       "    <tr>\n",
       "      <td>2470767</td>\n",
       "      <td>645</td>\n",
       "      <td>3</td>\n",
       "      <td>1</td>\n",
       "      <td>2</td>\n",
       "      <td>925</td>\n",
       "      <td>1139.0</td>\n",
       "      <td>160.0</td>\n",
       "      <td>-7.0</td>\n",
       "      <td>-3.0</td>\n",
       "      <td>11.0</td>\n",
       "      <td>...</td>\n",
       "      <td>0</td>\n",
       "      <td>0</td>\n",
       "      <td>0</td>\n",
       "      <td>0</td>\n",
       "      <td>0</td>\n",
       "      <td>0</td>\n",
       "      <td>0</td>\n",
       "      <td>0</td>\n",
       "      <td>0</td>\n",
       "      <td>0</td>\n",
       "    </tr>\n",
       "    <tr>\n",
       "      <td>...</td>\n",
       "      <td>...</td>\n",
       "      <td>...</td>\n",
       "      <td>...</td>\n",
       "      <td>...</td>\n",
       "      <td>...</td>\n",
       "      <td>...</td>\n",
       "      <td>...</td>\n",
       "      <td>...</td>\n",
       "      <td>...</td>\n",
       "      <td>...</td>\n",
       "      <td>...</td>\n",
       "      <td>...</td>\n",
       "      <td>...</td>\n",
       "      <td>...</td>\n",
       "      <td>...</td>\n",
       "      <td>...</td>\n",
       "      <td>...</td>\n",
       "      <td>...</td>\n",
       "      <td>...</td>\n",
       "      <td>...</td>\n",
       "      <td>...</td>\n",
       "    </tr>\n",
       "    <tr>\n",
       "      <td>2964919</td>\n",
       "      <td>597</td>\n",
       "      <td>2</td>\n",
       "      <td>6</td>\n",
       "      <td>6</td>\n",
       "      <td>761</td>\n",
       "      <td>647.0</td>\n",
       "      <td>104.0</td>\n",
       "      <td>-2.0</td>\n",
       "      <td>-2.0</td>\n",
       "      <td>10.0</td>\n",
       "      <td>...</td>\n",
       "      <td>0</td>\n",
       "      <td>0</td>\n",
       "      <td>0</td>\n",
       "      <td>0</td>\n",
       "      <td>0</td>\n",
       "      <td>0</td>\n",
       "      <td>0</td>\n",
       "      <td>0</td>\n",
       "      <td>0</td>\n",
       "      <td>0</td>\n",
       "    </tr>\n",
       "    <tr>\n",
       "      <td>2348397</td>\n",
       "      <td>1177</td>\n",
       "      <td>3</td>\n",
       "      <td>1</td>\n",
       "      <td>2</td>\n",
       "      <td>1250</td>\n",
       "      <td>669.0</td>\n",
       "      <td>133.0</td>\n",
       "      <td>-8.0</td>\n",
       "      <td>-3.0</td>\n",
       "      <td>27.0</td>\n",
       "      <td>...</td>\n",
       "      <td>0</td>\n",
       "      <td>0</td>\n",
       "      <td>0</td>\n",
       "      <td>0</td>\n",
       "      <td>0</td>\n",
       "      <td>0</td>\n",
       "      <td>0</td>\n",
       "      <td>0</td>\n",
       "      <td>0</td>\n",
       "      <td>0</td>\n",
       "    </tr>\n",
       "    <tr>\n",
       "      <td>231953</td>\n",
       "      <td>815</td>\n",
       "      <td>9</td>\n",
       "      <td>18</td>\n",
       "      <td>7</td>\n",
       "      <td>1310</td>\n",
       "      <td>2486.0</td>\n",
       "      <td>315.0</td>\n",
       "      <td>40.0</td>\n",
       "      <td>44.0</td>\n",
       "      <td>8.0</td>\n",
       "      <td>...</td>\n",
       "      <td>0</td>\n",
       "      <td>0</td>\n",
       "      <td>0</td>\n",
       "      <td>0</td>\n",
       "      <td>0</td>\n",
       "      <td>0</td>\n",
       "      <td>0</td>\n",
       "      <td>0</td>\n",
       "      <td>0</td>\n",
       "      <td>0</td>\n",
       "    </tr>\n",
       "    <tr>\n",
       "      <td>173151</td>\n",
       "      <td>495</td>\n",
       "      <td>9</td>\n",
       "      <td>27</td>\n",
       "      <td>2</td>\n",
       "      <td>590</td>\n",
       "      <td>373.0</td>\n",
       "      <td>95.0</td>\n",
       "      <td>-14.0</td>\n",
       "      <td>-5.0</td>\n",
       "      <td>25.0</td>\n",
       "      <td>...</td>\n",
       "      <td>0</td>\n",
       "      <td>0</td>\n",
       "      <td>0</td>\n",
       "      <td>0</td>\n",
       "      <td>0</td>\n",
       "      <td>0</td>\n",
       "      <td>1</td>\n",
       "      <td>0</td>\n",
       "      <td>0</td>\n",
       "      <td>0</td>\n",
       "    </tr>\n",
       "    <tr>\n",
       "      <td>1616932</td>\n",
       "      <td>1190</td>\n",
       "      <td>5</td>\n",
       "      <td>20</td>\n",
       "      <td>5</td>\n",
       "      <td>1335</td>\n",
       "      <td>1733.0</td>\n",
       "      <td>265.0</td>\n",
       "      <td>-11.0</td>\n",
       "      <td>-2.0</td>\n",
       "      <td>18.0</td>\n",
       "      <td>...</td>\n",
       "      <td>0</td>\n",
       "      <td>0</td>\n",
       "      <td>1</td>\n",
       "      <td>0</td>\n",
       "      <td>0</td>\n",
       "      <td>0</td>\n",
       "      <td>0</td>\n",
       "      <td>0</td>\n",
       "      <td>0</td>\n",
       "      <td>0</td>\n",
       "    </tr>\n",
       "  </tbody>\n",
       "</table>\n",
       "<p>720000 rows × 117 columns</p>\n",
       "</div>"
      ],
      "text/plain": [
       "         CRS_DEP_TIME  MONTH  DAY_OF_MONTH  DAY_OF_WEEK  CRS_ARR_TIME  \\\n",
       "1802104           820      5            21            6           963   \n",
       "5353235           946      8            16            2          1134   \n",
       "1778352           750      5             9            1          1269   \n",
       "4923518           755     11            23            3           818   \n",
       "2470767           645      3             1            2           925   \n",
       "...               ...    ...           ...          ...           ...   \n",
       "2964919           597      2             6            6           761   \n",
       "2348397          1177      3             1            2          1250   \n",
       "231953            815      9            18            7          1310   \n",
       "173151            495      9            27            2           590   \n",
       "1616932          1190      5            20            5          1335   \n",
       "\n",
       "         DISTANCE  CRS_ELAPSED_TIME  ARR_DELAY  DEP_DELAY  TAXI_OUT  ...  \\\n",
       "1802104    2133.0             323.0        4.0       24.0      15.0  ...   \n",
       "5353235     749.0             128.0       -5.0       -2.0      10.0  ...   \n",
       "1778352    2475.0             339.0        2.0        0.0      16.0  ...   \n",
       "4923518     588.0             123.0       -3.0        1.0      13.0  ...   \n",
       "2470767    1139.0             160.0       -7.0       -3.0      11.0  ...   \n",
       "...           ...               ...        ...        ...       ...  ...   \n",
       "2964919     647.0             104.0       -2.0       -2.0      10.0  ...   \n",
       "2348397     669.0             133.0       -8.0       -3.0      27.0  ...   \n",
       "231953     2486.0             315.0       40.0       44.0       8.0  ...   \n",
       "173151      373.0              95.0      -14.0       -5.0      25.0  ...   \n",
       "1616932    1733.0             265.0      -11.0       -2.0      18.0  ...   \n",
       "\n",
       "        DEST_SAN  DEST_SAT  DEST_SEA  DEST_SFO  DEST_SJC  DEST_SLC  DEST_SMF  \\\n",
       "1802104        0         0         0         0         0         0         0   \n",
       "5353235        0         0         0         0         0         0         0   \n",
       "1778352        0         0         0         0         0         0         0   \n",
       "4923518        0         0         0         0         0         0         0   \n",
       "2470767        0         0         0         0         0         0         0   \n",
       "...          ...       ...       ...       ...       ...       ...       ...   \n",
       "2964919        0         0         0         0         0         0         0   \n",
       "2348397        0         0         0         0         0         0         0   \n",
       "231953         0         0         0         0         0         0         0   \n",
       "173151         0         0         0         0         0         0         1   \n",
       "1616932        0         0         1         0         0         0         0   \n",
       "\n",
       "         DEST_SNA  DEST_STL  DEST_TPA  \n",
       "1802104         0         0         0  \n",
       "5353235         0         0         0  \n",
       "1778352         0         0         0  \n",
       "4923518         0         0         0  \n",
       "2470767         0         0         0  \n",
       "...           ...       ...       ...  \n",
       "2964919         0         0         0  \n",
       "2348397         0         0         0  \n",
       "231953          0         0         0  \n",
       "173151          0         0         0  \n",
       "1616932         0         0         0  \n",
       "\n",
       "[720000 rows x 117 columns]"
      ]
     },
     "execution_count": 27,
     "metadata": {},
     "output_type": "execute_result"
    }
   ],
   "source": [
    "df_train_transformed"
   ]
  },
  {
   "cell_type": "code",
   "execution_count": 28,
   "metadata": {},
   "outputs": [
    {
     "data": {
      "text/plain": [
       "(720000, 117)"
      ]
     },
     "execution_count": 28,
     "metadata": {},
     "output_type": "execute_result"
    }
   ],
   "source": [
    "df_train_transformed.shape"
   ]
  },
  {
   "cell_type": "code",
   "execution_count": 29,
   "metadata": {},
   "outputs": [
    {
     "name": "stdout",
     "output_type": "stream",
     "text": [
      "<class 'pandas.core.frame.DataFrame'>\n",
      "Int64Index: 720000 entries, 1802104 to 1616932\n",
      "Columns: 117 entries, CRS_DEP_TIME to DEST_TPA\n",
      "dtypes: Sparse[uint8, 0](104), float64(5), int64(7), object(1)\n",
      "memory usage: 87.2+ MB\n"
     ]
    }
   ],
   "source": [
    "df_train_transformed.info()"
   ]
  },
  {
   "cell_type": "code",
   "execution_count": 30,
   "metadata": {},
   "outputs": [
    {
     "name": "stdout",
     "output_type": "stream",
     "text": [
      "Features selected (in order): Index(['CRS_ARR_TIME', 'CRS_DEP_TIME', 'CRS_ELAPSED_TIME', 'DAY_OF_MONTH',\n",
      "       'DAY_OF_WEEK', 'DEST_ATL', 'DEST_AUS', 'DEST_BNA', 'DEST_BOS',\n",
      "       'DEST_BWI',\n",
      "       ...\n",
      "       'UNIQUE_CARRIER_B6', 'UNIQUE_CARRIER_DL', 'UNIQUE_CARRIER_EV',\n",
      "       'UNIQUE_CARRIER_F9', 'UNIQUE_CARRIER_HA', 'UNIQUE_CARRIER_NK',\n",
      "       'UNIQUE_CARRIER_OO', 'UNIQUE_CARRIER_UA', 'UNIQUE_CARRIER_VX',\n",
      "       'UNIQUE_CARRIER_WN'],\n",
      "      dtype='object', length=113)\n"
     ]
    }
   ],
   "source": [
    "df_train_transformed = prediction_pipeline.fit_transform(df_train_transformed)"
   ]
  },
  {
   "cell_type": "code",
   "execution_count": 31,
   "metadata": {},
   "outputs": [
    {
     "data": {
      "text/plain": [
       "(720000, 113)"
      ]
     },
     "execution_count": 31,
     "metadata": {},
     "output_type": "execute_result"
    }
   ],
   "source": [
    "df_train_transformed.shape"
   ]
  },
  {
   "cell_type": "code",
   "execution_count": 32,
   "metadata": {},
   "outputs": [
    {
     "data": {
      "text/plain": [
       "True"
      ]
     },
     "execution_count": 32,
     "metadata": {},
     "output_type": "execute_result"
    }
   ],
   "source": [
    "from scipy import sparse\n",
    "sparse.issparse(df_train_transformed)"
   ]
  },
  {
   "cell_type": "code",
   "execution_count": 33,
   "metadata": {},
   "outputs": [],
   "source": [
    "#pd.DataFrame.sparse.from_spmatrix(df_train_transformed)"
   ]
  },
  {
   "cell_type": "code",
   "execution_count": 34,
   "metadata": {},
   "outputs": [],
   "source": [
    "pd.set_option('display.max_columns', 400)"
   ]
  },
  {
   "cell_type": "code",
   "execution_count": 35,
   "metadata": {},
   "outputs": [
    {
     "name": "stdout",
     "output_type": "stream",
     "text": [
      "Quantitative features : ['MONTH', 'DAY_OF_MONTH', 'DAY_OF_WEEK', 'DISTANCE', 'CRS_ELAPSED_TIME', 'ARR_DELAY', 'DEP_DELAY', 'TAXI_OUT', 'NBFLIGHTS_FORDAYHOUR_FORAIRPORT', 'NBFLIGHTS_FORDAY_FORAIRPORT'] \n",
      "\n",
      "Qualitative features : ['ORIGIN', 'CRS_DEP_TIME', 'UNIQUE_CARRIER', 'DEST', 'CRS_ARR_TIME', 'TAIL_NUM'] \n",
      "\n"
     ]
    }
   ],
   "source": [
    "all_features, model1_features, model1_label, quantitative_features, qualitative_features = identify_features(df)"
   ]
  },
  {
   "cell_type": "markdown",
   "metadata": {},
   "source": [
    "# Test set encoding"
   ]
  },
  {
   "cell_type": "code",
   "execution_count": 36,
   "metadata": {},
   "outputs": [
    {
     "name": "stdout",
     "output_type": "stream",
     "text": [
      "Apply high percentile filter...\n",
      "Converting feature CRS_DEP_TIME\n",
      "\n",
      "Converting feature CRS_ARR_TIME\n",
      "\n",
      "Transform data\n",
      "1hot encode categorical features...\n",
      "Column values that were in fitted data but not in current data: []\n",
      "Column values that were in fitted data but not in current data: []\n",
      "Column values that were in fitted data but not in current data: []\n",
      "type of df : <class 'pandas.core.frame.DataFrame'>\n",
      "Features selected (in order): Index(['CRS_ARR_TIME', 'CRS_DEP_TIME', 'CRS_ELAPSED_TIME', 'DAY_OF_MONTH',\n",
      "       'DAY_OF_WEEK', 'DEST_ATL', 'DEST_AUS', 'DEST_BNA', 'DEST_BOS',\n",
      "       'DEST_BWI',\n",
      "       ...\n",
      "       'UNIQUE_CARRIER_B6', 'UNIQUE_CARRIER_DL', 'UNIQUE_CARRIER_EV',\n",
      "       'UNIQUE_CARRIER_F9', 'UNIQUE_CARRIER_HA', 'UNIQUE_CARRIER_NK',\n",
      "       'UNIQUE_CARRIER_OO', 'UNIQUE_CARRIER_UA', 'UNIQUE_CARRIER_VX',\n",
      "       'UNIQUE_CARRIER_WN'],\n",
      "      dtype='object', length=113)\n"
     ]
    },
    {
     "data": {
      "text/plain": [
       "(80000, 113)"
      ]
     },
     "execution_count": 36,
     "metadata": {},
     "output_type": "execute_result"
    }
   ],
   "source": [
    "df_test_transformed = preparation_pipeline.transform(df_test)\n",
    "df_test_transformed = prediction_pipeline.transform(df_test_transformed)\n",
    "DATA_LOADED = True\n",
    "df_test_transformed.shape"
   ]
  },
  {
   "cell_type": "markdown",
   "metadata": {},
   "source": [
    "# Linear regression"
   ]
  },
  {
   "cell_type": "code",
   "execution_count": 37,
   "metadata": {},
   "outputs": [
    {
     "data": {
      "text/plain": [
       "(720000,)"
      ]
     },
     "execution_count": 37,
     "metadata": {},
     "output_type": "execute_result"
    }
   ],
   "source": [
    "df_train[model1_label].shape"
   ]
  },
  {
   "cell_type": "code",
   "execution_count": 38,
   "metadata": {},
   "outputs": [],
   "source": [
    "if (EXECUTE_INTERMEDIATE_MODELS == True):\n",
    "    lin_reg = LinearRegression()\n",
    "    lin_reg.fit(df_train_transformed, df_train[model1_label])"
   ]
  },
  {
   "cell_type": "code",
   "execution_count": 39,
   "metadata": {},
   "outputs": [
    {
     "name": "stdout",
     "output_type": "stream",
     "text": [
      "26.998703285049196\n"
     ]
    }
   ],
   "source": [
    "\n",
    "\n",
    "if (EXECUTE_INTERMEDIATE_MODELS == True):\n",
    "    df_test_predictions = lin_reg.predict(df_test_transformed)\n",
    "    lin_mse = mean_squared_error(df_test[model1_label], df_test_predictions)\n",
    "    lin_rmse = np.sqrt(lin_mse)\n",
    "    print(lin_rmse)"
   ]
  },
  {
   "cell_type": "markdown",
   "metadata": {},
   "source": [
    "=> 42.17  (42.16679389006135)"
   ]
  },
  {
   "cell_type": "code",
   "execution_count": 40,
   "metadata": {},
   "outputs": [
    {
     "data": {
      "text/plain": [
       "720000"
      ]
     },
     "execution_count": 40,
     "metadata": {},
     "output_type": "execute_result"
    }
   ],
   "source": [
    "df_train_transformed.shape[0]"
   ]
  },
  {
   "cell_type": "code",
   "execution_count": 41,
   "metadata": {},
   "outputs": [
    {
     "data": {
      "application/vnd.jupyter.widget-view+json": {
       "model_id": "2b00a31f2ca040ba851f0866deff8784",
       "version_major": 2,
       "version_minor": 0
      },
      "text/plain": [
       "HBox(children=(IntProgress(value=0, max=73), HTML(value='')))"
      ]
     },
     "metadata": {},
     "output_type": "display_data"
    },
    {
     "name": "stdout",
     "output_type": "stream",
     "text": [
      "Calculating learning curve for 73 iterations\n"
     ]
    },
    {
     "data": {
      "image/png": "[encoded data removed]",
      "text/plain": [
       "<Figure size 432x288 with 1 Axes>"
      ]
     },
     "metadata": {
      "needs_background": "light"
     },
     "output_type": "display_data"
    }
   ],
   "source": [
    "plot_learning_curves(lin_reg, df_train_transformed, df_test_transformed, df_train[model1_label], df_test[model1_label], LEARNING_CURVE_STEP_SIZE)"
   ]
  },
  {
   "cell_type": "code",
   "execution_count": 42,
   "metadata": {},
   "outputs": [
    {
     "data": {
      "text/html": [
       "<div>\n",
       "<style scoped>\n",
       "    .dataframe tbody tr th:only-of-type {\n",
       "        vertical-align: middle;\n",
       "    }\n",
       "\n",
       "    .dataframe tbody tr th {\n",
       "        vertical-align: top;\n",
       "    }\n",
       "\n",
       "    .dataframe thead th {\n",
       "        text-align: right;\n",
       "    }\n",
       "</style>\n",
       "<table border=\"1\" class=\"dataframe\">\n",
       "  <thead>\n",
       "    <tr style=\"text-align: right;\">\n",
       "      <th></th>\n",
       "      <th>ORIGIN</th>\n",
       "      <th>CRS_DEP_TIME</th>\n",
       "      <th>MONTH</th>\n",
       "      <th>DAY_OF_MONTH</th>\n",
       "      <th>DAY_OF_WEEK</th>\n",
       "      <th>UNIQUE_CARRIER</th>\n",
       "      <th>DEST</th>\n",
       "      <th>CRS_ARR_TIME</th>\n",
       "      <th>DISTANCE</th>\n",
       "      <th>CRS_ELAPSED_TIME</th>\n",
       "      <th>ARR_DELAY</th>\n",
       "      <th>DEP_DELAY</th>\n",
       "      <th>TAXI_OUT</th>\n",
       "      <th>TAIL_NUM</th>\n",
       "      <th>NBFLIGHTS_FORDAY_FORAIRPORT</th>\n",
       "      <th>NBFLIGHTS_FORDAYHOUR_FORAIRPORT</th>\n",
       "    </tr>\n",
       "  </thead>\n",
       "  <tbody>\n",
       "    <tr>\n",
       "      <td>1802104</td>\n",
       "      <td>EWR</td>\n",
       "      <td>820</td>\n",
       "      <td>5</td>\n",
       "      <td>21</td>\n",
       "      <td>6</td>\n",
       "      <td>AA</td>\n",
       "      <td>PHX</td>\n",
       "      <td>963</td>\n",
       "      <td>2133.0</td>\n",
       "      <td>323.0</td>\n",
       "      <td>4.0</td>\n",
       "      <td>24.0</td>\n",
       "      <td>15.0</td>\n",
       "      <td>N3NDAA</td>\n",
       "      <td>238</td>\n",
       "      <td>14</td>\n",
       "    </tr>\n",
       "    <tr>\n",
       "      <td>5353235</td>\n",
       "      <td>SAN</td>\n",
       "      <td>946</td>\n",
       "      <td>8</td>\n",
       "      <td>16</td>\n",
       "      <td>2</td>\n",
       "      <td>OO</td>\n",
       "      <td>OTHERS</td>\n",
       "      <td>1134</td>\n",
       "      <td>749.0</td>\n",
       "      <td>128.0</td>\n",
       "      <td>-5.0</td>\n",
       "      <td>-2.0</td>\n",
       "      <td>10.0</td>\n",
       "      <td>N178SY</td>\n",
       "      <td>229</td>\n",
       "      <td>11</td>\n",
       "    </tr>\n",
       "    <tr>\n",
       "      <td>1778352</td>\n",
       "      <td>LAX</td>\n",
       "      <td>750</td>\n",
       "      <td>5</td>\n",
       "      <td>9</td>\n",
       "      <td>1</td>\n",
       "      <td>AA</td>\n",
       "      <td>JFK</td>\n",
       "      <td>1269</td>\n",
       "      <td>2475.0</td>\n",
       "      <td>339.0</td>\n",
       "      <td>2.0</td>\n",
       "      <td>0.0</td>\n",
       "      <td>16.0</td>\n",
       "      <td>N791AA</td>\n",
       "      <td>591</td>\n",
       "      <td>33</td>\n",
       "    </tr>\n",
       "    <tr>\n",
       "      <td>4923518</td>\n",
       "      <td>IAD</td>\n",
       "      <td>755</td>\n",
       "      <td>11</td>\n",
       "      <td>23</td>\n",
       "      <td>3</td>\n",
       "      <td>UA</td>\n",
       "      <td>ORD</td>\n",
       "      <td>818</td>\n",
       "      <td>588.0</td>\n",
       "      <td>123.0</td>\n",
       "      <td>-3.0</td>\n",
       "      <td>1.0</td>\n",
       "      <td>13.0</td>\n",
       "      <td>N18243</td>\n",
       "      <td>108</td>\n",
       "      <td>10</td>\n",
       "    </tr>\n",
       "    <tr>\n",
       "      <td>2470767</td>\n",
       "      <td>LAS</td>\n",
       "      <td>645</td>\n",
       "      <td>3</td>\n",
       "      <td>1</td>\n",
       "      <td>2</td>\n",
       "      <td>WN</td>\n",
       "      <td>MCI</td>\n",
       "      <td>925</td>\n",
       "      <td>1139.0</td>\n",
       "      <td>160.0</td>\n",
       "      <td>-7.0</td>\n",
       "      <td>-3.0</td>\n",
       "      <td>11.0</td>\n",
       "      <td>N8601C</td>\n",
       "      <td>449</td>\n",
       "      <td>34</td>\n",
       "    </tr>\n",
       "    <tr>\n",
       "      <td>...</td>\n",
       "      <td>...</td>\n",
       "      <td>...</td>\n",
       "      <td>...</td>\n",
       "      <td>...</td>\n",
       "      <td>...</td>\n",
       "      <td>...</td>\n",
       "      <td>...</td>\n",
       "      <td>...</td>\n",
       "      <td>...</td>\n",
       "      <td>...</td>\n",
       "      <td>...</td>\n",
       "      <td>...</td>\n",
       "      <td>...</td>\n",
       "      <td>...</td>\n",
       "      <td>...</td>\n",
       "      <td>...</td>\n",
       "    </tr>\n",
       "    <tr>\n",
       "      <td>2964919</td>\n",
       "      <td>SMF</td>\n",
       "      <td>597</td>\n",
       "      <td>2</td>\n",
       "      <td>6</td>\n",
       "      <td>6</td>\n",
       "      <td>AA</td>\n",
       "      <td>PHX</td>\n",
       "      <td>761</td>\n",
       "      <td>647.0</td>\n",
       "      <td>104.0</td>\n",
       "      <td>-2.0</td>\n",
       "      <td>-2.0</td>\n",
       "      <td>10.0</td>\n",
       "      <td>N836AW</td>\n",
       "      <td>70</td>\n",
       "      <td>4</td>\n",
       "    </tr>\n",
       "    <tr>\n",
       "      <td>2348397</td>\n",
       "      <td>ATL</td>\n",
       "      <td>1177</td>\n",
       "      <td>3</td>\n",
       "      <td>1</td>\n",
       "      <td>2</td>\n",
       "      <td>DL</td>\n",
       "      <td>MKE</td>\n",
       "      <td>1250</td>\n",
       "      <td>669.0</td>\n",
       "      <td>133.0</td>\n",
       "      <td>-8.0</td>\n",
       "      <td>-3.0</td>\n",
       "      <td>27.0</td>\n",
       "      <td>N951DN</td>\n",
       "      <td>1782</td>\n",
       "      <td>164</td>\n",
       "    </tr>\n",
       "    <tr>\n",
       "      <td>231953</td>\n",
       "      <td>OTHERS</td>\n",
       "      <td>815</td>\n",
       "      <td>9</td>\n",
       "      <td>18</td>\n",
       "      <td>7</td>\n",
       "      <td>VX</td>\n",
       "      <td>LAX</td>\n",
       "      <td>1310</td>\n",
       "      <td>2486.0</td>\n",
       "      <td>315.0</td>\n",
       "      <td>40.0</td>\n",
       "      <td>44.0</td>\n",
       "      <td>8.0</td>\n",
       "      <td>N284VA</td>\n",
       "      <td>63</td>\n",
       "      <td>7</td>\n",
       "    </tr>\n",
       "    <tr>\n",
       "      <td>173151</td>\n",
       "      <td>LAX</td>\n",
       "      <td>495</td>\n",
       "      <td>9</td>\n",
       "      <td>27</td>\n",
       "      <td>2</td>\n",
       "      <td>OO</td>\n",
       "      <td>SMF</td>\n",
       "      <td>590</td>\n",
       "      <td>373.0</td>\n",
       "      <td>95.0</td>\n",
       "      <td>-14.0</td>\n",
       "      <td>-5.0</td>\n",
       "      <td>25.0</td>\n",
       "      <td>N805SK</td>\n",
       "      <td>591</td>\n",
       "      <td>49</td>\n",
       "    </tr>\n",
       "    <tr>\n",
       "      <td>1616932</td>\n",
       "      <td>MDW</td>\n",
       "      <td>1190</td>\n",
       "      <td>5</td>\n",
       "      <td>20</td>\n",
       "      <td>5</td>\n",
       "      <td>WN</td>\n",
       "      <td>SEA</td>\n",
       "      <td>1335</td>\n",
       "      <td>1733.0</td>\n",
       "      <td>265.0</td>\n",
       "      <td>-11.0</td>\n",
       "      <td>-2.0</td>\n",
       "      <td>18.0</td>\n",
       "      <td>N8320J</td>\n",
       "      <td>255</td>\n",
       "      <td>22</td>\n",
       "    </tr>\n",
       "  </tbody>\n",
       "</table>\n",
       "<p>720000 rows × 16 columns</p>\n",
       "</div>"
      ],
      "text/plain": [
       "         ORIGIN  CRS_DEP_TIME  MONTH  DAY_OF_MONTH  DAY_OF_WEEK  \\\n",
       "1802104     EWR           820      5            21            6   \n",
       "5353235     SAN           946      8            16            2   \n",
       "1778352     LAX           750      5             9            1   \n",
       "4923518     IAD           755     11            23            3   \n",
       "2470767     LAS           645      3             1            2   \n",
       "...         ...           ...    ...           ...          ...   \n",
       "2964919     SMF           597      2             6            6   \n",
       "2348397     ATL          1177      3             1            2   \n",
       "231953   OTHERS           815      9            18            7   \n",
       "173151      LAX           495      9            27            2   \n",
       "1616932     MDW          1190      5            20            5   \n",
       "\n",
       "        UNIQUE_CARRIER    DEST  CRS_ARR_TIME  DISTANCE  CRS_ELAPSED_TIME  \\\n",
       "1802104             AA     PHX           963    2133.0             323.0   \n",
       "5353235             OO  OTHERS          1134     749.0             128.0   \n",
       "1778352             AA     JFK          1269    2475.0             339.0   \n",
       "4923518             UA     ORD           818     588.0             123.0   \n",
       "2470767             WN     MCI           925    1139.0             160.0   \n",
       "...                ...     ...           ...       ...               ...   \n",
       "2964919             AA     PHX           761     647.0             104.0   \n",
       "2348397             DL     MKE          1250     669.0             133.0   \n",
       "231953              VX     LAX          1310    2486.0             315.0   \n",
       "173151              OO     SMF           590     373.0              95.0   \n",
       "1616932             WN     SEA          1335    1733.0             265.0   \n",
       "\n",
       "         ARR_DELAY  DEP_DELAY  TAXI_OUT TAIL_NUM  NBFLIGHTS_FORDAY_FORAIRPORT  \\\n",
       "1802104        4.0       24.0      15.0   N3NDAA                          238   \n",
       "5353235       -5.0       -2.0      10.0   N178SY                          229   \n",
       "1778352        2.0        0.0      16.0   N791AA                          591   \n",
       "4923518       -3.0        1.0      13.0   N18243                          108   \n",
       "2470767       -7.0       -3.0      11.0   N8601C                          449   \n",
       "...            ...        ...       ...      ...                          ...   \n",
       "2964919       -2.0       -2.0      10.0   N836AW                           70   \n",
       "2348397       -8.0       -3.0      27.0   N951DN                         1782   \n",
       "231953        40.0       44.0       8.0   N284VA                           63   \n",
       "173151       -14.0       -5.0      25.0   N805SK                          591   \n",
       "1616932      -11.0       -2.0      18.0   N8320J                          255   \n",
       "\n",
       "         NBFLIGHTS_FORDAYHOUR_FORAIRPORT  \n",
       "1802104                               14  \n",
       "5353235                               11  \n",
       "1778352                               33  \n",
       "4923518                               10  \n",
       "2470767                               34  \n",
       "...                                  ...  \n",
       "2964919                                4  \n",
       "2348397                              164  \n",
       "231953                                 7  \n",
       "173151                                49  \n",
       "1616932                               22  \n",
       "\n",
       "[720000 rows x 16 columns]"
      ]
     },
     "execution_count": 42,
     "metadata": {},
     "output_type": "execute_result"
    }
   ],
   "source": [
    "df_train"
   ]
  },
  {
   "cell_type": "code",
   "execution_count": 43,
   "metadata": {},
   "outputs": [
    {
     "data": {
      "text/plain": [
       "array([[ 0.04045633, -0.44701898,  0.58924746,  1.04305892,  0.18733107,\n",
       "         2.10967893,  2.37165674, -0.40607713, -0.34657707,  0.        ,\n",
       "         0.        ,  0.        ,  0.        ,  0.        ,  0.        ,\n",
       "         0.        ,  0.        ,  0.        ,  0.        ,  0.        ,\n",
       "         0.        ,  0.        ,  0.        ,  0.        ,  0.        ,\n",
       "         0.        ,  0.        ,  0.        ,  0.        ,  0.        ,\n",
       "         0.        ,  0.        ,  0.        ,  0.        ,  0.        ,\n",
       "         0.        ,  0.        ,  0.        ,  0.        ,  0.        ,\n",
       "         0.        ,  0.        ,  0.        ,  1.        ,  0.        ,\n",
       "         0.        ,  0.        ,  0.        ,  0.        ,  0.        ,\n",
       "         0.        ,  0.        ,  0.        ,  0.        ,  0.        ,\n",
       "         0.        ,  0.        ,  0.        ,  0.        ,  0.        ,\n",
       "         0.        ,  0.        ,  0.        ,  0.        ,  0.        ,\n",
       "         0.        ,  0.        ,  1.        ,  0.        ,  0.        ,\n",
       "         0.        ,  0.        ,  0.        ,  0.        ,  0.        ,\n",
       "         0.        ,  0.        ,  0.        ,  0.        ,  0.        ,\n",
       "         0.        ,  0.        ,  0.        ,  0.        ,  0.        ,\n",
       "         0.        ,  0.        ,  0.        ,  0.        ,  0.        ,\n",
       "         0.        ,  0.        ,  0.        ,  0.        ,  0.        ,\n",
       "         0.        ,  0.        ,  0.        ,  0.        ,  0.        ,\n",
       "         0.        ,  1.        ,  0.        ,  0.        ,  0.        ,\n",
       "         0.        ,  0.        ,  0.        ,  0.        ,  0.        ,\n",
       "         0.        ,  0.        ,  0.        ]])"
      ]
     },
     "execution_count": 43,
     "metadata": {},
     "output_type": "execute_result"
    }
   ],
   "source": [
    "df_train_transformed[0, :].toarray()"
   ]
  },
  {
   "cell_type": "code",
   "execution_count": 44,
   "metadata": {},
   "outputs": [
    {
     "data": {
      "text/html": [
       "<div>\n",
       "<style scoped>\n",
       "    .dataframe tbody tr th:only-of-type {\n",
       "        vertical-align: middle;\n",
       "    }\n",
       "\n",
       "    .dataframe tbody tr th {\n",
       "        vertical-align: top;\n",
       "    }\n",
       "\n",
       "    .dataframe thead th {\n",
       "        text-align: right;\n",
       "    }\n",
       "</style>\n",
       "<table border=\"1\" class=\"dataframe\">\n",
       "  <thead>\n",
       "    <tr style=\"text-align: right;\">\n",
       "      <th></th>\n",
       "      <th>ARR_DELAY</th>\n",
       "    </tr>\n",
       "  </thead>\n",
       "  <tbody>\n",
       "    <tr>\n",
       "      <td>1802104</td>\n",
       "      <td>4.0</td>\n",
       "    </tr>\n",
       "    <tr>\n",
       "      <td>5353235</td>\n",
       "      <td>-5.0</td>\n",
       "    </tr>\n",
       "    <tr>\n",
       "      <td>1778352</td>\n",
       "      <td>2.0</td>\n",
       "    </tr>\n",
       "    <tr>\n",
       "      <td>4923518</td>\n",
       "      <td>-3.0</td>\n",
       "    </tr>\n",
       "    <tr>\n",
       "      <td>2470767</td>\n",
       "      <td>-7.0</td>\n",
       "    </tr>\n",
       "    <tr>\n",
       "      <td>...</td>\n",
       "      <td>...</td>\n",
       "    </tr>\n",
       "    <tr>\n",
       "      <td>2964919</td>\n",
       "      <td>-2.0</td>\n",
       "    </tr>\n",
       "    <tr>\n",
       "      <td>2348397</td>\n",
       "      <td>-8.0</td>\n",
       "    </tr>\n",
       "    <tr>\n",
       "      <td>231953</td>\n",
       "      <td>40.0</td>\n",
       "    </tr>\n",
       "    <tr>\n",
       "      <td>173151</td>\n",
       "      <td>-14.0</td>\n",
       "    </tr>\n",
       "    <tr>\n",
       "      <td>1616932</td>\n",
       "      <td>-11.0</td>\n",
       "    </tr>\n",
       "  </tbody>\n",
       "</table>\n",
       "<p>720000 rows × 1 columns</p>\n",
       "</div>"
      ],
      "text/plain": [
       "         ARR_DELAY\n",
       "1802104        4.0\n",
       "5353235       -5.0\n",
       "1778352        2.0\n",
       "4923518       -3.0\n",
       "2470767       -7.0\n",
       "...            ...\n",
       "2964919       -2.0\n",
       "2348397       -8.0\n",
       "231953        40.0\n",
       "173151       -14.0\n",
       "1616932      -11.0\n",
       "\n",
       "[720000 rows x 1 columns]"
      ]
     },
     "execution_count": 44,
     "metadata": {},
     "output_type": "execute_result"
    }
   ],
   "source": [
    "df_train[[model1_label]]"
   ]
  },
  {
   "cell_type": "code",
   "execution_count": 45,
   "metadata": {},
   "outputs": [
    {
     "data": {
      "text/plain": [
       "array([ 2.82862186e+00,  4.52277254e-01,  2.91175481e-01,  1.06823413e-01,\n",
       "        1.24662835e+00,  9.02773680e+00, -1.00977570e+01,  6.57544038e-01,\n",
       "        2.78583229e+00, -9.27580391e-01, -1.08710025e+00, -1.67324250e+00,\n",
       "       -8.77998645e-01, -2.76993205e+00, -3.08888532e+00, -1.35064065e+00,\n",
       "        3.33625138e-01, -1.04179148e+00, -5.69860270e-01,  2.00077594e+00,\n",
       "       -1.63484278e+00,  4.89700742e+00,  5.59794486e-01,  1.86623731e+00,\n",
       "       -3.39384816e-01, -3.50051957e+00, -8.24809801e-01,  8.95342094e-01,\n",
       "        3.61627828e-01,  6.33049167e+00,  5.71954990e+00, -1.85503369e+00,\n",
       "        1.85801681e-01, -3.03984291e+00,  2.20403860e+00, -3.15494560e+00,\n",
       "        5.59806915e-01, -1.47234477e+00,  9.17528764e-01,  2.62868762e+00,\n",
       "       -2.11476197e+00, -2.24703498e-01, -9.43941093e-01,  8.70201359e-01,\n",
       "       -1.53863998e+00, -3.91994031e-01, -1.80716273e+00,  2.49151163e+00,\n",
       "        8.00172231e+00,  6.35888648e-01, -1.41021513e+00,  5.51225437e-01,\n",
       "       -1.64604709e+00, -1.77082804e+00, -9.53815682e-01, -8.61995479e+00,\n",
       "        2.63591174e-01,  8.60919952e-01,  1.58256972e-01, -9.39363168e-01,\n",
       "        5.29904543e-01, -1.52625962e-01,  2.48425212e+00,  5.61677956e-01,\n",
       "       -4.52852875e+00, -1.41573744e-01, -1.44838030e+00,  4.34970818e+00,\n",
       "        1.39915617e+00, -2.27651939e+00,  1.67772624e+00,  2.00277066e-03,\n",
       "       -1.91557637e+00,  3.92008453e+00, -1.46494352e+00, -3.08976726e-01,\n",
       "        4.22640958e+00, -9.25108558e-01, -3.29937193e-01, -1.45156492e+00,\n",
       "        4.92170129e+00, -1.10123672e+00, -5.27802077e-01,  4.33856788e-02,\n",
       "        1.98753566e+00, -4.76381990e-01,  4.95878477e-01, -1.65466824e+00,\n",
       "        1.55247342e+00, -2.56230069e+00,  3.29111275e+00, -1.23708576e+00,\n",
       "       -2.02324936e-01, -5.30078807e-01,  1.33428739e+00,  8.92322914e-01,\n",
       "       -2.76395009e+00,  1.42306224e+00, -8.48640610e-01,  2.13222124e-01,\n",
       "       -1.81148810e-01,  4.11272386e-01, -3.75977645e+00,  3.31307071e+00,\n",
       "       -3.93850250e+00,  7.89564671e-01,  2.73784022e+00, -1.28701736e+00,\n",
       "        3.84865942e+00,  2.28477607e-01, -3.22482462e+00, -9.12404773e-01,\n",
       "        1.79364069e+00])"
      ]
     },
     "execution_count": 45,
     "metadata": {},
     "output_type": "execute_result"
    }
   ],
   "source": [
    "lin_reg.coef_"
   ]
  },
  {
   "cell_type": "markdown",
   "metadata": {},
   "source": [
    "array([  3.0601343 ,   0.54106613,   0.49255945,  -0.02052923,\n",
    "         1.6354574 ,  10.62073489, -12.18551101,   0.27450354,\n",
    "        -1.33980503,   0.10149764,   0.31685657,  -0.65541914,\n",
    "        -1.53379643,  -0.56033462,   2.17482374,   0.23276129,\n",
    "        -1.26869889,   3.05226253,   0.18607054,   5.51988916,\n",
    "         1.42903568,  -4.32234874,   0.30318026,  -0.94593642,\n",
    "        -1.40645942,   4.27814774,  -0.06934268,   2.69507292,\n",
    "         4.87336364,  -1.91588117,   1.21284379,  -1.94274921,\n",
    "         4.73238555,  -3.20774291,   0.47564597,  -1.6987073 ,\n",
    "         0.14379464,   4.40476573,  -1.74618153,  -2.76805405,\n",
    "         0.45234394,  -1.60170948,   1.1685909 ,  -2.46122663,\n",
    "        -1.75186943,  -0.42718454,   3.2389558 ,  -0.80286191,\n",
    "        -3.11232599,  -0.71881518,  -3.40806787,  -1.02946792,\n",
    "        -0.57180507,   0.58845347,  -5.32955616,   4.14911968,\n",
    "        -3.77501356,   1.94734073,   5.04213062,  -3.46294331,\n",
    "         4.36932467,   1.10828485,  -3.07715486,  -2.1540515 ,\n",
    "         0.59406537,  -0.21559221,  -1.4864192 ,  -1.92685958,\n",
    "        -1.13360134,  -2.79307414,  -3.16535316,  -2.14418489,\n",
    "        -0.3786179 ,  -1.35651547,  -0.65089003,   3.72717084,\n",
    "        -0.5316482 ,   6.38411318,   0.56280763,   2.32285819,\n",
    "        -0.71875407,  -3.7427498 ,  -0.72443612,   3.01913525,\n",
    "         0.0259135 ,   6.05048444,   6.88297842,  -2.05348981,\n",
    "         0.57619293,  -3.06150148,   2.91489312,  -3.69821352,\n",
    "         1.39265583,  -2.73996445,   0.48819288,   3.78111808,\n",
    "        -2.73090349,  -0.99799275,  -1.41459568,  -0.14998697,\n",
    "        -1.16199228,  -1.2855059 ,  -2.33902093,   2.26562809,\n",
    "         9.46369559,  -0.27437885,  -1.82963879,   0.47213692,\n",
    "        -2.5256052 ,  -2.053249  ,  -1.04523965])"
   ]
  },
  {
   "cell_type": "code",
   "execution_count": 46,
   "metadata": {},
   "outputs": [
    {
     "data": {
      "image/png": "[encoded data removed]",
      "text/plain": [
       "<Figure size 432x288 with 1 Axes>"
      ]
     },
     "metadata": {
      "needs_background": "light"
     },
     "output_type": "display_data"
    }
   ],
   "source": [
    "if (EXECUTE_INTERMEDIATE_MODELS == True):\n",
    "    fig = plt.figure()\n",
    "    fig.suptitle('Comparison actual values / predict values')\n",
    "    plt.ylabel(\"Predicted\")\n",
    "    plt.xlabel(\"Actual\")\n",
    "    plt.scatter(df_test[model1_label], df_test_predictions, color='coral')"
   ]
  },
  {
   "cell_type": "code",
   "execution_count": 47,
   "metadata": {},
   "outputs": [],
   "source": [
    "from sklearn.model_selection import cross_validate\n",
    "\n",
    "#scores = cross_validate(lin_reg, df_train_transformed, df_train[model1_label], scoring='neg_root_mean_squared_error', cv=5)"
   ]
  },
  {
   "cell_type": "code",
   "execution_count": 48,
   "metadata": {},
   "outputs": [],
   "source": [
    "#scores['test_score'].mean()"
   ]
  },
  {
   "cell_type": "markdown",
   "metadata": {
    "toc-hr-collapsed": false
   },
   "source": [
    "# ElasticNET regression"
   ]
  },
  {
   "cell_type": "code",
   "execution_count": 49,
   "metadata": {},
   "outputs": [],
   "source": [
    "from sklearn.model_selection import ShuffleSplit\n",
    "\n",
    "\n",
    "shuffled_split_train = ShuffleSplit(n_splits=5, test_size=0.2, random_state=42)\n"
   ]
  },
  {
   "cell_type": "code",
   "execution_count": 50,
   "metadata": {},
   "outputs": [],
   "source": [
    "from sklearn.linear_model import ElasticNet"
   ]
  },
  {
   "cell_type": "code",
   "execution_count": 51,
   "metadata": {},
   "outputs": [],
   "source": [
    "from sklearn.model_selection import GridSearchCV\n",
    "\n",
    "eNet = ElasticNet()\n",
    "\n",
    "grid_search = GridSearchCV(eNet, param_grid = {\"max_iter\": [1, 5, 10],\n",
    "                      \"alpha\": [10, 100],\n",
    "                      \"l1_ratio\": np.arange(0.0, 1.0, 0.4)},cv=shuffled_split_train, scoring='neg_mean_squared_error', error_score=np.nan, verbose=2)"
   ]
  },
  {
   "cell_type": "code",
   "execution_count": 52,
   "metadata": {},
   "outputs": [
    {
     "data": {
      "text/plain": [
       "'\\nfrom sklearn.model_selection import GridSearchCV\\n\\neNet = ElasticNet()\\n\\ngrid_search = GridSearchCV(eNet, param_grid = {\"max_iter\": [1, 5, 10],\\n                      \"alpha\": [0.0001, 0.001, 0.01, 0.1, 1, 10, 100],\\n                      \"l1_ratio\": np.arange(0.0, 1.0, 0.1)},cv=shuffled_split_train, scoring=\\'neg_mean_squared_error\\', error_score=np.nan, verbose=2)\\n'"
      ]
     },
     "execution_count": 52,
     "metadata": {},
     "output_type": "execute_result"
    }
   ],
   "source": [
    "'''\n",
    "from sklearn.model_selection import GridSearchCV\n",
    "\n",
    "eNet = ElasticNet()\n",
    "\n",
    "grid_search = GridSearchCV(eNet, param_grid = {\"max_iter\": [1, 5, 10],\n",
    "                      \"alpha\": [0.0001, 0.001, 0.01, 0.1, 1, 10, 100],\n",
    "                      \"l1_ratio\": np.arange(0.0, 1.0, 0.1)},cv=shuffled_split_train, scoring='neg_mean_squared_error', error_score=np.nan, verbose=2)\n",
    "'''"
   ]
  },
  {
   "cell_type": "code",
   "execution_count": 53,
   "metadata": {},
   "outputs": [],
   "source": [
    "if (RECOMPUTE_GRIDSEARCH == True):\n",
    "    grid_search.fit(df_train_transformed, df_train[model1_label])"
   ]
  },
  {
   "cell_type": "code",
   "execution_count": 54,
   "metadata": {},
   "outputs": [],
   "source": [
    "if ((EXECUTE_INTERMEDIATE_MODELS == True) and (LOAD_GRID_RESULTS == True)):\n",
    "    grid_search, df_grid_search_results = save_or_load_search_params(grid_search, 'eNet_20200319')"
   ]
  },
  {
   "cell_type": "code",
   "execution_count": 55,
   "metadata": {},
   "outputs": [],
   "source": [
    "if ((EXECUTE_INTERMEDIATE_MODELS == True) and (LOAD_GRID_RESULTS == True)):\n",
    "    df_grid_search_results.sort_values(by='mean_test_score', ascending=False)"
   ]
  },
  {
   "cell_type": "code",
   "execution_count": 56,
   "metadata": {},
   "outputs": [
    {
     "data": {
      "text/plain": [
       "41.73092378560532"
      ]
     },
     "execution_count": 56,
     "metadata": {},
     "output_type": "execute_result"
    }
   ],
   "source": [
    "np.sqrt(1741.47)"
   ]
  },
  {
   "cell_type": "markdown",
   "metadata": {},
   "source": [
    "=> 41.73092378560532"
   ]
  },
  {
   "cell_type": "code",
   "execution_count": 57,
   "metadata": {},
   "outputs": [],
   "source": [
    "if ((EXECUTE_INTERMEDIATE_MODELS == True) and (LOAD_GRID_RESULTS == True)):\n",
    "    grid_search.best_estimator_"
   ]
  },
  {
   "cell_type": "code",
   "execution_count": 58,
   "metadata": {},
   "outputs": [],
   "source": [
    "if ((EXECUTE_INTERMEDIATE_MODELS == True) and (LOAD_GRID_RESULTS == True)):\n",
    "    df_test_predictions = grid_search.best_estimator_.predict(df_test_transformed)\n",
    "    mse = mean_squared_error(df_test[model1_label], df_test_predictions)\n",
    "    rmse = np.sqrt(mse)\n",
    "    print(rmse)\n"
   ]
  },
  {
   "cell_type": "code",
   "execution_count": 59,
   "metadata": {},
   "outputs": [],
   "source": [
    "if ((EXECUTE_INTERMEDIATE_MODELS == True) and (LOAD_GRID_RESULTS == True)):\n",
    "    grid_search.best_estimator_.coef_"
   ]
  },
  {
   "cell_type": "markdown",
   "metadata": {},
   "source": [
    "array([ 3.81842241e-01,  5.38463257e-02,  4.20287224e-02,  5.22019019e-04,\n",
    "        3.01660130e-01, -5.81861174e-02, -6.72278997e-02, -1.27034969e-02,\n",
    "       -2.24325259e-04,  4.09514301e-04, -3.70631003e-03, -2.53436510e-03,\n",
    "       -7.75208542e-04,  9.33417957e-05,  4.17993863e-03, -9.42512871e-04,\n",
    "       -1.11806550e-03,  1.44798574e-02, -3.13856400e-03,  3.29966151e-03,\n",
    "        3.99529584e-03, -4.48915797e-03,  1.95911581e-03, -2.36326646e-03,\n",
    "       -4.08853652e-03,  1.66741438e-03,  5.08260117e-03,  1.27353349e-02,\n",
    "        9.28815390e-04, -1.23422335e-03,  3.00267997e-03, -1.85353662e-03,\n",
    "        6.23418838e-03, -1.61411894e-03, -2.91269348e-03, -6.75664468e-04,\n",
    "        1.69775346e-03,  1.63447325e-02, -2.33087459e-02, -2.59028581e-03,\n",
    "       -1.74542702e-03, -1.45041347e-04,  6.16849621e-05, -9.03449295e-04,\n",
    "       -5.89810820e-04, -5.62947068e-03,  9.74750809e-03,  2.35807415e-04,\n",
    "       -6.16562051e-03,  9.79361758e-04, -9.11503285e-04,  2.40351790e-04,\n",
    "       -8.00703606e-04,  2.80040048e-02, -1.62362534e-02,  2.32015532e-02,\n",
    "       -7.01852245e-02,  1.65919140e-02,  7.25363024e-03, -4.83051956e-03,\n",
    "        1.41858822e-02,  6.85437437e-03, -1.58676117e-02,  4.82723839e-03,\n",
    "        6.33969777e-03, -2.46758789e-02,  2.42193209e-04, -1.45870754e-04,\n",
    "        4.15867207e-03, -2.83023087e-03,  7.62388260e-05, -4.24610507e-03,\n",
    "        5.26083293e-04,  1.47810804e-03, -9.19516190e-03,  8.25254437e-03,\n",
    "       -5.18481866e-03,  1.03654765e-02,  2.87040417e-03, -1.10418835e-03,\n",
    "        9.52434223e-05, -2.21408556e-03, -6.79991381e-03,  6.17574698e-03,\n",
    "       -8.83819104e-04,  1.25073748e-02,  1.17980381e-02, -6.81557286e-04,\n",
    "        3.04168241e-03, -4.21957706e-03,  3.05120532e-03, -7.89844324e-04,\n",
    "       -2.93426593e-03, -8.38652464e-04,  1.05935638e-03,  6.74906118e-03,\n",
    "       -5.14042339e-03, -2.37742304e-03, -4.46900931e-04, -2.72629361e-03,\n",
    "        9.62469273e-04, -1.57391539e-03, -1.61121536e-05, -5.49546918e-03,\n",
    "        1.91647269e-02, -4.83097086e-05, -6.78384591e-03,  1.00960720e-03,\n",
    "       -2.12687675e-03, -2.30717357e-04,  1.28182126e-04])"
   ]
  },
  {
   "cell_type": "code",
   "execution_count": 60,
   "metadata": {},
   "outputs": [
    {
     "data": {
      "text/plain": [
       "['accuracy',\n",
       " 'adjusted_mutual_info_score',\n",
       " 'adjusted_rand_score',\n",
       " 'average_precision',\n",
       " 'balanced_accuracy',\n",
       " 'brier_score_loss',\n",
       " 'completeness_score',\n",
       " 'explained_variance',\n",
       " 'f1',\n",
       " 'f1_macro',\n",
       " 'f1_micro',\n",
       " 'f1_samples',\n",
       " 'f1_weighted',\n",
       " 'fowlkes_mallows_score',\n",
       " 'homogeneity_score',\n",
       " 'jaccard',\n",
       " 'jaccard_macro',\n",
       " 'jaccard_micro',\n",
       " 'jaccard_samples',\n",
       " 'jaccard_weighted',\n",
       " 'max_error',\n",
       " 'mutual_info_score',\n",
       " 'neg_log_loss',\n",
       " 'neg_mean_absolute_error',\n",
       " 'neg_mean_squared_error',\n",
       " 'neg_mean_squared_log_error',\n",
       " 'neg_median_absolute_error',\n",
       " 'normalized_mutual_info_score',\n",
       " 'precision',\n",
       " 'precision_macro',\n",
       " 'precision_micro',\n",
       " 'precision_samples',\n",
       " 'precision_weighted',\n",
       " 'r2',\n",
       " 'recall',\n",
       " 'recall_macro',\n",
       " 'recall_micro',\n",
       " 'recall_samples',\n",
       " 'recall_weighted',\n",
       " 'roc_auc',\n",
       " 'v_measure_score']"
      ]
     },
     "execution_count": 60,
     "metadata": {},
     "output_type": "execute_result"
    }
   ],
   "source": [
    "from sklearn import metrics \n",
    "sorted(metrics.SCORERS.keys())"
   ]
  },
  {
   "cell_type": "markdown",
   "metadata": {},
   "source": [
    "## Naive approach"
   ]
  },
  {
   "cell_type": "markdown",
   "metadata": {},
   "source": [
    "### Random value between min and max"
   ]
  },
  {
   "cell_type": "code",
   "execution_count": 61,
   "metadata": {},
   "outputs": [
    {
     "data": {
      "text/plain": [
       "93.62362121815198"
      ]
     },
     "execution_count": 61,
     "metadata": {},
     "output_type": "execute_result"
    }
   ],
   "source": [
    "y_pred_random = np.random.randint(df['ARR_DELAY'].min(), df['ARR_DELAY'].max(), df_test['ARR_DELAY'].shape)\n",
    "naive_mse = mean_squared_error(df_test[model1_label], y_pred_random)\n",
    "naive_rmse = np.sqrt(naive_mse)\n",
    "naive_rmse"
   ]
  },
  {
   "cell_type": "markdown",
   "metadata": {},
   "source": [
    "### Always mean naive approach"
   ]
  },
  {
   "cell_type": "code",
   "execution_count": 62,
   "metadata": {},
   "outputs": [
    {
     "name": "stdout",
     "output_type": "stream",
     "text": [
      "RMSE : 27.58\n",
      "MAE : 4.21\n"
     ]
    }
   ],
   "source": [
    "from sklearn import dummy\n",
    "\n",
    "dum = dummy.DummyRegressor(strategy='mean')\n",
    "\n",
    "# Entraînement\n",
    "dum.fit(df_train_transformed, df_train[model1_label])\n",
    "\n",
    "# Prédiction sur le jeu de test\n",
    "y_pred_dum = dum.predict(df_test_transformed)\n",
    "\n",
    "# Evaluate\n",
    "print(\"RMSE : {:.2f}\".format(np.sqrt(mean_squared_error(df_test[model1_label], y_pred_dum)) ))\n",
    "print(\"MAE : {:.2f}\".format(np.sqrt(mean_absolute_error(df_test[model1_label], y_pred_dum)) ))\n"
   ]
  },
  {
   "cell_type": "code",
   "execution_count": 63,
   "metadata": {},
   "outputs": [
    {
     "data": {
      "text/plain": [
       "<matplotlib.collections.PathCollection at 0x7f2990057e50>"
      ]
     },
     "execution_count": 63,
     "metadata": {},
     "output_type": "execute_result"
    },
    {
     "data": {
      "image/png": "[encoded data removed]",
      "text/plain": [
       "<Figure size 432x288 with 1 Axes>"
      ]
     },
     "metadata": {
      "needs_background": "light"
     },
     "output_type": "display_data"
    }
   ],
   "source": [
    "plt.scatter(df_test[model1_label], y_pred_dum, color='coral')"
   ]
  },
  {
   "cell_type": "code",
   "execution_count": 64,
   "metadata": {},
   "outputs": [
    {
     "data": {
      "text/plain": [
       "454845     -8.0\n",
       "4235029   -17.0\n",
       "1706111    -6.0\n",
       "3426078     0.0\n",
       "932515    -16.0\n",
       "           ... \n",
       "3003726    -2.0\n",
       "2252284     9.0\n",
       "537736     -5.0\n",
       "1738775   -17.0\n",
       "517545     17.0\n",
       "Name: ARR_DELAY, Length: 80000, dtype: float64"
      ]
     },
     "execution_count": 64,
     "metadata": {},
     "output_type": "execute_result"
    }
   ],
   "source": [
    "df_test[model1_label]"
   ]
  },
  {
   "cell_type": "code",
   "execution_count": 65,
   "metadata": {},
   "outputs": [
    {
     "data": {
      "text/plain": [
       "array([1.12847222, 1.12847222, 1.12847222, ..., 1.12847222, 1.12847222,\n",
       "       1.12847222])"
      ]
     },
     "execution_count": 65,
     "metadata": {},
     "output_type": "execute_result"
    }
   ],
   "source": [
    "y_pred_dum"
   ]
  },
  {
   "cell_type": "code",
   "execution_count": 66,
   "metadata": {},
   "outputs": [
    {
     "data": {
      "text/plain": [
       "17.32877625"
      ]
     },
     "execution_count": 66,
     "metadata": {},
     "output_type": "execute_result"
    }
   ],
   "source": [
    "df['ARR_DELAY'].abs().mean()"
   ]
  },
  {
   "cell_type": "markdown",
   "metadata": {},
   "source": [
    "=> With all samples and 70% most represented features, without StandardScale :  on test set : lin_rmse = 42.17  \n",
    "=> With all samples and 80% most represented features, without StandardScale :  on test set : lin_rmse = 42.16  \n",
    "=> With all samples and 80% most represented features, with StandardScale :  on test set : lin_rmse = 42.16"
   ]
  },
  {
   "cell_type": "markdown",
   "metadata": {},
   "source": [
    "# Random forest"
   ]
  },
  {
   "cell_type": "code",
   "execution_count": 67,
   "metadata": {},
   "outputs": [],
   "source": [
    "from sklearn.ensemble import RandomForestRegressor\n",
    "\n",
    "if (EXECUTE_INTERMEDIATE_MODELS == True):\n",
    "    random_reg = RandomForestRegressor(n_estimators=10, max_depth=2, random_state=42)\n",
    "    random_reg.fit(df_train_transformed, df_train[model1_label])"
   ]
  },
  {
   "cell_type": "code",
   "execution_count": 68,
   "metadata": {},
   "outputs": [],
   "source": [
    "if (EXECUTE_INTERMEDIATE_MODELS == True):\n",
    "    df_test_predictions = random_reg.predict(df_test_transformed)\n",
    "    mse = mean_squared_error(df_test[model1_label], df_test_predictions)\n",
    "    rmse = np.sqrt(mse)\n",
    "    print(rmse)"
   ]
  },
  {
   "cell_type": "markdown",
   "metadata": {},
   "source": [
    "=> 42.373691516139964"
   ]
  },
  {
   "cell_type": "markdown",
   "metadata": {},
   "source": [
    "# SVM"
   ]
  },
  {
   "cell_type": "code",
   "execution_count": 69,
   "metadata": {},
   "outputs": [
    {
     "data": {
      "text/plain": [
       "'\\nfrom sklearn.svm import SVR\\n\\nsvm_reg = SVR(kernel=\"rbf\", verbose=True)\\nsvm_reg.fit(df_train_transformed, df_train[model1_label])\\n'"
      ]
     },
     "execution_count": 69,
     "metadata": {},
     "output_type": "execute_result"
    }
   ],
   "source": [
    "'''\n",
    "from sklearn.svm import SVR\n",
    "\n",
    "svm_reg = SVR(kernel=\"rbf\", verbose=True)\n",
    "svm_reg.fit(df_train_transformed, df_train[model1_label])\n",
    "'''"
   ]
  },
  {
   "cell_type": "code",
   "execution_count": 70,
   "metadata": {},
   "outputs": [
    {
     "name": "stdout",
     "output_type": "stream",
     "text": [
      "[LibLinear]"
     ]
    }
   ],
   "source": [
    "from sklearn.svm import LinearSVR\n",
    "\n",
    "svm_reg = LinearSVR(random_state=42, tol=1e-5, verbose=True)\n",
    "\n",
    "if (EXECUTE_INTERMEDIATE_MODELS == True):\n",
    "    svm_reg.fit(df_train_transformed, df_train[model1_label])"
   ]
  },
  {
   "cell_type": "code",
   "execution_count": 71,
   "metadata": {},
   "outputs": [
    {
     "name": "stdout",
     "output_type": "stream",
     "text": [
      "RMSE : 28.09256195797021\n"
     ]
    }
   ],
   "source": [
    "if (EXECUTE_INTERMEDIATE_MODELS == True):\n",
    "    evaluate_model(svm_reg, df_test_transformed, df_test[model1_label])"
   ]
  },
  {
   "cell_type": "markdown",
   "metadata": {},
   "source": [
    "=> RMSE : 43.45607643335432"
   ]
  },
  {
   "cell_type": "code",
   "execution_count": 72,
   "metadata": {},
   "outputs": [],
   "source": [
    "grid_search_SVR = GridSearchCV(svm_reg, param_grid = {\"epsilon\": [0, 0.5],\n",
    "                              \"C\": [1, 5, 10, 100, 1000],\n",
    "                              \"loss\": ['epsilon_insensitive', 'squared_epsilon_insensitive'],},cv=shuffled_split_train, scoring='neg_mean_squared_error', error_score=np.nan, verbose=2)"
   ]
  },
  {
   "cell_type": "code",
   "execution_count": 73,
   "metadata": {},
   "outputs": [],
   "source": [
    "if (EXECUTE_INTERMEDIATE_MODELS == True):\n",
    "    if (RECOMPUTE_GRIDSEARCH == True):\n",
    "        grid_search_SVR.fit(df_train_transformed, df_train[model1_label])"
   ]
  },
  {
   "cell_type": "markdown",
   "metadata": {},
   "source": [
    "=> Warning at execution : /home/francois/anaconda3/lib/python3.7/site-packages/sklearn/svm/base.py:929: ConvergenceWarning: Liblinear failed to converge, increase the number of iterations.\n",
    "  \"the number of iterations.\", ConvergenceWarning)  "
   ]
  },
  {
   "cell_type": "code",
   "execution_count": 74,
   "metadata": {},
   "outputs": [],
   "source": [
    "if ((EXECUTE_INTERMEDIATE_MODELS == True) and (LOAD_GRID_RESULTS == True)):\n",
    "    grid_search_SVR, df_grid_search_results = save_or_load_search_params(grid_search_SVR, 'LinearSVR_20200319')"
   ]
  },
  {
   "cell_type": "code",
   "execution_count": 75,
   "metadata": {},
   "outputs": [],
   "source": [
    "if ((EXECUTE_INTERMEDIATE_MODELS == True) and (LOAD_GRID_RESULTS == True)):\n",
    "    df_grid_search_results.sort_values(by='mean_test_score', ascending=False)"
   ]
  },
  {
   "cell_type": "code",
   "execution_count": 76,
   "metadata": {},
   "outputs": [],
   "source": [
    "if ((EXECUTE_INTERMEDIATE_MODELS == True) and (LOAD_GRID_RESULTS == True)):\n",
    "    np.sqrt(1709.197402)"
   ]
  },
  {
   "cell_type": "code",
   "execution_count": 77,
   "metadata": {},
   "outputs": [],
   "source": [
    "if ((EXECUTE_INTERMEDIATE_MODELS == True) and (LOAD_GRID_RESULTS == True)):\n",
    "    grid_search_SVR.best_estimator_"
   ]
  },
  {
   "cell_type": "code",
   "execution_count": 78,
   "metadata": {},
   "outputs": [],
   "source": [
    "if ((EXECUTE_INTERMEDIATE_MODELS == True) and (LOAD_GRID_RESULTS == True)):\n",
    "    evaluate_model(grid_search_SVR.best_estimator_, df_test_transformed, df_test[model1_label])"
   ]
  },
  {
   "cell_type": "markdown",
   "metadata": {},
   "source": [
    "=> Best estimator :  inearSVR(C=1, dual=True, epsilon=0, fit_intercept=True, intercept_scaling=1.0,\n",
    "          loss='squared_epsilon_insensitive', max_iter=1000, random_state=0,\n",
    "          tol=1e-05, verbose=True)  \n",
    "\n",
    "=> RMSE : 42.16"
   ]
  },
  {
   "cell_type": "markdown",
   "metadata": {},
   "source": [
    "# Polynomial features + linear regression"
   ]
  },
  {
   "cell_type": "code",
   "execution_count": 79,
   "metadata": {},
   "outputs": [
    {
     "data": {
      "text/plain": [
       "<720000x113 sparse matrix of type '<class 'numpy.float64'>'\n",
       "\twith 8640000 stored elements in Compressed Sparse Row format>"
      ]
     },
     "execution_count": 79,
     "metadata": {},
     "output_type": "execute_result"
    }
   ],
   "source": [
    "df_train_transformed"
   ]
  },
  {
   "cell_type": "code",
   "execution_count": 80,
   "metadata": {},
   "outputs": [],
   "source": [
    "poly = ColumnTransformer([\n",
    "                                ('poly', PolynomialFeatures(degree=2), [0, 1, 2, 3, 4, 5, 6])     \n",
    "                                ], remainder='passthrough', sparse_threshold=1)\n",
    "\n",
    "#poly.fit(df_train_transformed, df_train[model1_label])\n",
    "#poly.fit(df_train_transformed)"
   ]
  },
  {
   "cell_type": "code",
   "execution_count": 81,
   "metadata": {},
   "outputs": [],
   "source": [
    "if (EXECUTE_INTERMEDIATE_MODELS == True):\n",
    "    df_train_transformed = poly.fit_transform(df_train_transformed)\n",
    "    df_test_transformed = poly.transform(df_test_transformed)"
   ]
  },
  {
   "cell_type": "code",
   "execution_count": 82,
   "metadata": {},
   "outputs": [
    {
     "data": {
      "text/plain": [
       "(720000, 142)"
      ]
     },
     "execution_count": 82,
     "metadata": {},
     "output_type": "execute_result"
    }
   ],
   "source": [
    "df_train_transformed.shape"
   ]
  },
  {
   "cell_type": "code",
   "execution_count": 83,
   "metadata": {},
   "outputs": [],
   "source": [
    "if (EXECUTE_INTERMEDIATE_MODELS == True):\n",
    "    lin_reg = LinearRegression()\n",
    "    lin_reg.fit(df_train_transformed, df_train[model1_label])"
   ]
  },
  {
   "cell_type": "code",
   "execution_count": 84,
   "metadata": {},
   "outputs": [
    {
     "name": "stdout",
     "output_type": "stream",
     "text": [
      "RMSE : 26.94101675082222\n"
     ]
    }
   ],
   "source": [
    "if (EXECUTE_INTERMEDIATE_MODELS == True):\n",
    "    evaluate_model(lin_reg, df_test_transformed, df_test[model1_label])"
   ]
  },
  {
   "cell_type": "markdown",
   "metadata": {},
   "source": [
    "=> 42.11719088178065"
   ]
  },
  {
   "cell_type": "markdown",
   "metadata": {},
   "source": [
    "# Polynomial features + random forest"
   ]
  },
  {
   "cell_type": "code",
   "execution_count": 85,
   "metadata": {},
   "outputs": [],
   "source": [
    "from sklearn.ensemble import RandomForestRegressor\n",
    "\n",
    "if (EXECUTE_INTERMEDIATE_MODELS == True):\n",
    "    random_reg = RandomForestRegressor(n_estimators=10, max_depth=2, random_state=42)\n",
    "    random_reg.fit(df_train_transformed, df_train[model1_label])"
   ]
  },
  {
   "cell_type": "code",
   "execution_count": 86,
   "metadata": {},
   "outputs": [
    {
     "name": "stdout",
     "output_type": "stream",
     "text": [
      "RMSE : 27.225161548914524\n"
     ]
    }
   ],
   "source": [
    "if (EXECUTE_INTERMEDIATE_MODELS == True):\n",
    "    df_test_predictions = random_reg.predict(df_test_transformed)\n",
    "    evaluate_model(random_reg, df_test_transformed, df_test[model1_label])"
   ]
  },
  {
   "cell_type": "code",
   "execution_count": 87,
   "metadata": {},
   "outputs": [],
   "source": [
    "#evaluate_model(polynomial_reg, df_test_transformed, df_test[model1_label])"
   ]
  },
  {
   "cell_type": "markdown",
   "metadata": {
    "toc-hr-collapsed": false
   },
   "source": [
    "# New try with group by + mean + sort encoding of categorical features\n",
    "With preparation_pipeline_meansort instead of preparation_pipeline"
   ]
  },
  {
   "cell_type": "code",
   "execution_count": 88,
   "metadata": {},
   "outputs": [],
   "source": [
    "if (DATA_LOADED == True):\n",
    "    del df\n",
    "    del df_train\n",
    "    del df_test\n",
    "    del df_train_transformed\n",
    "    del df_test_transformed"
   ]
  },
  {
   "cell_type": "code",
   "execution_count": 89,
   "metadata": {},
   "outputs": [],
   "source": [
    "df = load_data()"
   ]
  },
  {
   "cell_type": "code",
   "execution_count": 90,
   "metadata": {},
   "outputs": [
    {
     "name": "stdout",
     "output_type": "stream",
     "text": [
      "Quantitative features : ['MONTH', 'DAY_OF_MONTH', 'DAY_OF_WEEK', 'DISTANCE', 'CRS_ELAPSED_TIME', 'ARR_DELAY', 'DEP_DELAY', 'TAXI_OUT', 'NBFLIGHTS_FORDAYHOUR_FORAIRPORT', 'NBFLIGHTS_FORDAY_FORAIRPORT'] \n",
      "\n",
      "Qualitative features : ['ORIGIN', 'CRS_DEP_TIME', 'UNIQUE_CARRIER', 'DEST', 'CRS_ARR_TIME', 'TAIL_NUM'] \n",
      "\n"
     ]
    }
   ],
   "source": [
    "all_features, model1_features, model1_label, quantitative_features, qualitative_features = identify_features(df)"
   ]
  },
  {
   "cell_type": "code",
   "execution_count": 91,
   "metadata": {},
   "outputs": [],
   "source": [
    "df, df_train, df_test = custom_train_test_split_sample(df)"
   ]
  },
  {
   "cell_type": "code",
   "execution_count": 92,
   "metadata": {
    "jupyter": {
     "source_hidden": true
    }
   },
   "outputs": [
    {
     "name": "stdout",
     "output_type": "stream",
     "text": [
      "Converting feature CRS_DEP_TIME\n",
      "\n",
      "Converting feature CRS_ARR_TIME\n",
      "\n",
      "Fit data\n",
      "Fitting feature ORIGIN\n",
      "Fitting feature UNIQUE_CARRIER\n",
      "Fitting feature DEST\n",
      "Encode categorical features...\n",
      "Encoding feature ORIGIN ...\n",
      "Encoding feature UNIQUE_CARRIER ...\n",
      "Encoding feature DEST ...\n",
      "Fit data\n",
      "!! categorical_features_totransformNone\n",
      "Features selected (in order): Index(['CRS_ARR_TIME', 'CRS_DEP_TIME', 'CRS_ELAPSED_TIME', 'DAY_OF_MONTH',\n",
      "       'DAY_OF_WEEK', 'DEST', 'DISTANCE', 'MONTH',\n",
      "       'NBFLIGHTS_FORDAYHOUR_FORAIRPORT', 'NBFLIGHTS_FORDAY_FORAIRPORT',\n",
      "       'ORIGIN', 'UNIQUE_CARRIER'],\n",
      "      dtype='object')\n",
      "Converting feature CRS_DEP_TIME\n",
      "\n",
      "Converting feature CRS_ARR_TIME\n",
      "\n",
      "Encode categorical features...\n",
      "Encoding feature ORIGIN ...\n",
      "Encoding feature UNIQUE_CARRIER ...\n",
      "Encoding feature DEST ...\n",
      "Features selected (in order): Index(['CRS_ARR_TIME', 'CRS_DEP_TIME', 'CRS_ELAPSED_TIME', 'DAY_OF_MONTH',\n",
      "       'DAY_OF_WEEK', 'DEST', 'DISTANCE', 'MONTH',\n",
      "       'NBFLIGHTS_FORDAYHOUR_FORAIRPORT', 'NBFLIGHTS_FORDAY_FORAIRPORT',\n",
      "       'ORIGIN', 'UNIQUE_CARRIER'],\n",
      "      dtype='object')\n"
     ]
    },
    {
     "data": {
      "text/plain": [
       "(80000, 12)"
      ]
     },
     "execution_count": 92,
     "metadata": {},
     "output_type": "execute_result"
    }
   ],
   "source": [
    "df_train_transformed = preparation_pipeline_meansort.fit_transform(df_train, categoricalfeatures_1hotencoder__categorical_features_totransform=None)\n",
    "df_train_transformed = prediction_pipeline_without_sparse.fit_transform(df_train_transformed)\n",
    "\n",
    "df_test_transformed = preparation_pipeline_meansort.transform(df_test)\n",
    "df_test_transformed = prediction_pipeline_without_sparse.transform(df_test_transformed)\n",
    "DATA_LOADED = True\n",
    "df_test_transformed.shape"
   ]
  },
  {
   "cell_type": "code",
   "execution_count": 93,
   "metadata": {},
   "outputs": [
    {
     "name": "stdout",
     "output_type": "stream",
     "text": [
      "RMSE : 27.085195585917386\n"
     ]
    }
   ],
   "source": [
    "from sklearn.linear_model import LinearRegression\n",
    "\n",
    "lin_reg = LinearRegression()\n",
    "\n",
    "lin_reg.fit(df_train_transformed, df_train[model1_label])\n",
    "\n",
    "df_test_predictions = lin_reg.predict(df_test_transformed)\n",
    "evaluate_model(lin_reg, df_test_transformed, df_test[model1_label])"
   ]
  },
  {
   "cell_type": "code",
   "execution_count": 94,
   "metadata": {},
   "outputs": [
    {
     "name": "stdout",
     "output_type": "stream",
     "text": [
      "RMSE : 27.06753037908108\n"
     ]
    }
   ],
   "source": [
    "evaluate_model(lin_reg, df_train_transformed, df_train[model1_label])"
   ]
  },
  {
   "cell_type": "markdown",
   "metadata": {},
   "source": [
    "=> RMSE on training set : 41.35267146874754 (close to RMSE on test set => under fitting)"
   ]
  },
  {
   "cell_type": "code",
   "execution_count": 95,
   "metadata": {},
   "outputs": [
    {
     "data": {
      "text/plain": [
       "array([ 2.73189032,  0.41090473,  0.33655647, -0.01539504,  1.16045399,\n",
       "        3.1364859 , -3.81917717,  0.01177283,  0.1743462 ,  0.02068006,\n",
       "        0.02265531,  0.60434767])"
      ]
     },
     "execution_count": 95,
     "metadata": {},
     "output_type": "execute_result"
    }
   ],
   "source": [
    "lin_reg.coef_"
   ]
  },
  {
   "cell_type": "code",
   "execution_count": 96,
   "metadata": {},
   "outputs": [
    {
     "data": {
      "text/plain": [
       "array([0.219523  , 0.03301854, 0.02704424, 0.00123708, 0.09324911,\n",
       "       0.25203456, 0.30689271, 0.00094601, 0.01400971, 0.00166176,\n",
       "       0.00182048, 0.04856279])"
      ]
     },
     "execution_count": 96,
     "metadata": {},
     "output_type": "execute_result"
    }
   ],
   "source": [
    "# Feature importances :\n",
    "(abs(lin_reg.coef_) / (abs(lin_reg.coef_).sum()))"
   ]
  },
  {
   "cell_type": "code",
   "execution_count": 97,
   "metadata": {},
   "outputs": [
    {
     "data": {
      "text/plain": [
       "(720000, 12)"
      ]
     },
     "execution_count": 97,
     "metadata": {},
     "output_type": "execute_result"
    }
   ],
   "source": [
    "df_train_transformed.shape"
   ]
  },
  {
   "cell_type": "code",
   "execution_count": 98,
   "metadata": {},
   "outputs": [
    {
     "data": {
      "text/plain": [
       "array([[ 4.04563321e-02, -4.47018985e-01,  5.89247464e-01, ...,\n",
       "         1.77000000e+02,  2.65000000e+02,  7.00000000e+00],\n",
       "       [ 4.68399791e-01,  4.33873299e-01,  2.15283807e-02, ...,\n",
       "         2.01000000e+02,  2.31000000e+02,  4.00000000e+00],\n",
       "       [-1.97290034e-01, -4.47018985e-01, -7.73278336e-01, ...,\n",
       "         2.18000000e+02,  2.95000000e+02,  7.00000000e+00],\n",
       "       ...,\n",
       "       [ 2.34744488e-02,  7.27504060e-01,  2.48616014e-01, ...,\n",
       "         2.78000000e+02,  1.75000000e+02,  1.10000000e+01],\n",
       "       [-1.06336608e+00,  7.27504060e-01,  1.27051036e+00, ...,\n",
       "         2.53000000e+02,  2.95000000e+02,  4.00000000e+00],\n",
       "       [ 1.29711569e+00, -4.47018985e-01,  4.75703648e-01, ...,\n",
       "         1.08000000e+02,  2.32000000e+02,  6.00000000e+00]])"
      ]
     },
     "execution_count": 98,
     "metadata": {},
     "output_type": "execute_result"
    }
   ],
   "source": [
    "df_train_transformed"
   ]
  },
  {
   "cell_type": "code",
   "execution_count": 99,
   "metadata": {},
   "outputs": [
    {
     "data": {
      "application/vnd.jupyter.widget-view+json": {
       "model_id": "1ad34bd49a514c2fbdf5e5ae2bfa979e",
       "version_major": 2,
       "version_minor": 0
      },
      "text/plain": [
       "HBox(children=(IntProgress(value=0, max=73), HTML(value='')))"
      ]
     },
     "metadata": {},
     "output_type": "display_data"
    },
    {
     "name": "stdout",
     "output_type": "stream",
     "text": [
      "Calculating learning curve for 73 iterations\n"
     ]
    },
    {
     "data": {
      "image/png": "[encoded data removed]",
      "text/plain": [
       "<Figure size 432x288 with 1 Axes>"
      ]
     },
     "metadata": {
      "needs_background": "light"
     },
     "output_type": "display_data"
    }
   ],
   "source": [
    "plot_learning_curves(lin_reg, df_train_transformed, df_test_transformed, df_train[model1_label], df_test[model1_label], 10000)"
   ]
  },
  {
   "cell_type": "markdown",
   "metadata": {},
   "source": [
    "## Linear Regression with bias"
   ]
  },
  {
   "cell_type": "code",
   "execution_count": 100,
   "metadata": {},
   "outputs": [],
   "source": [
    "df_train_transformed_bias = np.c_[np.ones((len(df_train_transformed), 1)), df_train_transformed]  # add x0 = 1 to each instance\n",
    "df_test_transformed_bias = np.c_[np.ones((len(df_test_transformed), 1)), df_test_transformed]  # add x0 = 1 to each instance"
   ]
  },
  {
   "cell_type": "code",
   "execution_count": 101,
   "metadata": {},
   "outputs": [
    {
     "name": "stdout",
     "output_type": "stream",
     "text": [
      "RMSE : 27.085195585917383\n"
     ]
    }
   ],
   "source": [
    "from sklearn.linear_model import LinearRegression\n",
    "\n",
    "lin_reg = LinearRegression()\n",
    "\n",
    "lin_reg.fit(df_train_transformed_bias, df_train[model1_label])\n",
    "\n",
    "df_test_predictions = lin_reg.predict(df_test_transformed_bias)\n",
    "evaluate_model(lin_reg, df_test_transformed_bias, df_test[model1_label])"
   ]
  },
  {
   "cell_type": "code",
   "execution_count": 102,
   "metadata": {},
   "outputs": [
    {
     "data": {
      "application/vnd.jupyter.widget-view+json": {
       "model_id": "d5bfb09101264a0f886a3655a856e72a",
       "version_major": 2,
       "version_minor": 0
      },
      "text/plain": [
       "HBox(children=(IntProgress(value=0, max=73), HTML(value='')))"
      ]
     },
     "metadata": {},
     "output_type": "display_data"
    },
    {
     "name": "stdout",
     "output_type": "stream",
     "text": [
      "Calculating learning curve for 73 iterations\n"
     ]
    },
    {
     "data": {
      "image/png": "[encoded data removed]",
      "text/plain": [
       "<Figure size 432x288 with 1 Axes>"
      ]
     },
     "metadata": {
      "needs_background": "light"
     },
     "output_type": "display_data"
    }
   ],
   "source": [
    "plot_learning_curves(lin_reg, df_train_transformed, df_test_transformed, df_train[model1_label], df_test[model1_label], 10000)"
   ]
  },
  {
   "cell_type": "markdown",
   "metadata": {},
   "source": [
    "## Polynomial regression degree 2"
   ]
  },
  {
   "cell_type": "code",
   "execution_count": 103,
   "metadata": {},
   "outputs": [],
   "source": [
    "poly = PolynomialFeatures(degree=2)\n",
    "poly.fit(df_train_transformed)\n",
    "df_train_transformed = poly.transform(df_train_transformed)\n",
    "df_test_transformed = poly.transform(df_test_transformed)"
   ]
  },
  {
   "cell_type": "code",
   "execution_count": 104,
   "metadata": {},
   "outputs": [
    {
     "data": {
      "text/plain": [
       "91"
      ]
     },
     "execution_count": 104,
     "metadata": {},
     "output_type": "execute_result"
    }
   ],
   "source": [
    "poly.n_output_features_"
   ]
  },
  {
   "cell_type": "code",
   "execution_count": 105,
   "metadata": {},
   "outputs": [
    {
     "data": {
      "text/plain": [
       "(720000, 91)"
      ]
     },
     "execution_count": 105,
     "metadata": {},
     "output_type": "execute_result"
    }
   ],
   "source": [
    "df_train_transformed.shape"
   ]
  },
  {
   "cell_type": "code",
   "execution_count": 106,
   "metadata": {},
   "outputs": [],
   "source": [
    "if (EXECUTE_INTERMEDIATE_MODELS == True):\n",
    "    lin_reg = LinearRegression()\n",
    "    lin_reg.fit(df_train_transformed, df_train[model1_label])"
   ]
  },
  {
   "cell_type": "code",
   "execution_count": 107,
   "metadata": {},
   "outputs": [
    {
     "name": "stdout",
     "output_type": "stream",
     "text": [
      "RMSE : 26.962742760959262\n"
     ]
    }
   ],
   "source": [
    "if (EXECUTE_INTERMEDIATE_MODELS == True):\n",
    "    evaluate_model(lin_reg, df_test_transformed, df_test[model1_label])"
   ]
  },
  {
   "cell_type": "markdown",
   "metadata": {},
   "source": [
    "=> RMSE on test set : RMSE : 42.12678182212536"
   ]
  },
  {
   "cell_type": "code",
   "execution_count": 108,
   "metadata": {},
   "outputs": [
    {
     "name": "stdout",
     "output_type": "stream",
     "text": [
      "RMSE : 26.961186529991995\n"
     ]
    }
   ],
   "source": [
    "evaluate_model(lin_reg, df_train_transformed, df_train[model1_label])"
   ]
  },
  {
   "cell_type": "markdown",
   "metadata": {},
   "source": [
    "=> RMSE on training set : 41.26055791264713"
   ]
  },
  {
   "cell_type": "code",
   "execution_count": 109,
   "metadata": {},
   "outputs": [
    {
     "data": {
      "application/vnd.jupyter.widget-view+json": {
       "model_id": "12c5e537ee0547d897c3fb587eaa2858",
       "version_major": 2,
       "version_minor": 0
      },
      "text/plain": [
       "HBox(children=(IntProgress(value=0, max=73), HTML(value='')))"
      ]
     },
     "metadata": {},
     "output_type": "display_data"
    },
    {
     "name": "stdout",
     "output_type": "stream",
     "text": [
      "Calculating learning curve for 73 iterations\n"
     ]
    },
    {
     "data": {
      "image/png": "[encoded data removed]",
      "text/plain": [
       "<Figure size 432x288 with 1 Axes>"
      ]
     },
     "metadata": {
      "needs_background": "light"
     },
     "output_type": "display_data"
    }
   ],
   "source": [
    "plot_learning_curves(lin_reg, df_train_transformed, df_test_transformed, df_train[model1_label], df_test[model1_label], LEARNING_CURVE_STEP_SIZE)"
   ]
  },
  {
   "cell_type": "code",
   "execution_count": 110,
   "metadata": {},
   "outputs": [
    {
     "data": {
      "text/plain": [
       "array([4.53879449e-15, 2.48049767e-02, 2.21778464e-03, 5.74837030e-03,\n",
       "       2.47499342e-03, 2.96015980e-02, 1.19370191e-01, 1.12684155e-01,\n",
       "       8.38457464e-03, 1.35996047e-02, 1.71903192e-04, 3.89596225e-04,\n",
       "       1.29284527e-02, 2.11341123e-02, 2.91737995e-04, 4.38283462e-03,\n",
       "       2.93207926e-03, 1.25077331e-02, 3.32209266e-02, 2.50021828e-02,\n",
       "       4.24386595e-03, 3.23064264e-03, 4.93615444e-05, 5.70045701e-05,\n",
       "       3.29635761e-03, 1.08563688e-02, 7.47349559e-03, 2.61165485e-03,\n",
       "       8.63307401e-04, 2.90245122e-02, 3.14528208e-02, 5.78385734e-03,\n",
       "       4.22040474e-03, 4.38680165e-05, 8.83620798e-06, 1.35074100e-03,\n",
       "       5.33727790e-03, 1.27756672e-03, 4.97968670e-05, 1.50547845e-03,\n",
       "       1.47804084e-03, 1.40270744e-03, 2.65665684e-04, 1.26642448e-05,\n",
       "       2.21221212e-05, 6.64153097e-04, 6.97085328e-03, 2.35500661e-04,\n",
       "       1.37526659e-02, 1.31937812e-02, 4.67518290e-03, 5.10116362e-03,\n",
       "       5.51233170e-06, 2.96227839e-06, 5.86193391e-04, 2.89949500e-03,\n",
       "       6.88174749e-04, 5.13972948e-03, 1.18250306e-03, 1.63388232e-03,\n",
       "       3.63902163e-05, 2.75319382e-05, 8.73710027e-04, 4.39515854e-02,\n",
       "       1.02308775e-01, 3.46070542e-02, 5.15725452e-02, 1.31701155e-04,\n",
       "       2.39535374e-04, 5.52758121e-03, 5.75283488e-02, 3.23462756e-02,\n",
       "       4.55463432e-02, 8.70020287e-05, 2.16044705e-04, 4.83457964e-03,\n",
       "       4.72973684e-03, 4.46474305e-03, 1.75234942e-05, 7.76082212e-05,\n",
       "       2.01926094e-03, 1.72983401e-03, 4.53042051e-05, 6.08264575e-05,\n",
       "       2.41638933e-03, 1.45754521e-06, 2.76913180e-07, 2.20882569e-05,\n",
       "       2.03965179e-07, 4.14224536e-06, 7.76209798e-05])"
      ]
     },
     "execution_count": 110,
     "metadata": {},
     "output_type": "execute_result"
    }
   ],
   "source": [
    "# Feature importances :\n",
    "(abs(lin_reg.coef_) / (abs(lin_reg.coef_).sum()))"
   ]
  },
  {
   "cell_type": "code",
   "execution_count": 111,
   "metadata": {},
   "outputs": [
    {
     "data": {
      "text/plain": [
       "(720000,)"
      ]
     },
     "execution_count": 111,
     "metadata": {},
     "output_type": "execute_result"
    }
   ],
   "source": [
    "df_train_transformed[:,0].shape"
   ]
  },
  {
   "cell_type": "markdown",
   "metadata": {
    "toc-hr-collapsed": false
   },
   "source": [
    "## Polynomial regression univariate, and higher degree"
   ]
  },
  {
   "cell_type": "markdown",
   "metadata": {},
   "source": [
    "### Degree 3"
   ]
  },
  {
   "cell_type": "code",
   "execution_count": 117,
   "metadata": {},
   "outputs": [],
   "source": [
    "if (DATA_LOADED == True):\n",
    "    del df\n",
    "    del df_train\n",
    "    del df_test\n",
    "    del df_train_transformed\n",
    "    del df_test_transformed"
   ]
  },
  {
   "cell_type": "code",
   "execution_count": 118,
   "metadata": {},
   "outputs": [],
   "source": [
    "df = load_data()"
   ]
  },
  {
   "cell_type": "code",
   "execution_count": 119,
   "metadata": {},
   "outputs": [
    {
     "name": "stdout",
     "output_type": "stream",
     "text": [
      "Quantitative features : ['MONTH', 'DAY_OF_MONTH', 'DAY_OF_WEEK', 'DISTANCE', 'CRS_ELAPSED_TIME', 'ARR_DELAY', 'DEP_DELAY', 'TAXI_OUT', 'NBFLIGHTS_FORDAYHOUR_FORAIRPORT', 'NBFLIGHTS_FORDAY_FORAIRPORT'] \n",
      "\n",
      "Qualitative features : ['ORIGIN', 'CRS_DEP_TIME', 'UNIQUE_CARRIER', 'DEST', 'CRS_ARR_TIME', 'TAIL_NUM'] \n",
      "\n"
     ]
    }
   ],
   "source": [
    "all_features, model1_features, model1_label, quantitative_features, qualitative_features = identify_features(df)"
   ]
  },
  {
   "cell_type": "code",
   "execution_count": 120,
   "metadata": {},
   "outputs": [],
   "source": [
    "df, df_train, df_test = custom_train_test_split_sample(df)"
   ]
  },
  {
   "cell_type": "code",
   "execution_count": 121,
   "metadata": {
    "collapsed": true,
    "jupyter": {
     "outputs_hidden": true
    }
   },
   "outputs": [
    {
     "name": "stdout",
     "output_type": "stream",
     "text": [
      "Converting feature CRS_DEP_TIME\n",
      "\n",
      "Converting feature CRS_ARR_TIME\n",
      "\n",
      "Fit data\n",
      "Fitting feature ORIGIN\n",
      "Fitting feature UNIQUE_CARRIER\n",
      "Fitting feature DEST\n",
      "Encode categorical features...\n",
      "Encoding feature ORIGIN ...\n",
      "Encoding feature UNIQUE_CARRIER ...\n",
      "Encoding feature DEST ...\n",
      "Fit data\n",
      "!! categorical_features_totransformNone\n",
      "Features selected (in order): Index(['CRS_ARR_TIME', 'CRS_DEP_TIME', 'CRS_ELAPSED_TIME', 'DAY_OF_MONTH',\n",
      "       'DAY_OF_WEEK', 'DEST', 'DISTANCE', 'MONTH',\n",
      "       'NBFLIGHTS_FORDAYHOUR_FORAIRPORT', 'NBFLIGHTS_FORDAY_FORAIRPORT',\n",
      "       'ORIGIN', 'UNIQUE_CARRIER'],\n",
      "      dtype='object')\n",
      "Converting feature CRS_DEP_TIME\n",
      "\n",
      "Converting feature CRS_ARR_TIME\n",
      "\n",
      "Encode categorical features...\n",
      "Encoding feature ORIGIN ...\n",
      "Encoding feature UNIQUE_CARRIER ...\n",
      "Encoding feature DEST ...\n",
      "Features selected (in order): Index(['CRS_ARR_TIME', 'CRS_DEP_TIME', 'CRS_ELAPSED_TIME', 'DAY_OF_MONTH',\n",
      "       'DAY_OF_WEEK', 'DEST', 'DISTANCE', 'MONTH',\n",
      "       'NBFLIGHTS_FORDAYHOUR_FORAIRPORT', 'NBFLIGHTS_FORDAY_FORAIRPORT',\n",
      "       'ORIGIN', 'UNIQUE_CARRIER'],\n",
      "      dtype='object')\n"
     ]
    },
    {
     "data": {
      "text/plain": [
       "(80000, 12)"
      ]
     },
     "execution_count": 121,
     "metadata": {},
     "output_type": "execute_result"
    }
   ],
   "source": [
    "df_train_transformed = preparation_pipeline_meansort.fit_transform(df_train, categoricalfeatures_1hotencoder__categorical_features_totransform=None)\n",
    "df_train_transformed = prediction_pipeline_without_sparse.fit_transform(df_train_transformed)\n",
    "\n",
    "df_test_transformed = preparation_pipeline_meansort.transform(df_test)\n",
    "df_test_transformed = prediction_pipeline_without_sparse.transform(df_test_transformed)\n",
    "DATA_LOADED = True\n",
    "df_test_transformed.shape"
   ]
  },
  {
   "cell_type": "code",
   "execution_count": 122,
   "metadata": {},
   "outputs": [],
   "source": [
    "nb_instances = df_train_transformed.shape[0]"
   ]
  },
  {
   "cell_type": "code",
   "execution_count": 123,
   "metadata": {},
   "outputs": [],
   "source": [
    "poly = PolynomialFeaturesUnivariateAdder(n_degrees = 3)"
   ]
  },
  {
   "cell_type": "code",
   "execution_count": 125,
   "metadata": {},
   "outputs": [
    {
     "data": {
      "application/vnd.jupyter.widget-view+json": {
       "model_id": "43ed3828f3aa4139bf13c28cd16ea263",
       "version_major": 2,
       "version_minor": 0
      },
      "text/plain": [
       "HBox(children=(IntProgress(value=0, max=12), HTML(value='')))"
      ]
     },
     "metadata": {},
     "output_type": "display_data"
    },
    {
     "name": "stdout",
     "output_type": "stream",
     "text": [
      "Adding polynomial features\n"
     ]
    },
    {
     "data": {
      "application/vnd.jupyter.widget-view+json": {
       "model_id": "053303bca05d44b1ae91c5ff2a867d75",
       "version_major": 2,
       "version_minor": 0
      },
      "text/plain": [
       "HBox(children=(IntProgress(value=0, max=12), HTML(value='')))"
      ]
     },
     "metadata": {},
     "output_type": "display_data"
    },
    {
     "name": "stdout",
     "output_type": "stream",
     "text": [
      "Adding polynomial features\n"
     ]
    }
   ],
   "source": [
    "df_train_transformed = poly.fit_transform(df_train_transformed)\n",
    "df_test_transformed = poly.fit_transform(df_test_transformed)"
   ]
  },
  {
   "cell_type": "code",
   "execution_count": 126,
   "metadata": {},
   "outputs": [
    {
     "name": "stdout",
     "output_type": "stream",
     "text": [
      "RMSE : 27.00138058828136\n"
     ]
    },
    {
     "data": {
      "application/vnd.jupyter.widget-view+json": {
       "model_id": "34d097be04dd407fbd3d805fc1106da7",
       "version_major": 2,
       "version_minor": 0
      },
      "text/plain": [
       "HBox(children=(IntProgress(value=0, max=73), HTML(value='')))"
      ]
     },
     "metadata": {},
     "output_type": "display_data"
    },
    {
     "name": "stdout",
     "output_type": "stream",
     "text": [
      "Calculating learning curve for 73 iterations\n"
     ]
    },
    {
     "data": {
      "image/png": "[encoded data removed]",
      "text/plain": [
       "<Figure size 432x288 with 1 Axes>"
      ]
     },
     "metadata": {
      "needs_background": "light"
     },
     "output_type": "display_data"
    }
   ],
   "source": [
    "lin_reg = LinearRegression()\n",
    "\n",
    "lin_reg.fit(df_train_transformed, df_train[model1_label])\n",
    "\n",
    "df_test_predictions = lin_reg.predict(df_test_transformed)\n",
    "evaluate_model(lin_reg, df_test_transformed, df_test[model1_label])\n",
    "plot_learning_curves(lin_reg, df_train_transformed, df_test_transformed, df_train[model1_label], df_test[model1_label], LEARNING_CURVE_STEP_SIZE)"
   ]
  },
  {
   "cell_type": "markdown",
   "metadata": {},
   "source": [
    "### Degree 4"
   ]
  },
  {
   "cell_type": "code",
   "execution_count": 127,
   "metadata": {},
   "outputs": [],
   "source": [
    "del df\n",
    "del df_train\n",
    "del df_test\n",
    "del df_train_transformed\n",
    "del df_test_transformed"
   ]
  },
  {
   "cell_type": "code",
   "execution_count": 128,
   "metadata": {},
   "outputs": [
    {
     "name": "stdout",
     "output_type": "stream",
     "text": [
      "Quantitative features : ['MONTH', 'DAY_OF_MONTH', 'DAY_OF_WEEK', 'DISTANCE', 'CRS_ELAPSED_TIME', 'ARR_DELAY', 'DEP_DELAY', 'TAXI_OUT', 'NBFLIGHTS_FORDAYHOUR_FORAIRPORT', 'NBFLIGHTS_FORDAY_FORAIRPORT'] \n",
      "\n",
      "Qualitative features : ['ORIGIN', 'CRS_DEP_TIME', 'UNIQUE_CARRIER', 'DEST', 'CRS_ARR_TIME', 'TAIL_NUM'] \n",
      "\n",
      "Converting feature CRS_DEP_TIME\n",
      "\n",
      "Converting feature CRS_ARR_TIME\n",
      "\n",
      "Fit data\n",
      "Fitting feature ORIGIN\n",
      "Fitting feature UNIQUE_CARRIER\n",
      "Fitting feature DEST\n",
      "Encode categorical features...\n",
      "Encoding feature ORIGIN ...\n",
      "Encoding feature UNIQUE_CARRIER ...\n",
      "Encoding feature DEST ...\n",
      "Fit data\n",
      "!! categorical_features_totransformNone\n",
      "Features selected (in order): Index(['CRS_ARR_TIME', 'CRS_DEP_TIME', 'CRS_ELAPSED_TIME', 'DAY_OF_MONTH',\n",
      "       'DAY_OF_WEEK', 'DEST', 'DISTANCE', 'MONTH',\n",
      "       'NBFLIGHTS_FORDAYHOUR_FORAIRPORT', 'NBFLIGHTS_FORDAY_FORAIRPORT',\n",
      "       'ORIGIN', 'UNIQUE_CARRIER'],\n",
      "      dtype='object')\n",
      "Converting feature CRS_DEP_TIME\n",
      "\n",
      "Converting feature CRS_ARR_TIME\n",
      "\n",
      "Encode categorical features...\n",
      "Encoding feature ORIGIN ...\n",
      "Encoding feature UNIQUE_CARRIER ...\n",
      "Encoding feature DEST ...\n",
      "Features selected (in order): Index(['CRS_ARR_TIME', 'CRS_DEP_TIME', 'CRS_ELAPSED_TIME', 'DAY_OF_MONTH',\n",
      "       'DAY_OF_WEEK', 'DEST', 'DISTANCE', 'MONTH',\n",
      "       'NBFLIGHTS_FORDAYHOUR_FORAIRPORT', 'NBFLIGHTS_FORDAY_FORAIRPORT',\n",
      "       'ORIGIN', 'UNIQUE_CARRIER'],\n",
      "      dtype='object')\n"
     ]
    }
   ],
   "source": [
    "df, df_train, df_test, df_train_transformed, df_test_transformed = reset_data()"
   ]
  },
  {
   "cell_type": "code",
   "execution_count": 129,
   "metadata": {},
   "outputs": [
    {
     "data": {
      "text/plain": [
       "array([[ 4.04563321e-02, -4.47018985e-01,  5.89247464e-01, ...,\n",
       "         1.77000000e+02,  2.65000000e+02,  7.00000000e+00],\n",
       "       [ 4.68399791e-01,  4.33873299e-01,  2.15283807e-02, ...,\n",
       "         2.01000000e+02,  2.31000000e+02,  4.00000000e+00],\n",
       "       [-1.97290034e-01, -4.47018985e-01, -7.73278336e-01, ...,\n",
       "         2.18000000e+02,  2.95000000e+02,  7.00000000e+00],\n",
       "       ...,\n",
       "       [ 2.34744488e-02,  7.27504060e-01,  2.48616014e-01, ...,\n",
       "         2.78000000e+02,  1.75000000e+02,  1.10000000e+01],\n",
       "       [-1.06336608e+00,  7.27504060e-01,  1.27051036e+00, ...,\n",
       "         2.53000000e+02,  2.95000000e+02,  4.00000000e+00],\n",
       "       [ 1.29711569e+00, -4.47018985e-01,  4.75703648e-01, ...,\n",
       "         1.08000000e+02,  2.32000000e+02,  6.00000000e+00]])"
      ]
     },
     "execution_count": 129,
     "metadata": {},
     "output_type": "execute_result"
    }
   ],
   "source": [
    "df_train_transformed"
   ]
  },
  {
   "cell_type": "code",
   "execution_count": 130,
   "metadata": {},
   "outputs": [
    {
     "data": {
      "application/vnd.jupyter.widget-view+json": {
       "model_id": "9ac7f1ba85fe4b9cac9b2c92ff5c7f98",
       "version_major": 2,
       "version_minor": 0
      },
      "text/plain": [
       "HBox(children=(IntProgress(value=0, max=12), HTML(value='')))"
      ]
     },
     "metadata": {},
     "output_type": "display_data"
    },
    {
     "name": "stdout",
     "output_type": "stream",
     "text": [
      "Adding polynomial features\n",
      "\n"
     ]
    },
    {
     "data": {
      "application/vnd.jupyter.widget-view+json": {
       "model_id": "2e53ffdbc43740729e916b2d366671dd",
       "version_major": 2,
       "version_minor": 0
      },
      "text/plain": [
       "HBox(children=(IntProgress(value=0, max=12), HTML(value='')))"
      ]
     },
     "metadata": {},
     "output_type": "display_data"
    },
    {
     "name": "stdout",
     "output_type": "stream",
     "text": [
      "Adding polynomial features\n"
     ]
    }
   ],
   "source": [
    "poly = PolynomialFeaturesUnivariateAdder(n_degrees = 4)\n",
    "df_train_transformed = poly.fit_transform(df_train_transformed)\n",
    "df_test_transformed = poly.transform(df_test_transformed)"
   ]
  },
  {
   "cell_type": "code",
   "execution_count": 131,
   "metadata": {},
   "outputs": [
    {
     "name": "stdout",
     "output_type": "stream",
     "text": [
      "RMSE : 26.897941501198357\n"
     ]
    },
    {
     "data": {
      "application/vnd.jupyter.widget-view+json": {
       "model_id": "c895aa71f0464def8340b2d676a2d9f9",
       "version_major": 2,
       "version_minor": 0
      },
      "text/plain": [
       "HBox(children=(IntProgress(value=0, max=73), HTML(value='')))"
      ]
     },
     "metadata": {},
     "output_type": "display_data"
    },
    {
     "name": "stdout",
     "output_type": "stream",
     "text": [
      "Calculating learning curve for 73 iterations\n"
     ]
    },
    {
     "data": {
      "image/png": "[encoded data removed]",
      "text/plain": [
       "<Figure size 432x288 with 1 Axes>"
      ]
     },
     "metadata": {
      "needs_background": "light"
     },
     "output_type": "display_data"
    }
   ],
   "source": [
    "lin_reg = LinearRegression()\n",
    "\n",
    "lin_reg.fit(df_train_transformed, df_train[model1_label])\n",
    "\n",
    "df_test_predictions = lin_reg.predict(df_test_transformed)\n",
    "evaluate_model(lin_reg, df_test_transformed, df_test[model1_label])\n",
    "plot_learning_curves(lin_reg, df_train_transformed, df_test_transformed, df_train[model1_label], df_test[model1_label], LEARNING_CURVE_STEP_SIZE)"
   ]
  },
  {
   "cell_type": "code",
   "execution_count": null,
   "metadata": {},
   "outputs": [],
   "source": [
    "#lin_reg.summary"
   ]
  },
  {
   "cell_type": "markdown",
   "metadata": {},
   "source": [
    "# New try with 1 hot encode of : 'MONTH', 'DAY_OF_MONTH', 'DAY_OF_WEEK'"
   ]
  },
  {
   "cell_type": "code",
   "execution_count": 143,
   "metadata": {},
   "outputs": [],
   "source": [
    "if (DATA_LOADED == True):\n",
    "    del df\n",
    "    del df_train\n",
    "    del df_test\n",
    "    del df_train_transformed\n",
    "    del df_test_transformed"
   ]
  },
  {
   "cell_type": "code",
   "execution_count": 144,
   "metadata": {},
   "outputs": [],
   "source": [
    "df = load_data()"
   ]
  },
  {
   "cell_type": "code",
   "execution_count": 145,
   "metadata": {},
   "outputs": [
    {
     "name": "stdout",
     "output_type": "stream",
     "text": [
      "Quantitative features : ['MONTH', 'DAY_OF_MONTH', 'DAY_OF_WEEK', 'DISTANCE', 'CRS_ELAPSED_TIME', 'ARR_DELAY', 'DEP_DELAY', 'TAXI_OUT', 'NBFLIGHTS_FORDAYHOUR_FORAIRPORT', 'NBFLIGHTS_FORDAY_FORAIRPORT'] \n",
      "\n",
      "Qualitative features : ['ORIGIN', 'CRS_DEP_TIME', 'UNIQUE_CARRIER', 'DEST', 'CRS_ARR_TIME', 'TAIL_NUM'] \n",
      "\n"
     ]
    }
   ],
   "source": [
    "all_features, model1_features, model1_label, quantitative_features, qualitative_features = identify_features(df)"
   ]
  },
  {
   "cell_type": "code",
   "execution_count": 146,
   "metadata": {},
   "outputs": [],
   "source": [
    "df, df_train, df_test = custom_train_test_split_sample(df)"
   ]
  },
  {
   "cell_type": "code",
   "execution_count": 147,
   "metadata": {},
   "outputs": [
    {
     "name": "stdout",
     "output_type": "stream",
     "text": [
      "Converting feature CRS_DEP_TIME\n",
      "\n",
      "Converting feature CRS_ARR_TIME\n",
      "\n",
      "Fit data\n",
      "Fitting feature ORIGIN\n",
      "Fitting feature UNIQUE_CARRIER\n",
      "Fitting feature DEST\n",
      "Encode categorical features...\n",
      "Encoding feature ORIGIN ...\n",
      "Encoding feature UNIQUE_CARRIER ...\n",
      "Encoding feature DEST ...\n",
      "Fit data\n",
      "!! categorical_features_totransform['MONTH', 'DAY_OF_MONTH', 'DAY_OF_WEEK']\n",
      "Transform data\n",
      "1hot encode categorical features...\n",
      "Column values that were in fitted data but not in current data: []\n",
      "Column values that were in fitted data but not in current data: []\n",
      "Column values that were in fitted data but not in current data: []\n",
      "type of df : <class 'pandas.core.frame.DataFrame'>\n",
      "Features selected (in order): Index(['CRS_ARR_TIME', 'CRS_DEP_TIME', 'CRS_ELAPSED_TIME', 'DAY_OF_MONTH_1',\n",
      "       'DAY_OF_MONTH_10', 'DAY_OF_MONTH_11', 'DAY_OF_MONTH_12',\n",
      "       'DAY_OF_MONTH_13', 'DAY_OF_MONTH_14', 'DAY_OF_MONTH_15',\n",
      "       'DAY_OF_MONTH_16', 'DAY_OF_MONTH_17', 'DAY_OF_MONTH_18',\n",
      "       'DAY_OF_MONTH_19', 'DAY_OF_MONTH_2', 'DAY_OF_MONTH_20',\n",
      "       'DAY_OF_MONTH_21', 'DAY_OF_MONTH_22', 'DAY_OF_MONTH_23',\n",
      "       'DAY_OF_MONTH_24', 'DAY_OF_MONTH_25', 'DAY_OF_MONTH_26',\n",
      "       'DAY_OF_MONTH_27', 'DAY_OF_MONTH_28', 'DAY_OF_MONTH_29',\n",
      "       'DAY_OF_MONTH_3', 'DAY_OF_MONTH_30', 'DAY_OF_MONTH_31',\n",
      "       'DAY_OF_MONTH_4', 'DAY_OF_MONTH_5', 'DAY_OF_MONTH_6', 'DAY_OF_MONTH_7',\n",
      "       'DAY_OF_MONTH_8', 'DAY_OF_MONTH_9', 'DAY_OF_WEEK_1', 'DAY_OF_WEEK_2',\n",
      "       'DAY_OF_WEEK_3', 'DAY_OF_WEEK_4', 'DAY_OF_WEEK_5', 'DAY_OF_WEEK_6',\n",
      "       'DAY_OF_WEEK_7', 'DEST', 'DISTANCE', 'MONTH_1', 'MONTH_10', 'MONTH_11',\n",
      "       'MONTH_12', 'MONTH_2', 'MONTH_3', 'MONTH_4', 'MONTH_5', 'MONTH_6',\n",
      "       'MONTH_7', 'MONTH_8', 'MONTH_9', 'NBFLIGHTS_FORDAYHOUR_FORAIRPORT',\n",
      "       'NBFLIGHTS_FORDAY_FORAIRPORT', 'ORIGIN', 'UNIQUE_CARRIER'],\n",
      "      dtype='object')\n",
      "Converting feature CRS_DEP_TIME\n",
      "\n",
      "Converting feature CRS_ARR_TIME\n",
      "\n",
      "Encode categorical features...\n",
      "Encoding feature ORIGIN ...\n",
      "Encoding feature UNIQUE_CARRIER ...\n",
      "Encoding feature DEST ...\n",
      "Transform data\n",
      "1hot encode categorical features...\n",
      "Column values that were in fitted data but not in current data: []\n",
      "Column values that were in fitted data but not in current data: []\n",
      "Column values that were in fitted data but not in current data: []\n",
      "type of df : <class 'pandas.core.frame.DataFrame'>\n",
      "Features selected (in order): Index(['CRS_ARR_TIME', 'CRS_DEP_TIME', 'CRS_ELAPSED_TIME', 'DAY_OF_MONTH_1',\n",
      "       'DAY_OF_MONTH_10', 'DAY_OF_MONTH_11', 'DAY_OF_MONTH_12',\n",
      "       'DAY_OF_MONTH_13', 'DAY_OF_MONTH_14', 'DAY_OF_MONTH_15',\n",
      "       'DAY_OF_MONTH_16', 'DAY_OF_MONTH_17', 'DAY_OF_MONTH_18',\n",
      "       'DAY_OF_MONTH_19', 'DAY_OF_MONTH_2', 'DAY_OF_MONTH_20',\n",
      "       'DAY_OF_MONTH_21', 'DAY_OF_MONTH_22', 'DAY_OF_MONTH_23',\n",
      "       'DAY_OF_MONTH_24', 'DAY_OF_MONTH_25', 'DAY_OF_MONTH_26',\n",
      "       'DAY_OF_MONTH_27', 'DAY_OF_MONTH_28', 'DAY_OF_MONTH_29',\n",
      "       'DAY_OF_MONTH_3', 'DAY_OF_MONTH_30', 'DAY_OF_MONTH_31',\n",
      "       'DAY_OF_MONTH_4', 'DAY_OF_MONTH_5', 'DAY_OF_MONTH_6', 'DAY_OF_MONTH_7',\n",
      "       'DAY_OF_MONTH_8', 'DAY_OF_MONTH_9', 'DAY_OF_WEEK_1', 'DAY_OF_WEEK_2',\n",
      "       'DAY_OF_WEEK_3', 'DAY_OF_WEEK_4', 'DAY_OF_WEEK_5', 'DAY_OF_WEEK_6',\n",
      "       'DAY_OF_WEEK_7', 'DEST', 'DISTANCE', 'MONTH_1', 'MONTH_10', 'MONTH_11',\n",
      "       'MONTH_12', 'MONTH_2', 'MONTH_3', 'MONTH_4', 'MONTH_5', 'MONTH_6',\n",
      "       'MONTH_7', 'MONTH_8', 'MONTH_9', 'NBFLIGHTS_FORDAYHOUR_FORAIRPORT',\n",
      "       'NBFLIGHTS_FORDAY_FORAIRPORT', 'ORIGIN', 'UNIQUE_CARRIER'],\n",
      "      dtype='object')\n"
     ]
    },
    {
     "data": {
      "text/plain": [
       "(80000, 59)"
      ]
     },
     "execution_count": 147,
     "metadata": {},
     "output_type": "execute_result"
    }
   ],
   "source": [
    "df_train_transformed = preparation_pipeline_meansort.fit_transform(df_train, categoricalfeatures_1hotencoder__categorical_features_totransform=['MONTH', 'DAY_OF_MONTH', 'DAY_OF_WEEK'])\n",
    "df_train_transformed = prediction_pipeline_1hotall_without_sparse.fit_transform(df_train_transformed)\n",
    "\n",
    "df_test_transformed = preparation_pipeline_meansort.transform(df_test)\n",
    "df_test_transformed = prediction_pipeline_1hotall_without_sparse.transform(df_test_transformed)\n",
    "DATA_LOADED = True\n",
    "df_test_transformed.shape"
   ]
  },
  {
   "cell_type": "code",
   "execution_count": 148,
   "metadata": {},
   "outputs": [
    {
     "name": "stdout",
     "output_type": "stream",
     "text": [
      "RMSE : 26.888713713245284\n"
     ]
    }
   ],
   "source": [
    "from sklearn.linear_model import LinearRegression\n",
    "\n",
    "lin_reg = LinearRegression()\n",
    "\n",
    "lin_reg.fit(df_train_transformed, df_train[model1_label])\n",
    "\n",
    "df_test_predictions = lin_reg.predict(df_test_transformed)\n",
    "evaluate_model(lin_reg, df_test_transformed, df_test[model1_label])"
   ]
  },
  {
   "cell_type": "markdown",
   "metadata": {},
   "source": [
    "=> RMSE : 41.98  \n",
    "=> RMSE without outliers : 26.88"
   ]
  },
  {
   "cell_type": "code",
   "execution_count": 149,
   "metadata": {},
   "outputs": [
    {
     "name": "stdout",
     "output_type": "stream",
     "text": [
      "RMSE : 26.881049367568203\n"
     ]
    }
   ],
   "source": [
    "evaluate_model(lin_reg, df_train_transformed, df_train[model1_label])"
   ]
  },
  {
   "cell_type": "markdown",
   "metadata": {},
   "source": [
    "=> RMSE on training set : 41.12  \n",
    "=> RMSE training set without outliers : 26.89"
   ]
  },
  {
   "cell_type": "code",
   "execution_count": 150,
   "metadata": {},
   "outputs": [
    {
     "data": {
      "text/plain": [
       "array([ 2.66947620e+00,  1.25039481e+00,  2.89203262e+00, -3.63194739e+00,\n",
       "        2.13128148e-01, -1.91628963e-01,  2.63989368e+10,  2.63989368e+10,\n",
       "        2.63989368e+10,  2.63989368e+10,  2.63989368e+10,  2.63989368e+10,\n",
       "        2.63989368e+10,  2.63989368e+10,  2.63989368e+10,  2.63989368e+10,\n",
       "        2.63989368e+10,  2.63989368e+10,  2.63989368e+10,  2.63989368e+10,\n",
       "        2.63989368e+10,  2.63989368e+10,  2.63989368e+10,  2.63989368e+10,\n",
       "        2.63989368e+10,  2.63989368e+10,  2.63989368e+10,  2.63989368e+10,\n",
       "        2.63989368e+10,  2.63989368e+10,  2.63989368e+10,  2.63989368e+10,\n",
       "        2.63989368e+10,  2.63989368e+10,  2.63989368e+10,  2.63989368e+10,\n",
       "        2.63989368e+10, -5.62127352e+09, -5.62127352e+09, -5.62127352e+09,\n",
       "       -5.62127352e+09, -5.62127352e+09, -5.62127352e+09, -5.62127352e+09,\n",
       "        2.09808350e-02,  3.41521759e+08,  3.41521758e+08,  3.41521757e+08,\n",
       "        3.41521764e+08,  3.41521758e+08,  3.41521761e+08,  3.41521759e+08,\n",
       "        3.41521760e+08,  3.41521764e+08,  3.41521765e+08,  3.41521764e+08,\n",
       "        3.41521758e+08,  2.39534378e-02,  5.90583801e-01])"
      ]
     },
     "execution_count": 150,
     "metadata": {},
     "output_type": "execute_result"
    }
   ],
   "source": [
    "lin_reg.coef_"
   ]
  },
  {
   "cell_type": "code",
   "execution_count": 151,
   "metadata": {},
   "outputs": [
    {
     "data": {
      "text/plain": [
       "array([3.09750773e-12, 1.45088673e-12, 3.35574949e-12, 4.21430433e-12,\n",
       "       2.47301731e-13, 2.22355305e-13, 3.06318187e-02, 3.06318187e-02,\n",
       "       3.06318187e-02, 3.06318187e-02, 3.06318187e-02, 3.06318187e-02,\n",
       "       3.06318187e-02, 3.06318187e-02, 3.06318187e-02, 3.06318187e-02,\n",
       "       3.06318187e-02, 3.06318187e-02, 3.06318187e-02, 3.06318187e-02,\n",
       "       3.06318187e-02, 3.06318187e-02, 3.06318187e-02, 3.06318187e-02,\n",
       "       3.06318187e-02, 3.06318187e-02, 3.06318187e-02, 3.06318187e-02,\n",
       "       3.06318187e-02, 3.06318187e-02, 3.06318187e-02, 3.06318187e-02,\n",
       "       3.06318187e-02, 3.06318187e-02, 3.06318187e-02, 3.06318187e-02,\n",
       "       3.06318187e-02, 6.52260477e-03, 6.52260477e-03, 6.52260477e-03,\n",
       "       6.52260477e-03, 6.52260477e-03, 6.52260477e-03, 6.52260477e-03,\n",
       "       2.43449627e-14, 3.96282346e-04, 3.96282344e-04, 3.96282343e-04,\n",
       "       3.96282351e-04, 3.96282344e-04, 3.96282347e-04, 3.96282345e-04,\n",
       "       3.96282346e-04, 3.96282350e-04, 3.96282353e-04, 3.96282351e-04,\n",
       "       3.96282344e-04, 2.77942013e-14, 6.85279715e-13])"
      ]
     },
     "execution_count": 151,
     "metadata": {},
     "output_type": "execute_result"
    }
   ],
   "source": [
    "# Feature importances :\n",
    "(abs(lin_reg.coef_) / (abs(lin_reg.coef_).sum()))"
   ]
  },
  {
   "cell_type": "code",
   "execution_count": 152,
   "metadata": {},
   "outputs": [
    {
     "data": {
      "text/plain": [
       "(720000, 59)"
      ]
     },
     "execution_count": 152,
     "metadata": {},
     "output_type": "execute_result"
    }
   ],
   "source": [
    "df_train_transformed.shape"
   ]
  },
  {
   "cell_type": "code",
   "execution_count": 153,
   "metadata": {},
   "outputs": [
    {
     "data": {
      "text/plain": [
       "array([[0.04045633206911063, 0.18733106695105436, 2.1096789265942824,\n",
       "        ..., 0, 265, 7],\n",
       "       [0.46839979077179467, 0.7400812450526321, -0.15140600506077734,\n",
       "        ..., 0, 231, 4],\n",
       "       [-0.19729003387682495, 1.1764629646065092, 2.6684152319599113,\n",
       "        ..., 0, 295, 7],\n",
       "       ...,\n",
       "       [0.023474448787258087, 1.3089937090636126, 2.6863862827172853,\n",
       "        ..., 1, 175, 11],\n",
       "       [-1.0633660812513046, -1.0183754618903986, -0.7656891945855624,\n",
       "        ..., 1, 295, 4],\n",
       "       [1.2971156949261986, 1.389805138610627, 1.4561861717806812, ...,\n",
       "        0, 232, 6]], dtype=object)"
      ]
     },
     "execution_count": 153,
     "metadata": {},
     "output_type": "execute_result"
    }
   ],
   "source": [
    "df_train_transformed"
   ]
  },
  {
   "cell_type": "code",
   "execution_count": 154,
   "metadata": {
    "collapsed": true,
    "jupyter": {
     "outputs_hidden": true
    }
   },
   "outputs": [
    {
     "data": {
      "application/vnd.jupyter.widget-view+json": {
       "model_id": "5081a8f40d464610899ead0abf4f34ca",
       "version_major": 2,
       "version_minor": 0
      },
      "text/plain": [
       "HBox(children=(IntProgress(value=0, max=73), HTML(value='')))"
      ]
     },
     "metadata": {},
     "output_type": "display_data"
    },
    {
     "name": "stdout",
     "output_type": "stream",
     "text": [
      "Calculating learning curve for 73 iterations\n"
     ]
    },
    {
     "data": {
      "image/png": "[encoded data removed]",
      "text/plain": [
       "<Figure size 432x288 with 1 Axes>"
      ]
     },
     "metadata": {
      "needs_background": "light"
     },
     "output_type": "display_data"
    }
   ],
   "source": [
    "plot_learning_curves(lin_reg, df_train_transformed, df_test_transformed, df_train[model1_label], df_test[model1_label], LEARNING_CURVE_STEP_SIZE)"
   ]
  },
  {
   "cell_type": "code",
   "execution_count": 155,
   "metadata": {},
   "outputs": [
    {
     "data": {
      "text/plain": [
       "'\\nTo gain memory\\ny_train = df_train[model1_label]\\ny_test = df_test[model1_label]\\ndel df_train\\ndel df_test\\n'"
      ]
     },
     "execution_count": 155,
     "metadata": {},
     "output_type": "execute_result"
    }
   ],
   "source": [
    "'''\n",
    "To gain memory\n",
    "y_train = df_train[model1_label]\n",
    "y_test = df_test[model1_label]\n",
    "del df_train\n",
    "del df_test\n",
    "'''"
   ]
  },
  {
   "cell_type": "code",
   "execution_count": null,
   "metadata": {},
   "outputs": [],
   "source": []
  },
  {
   "cell_type": "markdown",
   "metadata": {},
   "source": [
    "### Degree 2"
   ]
  },
  {
   "cell_type": "code",
   "execution_count": 156,
   "metadata": {},
   "outputs": [],
   "source": [
    "nb_instances = df_train_transformed.shape[0]"
   ]
  },
  {
   "cell_type": "code",
   "execution_count": 157,
   "metadata": {},
   "outputs": [],
   "source": [
    "poly = PolynomialFeaturesUnivariateAdder(n_degrees = 2)"
   ]
  },
  {
   "cell_type": "code",
   "execution_count": 158,
   "metadata": {},
   "outputs": [
    {
     "data": {
      "application/vnd.jupyter.widget-view+json": {
       "model_id": "436864e5eadd461ba9fcb91f5b752db4",
       "version_major": 2,
       "version_minor": 0
      },
      "text/plain": [
       "HBox(children=(IntProgress(value=0, max=59), HTML(value='')))"
      ]
     },
     "metadata": {},
     "output_type": "display_data"
    },
    {
     "name": "stdout",
     "output_type": "stream",
     "text": [
      "Adding polynomial features\n"
     ]
    },
    {
     "data": {
      "application/vnd.jupyter.widget-view+json": {
       "model_id": "bcf0b8a4adbe426a964268ff1566736b",
       "version_major": 2,
       "version_minor": 0
      },
      "text/plain": [
       "HBox(children=(IntProgress(value=0, max=59), HTML(value='')))"
      ]
     },
     "metadata": {},
     "output_type": "display_data"
    },
    {
     "name": "stdout",
     "output_type": "stream",
     "text": [
      "Adding polynomial features\n"
     ]
    }
   ],
   "source": [
    "df_train_transformed = poly.fit_transform(df_train_transformed)\n",
    "df_test_transformed = poly.fit_transform(df_test_transformed)"
   ]
  },
  {
   "cell_type": "code",
   "execution_count": 159,
   "metadata": {},
   "outputs": [
    {
     "name": "stdout",
     "output_type": "stream",
     "text": [
      "RMSE : 26.866943988702417\n"
     ]
    },
    {
     "data": {
      "application/vnd.jupyter.widget-view+json": {
       "model_id": "4f8e78676ae1444b9e458455ea44ae2f",
       "version_major": 2,
       "version_minor": 0
      },
      "text/plain": [
       "HBox(children=(IntProgress(value=0, max=73), HTML(value='')))"
      ]
     },
     "metadata": {},
     "output_type": "display_data"
    },
    {
     "name": "stdout",
     "output_type": "stream",
     "text": [
      "Calculating learning curve for 73 iterations\n"
     ]
    },
    {
     "data": {
      "image/png": "[encoded data removed]",
      "text/plain": [
       "<Figure size 432x288 with 1 Axes>"
      ]
     },
     "metadata": {
      "needs_background": "light"
     },
     "output_type": "display_data"
    }
   ],
   "source": [
    "lin_reg = LinearRegression()\n",
    "\n",
    "lin_reg.fit(df_train_transformed, df_train[model1_label])\n",
    "\n",
    "df_test_predictions = lin_reg.predict(df_test_transformed)\n",
    "evaluate_model(lin_reg, df_test_transformed, df_test[model1_label])\n",
    "plot_learning_curves(lin_reg, df_train_transformed, df_test_transformed, df_train[model1_label], df_test[model1_label], LEARNING_CURVE_STEP_SIZE)"
   ]
  },
  {
   "cell_type": "markdown",
   "metadata": {},
   "source": [
    "# Random forest"
   ]
  },
  {
   "cell_type": "code",
   "execution_count": 160,
   "metadata": {},
   "outputs": [],
   "source": [
    "from sklearn.ensemble import RandomForestRegressor\n",
    "\n",
    "if (EXECUTE_INTERMEDIATE_MODELS == True):\n",
    "    random_reg = RandomForestRegressor(n_estimators=10, max_depth=10, random_state=42)\n",
    "    random_reg.fit(df_train_transformed, df_train[model1_label])"
   ]
  },
  {
   "cell_type": "code",
   "execution_count": 161,
   "metadata": {},
   "outputs": [
    {
     "data": {
      "text/plain": [
       "array([2.02984164e-01, 2.80952704e-02, 3.47982862e-02, 2.10164992e-02,\n",
       "       1.63267792e-02, 1.41735737e-02, 1.94920433e-02, 1.61153155e-02,\n",
       "       1.43738814e-02, 1.58826150e-02, 2.68846087e-02, 2.51733800e-02,\n",
       "       5.80146024e-04, 9.18183348e-04, 7.71168596e-04, 6.33680023e-04,\n",
       "       6.69576242e-04, 8.55763785e-04, 9.10039785e-04, 1.03744405e-03,\n",
       "       1.33137205e-03, 1.53849020e-03, 3.09823497e-03, 2.23622775e-03,\n",
       "       1.37482662e-03, 1.53863107e-03, 2.42268054e-03, 3.07069400e-03,\n",
       "       8.66101839e-03, 1.22609527e-02, 6.78391389e-03, 5.64387450e-03,\n",
       "       1.00691835e-03, 1.35117095e-03, 1.65651175e-03, 1.05088741e-03,\n",
       "       1.08921320e-03, 1.70222912e-03, 3.19029939e-03, 3.53182461e-03,\n",
       "       1.66996656e-03, 1.59681336e-03, 3.39499235e-03, 4.92337368e-03,\n",
       "       9.31374513e-04, 1.40289441e-03, 1.19127176e-03, 1.01359851e-03,\n",
       "       8.53736839e-04, 7.08388035e-04, 5.63967426e-04, 6.83292743e-04,\n",
       "       3.07769357e-03, 4.77923237e-03, 3.28966420e-04, 9.17829469e-04,\n",
       "       1.47257631e-03, 1.50415649e-03, 9.05294821e-04, 1.31554840e-03,\n",
       "       9.00148785e-04, 2.02553894e-03, 2.45586177e-03, 1.87490745e-03,\n",
       "       2.47981471e-03, 1.92290351e-03, 1.99482623e-03, 1.01046434e-03,\n",
       "       6.88094092e-04, 9.35791077e-04, 3.78275308e-03, 1.85203691e-03,\n",
       "       1.14077980e-03, 1.20670123e-03, 8.89101814e-04, 7.53971046e-04,\n",
       "       1.42427231e-03, 1.12167925e-03, 7.84990630e-04, 3.73448023e-04,\n",
       "       2.63089733e-03, 1.74771761e-03, 4.73747677e-03, 3.21761425e-03,\n",
       "       2.40850562e-03, 2.84396466e-03, 1.04232682e-03, 7.73684658e-04,\n",
       "       4.16024013e-02, 4.89331343e-02, 2.48983914e-04, 2.93857079e-04,\n",
       "       1.29408754e-03, 1.17896486e-03, 2.04835067e-03, 2.69938347e-03,\n",
       "       1.49665573e-02, 1.22318359e-02, 1.12930655e-03, 5.06351642e-04,\n",
       "       1.04132503e-03, 6.58018366e-04, 2.84747487e-04, 1.33375565e-04,\n",
       "       1.26908624e-03, 8.03129327e-04, 1.62091265e-02, 8.05787122e-03,\n",
       "       1.12928621e-02, 3.19398945e-02, 1.22930270e-02, 1.23887017e-02,\n",
       "       5.42856972e-04, 5.54049685e-04, 3.94611140e-02, 2.59235181e-02,\n",
       "       6.86556941e-02, 5.28707573e-02, 0.00000000e+00])"
      ]
     },
     "execution_count": 161,
     "metadata": {},
     "output_type": "execute_result"
    }
   ],
   "source": [
    "random_reg.feature_importances_"
   ]
  },
  {
   "cell_type": "markdown",
   "metadata": {},
   "source": [
    "=> feature importance : 25% for CRS_ARR_TIME and 14% for UNIQUE_CARRIER  in previous model  (not this one)"
   ]
  },
  {
   "cell_type": "code",
   "execution_count": 162,
   "metadata": {},
   "outputs": [
    {
     "data": {
      "text/plain": [
       "DecisionTreeRegressor(criterion='mse', max_depth=10, max_features='auto',\n",
       "                      max_leaf_nodes=None, min_impurity_decrease=0.0,\n",
       "                      min_impurity_split=None, min_samples_leaf=1,\n",
       "                      min_samples_split=2, min_weight_fraction_leaf=0.0,\n",
       "                      presort=False, random_state=1608637542, splitter='best')"
      ]
     },
     "execution_count": 162,
     "metadata": {},
     "output_type": "execute_result"
    }
   ],
   "source": [
    "random_reg.estimators_[0]"
   ]
  },
  {
   "cell_type": "code",
   "execution_count": 163,
   "metadata": {},
   "outputs": [],
   "source": [
    "from sklearn.tree import export_graphviz\n",
    "export_graphviz(random_reg.estimators_[0], out_file=\"tree.dot\", rounded=True, filled=True)"
   ]
  },
  {
   "cell_type": "code",
   "execution_count": 164,
   "metadata": {},
   "outputs": [
    {
     "name": "stdout",
     "output_type": "stream",
     "text": [
      "RMSE : 26.499238113136474\n"
     ]
    },
    {
     "data": {
      "application/vnd.jupyter.widget-view+json": {
       "model_id": "521f7e3de7dc424789fccd31c98bbef4",
       "version_major": 2,
       "version_minor": 0
      },
      "text/plain": [
       "HBox(children=(IntProgress(value=0, max=73), HTML(value='')))"
      ]
     },
     "metadata": {},
     "output_type": "display_data"
    },
    {
     "name": "stdout",
     "output_type": "stream",
     "text": [
      "Calculating learning curve for 73 iterations\n"
     ]
    },
    {
     "data": {
      "image/png": "[encoded data removed]",
      "text/plain": [
       "<Figure size 432x288 with 1 Axes>"
      ]
     },
     "metadata": {
      "needs_background": "light"
     },
     "output_type": "display_data"
    }
   ],
   "source": [
    "if (EXECUTE_INTERMEDIATE_MODELS == True):\n",
    "    df_test_predictions = random_reg.predict(df_test_transformed)\n",
    "    evaluate_model(random_reg, df_test_transformed, df_test[model1_label])\n",
    "    plot_learning_curves(random_reg, df_train_transformed, df_test_transformed, df_train[model1_label], df_test[model1_label], LEARNING_CURVE_STEP_SIZE)"
   ]
  },
  {
   "cell_type": "code",
   "execution_count": 165,
   "metadata": {},
   "outputs": [
    {
     "data": {
      "application/vnd.jupyter.widget-view+json": {
       "model_id": "63674aa4f59c47209634c54a5a840016",
       "version_major": 2,
       "version_minor": 0
      },
      "text/plain": [
       "HBox(children=(IntProgress(value=0, max=73), HTML(value='')))"
      ]
     },
     "metadata": {},
     "output_type": "display_data"
    },
    {
     "name": "stdout",
     "output_type": "stream",
     "text": [
      "Calculating learning curve for 73 iterations\n"
     ]
    },
    {
     "data": {
      "image/png": "[encoded data removed]",
      "text/plain": [
       "<Figure size 432x288 with 1 Axes>"
      ]
     },
     "metadata": {
      "needs_background": "light"
     },
     "output_type": "display_data"
    }
   ],
   "source": [
    "plot_learning_curves(lin_reg, df_train_transformed, df_test_transformed, df_train[model1_label], df_test[model1_label], LEARNING_CURVE_STEP_SIZE, evaluation_method='MAE')"
   ]
  },
  {
   "cell_type": "markdown",
   "metadata": {},
   "source": [
    "# Cheat model : give access to the model to the ARR_DELAY variable ! it should now learn"
   ]
  },
  {
   "cell_type": "code",
   "execution_count": 174,
   "metadata": {},
   "outputs": [],
   "source": [
    "if (DATA_LOADED == True):\n",
    "    del df\n",
    "    del df_train\n",
    "    del df_test\n",
    "    del df_train_transformed\n",
    "    del df_test_transformed"
   ]
  },
  {
   "cell_type": "code",
   "execution_count": 175,
   "metadata": {},
   "outputs": [],
   "source": [
    "df = load_data()"
   ]
  },
  {
   "cell_type": "code",
   "execution_count": 176,
   "metadata": {},
   "outputs": [
    {
     "name": "stdout",
     "output_type": "stream",
     "text": [
      "Quantitative features : ['MONTH', 'DAY_OF_MONTH', 'DAY_OF_WEEK', 'DISTANCE', 'CRS_ELAPSED_TIME', 'ARR_DELAY', 'DEP_DELAY', 'TAXI_OUT', 'NBFLIGHTS_FORDAYHOUR_FORAIRPORT', 'NBFLIGHTS_FORDAY_FORAIRPORT'] \n",
      "\n",
      "Qualitative features : ['ORIGIN', 'CRS_DEP_TIME', 'UNIQUE_CARRIER', 'DEST', 'CRS_ARR_TIME', 'TAIL_NUM'] \n",
      "\n"
     ]
    }
   ],
   "source": [
    "all_features, model1_features, model1_label, quantitative_features, qualitative_features = identify_features(df)"
   ]
  },
  {
   "cell_type": "code",
   "execution_count": 177,
   "metadata": {},
   "outputs": [],
   "source": [
    "df, df_train, df_test = custom_train_test_split_sample(df)"
   ]
  },
  {
   "cell_type": "code",
   "execution_count": 178,
   "metadata": {},
   "outputs": [
    {
     "name": "stdout",
     "output_type": "stream",
     "text": [
      "Converting feature CRS_DEP_TIME\n",
      "\n",
      "Converting feature CRS_ARR_TIME\n",
      "\n",
      "Fit data\n",
      "Fitting feature ORIGIN\n",
      "Fitting feature UNIQUE_CARRIER\n",
      "Fitting feature DEST\n",
      "Encode categorical features...\n",
      "Encoding feature ORIGIN ...\n",
      "Encoding feature UNIQUE_CARRIER ...\n",
      "Encoding feature DEST ...\n",
      "Fit data\n",
      "!! categorical_features_totransform['MONTH', 'DAY_OF_MONTH', 'DAY_OF_WEEK']\n",
      "Transform data\n",
      "1hot encode categorical features...\n",
      "Column values that were in fitted data but not in current data: []\n",
      "Column values that were in fitted data but not in current data: []\n",
      "Column values that were in fitted data but not in current data: []\n",
      "type of df : <class 'pandas.core.frame.DataFrame'>\n",
      "Features selected (in order): Index(['ARR_DELAY', 'CRS_ARR_TIME', 'CRS_DEP_TIME', 'CRS_ELAPSED_TIME',\n",
      "       'DAY_OF_MONTH_1', 'DAY_OF_MONTH_10', 'DAY_OF_MONTH_11',\n",
      "       'DAY_OF_MONTH_12', 'DAY_OF_MONTH_13', 'DAY_OF_MONTH_14',\n",
      "       'DAY_OF_MONTH_15', 'DAY_OF_MONTH_16', 'DAY_OF_MONTH_17',\n",
      "       'DAY_OF_MONTH_18', 'DAY_OF_MONTH_19', 'DAY_OF_MONTH_2',\n",
      "       'DAY_OF_MONTH_20', 'DAY_OF_MONTH_21', 'DAY_OF_MONTH_22',\n",
      "       'DAY_OF_MONTH_23', 'DAY_OF_MONTH_24', 'DAY_OF_MONTH_25',\n",
      "       'DAY_OF_MONTH_26', 'DAY_OF_MONTH_27', 'DAY_OF_MONTH_28',\n",
      "       'DAY_OF_MONTH_29', 'DAY_OF_MONTH_3', 'DAY_OF_MONTH_30',\n",
      "       'DAY_OF_MONTH_31', 'DAY_OF_MONTH_4', 'DAY_OF_MONTH_5', 'DAY_OF_MONTH_6',\n",
      "       'DAY_OF_MONTH_7', 'DAY_OF_MONTH_8', 'DAY_OF_MONTH_9', 'DAY_OF_WEEK_1',\n",
      "       'DAY_OF_WEEK_2', 'DAY_OF_WEEK_3', 'DAY_OF_WEEK_4', 'DAY_OF_WEEK_5',\n",
      "       'DAY_OF_WEEK_6', 'DAY_OF_WEEK_7', 'DEST', 'DISTANCE', 'MONTH_1',\n",
      "       'MONTH_10', 'MONTH_11', 'MONTH_12', 'MONTH_2', 'MONTH_3', 'MONTH_4',\n",
      "       'MONTH_5', 'MONTH_6', 'MONTH_7', 'MONTH_8', 'MONTH_9',\n",
      "       'NBFLIGHTS_FORDAYHOUR_FORAIRPORT', 'NBFLIGHTS_FORDAY_FORAIRPORT',\n",
      "       'ORIGIN', 'UNIQUE_CARRIER'],\n",
      "      dtype='object')\n",
      "Converting feature CRS_DEP_TIME\n",
      "\n",
      "Converting feature CRS_ARR_TIME\n",
      "\n",
      "Encode categorical features...\n",
      "Encoding feature ORIGIN ...\n",
      "Encoding feature UNIQUE_CARRIER ...\n",
      "Encoding feature DEST ...\n",
      "Transform data\n",
      "1hot encode categorical features...\n",
      "Column values that were in fitted data but not in current data: []\n",
      "Column values that were in fitted data but not in current data: []\n",
      "Column values that were in fitted data but not in current data: []\n",
      "type of df : <class 'pandas.core.frame.DataFrame'>\n",
      "Features selected (in order): Index(['ARR_DELAY', 'CRS_ARR_TIME', 'CRS_DEP_TIME', 'CRS_ELAPSED_TIME',\n",
      "       'DAY_OF_MONTH_1', 'DAY_OF_MONTH_10', 'DAY_OF_MONTH_11',\n",
      "       'DAY_OF_MONTH_12', 'DAY_OF_MONTH_13', 'DAY_OF_MONTH_14',\n",
      "       'DAY_OF_MONTH_15', 'DAY_OF_MONTH_16', 'DAY_OF_MONTH_17',\n",
      "       'DAY_OF_MONTH_18', 'DAY_OF_MONTH_19', 'DAY_OF_MONTH_2',\n",
      "       'DAY_OF_MONTH_20', 'DAY_OF_MONTH_21', 'DAY_OF_MONTH_22',\n",
      "       'DAY_OF_MONTH_23', 'DAY_OF_MONTH_24', 'DAY_OF_MONTH_25',\n",
      "       'DAY_OF_MONTH_26', 'DAY_OF_MONTH_27', 'DAY_OF_MONTH_28',\n",
      "       'DAY_OF_MONTH_29', 'DAY_OF_MONTH_3', 'DAY_OF_MONTH_30',\n",
      "       'DAY_OF_MONTH_31', 'DAY_OF_MONTH_4', 'DAY_OF_MONTH_5', 'DAY_OF_MONTH_6',\n",
      "       'DAY_OF_MONTH_7', 'DAY_OF_MONTH_8', 'DAY_OF_MONTH_9', 'DAY_OF_WEEK_1',\n",
      "       'DAY_OF_WEEK_2', 'DAY_OF_WEEK_3', 'DAY_OF_WEEK_4', 'DAY_OF_WEEK_5',\n",
      "       'DAY_OF_WEEK_6', 'DAY_OF_WEEK_7', 'DEST', 'DISTANCE', 'MONTH_1',\n",
      "       'MONTH_10', 'MONTH_11', 'MONTH_12', 'MONTH_2', 'MONTH_3', 'MONTH_4',\n",
      "       'MONTH_5', 'MONTH_6', 'MONTH_7', 'MONTH_8', 'MONTH_9',\n",
      "       'NBFLIGHTS_FORDAYHOUR_FORAIRPORT', 'NBFLIGHTS_FORDAY_FORAIRPORT',\n",
      "       'ORIGIN', 'UNIQUE_CARRIER'],\n",
      "      dtype='object')\n"
     ]
    },
    {
     "data": {
      "text/plain": [
       "(80000, 60)"
      ]
     },
     "execution_count": 178,
     "metadata": {},
     "output_type": "execute_result"
    }
   ],
   "source": [
    "df_train_transformed = preparation_pipeline_meansort.fit_transform(df_train, categoricalfeatures_1hotencoder__categorical_features_totransform=['MONTH', 'DAY_OF_MONTH', 'DAY_OF_WEEK'])\n",
    "df_train_transformed = prediction_pipeline_cheat_without_sparse.fit_transform(df_train_transformed)\n",
    "\n",
    "df_test_transformed = preparation_pipeline_meansort.transform(df_test)\n",
    "df_test_transformed = prediction_pipeline_cheat_without_sparse.transform(df_test_transformed)\n",
    "DATA_LOADED = True\n",
    "df_test_transformed.shape"
   ]
  },
  {
   "cell_type": "code",
   "execution_count": 179,
   "metadata": {},
   "outputs": [
    {
     "name": "stdout",
     "output_type": "stream",
     "text": [
      "RMSE : 5.683864469696559e-13\n"
     ]
    }
   ],
   "source": [
    "from sklearn.linear_model import LinearRegression\n",
    "\n",
    "lin_reg = LinearRegression()\n",
    "\n",
    "lin_reg.fit(df_train_transformed, df_train[model1_label])\n",
    "\n",
    "df_test_predictions = lin_reg.predict(df_test_transformed)\n",
    "evaluate_model(lin_reg, df_test_transformed, df_test[model1_label])"
   ]
  },
  {
   "cell_type": "markdown",
   "metadata": {},
   "source": [
    "=> RMSE : 41.98  \n",
    "=> RMSE without outliers : 26.88"
   ]
  },
  {
   "cell_type": "code",
   "execution_count": 180,
   "metadata": {},
   "outputs": [
    {
     "name": "stdout",
     "output_type": "stream",
     "text": [
      "RMSE : 5.682513733898601e-13\n"
     ]
    }
   ],
   "source": [
    "evaluate_model(lin_reg, df_train_transformed, df_train[model1_label])"
   ]
  },
  {
   "cell_type": "markdown",
   "metadata": {},
   "source": [
    "=> RMSE on training set : 41.12  \n",
    "=> RMSE training set without outliers : 26.89"
   ]
  },
  {
   "cell_type": "code",
   "execution_count": 181,
   "metadata": {},
   "outputs": [
    {
     "data": {
      "text/plain": [
       "array([ 2.75697442e+01,  5.07605441e-15,  5.21920152e-15, -4.09881462e-15,\n",
       "       -1.25186163e-14,  3.89995219e-15,  6.33844754e-16,  1.00481621e-03,\n",
       "        1.00481621e-03,  1.00481621e-03,  1.00481621e-03,  1.00481621e-03,\n",
       "        1.00481621e-03,  1.00481621e-03,  1.00481621e-03,  1.00481621e-03,\n",
       "        1.00481621e-03,  1.00481621e-03,  1.00481621e-03,  1.00481621e-03,\n",
       "        1.00481621e-03,  1.00481621e-03,  1.00481621e-03,  1.00481621e-03,\n",
       "        1.00481621e-03,  1.00481621e-03,  1.00481621e-03,  1.00481621e-03,\n",
       "        1.00481621e-03,  1.00481621e-03,  1.00481621e-03,  1.00481621e-03,\n",
       "        1.00481621e-03,  1.00481621e-03,  1.00481621e-03,  1.00481621e-03,\n",
       "        1.00481621e-03,  1.00481621e-03, -7.61868267e-04, -7.61868267e-04,\n",
       "       -7.61868267e-04, -7.61868267e-04, -7.61868267e-04, -7.61868267e-04,\n",
       "       -7.61868267e-04,  2.45008007e-15, -1.73526500e-03, -1.73526500e-03,\n",
       "       -1.73526500e-03, -1.73526500e-03, -1.73526500e-03, -1.73526500e-03,\n",
       "       -1.73526500e-03, -1.73526500e-03, -1.73526500e-03, -1.73526500e-03,\n",
       "       -1.73526500e-03, -1.73526500e-03, -6.86545276e-15, -6.78127801e-16])"
      ]
     },
     "execution_count": 181,
     "metadata": {},
     "output_type": "execute_result"
    }
   ],
   "source": [
    "lin_reg.coef_"
   ]
  },
  {
   "cell_type": "code",
   "execution_count": 182,
   "metadata": {},
   "outputs": [
    {
     "data": {
      "text/plain": [
       "array([9.97925744e-01, 1.83734943e-16, 1.88916354e-16, 1.48362371e-16,\n",
       "       4.53128960e-16, 1.41164266e-16, 2.29429041e-17, 3.63707388e-05,\n",
       "       3.63707388e-05, 3.63707388e-05, 3.63707388e-05, 3.63707388e-05,\n",
       "       3.63707388e-05, 3.63707388e-05, 3.63707388e-05, 3.63707388e-05,\n",
       "       3.63707388e-05, 3.63707388e-05, 3.63707388e-05, 3.63707388e-05,\n",
       "       3.63707388e-05, 3.63707388e-05, 3.63707388e-05, 3.63707388e-05,\n",
       "       3.63707388e-05, 3.63707388e-05, 3.63707388e-05, 3.63707388e-05,\n",
       "       3.63707388e-05, 3.63707388e-05, 3.63707388e-05, 3.63707388e-05,\n",
       "       3.63707388e-05, 3.63707388e-05, 3.63707388e-05, 3.63707388e-05,\n",
       "       3.63707388e-05, 3.63707388e-05, 2.75768956e-05, 2.75768956e-05,\n",
       "       2.75768956e-05, 2.75768956e-05, 2.75768956e-05, 2.75768956e-05,\n",
       "       2.75768956e-05, 8.86841010e-17, 6.28103622e-05, 6.28103622e-05,\n",
       "       6.28103622e-05, 6.28103622e-05, 6.28103622e-05, 6.28103622e-05,\n",
       "       6.28103622e-05, 6.28103622e-05, 6.28103622e-05, 6.28103622e-05,\n",
       "       6.28103622e-05, 6.28103622e-05, 2.48504738e-16, 2.45457914e-17])"
      ]
     },
     "execution_count": 182,
     "metadata": {},
     "output_type": "execute_result"
    }
   ],
   "source": [
    "# Feature importances :\n",
    "(abs(lin_reg.coef_) / (abs(lin_reg.coef_).sum()))"
   ]
  },
  {
   "cell_type": "code",
   "execution_count": 183,
   "metadata": {},
   "outputs": [
    {
     "data": {
      "text/plain": [
       "(720000, 60)"
      ]
     },
     "execution_count": 183,
     "metadata": {},
     "output_type": "execute_result"
    }
   ],
   "source": [
    "df_train_transformed.shape"
   ]
  },
  {
   "cell_type": "code",
   "execution_count": 184,
   "metadata": {},
   "outputs": [
    {
     "data": {
      "text/plain": [
       "array([[0.10415503885842502, 0.04045633206911063, 0.18733106695105436,\n",
       "        ..., 0, 265, 7],\n",
       "       [-0.22228977458902074, 0.46839979077179467, 0.7400812450526321,\n",
       "        ..., 0, 231, 4],\n",
       "       [0.03161174698121484, -0.19729003387682495, 1.1764629646065092,\n",
       "        ..., 0, 295, 7],\n",
       "       ...,\n",
       "       [1.4099342926482081, 0.023474448787258087, 1.3089937090636126,\n",
       "        ..., 1, 175, 11],\n",
       "       [-0.5487345880364665, -1.0633660812513046, -1.0183754618903986,\n",
       "        ..., 1, 295, 4],\n",
       "       [-0.4399196502206512, 1.2971156949261986, 1.389805138610627, ...,\n",
       "        0, 232, 6]], dtype=object)"
      ]
     },
     "execution_count": 184,
     "metadata": {},
     "output_type": "execute_result"
    }
   ],
   "source": [
    "df_train_transformed"
   ]
  },
  {
   "cell_type": "code",
   "execution_count": 185,
   "metadata": {},
   "outputs": [
    {
     "data": {
      "application/vnd.jupyter.widget-view+json": {
       "model_id": "47b5c482524745ee9fd7e8b8c5f77e0f",
       "version_major": 2,
       "version_minor": 0
      },
      "text/plain": [
       "HBox(children=(IntProgress(value=0, max=73), HTML(value='')))"
      ]
     },
     "metadata": {},
     "output_type": "display_data"
    },
    {
     "name": "stdout",
     "output_type": "stream",
     "text": [
      "Calculating learning curve for 73 iterations\n"
     ]
    },
    {
     "data": {
      "image/png": "[encoded data removed]",
      "text/plain": [
       "<Figure size 1152x648 with 1 Axes>"
      ]
     },
     "metadata": {},
     "output_type": "display_data"
    }
   ],
   "source": [
    "plot_learning_curves(lin_reg, df_train_transformed, df_test_transformed, df_train[model1_label], df_test[model1_label], LEARNING_CURVE_STEP_SIZE)"
   ]
  },
  {
   "cell_type": "markdown",
   "metadata": {},
   "source": [
    "# Annex : unused code"
   ]
  },
  {
   "cell_type": "code",
   "execution_count": 166,
   "metadata": {},
   "outputs": [
    {
     "data": {
      "text/plain": [
       "'from sklearn import linear_model\\n\\nregressor = linear_model.SGDRegressor(max_iter=1000, tol=1e-3, penalty=None, eta0=0.1)\\nregressor.fit(df_transformed, df_train[model1_label])\\n'"
      ]
     },
     "execution_count": 166,
     "metadata": {},
     "output_type": "execute_result"
    }
   ],
   "source": [
    "'''from sklearn import linear_model\n",
    "\n",
    "regressor = linear_model.SGDRegressor(max_iter=1000, tol=1e-3, penalty=None, eta0=0.1)\n",
    "regressor.fit(df_transformed, df_train[model1_label])\n",
    "'''"
   ]
  },
  {
   "cell_type": "code",
   "execution_count": 167,
   "metadata": {},
   "outputs": [
    {
     "data": {
      "text/plain": [
       "'\\nfrom sklearn.svm import SVR\\n\\nsvm_reg = SVR(kernel=\"linear\")\\nsvm_reg.fit(df_train_transformed, df_train[model1_label])\\n'"
      ]
     },
     "execution_count": 167,
     "metadata": {},
     "output_type": "execute_result"
    }
   ],
   "source": [
    "'''\n",
    "from sklearn.svm import SVR\n",
    "\n",
    "svm_reg = SVR(kernel=\"linear\")\n",
    "svm_reg.fit(df_train_transformed, df_train[model1_label])\n",
    "'''"
   ]
  },
  {
   "cell_type": "code",
   "execution_count": 168,
   "metadata": {},
   "outputs": [
    {
     "data": {
      "text/plain": [
       "'\\ndf_test_predictions = svm_reg.predict(df_test_transformed)\\nsvm_mse = mean_squared_error(df_test[model1_label], df_test_predictions)\\nsvm_rmse = np.sqrt(svm_mse)\\nsvm_rmse\\n'"
      ]
     },
     "execution_count": 168,
     "metadata": {},
     "output_type": "execute_result"
    }
   ],
   "source": [
    "'''\n",
    "df_test_predictions = svm_reg.predict(df_test_transformed)\n",
    "svm_mse = mean_squared_error(df_test[model1_label], df_test_predictions)\n",
    "svm_rmse = np.sqrt(svm_mse)\n",
    "svm_rmse\n",
    "'''"
   ]
  },
  {
   "cell_type": "code",
   "execution_count": 169,
   "metadata": {},
   "outputs": [
    {
     "data": {
      "text/plain": [
       "'\\nfrom sklearn.model_selection import StratifiedShuffleSplit\\n\\nstratified_split_train = StratifiedShuffleSplit(n_splits=5, test_size=0.2, random_state=42)\\n'"
      ]
     },
     "execution_count": 169,
     "metadata": {},
     "output_type": "execute_result"
    }
   ],
   "source": [
    "'''\n",
    "from sklearn.model_selection import StratifiedShuffleSplit\n",
    "\n",
    "stratified_split_train = StratifiedShuffleSplit(n_splits=5, test_size=0.2, random_state=42)\n",
    "'''"
   ]
  },
  {
   "cell_type": "markdown",
   "metadata": {},
   "source": [
    "poly = PolynomialFeatures(degree=3)\n",
    "poly.fit(df_train_transformed)\n",
    "df_train_transformed = poly.transform(df_train_transformed)\n",
    "df_test_transformed = poly.transform(df_test_transformed)"
   ]
  },
  {
   "cell_type": "markdown",
   "metadata": {},
   "source": [
    "df_train_transformed.shape"
   ]
  },
  {
   "cell_type": "markdown",
   "metadata": {},
   "source": [
    "if (EXECUTE_INTERMEDIATE_MODELS == True):\n",
    "    lin_reg = LinearRegression()\n",
    "    lin_reg.fit(df_train_transformed, df_train[model1_label])"
   ]
  },
  {
   "cell_type": "markdown",
   "metadata": {},
   "source": [
    "if (EXECUTE_INTERMEDIATE_MODELS == True):\n",
    "    evaluate_model(lin_reg, df_test_transformed, df_test[model1_label])"
   ]
  },
  {
   "cell_type": "markdown",
   "metadata": {},
   "source": [
    "evaluate_model_MAE(lin_reg, df_test_transformed, df_test[model1_label])"
   ]
  },
  {
   "cell_type": "markdown",
   "metadata": {},
   "source": []
  },
  {
   "cell_type": "markdown",
   "metadata": {},
   "source": [
    "# This code is now in a transformer function :\n",
    "n_degrees = 3\n",
    "n_features = df_train_transformed.shape[1]\n",
    "\n",
    "nb_instances = df_train_transformed.shape[0]\n",
    "df_poly = np.empty((nb_instances, 0)) # Create empty array of nb_instances line and 0 features yet (we'll concatenate polynomial features to it)\n",
    "\n",
    "progbar = tqdm(range(n_features))\n",
    "print('Adding polynomial features')\n",
    "\n",
    "for feature_index in range(n_features):    \n",
    "    df_1feature = df_train_transformed[:,feature_index]  # Reshape \n",
    "    \n",
    "    for n_degree in range(n_degrees):\n",
    "        df_poly = np.c_[df_poly, np.power(df_1feature, n_degree + 1)]\n",
    "    \n",
    "    progbar.update(1)\n",
    "    \n",
    "# Add bias (intercept)\n",
    "df_poly = np.c_[df_poly, np.ones((len(df_poly), 1))]  # add x0 = 1 feature"
   ]
  },
  {
   "cell_type": "markdown",
   "metadata": {},
   "source": [
    "X_train, X_test, income_train, income_test = tts( other_colums, income_column,\n",
    "                         shuffle = True, stratify = Income_column)`"
   ]
  },
  {
   "cell_type": "markdown",
   "metadata": {},
   "source": [
    "df.shape"
   ]
  },
  {
   "cell_type": "markdown",
   "metadata": {},
   "source": [
    "df_labels_discrete = pd.cut(df['ARR_DELAY'], bins=50)"
   ]
  },
  {
   "cell_type": "markdown",
   "metadata": {
    "jupyter": {
     "outputs_hidden": true
    }
   },
   "source": [
    "df_labels_discrete.head(50)"
   ]
  },
  {
   "cell_type": "markdown",
   "metadata": {},
   "source": [
    "df[['ARR_DELAY']]"
   ]
  },
  {
   "cell_type": "markdown",
   "metadata": {
    "jupyter": {
     "outputs_hidden": true
    }
   },
   "source": [
    "display_freq_table(df, ['ARR_DELAY'])"
   ]
  },
  {
   "cell_type": "markdown",
   "metadata": {},
   "source": [
    "df['ARR_DELAY'].quantile([0,1])"
   ]
  },
  {
   "cell_type": "markdown",
   "metadata": {},
   "source": [
    "df.ARR_DELAY.quantile(.01)"
   ]
  },
  {
   "cell_type": "markdown",
   "metadata": {},
   "source": [
    "df[df['ARR_DELAY'] > df.ARR_DELAY.quantile(.99)]"
   ]
  },
  {
   "cell_type": "markdown",
   "metadata": {},
   "source": [
    "df.loc[(df['ARR_DELAY'] < df.ARR_DELAY.quantile(.01)) | (df['ARR_DELAY'] > df.ARR_DELAY.quantile(.99)) , :]"
   ]
  },
  {
   "cell_type": "markdown",
   "metadata": {},
   "source": [
    "((df['ARR_DELAY'] < df.ARR_DELAY.quantile(.01)) | (df['ARR_DELAY'] > df.ARR_DELAY.quantile(.99))).index"
   ]
  },
  {
   "cell_type": "markdown",
   "metadata": {},
   "source": [
    "((df['ARR_DELAY'] < df.ARR_DELAY.quantile(.01)) | (df['ARR_DELAY'] > df.ARR_DELAY.quantile(.99)))"
   ]
  },
  {
   "cell_type": "markdown",
   "metadata": {},
   "source": [
    "df.shape"
   ]
  },
  {
   "cell_type": "markdown",
   "metadata": {},
   "source": [
    "df_labels_discrete.shape"
   ]
  },
  {
   "cell_type": "markdown",
   "metadata": {},
   "source": [
    "from sklearn.model_selection import train_test_split\n",
    "X_train, X_test, y_train, y_test = train_test_split(df, df[model1_label], test_size=0.1, random_state=42, shuffle = True, stratify = df_labels_discrete)"
   ]
  },
  {
   "cell_type": "markdown",
   "metadata": {},
   "source": [
    "from sklearn.model_selection import train_test_split\n",
    "X_train, X_test = train_test_split(df, test_size=0.1, random_state=42, shuffle = True, stratify = df_labels_discrete)"
   ]
  },
  {
   "cell_type": "markdown",
   "metadata": {},
   "source": [
    "X_test"
   ]
  },
  {
   "cell_type": "markdown",
   "metadata": {},
   "source": [
    "split = StratifiedShuffleSplit(n_splits=1, test_size=0.1, random_state=42)\n",
    "for train_index, test_index in split.split(df, df_labels_discrete):\n",
    "    strat_train_set = df.loc[train_index]\n",
    "    strat_test_set = df.loc[test_index]"
   ]
  },
  {
   "cell_type": "markdown",
   "metadata": {},
   "source": [
    "df_labels_discrete.value_counts()"
   ]
  },
  {
   "cell_type": "markdown",
   "metadata": {},
   "source": [
    "df[['DEST']]"
   ]
  },
  {
   "cell_type": "markdown",
   "metadata": {},
   "source": [
    "df_train, df_test = train_test_split(df, test_size=0.1, random_state=42)"
   ]
  },
  {
   "cell_type": "markdown",
   "metadata": {},
   "source": [
    "poly = ColumnTransformer([\n",
    "                                ('poly', PolynomialFeatures(degree=2), [0, 1, 2, 3, 4, 5, 6])     \n",
    "                                ], remainder='passthrough', sparse_threshold=1)\n",
    "\n",
    "poly.fit(df_train_transformed, df_train[model1_label])"
   ]
  },
  {
   "cell_type": "markdown",
   "metadata": {},
   "source": [
    "'''\n",
    "#Too slow\n",
    "\n",
    "from sklearn.ensemble import RandomForestRegressor\n",
    "\n",
    "if (EXECUTE_INTERMEDIATE_MODELS == True):\n",
    "    random_reg = RandomForestRegressor(n_estimators=100, max_depth=None, random_state=42)\n",
    "    random_reg.fit(df_train_transformed, df_train[model1_label])\n",
    "    \n",
    "'''"
   ]
  },
  {
   "cell_type": "markdown",
   "metadata": {},
   "source": [
    "'''\n",
    "if (EXECUTE_INTERMEDIATE_MODELS == True):\n",
    "    df_test_predictions = random_reg.predict(df_test_transformed)\n",
    "    evaluate_model(random_reg, df_test_transformed, df_test[model1_label])\n",
    "'''"
   ]
  },
  {
   "cell_type": "markdown",
   "metadata": {},
   "source": [
    "'''\n",
    "# Commented out because memory error\n",
    "polynomial_reg = Pipeline([('poly', PolynomialFeatures(degree=3)),\n",
    "                          ('linear', LinearRegression(fit_intercept=False))])\n",
    "\n",
    "polynomial_reg.fit(df_train_transformed, df_train[model1_label])\n",
    "'''"
   ]
  }
 ],
 "metadata": {
  "kernelspec": {
   "display_name": "Python 3",
   "language": "python",
   "name": "python3"
  },
  "language_info": {
   "codemirror_mode": {
    "name": "ipython",
    "version": 3
   },
   "file_extension": ".py",
   "mimetype": "text/x-python",
   "name": "python",
   "nbconvert_exporter": "python",
   "pygments_lexer": "ipython3",
   "version": "3.7.4"
  }
 },
 "nbformat": 4,
 "nbformat_minor": 4
}
